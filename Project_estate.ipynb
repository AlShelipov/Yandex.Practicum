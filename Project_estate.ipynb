{
 "cells": [
  {
   "cell_type": "markdown",
   "metadata": {
    "toc": true
   },
   "source": [
    "<h1>Содержание<span class=\"tocSkip\"></span></h1>\n",
    "<div class=\"toc\"><ul class=\"toc-item\"><li><span><a href=\"#Комментарий-ревьюера\" data-toc-modified-id=\"Комментарий-ревьюера-1\"><span class=\"toc-item-num\">1&nbsp;&nbsp;</span><strong>Комментарий ревьюера</strong></a></span><ul class=\"toc-item\"><li><span><a href=\"#Краткое-резюме-по-ревью\" data-toc-modified-id=\"Краткое-резюме-по-ревью-1.1\"><span class=\"toc-item-num\">1.1&nbsp;&nbsp;</span><strong>Краткое резюме по ревью</strong></a></span></li><li><span><a href=\"#PS:\" data-toc-modified-id=\"PS:-1.2\"><span class=\"toc-item-num\">1.2&nbsp;&nbsp;</span><strong>PS:</strong></a></span><ul class=\"toc-item\"><li><span><a href=\"#-v2-Привет,-Валентин!\" data-toc-modified-id=\"-v2-Привет,-Валентин!-1.2.1\"><span class=\"toc-item-num\">1.2.1&nbsp;&nbsp;</span> v2 Привет, Валентин!</a></span></li></ul></li><li><span><a href=\"#Правила-оформления:\" data-toc-modified-id=\"Правила-оформления:-1.3\"><span class=\"toc-item-num\">1.3&nbsp;&nbsp;</span><strong>Правила оформления:</strong></a></span><ul class=\"toc-item\"><li><span><a href=\"#-❌-Комментарий-ревьюера-(красный)\" data-toc-modified-id=\"-❌-Комментарий-ревьюера-(красный)-1.3.1\"><span class=\"toc-item-num\">1.3.1&nbsp;&nbsp;</span> ❌ <font color=\"FireBrick\">Комментарий ревьюера (красный)</font></a></span></li><li><span><a href=\"#-⚠️-Комментарий-ревьюера-(желтый)\" data-toc-modified-id=\"-⚠️-Комментарий-ревьюера-(желтый)-1.3.2\"><span class=\"toc-item-num\">1.3.2&nbsp;&nbsp;</span> ⚠️ <font color=\"DarkGoldenRod\">Комментарий ревьюера (желтый)</font></a></span></li><li><span><a href=\"#-✔️-Комментарий-ревьюера-(зеленый)\" data-toc-modified-id=\"-✔️-Комментарий-ревьюера-(зеленый)-1.3.3\"><span class=\"toc-item-num\">1.3.3&nbsp;&nbsp;</span> ✔️ <font color=\"green\">Комментарий ревьюера (зеленый)</font></a></span><ul class=\"toc-item\"><li><span><a href=\"#🎓-Комментарий-от-студента-(синий)\" data-toc-modified-id=\"🎓-Комментарий-от-студента-(синий)-1.3.3.1\"><span class=\"toc-item-num\">1.3.3.1&nbsp;&nbsp;</span>🎓 <font color=\"SteelBlue\">Комментарий от студента (синий)</font></a></span></li></ul></li></ul></li></ul></li><li><span><a href=\"#Комментарий-ревьюера-v2\" data-toc-modified-id=\"Комментарий-ревьюера-v2-2\"><span class=\"toc-item-num\">2&nbsp;&nbsp;</span><strong>Комментарий ревьюера v2</strong></a></span><ul class=\"toc-item\"><li><span><a href=\"#Советы-ревьюера\" data-toc-modified-id=\"Советы-ревьюера-2.1\"><span class=\"toc-item-num\">2.1&nbsp;&nbsp;</span><strong>Советы ревьюера</strong></a></span></li><li><span><a href=\"#Краткое-резюме-по-ревью\" data-toc-modified-id=\"Краткое-резюме-по-ревью-2.2\"><span class=\"toc-item-num\">2.2&nbsp;&nbsp;</span><strong>Краткое резюме по ревью</strong></a></span></li></ul></li><li><span><a href=\"#Комментарий-ревьюера-v3\" data-toc-modified-id=\"Комментарий-ревьюера-v3-3\"><span class=\"toc-item-num\">3&nbsp;&nbsp;</span><strong>Комментарий ревьюера v3</strong></a></span><ul class=\"toc-item\"><li><span><a href=\"#Краткое-резюме-по-ревью\" data-toc-modified-id=\"Краткое-резюме-по-ревью-3.1\"><span class=\"toc-item-num\">3.1&nbsp;&nbsp;</span><strong>Краткое резюме по ревью</strong></a></span><ul class=\"toc-item\"><li><ul class=\"toc-item\"><li><span><a href=\"#-✔️-Комментарий-ревьюера-(зеленый)\" data-toc-modified-id=\"-✔️-Комментарий-ревьюера-(зеленый)-3.1.0.1\"><span class=\"toc-item-num\">3.1.0.1&nbsp;&nbsp;</span> ✔️ <font color=\"green\">Комментарий ревьюера (зеленый)</font></a></span></li></ul></li></ul></li></ul></li><li><span><a href=\"#Изучение-данных-из-файла\" data-toc-modified-id=\"Изучение-данных-из-файла-4\"><span class=\"toc-item-num\">4&nbsp;&nbsp;</span>Изучение данных из файла</a></span><ul class=\"toc-item\"><li><ul class=\"toc-item\"><li><ul class=\"toc-item\"><li><span><a href=\"#-⚠️-Комментарий-ревьюера-(желтый)\" data-toc-modified-id=\"-⚠️-Комментарий-ревьюера-(желтый)-4.0.0.1\"><span class=\"toc-item-num\">4.0.0.1&nbsp;&nbsp;</span> ⚠️ <font color=\"DarkGoldenRod\">Комментарий ревьюера (желтый)</font></a></span></li><li><span><a href=\"#-✔️-v2-Комментарий-ревьюера-(зеленый)\" data-toc-modified-id=\"-✔️-v2-Комментарий-ревьюера-(зеленый)-4.0.0.2\"><span class=\"toc-item-num\">4.0.0.2&nbsp;&nbsp;</span> ✔️ <font color=\"green\">v2 Комментарий ревьюера (зеленый)</font></a></span></li></ul></li></ul></li><li><span><a href=\"#Вывод\" data-toc-modified-id=\"Вывод-4.1\"><span class=\"toc-item-num\">4.1&nbsp;&nbsp;</span>Вывод</a></span><ul class=\"toc-item\"><li><ul class=\"toc-item\"><li><span><a href=\"#-✔️-Комментарий-ревьюера-(зеленый)\" data-toc-modified-id=\"-✔️-Комментарий-ревьюера-(зеленый)-4.1.0.1\"><span class=\"toc-item-num\">4.1.0.1&nbsp;&nbsp;</span> ✔️ <font color=\"green\">Комментарий ревьюера (зеленый)</font></a></span></li></ul></li></ul></li></ul></li><li><span><a href=\"#Предобработка-данных\" data-toc-modified-id=\"Предобработка-данных-5\"><span class=\"toc-item-num\">5&nbsp;&nbsp;</span>Предобработка данных</a></span><ul class=\"toc-item\"><li><ul class=\"toc-item\"><li><ul class=\"toc-item\"><li><span><a href=\"#-✔️-Комментарий-ревьюера-(зеленый)\" data-toc-modified-id=\"-✔️-Комментарий-ревьюера-(зеленый)-5.0.0.1\"><span class=\"toc-item-num\">5.0.0.1&nbsp;&nbsp;</span> ✔️ <font color=\"green\">Комментарий ревьюера (зеленый)</font></a></span></li><li><span><a href=\"#-⚠️-Комментарий-ревьюера-(желтый)\" data-toc-modified-id=\"-⚠️-Комментарий-ревьюера-(желтый)-5.0.0.2\"><span class=\"toc-item-num\">5.0.0.2&nbsp;&nbsp;</span> ⚠️ <font color=\"DarkGoldenRod\">Комментарий ревьюера (желтый)</font></a></span></li><li><span><a href=\"#-⚠️-v2-Комментарий-ревьюера-(желтый)\" data-toc-modified-id=\"-⚠️-v2-Комментарий-ревьюера-(желтый)-5.0.0.3\"><span class=\"toc-item-num\">5.0.0.3&nbsp;&nbsp;</span> ⚠️ <font color=\"DarkGoldenRod\">v2 Комментарий ревьюера (желтый)</font></a></span></li><li><span><a href=\"#-✔️-Комментарий-ревьюера-(зеленый)\" data-toc-modified-id=\"-✔️-Комментарий-ревьюера-(зеленый)-5.0.0.4\"><span class=\"toc-item-num\">5.0.0.4&nbsp;&nbsp;</span> ✔️ <font color=\"green\">Комментарий ревьюера (зеленый)</font></a></span></li></ul></li></ul></li></ul></li><li><span><a href=\"#Расчёты-и-добавление-результатов-в-таблицу\" data-toc-modified-id=\"Расчёты-и-добавление-результатов-в-таблицу-6\"><span class=\"toc-item-num\">6&nbsp;&nbsp;</span>Расчёты и добавление результатов в таблицу</a></span><ul class=\"toc-item\"><li><ul class=\"toc-item\"><li><ul class=\"toc-item\"><li><span><a href=\"#-✔️-Комментарий-ревьюера-(зеленый)\" data-toc-modified-id=\"-✔️-Комментарий-ревьюера-(зеленый)-6.0.0.1\"><span class=\"toc-item-num\">6.0.0.1&nbsp;&nbsp;</span> ✔️ <font color=\"green\">Комментарий ревьюера (зеленый)</font></a></span></li></ul></li></ul></li></ul></li><li><span><a href=\"#Исследовательский-анализ-данных\" data-toc-modified-id=\"Исследовательский-анализ-данных-7\"><span class=\"toc-item-num\">7&nbsp;&nbsp;</span>Исследовательский анализ данных</a></span><ul class=\"toc-item\"><li><span><a href=\"#Анализ-площади,-цены,-числа-комнат,-высоты-потолков.\" data-toc-modified-id=\"Анализ-площади,-цены,-числа-комнат,-высоты-потолков.-7.1\"><span class=\"toc-item-num\">7.1&nbsp;&nbsp;</span>Анализ площади, цены, числа комнат, высоты потолков.</a></span><ul class=\"toc-item\"><li><ul class=\"toc-item\"><li><span><a href=\"#-✔️-Комментарий-ревьюера-(зеленый)\" data-toc-modified-id=\"-✔️-Комментарий-ревьюера-(зеленый)-7.1.0.1\"><span class=\"toc-item-num\">7.1.0.1&nbsp;&nbsp;</span> ✔️ <font color=\"green\">Комментарий ревьюера (зеленый)</font></a></span></li></ul></li></ul></li><li><span><a href=\"#Время-продажи-квартиры\" data-toc-modified-id=\"Время-продажи-квартиры-7.2\"><span class=\"toc-item-num\">7.2&nbsp;&nbsp;</span>Время продажи квартиры</a></span><ul class=\"toc-item\"><li><ul class=\"toc-item\"><li><span><a href=\"#-✔️-Комментарий-ревьюера-(зеленый)\" data-toc-modified-id=\"-✔️-Комментарий-ревьюера-(зеленый)-7.2.0.1\"><span class=\"toc-item-num\">7.2.0.1&nbsp;&nbsp;</span> ✔️ <font color=\"green\">Комментарий ревьюера (зеленый)</font></a></span></li></ul></li></ul></li><li><span><a href=\"#Чистим-от-выбросов,-которые-мешают-анализу\" data-toc-modified-id=\"Чистим-от-выбросов,-которые-мешают-анализу-7.3\"><span class=\"toc-item-num\">7.3&nbsp;&nbsp;</span>Чистим от выбросов, которые мешают анализу</a></span></li><li><span><a href=\"#Посмотрим,-зависит-ли-цена-от-площади,-числа-комнат,-удалённости-от-центра\" data-toc-modified-id=\"Посмотрим,-зависит-ли-цена-от-площади,-числа-комнат,-удалённости-от-центра-7.4\"><span class=\"toc-item-num\">7.4&nbsp;&nbsp;</span>Посмотрим, зависит ли цена от площади, числа комнат, удалённости от центра</a></span><ul class=\"toc-item\"><li><ul class=\"toc-item\"><li><span><a href=\"#-❌-Комментарий-ревьюера-(красный)\" data-toc-modified-id=\"-❌-Комментарий-ревьюера-(красный)-7.4.0.1\"><span class=\"toc-item-num\">7.4.0.1&nbsp;&nbsp;</span> ❌ <font color=\"FireBrick\">Комментарий ревьюера (красный)</font></a></span></li><li><span><a href=\"#-✔️-v2-Комментарий-ревьюера-(зеленый)\" data-toc-modified-id=\"-✔️-v2-Комментарий-ревьюера-(зеленый)-7.4.0.2\"><span class=\"toc-item-num\">7.4.0.2&nbsp;&nbsp;</span> ✔️ <font color=\"green\">v2 Комментарий ревьюера (зеленый)</font></a></span></li></ul></li></ul></li><li><span><a href=\"#Посмотрим-на-населенные-пункты-с-самым-дорогим-жильём\" data-toc-modified-id=\"Посмотрим-на-населенные-пункты-с-самым-дорогим-жильём-7.5\"><span class=\"toc-item-num\">7.5&nbsp;&nbsp;</span>Посмотрим на населенные пункты с самым дорогим жильём</a></span><ul class=\"toc-item\"><li><ul class=\"toc-item\"><li><span><a href=\"#-❌-Комментарий-ревьюера-(красный)\" data-toc-modified-id=\"-❌-Комментарий-ревьюера-(красный)-7.5.0.1\"><span class=\"toc-item-num\">7.5.0.1&nbsp;&nbsp;</span> ❌ <font color=\"FireBrick\">Комментарий ревьюера (красный)</font></a></span></li><li><span><a href=\"#-✔️-v2-Комментарий-ревьюера-(зеленый)\" data-toc-modified-id=\"-✔️-v2-Комментарий-ревьюера-(зеленый)-7.5.0.2\"><span class=\"toc-item-num\">7.5.0.2&nbsp;&nbsp;</span> ✔️ <font color=\"green\">v2 Комментарий ревьюера (зеленый)</font></a></span></li></ul></li></ul></li><li><span><a href=\"#Теперь-разберёмся-с-центром-Питера.\" data-toc-modified-id=\"Теперь-разберёмся-с-центром-Питера.-7.6\"><span class=\"toc-item-num\">7.6&nbsp;&nbsp;</span>Теперь разберёмся с центром Питера.</a></span><ul class=\"toc-item\"><li><ul class=\"toc-item\"><li><span><a href=\"#-✔️-Комментарий-ревьюера-(зеленый)\" data-toc-modified-id=\"-✔️-Комментарий-ревьюера-(зеленый)-7.6.0.1\"><span class=\"toc-item-num\">7.6.0.1&nbsp;&nbsp;</span> ✔️ <font color=\"green\">Комментарий ревьюера (зеленый)</font></a></span></li><li><span><a href=\"#-✔️-Комментарий-ревьюера-(зеленый)\" data-toc-modified-id=\"-✔️-Комментарий-ревьюера-(зеленый)-7.6.0.2\"><span class=\"toc-item-num\">7.6.0.2&nbsp;&nbsp;</span> ✔️ <font color=\"green\">Комментарий ревьюера (зеленый)</font></a></span></li><li><span><a href=\"#-❌-Комментарий-ревьюера-(красный)\" data-toc-modified-id=\"-❌-Комментарий-ревьюера-(красный)-7.6.0.3\"><span class=\"toc-item-num\">7.6.0.3&nbsp;&nbsp;</span> ❌ <font color=\"FireBrick\">Комментарий ревьюера (красный)</font></a></span></li><li><span><a href=\"#-❌-v2-Комментарий-ревьюера-(красный)\" data-toc-modified-id=\"-❌-v2-Комментарий-ревьюера-(красный)-7.6.0.4\"><span class=\"toc-item-num\">7.6.0.4&nbsp;&nbsp;</span> ❌ <font color=\"FireBrick\">v2 Комментарий ревьюера (красный)</font></a></span></li><li><span><a href=\"#-✔️-v3-Комментарий-ревьюера-(зеленый)\" data-toc-modified-id=\"-✔️-v3-Комментарий-ревьюера-(зеленый)-7.6.0.5\"><span class=\"toc-item-num\">7.6.0.5&nbsp;&nbsp;</span> ✔️ <font color=\"green\">v3 Комментарий ревьюера (зеленый)</font></a></span></li></ul></li></ul></li></ul></li><li><span><a href=\"#Общий-вывод\" data-toc-modified-id=\"Общий-вывод-8\"><span class=\"toc-item-num\">8&nbsp;&nbsp;</span>Общий вывод</a></span><ul class=\"toc-item\"><li><ul class=\"toc-item\"><li><ul class=\"toc-item\"><li><span><a href=\"#-❌-Комментарий-ревьюера-(красный)\" data-toc-modified-id=\"-❌-Комментарий-ревьюера-(красный)-8.0.0.1\"><span class=\"toc-item-num\">8.0.0.1&nbsp;&nbsp;</span> ❌ <font color=\"FireBrick\">Комментарий ревьюера (красный)</font></a></span></li><li><span><a href=\"#-⚠️-v2-Комментарий-ревьюера-(желтый)\" data-toc-modified-id=\"-⚠️-v2-Комментарий-ревьюера-(желтый)-8.0.0.2\"><span class=\"toc-item-num\">8.0.0.2&nbsp;&nbsp;</span> ⚠️ <font color=\"DarkGoldenRod\">v2 Комментарий ревьюера (желтый)</font></a></span></li><li><span><a href=\"#-✔️-v3-Комментарий-ревьюера-(зеленый)\" data-toc-modified-id=\"-✔️-v3-Комментарий-ревьюера-(зеленый)-8.0.0.3\"><span class=\"toc-item-num\">8.0.0.3&nbsp;&nbsp;</span> ✔️ <font color=\"green\">v3 Комментарий ревьюера (зеленый)</font></a></span></li></ul></li></ul></li></ul></li><li><span><a href=\"#Чек-лист-готовности-проекта\" data-toc-modified-id=\"Чек-лист-готовности-проекта-9\"><span class=\"toc-item-num\">9&nbsp;&nbsp;</span>Чек-лист готовности проекта</a></span><ul class=\"toc-item\"><li><ul class=\"toc-item\"><li><ul class=\"toc-item\"><li><span><a href=\"#-✔️-Комментарий-ревьюера-(зеленый)\" data-toc-modified-id=\"-✔️-Комментарий-ревьюера-(зеленый)-9.0.0.1\"><span class=\"toc-item-num\">9.0.0.1&nbsp;&nbsp;</span> ✔️ <font color=\"green\">Комментарий ревьюера (зеленый)</font></a></span></li></ul></li></ul></li></ul></li></ul></div>"
   ]
  },
  {
   "cell_type": "markdown",
   "metadata": {},
   "source": [
    "## **Комментарий ревьюера**\n",
    "\n",
    "Привет, Александр 👋\n",
    "\n",
    "Меня зовут Кузьмич Валентин, и я буду проверять твой проект. Предлагаю сразу договориться общаться на «ты», если для тебя это не уместно, то дай, пожалуйста, знать, будем общаться на «вы».\n",
    "\n",
    "### **Краткое резюме по ревью**\n",
    "\n",
    "<div style=\"border-radius: 15px; box-shadow: 2px 2px 4px; border: 1px solid; background:Gainsboro; padding: 20px\">\n",
    "\n",
    "Видны твои старания при работе над данным проектом. Большинство основных этапов в работе сделано хорошо:\n",
    "- есть много сильных и интересных алгоритмов 🤩\n",
    "- детально изучены многие тонкости данных\n",
    "- здорово сделана предобработка данных\n",
    "- качественно исследованы данные\n",
    "- построено много интересных графиков\n",
    "- сделано много верных промежуточных выводов, основанных на полученных данных\n",
    "\n",
    "Твоего внимания требует:\n",
    "- небольшое исправление графиков\n",
    "- пересмотр выводов\n",
    "\n",
    "Я описал замечания в комментариях, которые помечены цветом(красным, желтым), после их доработки я смогу принять работу.\n",
    "    \n",
    "Спасибо тебе за твой труд! Я на все 100% уверен, что у тебя все получится, и с нетерпением буду ждать твою работу на повторное ревью 😉\n",
    "\n",
    "</div>\n",
    "\n",
    "### **PS:**\n",
    "\n",
    "Я бы очень хотел помочь тебе в достижении финальной цели, поэтому будет здорово, если ты поделишься со мной — для чего тебе нужен данный курс?\n",
    "\n",
    "Если ты не против, то опиши, пожалуйста, свои цели в ячейке ниже, оформленной как «Комментарий от студента», я постараюсь дать тебе максимум полезных советов в достижении твоих целей **в рамках данного проекта** 😃\n",
    "\n",
    "<div class=\"alert alert-info\"; style=\"border-left: 7px solid SteelBlue\">\n",
    "    <h4> v2 Привет, Валентин!</h4>\n",
    "    \n",
    "У меня за плечами ИТ-образование. Но я работал только в смежной сфере информационной безопасности. Причём больше по организационной части. Работал в госорганах (гостайна, информация \"для служебного пользования\", персональные данные) и банке.\n",
    "    \n",
    "- На госслужбе разрабатывал нормативные требования для нижестоящих организаций и участвовал в проверках этих организаций. Плюс администрирование АРМ для работы с гостайной.\n",
    "    \n",
    "- В банке проверял работу ИТ-подразделения в нашем и других филиалах на предмет правильности настройки сетей, рабочих мест пользователей и банковских систем. Командировки были по всему Дальнему Востоку.\n",
    "    \n",
    "Потом на долгое время отошёл в сторону от ИТ и совсем с этим не пересекался. Сейчас задумался по переезде за границу, но по моей нынешней профессии это сделать очень сложно, поэтому я решил восстановить ИТ-навыки и искать работу  как айтишник. Английский на среднем уровне у меня есть, но допольнительно занимаюсь с репетитором, чтобы повысить качество владения языком.\n",
    "    \n",
    "Аналитика мне интереснее других направлений из-за аналитического склада ума. Мне интересно именно искать закономерности в различных системах для улучшения их работы. Разработка, тестирования или веб-дизайн точно не моё. Мне там будет скучно. А вот крутить разные данные для дальнейшего планирования рабты мне нравится.\n",
    "    \n",
    "Уже сейчас просматриваю вакансии по профессии \"Аналитик данных\". Вдруг найду что-то интересное уже на этапе учёбы. В том числе наткнулся и на вакансию Яндекса по направлению Финтех. Так что если замолвишь словечко, я буду только за))) Всегда лучше точно знать для какой конкретной работы я учусь, чем потом пытаться пристроиться хоть куда-нибудь лишь бы взяли.\n",
    "  \n",
    "\n",
    "</div>\n",
    "\n",
    "### **Правила оформления:**\n",
    "\n",
    "По ходу тетрадки ты найдешь комментарии к проекту, они будут в отдельных ячейках Markdown с заголовком «Комментарий ревьюера». Постарайся учесть эти комментарии для дальнейших проектов. Я использую заголовки в комментариях, они изменят твое оглавление. Но тебе будет удобно перемещаться от комментария к комментарию. А перед перемещением проекта в портфолио просто уберешь данные комментарии.\n",
    "\n",
    "Пожалуйста, **не перемещай, не изменяй и не удаляй мои комментарии**. Всё это поможет выполнить повторную проверку твоего проекта быстрее.\n",
    "\n",
    "Я буду красить комментарии цветом:\n",
    "\n",
    "<div class=\"alert alert-danger\"; style=\"border-left: 7px solid FireBrick\">\n",
    "<h4> ❌ <font color=\"FireBrick\">Комментарий ревьюера (красный)</font></h4>\n",
    "\n",
    "Такой комментарий нужно исправить обязательно, он критически влияет на удачное выполнение проекта.\n",
    "\n",
    "Также жду от тебя комментарии, где вкратце опишешь изменения, которые были внесены.\n",
    "</div>\n",
    "\n",
    "<div class=\"alert alert-warning\"; style=\"border-left: 7px solid Gold\">\n",
    "<h4> ⚠️ <font color=\"DarkGoldenRod\">Комментарий ревьюера (желтый)</font></h4>\n",
    "\n",
    "Такой комментарий является рекомендацией или советом. Можешь использовать их на своё усмотрение.\n",
    "    \n",
    "В случае изменений кода, опиши, пожалуйста, вкратце то, что изменилось. Если изменений не было, то просто опиши свои мысли на эту тему.\n",
    "</div>\n",
    "\n",
    "<div class=\"alert alert-success\"; style=\"border-left: 7px solid green\">\n",
    "<h4> ✔️ <font color=\"green\">Комментарий ревьюера (зеленый)</font></h4>\n",
    "\n",
    "Такой комментарий говорит о том, что было сделано что-то качественное и правильное 😃\n",
    "    \n",
    "Я не буду ждать твоего комментария, но буду ему очень рад 🤗\n",
    "</div>\n",
    "\n",
    "Чтобы мы были на одной волне, рекомендую общаться в том же стиле 😊 Твои ответы на мои комментарии будут подкрашиваться в синий цвет.\n",
    "\n",
    "Ниже я оформил образец для твоего удобства, тебе остается только добавить после моего комментария ячейку с типом **Markdown**, скопировать туда код(чтобы увидеть код дважды, кликни на ячейку) из образца и написать свои мысли по поводу комментария."
   ]
  },
  {
   "cell_type": "markdown",
   "metadata": {},
   "source": [
    "<div class=\"alert alert-info\"; style=\"border-left: 7px solid SteelBlue\">\n",
    "<h5>🎓 <font color=\"SteelBlue\">Комментарий от студента (синий)</font></h5>    \n",
    "\n",
    "Напиши здесь свои мысли и идеи по поводу комментария ревьюера.\n",
    "\n",
    "</div>"
   ]
  },
  {
   "cell_type": "markdown",
   "metadata": {},
   "source": [
    "## **Комментарий ревьюера v2**\n",
    "\n",
    "### **Советы ревьюера**\n",
    "\n",
    "Рад, что тобою был выбран данный курс, уверен, он поможет тебе в достижении твоих целей.\n",
    "\n",
    "Чтобы было проще начать карьеру пройди курс проф-ориентации в Я.Практикуме, у тебя он будет бесплатно, поможет грамотно составить резюме и сопроводительное, это тебе сильно поможет. И не бойся, если сразу не все получится, искать первую работу 3-4 месяца нормально)\n",
    "\n",
    "### **Краткое резюме по ревью**\n",
    "<div style=\"border-radius: 15px; box-shadow: 2px 2px 4px; border: 1px solid; background:Gainsboro; padding: 20px\">\n",
    "\n",
    "Молодец, исправлено:\n",
    "- небольшое исправление графиков\n",
    "- пересмотр выводов\n",
    "\n",
    "Твоего внимания требует:\n",
    "- небольшое исправление графиков\n",
    "\n",
    "Буду ждать твою работу на повторное ревью 😉\n",
    "\n",
    "</div>"
   ]
  },
  {
   "cell_type": "markdown",
   "metadata": {},
   "source": [
    "## **Комментарий ревьюера v3**\n",
    "\n",
    "### **Краткое резюме по ревью**\n",
    "<div style=\"border-radius: 15px; box-shadow: 2px 2px 4px; border: 1px solid; background:Gainsboro; padding: 20px\">\n",
    "\n",
    "Молодец, исправлено:\n",
    "- небольшое исправление графиков\n",
    "\n",
    "Спасибо тебе за твой труд! Я готов принять работу. Успехов в дальнейшем обучении!\n",
    "\n",
    "</div>"
   ]
  },
  {
   "cell_type": "markdown",
   "metadata": {},
   "source": [
    "# Исследование объявлений о продаже квартир\n",
    "\n",
    "В вашем распоряжении данные сервиса Яндекc Недвижимость — архив объявлений о продаже квартир в Санкт-Петербурге и соседних населённых пунктах за несколько лет. Нужно научиться определять рыночную стоимость объектов недвижимости. Ваша задача — установить параметры. Это позволит построить автоматизированную систему: она отследит аномалии и мошенническую деятельность. \n",
    "\n",
    "По каждой квартире на продажу доступны два вида данных. Первые вписаны пользователем, вторые получены автоматически на основе картографических данных. Например, расстояние до центра, аэропорта, ближайшего парка и водоёма. "
   ]
  },
  {
   "cell_type": "markdown",
   "metadata": {},
   "source": [
    "<div class=\"alert alert-success\"; style=\"border-left: 7px solid green\">\n",
    "<h5> ✔️ <font color=\"green\">Комментарий ревьюера (зеленый)</font></h5>\n",
    "\n",
    "Спасибо, что есть оглавление в плагине toc. Теперь по проекту удобно перемещаться.\n",
    "    \n",
    "Здорово, что во вступлении к твоему проекту есть\n",
    "\n",
    "- заголовок,\n",
    "\n",
    "- краткое описание проекта,\n",
    "\n",
    "- цель проекта\n",
    "\n",
    "Вступление станет лучше, если ты добавишь в него:\n",
    "\n",
    "- описание данных,\n",
    "\n",
    "- план работы\n",
    "\n",
    "Тогда получатель отчета сможет быстрей его понять.\n",
    "\n",
    "</div>"
   ]
  },
  {
   "cell_type": "markdown",
   "metadata": {},
   "source": [
    "## Изучение данных из файла"
   ]
  },
  {
   "cell_type": "markdown",
   "metadata": {},
   "source": [
    "Извлечём данные, посмотрим начало таблицы и общую информацию."
   ]
  },
  {
   "cell_type": "code",
   "execution_count": 1,
   "metadata": {},
   "outputs": [],
   "source": [
    "import pandas as pd\n",
    "import numpy as np\n",
    "import matplotlib.pyplot as plt\n",
    "from datetime import datetime\n"
   ]
  },
  {
   "cell_type": "code",
   "execution_count": 2,
   "metadata": {},
   "outputs": [
    {
     "data": {
      "text/html": [
       "<div>\n",
       "<style scoped>\n",
       "    .dataframe tbody tr th:only-of-type {\n",
       "        vertical-align: middle;\n",
       "    }\n",
       "\n",
       "    .dataframe tbody tr th {\n",
       "        vertical-align: top;\n",
       "    }\n",
       "\n",
       "    .dataframe thead th {\n",
       "        text-align: right;\n",
       "    }\n",
       "</style>\n",
       "<table border=\"1\" class=\"dataframe\">\n",
       "  <thead>\n",
       "    <tr style=\"text-align: right;\">\n",
       "      <th></th>\n",
       "      <th>total_images</th>\n",
       "      <th>last_price</th>\n",
       "      <th>total_area</th>\n",
       "      <th>first_day_exposition</th>\n",
       "      <th>rooms</th>\n",
       "      <th>ceiling_height</th>\n",
       "      <th>floors_total</th>\n",
       "      <th>living_area</th>\n",
       "      <th>floor</th>\n",
       "      <th>is_apartment</th>\n",
       "      <th>studio</th>\n",
       "      <th>open_plan</th>\n",
       "      <th>kitchen_area</th>\n",
       "      <th>balcony</th>\n",
       "      <th>locality_name</th>\n",
       "      <th>airports_nearest</th>\n",
       "      <th>cityCenters_nearest</th>\n",
       "      <th>parks_around3000</th>\n",
       "      <th>parks_nearest</th>\n",
       "      <th>ponds_around3000</th>\n",
       "      <th>ponds_nearest</th>\n",
       "      <th>days_exposition</th>\n",
       "    </tr>\n",
       "  </thead>\n",
       "  <tbody>\n",
       "    <tr>\n",
       "      <th>0</th>\n",
       "      <td>20</td>\n",
       "      <td>13000000.0</td>\n",
       "      <td>108.00</td>\n",
       "      <td>2019-03-07T00:00:00</td>\n",
       "      <td>3</td>\n",
       "      <td>2.70</td>\n",
       "      <td>16.0</td>\n",
       "      <td>51.00</td>\n",
       "      <td>8</td>\n",
       "      <td>NaN</td>\n",
       "      <td>False</td>\n",
       "      <td>False</td>\n",
       "      <td>25.00</td>\n",
       "      <td>NaN</td>\n",
       "      <td>Санкт-Петербург</td>\n",
       "      <td>18863.0</td>\n",
       "      <td>16028.0</td>\n",
       "      <td>1.0</td>\n",
       "      <td>482.0</td>\n",
       "      <td>2.0</td>\n",
       "      <td>755.0</td>\n",
       "      <td>NaN</td>\n",
       "    </tr>\n",
       "    <tr>\n",
       "      <th>1</th>\n",
       "      <td>7</td>\n",
       "      <td>3350000.0</td>\n",
       "      <td>40.40</td>\n",
       "      <td>2018-12-04T00:00:00</td>\n",
       "      <td>1</td>\n",
       "      <td>NaN</td>\n",
       "      <td>11.0</td>\n",
       "      <td>18.60</td>\n",
       "      <td>1</td>\n",
       "      <td>NaN</td>\n",
       "      <td>False</td>\n",
       "      <td>False</td>\n",
       "      <td>11.00</td>\n",
       "      <td>2.0</td>\n",
       "      <td>посёлок Шушары</td>\n",
       "      <td>12817.0</td>\n",
       "      <td>18603.0</td>\n",
       "      <td>0.0</td>\n",
       "      <td>NaN</td>\n",
       "      <td>0.0</td>\n",
       "      <td>NaN</td>\n",
       "      <td>81.0</td>\n",
       "    </tr>\n",
       "    <tr>\n",
       "      <th>2</th>\n",
       "      <td>10</td>\n",
       "      <td>5196000.0</td>\n",
       "      <td>56.00</td>\n",
       "      <td>2015-08-20T00:00:00</td>\n",
       "      <td>2</td>\n",
       "      <td>NaN</td>\n",
       "      <td>5.0</td>\n",
       "      <td>34.30</td>\n",
       "      <td>4</td>\n",
       "      <td>NaN</td>\n",
       "      <td>False</td>\n",
       "      <td>False</td>\n",
       "      <td>8.30</td>\n",
       "      <td>0.0</td>\n",
       "      <td>Санкт-Петербург</td>\n",
       "      <td>21741.0</td>\n",
       "      <td>13933.0</td>\n",
       "      <td>1.0</td>\n",
       "      <td>90.0</td>\n",
       "      <td>2.0</td>\n",
       "      <td>574.0</td>\n",
       "      <td>558.0</td>\n",
       "    </tr>\n",
       "    <tr>\n",
       "      <th>3</th>\n",
       "      <td>0</td>\n",
       "      <td>64900000.0</td>\n",
       "      <td>159.00</td>\n",
       "      <td>2015-07-24T00:00:00</td>\n",
       "      <td>3</td>\n",
       "      <td>NaN</td>\n",
       "      <td>14.0</td>\n",
       "      <td>NaN</td>\n",
       "      <td>9</td>\n",
       "      <td>NaN</td>\n",
       "      <td>False</td>\n",
       "      <td>False</td>\n",
       "      <td>NaN</td>\n",
       "      <td>0.0</td>\n",
       "      <td>Санкт-Петербург</td>\n",
       "      <td>28098.0</td>\n",
       "      <td>6800.0</td>\n",
       "      <td>2.0</td>\n",
       "      <td>84.0</td>\n",
       "      <td>3.0</td>\n",
       "      <td>234.0</td>\n",
       "      <td>424.0</td>\n",
       "    </tr>\n",
       "    <tr>\n",
       "      <th>4</th>\n",
       "      <td>2</td>\n",
       "      <td>10000000.0</td>\n",
       "      <td>100.00</td>\n",
       "      <td>2018-06-19T00:00:00</td>\n",
       "      <td>2</td>\n",
       "      <td>3.03</td>\n",
       "      <td>14.0</td>\n",
       "      <td>32.00</td>\n",
       "      <td>13</td>\n",
       "      <td>NaN</td>\n",
       "      <td>False</td>\n",
       "      <td>False</td>\n",
       "      <td>41.00</td>\n",
       "      <td>NaN</td>\n",
       "      <td>Санкт-Петербург</td>\n",
       "      <td>31856.0</td>\n",
       "      <td>8098.0</td>\n",
       "      <td>2.0</td>\n",
       "      <td>112.0</td>\n",
       "      <td>1.0</td>\n",
       "      <td>48.0</td>\n",
       "      <td>121.0</td>\n",
       "    </tr>\n",
       "    <tr>\n",
       "      <th>5</th>\n",
       "      <td>10</td>\n",
       "      <td>2890000.0</td>\n",
       "      <td>30.40</td>\n",
       "      <td>2018-09-10T00:00:00</td>\n",
       "      <td>1</td>\n",
       "      <td>NaN</td>\n",
       "      <td>12.0</td>\n",
       "      <td>14.40</td>\n",
       "      <td>5</td>\n",
       "      <td>NaN</td>\n",
       "      <td>False</td>\n",
       "      <td>False</td>\n",
       "      <td>9.10</td>\n",
       "      <td>NaN</td>\n",
       "      <td>городской посёлок Янино-1</td>\n",
       "      <td>NaN</td>\n",
       "      <td>NaN</td>\n",
       "      <td>NaN</td>\n",
       "      <td>NaN</td>\n",
       "      <td>NaN</td>\n",
       "      <td>NaN</td>\n",
       "      <td>55.0</td>\n",
       "    </tr>\n",
       "    <tr>\n",
       "      <th>6</th>\n",
       "      <td>6</td>\n",
       "      <td>3700000.0</td>\n",
       "      <td>37.30</td>\n",
       "      <td>2017-11-02T00:00:00</td>\n",
       "      <td>1</td>\n",
       "      <td>NaN</td>\n",
       "      <td>26.0</td>\n",
       "      <td>10.60</td>\n",
       "      <td>6</td>\n",
       "      <td>NaN</td>\n",
       "      <td>False</td>\n",
       "      <td>False</td>\n",
       "      <td>14.40</td>\n",
       "      <td>1.0</td>\n",
       "      <td>посёлок Парголово</td>\n",
       "      <td>52996.0</td>\n",
       "      <td>19143.0</td>\n",
       "      <td>0.0</td>\n",
       "      <td>NaN</td>\n",
       "      <td>0.0</td>\n",
       "      <td>NaN</td>\n",
       "      <td>155.0</td>\n",
       "    </tr>\n",
       "    <tr>\n",
       "      <th>7</th>\n",
       "      <td>5</td>\n",
       "      <td>7915000.0</td>\n",
       "      <td>71.60</td>\n",
       "      <td>2019-04-18T00:00:00</td>\n",
       "      <td>2</td>\n",
       "      <td>NaN</td>\n",
       "      <td>24.0</td>\n",
       "      <td>NaN</td>\n",
       "      <td>22</td>\n",
       "      <td>NaN</td>\n",
       "      <td>False</td>\n",
       "      <td>False</td>\n",
       "      <td>18.90</td>\n",
       "      <td>2.0</td>\n",
       "      <td>Санкт-Петербург</td>\n",
       "      <td>23982.0</td>\n",
       "      <td>11634.0</td>\n",
       "      <td>0.0</td>\n",
       "      <td>NaN</td>\n",
       "      <td>0.0</td>\n",
       "      <td>NaN</td>\n",
       "      <td>NaN</td>\n",
       "    </tr>\n",
       "    <tr>\n",
       "      <th>8</th>\n",
       "      <td>20</td>\n",
       "      <td>2900000.0</td>\n",
       "      <td>33.16</td>\n",
       "      <td>2018-05-23T00:00:00</td>\n",
       "      <td>1</td>\n",
       "      <td>NaN</td>\n",
       "      <td>27.0</td>\n",
       "      <td>15.43</td>\n",
       "      <td>26</td>\n",
       "      <td>NaN</td>\n",
       "      <td>False</td>\n",
       "      <td>False</td>\n",
       "      <td>8.81</td>\n",
       "      <td>NaN</td>\n",
       "      <td>посёлок Мурино</td>\n",
       "      <td>NaN</td>\n",
       "      <td>NaN</td>\n",
       "      <td>NaN</td>\n",
       "      <td>NaN</td>\n",
       "      <td>NaN</td>\n",
       "      <td>NaN</td>\n",
       "      <td>189.0</td>\n",
       "    </tr>\n",
       "    <tr>\n",
       "      <th>9</th>\n",
       "      <td>18</td>\n",
       "      <td>5400000.0</td>\n",
       "      <td>61.00</td>\n",
       "      <td>2017-02-26T00:00:00</td>\n",
       "      <td>3</td>\n",
       "      <td>2.50</td>\n",
       "      <td>9.0</td>\n",
       "      <td>43.60</td>\n",
       "      <td>7</td>\n",
       "      <td>NaN</td>\n",
       "      <td>False</td>\n",
       "      <td>False</td>\n",
       "      <td>6.50</td>\n",
       "      <td>2.0</td>\n",
       "      <td>Санкт-Петербург</td>\n",
       "      <td>50898.0</td>\n",
       "      <td>15008.0</td>\n",
       "      <td>0.0</td>\n",
       "      <td>NaN</td>\n",
       "      <td>0.0</td>\n",
       "      <td>NaN</td>\n",
       "      <td>289.0</td>\n",
       "    </tr>\n",
       "  </tbody>\n",
       "</table>\n",
       "</div>"
      ],
      "text/plain": [
       "   total_images  last_price  total_area first_day_exposition  rooms  \\\n",
       "0            20  13000000.0      108.00  2019-03-07T00:00:00      3   \n",
       "1             7   3350000.0       40.40  2018-12-04T00:00:00      1   \n",
       "2            10   5196000.0       56.00  2015-08-20T00:00:00      2   \n",
       "3             0  64900000.0      159.00  2015-07-24T00:00:00      3   \n",
       "4             2  10000000.0      100.00  2018-06-19T00:00:00      2   \n",
       "5            10   2890000.0       30.40  2018-09-10T00:00:00      1   \n",
       "6             6   3700000.0       37.30  2017-11-02T00:00:00      1   \n",
       "7             5   7915000.0       71.60  2019-04-18T00:00:00      2   \n",
       "8            20   2900000.0       33.16  2018-05-23T00:00:00      1   \n",
       "9            18   5400000.0       61.00  2017-02-26T00:00:00      3   \n",
       "\n",
       "   ceiling_height  floors_total  living_area  floor is_apartment  studio  \\\n",
       "0            2.70          16.0        51.00      8          NaN   False   \n",
       "1             NaN          11.0        18.60      1          NaN   False   \n",
       "2             NaN           5.0        34.30      4          NaN   False   \n",
       "3             NaN          14.0          NaN      9          NaN   False   \n",
       "4            3.03          14.0        32.00     13          NaN   False   \n",
       "5             NaN          12.0        14.40      5          NaN   False   \n",
       "6             NaN          26.0        10.60      6          NaN   False   \n",
       "7             NaN          24.0          NaN     22          NaN   False   \n",
       "8             NaN          27.0        15.43     26          NaN   False   \n",
       "9            2.50           9.0        43.60      7          NaN   False   \n",
       "\n",
       "   open_plan  kitchen_area  balcony              locality_name  \\\n",
       "0      False         25.00      NaN            Санкт-Петербург   \n",
       "1      False         11.00      2.0             посёлок Шушары   \n",
       "2      False          8.30      0.0            Санкт-Петербург   \n",
       "3      False           NaN      0.0            Санкт-Петербург   \n",
       "4      False         41.00      NaN            Санкт-Петербург   \n",
       "5      False          9.10      NaN  городской посёлок Янино-1   \n",
       "6      False         14.40      1.0          посёлок Парголово   \n",
       "7      False         18.90      2.0            Санкт-Петербург   \n",
       "8      False          8.81      NaN             посёлок Мурино   \n",
       "9      False          6.50      2.0            Санкт-Петербург   \n",
       "\n",
       "   airports_nearest  cityCenters_nearest  parks_around3000  parks_nearest  \\\n",
       "0           18863.0              16028.0               1.0          482.0   \n",
       "1           12817.0              18603.0               0.0            NaN   \n",
       "2           21741.0              13933.0               1.0           90.0   \n",
       "3           28098.0               6800.0               2.0           84.0   \n",
       "4           31856.0               8098.0               2.0          112.0   \n",
       "5               NaN                  NaN               NaN            NaN   \n",
       "6           52996.0              19143.0               0.0            NaN   \n",
       "7           23982.0              11634.0               0.0            NaN   \n",
       "8               NaN                  NaN               NaN            NaN   \n",
       "9           50898.0              15008.0               0.0            NaN   \n",
       "\n",
       "   ponds_around3000  ponds_nearest  days_exposition  \n",
       "0               2.0          755.0              NaN  \n",
       "1               0.0            NaN             81.0  \n",
       "2               2.0          574.0            558.0  \n",
       "3               3.0          234.0            424.0  \n",
       "4               1.0           48.0            121.0  \n",
       "5               NaN            NaN             55.0  \n",
       "6               0.0            NaN            155.0  \n",
       "7               0.0            NaN              NaN  \n",
       "8               NaN            NaN            189.0  \n",
       "9               0.0            NaN            289.0  "
      ]
     },
     "execution_count": 2,
     "metadata": {},
     "output_type": "execute_result"
    }
   ],
   "source": [
    "data = pd.read_csv('/datasets/real_estate_data.csv', sep='\\t')\n",
    "pd.set_option('display.max_columns', 50) \n",
    "\n",
    "data.head(10)"
   ]
  },
  {
   "cell_type": "markdown",
   "metadata": {},
   "source": [
    "<div class=\"alert alert-warning\"; style=\"border-left: 7px solid Gold\">\n",
    "<h5> ⚠️ <font color=\"DarkGoldenRod\">Комментарий ревьюера (желтый)</font></h5>\n",
    "\n",
    "1. Молодец, что загружаешь все библиотеки в начале проекта. Так сложней случайно удалить ячейку с загрузкой нужной библиотеки и сделать код не работающим. А получатель отчета сразу поймет, какие библиотеки ты используешь и какие ему нужно установить для запуска проекта.\n",
    "    \n",
    "2. Блок загрузки библиотек лучше размещать в отдельной от остального кода ячейке. Такой подход позволит улучшить читаемость кода, снизит время поиска ошибок (если они есть) и исключит повторное выполнение кода.\n",
    "\n",
    "3. При выводе df.head() можно увидеть, что часть столбцов заменилась на «...»\n",
    "    \n",
    "    Чтобы это поправить можно поправить настройки pandas:\n",
    "    \n",
    "```python\n",
    "pd.set_option('display.max_columns', 50) \n",
    "```\n",
    "\n",
    "</div>"
   ]
  },
  {
   "cell_type": "markdown",
   "metadata": {},
   "source": [
    "<div class=\"alert alert-info\"; style=\"border-left: 7px solid SteelBlue\">\n",
    "Сделано\n",
    "</div>"
   ]
  },
  {
   "cell_type": "markdown",
   "metadata": {},
   "source": [
    "<div class=\"alert alert-success\"; style=\"border-left: 7px solid green\">\n",
    "<h5> ✔️ <font color=\"green\">v2 Комментарий ревьюера (зеленый)</font></h5>\n",
    "\n",
    "✅ Верное исправление 👍\n",
    "\n",
    "</div>"
   ]
  },
  {
   "cell_type": "code",
   "execution_count": 3,
   "metadata": {
    "scrolled": false
   },
   "outputs": [
    {
     "data": {
      "text/html": [
       "<div>\n",
       "<style scoped>\n",
       "    .dataframe tbody tr th:only-of-type {\n",
       "        vertical-align: middle;\n",
       "    }\n",
       "\n",
       "    .dataframe tbody tr th {\n",
       "        vertical-align: top;\n",
       "    }\n",
       "\n",
       "    .dataframe thead th {\n",
       "        text-align: right;\n",
       "    }\n",
       "</style>\n",
       "<table border=\"1\" class=\"dataframe\">\n",
       "  <thead>\n",
       "    <tr style=\"text-align: right;\">\n",
       "      <th></th>\n",
       "      <th>count</th>\n",
       "      <th>mean</th>\n",
       "      <th>std</th>\n",
       "      <th>min</th>\n",
       "      <th>25%</th>\n",
       "      <th>50%</th>\n",
       "      <th>75%</th>\n",
       "      <th>max</th>\n",
       "    </tr>\n",
       "  </thead>\n",
       "  <tbody>\n",
       "    <tr>\n",
       "      <th>total_images</th>\n",
       "      <td>23699.0</td>\n",
       "      <td>9.858475e+00</td>\n",
       "      <td>5.682529e+00</td>\n",
       "      <td>0.0</td>\n",
       "      <td>6.00</td>\n",
       "      <td>9.00</td>\n",
       "      <td>14.0</td>\n",
       "      <td>50.0</td>\n",
       "    </tr>\n",
       "    <tr>\n",
       "      <th>last_price</th>\n",
       "      <td>23699.0</td>\n",
       "      <td>6.541549e+06</td>\n",
       "      <td>1.088701e+07</td>\n",
       "      <td>12190.0</td>\n",
       "      <td>3400000.00</td>\n",
       "      <td>4650000.00</td>\n",
       "      <td>6800000.0</td>\n",
       "      <td>763000000.0</td>\n",
       "    </tr>\n",
       "    <tr>\n",
       "      <th>total_area</th>\n",
       "      <td>23699.0</td>\n",
       "      <td>6.034865e+01</td>\n",
       "      <td>3.565408e+01</td>\n",
       "      <td>12.0</td>\n",
       "      <td>40.00</td>\n",
       "      <td>52.00</td>\n",
       "      <td>69.9</td>\n",
       "      <td>900.0</td>\n",
       "    </tr>\n",
       "    <tr>\n",
       "      <th>rooms</th>\n",
       "      <td>23699.0</td>\n",
       "      <td>2.070636e+00</td>\n",
       "      <td>1.078405e+00</td>\n",
       "      <td>0.0</td>\n",
       "      <td>1.00</td>\n",
       "      <td>2.00</td>\n",
       "      <td>3.0</td>\n",
       "      <td>19.0</td>\n",
       "    </tr>\n",
       "    <tr>\n",
       "      <th>ceiling_height</th>\n",
       "      <td>14504.0</td>\n",
       "      <td>2.771499e+00</td>\n",
       "      <td>1.261056e+00</td>\n",
       "      <td>1.0</td>\n",
       "      <td>2.52</td>\n",
       "      <td>2.65</td>\n",
       "      <td>2.8</td>\n",
       "      <td>100.0</td>\n",
       "    </tr>\n",
       "    <tr>\n",
       "      <th>floors_total</th>\n",
       "      <td>23613.0</td>\n",
       "      <td>1.067382e+01</td>\n",
       "      <td>6.597173e+00</td>\n",
       "      <td>1.0</td>\n",
       "      <td>5.00</td>\n",
       "      <td>9.00</td>\n",
       "      <td>16.0</td>\n",
       "      <td>60.0</td>\n",
       "    </tr>\n",
       "    <tr>\n",
       "      <th>living_area</th>\n",
       "      <td>21796.0</td>\n",
       "      <td>3.445785e+01</td>\n",
       "      <td>2.203045e+01</td>\n",
       "      <td>2.0</td>\n",
       "      <td>18.60</td>\n",
       "      <td>30.00</td>\n",
       "      <td>42.3</td>\n",
       "      <td>409.7</td>\n",
       "    </tr>\n",
       "    <tr>\n",
       "      <th>floor</th>\n",
       "      <td>23699.0</td>\n",
       "      <td>5.892358e+00</td>\n",
       "      <td>4.885249e+00</td>\n",
       "      <td>1.0</td>\n",
       "      <td>2.00</td>\n",
       "      <td>4.00</td>\n",
       "      <td>8.0</td>\n",
       "      <td>33.0</td>\n",
       "    </tr>\n",
       "    <tr>\n",
       "      <th>kitchen_area</th>\n",
       "      <td>21421.0</td>\n",
       "      <td>1.056981e+01</td>\n",
       "      <td>5.905438e+00</td>\n",
       "      <td>1.3</td>\n",
       "      <td>7.00</td>\n",
       "      <td>9.10</td>\n",
       "      <td>12.0</td>\n",
       "      <td>112.0</td>\n",
       "    </tr>\n",
       "    <tr>\n",
       "      <th>balcony</th>\n",
       "      <td>12180.0</td>\n",
       "      <td>1.150082e+00</td>\n",
       "      <td>1.071300e+00</td>\n",
       "      <td>0.0</td>\n",
       "      <td>0.00</td>\n",
       "      <td>1.00</td>\n",
       "      <td>2.0</td>\n",
       "      <td>5.0</td>\n",
       "    </tr>\n",
       "    <tr>\n",
       "      <th>airports_nearest</th>\n",
       "      <td>18157.0</td>\n",
       "      <td>2.879367e+04</td>\n",
       "      <td>1.263088e+04</td>\n",
       "      <td>0.0</td>\n",
       "      <td>18585.00</td>\n",
       "      <td>26726.00</td>\n",
       "      <td>37273.0</td>\n",
       "      <td>84869.0</td>\n",
       "    </tr>\n",
       "    <tr>\n",
       "      <th>cityCenters_nearest</th>\n",
       "      <td>18180.0</td>\n",
       "      <td>1.419128e+04</td>\n",
       "      <td>8.608386e+03</td>\n",
       "      <td>181.0</td>\n",
       "      <td>9238.00</td>\n",
       "      <td>13098.50</td>\n",
       "      <td>16293.0</td>\n",
       "      <td>65968.0</td>\n",
       "    </tr>\n",
       "    <tr>\n",
       "      <th>parks_around3000</th>\n",
       "      <td>18181.0</td>\n",
       "      <td>6.114075e-01</td>\n",
       "      <td>8.020736e-01</td>\n",
       "      <td>0.0</td>\n",
       "      <td>0.00</td>\n",
       "      <td>0.00</td>\n",
       "      <td>1.0</td>\n",
       "      <td>3.0</td>\n",
       "    </tr>\n",
       "    <tr>\n",
       "      <th>parks_nearest</th>\n",
       "      <td>8079.0</td>\n",
       "      <td>4.908046e+02</td>\n",
       "      <td>3.423180e+02</td>\n",
       "      <td>1.0</td>\n",
       "      <td>288.00</td>\n",
       "      <td>455.00</td>\n",
       "      <td>612.0</td>\n",
       "      <td>3190.0</td>\n",
       "    </tr>\n",
       "    <tr>\n",
       "      <th>ponds_around3000</th>\n",
       "      <td>18181.0</td>\n",
       "      <td>7.702547e-01</td>\n",
       "      <td>9.383456e-01</td>\n",
       "      <td>0.0</td>\n",
       "      <td>0.00</td>\n",
       "      <td>1.00</td>\n",
       "      <td>1.0</td>\n",
       "      <td>3.0</td>\n",
       "    </tr>\n",
       "    <tr>\n",
       "      <th>ponds_nearest</th>\n",
       "      <td>9110.0</td>\n",
       "      <td>5.179809e+02</td>\n",
       "      <td>2.777206e+02</td>\n",
       "      <td>13.0</td>\n",
       "      <td>294.00</td>\n",
       "      <td>502.00</td>\n",
       "      <td>729.0</td>\n",
       "      <td>1344.0</td>\n",
       "    </tr>\n",
       "    <tr>\n",
       "      <th>days_exposition</th>\n",
       "      <td>20518.0</td>\n",
       "      <td>1.808886e+02</td>\n",
       "      <td>2.197280e+02</td>\n",
       "      <td>1.0</td>\n",
       "      <td>45.00</td>\n",
       "      <td>95.00</td>\n",
       "      <td>232.0</td>\n",
       "      <td>1580.0</td>\n",
       "    </tr>\n",
       "  </tbody>\n",
       "</table>\n",
       "</div>"
      ],
      "text/plain": [
       "                       count          mean           std      min         25%  \\\n",
       "total_images         23699.0  9.858475e+00  5.682529e+00      0.0        6.00   \n",
       "last_price           23699.0  6.541549e+06  1.088701e+07  12190.0  3400000.00   \n",
       "total_area           23699.0  6.034865e+01  3.565408e+01     12.0       40.00   \n",
       "rooms                23699.0  2.070636e+00  1.078405e+00      0.0        1.00   \n",
       "ceiling_height       14504.0  2.771499e+00  1.261056e+00      1.0        2.52   \n",
       "floors_total         23613.0  1.067382e+01  6.597173e+00      1.0        5.00   \n",
       "living_area          21796.0  3.445785e+01  2.203045e+01      2.0       18.60   \n",
       "floor                23699.0  5.892358e+00  4.885249e+00      1.0        2.00   \n",
       "kitchen_area         21421.0  1.056981e+01  5.905438e+00      1.3        7.00   \n",
       "balcony              12180.0  1.150082e+00  1.071300e+00      0.0        0.00   \n",
       "airports_nearest     18157.0  2.879367e+04  1.263088e+04      0.0    18585.00   \n",
       "cityCenters_nearest  18180.0  1.419128e+04  8.608386e+03    181.0     9238.00   \n",
       "parks_around3000     18181.0  6.114075e-01  8.020736e-01      0.0        0.00   \n",
       "parks_nearest         8079.0  4.908046e+02  3.423180e+02      1.0      288.00   \n",
       "ponds_around3000     18181.0  7.702547e-01  9.383456e-01      0.0        0.00   \n",
       "ponds_nearest         9110.0  5.179809e+02  2.777206e+02     13.0      294.00   \n",
       "days_exposition      20518.0  1.808886e+02  2.197280e+02      1.0       45.00   \n",
       "\n",
       "                            50%        75%          max  \n",
       "total_images               9.00       14.0         50.0  \n",
       "last_price           4650000.00  6800000.0  763000000.0  \n",
       "total_area                52.00       69.9        900.0  \n",
       "rooms                      2.00        3.0         19.0  \n",
       "ceiling_height             2.65        2.8        100.0  \n",
       "floors_total               9.00       16.0         60.0  \n",
       "living_area               30.00       42.3        409.7  \n",
       "floor                      4.00        8.0         33.0  \n",
       "kitchen_area               9.10       12.0        112.0  \n",
       "balcony                    1.00        2.0          5.0  \n",
       "airports_nearest       26726.00    37273.0      84869.0  \n",
       "cityCenters_nearest    13098.50    16293.0      65968.0  \n",
       "parks_around3000           0.00        1.0          3.0  \n",
       "parks_nearest            455.00      612.0       3190.0  \n",
       "ponds_around3000           1.00        1.0          3.0  \n",
       "ponds_nearest            502.00      729.0       1344.0  \n",
       "days_exposition           95.00      232.0       1580.0  "
      ]
     },
     "execution_count": 3,
     "metadata": {},
     "output_type": "execute_result"
    }
   ],
   "source": [
    "data.describe().T"
   ]
  },
  {
   "cell_type": "code",
   "execution_count": 4,
   "metadata": {
    "scrolled": false
   },
   "outputs": [
    {
     "name": "stdout",
     "output_type": "stream",
     "text": [
      "<class 'pandas.core.frame.DataFrame'>\n",
      "RangeIndex: 23699 entries, 0 to 23698\n",
      "Data columns (total 22 columns):\n",
      " #   Column                Non-Null Count  Dtype  \n",
      "---  ------                --------------  -----  \n",
      " 0   total_images          23699 non-null  int64  \n",
      " 1   last_price            23699 non-null  float64\n",
      " 2   total_area            23699 non-null  float64\n",
      " 3   first_day_exposition  23699 non-null  object \n",
      " 4   rooms                 23699 non-null  int64  \n",
      " 5   ceiling_height        14504 non-null  float64\n",
      " 6   floors_total          23613 non-null  float64\n",
      " 7   living_area           21796 non-null  float64\n",
      " 8   floor                 23699 non-null  int64  \n",
      " 9   is_apartment          2775 non-null   object \n",
      " 10  studio                23699 non-null  bool   \n",
      " 11  open_plan             23699 non-null  bool   \n",
      " 12  kitchen_area          21421 non-null  float64\n",
      " 13  balcony               12180 non-null  float64\n",
      " 14  locality_name         23650 non-null  object \n",
      " 15  airports_nearest      18157 non-null  float64\n",
      " 16  cityCenters_nearest   18180 non-null  float64\n",
      " 17  parks_around3000      18181 non-null  float64\n",
      " 18  parks_nearest         8079 non-null   float64\n",
      " 19  ponds_around3000      18181 non-null  float64\n",
      " 20  ponds_nearest         9110 non-null   float64\n",
      " 21  days_exposition       20518 non-null  float64\n",
      "dtypes: bool(2), float64(14), int64(3), object(3)\n",
      "memory usage: 3.7+ MB\n"
     ]
    }
   ],
   "source": [
    "data.info()"
   ]
  },
  {
   "cell_type": "code",
   "execution_count": 5,
   "metadata": {},
   "outputs": [
    {
     "data": {
      "text/plain": [
       "0"
      ]
     },
     "execution_count": 5,
     "metadata": {},
     "output_type": "execute_result"
    }
   ],
   "source": [
    "data.duplicated().sum()"
   ]
  },
  {
   "cell_type": "markdown",
   "metadata": {},
   "source": [
    "### Вывод"
   ]
  },
  {
   "cell_type": "markdown",
   "metadata": {},
   "source": [
    "- много пустых значений\n",
    "- нет одинообразия в названиях столбцов\n",
    "- некорректные типы данных\n",
    "\n",
    "Дубликатов нет. Но, возможно, одна и та же квартира выставлялась на продажу несколько раз в разное время, а значит и цена тоже могла меняться."
   ]
  },
  {
   "cell_type": "markdown",
   "metadata": {},
   "source": [
    "<div class=\"alert alert-success\"; style=\"border-left: 7px solid green\">\n",
    "<h5> ✔️ <font color=\"green\">Комментарий ревьюера (зеленый)</font></h5>\n",
    "\n",
    "Хороший, красиво оформленный, промежуточный вывод, сразу понятно, что будет далее в предобработке.\n",
    "\n",
    "</div>"
   ]
  },
  {
   "cell_type": "markdown",
   "metadata": {},
   "source": [
    "## Предобработка данных"
   ]
  },
  {
   "cell_type": "markdown",
   "metadata": {},
   "source": [
    "Начнём с названий столбцов"
   ]
  },
  {
   "cell_type": "code",
   "execution_count": 6,
   "metadata": {},
   "outputs": [
    {
     "data": {
      "text/plain": [
       "['total_images',\n",
       " 'last_price',\n",
       " 'total_area',\n",
       " 'first_day_exposition',\n",
       " 'rooms',\n",
       " 'ceiling_height',\n",
       " 'floors_total',\n",
       " 'living_area',\n",
       " 'floor',\n",
       " 'is_apartment',\n",
       " 'studio',\n",
       " 'open_plan',\n",
       " 'kitchen_area',\n",
       " 'balcony',\n",
       " 'locality_name',\n",
       " 'airports_nearest',\n",
       " 'cityCenters_nearest',\n",
       " 'parks_around3000',\n",
       " 'parks_nearest',\n",
       " 'ponds_around3000',\n",
       " 'ponds_nearest',\n",
       " 'days_exposition']"
      ]
     },
     "execution_count": 6,
     "metadata": {},
     "output_type": "execute_result"
    }
   ],
   "source": [
    "data.columns.tolist()"
   ]
  },
  {
   "cell_type": "code",
   "execution_count": 7,
   "metadata": {},
   "outputs": [],
   "source": [
    "data=data.rename(columns = {'total_area':'total_area_m2',\n",
    "                       'studio':'is_studio',\n",
    "                       'open_plan':'is_open_plan',\n",
    "                       'locality_name':'town_name',\n",
    "                       'cityCenters_nearest':'city_center_distance',\n",
    "                       'parks_around3000':'parks_around_3km',\n",
    "                       'ponds_around3000':'ponds_around_3km'\n",
    "                      })"
   ]
  },
  {
   "cell_type": "markdown",
   "metadata": {},
   "source": [
    "Сделано"
   ]
  },
  {
   "cell_type": "code",
   "execution_count": 8,
   "metadata": {},
   "outputs": [
    {
     "data": {
      "text/plain": [
       "total_images                0\n",
       "is_open_plan                0\n",
       "floor                       0\n",
       "rooms                       0\n",
       "is_studio                   0\n",
       "total_area_m2               0\n",
       "last_price                  0\n",
       "first_day_exposition        0\n",
       "town_name                  49\n",
       "floors_total               86\n",
       "living_area              1903\n",
       "kitchen_area             2278\n",
       "days_exposition          3181\n",
       "ponds_around_3km         5518\n",
       "parks_around_3km         5518\n",
       "city_center_distance     5519\n",
       "airports_nearest         5542\n",
       "ceiling_height           9195\n",
       "balcony                 11519\n",
       "ponds_nearest           14589\n",
       "parks_nearest           15620\n",
       "is_apartment            20924\n",
       "dtype: int64"
      ]
     },
     "execution_count": 8,
     "metadata": {},
     "output_type": "execute_result"
    }
   ],
   "source": [
    "data.isnull().sum().sort_values()"
   ]
  },
  {
   "cell_type": "markdown",
   "metadata": {},
   "source": [
    "Не все пропуски выглядят критично для анализа. Например, люди могут просто не знать, какое расстояние до ближайшего парка или до аэропорта. Некоторые параметры люди могут просто полениться заполнять при размещении объявления."
   ]
  },
  {
   "cell_type": "markdown",
   "metadata": {},
   "source": [
    "Поменяем столбцы местами, чтобы было удобнее изучать таблицу в дальнейшем."
   ]
  },
  {
   "cell_type": "code",
   "execution_count": 9,
   "metadata": {},
   "outputs": [],
   "source": [
    "data = data[[\n",
    " 'town_name',  \n",
    " 'total_area_m2',\n",
    " 'living_area',\n",
    " 'kitchen_area',\n",
    " 'ceiling_height',\n",
    " 'rooms',\n",
    " 'balcony',\n",
    " 'floor',\n",
    " 'floors_total',\n",
    " 'is_apartment',\n",
    " 'is_studio',\n",
    " 'is_open_plan',  \n",
    " 'total_images',\n",
    " 'last_price',\n",
    " 'first_day_exposition',\n",
    " 'days_exposition',\n",
    " 'city_center_distance',\n",
    " 'airports_nearest',\n",
    " 'parks_nearest',\n",
    " 'parks_around_3km',\n",
    " 'ponds_nearest',\n",
    " 'ponds_around_3km'\n",
    "]]"
   ]
  },
  {
   "cell_type": "code",
   "execution_count": 10,
   "metadata": {},
   "outputs": [
    {
     "data": {
      "text/html": [
       "<div>\n",
       "<style scoped>\n",
       "    .dataframe tbody tr th:only-of-type {\n",
       "        vertical-align: middle;\n",
       "    }\n",
       "\n",
       "    .dataframe tbody tr th {\n",
       "        vertical-align: top;\n",
       "    }\n",
       "\n",
       "    .dataframe thead th {\n",
       "        text-align: right;\n",
       "    }\n",
       "</style>\n",
       "<table border=\"1\" class=\"dataframe\">\n",
       "  <thead>\n",
       "    <tr style=\"text-align: right;\">\n",
       "      <th></th>\n",
       "      <th>town_name</th>\n",
       "      <th>total_area_m2</th>\n",
       "      <th>living_area</th>\n",
       "      <th>kitchen_area</th>\n",
       "      <th>ceiling_height</th>\n",
       "      <th>rooms</th>\n",
       "      <th>balcony</th>\n",
       "      <th>floor</th>\n",
       "      <th>floors_total</th>\n",
       "      <th>is_apartment</th>\n",
       "      <th>is_studio</th>\n",
       "      <th>is_open_plan</th>\n",
       "      <th>total_images</th>\n",
       "      <th>last_price</th>\n",
       "      <th>first_day_exposition</th>\n",
       "      <th>days_exposition</th>\n",
       "      <th>city_center_distance</th>\n",
       "      <th>airports_nearest</th>\n",
       "      <th>parks_nearest</th>\n",
       "      <th>parks_around_3km</th>\n",
       "      <th>ponds_nearest</th>\n",
       "      <th>ponds_around_3km</th>\n",
       "    </tr>\n",
       "  </thead>\n",
       "  <tbody>\n",
       "    <tr>\n",
       "      <th>0</th>\n",
       "      <td>Санкт-Петербург</td>\n",
       "      <td>108.0</td>\n",
       "      <td>51.0</td>\n",
       "      <td>25.0</td>\n",
       "      <td>2.70</td>\n",
       "      <td>3</td>\n",
       "      <td>NaN</td>\n",
       "      <td>8</td>\n",
       "      <td>16.0</td>\n",
       "      <td>NaN</td>\n",
       "      <td>False</td>\n",
       "      <td>False</td>\n",
       "      <td>20</td>\n",
       "      <td>13000000.0</td>\n",
       "      <td>2019-03-07T00:00:00</td>\n",
       "      <td>NaN</td>\n",
       "      <td>16028.0</td>\n",
       "      <td>18863.0</td>\n",
       "      <td>482.0</td>\n",
       "      <td>1.0</td>\n",
       "      <td>755.0</td>\n",
       "      <td>2.0</td>\n",
       "    </tr>\n",
       "    <tr>\n",
       "      <th>1</th>\n",
       "      <td>посёлок Шушары</td>\n",
       "      <td>40.4</td>\n",
       "      <td>18.6</td>\n",
       "      <td>11.0</td>\n",
       "      <td>NaN</td>\n",
       "      <td>1</td>\n",
       "      <td>2.0</td>\n",
       "      <td>1</td>\n",
       "      <td>11.0</td>\n",
       "      <td>NaN</td>\n",
       "      <td>False</td>\n",
       "      <td>False</td>\n",
       "      <td>7</td>\n",
       "      <td>3350000.0</td>\n",
       "      <td>2018-12-04T00:00:00</td>\n",
       "      <td>81.0</td>\n",
       "      <td>18603.0</td>\n",
       "      <td>12817.0</td>\n",
       "      <td>NaN</td>\n",
       "      <td>0.0</td>\n",
       "      <td>NaN</td>\n",
       "      <td>0.0</td>\n",
       "    </tr>\n",
       "    <tr>\n",
       "      <th>2</th>\n",
       "      <td>Санкт-Петербург</td>\n",
       "      <td>56.0</td>\n",
       "      <td>34.3</td>\n",
       "      <td>8.3</td>\n",
       "      <td>NaN</td>\n",
       "      <td>2</td>\n",
       "      <td>0.0</td>\n",
       "      <td>4</td>\n",
       "      <td>5.0</td>\n",
       "      <td>NaN</td>\n",
       "      <td>False</td>\n",
       "      <td>False</td>\n",
       "      <td>10</td>\n",
       "      <td>5196000.0</td>\n",
       "      <td>2015-08-20T00:00:00</td>\n",
       "      <td>558.0</td>\n",
       "      <td>13933.0</td>\n",
       "      <td>21741.0</td>\n",
       "      <td>90.0</td>\n",
       "      <td>1.0</td>\n",
       "      <td>574.0</td>\n",
       "      <td>2.0</td>\n",
       "    </tr>\n",
       "    <tr>\n",
       "      <th>3</th>\n",
       "      <td>Санкт-Петербург</td>\n",
       "      <td>159.0</td>\n",
       "      <td>NaN</td>\n",
       "      <td>NaN</td>\n",
       "      <td>NaN</td>\n",
       "      <td>3</td>\n",
       "      <td>0.0</td>\n",
       "      <td>9</td>\n",
       "      <td>14.0</td>\n",
       "      <td>NaN</td>\n",
       "      <td>False</td>\n",
       "      <td>False</td>\n",
       "      <td>0</td>\n",
       "      <td>64900000.0</td>\n",
       "      <td>2015-07-24T00:00:00</td>\n",
       "      <td>424.0</td>\n",
       "      <td>6800.0</td>\n",
       "      <td>28098.0</td>\n",
       "      <td>84.0</td>\n",
       "      <td>2.0</td>\n",
       "      <td>234.0</td>\n",
       "      <td>3.0</td>\n",
       "    </tr>\n",
       "    <tr>\n",
       "      <th>4</th>\n",
       "      <td>Санкт-Петербург</td>\n",
       "      <td>100.0</td>\n",
       "      <td>32.0</td>\n",
       "      <td>41.0</td>\n",
       "      <td>3.03</td>\n",
       "      <td>2</td>\n",
       "      <td>NaN</td>\n",
       "      <td>13</td>\n",
       "      <td>14.0</td>\n",
       "      <td>NaN</td>\n",
       "      <td>False</td>\n",
       "      <td>False</td>\n",
       "      <td>2</td>\n",
       "      <td>10000000.0</td>\n",
       "      <td>2018-06-19T00:00:00</td>\n",
       "      <td>121.0</td>\n",
       "      <td>8098.0</td>\n",
       "      <td>31856.0</td>\n",
       "      <td>112.0</td>\n",
       "      <td>2.0</td>\n",
       "      <td>48.0</td>\n",
       "      <td>1.0</td>\n",
       "    </tr>\n",
       "  </tbody>\n",
       "</table>\n",
       "</div>"
      ],
      "text/plain": [
       "         town_name  total_area_m2  living_area  kitchen_area  ceiling_height  \\\n",
       "0  Санкт-Петербург          108.0         51.0          25.0            2.70   \n",
       "1   посёлок Шушары           40.4         18.6          11.0             NaN   \n",
       "2  Санкт-Петербург           56.0         34.3           8.3             NaN   \n",
       "3  Санкт-Петербург          159.0          NaN           NaN             NaN   \n",
       "4  Санкт-Петербург          100.0         32.0          41.0            3.03   \n",
       "\n",
       "   rooms  balcony  floor  floors_total is_apartment  is_studio  is_open_plan  \\\n",
       "0      3      NaN      8          16.0          NaN      False         False   \n",
       "1      1      2.0      1          11.0          NaN      False         False   \n",
       "2      2      0.0      4           5.0          NaN      False         False   \n",
       "3      3      0.0      9          14.0          NaN      False         False   \n",
       "4      2      NaN     13          14.0          NaN      False         False   \n",
       "\n",
       "   total_images  last_price first_day_exposition  days_exposition  \\\n",
       "0            20  13000000.0  2019-03-07T00:00:00              NaN   \n",
       "1             7   3350000.0  2018-12-04T00:00:00             81.0   \n",
       "2            10   5196000.0  2015-08-20T00:00:00            558.0   \n",
       "3             0  64900000.0  2015-07-24T00:00:00            424.0   \n",
       "4             2  10000000.0  2018-06-19T00:00:00            121.0   \n",
       "\n",
       "   city_center_distance  airports_nearest  parks_nearest  parks_around_3km  \\\n",
       "0               16028.0           18863.0          482.0               1.0   \n",
       "1               18603.0           12817.0            NaN               0.0   \n",
       "2               13933.0           21741.0           90.0               1.0   \n",
       "3                6800.0           28098.0           84.0               2.0   \n",
       "4                8098.0           31856.0          112.0               2.0   \n",
       "\n",
       "   ponds_nearest  ponds_around_3km  \n",
       "0          755.0               2.0  \n",
       "1            NaN               0.0  \n",
       "2          574.0               2.0  \n",
       "3          234.0               3.0  \n",
       "4           48.0               1.0  "
      ]
     },
     "execution_count": 10,
     "metadata": {},
     "output_type": "execute_result"
    }
   ],
   "source": [
    "data.head()"
   ]
  },
  {
   "cell_type": "markdown",
   "metadata": {},
   "source": [
    "Проверим столбец с названиями населённых пунктов."
   ]
  },
  {
   "cell_type": "code",
   "execution_count": 11,
   "metadata": {},
   "outputs": [
    {
     "data": {
      "text/plain": [
       "['Бокситогорск',\n",
       " 'Волосово',\n",
       " 'Волхов',\n",
       " 'Всеволожск',\n",
       " 'Выборг',\n",
       " 'Высоцк',\n",
       " 'Гатчина',\n",
       " 'Зеленогорск',\n",
       " 'Ивангород',\n",
       " 'Каменногорск',\n",
       " 'Кингисепп',\n",
       " 'Кириши',\n",
       " 'Кировск',\n",
       " 'Колпино',\n",
       " 'Коммунар',\n",
       " 'Красное Село',\n",
       " 'Кронштадт',\n",
       " 'Кудрово',\n",
       " 'Лодейное Поле',\n",
       " 'Ломоносов',\n",
       " 'Луга',\n",
       " 'Любань',\n",
       " 'Мурино',\n",
       " 'Никольское',\n",
       " 'Новая Ладога',\n",
       " 'Отрадное',\n",
       " 'Павловск',\n",
       " 'Петергоф',\n",
       " 'Пикалёво',\n",
       " 'Подпорожье',\n",
       " 'Приморск',\n",
       " 'Приозерск',\n",
       " 'Пушкин',\n",
       " 'Санкт-Петербург',\n",
       " 'Светогорск',\n",
       " 'Сертолово',\n",
       " 'Сестрорецк',\n",
       " 'Сланцы',\n",
       " 'Сосновый Бор',\n",
       " 'Сясьстрой',\n",
       " 'Тихвин',\n",
       " 'Тосно',\n",
       " 'Шлиссельбург',\n",
       " 'городской поселок Большая Ижора',\n",
       " 'городской поселок Янино-1',\n",
       " 'городской посёлок Будогощь',\n",
       " 'городской посёлок Виллози',\n",
       " 'городской посёлок Лесогорский',\n",
       " 'городской посёлок Мга',\n",
       " 'городской посёлок Назия',\n",
       " 'городской посёлок Новоселье',\n",
       " 'городской посёлок Павлово',\n",
       " 'городской посёлок Рощино',\n",
       " 'городской посёлок Свирьстрой',\n",
       " 'городской посёлок Советский',\n",
       " 'городской посёлок Фёдоровское',\n",
       " 'городской посёлок Янино-1',\n",
       " 'деревня Агалатово',\n",
       " 'деревня Аро',\n",
       " 'деревня Батово',\n",
       " 'деревня Бегуницы',\n",
       " 'деревня Белогорка',\n",
       " 'деревня Большая Вруда',\n",
       " 'деревня Большая Пустомержа',\n",
       " 'деревня Большие Колпаны',\n",
       " 'деревня Большое Рейзино',\n",
       " 'деревня Большой Сабск',\n",
       " 'деревня Бор',\n",
       " 'деревня Борисова Грива',\n",
       " 'деревня Ваганово',\n",
       " 'деревня Вартемяги',\n",
       " 'деревня Вахнова Кара',\n",
       " 'деревня Выскатка',\n",
       " 'деревня Гарболово',\n",
       " 'деревня Глинка',\n",
       " 'деревня Горбунки',\n",
       " 'деревня Гостилицы',\n",
       " 'деревня Заклинье',\n",
       " 'деревня Заневка',\n",
       " 'деревня Зимитицы',\n",
       " 'деревня Извара',\n",
       " 'деревня Иссад',\n",
       " 'деревня Калитино',\n",
       " 'деревня Кальтино',\n",
       " 'деревня Камышовка',\n",
       " 'деревня Каськово',\n",
       " 'деревня Келози',\n",
       " 'деревня Кипень',\n",
       " 'деревня Кисельня',\n",
       " 'деревня Колтуши',\n",
       " 'деревня Коркино',\n",
       " 'деревня Котлы',\n",
       " 'деревня Кривко',\n",
       " 'деревня Кудрово',\n",
       " 'деревня Кузьмолово',\n",
       " 'деревня Курковицы',\n",
       " 'деревня Куровицы',\n",
       " 'деревня Куттузи',\n",
       " 'деревня Лаврики',\n",
       " 'деревня Лаголово',\n",
       " 'деревня Лампово',\n",
       " 'деревня Лесколово',\n",
       " 'деревня Лопухинка',\n",
       " 'деревня Лупполово',\n",
       " 'деревня Малая Романовка',\n",
       " 'деревня Малое Верево',\n",
       " 'деревня Малое Карлино',\n",
       " 'деревня Малые Колпаны',\n",
       " 'деревня Мануйлово',\n",
       " 'деревня Меньково',\n",
       " 'деревня Мины',\n",
       " 'деревня Мистолово',\n",
       " 'деревня Ненимяки',\n",
       " 'деревня Нижние Осельки',\n",
       " 'деревня Нижняя',\n",
       " 'деревня Низино',\n",
       " 'деревня Новое Девяткино',\n",
       " 'деревня Новолисино',\n",
       " 'деревня Нурма',\n",
       " 'деревня Оржицы',\n",
       " 'деревня Парицы',\n",
       " 'деревня Пельгора',\n",
       " 'деревня Пеники',\n",
       " 'деревня Пижма',\n",
       " 'деревня Пикколово',\n",
       " 'деревня Пудомяги',\n",
       " 'деревня Пустынка',\n",
       " 'деревня Пчева',\n",
       " 'деревня Рабитицы',\n",
       " 'деревня Разбегаево',\n",
       " 'деревня Раздолье',\n",
       " 'деревня Разметелево',\n",
       " 'деревня Рапполово',\n",
       " 'деревня Реброво',\n",
       " 'деревня Русско',\n",
       " 'деревня Сижно',\n",
       " 'деревня Снегирёвка',\n",
       " 'деревня Старая',\n",
       " 'деревня Старая Пустошь',\n",
       " 'деревня Старое Хинколово',\n",
       " 'деревня Старополье',\n",
       " 'деревня Старосиверская',\n",
       " 'деревня Старые Бегуницы',\n",
       " 'деревня Суоранда',\n",
       " 'деревня Сяськелево',\n",
       " 'деревня Тарасово',\n",
       " 'деревня Терпилицы',\n",
       " 'деревня Тихковицы',\n",
       " 'деревня Тойворово',\n",
       " 'деревня Торосово',\n",
       " 'деревня Торошковичи',\n",
       " 'деревня Трубников Бор',\n",
       " 'деревня Фалилеево',\n",
       " 'деревня Фёдоровское',\n",
       " 'деревня Хапо-Ое',\n",
       " 'деревня Хязельки',\n",
       " 'деревня Чудской Бор',\n",
       " 'деревня Шпаньково',\n",
       " 'деревня Щеглово',\n",
       " 'деревня Юкки',\n",
       " 'деревня Ялгино',\n",
       " 'деревня Яльгелево',\n",
       " 'деревня Ям-Тесово',\n",
       " 'коттеджный поселок Кивеннапа Север',\n",
       " 'коттеджный поселок Счастье',\n",
       " 'коттеджный посёлок Лесное',\n",
       " 'поселок Аннино',\n",
       " 'поселок Барышево',\n",
       " 'поселок Бугры',\n",
       " 'поселок Возрождение',\n",
       " 'поселок Войсковицы',\n",
       " 'поселок Володарское',\n",
       " 'поселок Гаврилово',\n",
       " 'поселок Гарболово',\n",
       " 'поселок Гладкое',\n",
       " 'поселок Глажево',\n",
       " 'поселок Глебычево',\n",
       " 'поселок Гончарово',\n",
       " 'поселок Громово',\n",
       " 'поселок Дружноселье',\n",
       " 'поселок Елизаветино',\n",
       " 'поселок Жилгородок',\n",
       " 'поселок Жилпосёлок',\n",
       " 'поселок Житково',\n",
       " 'поселок Заводской',\n",
       " 'поселок Запорожское',\n",
       " 'поселок Зимитицы',\n",
       " 'поселок Ильичёво',\n",
       " 'поселок Калитино',\n",
       " 'поселок Каложицы',\n",
       " 'поселок Кингисеппский',\n",
       " 'поселок Кирпичное',\n",
       " 'поселок Кобралово',\n",
       " 'поселок Кобринское',\n",
       " 'поселок Коммунары',\n",
       " 'поселок Коробицыно',\n",
       " 'поселок Котельский',\n",
       " 'поселок Красная Долина',\n",
       " 'поселок Красносельское',\n",
       " 'поселок Лесное',\n",
       " 'поселок Лисий Нос',\n",
       " 'поселок Лукаши',\n",
       " 'поселок Любань',\n",
       " 'поселок Мельниково',\n",
       " 'поселок Мичуринское',\n",
       " 'поселок Молодцово',\n",
       " 'поселок Мурино',\n",
       " 'поселок Новый Свет',\n",
       " 'поселок Новый Учхоз',\n",
       " 'поселок Оредеж',\n",
       " 'поселок Пансионат Зелёный Бор',\n",
       " 'поселок Первомайское',\n",
       " 'поселок Перово',\n",
       " 'поселок Петровское',\n",
       " 'поселок Победа',\n",
       " 'поселок Поляны',\n",
       " 'поселок Почап',\n",
       " 'поселок Починок',\n",
       " 'поселок Пушное',\n",
       " 'поселок Пчевжа',\n",
       " 'поселок Рабитицы',\n",
       " 'поселок Романовка',\n",
       " 'поселок Ромашки',\n",
       " 'поселок Рябово',\n",
       " 'поселок Севастьяново',\n",
       " 'поселок Селезнёво',\n",
       " 'поселок Сельцо',\n",
       " 'поселок Семиозерье',\n",
       " 'поселок Семрино',\n",
       " 'поселок Серебрянский',\n",
       " 'поселок Совхозный',\n",
       " 'поселок Старая Малукса',\n",
       " 'поселок Стеклянный',\n",
       " 'поселок Сумино',\n",
       " 'поселок Суходолье',\n",
       " 'поселок Тельмана',\n",
       " 'поселок Терволово',\n",
       " 'поселок Торковичи',\n",
       " 'поселок Тёсово-4',\n",
       " 'поселок Углово',\n",
       " 'поселок Усть-Луга',\n",
       " 'поселок Ушаки',\n",
       " 'поселок Цвелодубово',\n",
       " 'поселок Цвылёво',\n",
       " 'поселок городского типа Большая Ижора',\n",
       " 'поселок городского типа Вырица',\n",
       " 'поселок городского типа Дружная Горка',\n",
       " 'поселок городского типа Дубровка',\n",
       " 'поселок городского типа Ефимовский',\n",
       " 'поселок городского типа Кондратьево',\n",
       " 'поселок городского типа Красный Бор',\n",
       " 'поселок городского типа Кузьмоловский',\n",
       " 'поселок городского типа Лебяжье',\n",
       " 'поселок городского типа Лесогорский',\n",
       " 'поселок городского типа Назия',\n",
       " 'поселок городского типа Никольский',\n",
       " 'поселок городского типа Приладожский',\n",
       " 'поселок городского типа Рахья',\n",
       " 'поселок городского типа Рощино',\n",
       " 'поселок городского типа Рябово',\n",
       " 'поселок городского типа Синявино',\n",
       " 'поселок городского типа Советский',\n",
       " 'поселок городского типа Токсово',\n",
       " 'поселок городского типа Форносово',\n",
       " 'поселок городского типа имени Свердлова',\n",
       " 'поселок станции Вещево',\n",
       " 'поселок станции Корнево',\n",
       " 'поселок станции Лужайка',\n",
       " 'поселок станции Приветнинское',\n",
       " 'посёлок Александровская',\n",
       " 'посёлок Алексеевка',\n",
       " 'посёлок Аннино',\n",
       " 'посёлок Белоостров',\n",
       " 'посёлок Бугры',\n",
       " 'посёлок Возрождение',\n",
       " 'посёлок Войскорово',\n",
       " 'посёлок Высокоключевой',\n",
       " 'посёлок Гаврилово',\n",
       " 'посёлок Дзержинского',\n",
       " 'посёлок Жилгородок',\n",
       " 'посёлок Ильичёво',\n",
       " 'посёлок Кикерино',\n",
       " 'посёлок Кобралово',\n",
       " 'посёлок Коробицыно',\n",
       " 'посёлок Левашово',\n",
       " 'посёлок Ленинское',\n",
       " 'посёлок Лисий Нос',\n",
       " 'посёлок Мельниково',\n",
       " 'посёлок Металлострой',\n",
       " 'посёлок Мичуринское',\n",
       " 'посёлок Молодёжное',\n",
       " 'посёлок Мурино',\n",
       " 'посёлок Мыза-Ивановка',\n",
       " 'посёлок Новогорелово',\n",
       " 'посёлок Новый Свет',\n",
       " 'посёлок Пансионат Зелёный Бор',\n",
       " 'посёлок Парголово',\n",
       " 'посёлок Перово',\n",
       " 'посёлок Песочный',\n",
       " 'посёлок Петро-Славянка',\n",
       " 'посёлок Петровское',\n",
       " 'посёлок Платформа 69-й километр',\n",
       " 'посёлок Плодовое',\n",
       " 'посёлок Плоское',\n",
       " 'посёлок Победа',\n",
       " 'посёлок Поляны',\n",
       " 'посёлок Понтонный',\n",
       " 'посёлок Пригородный',\n",
       " 'посёлок Пудость',\n",
       " 'посёлок Репино',\n",
       " 'посёлок Ропша',\n",
       " 'посёлок Сапёрное',\n",
       " 'посёлок Сапёрный',\n",
       " 'посёлок Сосново',\n",
       " 'посёлок Старая Малукса',\n",
       " 'посёлок Стеклянный',\n",
       " 'посёлок Стрельна',\n",
       " 'посёлок Суйда',\n",
       " 'посёлок Сумино',\n",
       " 'посёлок Тельмана',\n",
       " 'посёлок Терволово',\n",
       " 'посёлок Торфяное',\n",
       " 'посёлок Усть-Ижора',\n",
       " 'посёлок Усть-Луга',\n",
       " 'посёлок Форт Красная Горка',\n",
       " 'посёлок Шугозеро',\n",
       " 'посёлок Шушары',\n",
       " 'посёлок Щеглово',\n",
       " 'посёлок городского типа Важины',\n",
       " 'посёлок городского типа Вознесенье',\n",
       " 'посёлок городского типа Вырица',\n",
       " 'посёлок городского типа Красный Бор',\n",
       " 'посёлок городского типа Кузнечное',\n",
       " 'посёлок городского типа Кузьмоловский',\n",
       " 'посёлок городского типа Лебяжье',\n",
       " 'посёлок городского типа Мга',\n",
       " 'посёлок городского типа Павлово',\n",
       " 'посёлок городского типа Рощино',\n",
       " 'посёлок городского типа Рябово',\n",
       " 'посёлок городского типа Сиверский',\n",
       " 'посёлок городского типа Тайцы',\n",
       " 'посёлок городского типа Токсово',\n",
       " 'посёлок городского типа Ульяновка',\n",
       " 'посёлок городского типа Форносово',\n",
       " 'посёлок городского типа имени Морозова',\n",
       " 'посёлок городского типа имени Свердлова',\n",
       " 'посёлок при железнодорожной станции Вещево',\n",
       " 'посёлок при железнодорожной станции Приветнинское',\n",
       " 'посёлок станции Громово',\n",
       " 'посёлок станции Свирь',\n",
       " 'садоводческое некоммерческое товарищество Лесная Поляна',\n",
       " 'садовое товарищество Новая Ропша',\n",
       " 'садовое товарищество Приладожский',\n",
       " 'садовое товарищество Рахья',\n",
       " 'садовое товарищество Садко',\n",
       " 'село Копорье',\n",
       " 'село Никольское',\n",
       " 'село Павлово',\n",
       " 'село Паша',\n",
       " 'село Путилово',\n",
       " 'село Рождествено',\n",
       " 'село Русско-Высоцкое',\n",
       " 'село Старая Ладога',\n",
       " 'село Шум',\n",
       " nan]"
      ]
     },
     "execution_count": 11,
     "metadata": {},
     "output_type": "execute_result"
    }
   ],
   "source": [
    "data['town_name'].sort_values().unique().tolist()\n"
   ]
  },
  {
   "cell_type": "code",
   "execution_count": 12,
   "metadata": {},
   "outputs": [
    {
     "data": {
      "text/plain": [
       "365"
      ]
     },
     "execution_count": 12,
     "metadata": {},
     "output_type": "execute_result"
    }
   ],
   "source": [
    "len(data['town_name'].unique())"
   ]
  },
  {
   "cell_type": "markdown",
   "metadata": {},
   "source": [
    "Ад и погибель...\n",
    "Без 100 грамм не разобраться. Попробуем уменьшить количество названий заменив \"ё\" на \"е\"."
   ]
  },
  {
   "cell_type": "code",
   "execution_count": 13,
   "metadata": {},
   "outputs": [
    {
     "data": {
      "text/plain": [
       "331"
      ]
     },
     "execution_count": 13,
     "metadata": {},
     "output_type": "execute_result"
    }
   ],
   "source": [
    "data['town_name'] = data['town_name'].str.replace('ё', 'е', regex=True)\n",
    "len(data['town_name'].unique())"
   ]
  },
  {
   "cell_type": "markdown",
   "metadata": {},
   "source": [
    "<div class=\"alert alert-success\"; style=\"border-left: 7px solid green\">\n",
    "<h5> ✔️ <font color=\"green\">Комментарий ревьюера (зеленый)</font></h5>\n",
    "\n",
    "Хорошо, что тобою было замечено разное написание слова «посёлок» и было принято решение это исправить 😃\n",
    "\n",
    "</div>"
   ]
  },
  {
   "cell_type": "code",
   "execution_count": 14,
   "metadata": {},
   "outputs": [
    {
     "data": {
      "text/plain": [
       "49"
      ]
     },
     "execution_count": 14,
     "metadata": {},
     "output_type": "execute_result"
    }
   ],
   "source": [
    "data['town_name'].isna().sum()"
   ]
  },
  {
   "cell_type": "markdown",
   "metadata": {},
   "source": [
    "Стало меньше. Мелочь а приятно. Судя по всему недвижимость пользуется спром не только в Питере и крупных городах Ленинградской области, но и в маленьких деревнях.\n",
    "\n",
    "При этом объявления без указания населенного пункта бесполезны для потенциальных покупателей, поэтому такие записи можно сразу удалить без зазрения совести."
   ]
  },
  {
   "cell_type": "code",
   "execution_count": 15,
   "metadata": {},
   "outputs": [
    {
     "data": {
      "text/plain": [
       "0"
      ]
     },
     "execution_count": 15,
     "metadata": {},
     "output_type": "execute_result"
    }
   ],
   "source": [
    "data = data.dropna(subset=['town_name'])\n",
    "data['town_name'].isna().sum()"
   ]
  },
  {
   "cell_type": "code",
   "execution_count": 16,
   "metadata": {},
   "outputs": [
    {
     "name": "stdout",
     "output_type": "stream",
     "text": [
      "<class 'pandas.core.frame.DataFrame'>\n",
      "Int64Index: 23650 entries, 0 to 23698\n",
      "Data columns (total 22 columns):\n",
      " #   Column                Non-Null Count  Dtype  \n",
      "---  ------                --------------  -----  \n",
      " 0   town_name             23650 non-null  object \n",
      " 1   total_area_m2         23650 non-null  float64\n",
      " 2   living_area           21752 non-null  float64\n",
      " 3   kitchen_area          21381 non-null  float64\n",
      " 4   ceiling_height        14490 non-null  float64\n",
      " 5   rooms                 23650 non-null  int64  \n",
      " 6   balcony               12137 non-null  float64\n",
      " 7   floor                 23650 non-null  int64  \n",
      " 8   floors_total          23565 non-null  float64\n",
      " 9   is_apartment          2760 non-null   object \n",
      " 10  is_studio             23650 non-null  bool   \n",
      " 11  is_open_plan          23650 non-null  bool   \n",
      " 12  total_images          23650 non-null  int64  \n",
      " 13  last_price            23650 non-null  float64\n",
      " 14  first_day_exposition  23650 non-null  object \n",
      " 15  days_exposition       20470 non-null  float64\n",
      " 16  city_center_distance  18139 non-null  float64\n",
      " 17  airports_nearest      18116 non-null  float64\n",
      " 18  parks_nearest         8064 non-null   float64\n",
      " 19  parks_around_3km      18140 non-null  float64\n",
      " 20  ponds_nearest         9085 non-null   float64\n",
      " 21  ponds_around_3km      18140 non-null  float64\n",
      "dtypes: bool(2), float64(14), int64(3), object(3)\n",
      "memory usage: 3.8+ MB\n"
     ]
    }
   ],
   "source": [
    "data.info()"
   ]
  },
  {
   "cell_type": "code",
   "execution_count": 17,
   "metadata": {},
   "outputs": [
    {
     "data": {
      "text/plain": [
       "array([nan, False, True], dtype=object)"
      ]
     },
     "execution_count": 17,
     "metadata": {},
     "output_type": "execute_result"
    }
   ],
   "source": [
    "data['is_apartment'].unique()"
   ]
  },
  {
   "cell_type": "markdown",
   "metadata": {},
   "source": [
    "Параметр \"is_apartment\" явно отвечает на коварный вопрос \"А не является ли апартаментами недвижимость в объявлении?\"\n",
    "А значит значение NaN как бы намекает, что нет. Значит пустые значения очень даже можно заменить на значение False. "
   ]
  },
  {
   "cell_type": "code",
   "execution_count": 18,
   "metadata": {},
   "outputs": [],
   "source": [
    "data['is_apartment'] = data['is_apartment'].fillna(0)"
   ]
  },
  {
   "cell_type": "markdown",
   "metadata": {},
   "source": [
    "Тяга к прекрасному и любовь к цифрам заставляет меня привести этот столбец к набору цифр 0 и 1."
   ]
  },
  {
   "cell_type": "code",
   "execution_count": 19,
   "metadata": {},
   "outputs": [
    {
     "data": {
      "text/html": [
       "<div>\n",
       "<style scoped>\n",
       "    .dataframe tbody tr th:only-of-type {\n",
       "        vertical-align: middle;\n",
       "    }\n",
       "\n",
       "    .dataframe tbody tr th {\n",
       "        vertical-align: top;\n",
       "    }\n",
       "\n",
       "    .dataframe thead th {\n",
       "        text-align: right;\n",
       "    }\n",
       "</style>\n",
       "<table border=\"1\" class=\"dataframe\">\n",
       "  <thead>\n",
       "    <tr style=\"text-align: right;\">\n",
       "      <th></th>\n",
       "      <th>town_name</th>\n",
       "      <th>total_area_m2</th>\n",
       "      <th>living_area</th>\n",
       "      <th>kitchen_area</th>\n",
       "      <th>ceiling_height</th>\n",
       "      <th>rooms</th>\n",
       "      <th>balcony</th>\n",
       "      <th>floor</th>\n",
       "      <th>floors_total</th>\n",
       "      <th>is_apartment</th>\n",
       "      <th>is_studio</th>\n",
       "      <th>is_open_plan</th>\n",
       "      <th>total_images</th>\n",
       "      <th>last_price</th>\n",
       "      <th>first_day_exposition</th>\n",
       "      <th>days_exposition</th>\n",
       "      <th>city_center_distance</th>\n",
       "      <th>airports_nearest</th>\n",
       "      <th>parks_nearest</th>\n",
       "      <th>parks_around_3km</th>\n",
       "      <th>ponds_nearest</th>\n",
       "      <th>ponds_around_3km</th>\n",
       "    </tr>\n",
       "  </thead>\n",
       "  <tbody>\n",
       "    <tr>\n",
       "      <th>0</th>\n",
       "      <td>Санкт-Петербург</td>\n",
       "      <td>108.0</td>\n",
       "      <td>51.0</td>\n",
       "      <td>25.0</td>\n",
       "      <td>2.70</td>\n",
       "      <td>3</td>\n",
       "      <td>NaN</td>\n",
       "      <td>8</td>\n",
       "      <td>16.0</td>\n",
       "      <td>0</td>\n",
       "      <td>False</td>\n",
       "      <td>False</td>\n",
       "      <td>20</td>\n",
       "      <td>13000000.0</td>\n",
       "      <td>2019-03-07T00:00:00</td>\n",
       "      <td>NaN</td>\n",
       "      <td>16028.0</td>\n",
       "      <td>18863.0</td>\n",
       "      <td>482.0</td>\n",
       "      <td>1.0</td>\n",
       "      <td>755.0</td>\n",
       "      <td>2.0</td>\n",
       "    </tr>\n",
       "    <tr>\n",
       "      <th>1</th>\n",
       "      <td>поселок Шушары</td>\n",
       "      <td>40.4</td>\n",
       "      <td>18.6</td>\n",
       "      <td>11.0</td>\n",
       "      <td>NaN</td>\n",
       "      <td>1</td>\n",
       "      <td>2.0</td>\n",
       "      <td>1</td>\n",
       "      <td>11.0</td>\n",
       "      <td>0</td>\n",
       "      <td>False</td>\n",
       "      <td>False</td>\n",
       "      <td>7</td>\n",
       "      <td>3350000.0</td>\n",
       "      <td>2018-12-04T00:00:00</td>\n",
       "      <td>81.0</td>\n",
       "      <td>18603.0</td>\n",
       "      <td>12817.0</td>\n",
       "      <td>NaN</td>\n",
       "      <td>0.0</td>\n",
       "      <td>NaN</td>\n",
       "      <td>0.0</td>\n",
       "    </tr>\n",
       "    <tr>\n",
       "      <th>2</th>\n",
       "      <td>Санкт-Петербург</td>\n",
       "      <td>56.0</td>\n",
       "      <td>34.3</td>\n",
       "      <td>8.3</td>\n",
       "      <td>NaN</td>\n",
       "      <td>2</td>\n",
       "      <td>0.0</td>\n",
       "      <td>4</td>\n",
       "      <td>5.0</td>\n",
       "      <td>0</td>\n",
       "      <td>False</td>\n",
       "      <td>False</td>\n",
       "      <td>10</td>\n",
       "      <td>5196000.0</td>\n",
       "      <td>2015-08-20T00:00:00</td>\n",
       "      <td>558.0</td>\n",
       "      <td>13933.0</td>\n",
       "      <td>21741.0</td>\n",
       "      <td>90.0</td>\n",
       "      <td>1.0</td>\n",
       "      <td>574.0</td>\n",
       "      <td>2.0</td>\n",
       "    </tr>\n",
       "    <tr>\n",
       "      <th>3</th>\n",
       "      <td>Санкт-Петербург</td>\n",
       "      <td>159.0</td>\n",
       "      <td>NaN</td>\n",
       "      <td>NaN</td>\n",
       "      <td>NaN</td>\n",
       "      <td>3</td>\n",
       "      <td>0.0</td>\n",
       "      <td>9</td>\n",
       "      <td>14.0</td>\n",
       "      <td>0</td>\n",
       "      <td>False</td>\n",
       "      <td>False</td>\n",
       "      <td>0</td>\n",
       "      <td>64900000.0</td>\n",
       "      <td>2015-07-24T00:00:00</td>\n",
       "      <td>424.0</td>\n",
       "      <td>6800.0</td>\n",
       "      <td>28098.0</td>\n",
       "      <td>84.0</td>\n",
       "      <td>2.0</td>\n",
       "      <td>234.0</td>\n",
       "      <td>3.0</td>\n",
       "    </tr>\n",
       "    <tr>\n",
       "      <th>4</th>\n",
       "      <td>Санкт-Петербург</td>\n",
       "      <td>100.0</td>\n",
       "      <td>32.0</td>\n",
       "      <td>41.0</td>\n",
       "      <td>3.03</td>\n",
       "      <td>2</td>\n",
       "      <td>NaN</td>\n",
       "      <td>13</td>\n",
       "      <td>14.0</td>\n",
       "      <td>0</td>\n",
       "      <td>False</td>\n",
       "      <td>False</td>\n",
       "      <td>2</td>\n",
       "      <td>10000000.0</td>\n",
       "      <td>2018-06-19T00:00:00</td>\n",
       "      <td>121.0</td>\n",
       "      <td>8098.0</td>\n",
       "      <td>31856.0</td>\n",
       "      <td>112.0</td>\n",
       "      <td>2.0</td>\n",
       "      <td>48.0</td>\n",
       "      <td>1.0</td>\n",
       "    </tr>\n",
       "  </tbody>\n",
       "</table>\n",
       "</div>"
      ],
      "text/plain": [
       "         town_name  total_area_m2  living_area  kitchen_area  ceiling_height  \\\n",
       "0  Санкт-Петербург          108.0         51.0          25.0            2.70   \n",
       "1   поселок Шушары           40.4         18.6          11.0             NaN   \n",
       "2  Санкт-Петербург           56.0         34.3           8.3             NaN   \n",
       "3  Санкт-Петербург          159.0          NaN           NaN             NaN   \n",
       "4  Санкт-Петербург          100.0         32.0          41.0            3.03   \n",
       "\n",
       "   rooms  balcony  floor  floors_total  is_apartment  is_studio  is_open_plan  \\\n",
       "0      3      NaN      8          16.0             0      False         False   \n",
       "1      1      2.0      1          11.0             0      False         False   \n",
       "2      2      0.0      4           5.0             0      False         False   \n",
       "3      3      0.0      9          14.0             0      False         False   \n",
       "4      2      NaN     13          14.0             0      False         False   \n",
       "\n",
       "   total_images  last_price first_day_exposition  days_exposition  \\\n",
       "0            20  13000000.0  2019-03-07T00:00:00              NaN   \n",
       "1             7   3350000.0  2018-12-04T00:00:00             81.0   \n",
       "2            10   5196000.0  2015-08-20T00:00:00            558.0   \n",
       "3             0  64900000.0  2015-07-24T00:00:00            424.0   \n",
       "4             2  10000000.0  2018-06-19T00:00:00            121.0   \n",
       "\n",
       "   city_center_distance  airports_nearest  parks_nearest  parks_around_3km  \\\n",
       "0               16028.0           18863.0          482.0               1.0   \n",
       "1               18603.0           12817.0            NaN               0.0   \n",
       "2               13933.0           21741.0           90.0               1.0   \n",
       "3                6800.0           28098.0           84.0               2.0   \n",
       "4                8098.0           31856.0          112.0               2.0   \n",
       "\n",
       "   ponds_nearest  ponds_around_3km  \n",
       "0          755.0               2.0  \n",
       "1            NaN               0.0  \n",
       "2          574.0               2.0  \n",
       "3          234.0               3.0  \n",
       "4           48.0               1.0  "
      ]
     },
     "execution_count": 19,
     "metadata": {},
     "output_type": "execute_result"
    }
   ],
   "source": [
    "data['is_apartment'] = data['is_apartment'].map({True: 1, False: 0})\n",
    "data.head()"
   ]
  },
  {
   "cell_type": "markdown",
   "metadata": {},
   "source": [
    "Красиво?\n",
    "\n",
    "Красиво!\n",
    "\n",
    "Но не будем останавливаться на достигнутом и провернём то же самое для столбцов \"is_studio\" и \"is_open_plan\"."
   ]
  },
  {
   "cell_type": "code",
   "execution_count": 20,
   "metadata": {},
   "outputs": [
    {
     "data": {
      "text/html": [
       "<div>\n",
       "<style scoped>\n",
       "    .dataframe tbody tr th:only-of-type {\n",
       "        vertical-align: middle;\n",
       "    }\n",
       "\n",
       "    .dataframe tbody tr th {\n",
       "        vertical-align: top;\n",
       "    }\n",
       "\n",
       "    .dataframe thead th {\n",
       "        text-align: right;\n",
       "    }\n",
       "</style>\n",
       "<table border=\"1\" class=\"dataframe\">\n",
       "  <thead>\n",
       "    <tr style=\"text-align: right;\">\n",
       "      <th></th>\n",
       "      <th>0</th>\n",
       "      <th>1</th>\n",
       "      <th>2</th>\n",
       "      <th>3</th>\n",
       "      <th>4</th>\n",
       "    </tr>\n",
       "  </thead>\n",
       "  <tbody>\n",
       "    <tr>\n",
       "      <th>town_name</th>\n",
       "      <td>Санкт-Петербург</td>\n",
       "      <td>поселок Шушары</td>\n",
       "      <td>Санкт-Петербург</td>\n",
       "      <td>Санкт-Петербург</td>\n",
       "      <td>Санкт-Петербург</td>\n",
       "    </tr>\n",
       "    <tr>\n",
       "      <th>total_area_m2</th>\n",
       "      <td>108.0</td>\n",
       "      <td>40.4</td>\n",
       "      <td>56.0</td>\n",
       "      <td>159.0</td>\n",
       "      <td>100.0</td>\n",
       "    </tr>\n",
       "    <tr>\n",
       "      <th>living_area</th>\n",
       "      <td>51.0</td>\n",
       "      <td>18.6</td>\n",
       "      <td>34.3</td>\n",
       "      <td>NaN</td>\n",
       "      <td>32.0</td>\n",
       "    </tr>\n",
       "    <tr>\n",
       "      <th>kitchen_area</th>\n",
       "      <td>25.0</td>\n",
       "      <td>11.0</td>\n",
       "      <td>8.3</td>\n",
       "      <td>NaN</td>\n",
       "      <td>41.0</td>\n",
       "    </tr>\n",
       "    <tr>\n",
       "      <th>ceiling_height</th>\n",
       "      <td>2.7</td>\n",
       "      <td>NaN</td>\n",
       "      <td>NaN</td>\n",
       "      <td>NaN</td>\n",
       "      <td>3.03</td>\n",
       "    </tr>\n",
       "    <tr>\n",
       "      <th>rooms</th>\n",
       "      <td>3</td>\n",
       "      <td>1</td>\n",
       "      <td>2</td>\n",
       "      <td>3</td>\n",
       "      <td>2</td>\n",
       "    </tr>\n",
       "    <tr>\n",
       "      <th>balcony</th>\n",
       "      <td>NaN</td>\n",
       "      <td>2.0</td>\n",
       "      <td>0.0</td>\n",
       "      <td>0.0</td>\n",
       "      <td>NaN</td>\n",
       "    </tr>\n",
       "    <tr>\n",
       "      <th>floor</th>\n",
       "      <td>8</td>\n",
       "      <td>1</td>\n",
       "      <td>4</td>\n",
       "      <td>9</td>\n",
       "      <td>13</td>\n",
       "    </tr>\n",
       "    <tr>\n",
       "      <th>floors_total</th>\n",
       "      <td>16.0</td>\n",
       "      <td>11.0</td>\n",
       "      <td>5.0</td>\n",
       "      <td>14.0</td>\n",
       "      <td>14.0</td>\n",
       "    </tr>\n",
       "    <tr>\n",
       "      <th>is_apartment</th>\n",
       "      <td>0</td>\n",
       "      <td>0</td>\n",
       "      <td>0</td>\n",
       "      <td>0</td>\n",
       "      <td>0</td>\n",
       "    </tr>\n",
       "    <tr>\n",
       "      <th>is_studio</th>\n",
       "      <td>0</td>\n",
       "      <td>0</td>\n",
       "      <td>0</td>\n",
       "      <td>0</td>\n",
       "      <td>0</td>\n",
       "    </tr>\n",
       "    <tr>\n",
       "      <th>is_open_plan</th>\n",
       "      <td>0</td>\n",
       "      <td>0</td>\n",
       "      <td>0</td>\n",
       "      <td>0</td>\n",
       "      <td>0</td>\n",
       "    </tr>\n",
       "    <tr>\n",
       "      <th>total_images</th>\n",
       "      <td>20</td>\n",
       "      <td>7</td>\n",
       "      <td>10</td>\n",
       "      <td>0</td>\n",
       "      <td>2</td>\n",
       "    </tr>\n",
       "    <tr>\n",
       "      <th>last_price</th>\n",
       "      <td>13000000.0</td>\n",
       "      <td>3350000.0</td>\n",
       "      <td>5196000.0</td>\n",
       "      <td>64900000.0</td>\n",
       "      <td>10000000.0</td>\n",
       "    </tr>\n",
       "    <tr>\n",
       "      <th>first_day_exposition</th>\n",
       "      <td>2019-03-07T00:00:00</td>\n",
       "      <td>2018-12-04T00:00:00</td>\n",
       "      <td>2015-08-20T00:00:00</td>\n",
       "      <td>2015-07-24T00:00:00</td>\n",
       "      <td>2018-06-19T00:00:00</td>\n",
       "    </tr>\n",
       "    <tr>\n",
       "      <th>days_exposition</th>\n",
       "      <td>NaN</td>\n",
       "      <td>81.0</td>\n",
       "      <td>558.0</td>\n",
       "      <td>424.0</td>\n",
       "      <td>121.0</td>\n",
       "    </tr>\n",
       "    <tr>\n",
       "      <th>city_center_distance</th>\n",
       "      <td>16028.0</td>\n",
       "      <td>18603.0</td>\n",
       "      <td>13933.0</td>\n",
       "      <td>6800.0</td>\n",
       "      <td>8098.0</td>\n",
       "    </tr>\n",
       "    <tr>\n",
       "      <th>airports_nearest</th>\n",
       "      <td>18863.0</td>\n",
       "      <td>12817.0</td>\n",
       "      <td>21741.0</td>\n",
       "      <td>28098.0</td>\n",
       "      <td>31856.0</td>\n",
       "    </tr>\n",
       "    <tr>\n",
       "      <th>parks_nearest</th>\n",
       "      <td>482.0</td>\n",
       "      <td>NaN</td>\n",
       "      <td>90.0</td>\n",
       "      <td>84.0</td>\n",
       "      <td>112.0</td>\n",
       "    </tr>\n",
       "    <tr>\n",
       "      <th>parks_around_3km</th>\n",
       "      <td>1.0</td>\n",
       "      <td>0.0</td>\n",
       "      <td>1.0</td>\n",
       "      <td>2.0</td>\n",
       "      <td>2.0</td>\n",
       "    </tr>\n",
       "    <tr>\n",
       "      <th>ponds_nearest</th>\n",
       "      <td>755.0</td>\n",
       "      <td>NaN</td>\n",
       "      <td>574.0</td>\n",
       "      <td>234.0</td>\n",
       "      <td>48.0</td>\n",
       "    </tr>\n",
       "    <tr>\n",
       "      <th>ponds_around_3km</th>\n",
       "      <td>2.0</td>\n",
       "      <td>0.0</td>\n",
       "      <td>2.0</td>\n",
       "      <td>3.0</td>\n",
       "      <td>1.0</td>\n",
       "    </tr>\n",
       "  </tbody>\n",
       "</table>\n",
       "</div>"
      ],
      "text/plain": [
       "                                        0                    1  \\\n",
       "town_name                 Санкт-Петербург       поселок Шушары   \n",
       "total_area_m2                       108.0                 40.4   \n",
       "living_area                          51.0                 18.6   \n",
       "kitchen_area                         25.0                 11.0   \n",
       "ceiling_height                        2.7                  NaN   \n",
       "rooms                                   3                    1   \n",
       "balcony                               NaN                  2.0   \n",
       "floor                                   8                    1   \n",
       "floors_total                         16.0                 11.0   \n",
       "is_apartment                            0                    0   \n",
       "is_studio                               0                    0   \n",
       "is_open_plan                            0                    0   \n",
       "total_images                           20                    7   \n",
       "last_price                     13000000.0            3350000.0   \n",
       "first_day_exposition  2019-03-07T00:00:00  2018-12-04T00:00:00   \n",
       "days_exposition                       NaN                 81.0   \n",
       "city_center_distance              16028.0              18603.0   \n",
       "airports_nearest                  18863.0              12817.0   \n",
       "parks_nearest                       482.0                  NaN   \n",
       "parks_around_3km                      1.0                  0.0   \n",
       "ponds_nearest                       755.0                  NaN   \n",
       "ponds_around_3km                      2.0                  0.0   \n",
       "\n",
       "                                        2                    3  \\\n",
       "town_name                 Санкт-Петербург      Санкт-Петербург   \n",
       "total_area_m2                        56.0                159.0   \n",
       "living_area                          34.3                  NaN   \n",
       "kitchen_area                          8.3                  NaN   \n",
       "ceiling_height                        NaN                  NaN   \n",
       "rooms                                   2                    3   \n",
       "balcony                               0.0                  0.0   \n",
       "floor                                   4                    9   \n",
       "floors_total                          5.0                 14.0   \n",
       "is_apartment                            0                    0   \n",
       "is_studio                               0                    0   \n",
       "is_open_plan                            0                    0   \n",
       "total_images                           10                    0   \n",
       "last_price                      5196000.0           64900000.0   \n",
       "first_day_exposition  2015-08-20T00:00:00  2015-07-24T00:00:00   \n",
       "days_exposition                     558.0                424.0   \n",
       "city_center_distance              13933.0               6800.0   \n",
       "airports_nearest                  21741.0              28098.0   \n",
       "parks_nearest                        90.0                 84.0   \n",
       "parks_around_3km                      1.0                  2.0   \n",
       "ponds_nearest                       574.0                234.0   \n",
       "ponds_around_3km                      2.0                  3.0   \n",
       "\n",
       "                                        4  \n",
       "town_name                 Санкт-Петербург  \n",
       "total_area_m2                       100.0  \n",
       "living_area                          32.0  \n",
       "kitchen_area                         41.0  \n",
       "ceiling_height                       3.03  \n",
       "rooms                                   2  \n",
       "balcony                               NaN  \n",
       "floor                                  13  \n",
       "floors_total                         14.0  \n",
       "is_apartment                            0  \n",
       "is_studio                               0  \n",
       "is_open_plan                            0  \n",
       "total_images                            2  \n",
       "last_price                     10000000.0  \n",
       "first_day_exposition  2018-06-19T00:00:00  \n",
       "days_exposition                     121.0  \n",
       "city_center_distance               8098.0  \n",
       "airports_nearest                  31856.0  \n",
       "parks_nearest                       112.0  \n",
       "parks_around_3km                      2.0  \n",
       "ponds_nearest                        48.0  \n",
       "ponds_around_3km                      1.0  "
      ]
     },
     "execution_count": 20,
     "metadata": {},
     "output_type": "execute_result"
    }
   ],
   "source": [
    "data['is_studio'] = data['is_studio'].map({True: 1, False: 0})\n",
    "data['is_open_plan'] = data['is_open_plan'].map({True: 1, False: 0})\n",
    "data.head().T"
   ]
  },
  {
   "cell_type": "markdown",
   "metadata": {},
   "source": [
    "Время проверки балконов!"
   ]
  },
  {
   "cell_type": "code",
   "execution_count": 21,
   "metadata": {},
   "outputs": [
    {
     "data": {
      "text/plain": [
       "array([nan,  2.,  0.,  1.,  5.,  4.,  3.])"
      ]
     },
     "execution_count": 21,
     "metadata": {},
     "output_type": "execute_result"
    }
   ],
   "source": [
    "data['balcony'].unique()"
   ]
  },
  {
   "cell_type": "markdown",
   "metadata": {},
   "source": [
    "Правдоподобно, нет отрицательных и слишком больших значений. Заменить nan на 0 и можно продолжать дальше."
   ]
  },
  {
   "cell_type": "code",
   "execution_count": 22,
   "metadata": {},
   "outputs": [
    {
     "data": {
      "text/plain": [
       "3.0       81\n",
       "4.0      182\n",
       "5.0      304\n",
       "2.0     3658\n",
       "1.0     4187\n",
       "0.0    15238\n",
       "Name: balcony, dtype: int64"
      ]
     },
     "execution_count": 22,
     "metadata": {},
     "output_type": "execute_result"
    }
   ],
   "source": [
    "data['balcony'] = data['balcony'].fillna(0)\n",
    "data['balcony'].value_counts().sort_values()"
   ]
  },
  {
   "cell_type": "markdown",
   "metadata": {},
   "source": [
    "Балконы красавцы! Чего не скажешь о столбце с датой публицкации объявления. Сейчас там текстовое значение. Приведём его во временной формат"
   ]
  },
  {
   "cell_type": "code",
   "execution_count": 23,
   "metadata": {},
   "outputs": [
    {
     "data": {
      "text/html": [
       "<div>\n",
       "<style scoped>\n",
       "    .dataframe tbody tr th:only-of-type {\n",
       "        vertical-align: middle;\n",
       "    }\n",
       "\n",
       "    .dataframe tbody tr th {\n",
       "        vertical-align: top;\n",
       "    }\n",
       "\n",
       "    .dataframe thead th {\n",
       "        text-align: right;\n",
       "    }\n",
       "</style>\n",
       "<table border=\"1\" class=\"dataframe\">\n",
       "  <thead>\n",
       "    <tr style=\"text-align: right;\">\n",
       "      <th></th>\n",
       "      <th>town_name</th>\n",
       "      <th>total_area_m2</th>\n",
       "      <th>living_area</th>\n",
       "      <th>kitchen_area</th>\n",
       "      <th>ceiling_height</th>\n",
       "      <th>rooms</th>\n",
       "      <th>balcony</th>\n",
       "      <th>floor</th>\n",
       "      <th>floors_total</th>\n",
       "      <th>is_apartment</th>\n",
       "      <th>is_studio</th>\n",
       "      <th>is_open_plan</th>\n",
       "      <th>total_images</th>\n",
       "      <th>last_price</th>\n",
       "      <th>first_day_exposition</th>\n",
       "      <th>days_exposition</th>\n",
       "      <th>city_center_distance</th>\n",
       "      <th>airports_nearest</th>\n",
       "      <th>parks_nearest</th>\n",
       "      <th>parks_around_3km</th>\n",
       "      <th>ponds_nearest</th>\n",
       "      <th>ponds_around_3km</th>\n",
       "    </tr>\n",
       "  </thead>\n",
       "  <tbody>\n",
       "    <tr>\n",
       "      <th>0</th>\n",
       "      <td>Санкт-Петербург</td>\n",
       "      <td>108.0</td>\n",
       "      <td>51.0</td>\n",
       "      <td>25.0</td>\n",
       "      <td>2.70</td>\n",
       "      <td>3</td>\n",
       "      <td>0.0</td>\n",
       "      <td>8</td>\n",
       "      <td>16.0</td>\n",
       "      <td>0</td>\n",
       "      <td>0</td>\n",
       "      <td>0</td>\n",
       "      <td>20</td>\n",
       "      <td>13000000.0</td>\n",
       "      <td>2019-03-07</td>\n",
       "      <td>NaN</td>\n",
       "      <td>16028.0</td>\n",
       "      <td>18863.0</td>\n",
       "      <td>482.0</td>\n",
       "      <td>1.0</td>\n",
       "      <td>755.0</td>\n",
       "      <td>2.0</td>\n",
       "    </tr>\n",
       "    <tr>\n",
       "      <th>1</th>\n",
       "      <td>поселок Шушары</td>\n",
       "      <td>40.4</td>\n",
       "      <td>18.6</td>\n",
       "      <td>11.0</td>\n",
       "      <td>NaN</td>\n",
       "      <td>1</td>\n",
       "      <td>2.0</td>\n",
       "      <td>1</td>\n",
       "      <td>11.0</td>\n",
       "      <td>0</td>\n",
       "      <td>0</td>\n",
       "      <td>0</td>\n",
       "      <td>7</td>\n",
       "      <td>3350000.0</td>\n",
       "      <td>2018-12-04</td>\n",
       "      <td>81.0</td>\n",
       "      <td>18603.0</td>\n",
       "      <td>12817.0</td>\n",
       "      <td>NaN</td>\n",
       "      <td>0.0</td>\n",
       "      <td>NaN</td>\n",
       "      <td>0.0</td>\n",
       "    </tr>\n",
       "    <tr>\n",
       "      <th>2</th>\n",
       "      <td>Санкт-Петербург</td>\n",
       "      <td>56.0</td>\n",
       "      <td>34.3</td>\n",
       "      <td>8.3</td>\n",
       "      <td>NaN</td>\n",
       "      <td>2</td>\n",
       "      <td>0.0</td>\n",
       "      <td>4</td>\n",
       "      <td>5.0</td>\n",
       "      <td>0</td>\n",
       "      <td>0</td>\n",
       "      <td>0</td>\n",
       "      <td>10</td>\n",
       "      <td>5196000.0</td>\n",
       "      <td>2015-08-20</td>\n",
       "      <td>558.0</td>\n",
       "      <td>13933.0</td>\n",
       "      <td>21741.0</td>\n",
       "      <td>90.0</td>\n",
       "      <td>1.0</td>\n",
       "      <td>574.0</td>\n",
       "      <td>2.0</td>\n",
       "    </tr>\n",
       "    <tr>\n",
       "      <th>3</th>\n",
       "      <td>Санкт-Петербург</td>\n",
       "      <td>159.0</td>\n",
       "      <td>NaN</td>\n",
       "      <td>NaN</td>\n",
       "      <td>NaN</td>\n",
       "      <td>3</td>\n",
       "      <td>0.0</td>\n",
       "      <td>9</td>\n",
       "      <td>14.0</td>\n",
       "      <td>0</td>\n",
       "      <td>0</td>\n",
       "      <td>0</td>\n",
       "      <td>0</td>\n",
       "      <td>64900000.0</td>\n",
       "      <td>2015-07-24</td>\n",
       "      <td>424.0</td>\n",
       "      <td>6800.0</td>\n",
       "      <td>28098.0</td>\n",
       "      <td>84.0</td>\n",
       "      <td>2.0</td>\n",
       "      <td>234.0</td>\n",
       "      <td>3.0</td>\n",
       "    </tr>\n",
       "    <tr>\n",
       "      <th>4</th>\n",
       "      <td>Санкт-Петербург</td>\n",
       "      <td>100.0</td>\n",
       "      <td>32.0</td>\n",
       "      <td>41.0</td>\n",
       "      <td>3.03</td>\n",
       "      <td>2</td>\n",
       "      <td>0.0</td>\n",
       "      <td>13</td>\n",
       "      <td>14.0</td>\n",
       "      <td>0</td>\n",
       "      <td>0</td>\n",
       "      <td>0</td>\n",
       "      <td>2</td>\n",
       "      <td>10000000.0</td>\n",
       "      <td>2018-06-19</td>\n",
       "      <td>121.0</td>\n",
       "      <td>8098.0</td>\n",
       "      <td>31856.0</td>\n",
       "      <td>112.0</td>\n",
       "      <td>2.0</td>\n",
       "      <td>48.0</td>\n",
       "      <td>1.0</td>\n",
       "    </tr>\n",
       "  </tbody>\n",
       "</table>\n",
       "</div>"
      ],
      "text/plain": [
       "         town_name  total_area_m2  living_area  kitchen_area  ceiling_height  \\\n",
       "0  Санкт-Петербург          108.0         51.0          25.0            2.70   \n",
       "1   поселок Шушары           40.4         18.6          11.0             NaN   \n",
       "2  Санкт-Петербург           56.0         34.3           8.3             NaN   \n",
       "3  Санкт-Петербург          159.0          NaN           NaN             NaN   \n",
       "4  Санкт-Петербург          100.0         32.0          41.0            3.03   \n",
       "\n",
       "   rooms  balcony  floor  floors_total  is_apartment  is_studio  is_open_plan  \\\n",
       "0      3      0.0      8          16.0             0          0             0   \n",
       "1      1      2.0      1          11.0             0          0             0   \n",
       "2      2      0.0      4           5.0             0          0             0   \n",
       "3      3      0.0      9          14.0             0          0             0   \n",
       "4      2      0.0     13          14.0             0          0             0   \n",
       "\n",
       "   total_images  last_price first_day_exposition  days_exposition  \\\n",
       "0            20  13000000.0           2019-03-07              NaN   \n",
       "1             7   3350000.0           2018-12-04             81.0   \n",
       "2            10   5196000.0           2015-08-20            558.0   \n",
       "3             0  64900000.0           2015-07-24            424.0   \n",
       "4             2  10000000.0           2018-06-19            121.0   \n",
       "\n",
       "   city_center_distance  airports_nearest  parks_nearest  parks_around_3km  \\\n",
       "0               16028.0           18863.0          482.0               1.0   \n",
       "1               18603.0           12817.0            NaN               0.0   \n",
       "2               13933.0           21741.0           90.0               1.0   \n",
       "3                6800.0           28098.0           84.0               2.0   \n",
       "4                8098.0           31856.0          112.0               2.0   \n",
       "\n",
       "   ponds_nearest  ponds_around_3km  \n",
       "0          755.0               2.0  \n",
       "1            NaN               0.0  \n",
       "2          574.0               2.0  \n",
       "3          234.0               3.0  \n",
       "4           48.0               1.0  "
      ]
     },
     "execution_count": 23,
     "metadata": {},
     "output_type": "execute_result"
    }
   ],
   "source": [
    "data['first_day_exposition'] = pd.to_datetime(data['first_day_exposition'], format=\"%Y-%m-%dT%H:%M:%S\")\n",
    "data.head()"
   ]
  },
  {
   "cell_type": "markdown",
   "metadata": {},
   "source": [
    "Переведём расстояния в километры"
   ]
  },
  {
   "cell_type": "code",
   "execution_count": 24,
   "metadata": {},
   "outputs": [
    {
     "data": {
      "text/html": [
       "<div>\n",
       "<style scoped>\n",
       "    .dataframe tbody tr th:only-of-type {\n",
       "        vertical-align: middle;\n",
       "    }\n",
       "\n",
       "    .dataframe tbody tr th {\n",
       "        vertical-align: top;\n",
       "    }\n",
       "\n",
       "    .dataframe thead th {\n",
       "        text-align: right;\n",
       "    }\n",
       "</style>\n",
       "<table border=\"1\" class=\"dataframe\">\n",
       "  <thead>\n",
       "    <tr style=\"text-align: right;\">\n",
       "      <th></th>\n",
       "      <th>town_name</th>\n",
       "      <th>total_area_m2</th>\n",
       "      <th>living_area</th>\n",
       "      <th>kitchen_area</th>\n",
       "      <th>ceiling_height</th>\n",
       "      <th>rooms</th>\n",
       "      <th>balcony</th>\n",
       "      <th>floor</th>\n",
       "      <th>floors_total</th>\n",
       "      <th>is_apartment</th>\n",
       "      <th>is_studio</th>\n",
       "      <th>is_open_plan</th>\n",
       "      <th>total_images</th>\n",
       "      <th>last_price</th>\n",
       "      <th>first_day_exposition</th>\n",
       "      <th>days_exposition</th>\n",
       "      <th>city_center_distance</th>\n",
       "      <th>airports_nearest</th>\n",
       "      <th>parks_nearest</th>\n",
       "      <th>parks_around_3km</th>\n",
       "      <th>ponds_nearest</th>\n",
       "      <th>ponds_around_3km</th>\n",
       "    </tr>\n",
       "  </thead>\n",
       "  <tbody>\n",
       "    <tr>\n",
       "      <th>0</th>\n",
       "      <td>Санкт-Петербург</td>\n",
       "      <td>108.0</td>\n",
       "      <td>51.0</td>\n",
       "      <td>25.0</td>\n",
       "      <td>2.70</td>\n",
       "      <td>3</td>\n",
       "      <td>0.0</td>\n",
       "      <td>8</td>\n",
       "      <td>16.0</td>\n",
       "      <td>0</td>\n",
       "      <td>0</td>\n",
       "      <td>0</td>\n",
       "      <td>20</td>\n",
       "      <td>13000000.0</td>\n",
       "      <td>2019-03-07</td>\n",
       "      <td>NaN</td>\n",
       "      <td>16.028</td>\n",
       "      <td>18.863</td>\n",
       "      <td>0.482</td>\n",
       "      <td>1.0</td>\n",
       "      <td>0.755</td>\n",
       "      <td>2.0</td>\n",
       "    </tr>\n",
       "    <tr>\n",
       "      <th>1</th>\n",
       "      <td>поселок Шушары</td>\n",
       "      <td>40.4</td>\n",
       "      <td>18.6</td>\n",
       "      <td>11.0</td>\n",
       "      <td>NaN</td>\n",
       "      <td>1</td>\n",
       "      <td>2.0</td>\n",
       "      <td>1</td>\n",
       "      <td>11.0</td>\n",
       "      <td>0</td>\n",
       "      <td>0</td>\n",
       "      <td>0</td>\n",
       "      <td>7</td>\n",
       "      <td>3350000.0</td>\n",
       "      <td>2018-12-04</td>\n",
       "      <td>81.0</td>\n",
       "      <td>18.603</td>\n",
       "      <td>12.817</td>\n",
       "      <td>NaN</td>\n",
       "      <td>0.0</td>\n",
       "      <td>NaN</td>\n",
       "      <td>0.0</td>\n",
       "    </tr>\n",
       "    <tr>\n",
       "      <th>2</th>\n",
       "      <td>Санкт-Петербург</td>\n",
       "      <td>56.0</td>\n",
       "      <td>34.3</td>\n",
       "      <td>8.3</td>\n",
       "      <td>NaN</td>\n",
       "      <td>2</td>\n",
       "      <td>0.0</td>\n",
       "      <td>4</td>\n",
       "      <td>5.0</td>\n",
       "      <td>0</td>\n",
       "      <td>0</td>\n",
       "      <td>0</td>\n",
       "      <td>10</td>\n",
       "      <td>5196000.0</td>\n",
       "      <td>2015-08-20</td>\n",
       "      <td>558.0</td>\n",
       "      <td>13.933</td>\n",
       "      <td>21.741</td>\n",
       "      <td>0.090</td>\n",
       "      <td>1.0</td>\n",
       "      <td>0.574</td>\n",
       "      <td>2.0</td>\n",
       "    </tr>\n",
       "    <tr>\n",
       "      <th>3</th>\n",
       "      <td>Санкт-Петербург</td>\n",
       "      <td>159.0</td>\n",
       "      <td>NaN</td>\n",
       "      <td>NaN</td>\n",
       "      <td>NaN</td>\n",
       "      <td>3</td>\n",
       "      <td>0.0</td>\n",
       "      <td>9</td>\n",
       "      <td>14.0</td>\n",
       "      <td>0</td>\n",
       "      <td>0</td>\n",
       "      <td>0</td>\n",
       "      <td>0</td>\n",
       "      <td>64900000.0</td>\n",
       "      <td>2015-07-24</td>\n",
       "      <td>424.0</td>\n",
       "      <td>6.800</td>\n",
       "      <td>28.098</td>\n",
       "      <td>0.084</td>\n",
       "      <td>2.0</td>\n",
       "      <td>0.234</td>\n",
       "      <td>3.0</td>\n",
       "    </tr>\n",
       "    <tr>\n",
       "      <th>4</th>\n",
       "      <td>Санкт-Петербург</td>\n",
       "      <td>100.0</td>\n",
       "      <td>32.0</td>\n",
       "      <td>41.0</td>\n",
       "      <td>3.03</td>\n",
       "      <td>2</td>\n",
       "      <td>0.0</td>\n",
       "      <td>13</td>\n",
       "      <td>14.0</td>\n",
       "      <td>0</td>\n",
       "      <td>0</td>\n",
       "      <td>0</td>\n",
       "      <td>2</td>\n",
       "      <td>10000000.0</td>\n",
       "      <td>2018-06-19</td>\n",
       "      <td>121.0</td>\n",
       "      <td>8.098</td>\n",
       "      <td>31.856</td>\n",
       "      <td>0.112</td>\n",
       "      <td>2.0</td>\n",
       "      <td>0.048</td>\n",
       "      <td>1.0</td>\n",
       "    </tr>\n",
       "  </tbody>\n",
       "</table>\n",
       "</div>"
      ],
      "text/plain": [
       "         town_name  total_area_m2  living_area  kitchen_area  ceiling_height  \\\n",
       "0  Санкт-Петербург          108.0         51.0          25.0            2.70   \n",
       "1   поселок Шушары           40.4         18.6          11.0             NaN   \n",
       "2  Санкт-Петербург           56.0         34.3           8.3             NaN   \n",
       "3  Санкт-Петербург          159.0          NaN           NaN             NaN   \n",
       "4  Санкт-Петербург          100.0         32.0          41.0            3.03   \n",
       "\n",
       "   rooms  balcony  floor  floors_total  is_apartment  is_studio  is_open_plan  \\\n",
       "0      3      0.0      8          16.0             0          0             0   \n",
       "1      1      2.0      1          11.0             0          0             0   \n",
       "2      2      0.0      4           5.0             0          0             0   \n",
       "3      3      0.0      9          14.0             0          0             0   \n",
       "4      2      0.0     13          14.0             0          0             0   \n",
       "\n",
       "   total_images  last_price first_day_exposition  days_exposition  \\\n",
       "0            20  13000000.0           2019-03-07              NaN   \n",
       "1             7   3350000.0           2018-12-04             81.0   \n",
       "2            10   5196000.0           2015-08-20            558.0   \n",
       "3             0  64900000.0           2015-07-24            424.0   \n",
       "4             2  10000000.0           2018-06-19            121.0   \n",
       "\n",
       "   city_center_distance  airports_nearest  parks_nearest  parks_around_3km  \\\n",
       "0                16.028            18.863          0.482               1.0   \n",
       "1                18.603            12.817            NaN               0.0   \n",
       "2                13.933            21.741          0.090               1.0   \n",
       "3                 6.800            28.098          0.084               2.0   \n",
       "4                 8.098            31.856          0.112               2.0   \n",
       "\n",
       "   ponds_nearest  ponds_around_3km  \n",
       "0          0.755               2.0  \n",
       "1            NaN               0.0  \n",
       "2          0.574               2.0  \n",
       "3          0.234               3.0  \n",
       "4          0.048               1.0  "
      ]
     },
     "execution_count": 24,
     "metadata": {},
     "output_type": "execute_result"
    }
   ],
   "source": [
    "data['city_center_distance'] = data.apply(lambda x: data['city_center_distance'] / 1000)\n",
    "data['airports_nearest'] = data.apply(lambda x: data['airports_nearest'] / 1000)\n",
    "data['parks_nearest'] = data.apply(lambda x: data['parks_nearest'] / 1000)\n",
    "data['ponds_nearest'] = data.apply(lambda x: data['ponds_nearest'] / 1000)\n",
    "data.head()\n",
    "\n"
   ]
  },
  {
   "cell_type": "code",
   "execution_count": 25,
   "metadata": {},
   "outputs": [
    {
     "data": {
      "text/plain": [
       "9160"
      ]
     },
     "execution_count": 25,
     "metadata": {},
     "output_type": "execute_result"
    }
   ],
   "source": [
    "data['ceiling_height'].isnull().sum()"
   ]
  },
  {
   "cell_type": "markdown",
   "metadata": {},
   "source": [
    "Много нулевых значений для высоты потолков в квартирах. Что-то здесь не так. Скорее всего люди просто не указывают эти данные при заполнении параметров объявления. Если высота потолков большая, то её скорее всего укажут, так как это может быть большим плюсом при выборе квартиры. Значит почти наверняка неуказанные данные где-то в районе среднего значения. Для данного параметра среднее значение равно 2,77, а медианное 2,65. Но на среднее очень влияют выбросы (а-ля 100 метров в максимуме). Поэтому возьмём медианное 2,65"
   ]
  },
  {
   "cell_type": "code",
   "execution_count": 26,
   "metadata": {},
   "outputs": [
    {
     "data": {
      "text/plain": [
       "0"
      ]
     },
     "execution_count": 26,
     "metadata": {},
     "output_type": "execute_result"
    }
   ],
   "source": [
    "height_median = data['ceiling_height'].median()\n",
    "\n",
    "data['ceiling_height'].fillna(value = height_median, inplace=True)\n",
    "data['ceiling_height'].isnull().sum()"
   ]
  },
  {
   "cell_type": "markdown",
   "metadata": {},
   "source": [
    "<div class=\"alert alert-info\"; style=\"border-left: 7px solid SteelBlue\">\n",
    "Исправлено через дополнительную переменную\n",
    "\n",
    "</div>"
   ]
  },
  {
   "cell_type": "markdown",
   "metadata": {},
   "source": [
    "<div class=\"alert alert-warning\"; style=\"border-left: 7px solid Gold\">\n",
    "<h5> ⚠️ <font color=\"DarkGoldenRod\">Комментарий ревьюера (желтый)</font></h5>\n",
    "\n",
    "Выше у тебя харкод, то есть ты прописываешь руками числа, а не ссылаешься на значения из таблицы.\n",
    "\n",
    "Поясню, харкод, это когда ты подставляешь какие-то значения в код руками, а не вычисляешь методами из данных. В данном случае — это плохо, ведь если тебе дать аналогичные по структуре данные, то будут не верные построения и вычисления. Харкод не всегда плохо, например в играх получилось сделать прорыв в графике благодаря числу в коде, которое упрощает вычисления, можешь почитать в [статье](https://thecode.media/quake-root/).\n",
    "\n",
    "</div>"
   ]
  },
  {
   "cell_type": "markdown",
   "metadata": {},
   "source": [
    "<div class=\"alert alert-warning\"; style=\"border-left: 7px solid Gold\">\n",
    "<h5> ⚠️ <font color=\"DarkGoldenRod\">v2 Комментарий ревьюера (желтый)</font></h5>\n",
    "\n",
    "Не совсем верно. В `value` стоит передавать `height_median`\n",
    "\n",
    "</div>"
   ]
  },
  {
   "cell_type": "markdown",
   "metadata": {},
   "source": [
    "<div class=\"alert alert-info\"; style=\"border-left: 7px solid SteelBlue\">\n",
    "Точно. Сбойнуло ядро, а при перезапуске не сохранилось.\n",
    "    \n",
    "Поправил.\n",
    "    \n",
    "С площадью тоже.\n",
    "</div>"
   ]
  },
  {
   "cell_type": "markdown",
   "metadata": {},
   "source": [
    "Аналогичную операцию проведём и для жилой площади и площади кухни."
   ]
  },
  {
   "cell_type": "code",
   "execution_count": 27,
   "metadata": {},
   "outputs": [
    {
     "data": {
      "text/plain": [
       "0"
      ]
     },
     "execution_count": 27,
     "metadata": {},
     "output_type": "execute_result"
    }
   ],
   "source": [
    "living_area_median = data['living_area'].median()\n",
    "\n",
    "data['living_area'].fillna(value = living_area_median, inplace=True)\n",
    "data['living_area'].isnull().sum()"
   ]
  },
  {
   "cell_type": "code",
   "execution_count": 28,
   "metadata": {},
   "outputs": [
    {
     "data": {
      "text/plain": [
       "0"
      ]
     },
     "execution_count": 28,
     "metadata": {},
     "output_type": "execute_result"
    }
   ],
   "source": [
    "kitchen_area_median = data['living_area'].median()\n",
    "\n",
    "data['kitchen_area'].fillna(value = kitchen_area_median, inplace=True)\n",
    "data['kitchen_area'].isnull().sum()"
   ]
  },
  {
   "cell_type": "markdown",
   "metadata": {},
   "source": [
    "**Вывод**\n",
    "\n",
    "- Переименованы и поменяны местами для удобства просмотра некоторые столбцы\n",
    "- Заполнены пустые значения, где это возможно.\n",
    "- Скорректированы названия населённых пунктов (убрана буква Ё)"
   ]
  },
  {
   "cell_type": "markdown",
   "metadata": {},
   "source": [
    "<div class=\"alert alert-success\"; style=\"border-left: 7px solid green\">\n",
    "<h5> ✔️ <font color=\"green\">Комментарий ревьюера (зеленый)</font></h5>\n",
    "\n",
    "Очень хорошо, что тобою так детально и кропотливо были оценены потери и принято правильное решение!\n",
    "\n",
    "</div>"
   ]
  },
  {
   "cell_type": "markdown",
   "metadata": {},
   "source": [
    "## Расчёты и добавление результатов в таблицу"
   ]
  },
  {
   "cell_type": "markdown",
   "metadata": {},
   "source": [
    "Посчитаем стоимость квадратного метра, исходя из площади и общей стоимости квартиры."
   ]
  },
  {
   "cell_type": "code",
   "execution_count": 29,
   "metadata": {},
   "outputs": [
    {
     "data": {
      "text/html": [
       "<div>\n",
       "<style scoped>\n",
       "    .dataframe tbody tr th:only-of-type {\n",
       "        vertical-align: middle;\n",
       "    }\n",
       "\n",
       "    .dataframe tbody tr th {\n",
       "        vertical-align: top;\n",
       "    }\n",
       "\n",
       "    .dataframe thead th {\n",
       "        text-align: right;\n",
       "    }\n",
       "</style>\n",
       "<table border=\"1\" class=\"dataframe\">\n",
       "  <thead>\n",
       "    <tr style=\"text-align: right;\">\n",
       "      <th></th>\n",
       "      <th>town_name</th>\n",
       "      <th>total_area_m2</th>\n",
       "      <th>living_area</th>\n",
       "      <th>kitchen_area</th>\n",
       "      <th>ceiling_height</th>\n",
       "      <th>rooms</th>\n",
       "      <th>balcony</th>\n",
       "      <th>floor</th>\n",
       "      <th>floors_total</th>\n",
       "      <th>is_apartment</th>\n",
       "      <th>is_studio</th>\n",
       "      <th>is_open_plan</th>\n",
       "      <th>total_images</th>\n",
       "      <th>last_price</th>\n",
       "      <th>first_day_exposition</th>\n",
       "      <th>days_exposition</th>\n",
       "      <th>city_center_distance</th>\n",
       "      <th>airports_nearest</th>\n",
       "      <th>parks_nearest</th>\n",
       "      <th>parks_around_3km</th>\n",
       "      <th>ponds_nearest</th>\n",
       "      <th>ponds_around_3km</th>\n",
       "      <th>price_per_meter</th>\n",
       "    </tr>\n",
       "  </thead>\n",
       "  <tbody>\n",
       "    <tr>\n",
       "      <th>0</th>\n",
       "      <td>Санкт-Петербург</td>\n",
       "      <td>108.0</td>\n",
       "      <td>51.0</td>\n",
       "      <td>25.0</td>\n",
       "      <td>2.70</td>\n",
       "      <td>3</td>\n",
       "      <td>0.0</td>\n",
       "      <td>8</td>\n",
       "      <td>16.0</td>\n",
       "      <td>0</td>\n",
       "      <td>0</td>\n",
       "      <td>0</td>\n",
       "      <td>20</td>\n",
       "      <td>13000000.0</td>\n",
       "      <td>2019-03-07</td>\n",
       "      <td>NaN</td>\n",
       "      <td>16.028</td>\n",
       "      <td>18.863</td>\n",
       "      <td>0.482</td>\n",
       "      <td>1.0</td>\n",
       "      <td>0.755</td>\n",
       "      <td>2.0</td>\n",
       "      <td>120370.37</td>\n",
       "    </tr>\n",
       "    <tr>\n",
       "      <th>1</th>\n",
       "      <td>поселок Шушары</td>\n",
       "      <td>40.4</td>\n",
       "      <td>18.6</td>\n",
       "      <td>11.0</td>\n",
       "      <td>2.65</td>\n",
       "      <td>1</td>\n",
       "      <td>2.0</td>\n",
       "      <td>1</td>\n",
       "      <td>11.0</td>\n",
       "      <td>0</td>\n",
       "      <td>0</td>\n",
       "      <td>0</td>\n",
       "      <td>7</td>\n",
       "      <td>3350000.0</td>\n",
       "      <td>2018-12-04</td>\n",
       "      <td>81.0</td>\n",
       "      <td>18.603</td>\n",
       "      <td>12.817</td>\n",
       "      <td>NaN</td>\n",
       "      <td>0.0</td>\n",
       "      <td>NaN</td>\n",
       "      <td>0.0</td>\n",
       "      <td>82920.79</td>\n",
       "    </tr>\n",
       "    <tr>\n",
       "      <th>2</th>\n",
       "      <td>Санкт-Петербург</td>\n",
       "      <td>56.0</td>\n",
       "      <td>34.3</td>\n",
       "      <td>8.3</td>\n",
       "      <td>2.65</td>\n",
       "      <td>2</td>\n",
       "      <td>0.0</td>\n",
       "      <td>4</td>\n",
       "      <td>5.0</td>\n",
       "      <td>0</td>\n",
       "      <td>0</td>\n",
       "      <td>0</td>\n",
       "      <td>10</td>\n",
       "      <td>5196000.0</td>\n",
       "      <td>2015-08-20</td>\n",
       "      <td>558.0</td>\n",
       "      <td>13.933</td>\n",
       "      <td>21.741</td>\n",
       "      <td>0.090</td>\n",
       "      <td>1.0</td>\n",
       "      <td>0.574</td>\n",
       "      <td>2.0</td>\n",
       "      <td>92785.71</td>\n",
       "    </tr>\n",
       "    <tr>\n",
       "      <th>3</th>\n",
       "      <td>Санкт-Петербург</td>\n",
       "      <td>159.0</td>\n",
       "      <td>30.0</td>\n",
       "      <td>30.0</td>\n",
       "      <td>2.65</td>\n",
       "      <td>3</td>\n",
       "      <td>0.0</td>\n",
       "      <td>9</td>\n",
       "      <td>14.0</td>\n",
       "      <td>0</td>\n",
       "      <td>0</td>\n",
       "      <td>0</td>\n",
       "      <td>0</td>\n",
       "      <td>64900000.0</td>\n",
       "      <td>2015-07-24</td>\n",
       "      <td>424.0</td>\n",
       "      <td>6.800</td>\n",
       "      <td>28.098</td>\n",
       "      <td>0.084</td>\n",
       "      <td>2.0</td>\n",
       "      <td>0.234</td>\n",
       "      <td>3.0</td>\n",
       "      <td>408176.10</td>\n",
       "    </tr>\n",
       "    <tr>\n",
       "      <th>4</th>\n",
       "      <td>Санкт-Петербург</td>\n",
       "      <td>100.0</td>\n",
       "      <td>32.0</td>\n",
       "      <td>41.0</td>\n",
       "      <td>3.03</td>\n",
       "      <td>2</td>\n",
       "      <td>0.0</td>\n",
       "      <td>13</td>\n",
       "      <td>14.0</td>\n",
       "      <td>0</td>\n",
       "      <td>0</td>\n",
       "      <td>0</td>\n",
       "      <td>2</td>\n",
       "      <td>10000000.0</td>\n",
       "      <td>2018-06-19</td>\n",
       "      <td>121.0</td>\n",
       "      <td>8.098</td>\n",
       "      <td>31.856</td>\n",
       "      <td>0.112</td>\n",
       "      <td>2.0</td>\n",
       "      <td>0.048</td>\n",
       "      <td>1.0</td>\n",
       "      <td>100000.00</td>\n",
       "    </tr>\n",
       "  </tbody>\n",
       "</table>\n",
       "</div>"
      ],
      "text/plain": [
       "         town_name  total_area_m2  living_area  kitchen_area  ceiling_height  \\\n",
       "0  Санкт-Петербург          108.0         51.0          25.0            2.70   \n",
       "1   поселок Шушары           40.4         18.6          11.0            2.65   \n",
       "2  Санкт-Петербург           56.0         34.3           8.3            2.65   \n",
       "3  Санкт-Петербург          159.0         30.0          30.0            2.65   \n",
       "4  Санкт-Петербург          100.0         32.0          41.0            3.03   \n",
       "\n",
       "   rooms  balcony  floor  floors_total  is_apartment  is_studio  is_open_plan  \\\n",
       "0      3      0.0      8          16.0             0          0             0   \n",
       "1      1      2.0      1          11.0             0          0             0   \n",
       "2      2      0.0      4           5.0             0          0             0   \n",
       "3      3      0.0      9          14.0             0          0             0   \n",
       "4      2      0.0     13          14.0             0          0             0   \n",
       "\n",
       "   total_images  last_price first_day_exposition  days_exposition  \\\n",
       "0            20  13000000.0           2019-03-07              NaN   \n",
       "1             7   3350000.0           2018-12-04             81.0   \n",
       "2            10   5196000.0           2015-08-20            558.0   \n",
       "3             0  64900000.0           2015-07-24            424.0   \n",
       "4             2  10000000.0           2018-06-19            121.0   \n",
       "\n",
       "   city_center_distance  airports_nearest  parks_nearest  parks_around_3km  \\\n",
       "0                16.028            18.863          0.482               1.0   \n",
       "1                18.603            12.817            NaN               0.0   \n",
       "2                13.933            21.741          0.090               1.0   \n",
       "3                 6.800            28.098          0.084               2.0   \n",
       "4                 8.098            31.856          0.112               2.0   \n",
       "\n",
       "   ponds_nearest  ponds_around_3km  price_per_meter  \n",
       "0          0.755               2.0        120370.37  \n",
       "1            NaN               0.0         82920.79  \n",
       "2          0.574               2.0         92785.71  \n",
       "3          0.234               3.0        408176.10  \n",
       "4          0.048               1.0        100000.00  "
      ]
     },
     "execution_count": 29,
     "metadata": {},
     "output_type": "execute_result"
    }
   ],
   "source": [
    "data['price_per_meter'] = data['last_price'] / data['total_area_m2']\n",
    "data['price_per_meter'] = data['price_per_meter'].round(decimals=2)\n",
    "data.head()"
   ]
  },
  {
   "cell_type": "markdown",
   "metadata": {},
   "source": [
    "Добавим день недели, месяц и год публикации объявления."
   ]
  },
  {
   "cell_type": "code",
   "execution_count": 30,
   "metadata": {},
   "outputs": [
    {
     "data": {
      "text/html": [
       "<div>\n",
       "<style scoped>\n",
       "    .dataframe tbody tr th:only-of-type {\n",
       "        vertical-align: middle;\n",
       "    }\n",
       "\n",
       "    .dataframe tbody tr th {\n",
       "        vertical-align: top;\n",
       "    }\n",
       "\n",
       "    .dataframe thead th {\n",
       "        text-align: right;\n",
       "    }\n",
       "</style>\n",
       "<table border=\"1\" class=\"dataframe\">\n",
       "  <thead>\n",
       "    <tr style=\"text-align: right;\">\n",
       "      <th></th>\n",
       "      <th>town_name</th>\n",
       "      <th>total_area_m2</th>\n",
       "      <th>living_area</th>\n",
       "      <th>kitchen_area</th>\n",
       "      <th>ceiling_height</th>\n",
       "      <th>rooms</th>\n",
       "      <th>balcony</th>\n",
       "      <th>floor</th>\n",
       "      <th>floors_total</th>\n",
       "      <th>is_apartment</th>\n",
       "      <th>is_studio</th>\n",
       "      <th>is_open_plan</th>\n",
       "      <th>total_images</th>\n",
       "      <th>last_price</th>\n",
       "      <th>first_day_exposition</th>\n",
       "      <th>days_exposition</th>\n",
       "      <th>city_center_distance</th>\n",
       "      <th>airports_nearest</th>\n",
       "      <th>parks_nearest</th>\n",
       "      <th>parks_around_3km</th>\n",
       "      <th>ponds_nearest</th>\n",
       "      <th>ponds_around_3km</th>\n",
       "      <th>price_per_meter</th>\n",
       "      <th>day_of_week_exposition</th>\n",
       "      <th>month_exposition</th>\n",
       "      <th>year_exposition</th>\n",
       "    </tr>\n",
       "  </thead>\n",
       "  <tbody>\n",
       "    <tr>\n",
       "      <th>0</th>\n",
       "      <td>Санкт-Петербург</td>\n",
       "      <td>108.0</td>\n",
       "      <td>51.0</td>\n",
       "      <td>25.0</td>\n",
       "      <td>2.70</td>\n",
       "      <td>3</td>\n",
       "      <td>0.0</td>\n",
       "      <td>8</td>\n",
       "      <td>16.0</td>\n",
       "      <td>0</td>\n",
       "      <td>0</td>\n",
       "      <td>0</td>\n",
       "      <td>20</td>\n",
       "      <td>13000000.0</td>\n",
       "      <td>2019-03-07</td>\n",
       "      <td>NaN</td>\n",
       "      <td>16.028</td>\n",
       "      <td>18.863</td>\n",
       "      <td>0.482</td>\n",
       "      <td>1.0</td>\n",
       "      <td>0.755</td>\n",
       "      <td>2.0</td>\n",
       "      <td>120370.37</td>\n",
       "      <td>Thursday</td>\n",
       "      <td>March</td>\n",
       "      <td>2019</td>\n",
       "    </tr>\n",
       "    <tr>\n",
       "      <th>1</th>\n",
       "      <td>поселок Шушары</td>\n",
       "      <td>40.4</td>\n",
       "      <td>18.6</td>\n",
       "      <td>11.0</td>\n",
       "      <td>2.65</td>\n",
       "      <td>1</td>\n",
       "      <td>2.0</td>\n",
       "      <td>1</td>\n",
       "      <td>11.0</td>\n",
       "      <td>0</td>\n",
       "      <td>0</td>\n",
       "      <td>0</td>\n",
       "      <td>7</td>\n",
       "      <td>3350000.0</td>\n",
       "      <td>2018-12-04</td>\n",
       "      <td>81.0</td>\n",
       "      <td>18.603</td>\n",
       "      <td>12.817</td>\n",
       "      <td>NaN</td>\n",
       "      <td>0.0</td>\n",
       "      <td>NaN</td>\n",
       "      <td>0.0</td>\n",
       "      <td>82920.79</td>\n",
       "      <td>Tuesday</td>\n",
       "      <td>December</td>\n",
       "      <td>2018</td>\n",
       "    </tr>\n",
       "    <tr>\n",
       "      <th>2</th>\n",
       "      <td>Санкт-Петербург</td>\n",
       "      <td>56.0</td>\n",
       "      <td>34.3</td>\n",
       "      <td>8.3</td>\n",
       "      <td>2.65</td>\n",
       "      <td>2</td>\n",
       "      <td>0.0</td>\n",
       "      <td>4</td>\n",
       "      <td>5.0</td>\n",
       "      <td>0</td>\n",
       "      <td>0</td>\n",
       "      <td>0</td>\n",
       "      <td>10</td>\n",
       "      <td>5196000.0</td>\n",
       "      <td>2015-08-20</td>\n",
       "      <td>558.0</td>\n",
       "      <td>13.933</td>\n",
       "      <td>21.741</td>\n",
       "      <td>0.090</td>\n",
       "      <td>1.0</td>\n",
       "      <td>0.574</td>\n",
       "      <td>2.0</td>\n",
       "      <td>92785.71</td>\n",
       "      <td>Thursday</td>\n",
       "      <td>August</td>\n",
       "      <td>2015</td>\n",
       "    </tr>\n",
       "    <tr>\n",
       "      <th>3</th>\n",
       "      <td>Санкт-Петербург</td>\n",
       "      <td>159.0</td>\n",
       "      <td>30.0</td>\n",
       "      <td>30.0</td>\n",
       "      <td>2.65</td>\n",
       "      <td>3</td>\n",
       "      <td>0.0</td>\n",
       "      <td>9</td>\n",
       "      <td>14.0</td>\n",
       "      <td>0</td>\n",
       "      <td>0</td>\n",
       "      <td>0</td>\n",
       "      <td>0</td>\n",
       "      <td>64900000.0</td>\n",
       "      <td>2015-07-24</td>\n",
       "      <td>424.0</td>\n",
       "      <td>6.800</td>\n",
       "      <td>28.098</td>\n",
       "      <td>0.084</td>\n",
       "      <td>2.0</td>\n",
       "      <td>0.234</td>\n",
       "      <td>3.0</td>\n",
       "      <td>408176.10</td>\n",
       "      <td>Friday</td>\n",
       "      <td>July</td>\n",
       "      <td>2015</td>\n",
       "    </tr>\n",
       "    <tr>\n",
       "      <th>4</th>\n",
       "      <td>Санкт-Петербург</td>\n",
       "      <td>100.0</td>\n",
       "      <td>32.0</td>\n",
       "      <td>41.0</td>\n",
       "      <td>3.03</td>\n",
       "      <td>2</td>\n",
       "      <td>0.0</td>\n",
       "      <td>13</td>\n",
       "      <td>14.0</td>\n",
       "      <td>0</td>\n",
       "      <td>0</td>\n",
       "      <td>0</td>\n",
       "      <td>2</td>\n",
       "      <td>10000000.0</td>\n",
       "      <td>2018-06-19</td>\n",
       "      <td>121.0</td>\n",
       "      <td>8.098</td>\n",
       "      <td>31.856</td>\n",
       "      <td>0.112</td>\n",
       "      <td>2.0</td>\n",
       "      <td>0.048</td>\n",
       "      <td>1.0</td>\n",
       "      <td>100000.00</td>\n",
       "      <td>Tuesday</td>\n",
       "      <td>June</td>\n",
       "      <td>2018</td>\n",
       "    </tr>\n",
       "  </tbody>\n",
       "</table>\n",
       "</div>"
      ],
      "text/plain": [
       "         town_name  total_area_m2  living_area  kitchen_area  ceiling_height  \\\n",
       "0  Санкт-Петербург          108.0         51.0          25.0            2.70   \n",
       "1   поселок Шушары           40.4         18.6          11.0            2.65   \n",
       "2  Санкт-Петербург           56.0         34.3           8.3            2.65   \n",
       "3  Санкт-Петербург          159.0         30.0          30.0            2.65   \n",
       "4  Санкт-Петербург          100.0         32.0          41.0            3.03   \n",
       "\n",
       "   rooms  balcony  floor  floors_total  is_apartment  is_studio  is_open_plan  \\\n",
       "0      3      0.0      8          16.0             0          0             0   \n",
       "1      1      2.0      1          11.0             0          0             0   \n",
       "2      2      0.0      4           5.0             0          0             0   \n",
       "3      3      0.0      9          14.0             0          0             0   \n",
       "4      2      0.0     13          14.0             0          0             0   \n",
       "\n",
       "   total_images  last_price first_day_exposition  days_exposition  \\\n",
       "0            20  13000000.0           2019-03-07              NaN   \n",
       "1             7   3350000.0           2018-12-04             81.0   \n",
       "2            10   5196000.0           2015-08-20            558.0   \n",
       "3             0  64900000.0           2015-07-24            424.0   \n",
       "4             2  10000000.0           2018-06-19            121.0   \n",
       "\n",
       "   city_center_distance  airports_nearest  parks_nearest  parks_around_3km  \\\n",
       "0                16.028            18.863          0.482               1.0   \n",
       "1                18.603            12.817            NaN               0.0   \n",
       "2                13.933            21.741          0.090               1.0   \n",
       "3                 6.800            28.098          0.084               2.0   \n",
       "4                 8.098            31.856          0.112               2.0   \n",
       "\n",
       "   ponds_nearest  ponds_around_3km  price_per_meter day_of_week_exposition  \\\n",
       "0          0.755               2.0        120370.37               Thursday   \n",
       "1            NaN               0.0         82920.79                Tuesday   \n",
       "2          0.574               2.0         92785.71               Thursday   \n",
       "3          0.234               3.0        408176.10                 Friday   \n",
       "4          0.048               1.0        100000.00                Tuesday   \n",
       "\n",
       "  month_exposition  year_exposition  \n",
       "0            March             2019  \n",
       "1         December             2018  \n",
       "2           August             2015  \n",
       "3             July             2015  \n",
       "4             June             2018  "
      ]
     },
     "execution_count": 30,
     "metadata": {},
     "output_type": "execute_result"
    }
   ],
   "source": [
    "data['day_of_week_exposition'] = data['first_day_exposition'].dt.day_name()\n",
    "data['month_exposition'] = data['first_day_exposition'].dt.month_name()\n",
    "data['year_exposition'] = data['first_day_exposition'].dt.year\n",
    "data.head()"
   ]
  },
  {
   "cell_type": "markdown",
   "metadata": {},
   "source": [
    "Добавим данные по этажам (первый/последний/другой). Напишем для этого отдельную функцию."
   ]
  },
  {
   "cell_type": "code",
   "execution_count": 31,
   "metadata": {},
   "outputs": [],
   "source": [
    "def floor_status(row):\n",
    "    if row['floor'] == 1:\n",
    "        return 'первый'\n",
    "    elif row['floor'] == row['floors_total']:\n",
    "        return 'последний'\n",
    "    else:\n",
    "        return 'другой'"
   ]
  },
  {
   "cell_type": "code",
   "execution_count": 32,
   "metadata": {
    "scrolled": true
   },
   "outputs": [
    {
     "data": {
      "text/html": [
       "<div>\n",
       "<style scoped>\n",
       "    .dataframe tbody tr th:only-of-type {\n",
       "        vertical-align: middle;\n",
       "    }\n",
       "\n",
       "    .dataframe tbody tr th {\n",
       "        vertical-align: top;\n",
       "    }\n",
       "\n",
       "    .dataframe thead th {\n",
       "        text-align: right;\n",
       "    }\n",
       "</style>\n",
       "<table border=\"1\" class=\"dataframe\">\n",
       "  <thead>\n",
       "    <tr style=\"text-align: right;\">\n",
       "      <th></th>\n",
       "      <th>town_name</th>\n",
       "      <th>total_area_m2</th>\n",
       "      <th>living_area</th>\n",
       "      <th>kitchen_area</th>\n",
       "      <th>ceiling_height</th>\n",
       "      <th>rooms</th>\n",
       "      <th>balcony</th>\n",
       "      <th>floor</th>\n",
       "      <th>floors_total</th>\n",
       "      <th>is_apartment</th>\n",
       "      <th>is_studio</th>\n",
       "      <th>is_open_plan</th>\n",
       "      <th>total_images</th>\n",
       "      <th>last_price</th>\n",
       "      <th>first_day_exposition</th>\n",
       "      <th>days_exposition</th>\n",
       "      <th>city_center_distance</th>\n",
       "      <th>airports_nearest</th>\n",
       "      <th>parks_nearest</th>\n",
       "      <th>parks_around_3km</th>\n",
       "      <th>ponds_nearest</th>\n",
       "      <th>ponds_around_3km</th>\n",
       "      <th>price_per_meter</th>\n",
       "      <th>day_of_week_exposition</th>\n",
       "      <th>month_exposition</th>\n",
       "      <th>year_exposition</th>\n",
       "      <th>floor_status</th>\n",
       "    </tr>\n",
       "  </thead>\n",
       "  <tbody>\n",
       "    <tr>\n",
       "      <th>0</th>\n",
       "      <td>Санкт-Петербург</td>\n",
       "      <td>108.0</td>\n",
       "      <td>51.0</td>\n",
       "      <td>25.0</td>\n",
       "      <td>2.70</td>\n",
       "      <td>3</td>\n",
       "      <td>0.0</td>\n",
       "      <td>8</td>\n",
       "      <td>16.0</td>\n",
       "      <td>0</td>\n",
       "      <td>0</td>\n",
       "      <td>0</td>\n",
       "      <td>20</td>\n",
       "      <td>13000000.0</td>\n",
       "      <td>2019-03-07</td>\n",
       "      <td>NaN</td>\n",
       "      <td>16.028</td>\n",
       "      <td>18.863</td>\n",
       "      <td>0.482</td>\n",
       "      <td>1.0</td>\n",
       "      <td>0.755</td>\n",
       "      <td>2.0</td>\n",
       "      <td>120370.37</td>\n",
       "      <td>Thursday</td>\n",
       "      <td>March</td>\n",
       "      <td>2019</td>\n",
       "      <td>другой</td>\n",
       "    </tr>\n",
       "    <tr>\n",
       "      <th>1</th>\n",
       "      <td>поселок Шушары</td>\n",
       "      <td>40.4</td>\n",
       "      <td>18.6</td>\n",
       "      <td>11.0</td>\n",
       "      <td>2.65</td>\n",
       "      <td>1</td>\n",
       "      <td>2.0</td>\n",
       "      <td>1</td>\n",
       "      <td>11.0</td>\n",
       "      <td>0</td>\n",
       "      <td>0</td>\n",
       "      <td>0</td>\n",
       "      <td>7</td>\n",
       "      <td>3350000.0</td>\n",
       "      <td>2018-12-04</td>\n",
       "      <td>81.0</td>\n",
       "      <td>18.603</td>\n",
       "      <td>12.817</td>\n",
       "      <td>NaN</td>\n",
       "      <td>0.0</td>\n",
       "      <td>NaN</td>\n",
       "      <td>0.0</td>\n",
       "      <td>82920.79</td>\n",
       "      <td>Tuesday</td>\n",
       "      <td>December</td>\n",
       "      <td>2018</td>\n",
       "      <td>первый</td>\n",
       "    </tr>\n",
       "    <tr>\n",
       "      <th>2</th>\n",
       "      <td>Санкт-Петербург</td>\n",
       "      <td>56.0</td>\n",
       "      <td>34.3</td>\n",
       "      <td>8.3</td>\n",
       "      <td>2.65</td>\n",
       "      <td>2</td>\n",
       "      <td>0.0</td>\n",
       "      <td>4</td>\n",
       "      <td>5.0</td>\n",
       "      <td>0</td>\n",
       "      <td>0</td>\n",
       "      <td>0</td>\n",
       "      <td>10</td>\n",
       "      <td>5196000.0</td>\n",
       "      <td>2015-08-20</td>\n",
       "      <td>558.0</td>\n",
       "      <td>13.933</td>\n",
       "      <td>21.741</td>\n",
       "      <td>0.090</td>\n",
       "      <td>1.0</td>\n",
       "      <td>0.574</td>\n",
       "      <td>2.0</td>\n",
       "      <td>92785.71</td>\n",
       "      <td>Thursday</td>\n",
       "      <td>August</td>\n",
       "      <td>2015</td>\n",
       "      <td>другой</td>\n",
       "    </tr>\n",
       "    <tr>\n",
       "      <th>3</th>\n",
       "      <td>Санкт-Петербург</td>\n",
       "      <td>159.0</td>\n",
       "      <td>30.0</td>\n",
       "      <td>30.0</td>\n",
       "      <td>2.65</td>\n",
       "      <td>3</td>\n",
       "      <td>0.0</td>\n",
       "      <td>9</td>\n",
       "      <td>14.0</td>\n",
       "      <td>0</td>\n",
       "      <td>0</td>\n",
       "      <td>0</td>\n",
       "      <td>0</td>\n",
       "      <td>64900000.0</td>\n",
       "      <td>2015-07-24</td>\n",
       "      <td>424.0</td>\n",
       "      <td>6.800</td>\n",
       "      <td>28.098</td>\n",
       "      <td>0.084</td>\n",
       "      <td>2.0</td>\n",
       "      <td>0.234</td>\n",
       "      <td>3.0</td>\n",
       "      <td>408176.10</td>\n",
       "      <td>Friday</td>\n",
       "      <td>July</td>\n",
       "      <td>2015</td>\n",
       "      <td>другой</td>\n",
       "    </tr>\n",
       "    <tr>\n",
       "      <th>4</th>\n",
       "      <td>Санкт-Петербург</td>\n",
       "      <td>100.0</td>\n",
       "      <td>32.0</td>\n",
       "      <td>41.0</td>\n",
       "      <td>3.03</td>\n",
       "      <td>2</td>\n",
       "      <td>0.0</td>\n",
       "      <td>13</td>\n",
       "      <td>14.0</td>\n",
       "      <td>0</td>\n",
       "      <td>0</td>\n",
       "      <td>0</td>\n",
       "      <td>2</td>\n",
       "      <td>10000000.0</td>\n",
       "      <td>2018-06-19</td>\n",
       "      <td>121.0</td>\n",
       "      <td>8.098</td>\n",
       "      <td>31.856</td>\n",
       "      <td>0.112</td>\n",
       "      <td>2.0</td>\n",
       "      <td>0.048</td>\n",
       "      <td>1.0</td>\n",
       "      <td>100000.00</td>\n",
       "      <td>Tuesday</td>\n",
       "      <td>June</td>\n",
       "      <td>2018</td>\n",
       "      <td>другой</td>\n",
       "    </tr>\n",
       "  </tbody>\n",
       "</table>\n",
       "</div>"
      ],
      "text/plain": [
       "         town_name  total_area_m2  living_area  kitchen_area  ceiling_height  \\\n",
       "0  Санкт-Петербург          108.0         51.0          25.0            2.70   \n",
       "1   поселок Шушары           40.4         18.6          11.0            2.65   \n",
       "2  Санкт-Петербург           56.0         34.3           8.3            2.65   \n",
       "3  Санкт-Петербург          159.0         30.0          30.0            2.65   \n",
       "4  Санкт-Петербург          100.0         32.0          41.0            3.03   \n",
       "\n",
       "   rooms  balcony  floor  floors_total  is_apartment  is_studio  is_open_plan  \\\n",
       "0      3      0.0      8          16.0             0          0             0   \n",
       "1      1      2.0      1          11.0             0          0             0   \n",
       "2      2      0.0      4           5.0             0          0             0   \n",
       "3      3      0.0      9          14.0             0          0             0   \n",
       "4      2      0.0     13          14.0             0          0             0   \n",
       "\n",
       "   total_images  last_price first_day_exposition  days_exposition  \\\n",
       "0            20  13000000.0           2019-03-07              NaN   \n",
       "1             7   3350000.0           2018-12-04             81.0   \n",
       "2            10   5196000.0           2015-08-20            558.0   \n",
       "3             0  64900000.0           2015-07-24            424.0   \n",
       "4             2  10000000.0           2018-06-19            121.0   \n",
       "\n",
       "   city_center_distance  airports_nearest  parks_nearest  parks_around_3km  \\\n",
       "0                16.028            18.863          0.482               1.0   \n",
       "1                18.603            12.817            NaN               0.0   \n",
       "2                13.933            21.741          0.090               1.0   \n",
       "3                 6.800            28.098          0.084               2.0   \n",
       "4                 8.098            31.856          0.112               2.0   \n",
       "\n",
       "   ponds_nearest  ponds_around_3km  price_per_meter day_of_week_exposition  \\\n",
       "0          0.755               2.0        120370.37               Thursday   \n",
       "1            NaN               0.0         82920.79                Tuesday   \n",
       "2          0.574               2.0         92785.71               Thursday   \n",
       "3          0.234               3.0        408176.10                 Friday   \n",
       "4          0.048               1.0        100000.00                Tuesday   \n",
       "\n",
       "  month_exposition  year_exposition floor_status  \n",
       "0            March             2019       другой  \n",
       "1         December             2018       первый  \n",
       "2           August             2015       другой  \n",
       "3             July             2015       другой  \n",
       "4             June             2018       другой  "
      ]
     },
     "execution_count": 32,
     "metadata": {},
     "output_type": "execute_result"
    }
   ],
   "source": [
    "data['floor_status'] = data.apply(floor_status, axis=1)\n",
    "data.head()"
   ]
  },
  {
   "cell_type": "markdown",
   "metadata": {},
   "source": []
  },
  {
   "cell_type": "markdown",
   "metadata": {},
   "source": [
    "Вычислим соотношение жилой и общей площади, а также отношение площади кухни к общей"
   ]
  },
  {
   "cell_type": "code",
   "execution_count": 33,
   "metadata": {
    "scrolled": true
   },
   "outputs": [
    {
     "data": {
      "text/html": [
       "<div>\n",
       "<style scoped>\n",
       "    .dataframe tbody tr th:only-of-type {\n",
       "        vertical-align: middle;\n",
       "    }\n",
       "\n",
       "    .dataframe tbody tr th {\n",
       "        vertical-align: top;\n",
       "    }\n",
       "\n",
       "    .dataframe thead th {\n",
       "        text-align: right;\n",
       "    }\n",
       "</style>\n",
       "<table border=\"1\" class=\"dataframe\">\n",
       "  <thead>\n",
       "    <tr style=\"text-align: right;\">\n",
       "      <th></th>\n",
       "      <th>town_name</th>\n",
       "      <th>total_area_m2</th>\n",
       "      <th>living_area</th>\n",
       "      <th>kitchen_area</th>\n",
       "      <th>ceiling_height</th>\n",
       "      <th>rooms</th>\n",
       "      <th>balcony</th>\n",
       "      <th>floor</th>\n",
       "      <th>floors_total</th>\n",
       "      <th>is_apartment</th>\n",
       "      <th>is_studio</th>\n",
       "      <th>is_open_plan</th>\n",
       "      <th>total_images</th>\n",
       "      <th>last_price</th>\n",
       "      <th>first_day_exposition</th>\n",
       "      <th>days_exposition</th>\n",
       "      <th>city_center_distance</th>\n",
       "      <th>airports_nearest</th>\n",
       "      <th>parks_nearest</th>\n",
       "      <th>parks_around_3km</th>\n",
       "      <th>ponds_nearest</th>\n",
       "      <th>ponds_around_3km</th>\n",
       "      <th>price_per_meter</th>\n",
       "      <th>day_of_week_exposition</th>\n",
       "      <th>month_exposition</th>\n",
       "      <th>year_exposition</th>\n",
       "      <th>floor_status</th>\n",
       "      <th>total_living_area_ratio</th>\n",
       "      <th>total_kitchen_area_ratio</th>\n",
       "    </tr>\n",
       "  </thead>\n",
       "  <tbody>\n",
       "    <tr>\n",
       "      <th>0</th>\n",
       "      <td>Санкт-Петербург</td>\n",
       "      <td>108.0</td>\n",
       "      <td>51.0</td>\n",
       "      <td>25.0</td>\n",
       "      <td>2.70</td>\n",
       "      <td>3</td>\n",
       "      <td>0.0</td>\n",
       "      <td>8</td>\n",
       "      <td>16.0</td>\n",
       "      <td>0</td>\n",
       "      <td>0</td>\n",
       "      <td>0</td>\n",
       "      <td>20</td>\n",
       "      <td>13000000.0</td>\n",
       "      <td>2019-03-07</td>\n",
       "      <td>NaN</td>\n",
       "      <td>16.028</td>\n",
       "      <td>18.863</td>\n",
       "      <td>0.482</td>\n",
       "      <td>1.0</td>\n",
       "      <td>0.755</td>\n",
       "      <td>2.0</td>\n",
       "      <td>120370.37</td>\n",
       "      <td>Thursday</td>\n",
       "      <td>March</td>\n",
       "      <td>2019</td>\n",
       "      <td>другой</td>\n",
       "      <td>0.472222</td>\n",
       "      <td>0.231481</td>\n",
       "    </tr>\n",
       "    <tr>\n",
       "      <th>1</th>\n",
       "      <td>поселок Шушары</td>\n",
       "      <td>40.4</td>\n",
       "      <td>18.6</td>\n",
       "      <td>11.0</td>\n",
       "      <td>2.65</td>\n",
       "      <td>1</td>\n",
       "      <td>2.0</td>\n",
       "      <td>1</td>\n",
       "      <td>11.0</td>\n",
       "      <td>0</td>\n",
       "      <td>0</td>\n",
       "      <td>0</td>\n",
       "      <td>7</td>\n",
       "      <td>3350000.0</td>\n",
       "      <td>2018-12-04</td>\n",
       "      <td>81.0</td>\n",
       "      <td>18.603</td>\n",
       "      <td>12.817</td>\n",
       "      <td>NaN</td>\n",
       "      <td>0.0</td>\n",
       "      <td>NaN</td>\n",
       "      <td>0.0</td>\n",
       "      <td>82920.79</td>\n",
       "      <td>Tuesday</td>\n",
       "      <td>December</td>\n",
       "      <td>2018</td>\n",
       "      <td>первый</td>\n",
       "      <td>0.460396</td>\n",
       "      <td>0.272277</td>\n",
       "    </tr>\n",
       "    <tr>\n",
       "      <th>2</th>\n",
       "      <td>Санкт-Петербург</td>\n",
       "      <td>56.0</td>\n",
       "      <td>34.3</td>\n",
       "      <td>8.3</td>\n",
       "      <td>2.65</td>\n",
       "      <td>2</td>\n",
       "      <td>0.0</td>\n",
       "      <td>4</td>\n",
       "      <td>5.0</td>\n",
       "      <td>0</td>\n",
       "      <td>0</td>\n",
       "      <td>0</td>\n",
       "      <td>10</td>\n",
       "      <td>5196000.0</td>\n",
       "      <td>2015-08-20</td>\n",
       "      <td>558.0</td>\n",
       "      <td>13.933</td>\n",
       "      <td>21.741</td>\n",
       "      <td>0.090</td>\n",
       "      <td>1.0</td>\n",
       "      <td>0.574</td>\n",
       "      <td>2.0</td>\n",
       "      <td>92785.71</td>\n",
       "      <td>Thursday</td>\n",
       "      <td>August</td>\n",
       "      <td>2015</td>\n",
       "      <td>другой</td>\n",
       "      <td>0.612500</td>\n",
       "      <td>0.148214</td>\n",
       "    </tr>\n",
       "    <tr>\n",
       "      <th>3</th>\n",
       "      <td>Санкт-Петербург</td>\n",
       "      <td>159.0</td>\n",
       "      <td>30.0</td>\n",
       "      <td>30.0</td>\n",
       "      <td>2.65</td>\n",
       "      <td>3</td>\n",
       "      <td>0.0</td>\n",
       "      <td>9</td>\n",
       "      <td>14.0</td>\n",
       "      <td>0</td>\n",
       "      <td>0</td>\n",
       "      <td>0</td>\n",
       "      <td>0</td>\n",
       "      <td>64900000.0</td>\n",
       "      <td>2015-07-24</td>\n",
       "      <td>424.0</td>\n",
       "      <td>6.800</td>\n",
       "      <td>28.098</td>\n",
       "      <td>0.084</td>\n",
       "      <td>2.0</td>\n",
       "      <td>0.234</td>\n",
       "      <td>3.0</td>\n",
       "      <td>408176.10</td>\n",
       "      <td>Friday</td>\n",
       "      <td>July</td>\n",
       "      <td>2015</td>\n",
       "      <td>другой</td>\n",
       "      <td>0.188679</td>\n",
       "      <td>0.188679</td>\n",
       "    </tr>\n",
       "    <tr>\n",
       "      <th>4</th>\n",
       "      <td>Санкт-Петербург</td>\n",
       "      <td>100.0</td>\n",
       "      <td>32.0</td>\n",
       "      <td>41.0</td>\n",
       "      <td>3.03</td>\n",
       "      <td>2</td>\n",
       "      <td>0.0</td>\n",
       "      <td>13</td>\n",
       "      <td>14.0</td>\n",
       "      <td>0</td>\n",
       "      <td>0</td>\n",
       "      <td>0</td>\n",
       "      <td>2</td>\n",
       "      <td>10000000.0</td>\n",
       "      <td>2018-06-19</td>\n",
       "      <td>121.0</td>\n",
       "      <td>8.098</td>\n",
       "      <td>31.856</td>\n",
       "      <td>0.112</td>\n",
       "      <td>2.0</td>\n",
       "      <td>0.048</td>\n",
       "      <td>1.0</td>\n",
       "      <td>100000.00</td>\n",
       "      <td>Tuesday</td>\n",
       "      <td>June</td>\n",
       "      <td>2018</td>\n",
       "      <td>другой</td>\n",
       "      <td>0.320000</td>\n",
       "      <td>0.410000</td>\n",
       "    </tr>\n",
       "  </tbody>\n",
       "</table>\n",
       "</div>"
      ],
      "text/plain": [
       "         town_name  total_area_m2  living_area  kitchen_area  ceiling_height  \\\n",
       "0  Санкт-Петербург          108.0         51.0          25.0            2.70   \n",
       "1   поселок Шушары           40.4         18.6          11.0            2.65   \n",
       "2  Санкт-Петербург           56.0         34.3           8.3            2.65   \n",
       "3  Санкт-Петербург          159.0         30.0          30.0            2.65   \n",
       "4  Санкт-Петербург          100.0         32.0          41.0            3.03   \n",
       "\n",
       "   rooms  balcony  floor  floors_total  is_apartment  is_studio  is_open_plan  \\\n",
       "0      3      0.0      8          16.0             0          0             0   \n",
       "1      1      2.0      1          11.0             0          0             0   \n",
       "2      2      0.0      4           5.0             0          0             0   \n",
       "3      3      0.0      9          14.0             0          0             0   \n",
       "4      2      0.0     13          14.0             0          0             0   \n",
       "\n",
       "   total_images  last_price first_day_exposition  days_exposition  \\\n",
       "0            20  13000000.0           2019-03-07              NaN   \n",
       "1             7   3350000.0           2018-12-04             81.0   \n",
       "2            10   5196000.0           2015-08-20            558.0   \n",
       "3             0  64900000.0           2015-07-24            424.0   \n",
       "4             2  10000000.0           2018-06-19            121.0   \n",
       "\n",
       "   city_center_distance  airports_nearest  parks_nearest  parks_around_3km  \\\n",
       "0                16.028            18.863          0.482               1.0   \n",
       "1                18.603            12.817            NaN               0.0   \n",
       "2                13.933            21.741          0.090               1.0   \n",
       "3                 6.800            28.098          0.084               2.0   \n",
       "4                 8.098            31.856          0.112               2.0   \n",
       "\n",
       "   ponds_nearest  ponds_around_3km  price_per_meter day_of_week_exposition  \\\n",
       "0          0.755               2.0        120370.37               Thursday   \n",
       "1            NaN               0.0         82920.79                Tuesday   \n",
       "2          0.574               2.0         92785.71               Thursday   \n",
       "3          0.234               3.0        408176.10                 Friday   \n",
       "4          0.048               1.0        100000.00                Tuesday   \n",
       "\n",
       "  month_exposition  year_exposition floor_status  total_living_area_ratio  \\\n",
       "0            March             2019       другой                 0.472222   \n",
       "1         December             2018       первый                 0.460396   \n",
       "2           August             2015       другой                 0.612500   \n",
       "3             July             2015       другой                 0.188679   \n",
       "4             June             2018       другой                 0.320000   \n",
       "\n",
       "   total_kitchen_area_ratio  \n",
       "0                  0.231481  \n",
       "1                  0.272277  \n",
       "2                  0.148214  \n",
       "3                  0.188679  \n",
       "4                  0.410000  "
      ]
     },
     "execution_count": 33,
     "metadata": {},
     "output_type": "execute_result"
    }
   ],
   "source": [
    "data['total_living_area_ratio'] = data['living_area'] / data['total_area_m2']\n",
    "data['total_kitchen_area_ratio'] = data['kitchen_area'] / data['total_area_m2']\n",
    "data.head()"
   ]
  },
  {
   "cell_type": "markdown",
   "metadata": {},
   "source": [
    "**Вывод**\n",
    "\n",
    "Добавлены новые столбцы:\n",
    "- price_per_meter\n",
    "- day_of_week_exposition\n",
    "- month_exposition\n",
    "- year_exposition\n",
    "- total_living_area_ratio\n",
    "- total_kitchen_area_ratio"
   ]
  },
  {
   "cell_type": "markdown",
   "metadata": {},
   "source": [
    "<div class=\"alert alert-success\"; style=\"border-left: 7px solid green\">\n",
    "<h5> ✔️ <font color=\"green\">Комментарий ревьюера (зеленый)</font></h5>\n",
    "\n",
    "Молодец, корректно созданы дополнительные столбцы с необходимыми метриками.\n",
    "\n",
    "</div>"
   ]
  },
  {
   "cell_type": "markdown",
   "metadata": {},
   "source": [
    "## Исследовательский анализ данных"
   ]
  },
  {
   "cell_type": "markdown",
   "metadata": {},
   "source": [
    "Ряд данных в процессе исследования показались необычными. Например:\n",
    "- площадь квартиры 900 кв.м.\n",
    "- высота потолка 1 и 100 м.\n",
    "- количество этажей в доме - 60.\n",
    "\n",
    "Напавшее вдохновение требует автоматизировать процесс поиска выбросов и пересчёта"
   ]
  },
  {
   "cell_type": "markdown",
   "metadata": {},
   "source": [
    "### Анализ площади, цены, числа комнат, высоты потолков."
   ]
  },
  {
   "cell_type": "code",
   "execution_count": 34,
   "metadata": {},
   "outputs": [
    {
     "data": {
      "text/plain": [
       "<AxesSubplot:ylabel='Frequency'>"
      ]
     },
     "execution_count": 34,
     "metadata": {},
     "output_type": "execute_result"
    },
    {
     "data": {
      "image/png": "[encoded data removed]",
      "text/plain": [
       "<Figure size 432x288 with 1 Axes>"
      ]
     },
     "metadata": {
      "needs_background": "light"
     },
     "output_type": "display_data"
    }
   ],
   "source": [
    "data.plot(kind = 'hist',\n",
    "          y = 'total_area_m2',\n",
    "          bins = 150, \n",
    "          label = 'Общая площадь квартир',\n",
    "          range = (0, 250),\n",
    "          grid=True,\n",
    "          legend=True)"
   ]
  },
  {
   "cell_type": "markdown",
   "metadata": {},
   "source": [
    "<div class=\"alert alert-success\"; style=\"border-left: 7px solid green\">\n",
    "<h5> ✔️ <font color=\"green\">Комментарий ревьюера (зеленый)</font></h5>\n",
    "\n",
    "Здорово, что ты используешь range, так нагляднее.\n",
    "\n",
    "</div>"
   ]
  },
  {
   "cell_type": "markdown",
   "metadata": {},
   "source": [
    "Большая часть квартир по площади в пределах 150 кв. м. Самое большое число квартир с площадью до 50 кв. м. Очевидно, что это самые ходовы квартиры, которых и строится, и продаётся больше всего.\n",
    "\n",
    "Локальные пики на графике можно объяснить тем, что площади строившихся квартир как правило имеют жесткие значения, привязанные к серии дома и не меняются годами. Квартиры в домах популярных проектных серий встречаются намного чаще."
   ]
  },
  {
   "cell_type": "code",
   "execution_count": 35,
   "metadata": {},
   "outputs": [],
   "source": [
    "data['last_price'] = data.apply(lambda x: data['last_price'] / 1000000)\n"
   ]
  },
  {
   "cell_type": "markdown",
   "metadata": {},
   "source": [
    "Перевели стоимость квартиры в миллионы"
   ]
  },
  {
   "cell_type": "code",
   "execution_count": 36,
   "metadata": {},
   "outputs": [
    {
     "data": {
      "text/plain": [
       "<AxesSubplot:ylabel='Frequency'>"
      ]
     },
     "execution_count": 36,
     "metadata": {},
     "output_type": "execute_result"
    },
    {
     "data": {
      "image/png": "[encoded data removed]",
      "text/plain": [
       "<Figure size 432x288 with 1 Axes>"
      ]
     },
     "metadata": {
      "needs_background": "light"
     },
     "output_type": "display_data"
    }
   ],
   "source": [
    "data.plot(kind = 'hist',\n",
    "          y= 'last_price',\n",
    "          bins = 100, \n",
    "          label = 'Стоимость квартир',\n",
    "          range = (0,800),\n",
    "          grid=True,\n",
    "          legend=True)"
   ]
  },
  {
   "cell_type": "markdown",
   "metadata": {},
   "source": [
    "Из-за некоторого количества очень дорогих квартир (самая дорогая стоит 763 млн) график выглядит таким образом. Отсечём очень дорогие квартиры (стоимостью больше 100 млн)"
   ]
  },
  {
   "cell_type": "code",
   "execution_count": 37,
   "metadata": {
    "scrolled": true
   },
   "outputs": [
    {
     "data": {
      "text/plain": [
       "<AxesSubplot:ylabel='Frequency'>"
      ]
     },
     "execution_count": 37,
     "metadata": {},
     "output_type": "execute_result"
    },
    {
     "data": {
      "image/png": "[encoded data removed]",
      "text/plain": [
       "<Figure size 432x288 with 1 Axes>"
      ]
     },
     "metadata": {
      "needs_background": "light"
     },
     "output_type": "display_data"
    }
   ],
   "source": [
    "(data\n",
    "     .query('last_price < 100')\n",
    "     .plot(kind = 'hist',\n",
    "          y= 'last_price',\n",
    "          bins = 100, \n",
    "          label = 'Стоимость квартир',\n",
    "          range = (0,100),\n",
    "          grid=True,\n",
    "          legend=True)\n",
    ")"
   ]
  },
  {
   "cell_type": "markdown",
   "metadata": {},
   "source": [
    "Любо-дорого посмотреть! (причём не столько любо, сколько дорого)\n",
    "\n",
    "Для большей части квартир их стоимость лежит в пределах 10 млн рублей."
   ]
  },
  {
   "cell_type": "code",
   "execution_count": 38,
   "metadata": {},
   "outputs": [
    {
     "data": {
      "text/plain": [
       "<AxesSubplot:ylabel='Frequency'>"
      ]
     },
     "execution_count": 38,
     "metadata": {},
     "output_type": "execute_result"
    },
    {
     "data": {
      "image/png": "[encoded data removed]",
      "text/plain": [
       "<Figure size 432x288 with 1 Axes>"
      ]
     },
     "metadata": {
      "needs_background": "light"
     },
     "output_type": "display_data"
    }
   ],
   "source": [
    "data.plot(kind = 'hist',\n",
    "          y= 'rooms',\n",
    "          bins = 10, \n",
    "          label = 'Число комнат',\n",
    "          range = (0,19),\n",
    "          grid=True,\n",
    "          legend=True)"
   ]
  },
  {
   "cell_type": "markdown",
   "metadata": {},
   "source": [
    "Больше всего 3-комнатных и 2-комнатных квартир. Поле них по частоте идут однокомнатные."
   ]
  },
  {
   "cell_type": "code",
   "execution_count": 39,
   "metadata": {},
   "outputs": [
    {
     "data": {
      "text/plain": [
       "<AxesSubplot:ylabel='Frequency'>"
      ]
     },
     "execution_count": 39,
     "metadata": {},
     "output_type": "execute_result"
    },
    {
     "data": {
      "image/png": "[encoded data removed]",
      "text/plain": [
       "<Figure size 432x288 with 1 Axes>"
      ]
     },
     "metadata": {
      "needs_background": "light"
     },
     "output_type": "display_data"
    }
   ],
   "source": [
    "(data\n",
    "     .query('ceiling_height < 10 & ceiling_height > 1.8')\n",
    "     .plot(kind = 'hist',\n",
    "          y= 'ceiling_height',\n",
    "          bins = 100, \n",
    "          label = 'Высота потолков',\n",
    "          range = (1,10),\n",
    "          grid=True,\n",
    "          legend=True)\n",
    ")"
   ]
  },
  {
   "cell_type": "markdown",
   "metadata": {},
   "source": [
    "Большая часть значений высоты потолка сконцентрирована в районе 2,5-3 метров. Экстремально маленькие и большие значения мы отсекли запросом перед построением графика."
   ]
  },
  {
   "cell_type": "code",
   "execution_count": 40,
   "metadata": {},
   "outputs": [
    {
     "data": {
      "text/plain": [
       "<AxesSubplot:ylabel='Frequency'>"
      ]
     },
     "execution_count": 40,
     "metadata": {},
     "output_type": "execute_result"
    },
    {
     "data": {
      "image/png": "[encoded data removed]",
      "text/plain": [
       "<Figure size 432x288 with 1 Axes>"
      ]
     },
     "metadata": {
      "needs_background": "light"
     },
     "output_type": "display_data"
    }
   ],
   "source": [
    "data.plot(kind = 'hist',\n",
    "          y= 'days_exposition',\n",
    "          bins = 100, \n",
    "          label = 'Срок продажи',\n",
    "          #range = (0,20),\n",
    "          grid=True,\n",
    "          legend=True)"
   ]
  },
  {
   "cell_type": "markdown",
   "metadata": {},
   "source": [
    "### Время продажи квартиры"
   ]
  },
  {
   "cell_type": "code",
   "execution_count": 41,
   "metadata": {},
   "outputs": [
    {
     "data": {
      "text/plain": [
       "count    20470.000000\n",
       "mean       180.753200\n",
       "std        219.777916\n",
       "min          1.000000\n",
       "25%         45.000000\n",
       "50%         95.000000\n",
       "75%        231.000000\n",
       "max       1580.000000\n",
       "Name: days_exposition, dtype: float64"
      ]
     },
     "execution_count": 41,
     "metadata": {},
     "output_type": "execute_result"
    }
   ],
   "source": [
    "data['days_exposition'].describe()"
   ]
  },
  {
   "cell_type": "markdown",
   "metadata": {},
   "source": [
    "Большинство квартир продаётся в первые полгода с момента выставления на продажу. Нахождение квартиры в базе недвижимости более 500 дней можно считать аномалией.\n",
    "Среднее значение срока продажи 180 дней. Медианное - 95 дней."
   ]
  },
  {
   "cell_type": "code",
   "execution_count": 42,
   "metadata": {},
   "outputs": [
    {
     "data": {
      "text/plain": [
       "1744"
      ]
     },
     "execution_count": 42,
     "metadata": {},
     "output_type": "execute_result"
    }
   ],
   "source": [
    "data.query('days_exposition > 500')['days_exposition'].count()"
   ]
  },
  {
   "cell_type": "markdown",
   "metadata": {},
   "source": [
    "<div class=\"alert alert-success\"; style=\"border-left: 7px solid green\">\n",
    "<h5> ✔️ <font color=\"green\">Комментарий ревьюера (зеленый)</font></h5>\n",
    "\n",
    "Хорошо, что изучено соотношение анамальных данных, это хорошая практика.\n",
    "\n",
    "</div>"
   ]
  },
  {
   "cell_type": "markdown",
   "metadata": {},
   "source": [
    "Это всего 7% от общего числа записей в базе."
   ]
  },
  {
   "cell_type": "markdown",
   "metadata": {},
   "source": [
    "### Чистим от выбросов, которые мешают анализу"
   ]
  },
  {
   "cell_type": "markdown",
   "metadata": {},
   "source": [
    "Соберём новый датасет, убрав следующие выбросы:\n",
    "- цена выше 100 млн рублей.\n",
    "- высота потолков ниже 2,2 м (чтобы даже у высоких людей был шанс не дотянуться рукой до потолка)\n",
    "- высока потолков выше 5,5 м (могут ведь и двухуровненые квартиры)\n",
    "- срок продажи квартиры более 500 дней (полтора года для продажи более чем достаточно)\n",
    "- число комнат в квартире больше 10 (такие значения чаще появляются из-за опечаток, но очень влияют на средние и медианные значения)\n",
    "- жилая площадь меньше 10 кв.м. (скорее всего тоже опечатки)"
   ]
  },
  {
   "cell_type": "code",
   "execution_count": 43,
   "metadata": {},
   "outputs": [
    {
     "name": "stdout",
     "output_type": "stream",
     "text": [
      "<class 'pandas.core.frame.DataFrame'>\n",
      "Int64Index: 18642 entries, 1 to 23695\n",
      "Data columns (total 29 columns):\n",
      " #   Column                    Non-Null Count  Dtype         \n",
      "---  ------                    --------------  -----         \n",
      " 0   town_name                 18642 non-null  object        \n",
      " 1   total_area_m2             18642 non-null  float64       \n",
      " 2   living_area               18642 non-null  float64       \n",
      " 3   kitchen_area              18642 non-null  float64       \n",
      " 4   ceiling_height            18642 non-null  float64       \n",
      " 5   rooms                     18642 non-null  int64         \n",
      " 6   balcony                   18642 non-null  float64       \n",
      " 7   floor                     18642 non-null  int64         \n",
      " 8   floors_total              18573 non-null  float64       \n",
      " 9   is_apartment              18642 non-null  int64         \n",
      " 10  is_studio                 18642 non-null  int64         \n",
      " 11  is_open_plan              18642 non-null  int64         \n",
      " 12  total_images              18642 non-null  int64         \n",
      " 13  last_price                18642 non-null  float64       \n",
      " 14  first_day_exposition      18642 non-null  datetime64[ns]\n",
      " 15  days_exposition           18642 non-null  float64       \n",
      " 16  city_center_distance      14371 non-null  float64       \n",
      " 17  airports_nearest          14352 non-null  float64       \n",
      " 18  parks_nearest             6200 non-null   float64       \n",
      " 19  parks_around_3km          14371 non-null  float64       \n",
      " 20  ponds_nearest             7044 non-null   float64       \n",
      " 21  ponds_around_3km          14371 non-null  float64       \n",
      " 22  price_per_meter           18642 non-null  float64       \n",
      " 23  day_of_week_exposition    18642 non-null  object        \n",
      " 24  month_exposition          18642 non-null  object        \n",
      " 25  year_exposition           18642 non-null  int64         \n",
      " 26  floor_status              18642 non-null  object        \n",
      " 27  total_living_area_ratio   18642 non-null  float64       \n",
      " 28  total_kitchen_area_ratio  18642 non-null  float64       \n",
      "dtypes: datetime64[ns](1), float64(17), int64(7), object(4)\n",
      "memory usage: 4.3+ MB\n"
     ]
    }
   ],
   "source": [
    "good_data = data.query('last_price <= 100 \\\n",
    "                       and 2.2 <= ceiling_height <= 5.5 \\\n",
    "                       and days_exposition <= 500 \\\n",
    "                       and rooms <= 10 \\\n",
    "                       and living_area >= 10')\n",
    "good_data.info()"
   ]
  },
  {
   "cell_type": "code",
   "execution_count": 44,
   "metadata": {},
   "outputs": [
    {
     "data": {
      "text/html": [
       "<div>\n",
       "<style scoped>\n",
       "    .dataframe tbody tr th:only-of-type {\n",
       "        vertical-align: middle;\n",
       "    }\n",
       "\n",
       "    .dataframe tbody tr th {\n",
       "        vertical-align: top;\n",
       "    }\n",
       "\n",
       "    .dataframe thead th {\n",
       "        text-align: right;\n",
       "    }\n",
       "</style>\n",
       "<table border=\"1\" class=\"dataframe\">\n",
       "  <thead>\n",
       "    <tr style=\"text-align: right;\">\n",
       "      <th></th>\n",
       "      <th>count</th>\n",
       "      <th>mean</th>\n",
       "      <th>std</th>\n",
       "      <th>min</th>\n",
       "      <th>25%</th>\n",
       "      <th>50%</th>\n",
       "      <th>75%</th>\n",
       "      <th>max</th>\n",
       "    </tr>\n",
       "  </thead>\n",
       "  <tbody>\n",
       "    <tr>\n",
       "      <th>total_area_m2</th>\n",
       "      <td>18642.0</td>\n",
       "      <td>57.334394</td>\n",
       "      <td>30.287981</td>\n",
       "      <td>12.000000</td>\n",
       "      <td>39.000000</td>\n",
       "      <td>50.000000</td>\n",
       "      <td>66.200000</td>\n",
       "      <td>495.000000</td>\n",
       "    </tr>\n",
       "    <tr>\n",
       "      <th>living_area</th>\n",
       "      <td>18642.0</td>\n",
       "      <td>32.422082</td>\n",
       "      <td>18.420571</td>\n",
       "      <td>10.000000</td>\n",
       "      <td>18.800000</td>\n",
       "      <td>30.000000</td>\n",
       "      <td>39.100000</td>\n",
       "      <td>347.500000</td>\n",
       "    </tr>\n",
       "    <tr>\n",
       "      <th>kitchen_area</th>\n",
       "      <td>18642.0</td>\n",
       "      <td>12.289220</td>\n",
       "      <td>7.810154</td>\n",
       "      <td>2.000000</td>\n",
       "      <td>7.200000</td>\n",
       "      <td>9.940000</td>\n",
       "      <td>13.100000</td>\n",
       "      <td>107.000000</td>\n",
       "    </tr>\n",
       "    <tr>\n",
       "      <th>ceiling_height</th>\n",
       "      <td>18642.0</td>\n",
       "      <td>2.684637</td>\n",
       "      <td>0.196270</td>\n",
       "      <td>2.200000</td>\n",
       "      <td>2.600000</td>\n",
       "      <td>2.650000</td>\n",
       "      <td>2.700000</td>\n",
       "      <td>5.300000</td>\n",
       "    </tr>\n",
       "    <tr>\n",
       "      <th>rooms</th>\n",
       "      <td>18642.0</td>\n",
       "      <td>1.989486</td>\n",
       "      <td>1.002918</td>\n",
       "      <td>0.000000</td>\n",
       "      <td>1.000000</td>\n",
       "      <td>2.000000</td>\n",
       "      <td>3.000000</td>\n",
       "      <td>10.000000</td>\n",
       "    </tr>\n",
       "    <tr>\n",
       "      <th>balcony</th>\n",
       "      <td>18642.0</td>\n",
       "      <td>0.598058</td>\n",
       "      <td>0.951911</td>\n",
       "      <td>0.000000</td>\n",
       "      <td>0.000000</td>\n",
       "      <td>0.000000</td>\n",
       "      <td>1.000000</td>\n",
       "      <td>5.000000</td>\n",
       "    </tr>\n",
       "    <tr>\n",
       "      <th>floor</th>\n",
       "      <td>18642.0</td>\n",
       "      <td>6.019526</td>\n",
       "      <td>4.955263</td>\n",
       "      <td>1.000000</td>\n",
       "      <td>2.000000</td>\n",
       "      <td>4.000000</td>\n",
       "      <td>8.000000</td>\n",
       "      <td>33.000000</td>\n",
       "    </tr>\n",
       "    <tr>\n",
       "      <th>floors_total</th>\n",
       "      <td>18573.0</td>\n",
       "      <td>10.930706</td>\n",
       "      <td>6.665865</td>\n",
       "      <td>1.000000</td>\n",
       "      <td>5.000000</td>\n",
       "      <td>9.000000</td>\n",
       "      <td>16.000000</td>\n",
       "      <td>60.000000</td>\n",
       "    </tr>\n",
       "    <tr>\n",
       "      <th>is_apartment</th>\n",
       "      <td>18642.0</td>\n",
       "      <td>0.001502</td>\n",
       "      <td>0.038727</td>\n",
       "      <td>0.000000</td>\n",
       "      <td>0.000000</td>\n",
       "      <td>0.000000</td>\n",
       "      <td>0.000000</td>\n",
       "      <td>1.000000</td>\n",
       "    </tr>\n",
       "    <tr>\n",
       "      <th>is_studio</th>\n",
       "      <td>18642.0</td>\n",
       "      <td>0.006652</td>\n",
       "      <td>0.081288</td>\n",
       "      <td>0.000000</td>\n",
       "      <td>0.000000</td>\n",
       "      <td>0.000000</td>\n",
       "      <td>0.000000</td>\n",
       "      <td>1.000000</td>\n",
       "    </tr>\n",
       "    <tr>\n",
       "      <th>is_open_plan</th>\n",
       "      <td>18642.0</td>\n",
       "      <td>0.003487</td>\n",
       "      <td>0.058947</td>\n",
       "      <td>0.000000</td>\n",
       "      <td>0.000000</td>\n",
       "      <td>0.000000</td>\n",
       "      <td>0.000000</td>\n",
       "      <td>1.000000</td>\n",
       "    </tr>\n",
       "    <tr>\n",
       "      <th>total_images</th>\n",
       "      <td>18642.0</td>\n",
       "      <td>9.677127</td>\n",
       "      <td>5.659574</td>\n",
       "      <td>0.000000</td>\n",
       "      <td>6.000000</td>\n",
       "      <td>9.000000</td>\n",
       "      <td>14.000000</td>\n",
       "      <td>50.000000</td>\n",
       "    </tr>\n",
       "    <tr>\n",
       "      <th>last_price</th>\n",
       "      <td>18642.0</td>\n",
       "      <td>5.785562</td>\n",
       "      <td>5.603221</td>\n",
       "      <td>0.012190</td>\n",
       "      <td>3.382583</td>\n",
       "      <td>4.500000</td>\n",
       "      <td>6.350000</td>\n",
       "      <td>99.000000</td>\n",
       "    </tr>\n",
       "    <tr>\n",
       "      <th>days_exposition</th>\n",
       "      <td>18642.0</td>\n",
       "      <td>126.837517</td>\n",
       "      <td>119.088841</td>\n",
       "      <td>1.000000</td>\n",
       "      <td>41.000000</td>\n",
       "      <td>84.000000</td>\n",
       "      <td>180.000000</td>\n",
       "      <td>500.000000</td>\n",
       "    </tr>\n",
       "    <tr>\n",
       "      <th>city_center_distance</th>\n",
       "      <td>14371.0</td>\n",
       "      <td>14.475242</td>\n",
       "      <td>8.441367</td>\n",
       "      <td>0.208000</td>\n",
       "      <td>9.858000</td>\n",
       "      <td>13.282000</td>\n",
       "      <td>16.453500</td>\n",
       "      <td>64.857000</td>\n",
       "    </tr>\n",
       "    <tr>\n",
       "      <th>airports_nearest</th>\n",
       "      <td>14352.0</td>\n",
       "      <td>28.957421</td>\n",
       "      <td>12.829394</td>\n",
       "      <td>0.000000</td>\n",
       "      <td>18.410000</td>\n",
       "      <td>27.014000</td>\n",
       "      <td>37.499000</td>\n",
       "      <td>83.758000</td>\n",
       "    </tr>\n",
       "    <tr>\n",
       "      <th>parks_nearest</th>\n",
       "      <td>6200.0</td>\n",
       "      <td>0.490128</td>\n",
       "      <td>0.341461</td>\n",
       "      <td>0.001000</td>\n",
       "      <td>0.287000</td>\n",
       "      <td>0.453000</td>\n",
       "      <td>0.613000</td>\n",
       "      <td>3.190000</td>\n",
       "    </tr>\n",
       "    <tr>\n",
       "      <th>parks_around_3km</th>\n",
       "      <td>14371.0</td>\n",
       "      <td>0.587085</td>\n",
       "      <td>0.786621</td>\n",
       "      <td>0.000000</td>\n",
       "      <td>0.000000</td>\n",
       "      <td>0.000000</td>\n",
       "      <td>1.000000</td>\n",
       "      <td>3.000000</td>\n",
       "    </tr>\n",
       "    <tr>\n",
       "      <th>ponds_nearest</th>\n",
       "      <td>7044.0</td>\n",
       "      <td>0.526519</td>\n",
       "      <td>0.276251</td>\n",
       "      <td>0.013000</td>\n",
       "      <td>0.307000</td>\n",
       "      <td>0.515000</td>\n",
       "      <td>0.736000</td>\n",
       "      <td>1.344000</td>\n",
       "    </tr>\n",
       "    <tr>\n",
       "      <th>ponds_around_3km</th>\n",
       "      <td>14371.0</td>\n",
       "      <td>0.740519</td>\n",
       "      <td>0.917448</td>\n",
       "      <td>0.000000</td>\n",
       "      <td>0.000000</td>\n",
       "      <td>0.000000</td>\n",
       "      <td>1.000000</td>\n",
       "      <td>3.000000</td>\n",
       "    </tr>\n",
       "    <tr>\n",
       "      <th>price_per_meter</th>\n",
       "      <td>18642.0</td>\n",
       "      <td>96561.666895</td>\n",
       "      <td>38881.100297</td>\n",
       "      <td>111.830000</td>\n",
       "      <td>76461.710000</td>\n",
       "      <td>93806.490000</td>\n",
       "      <td>111633.330000</td>\n",
       "      <td>640422.350000</td>\n",
       "    </tr>\n",
       "    <tr>\n",
       "      <th>year_exposition</th>\n",
       "      <td>18642.0</td>\n",
       "      <td>2017.361388</td>\n",
       "      <td>0.842081</td>\n",
       "      <td>2015.000000</td>\n",
       "      <td>2017.000000</td>\n",
       "      <td>2017.000000</td>\n",
       "      <td>2018.000000</td>\n",
       "      <td>2019.000000</td>\n",
       "    </tr>\n",
       "    <tr>\n",
       "      <th>total_living_area_ratio</th>\n",
       "      <td>18642.0</td>\n",
       "      <td>0.567150</td>\n",
       "      <td>0.124448</td>\n",
       "      <td>0.060716</td>\n",
       "      <td>0.488372</td>\n",
       "      <td>0.566038</td>\n",
       "      <td>0.640678</td>\n",
       "      <td>2.307692</td>\n",
       "    </tr>\n",
       "    <tr>\n",
       "      <th>total_kitchen_area_ratio</th>\n",
       "      <td>18642.0</td>\n",
       "      <td>0.243173</td>\n",
       "      <td>0.198820</td>\n",
       "      <td>0.025381</td>\n",
       "      <td>0.140000</td>\n",
       "      <td>0.186335</td>\n",
       "      <td>0.260748</td>\n",
       "      <td>2.500000</td>\n",
       "    </tr>\n",
       "  </tbody>\n",
       "</table>\n",
       "</div>"
      ],
      "text/plain": [
       "                            count          mean           std          min  \\\n",
       "total_area_m2             18642.0     57.334394     30.287981    12.000000   \n",
       "living_area               18642.0     32.422082     18.420571    10.000000   \n",
       "kitchen_area              18642.0     12.289220      7.810154     2.000000   \n",
       "ceiling_height            18642.0      2.684637      0.196270     2.200000   \n",
       "rooms                     18642.0      1.989486      1.002918     0.000000   \n",
       "balcony                   18642.0      0.598058      0.951911     0.000000   \n",
       "floor                     18642.0      6.019526      4.955263     1.000000   \n",
       "floors_total              18573.0     10.930706      6.665865     1.000000   \n",
       "is_apartment              18642.0      0.001502      0.038727     0.000000   \n",
       "is_studio                 18642.0      0.006652      0.081288     0.000000   \n",
       "is_open_plan              18642.0      0.003487      0.058947     0.000000   \n",
       "total_images              18642.0      9.677127      5.659574     0.000000   \n",
       "last_price                18642.0      5.785562      5.603221     0.012190   \n",
       "days_exposition           18642.0    126.837517    119.088841     1.000000   \n",
       "city_center_distance      14371.0     14.475242      8.441367     0.208000   \n",
       "airports_nearest          14352.0     28.957421     12.829394     0.000000   \n",
       "parks_nearest              6200.0      0.490128      0.341461     0.001000   \n",
       "parks_around_3km          14371.0      0.587085      0.786621     0.000000   \n",
       "ponds_nearest              7044.0      0.526519      0.276251     0.013000   \n",
       "ponds_around_3km          14371.0      0.740519      0.917448     0.000000   \n",
       "price_per_meter           18642.0  96561.666895  38881.100297   111.830000   \n",
       "year_exposition           18642.0   2017.361388      0.842081  2015.000000   \n",
       "total_living_area_ratio   18642.0      0.567150      0.124448     0.060716   \n",
       "total_kitchen_area_ratio  18642.0      0.243173      0.198820     0.025381   \n",
       "\n",
       "                                   25%           50%            75%  \\\n",
       "total_area_m2                39.000000     50.000000      66.200000   \n",
       "living_area                  18.800000     30.000000      39.100000   \n",
       "kitchen_area                  7.200000      9.940000      13.100000   \n",
       "ceiling_height                2.600000      2.650000       2.700000   \n",
       "rooms                         1.000000      2.000000       3.000000   \n",
       "balcony                       0.000000      0.000000       1.000000   \n",
       "floor                         2.000000      4.000000       8.000000   \n",
       "floors_total                  5.000000      9.000000      16.000000   \n",
       "is_apartment                  0.000000      0.000000       0.000000   \n",
       "is_studio                     0.000000      0.000000       0.000000   \n",
       "is_open_plan                  0.000000      0.000000       0.000000   \n",
       "total_images                  6.000000      9.000000      14.000000   \n",
       "last_price                    3.382583      4.500000       6.350000   \n",
       "days_exposition              41.000000     84.000000     180.000000   \n",
       "city_center_distance          9.858000     13.282000      16.453500   \n",
       "airports_nearest             18.410000     27.014000      37.499000   \n",
       "parks_nearest                 0.287000      0.453000       0.613000   \n",
       "parks_around_3km              0.000000      0.000000       1.000000   \n",
       "ponds_nearest                 0.307000      0.515000       0.736000   \n",
       "ponds_around_3km              0.000000      0.000000       1.000000   \n",
       "price_per_meter           76461.710000  93806.490000  111633.330000   \n",
       "year_exposition            2017.000000   2017.000000    2018.000000   \n",
       "total_living_area_ratio       0.488372      0.566038       0.640678   \n",
       "total_kitchen_area_ratio      0.140000      0.186335       0.260748   \n",
       "\n",
       "                                    max  \n",
       "total_area_m2                495.000000  \n",
       "living_area                  347.500000  \n",
       "kitchen_area                 107.000000  \n",
       "ceiling_height                 5.300000  \n",
       "rooms                         10.000000  \n",
       "balcony                        5.000000  \n",
       "floor                         33.000000  \n",
       "floors_total                  60.000000  \n",
       "is_apartment                   1.000000  \n",
       "is_studio                      1.000000  \n",
       "is_open_plan                   1.000000  \n",
       "total_images                  50.000000  \n",
       "last_price                    99.000000  \n",
       "days_exposition              500.000000  \n",
       "city_center_distance          64.857000  \n",
       "airports_nearest              83.758000  \n",
       "parks_nearest                  3.190000  \n",
       "parks_around_3km               3.000000  \n",
       "ponds_nearest                  1.344000  \n",
       "ponds_around_3km               3.000000  \n",
       "price_per_meter           640422.350000  \n",
       "year_exposition             2019.000000  \n",
       "total_living_area_ratio        2.307692  \n",
       "total_kitchen_area_ratio       2.500000  "
      ]
     },
     "execution_count": 44,
     "metadata": {},
     "output_type": "execute_result"
    }
   ],
   "source": [
    "good_data.describe().T"
   ]
  },
  {
   "cell_type": "markdown",
   "metadata": {},
   "source": [
    "Данных стало меньше, но теперь они более точные, так как очищены от выбросов. Можно перейти к выявлению зависимостей между параметрами."
   ]
  },
  {
   "cell_type": "markdown",
   "metadata": {},
   "source": [
    "### Посмотрим, зависит ли цена от площади, числа комнат, удалённости от центра"
   ]
  },
  {
   "cell_type": "code",
   "execution_count": 45,
   "metadata": {},
   "outputs": [
    {
     "data": {
      "text/html": [
       "<style  type=\"text/css\" >\n",
       "#T_9b883_row0_col0,#T_9b883_row1_col1,#T_9b883_row2_col2,#T_9b883_row3_col3{\n",
       "            background-color:  #b40426;\n",
       "            color:  #f1f1f1;\n",
       "        }#T_9b883_row0_col1{\n",
       "            background-color:  #ec8165;\n",
       "            color:  #000000;\n",
       "        }#T_9b883_row0_col2{\n",
       "            background-color:  #e7d7ce;\n",
       "            color:  #000000;\n",
       "        }#T_9b883_row0_col3,#T_9b883_row3_col0,#T_9b883_row3_col1,#T_9b883_row3_col2{\n",
       "            background-color:  #3b4cc0;\n",
       "            color:  #f1f1f1;\n",
       "        }#T_9b883_row1_col0{\n",
       "            background-color:  #ea7b60;\n",
       "            color:  #000000;\n",
       "        }#T_9b883_row1_col2{\n",
       "            background-color:  #ee8669;\n",
       "            color:  #000000;\n",
       "        }#T_9b883_row1_col3{\n",
       "            background-color:  #4b64d5;\n",
       "            color:  #f1f1f1;\n",
       "        }#T_9b883_row2_col0{\n",
       "            background-color:  #efcebd;\n",
       "            color:  #000000;\n",
       "        }#T_9b883_row2_col1{\n",
       "            background-color:  #ed8366;\n",
       "            color:  #000000;\n",
       "        }#T_9b883_row2_col3{\n",
       "            background-color:  #5875e1;\n",
       "            color:  #000000;\n",
       "        }</style><table id=\"T_9b883_\" ><thead>    <tr>        <th class=\"blank level0\" ></th>        <th class=\"col_heading level0 col0\" >last_price</th>        <th class=\"col_heading level0 col1\" >total_area_m2</th>        <th class=\"col_heading level0 col2\" >rooms</th>        <th class=\"col_heading level0 col3\" >city_center_distance</th>    </tr></thead><tbody>\n",
       "                <tr>\n",
       "                        <th id=\"T_9b883_level0_row0\" class=\"row_heading level0 row0\" >last_price</th>\n",
       "                        <td id=\"T_9b883_row0_col0\" class=\"data row0 col0\" >1.000000</td>\n",
       "                        <td id=\"T_9b883_row0_col1\" class=\"data row0 col1\" >0.764127</td>\n",
       "                        <td id=\"T_9b883_row0_col2\" class=\"data row0 col2\" >0.463129</td>\n",
       "                        <td id=\"T_9b883_row0_col3\" class=\"data row0 col3\" >-0.289564</td>\n",
       "            </tr>\n",
       "            <tr>\n",
       "                        <th id=\"T_9b883_level0_row1\" class=\"row_heading level0 row1\" >total_area_m2</th>\n",
       "                        <td id=\"T_9b883_row1_col0\" class=\"data row1 col0\" >0.764127</td>\n",
       "                        <td id=\"T_9b883_row1_col1\" class=\"data row1 col1\" >1.000000</td>\n",
       "                        <td id=\"T_9b883_row1_col2\" class=\"data row1 col2\" >0.760975</td>\n",
       "                        <td id=\"T_9b883_row1_col3\" class=\"data row1 col3\" >-0.215193</td>\n",
       "            </tr>\n",
       "            <tr>\n",
       "                        <th id=\"T_9b883_level0_row2\" class=\"row_heading level0 row2\" >rooms</th>\n",
       "                        <td id=\"T_9b883_row2_col0\" class=\"data row2 col0\" >0.463129</td>\n",
       "                        <td id=\"T_9b883_row2_col1\" class=\"data row2 col1\" >0.760975</td>\n",
       "                        <td id=\"T_9b883_row2_col2\" class=\"data row2 col2\" >1.000000</td>\n",
       "                        <td id=\"T_9b883_row2_col3\" class=\"data row2 col3\" >-0.167310</td>\n",
       "            </tr>\n",
       "            <tr>\n",
       "                        <th id=\"T_9b883_level0_row3\" class=\"row_heading level0 row3\" >city_center_distance</th>\n",
       "                        <td id=\"T_9b883_row3_col0\" class=\"data row3 col0\" >-0.289564</td>\n",
       "                        <td id=\"T_9b883_row3_col1\" class=\"data row3 col1\" >-0.215193</td>\n",
       "                        <td id=\"T_9b883_row3_col2\" class=\"data row3 col2\" >-0.167310</td>\n",
       "                        <td id=\"T_9b883_row3_col3\" class=\"data row3 col3\" >1.000000</td>\n",
       "            </tr>\n",
       "    </tbody></table>"
      ],
      "text/plain": [
       "<pandas.io.formats.style.Styler at 0x7fa54f351c70>"
      ]
     },
     "execution_count": 45,
     "metadata": {},
     "output_type": "execute_result"
    }
   ],
   "source": [
    "corr = good_data[['last_price',\\\n",
    "                  'total_area_m2',\\\n",
    "                  'rooms',\\\n",
    "                  'city_center_distance']].corr()\n",
    "corr.style.background_gradient(cmap='coolwarm')"
   ]
  },
  {
   "cell_type": "markdown",
   "metadata": {},
   "source": [
    "Для проверки себя посмотрим на диаграмму рассеяния для оценки зависимости стоимости цены от площади, количества комнат и расстояния до центра."
   ]
  },
  {
   "cell_type": "code",
   "execution_count": 46,
   "metadata": {},
   "outputs": [
    {
     "data": {
      "text/plain": [
       "<AxesSubplot:xlabel='last_price', ylabel='total_area_m2'>"
      ]
     },
     "execution_count": 46,
     "metadata": {},
     "output_type": "execute_result"
    },
    {
     "data": {
      "image/png": "[encoded data removed]",
      "text/plain": [
       "<Figure size 432x288 with 1 Axes>"
      ]
     },
     "metadata": {
      "needs_background": "light"
     },
     "output_type": "display_data"
    }
   ],
   "source": [
    "good_data.plot(x='last_price', y='total_area_m2', kind='scatter', grid=True, alpha = 0.3)"
   ]
  },
  {
   "cell_type": "code",
   "execution_count": 47,
   "metadata": {
    "scrolled": true
   },
   "outputs": [
    {
     "data": {
      "text/plain": [
       "<AxesSubplot:xlabel='last_price', ylabel='rooms'>"
      ]
     },
     "execution_count": 47,
     "metadata": {},
     "output_type": "execute_result"
    },
    {
     "data": {
      "image/png": "[encoded data removed]",
      "text/plain": [
       "<Figure size 432x288 with 1 Axes>"
      ]
     },
     "metadata": {
      "needs_background": "light"
     },
     "output_type": "display_data"
    }
   ],
   "source": [
    "good_data.plot(x='last_price', y='rooms', kind='scatter', grid=True, alpha = 0.3)"
   ]
  },
  {
   "cell_type": "code",
   "execution_count": 48,
   "metadata": {},
   "outputs": [
    {
     "data": {
      "text/plain": [
       "<AxesSubplot:xlabel='last_price', ylabel='city_center_distance'>"
      ]
     },
     "execution_count": 48,
     "metadata": {},
     "output_type": "execute_result"
    },
    {
     "data": {
      "image/png": "[encoded data removed]",
      "text/plain": [
       "<Figure size 432x288 with 1 Axes>"
      ]
     },
     "metadata": {
      "needs_background": "light"
     },
     "output_type": "display_data"
    }
   ],
   "source": [
    "good_data.plot(x='last_price', y='city_center_distance', kind='scatter', grid=True, alpha = 0.3)"
   ]
  },
  {
   "cell_type": "markdown",
   "metadata": {},
   "source": [
    "Получается логичная картина - конечная цена квартира в максимальной степени напрямую зависит от общей площади. От числа комнат тоже, но не так сильно. При этом зависимость от расстояния от центра города обратная, но самая слабая по всем трём параметрам."
   ]
  },
  {
   "cell_type": "markdown",
   "metadata": {},
   "source": [
    "<div class=\"alert alert-danger\"; style=\"border-left: 7px solid FireBrick\">\n",
    "<h5> ❌ <font color=\"FireBrick\">Комментарий ревьюера (красный)</font></h5>\n",
    "\n",
    "Полный вывод, правильно посчитана и интерпретирована корреляция.\n",
    "    \n",
    "Построй, пожалуйста, график из спринта «Исследовательский анализ данных», урока «Взаимосвязь данных», темы «Корреляция» или темы «Матрица диаграмм рассеяния».\n",
    "\n",
    "</div>"
   ]
  },
  {
   "cell_type": "markdown",
   "metadata": {},
   "source": [
    "<div class=\"alert alert-info\"; style=\"border-left: 7px solid SteelBlue\">\n",
    "Построил диаграммы рассеяния для трёх пар параметров.\n",
    "\n",
    "Первый вывод подтверждён.\n",
    "\n",
    "</div>"
   ]
  },
  {
   "cell_type": "markdown",
   "metadata": {},
   "source": [
    "<div class=\"alert alert-success\"; style=\"border-left: 7px solid green\">\n",
    "<h5> ✔️ <font color=\"green\">v2 Комментарий ревьюера (зеленый)</font></h5>\n",
    "\n",
    "✅ Верное исправление 👍\n",
    "\n",
    "</div>"
   ]
  },
  {
   "cell_type": "markdown",
   "metadata": {},
   "source": [
    "Посмотрим на зависимость цен от этажа (первый/последний/другой), дней недели, месяцев и годов. Но теперь воспользуемся другой формой диаграмм."
   ]
  },
  {
   "cell_type": "code",
   "execution_count": 49,
   "metadata": {},
   "outputs": [
    {
     "data": {
      "image/png": "[encoded data removed]",
      "text/plain": [
       "<Figure size 720x720 with 1 Axes>"
      ]
     },
     "metadata": {
      "needs_background": "light"
     },
     "output_type": "display_data"
    }
   ],
   "source": [
    "plot = good_data.boxplot('last_price', by='floor_status',figsize=(10,10)).set_ylim(0,20)"
   ]
  },
  {
   "cell_type": "markdown",
   "metadata": {},
   "source": [
    "Тоже логичный вывод. Меньше всего средняя стоимость у квартир на первом этаже. Спрос на них и правда ниже в реальности."
   ]
  },
  {
   "cell_type": "code",
   "execution_count": 50,
   "metadata": {},
   "outputs": [
    {
     "data": {
      "image/png": "[encoded data removed]",
      "text/plain": [
       "<Figure size 720x720 with 1 Axes>"
      ]
     },
     "metadata": {
      "needs_background": "light"
     },
     "output_type": "display_data"
    }
   ],
   "source": [
    "plot = good_data.boxplot('last_price', by='day_of_week_exposition',figsize=(10,10)).set_ylim(0,20)"
   ]
  },
  {
   "cell_type": "code",
   "execution_count": 51,
   "metadata": {},
   "outputs": [
    {
     "data": {
      "image/png": "[encoded data removed]",
      "text/plain": [
       "<Figure size 720x720 with 1 Axes>"
      ]
     },
     "metadata": {
      "needs_background": "light"
     },
     "output_type": "display_data"
    }
   ],
   "source": [
    "plot = good_data.boxplot('last_price', by='month_exposition',figsize=(10,10)).set_ylim(0,20)"
   ]
  },
  {
   "cell_type": "code",
   "execution_count": 52,
   "metadata": {},
   "outputs": [
    {
     "data": {
      "image/png": "[encoded data removed]",
      "text/plain": [
       "<Figure size 720x720 with 1 Axes>"
      ]
     },
     "metadata": {
      "needs_background": "light"
     },
     "output_type": "display_data"
    }
   ],
   "source": [
    "plot = good_data.boxplot('last_price', by='year_exposition',figsize=(10,10)).set_ylim(0,20)"
   ]
  },
  {
   "cell_type": "markdown",
   "metadata": {},
   "source": [
    "А вот зависимость от дня недели и месяца не прослеживается. При этом можно заметить небольшие колебания средних и медианных цен по разным годам. Но на это больше влияют макроэкономиеческие факторы в стране и мире в целом. В нашем анализе они не рассматриваются."
   ]
  },
  {
   "cell_type": "markdown",
   "metadata": {},
   "source": [
    "### Посмотрим на населенные пункты с самым дорогим жильём"
   ]
  },
  {
   "cell_type": "markdown",
   "metadata": {},
   "source": [
    "Выберем 10 населённых пунктов с наибольшим числом объявлений. Посчитаем среднюю цену квадратного метра в этих населённых пунктах. Выделим населённые пункты с самой высокой и низкой стоимостью жилья."
   ]
  },
  {
   "cell_type": "code",
   "execution_count": 53,
   "metadata": {},
   "outputs": [
    {
     "data": {
      "text/plain": [
       "Санкт-Петербург      12356\n",
       "поселок Мурино         514\n",
       "поселок Шушары         384\n",
       "Всеволожск             308\n",
       "Колпино                293\n",
       "поселок Парголово      287\n",
       "Пушкин                 278\n",
       "деревня Кудрово        266\n",
       "Гатчина                243\n",
       "Выборг                 191\n",
       "Name: town_name, dtype: int64"
      ]
     },
     "execution_count": 53,
     "metadata": {},
     "output_type": "execute_result"
    }
   ],
   "source": [
    "(good_data['town_name'].value_counts()).head(10)"
   ]
  },
  {
   "cell_type": "markdown",
   "metadata": {},
   "source": [
    "Для определения самой дорогой недвижимости логично сравнивать не абсолютную стоимость квартир, а среднюю стоимость квадратного метра по данным населенным пунктам.\n",
    "\n",
    "Для этого введём новый датафрейм с набором данных по 10 городам."
   ]
  },
  {
   "cell_type": "code",
   "execution_count": 54,
   "metadata": {
    "scrolled": true
   },
   "outputs": [
    {
     "data": {
      "text/html": [
       "<div>\n",
       "<style scoped>\n",
       "    .dataframe tbody tr th:only-of-type {\n",
       "        vertical-align: middle;\n",
       "    }\n",
       "\n",
       "    .dataframe tbody tr th {\n",
       "        vertical-align: top;\n",
       "    }\n",
       "\n",
       "    .dataframe thead th {\n",
       "        text-align: right;\n",
       "    }\n",
       "</style>\n",
       "<table border=\"1\" class=\"dataframe\">\n",
       "  <thead>\n",
       "    <tr style=\"text-align: right;\">\n",
       "      <th></th>\n",
       "      <th>price_per_meter</th>\n",
       "      <th>town_name</th>\n",
       "    </tr>\n",
       "    <tr>\n",
       "      <th>town_name</th>\n",
       "      <th></th>\n",
       "      <th></th>\n",
       "    </tr>\n",
       "  </thead>\n",
       "  <tbody>\n",
       "    <tr>\n",
       "      <th>поселок Лисий Нос</th>\n",
       "      <td>113728.350000</td>\n",
       "      <td>поселок Лисий Нос</td>\n",
       "    </tr>\n",
       "    <tr>\n",
       "      <th>Зеленогорск</th>\n",
       "      <td>111332.344762</td>\n",
       "      <td>Зеленогорск</td>\n",
       "    </tr>\n",
       "    <tr>\n",
       "      <th>Санкт-Петербург</th>\n",
       "      <td>110378.467702</td>\n",
       "      <td>Санкт-Петербург</td>\n",
       "    </tr>\n",
       "    <tr>\n",
       "      <th>Пушкин</th>\n",
       "      <td>101894.611475</td>\n",
       "      <td>Пушкин</td>\n",
       "    </tr>\n",
       "    <tr>\n",
       "      <th>Сестрорецк</th>\n",
       "      <td>101740.605986</td>\n",
       "      <td>Сестрорецк</td>\n",
       "    </tr>\n",
       "    <tr>\n",
       "      <th>Кудрово</th>\n",
       "      <td>98271.364745</td>\n",
       "      <td>Кудрово</td>\n",
       "    </tr>\n",
       "    <tr>\n",
       "      <th>поселок Левашово</th>\n",
       "      <td>96997.690000</td>\n",
       "      <td>поселок Левашово</td>\n",
       "    </tr>\n",
       "    <tr>\n",
       "      <th>деревня Мистолово</th>\n",
       "      <td>96157.153333</td>\n",
       "      <td>деревня Мистолово</td>\n",
       "    </tr>\n",
       "    <tr>\n",
       "      <th>деревня Кудрово</th>\n",
       "      <td>92656.981541</td>\n",
       "      <td>деревня Кудрово</td>\n",
       "    </tr>\n",
       "    <tr>\n",
       "      <th>поселок Стрельна</th>\n",
       "      <td>89219.550286</td>\n",
       "      <td>поселок Стрельна</td>\n",
       "    </tr>\n",
       "  </tbody>\n",
       "</table>\n",
       "</div>"
      ],
      "text/plain": [
       "                   price_per_meter          town_name\n",
       "town_name                                            \n",
       "поселок Лисий Нос    113728.350000  поселок Лисий Нос\n",
       "Зеленогорск          111332.344762        Зеленогорск\n",
       "Санкт-Петербург      110378.467702    Санкт-Петербург\n",
       "Пушкин               101894.611475             Пушкин\n",
       "Сестрорецк           101740.605986         Сестрорецк\n",
       "Кудрово               98271.364745            Кудрово\n",
       "поселок Левашово      96997.690000   поселок Левашово\n",
       "деревня Мистолово     96157.153333  деревня Мистолово\n",
       "деревня Кудрово       92656.981541    деревня Кудрово\n",
       "поселок Стрельна      89219.550286   поселок Стрельна"
      ]
     },
     "execution_count": 54,
     "metadata": {},
     "output_type": "execute_result"
    }
   ],
   "source": [
    "town_data = (good_data\n",
    "     .groupby('town_name')\\\n",
    "     .agg({'price_per_meter':'mean'})\n",
    "     .sort_values('price_per_meter', ascending=False)\n",
    "     .head(10)\n",
    "\n",
    "     \n",
    ")\n",
    " \n",
    "\n",
    "town_data['town_name'] = town_data.index\n",
    "town_data"
   ]
  },
  {
   "cell_type": "code",
   "execution_count": 55,
   "metadata": {},
   "outputs": [
    {
     "data": {
      "text/plain": [
       "<AxesSubplot:xlabel='town_name'>"
      ]
     },
     "execution_count": 55,
     "metadata": {},
     "output_type": "execute_result"
    },
    {
     "data": {
      "image/png": "[encoded data removed]",
      "text/plain": [
       "<Figure size 432x288 with 1 Axes>"
      ]
     },
     "metadata": {
      "needs_background": "light"
     },
     "output_type": "display_data"
    }
   ],
   "source": [
    "town_data.plot(x='town_name', y='price_per_meter', kind='bar', grid=True)"
   ]
  },
  {
   "cell_type": "markdown",
   "metadata": {},
   "source": [
    "<div class=\"alert alert-danger\"; style=\"border-left: 7px solid FireBrick\">\n",
    "<h5> ❌ <font color=\"FireBrick\">Комментарий ревьюера (красный)</font></h5>\n",
    "\n",
    "Построй, пожалуйста, столбчатую диаграмму или ящики с усами по топ 10 населенным пунктам.\n",
    "    \n",
    "\n",
    "</div>"
   ]
  },
  {
   "cell_type": "markdown",
   "metadata": {},
   "source": [
    "<div class=\"alert alert-info\"; style=\"border-left: 7px solid SteelBlue\">\n",
    "Построил через новый набор данных по 10 городам.\n",
    "</div>"
   ]
  },
  {
   "cell_type": "markdown",
   "metadata": {},
   "source": [
    "<div class=\"alert alert-success\"; style=\"border-left: 7px solid green\">\n",
    "<h5> ✔️ <font color=\"green\">v2 Комментарий ревьюера (зеленый)</font></h5>\n",
    "\n",
    "✅ Верное исправление 👍\n",
    "\n",
    "</div>"
   ]
  },
  {
   "cell_type": "markdown",
   "metadata": {},
   "source": [
    "Лисий Нос и Зеленогорск это дорогие районы по отзывам знакомых из Питера. Так что стоимость квадратного метра там вполне может быть сходна со стоимость жилья в Питере."
   ]
  },
  {
   "cell_type": "markdown",
   "metadata": {},
   "source": [
    "### Теперь разберёмся с центром Питера.\n",
    "\n",
    "Вернёмся к исходным неочищенным данным. Посмотрим, в скольких объявлениях вообще указано расстояние до центра."
   ]
  },
  {
   "cell_type": "code",
   "execution_count": 56,
   "metadata": {},
   "outputs": [
    {
     "data": {
      "text/plain": [
       "5511"
      ]
     },
     "execution_count": 56,
     "metadata": {},
     "output_type": "execute_result"
    }
   ],
   "source": [
    "data['city_center_distance'].isnull().sum()"
   ]
  },
  {
   "cell_type": "markdown",
   "metadata": {},
   "source": [
    "Много нулевых значений (чуть меньше четверти исходного набора данных). Чем заполнять непонятно. Квартира может быть как в центре, так и на окраине. А значит медиана или среднее значение испортит нам данные для анализа. К тому же люди, размещая объявления, могут просто не знать расстояние до центра.\n",
    "Поэтому для решения этой задачи соберём новый набор данных, удалив записи с пустым значением расстояния до центра."
   ]
  },
  {
   "cell_type": "code",
   "execution_count": 57,
   "metadata": {
    "scrolled": false
   },
   "outputs": [
    {
     "name": "stdout",
     "output_type": "stream",
     "text": [
      "<class 'pandas.core.frame.DataFrame'>\n",
      "Int64Index: 15721 entries, 0 to 23697\n",
      "Data columns (total 29 columns):\n",
      " #   Column                    Non-Null Count  Dtype         \n",
      "---  ------                    --------------  -----         \n",
      " 0   town_name                 15721 non-null  object        \n",
      " 1   total_area_m2             15721 non-null  float64       \n",
      " 2   living_area               15721 non-null  float64       \n",
      " 3   kitchen_area              15721 non-null  float64       \n",
      " 4   ceiling_height            15721 non-null  float64       \n",
      " 5   rooms                     15721 non-null  int64         \n",
      " 6   balcony                   15721 non-null  float64       \n",
      " 7   floor                     15721 non-null  int64         \n",
      " 8   floors_total              15651 non-null  float64       \n",
      " 9   is_apartment              15721 non-null  int64         \n",
      " 10  is_studio                 15721 non-null  int64         \n",
      " 11  is_open_plan              15721 non-null  int64         \n",
      " 12  total_images              15721 non-null  int64         \n",
      " 13  last_price                15721 non-null  float64       \n",
      " 14  first_day_exposition      15721 non-null  datetime64[ns]\n",
      " 15  days_exposition           13638 non-null  float64       \n",
      " 16  city_center_distance      15660 non-null  float64       \n",
      " 17  airports_nearest          15636 non-null  float64       \n",
      " 18  parks_nearest             7284 non-null   float64       \n",
      " 19  parks_around_3km          15660 non-null  float64       \n",
      " 20  ponds_nearest             7983 non-null   float64       \n",
      " 21  ponds_around_3km          15660 non-null  float64       \n",
      " 22  price_per_meter           15721 non-null  float64       \n",
      " 23  day_of_week_exposition    15721 non-null  object        \n",
      " 24  month_exposition          15721 non-null  object        \n",
      " 25  year_exposition           15721 non-null  int64         \n",
      " 26  floor_status              15721 non-null  object        \n",
      " 27  total_living_area_ratio   15721 non-null  float64       \n",
      " 28  total_kitchen_area_ratio  15721 non-null  float64       \n",
      "dtypes: datetime64[ns](1), float64(17), int64(7), object(4)\n",
      "memory usage: 3.6+ MB\n"
     ]
    }
   ],
   "source": [
    "city_center_data = data.query('town_name == \"Санкт-Петербург\"')\n",
    "city_center_data.dropna(subset=['city_center_distance'])\n",
    "city_center_data.info()"
   ]
  },
  {
   "cell_type": "markdown",
   "metadata": {},
   "source": [
    "Добавим столбец с целочисленным расстоянием до центра"
   ]
  },
  {
   "cell_type": "code",
   "execution_count": 58,
   "metadata": {},
   "outputs": [
    {
     "name": "stderr",
     "output_type": "stream",
     "text": [
      "/tmp/ipykernel_77/3866560508.py:1: SettingWithCopyWarning: \n",
      "A value is trying to be set on a copy of a slice from a DataFrame.\n",
      "Try using .loc[row_indexer,col_indexer] = value instead\n",
      "\n",
      "See the caveats in the documentation: https://pandas.pydata.org/pandas-docs/stable/user_guide/indexing.html#returning-a-view-versus-a-copy\n",
      "  city_center_data['city_center_distance_round'] = city_center_data['city_center_distance'].round(0)\n"
     ]
    },
    {
     "data": {
      "text/html": [
       "<div>\n",
       "<style scoped>\n",
       "    .dataframe tbody tr th:only-of-type {\n",
       "        vertical-align: middle;\n",
       "    }\n",
       "\n",
       "    .dataframe tbody tr th {\n",
       "        vertical-align: top;\n",
       "    }\n",
       "\n",
       "    .dataframe thead th {\n",
       "        text-align: right;\n",
       "    }\n",
       "</style>\n",
       "<table border=\"1\" class=\"dataframe\">\n",
       "  <thead>\n",
       "    <tr style=\"text-align: right;\">\n",
       "      <th></th>\n",
       "      <th>town_name</th>\n",
       "      <th>total_area_m2</th>\n",
       "      <th>living_area</th>\n",
       "      <th>kitchen_area</th>\n",
       "      <th>ceiling_height</th>\n",
       "      <th>rooms</th>\n",
       "      <th>balcony</th>\n",
       "      <th>floor</th>\n",
       "      <th>floors_total</th>\n",
       "      <th>is_apartment</th>\n",
       "      <th>is_studio</th>\n",
       "      <th>is_open_plan</th>\n",
       "      <th>total_images</th>\n",
       "      <th>last_price</th>\n",
       "      <th>first_day_exposition</th>\n",
       "      <th>days_exposition</th>\n",
       "      <th>city_center_distance</th>\n",
       "      <th>airports_nearest</th>\n",
       "      <th>parks_nearest</th>\n",
       "      <th>parks_around_3km</th>\n",
       "      <th>ponds_nearest</th>\n",
       "      <th>ponds_around_3km</th>\n",
       "      <th>price_per_meter</th>\n",
       "      <th>day_of_week_exposition</th>\n",
       "      <th>month_exposition</th>\n",
       "      <th>year_exposition</th>\n",
       "      <th>floor_status</th>\n",
       "      <th>total_living_area_ratio</th>\n",
       "      <th>total_kitchen_area_ratio</th>\n",
       "      <th>city_center_distance_round</th>\n",
       "    </tr>\n",
       "  </thead>\n",
       "  <tbody>\n",
       "    <tr>\n",
       "      <th>0</th>\n",
       "      <td>Санкт-Петербург</td>\n",
       "      <td>108.0</td>\n",
       "      <td>51.0</td>\n",
       "      <td>25.0</td>\n",
       "      <td>2.70</td>\n",
       "      <td>3</td>\n",
       "      <td>0.0</td>\n",
       "      <td>8</td>\n",
       "      <td>16.0</td>\n",
       "      <td>0</td>\n",
       "      <td>0</td>\n",
       "      <td>0</td>\n",
       "      <td>20</td>\n",
       "      <td>13.000</td>\n",
       "      <td>2019-03-07</td>\n",
       "      <td>NaN</td>\n",
       "      <td>16.028</td>\n",
       "      <td>18.863</td>\n",
       "      <td>0.482</td>\n",
       "      <td>1.0</td>\n",
       "      <td>0.755</td>\n",
       "      <td>2.0</td>\n",
       "      <td>120370.37</td>\n",
       "      <td>Thursday</td>\n",
       "      <td>March</td>\n",
       "      <td>2019</td>\n",
       "      <td>другой</td>\n",
       "      <td>0.472222</td>\n",
       "      <td>0.231481</td>\n",
       "      <td>16.0</td>\n",
       "    </tr>\n",
       "    <tr>\n",
       "      <th>2</th>\n",
       "      <td>Санкт-Петербург</td>\n",
       "      <td>56.0</td>\n",
       "      <td>34.3</td>\n",
       "      <td>8.3</td>\n",
       "      <td>2.65</td>\n",
       "      <td>2</td>\n",
       "      <td>0.0</td>\n",
       "      <td>4</td>\n",
       "      <td>5.0</td>\n",
       "      <td>0</td>\n",
       "      <td>0</td>\n",
       "      <td>0</td>\n",
       "      <td>10</td>\n",
       "      <td>5.196</td>\n",
       "      <td>2015-08-20</td>\n",
       "      <td>558.0</td>\n",
       "      <td>13.933</td>\n",
       "      <td>21.741</td>\n",
       "      <td>0.090</td>\n",
       "      <td>1.0</td>\n",
       "      <td>0.574</td>\n",
       "      <td>2.0</td>\n",
       "      <td>92785.71</td>\n",
       "      <td>Thursday</td>\n",
       "      <td>August</td>\n",
       "      <td>2015</td>\n",
       "      <td>другой</td>\n",
       "      <td>0.612500</td>\n",
       "      <td>0.148214</td>\n",
       "      <td>14.0</td>\n",
       "    </tr>\n",
       "    <tr>\n",
       "      <th>3</th>\n",
       "      <td>Санкт-Петербург</td>\n",
       "      <td>159.0</td>\n",
       "      <td>30.0</td>\n",
       "      <td>30.0</td>\n",
       "      <td>2.65</td>\n",
       "      <td>3</td>\n",
       "      <td>0.0</td>\n",
       "      <td>9</td>\n",
       "      <td>14.0</td>\n",
       "      <td>0</td>\n",
       "      <td>0</td>\n",
       "      <td>0</td>\n",
       "      <td>0</td>\n",
       "      <td>64.900</td>\n",
       "      <td>2015-07-24</td>\n",
       "      <td>424.0</td>\n",
       "      <td>6.800</td>\n",
       "      <td>28.098</td>\n",
       "      <td>0.084</td>\n",
       "      <td>2.0</td>\n",
       "      <td>0.234</td>\n",
       "      <td>3.0</td>\n",
       "      <td>408176.10</td>\n",
       "      <td>Friday</td>\n",
       "      <td>July</td>\n",
       "      <td>2015</td>\n",
       "      <td>другой</td>\n",
       "      <td>0.188679</td>\n",
       "      <td>0.188679</td>\n",
       "      <td>7.0</td>\n",
       "    </tr>\n",
       "    <tr>\n",
       "      <th>4</th>\n",
       "      <td>Санкт-Петербург</td>\n",
       "      <td>100.0</td>\n",
       "      <td>32.0</td>\n",
       "      <td>41.0</td>\n",
       "      <td>3.03</td>\n",
       "      <td>2</td>\n",
       "      <td>0.0</td>\n",
       "      <td>13</td>\n",
       "      <td>14.0</td>\n",
       "      <td>0</td>\n",
       "      <td>0</td>\n",
       "      <td>0</td>\n",
       "      <td>2</td>\n",
       "      <td>10.000</td>\n",
       "      <td>2018-06-19</td>\n",
       "      <td>121.0</td>\n",
       "      <td>8.098</td>\n",
       "      <td>31.856</td>\n",
       "      <td>0.112</td>\n",
       "      <td>2.0</td>\n",
       "      <td>0.048</td>\n",
       "      <td>1.0</td>\n",
       "      <td>100000.00</td>\n",
       "      <td>Tuesday</td>\n",
       "      <td>June</td>\n",
       "      <td>2018</td>\n",
       "      <td>другой</td>\n",
       "      <td>0.320000</td>\n",
       "      <td>0.410000</td>\n",
       "      <td>8.0</td>\n",
       "    </tr>\n",
       "    <tr>\n",
       "      <th>7</th>\n",
       "      <td>Санкт-Петербург</td>\n",
       "      <td>71.6</td>\n",
       "      <td>30.0</td>\n",
       "      <td>18.9</td>\n",
       "      <td>2.65</td>\n",
       "      <td>2</td>\n",
       "      <td>2.0</td>\n",
       "      <td>22</td>\n",
       "      <td>24.0</td>\n",
       "      <td>0</td>\n",
       "      <td>0</td>\n",
       "      <td>0</td>\n",
       "      <td>5</td>\n",
       "      <td>7.915</td>\n",
       "      <td>2019-04-18</td>\n",
       "      <td>NaN</td>\n",
       "      <td>11.634</td>\n",
       "      <td>23.982</td>\n",
       "      <td>NaN</td>\n",
       "      <td>0.0</td>\n",
       "      <td>NaN</td>\n",
       "      <td>0.0</td>\n",
       "      <td>110544.69</td>\n",
       "      <td>Thursday</td>\n",
       "      <td>April</td>\n",
       "      <td>2019</td>\n",
       "      <td>другой</td>\n",
       "      <td>0.418994</td>\n",
       "      <td>0.263966</td>\n",
       "      <td>12.0</td>\n",
       "    </tr>\n",
       "    <tr>\n",
       "      <th>9</th>\n",
       "      <td>Санкт-Петербург</td>\n",
       "      <td>61.0</td>\n",
       "      <td>43.6</td>\n",
       "      <td>6.5</td>\n",
       "      <td>2.50</td>\n",
       "      <td>3</td>\n",
       "      <td>2.0</td>\n",
       "      <td>7</td>\n",
       "      <td>9.0</td>\n",
       "      <td>0</td>\n",
       "      <td>0</td>\n",
       "      <td>0</td>\n",
       "      <td>18</td>\n",
       "      <td>5.400</td>\n",
       "      <td>2017-02-26</td>\n",
       "      <td>289.0</td>\n",
       "      <td>15.008</td>\n",
       "      <td>50.898</td>\n",
       "      <td>NaN</td>\n",
       "      <td>0.0</td>\n",
       "      <td>NaN</td>\n",
       "      <td>0.0</td>\n",
       "      <td>88524.59</td>\n",
       "      <td>Sunday</td>\n",
       "      <td>February</td>\n",
       "      <td>2017</td>\n",
       "      <td>другой</td>\n",
       "      <td>0.714754</td>\n",
       "      <td>0.106557</td>\n",
       "      <td>15.0</td>\n",
       "    </tr>\n",
       "    <tr>\n",
       "      <th>10</th>\n",
       "      <td>Санкт-Петербург</td>\n",
       "      <td>39.6</td>\n",
       "      <td>20.3</td>\n",
       "      <td>8.5</td>\n",
       "      <td>2.67</td>\n",
       "      <td>1</td>\n",
       "      <td>0.0</td>\n",
       "      <td>3</td>\n",
       "      <td>12.0</td>\n",
       "      <td>0</td>\n",
       "      <td>0</td>\n",
       "      <td>0</td>\n",
       "      <td>5</td>\n",
       "      <td>5.050</td>\n",
       "      <td>2017-11-16</td>\n",
       "      <td>137.0</td>\n",
       "      <td>13.878</td>\n",
       "      <td>38.357</td>\n",
       "      <td>0.310</td>\n",
       "      <td>1.0</td>\n",
       "      <td>0.553</td>\n",
       "      <td>2.0</td>\n",
       "      <td>127525.25</td>\n",
       "      <td>Thursday</td>\n",
       "      <td>November</td>\n",
       "      <td>2017</td>\n",
       "      <td>другой</td>\n",
       "      <td>0.512626</td>\n",
       "      <td>0.214646</td>\n",
       "      <td>14.0</td>\n",
       "    </tr>\n",
       "    <tr>\n",
       "      <th>15</th>\n",
       "      <td>Санкт-Петербург</td>\n",
       "      <td>39.0</td>\n",
       "      <td>20.5</td>\n",
       "      <td>7.6</td>\n",
       "      <td>2.65</td>\n",
       "      <td>1</td>\n",
       "      <td>1.0</td>\n",
       "      <td>5</td>\n",
       "      <td>14.0</td>\n",
       "      <td>0</td>\n",
       "      <td>0</td>\n",
       "      <td>0</td>\n",
       "      <td>16</td>\n",
       "      <td>4.650</td>\n",
       "      <td>2017-11-18</td>\n",
       "      <td>19.0</td>\n",
       "      <td>14.259</td>\n",
       "      <td>12.900</td>\n",
       "      <td>0.590</td>\n",
       "      <td>1.0</td>\n",
       "      <td>0.296</td>\n",
       "      <td>1.0</td>\n",
       "      <td>119230.77</td>\n",
       "      <td>Saturday</td>\n",
       "      <td>November</td>\n",
       "      <td>2017</td>\n",
       "      <td>другой</td>\n",
       "      <td>0.525641</td>\n",
       "      <td>0.194872</td>\n",
       "      <td>14.0</td>\n",
       "    </tr>\n",
       "    <tr>\n",
       "      <th>16</th>\n",
       "      <td>Санкт-Петербург</td>\n",
       "      <td>82.0</td>\n",
       "      <td>55.6</td>\n",
       "      <td>9.0</td>\n",
       "      <td>3.05</td>\n",
       "      <td>3</td>\n",
       "      <td>0.0</td>\n",
       "      <td>1</td>\n",
       "      <td>5.0</td>\n",
       "      <td>0</td>\n",
       "      <td>0</td>\n",
       "      <td>0</td>\n",
       "      <td>11</td>\n",
       "      <td>6.700</td>\n",
       "      <td>2017-11-23</td>\n",
       "      <td>397.0</td>\n",
       "      <td>10.698</td>\n",
       "      <td>22.108</td>\n",
       "      <td>0.420</td>\n",
       "      <td>3.0</td>\n",
       "      <td>NaN</td>\n",
       "      <td>0.0</td>\n",
       "      <td>81707.32</td>\n",
       "      <td>Thursday</td>\n",
       "      <td>November</td>\n",
       "      <td>2017</td>\n",
       "      <td>первый</td>\n",
       "      <td>0.678049</td>\n",
       "      <td>0.109756</td>\n",
       "      <td>11.0</td>\n",
       "    </tr>\n",
       "    <tr>\n",
       "      <th>17</th>\n",
       "      <td>Санкт-Петербург</td>\n",
       "      <td>36.0</td>\n",
       "      <td>16.5</td>\n",
       "      <td>11.0</td>\n",
       "      <td>2.65</td>\n",
       "      <td>1</td>\n",
       "      <td>1.0</td>\n",
       "      <td>7</td>\n",
       "      <td>17.0</td>\n",
       "      <td>0</td>\n",
       "      <td>0</td>\n",
       "      <td>0</td>\n",
       "      <td>6</td>\n",
       "      <td>4.180</td>\n",
       "      <td>2016-09-09</td>\n",
       "      <td>571.0</td>\n",
       "      <td>14.616</td>\n",
       "      <td>33.564</td>\n",
       "      <td>NaN</td>\n",
       "      <td>0.0</td>\n",
       "      <td>0.859</td>\n",
       "      <td>1.0</td>\n",
       "      <td>116111.11</td>\n",
       "      <td>Friday</td>\n",
       "      <td>September</td>\n",
       "      <td>2016</td>\n",
       "      <td>другой</td>\n",
       "      <td>0.458333</td>\n",
       "      <td>0.305556</td>\n",
       "      <td>15.0</td>\n",
       "    </tr>\n",
       "  </tbody>\n",
       "</table>\n",
       "</div>"
      ],
      "text/plain": [
       "          town_name  total_area_m2  living_area  kitchen_area  ceiling_height  \\\n",
       "0   Санкт-Петербург          108.0         51.0          25.0            2.70   \n",
       "2   Санкт-Петербург           56.0         34.3           8.3            2.65   \n",
       "3   Санкт-Петербург          159.0         30.0          30.0            2.65   \n",
       "4   Санкт-Петербург          100.0         32.0          41.0            3.03   \n",
       "7   Санкт-Петербург           71.6         30.0          18.9            2.65   \n",
       "9   Санкт-Петербург           61.0         43.6           6.5            2.50   \n",
       "10  Санкт-Петербург           39.6         20.3           8.5            2.67   \n",
       "15  Санкт-Петербург           39.0         20.5           7.6            2.65   \n",
       "16  Санкт-Петербург           82.0         55.6           9.0            3.05   \n",
       "17  Санкт-Петербург           36.0         16.5          11.0            2.65   \n",
       "\n",
       "    rooms  balcony  floor  floors_total  is_apartment  is_studio  \\\n",
       "0       3      0.0      8          16.0             0          0   \n",
       "2       2      0.0      4           5.0             0          0   \n",
       "3       3      0.0      9          14.0             0          0   \n",
       "4       2      0.0     13          14.0             0          0   \n",
       "7       2      2.0     22          24.0             0          0   \n",
       "9       3      2.0      7           9.0             0          0   \n",
       "10      1      0.0      3          12.0             0          0   \n",
       "15      1      1.0      5          14.0             0          0   \n",
       "16      3      0.0      1           5.0             0          0   \n",
       "17      1      1.0      7          17.0             0          0   \n",
       "\n",
       "    is_open_plan  total_images  last_price first_day_exposition  \\\n",
       "0              0            20      13.000           2019-03-07   \n",
       "2              0            10       5.196           2015-08-20   \n",
       "3              0             0      64.900           2015-07-24   \n",
       "4              0             2      10.000           2018-06-19   \n",
       "7              0             5       7.915           2019-04-18   \n",
       "9              0            18       5.400           2017-02-26   \n",
       "10             0             5       5.050           2017-11-16   \n",
       "15             0            16       4.650           2017-11-18   \n",
       "16             0            11       6.700           2017-11-23   \n",
       "17             0             6       4.180           2016-09-09   \n",
       "\n",
       "    days_exposition  city_center_distance  airports_nearest  parks_nearest  \\\n",
       "0               NaN                16.028            18.863          0.482   \n",
       "2             558.0                13.933            21.741          0.090   \n",
       "3             424.0                 6.800            28.098          0.084   \n",
       "4             121.0                 8.098            31.856          0.112   \n",
       "7               NaN                11.634            23.982            NaN   \n",
       "9             289.0                15.008            50.898            NaN   \n",
       "10            137.0                13.878            38.357          0.310   \n",
       "15             19.0                14.259            12.900          0.590   \n",
       "16            397.0                10.698            22.108          0.420   \n",
       "17            571.0                14.616            33.564            NaN   \n",
       "\n",
       "    parks_around_3km  ponds_nearest  ponds_around_3km  price_per_meter  \\\n",
       "0                1.0          0.755               2.0        120370.37   \n",
       "2                1.0          0.574               2.0         92785.71   \n",
       "3                2.0          0.234               3.0        408176.10   \n",
       "4                2.0          0.048               1.0        100000.00   \n",
       "7                0.0            NaN               0.0        110544.69   \n",
       "9                0.0            NaN               0.0         88524.59   \n",
       "10               1.0          0.553               2.0        127525.25   \n",
       "15               1.0          0.296               1.0        119230.77   \n",
       "16               3.0            NaN               0.0         81707.32   \n",
       "17               0.0          0.859               1.0        116111.11   \n",
       "\n",
       "   day_of_week_exposition month_exposition  year_exposition floor_status  \\\n",
       "0                Thursday            March             2019       другой   \n",
       "2                Thursday           August             2015       другой   \n",
       "3                  Friday             July             2015       другой   \n",
       "4                 Tuesday             June             2018       другой   \n",
       "7                Thursday            April             2019       другой   \n",
       "9                  Sunday         February             2017       другой   \n",
       "10               Thursday         November             2017       другой   \n",
       "15               Saturday         November             2017       другой   \n",
       "16               Thursday         November             2017       первый   \n",
       "17                 Friday        September             2016       другой   \n",
       "\n",
       "    total_living_area_ratio  total_kitchen_area_ratio  \\\n",
       "0                  0.472222                  0.231481   \n",
       "2                  0.612500                  0.148214   \n",
       "3                  0.188679                  0.188679   \n",
       "4                  0.320000                  0.410000   \n",
       "7                  0.418994                  0.263966   \n",
       "9                  0.714754                  0.106557   \n",
       "10                 0.512626                  0.214646   \n",
       "15                 0.525641                  0.194872   \n",
       "16                 0.678049                  0.109756   \n",
       "17                 0.458333                  0.305556   \n",
       "\n",
       "    city_center_distance_round  \n",
       "0                         16.0  \n",
       "2                         14.0  \n",
       "3                          7.0  \n",
       "4                          8.0  \n",
       "7                         12.0  \n",
       "9                         15.0  \n",
       "10                        14.0  \n",
       "15                        14.0  \n",
       "16                        11.0  \n",
       "17                        15.0  "
      ]
     },
     "execution_count": 58,
     "metadata": {},
     "output_type": "execute_result"
    }
   ],
   "source": [
    "city_center_data['city_center_distance_round'] = city_center_data['city_center_distance'].round(0)\n",
    "city_center_data.head(10)"
   ]
  },
  {
   "cell_type": "markdown",
   "metadata": {},
   "source": [
    "<div class=\"alert alert-success\"; style=\"border-left: 7px solid green\">\n",
    "<h5> ✔️ <font color=\"green\">Комментарий ревьюера (зеленый)</font></h5>\n",
    "\n",
    "Выше в 52 ячейке ты фильтруешь строки, и не применяешь метод reset_index.\n",
    "\n",
    "В python ссылочная модель хранения данных. Оператор «=»(присваивания) связывает переменную и ссылку на ячейку памяти. Соответственно, когда ты присваиваешь новой переменной отфильтрованные данные по старой переменной, python просто прописывает ссылки на старые данные, а не создает новую ячейку памяти. Это опасно тем, что можно что-то поменять в новой переменной и поменяется старая переменная. Пример ниже в коде. Чтобы этого избежать можно использовать метод .copy(), он применим ко многим структурам данных, в том числе и к df, но к df лучше применять reset_index.\n",
    "\n",
    "</div>"
   ]
  },
  {
   "cell_type": "code",
   "execution_count": 59,
   "metadata": {},
   "outputs": [
    {
     "name": "stdout",
     "output_type": "stream",
     "text": [
      "По идее list_1 не должен меняться, но list_1 = [4, 2, 3]\n",
      "list_1 не изменился, list_1 = [1, 2, 3]\n"
     ]
    }
   ],
   "source": [
    "# Код ревьюера\n",
    "\n",
    "# Вот пример на массивах, но с df похожая ситуация может произойти\n",
    "list_1 = [1, 2, 3]\n",
    "list_2 = list_1\n",
    "list_2[0] = 4\n",
    "\n",
    "print('По идее list_1 не должен меняться, но list_1 =', list_1)\n",
    "\n",
    "list_1 = [1, 2, 3]\n",
    "list_2 = list_1.copy()\n",
    "list_2[0] = 4\n",
    "\n",
    "print('list_1 не изменился, list_1 =', list_1)"
   ]
  },
  {
   "cell_type": "code",
   "execution_count": 60,
   "metadata": {},
   "outputs": [
    {
     "data": {
      "text/plain": [
       "<AxesSubplot:xlabel='city_center_distance_round', ylabel='price_per_meter'>"
      ]
     },
     "execution_count": 60,
     "metadata": {},
     "output_type": "execute_result"
    },
    {
     "data": {
      "image/png": "[encoded data removed]",
      "text/plain": [
       "<Figure size 432x288 with 1 Axes>"
      ]
     },
     "metadata": {
      "needs_background": "light"
     },
     "output_type": "display_data"
    }
   ],
   "source": [
    "city_center_data.plot(x='city_center_distance_round', y='price_per_meter', kind='scatter', alpha=0.2) "
   ]
  },
  {
   "cell_type": "markdown",
   "metadata": {},
   "source": [
    "Визуально видно, что заметный скачок цены за квадратный метр возникает примерно в радиусе 7 км от центра.\n",
    "Выделим эту группу объявления в отдельный датафрейм.\n",
    "\n",
    "Есть подозрение, что именно в пределах 7 км уже не так важно точное расстояние до центра и зависимость стоимости квартиры от расстояния станет меньше."
   ]
  },
  {
   "cell_type": "markdown",
   "metadata": {},
   "source": [
    "<div class=\"alert alert-success\"; style=\"border-left: 7px solid green\">\n",
    "<h5> ✔️ <font color=\"green\">Комментарий ревьюера (зеленый)</font></h5>\n",
    "\n",
    "Да, тут верно определен центр 🤗\n",
    "\n",
    "</div>"
   ]
  },
  {
   "cell_type": "code",
   "execution_count": 61,
   "metadata": {},
   "outputs": [
    {
     "name": "stdout",
     "output_type": "stream",
     "text": [
      "<class 'pandas.core.frame.DataFrame'>\n",
      "Int64Index: 3305 entries, 3 to 23694\n",
      "Data columns (total 30 columns):\n",
      " #   Column                      Non-Null Count  Dtype         \n",
      "---  ------                      --------------  -----         \n",
      " 0   town_name                   3305 non-null   object        \n",
      " 1   total_area_m2               3305 non-null   float64       \n",
      " 2   living_area                 3305 non-null   float64       \n",
      " 3   kitchen_area                3305 non-null   float64       \n",
      " 4   ceiling_height              3305 non-null   float64       \n",
      " 5   rooms                       3305 non-null   int64         \n",
      " 6   balcony                     3305 non-null   float64       \n",
      " 7   floor                       3305 non-null   int64         \n",
      " 8   floors_total                3298 non-null   float64       \n",
      " 9   is_apartment                3305 non-null   int64         \n",
      " 10  is_studio                   3305 non-null   int64         \n",
      " 11  is_open_plan                3305 non-null   int64         \n",
      " 12  total_images                3305 non-null   int64         \n",
      " 13  last_price                  3305 non-null   float64       \n",
      " 14  first_day_exposition        3305 non-null   datetime64[ns]\n",
      " 15  days_exposition             2748 non-null   float64       \n",
      " 16  city_center_distance        3305 non-null   float64       \n",
      " 17  airports_nearest            3299 non-null   float64       \n",
      " 18  parks_nearest               2199 non-null   float64       \n",
      " 19  parks_around_3km            3305 non-null   float64       \n",
      " 20  ponds_nearest               2384 non-null   float64       \n",
      " 21  ponds_around_3km            3305 non-null   float64       \n",
      " 22  price_per_meter             3305 non-null   float64       \n",
      " 23  day_of_week_exposition      3305 non-null   object        \n",
      " 24  month_exposition            3305 non-null   object        \n",
      " 25  year_exposition             3305 non-null   int64         \n",
      " 26  floor_status                3305 non-null   object        \n",
      " 27  total_living_area_ratio     3305 non-null   float64       \n",
      " 28  total_kitchen_area_ratio    3305 non-null   float64       \n",
      " 29  city_center_distance_round  3305 non-null   float64       \n",
      "dtypes: datetime64[ns](1), float64(18), int64(7), object(4)\n",
      "memory usage: 800.4+ KB\n"
     ]
    }
   ],
   "source": [
    "city_center_data_7 = city_center_data.query('city_center_distance < 7')\n",
    "city_center_data_7.info()"
   ]
  },
  {
   "cell_type": "markdown",
   "metadata": {},
   "source": [
    "Соберём в таблицу данные для построения графика зависимости стоимости квадратного метра от расстояния до центра в пределах 7 км."
   ]
  },
  {
   "cell_type": "code",
   "execution_count": 62,
   "metadata": {
    "scrolled": true
   },
   "outputs": [
    {
     "data": {
      "text/html": [
       "<div>\n",
       "<style scoped>\n",
       "    .dataframe tbody tr th:only-of-type {\n",
       "        vertical-align: middle;\n",
       "    }\n",
       "\n",
       "    .dataframe tbody tr th {\n",
       "        vertical-align: top;\n",
       "    }\n",
       "\n",
       "    .dataframe thead th {\n",
       "        text-align: right;\n",
       "    }\n",
       "</style>\n",
       "<table border=\"1\" class=\"dataframe\">\n",
       "  <thead>\n",
       "    <tr style=\"text-align: right;\">\n",
       "      <th></th>\n",
       "      <th>price_per_meter</th>\n",
       "    </tr>\n",
       "    <tr>\n",
       "      <th>city_center_distance_round</th>\n",
       "      <th></th>\n",
       "    </tr>\n",
       "  </thead>\n",
       "  <tbody>\n",
       "    <tr>\n",
       "      <th>0.0</th>\n",
       "      <td>245833.530370</td>\n",
       "    </tr>\n",
       "    <tr>\n",
       "      <th>1.0</th>\n",
       "      <td>177005.407604</td>\n",
       "    </tr>\n",
       "    <tr>\n",
       "      <th>2.0</th>\n",
       "      <td>157849.007290</td>\n",
       "    </tr>\n",
       "    <tr>\n",
       "      <th>3.0</th>\n",
       "      <td>121387.453743</td>\n",
       "    </tr>\n",
       "    <tr>\n",
       "      <th>4.0</th>\n",
       "      <td>133282.874738</td>\n",
       "    </tr>\n",
       "    <tr>\n",
       "      <th>5.0</th>\n",
       "      <td>140509.789022</td>\n",
       "    </tr>\n",
       "    <tr>\n",
       "      <th>6.0</th>\n",
       "      <td>151012.193673</td>\n",
       "    </tr>\n",
       "    <tr>\n",
       "      <th>7.0</th>\n",
       "      <td>160733.416700</td>\n",
       "    </tr>\n",
       "  </tbody>\n",
       "</table>\n",
       "</div>"
      ],
      "text/plain": [
       "                            price_per_meter\n",
       "city_center_distance_round                 \n",
       "0.0                           245833.530370\n",
       "1.0                           177005.407604\n",
       "2.0                           157849.007290\n",
       "3.0                           121387.453743\n",
       "4.0                           133282.874738\n",
       "5.0                           140509.789022\n",
       "6.0                           151012.193673\n",
       "7.0                           160733.416700"
      ]
     },
     "execution_count": 62,
     "metadata": {},
     "output_type": "execute_result"
    }
   ],
   "source": [
    "city_center_data_7_graphic = city_center_data_7.pivot_table(index='city_center_distance_round',\\\n",
    "                                                            values='price_per_meter', \\\n",
    "                                                           aggfunc='mean')\n",
    "city_center_data_7_graphic"
   ]
  },
  {
   "cell_type": "code",
   "execution_count": 63,
   "metadata": {},
   "outputs": [
    {
     "data": {
      "text/plain": [
       "<AxesSubplot:xlabel='city_center_distance_round'>"
      ]
     },
     "execution_count": 63,
     "metadata": {},
     "output_type": "execute_result"
    },
    {
     "data": {
      "image/png": "[encoded data removed]",
      "text/plain": [
       "<Figure size 432x288 with 1 Axes>"
      ]
     },
     "metadata": {
      "needs_background": "light"
     },
     "output_type": "display_data"
    }
   ],
   "source": [
    "city_center_data_7_graphic.plot(y='price_per_meter',\\\n",
    "                                label='Средняя стоимость квадратного метра')"
   ]
  },
  {
   "cell_type": "markdown",
   "metadata": {},
   "source": [
    "Очевидно самое дорогое жильё в самом центре города. Необычным выглядит провал на 3 км от центра. Возможно, это объясняется какой-то особенностью расположения районом Санкт_Петербурга. Лучше об этом могут рассказать риэлторы, работающие на этом рынке.\n",
    "\n",
    "Посмотрим следующие параметры: площадь, цена, число комнат, высота потолков."
   ]
  },
  {
   "cell_type": "code",
   "execution_count": 64,
   "metadata": {},
   "outputs": [
    {
     "data": {
      "text/html": [
       "<style  type=\"text/css\" >\n",
       "#T_d4004_row0_col0,#T_d4004_row1_col1,#T_d4004_row2_col2,#T_d4004_row3_col3,#T_d4004_row4_col4,#T_d4004_row5_col5{\n",
       "            background-color:  #b40426;\n",
       "            color:  #f1f1f1;\n",
       "        }#T_d4004_row0_col1{\n",
       "            background-color:  #f5c2aa;\n",
       "            color:  #000000;\n",
       "        }#T_d4004_row0_col2{\n",
       "            background-color:  #bfd3f6;\n",
       "            color:  #000000;\n",
       "        }#T_d4004_row0_col3,#T_d4004_row4_col3{\n",
       "            background-color:  #5572df;\n",
       "            color:  #000000;\n",
       "        }#T_d4004_row0_col4{\n",
       "            background-color:  #5977e3;\n",
       "            color:  #000000;\n",
       "        }#T_d4004_row0_col5,#T_d4004_row4_col5{\n",
       "            background-color:  #688aef;\n",
       "            color:  #000000;\n",
       "        }#T_d4004_row1_col0{\n",
       "            background-color:  #f4c5ad;\n",
       "            color:  #000000;\n",
       "        }#T_d4004_row1_col2{\n",
       "            background-color:  #f39577;\n",
       "            color:  #000000;\n",
       "        }#T_d4004_row1_col3{\n",
       "            background-color:  #506bda;\n",
       "            color:  #000000;\n",
       "        }#T_d4004_row1_col4,#T_d4004_row5_col1{\n",
       "            background-color:  #7295f4;\n",
       "            color:  #000000;\n",
       "        }#T_d4004_row1_col5{\n",
       "            background-color:  #7a9df8;\n",
       "            color:  #000000;\n",
       "        }#T_d4004_row2_col0{\n",
       "            background-color:  #abc8fd;\n",
       "            color:  #000000;\n",
       "        }#T_d4004_row2_col1{\n",
       "            background-color:  #f59c7d;\n",
       "            color:  #000000;\n",
       "        }#T_d4004_row2_col3,#T_d4004_row3_col0,#T_d4004_row3_col1,#T_d4004_row3_col2,#T_d4004_row3_col4,#T_d4004_row3_col5{\n",
       "            background-color:  #3b4cc0;\n",
       "            color:  #f1f1f1;\n",
       "        }#T_d4004_row2_col4{\n",
       "            background-color:  #6e90f2;\n",
       "            color:  #000000;\n",
       "        }#T_d4004_row2_col5{\n",
       "            background-color:  #7093f3;\n",
       "            color:  #000000;\n",
       "        }#T_d4004_row4_col0{\n",
       "            background-color:  #5875e1;\n",
       "            color:  #000000;\n",
       "        }#T_d4004_row4_col1{\n",
       "            background-color:  #779af7;\n",
       "            color:  #000000;\n",
       "        }#T_d4004_row4_col2{\n",
       "            background-color:  #88abfd;\n",
       "            color:  #000000;\n",
       "        }#T_d4004_row5_col0,#T_d4004_row5_col4{\n",
       "            background-color:  #5a78e4;\n",
       "            color:  #000000;\n",
       "        }#T_d4004_row5_col2{\n",
       "            background-color:  #7da0f9;\n",
       "            color:  #000000;\n",
       "        }#T_d4004_row5_col3{\n",
       "            background-color:  #465ecf;\n",
       "            color:  #f1f1f1;\n",
       "        }</style><table id=\"T_d4004_\" ><thead>    <tr>        <th class=\"blank level0\" ></th>        <th class=\"col_heading level0 col0\" >last_price</th>        <th class=\"col_heading level0 col1\" >total_area_m2</th>        <th class=\"col_heading level0 col2\" >rooms</th>        <th class=\"col_heading level0 col3\" >city_center_distance_round</th>        <th class=\"col_heading level0 col4\" >days_exposition</th>        <th class=\"col_heading level0 col5\" >ceiling_height</th>    </tr></thead><tbody>\n",
       "                <tr>\n",
       "                        <th id=\"T_d4004_level0_row0\" class=\"row_heading level0 row0\" >last_price</th>\n",
       "                        <td id=\"T_d4004_row0_col0\" class=\"data row0 col0\" >1.000000</td>\n",
       "                        <td id=\"T_d4004_row0_col1\" class=\"data row0 col1\" >0.607578</td>\n",
       "                        <td id=\"T_d4004_row0_col2\" class=\"data row0 col2\" >0.309873</td>\n",
       "                        <td id=\"T_d4004_row0_col3\" class=\"data row0 col3\" >-0.039845</td>\n",
       "                        <td id=\"T_d4004_row0_col4\" class=\"data row0 col4\" >0.061441</td>\n",
       "                        <td id=\"T_d4004_row0_col5\" class=\"data row0 col5\" >0.067469</td>\n",
       "            </tr>\n",
       "            <tr>\n",
       "                        <th id=\"T_d4004_level0_row1\" class=\"row_heading level0 row1\" >total_area_m2</th>\n",
       "                        <td id=\"T_d4004_row1_col0\" class=\"data row1 col0\" >0.607578</td>\n",
       "                        <td id=\"T_d4004_row1_col1\" class=\"data row1 col1\" >1.000000</td>\n",
       "                        <td id=\"T_d4004_row1_col2\" class=\"data row1 col2\" >0.727687</td>\n",
       "                        <td id=\"T_d4004_row1_col3\" class=\"data row1 col3\" >-0.061185</td>\n",
       "                        <td id=\"T_d4004_row1_col4\" class=\"data row1 col4\" >0.138642</td>\n",
       "                        <td id=\"T_d4004_row1_col5\" class=\"data row1 col5\" >0.122051</td>\n",
       "            </tr>\n",
       "            <tr>\n",
       "                        <th id=\"T_d4004_level0_row2\" class=\"row_heading level0 row2\" >rooms</th>\n",
       "                        <td id=\"T_d4004_row2_col0\" class=\"data row2 col0\" >0.309873</td>\n",
       "                        <td id=\"T_d4004_row2_col1\" class=\"data row2 col1\" >0.727687</td>\n",
       "                        <td id=\"T_d4004_row2_col2\" class=\"data row2 col2\" >1.000000</td>\n",
       "                        <td id=\"T_d4004_row2_col3\" class=\"data row2 col3\" >-0.142249</td>\n",
       "                        <td id=\"T_d4004_row2_col4\" class=\"data row2 col4\" >0.129904</td>\n",
       "                        <td id=\"T_d4004_row2_col5\" class=\"data row2 col5\" >0.091137</td>\n",
       "            </tr>\n",
       "            <tr>\n",
       "                        <th id=\"T_d4004_level0_row3\" class=\"row_heading level0 row3\" >city_center_distance_round</th>\n",
       "                        <td id=\"T_d4004_row3_col0\" class=\"data row3 col0\" >-0.039845</td>\n",
       "                        <td id=\"T_d4004_row3_col1\" class=\"data row3 col1\" >-0.061185</td>\n",
       "                        <td id=\"T_d4004_row3_col2\" class=\"data row3 col2\" >-0.142249</td>\n",
       "                        <td id=\"T_d4004_row3_col3\" class=\"data row3 col3\" >1.000000</td>\n",
       "                        <td id=\"T_d4004_row3_col4\" class=\"data row3 col4\" >-0.040795</td>\n",
       "                        <td id=\"T_d4004_row3_col5\" class=\"data row3 col5\" >-0.093240</td>\n",
       "            </tr>\n",
       "            <tr>\n",
       "                        <th id=\"T_d4004_level0_row4\" class=\"row_heading level0 row4\" >days_exposition</th>\n",
       "                        <td id=\"T_d4004_row4_col0\" class=\"data row4 col0\" >0.061441</td>\n",
       "                        <td id=\"T_d4004_row4_col1\" class=\"data row4 col1\" >0.138642</td>\n",
       "                        <td id=\"T_d4004_row4_col2\" class=\"data row4 col2\" >0.129904</td>\n",
       "                        <td id=\"T_d4004_row4_col3\" class=\"data row4 col3\" >-0.040795</td>\n",
       "                        <td id=\"T_d4004_row4_col4\" class=\"data row4 col4\" >1.000000</td>\n",
       "                        <td id=\"T_d4004_row4_col5\" class=\"data row4 col5\" >0.065191</td>\n",
       "            </tr>\n",
       "            <tr>\n",
       "                        <th id=\"T_d4004_level0_row5\" class=\"row_heading level0 row5\" >ceiling_height</th>\n",
       "                        <td id=\"T_d4004_row5_col0\" class=\"data row5 col0\" >0.067469</td>\n",
       "                        <td id=\"T_d4004_row5_col1\" class=\"data row5 col1\" >0.122051</td>\n",
       "                        <td id=\"T_d4004_row5_col2\" class=\"data row5 col2\" >0.091137</td>\n",
       "                        <td id=\"T_d4004_row5_col3\" class=\"data row5 col3\" >-0.093240</td>\n",
       "                        <td id=\"T_d4004_row5_col4\" class=\"data row5 col4\" >0.065191</td>\n",
       "                        <td id=\"T_d4004_row5_col5\" class=\"data row5 col5\" >1.000000</td>\n",
       "            </tr>\n",
       "    </tbody></table>"
      ],
      "text/plain": [
       "<pandas.io.formats.style.Styler at 0x7fa54e608580>"
      ]
     },
     "execution_count": 64,
     "metadata": {},
     "output_type": "execute_result"
    }
   ],
   "source": [
    "corr = city_center_data_7[['last_price',\\\n",
    "                           'total_area_m2',\\\n",
    "                           'rooms',\\\n",
    "                           'city_center_distance_round',\\\n",
    "                           'days_exposition',\\\n",
    "                           'ceiling_height']].corr()\n",
    "corr.style.background_gradient(cmap='coolwarm')"
   ]
  },
  {
   "cell_type": "markdown",
   "metadata": {},
   "source": [
    "<div class=\"alert alert-danger\"; style=\"border-left: 7px solid FireBrick\">\n",
    "<h5> ❌ <font color=\"FireBrick\">Комментарий ревьюера (красный)</font></h5>\n",
    "\n",
    "Нет сравнения показателей по категории этажа, дням недели, месяцам, годам.\n",
    "    \n",
    "\n",
    "</div>"
   ]
  },
  {
   "cell_type": "markdown",
   "metadata": {},
   "source": [
    "<div class=\"alert alert-danger\"; style=\"border-left: 7px solid FireBrick\">\n",
    "<h5> ❌ <font color=\"FireBrick\">v2 Комментарий ревьюера (красный)</font></h5>\n",
    "\n",
    "Да, верно, там они были по всей базе, а тут нужно построить по центру СПБ и сравнить.\n",
    "\n",
    "</div>"
   ]
  },
  {
   "cell_type": "markdown",
   "metadata": {},
   "source": [
    "<div class=\"alert alert-info\"; style=\"border-left: 7px solid SteelBlue\">\n",
    "Добавил графики и дополнил вывод после них.\n",
    "</div>"
   ]
  },
  {
   "cell_type": "markdown",
   "metadata": {},
   "source": [
    "<div class=\"alert alert-success\"; style=\"border-left: 7px solid green\">\n",
    "<h5> ✔️ <font color=\"green\">v3 Комментарий ревьюера (зеленый)</font></h5>\n",
    "\n",
    "✅ Верное исправление 👍\n",
    "\n",
    "</div>"
   ]
  },
  {
   "cell_type": "code",
   "execution_count": 65,
   "metadata": {},
   "outputs": [
    {
     "data": {
      "image/png": "[encoded data removed]",
      "text/plain": [
       "<Figure size 720x720 with 1 Axes>"
      ]
     },
     "metadata": {
      "needs_background": "light"
     },
     "output_type": "display_data"
    }
   ],
   "source": [
    "plot = city_center_data_7.boxplot('last_price', by='floor_status',figsize=(10,10)).set_ylim(0,100)"
   ]
  },
  {
   "cell_type": "code",
   "execution_count": 66,
   "metadata": {},
   "outputs": [
    {
     "data": {
      "image/png": "[encoded data removed]",
      "text/plain": [
       "<Figure size 720x720 with 1 Axes>"
      ]
     },
     "metadata": {
      "needs_background": "light"
     },
     "output_type": "display_data"
    }
   ],
   "source": [
    "plot = city_center_data_7.boxplot('last_price', by='day_of_week_exposition',figsize=(10,10)).set_ylim(0,100)"
   ]
  },
  {
   "cell_type": "code",
   "execution_count": 67,
   "metadata": {},
   "outputs": [
    {
     "data": {
      "image/png": "[encoded data removed]",
      "text/plain": [
       "<Figure size 720x720 with 1 Axes>"
      ]
     },
     "metadata": {
      "needs_background": "light"
     },
     "output_type": "display_data"
    }
   ],
   "source": [
    "plot = city_center_data_7.boxplot('last_price', by='month_exposition',figsize=(10,10)).set_ylim(0,100)"
   ]
  },
  {
   "cell_type": "code",
   "execution_count": 68,
   "metadata": {},
   "outputs": [
    {
     "data": {
      "image/png": "[encoded data removed]",
      "text/plain": [
       "<Figure size 720x720 with 1 Axes>"
      ]
     },
     "metadata": {
      "needs_background": "light"
     },
     "output_type": "display_data"
    }
   ],
   "source": [
    "plot = city_center_data_7.boxplot('last_price', by='year_exposition',figsize=(10,10)).set_ylim(0,120)"
   ]
  },
  {
   "cell_type": "markdown",
   "metadata": {},
   "source": [
    "**Вывод**\n",
    "\n",
    "В центральном районе Питера цена прямопропорционально зависит от общей площади. Также есть корреляция (хоть и в меньшей степени от числа комнат), что не менее логично, так как большое число комнат почти наверняка означает большую площадь квартира.\n",
    "\n",
    "При это от высоты потолков, расстояния до центра (не забываем, что мы и так уже в центре) и срока размещения объявления цена квартир практически независит.\n",
    "\n",
    "Отличия центральной выборки от общей всё-таки заметны. Здесь влияние на цену квадратного метра всех факторов заметно уменьшается. Явно из-за того, что весь выбранный район уже является \"элитным\", а значит выбранный порог вхождения квартир в центр города выбран корректно.\n",
    "\n",
    "<div class=\"alert alert-info\"; style=\"border-left: 7px solid SteelBlue\">\n",
    "Зависимость цены квартиры от этажа, дня недели и месяца такая же как и для всего города. А вот график для годов заметно отличается. В 2014 году цены на квартиры в центре отличались от средних по городу гораздо больше. В последующие года средние цены в центре города заметно снизились. Скорее всего это связано с какими-то макроэкономическими факторами, повлиявшими на рынок жилья в Санкт-Петербурге.\n",
    "</div>\n",
    "\n"
   ]
  },
  {
   "cell_type": "markdown",
   "metadata": {},
   "source": [
    "## Общий вывод"
   ]
  },
  {
   "cell_type": "markdown",
   "metadata": {},
   "source": [
    "Общие данные базы, взятой для анализа:\n",
    "- Число строк: **23699**\n",
    "- Число колонок: 22\n",
    "- Объём занимаемой памяти: 3,7 Мб\n",
    "\n",
    "Главной задачей анализа было выявление параметров, максимально влияющие на итоговую цену квартиру. Поэтому главным параметром в таблице является итоговая цена, а остальные параметры проверялись на корреляцию с итоговой ценой.\n",
    "\n",
    "\n",
    "Задача состояла в проверке данных на предмет качества выгрузки из системы. В ходе первичного анализа были выявлены и решены следующие проблемы:\n",
    "\n",
    "- пропущенные значения (заменены средним, медианным или нулевым значением в зависимости от каждого конкретного параметра)\n",
    "- исправлены имена столбцов и часть значений в столбце с названиями населённых пунктов (замена е/ё)\n",
    "- расстояния приведены в удобную форму значения расстояний (метры переведены в километры)\n",
    "- добавлены цена за квадратный метр, значение этажа, день/месяц/год размещения объявления, соотношение жилой площади и площади кухни к общей площади.\n",
    "\n",
    "Кроме ошибочных и недостающих данных были выявлены также выбросы в данных, которые не могут существовать в реальности (например высота потолков в 1 или 100 метров). Чтобы эти данные не влияли на средние и медианные значения в ходе анализа было решено удалиь эти данные как некорректные. В скорректированном датафрейме осталось **18642** строк, т.е. примерно **78%** от исходного. Это может говорить о недостаточном качестве исходной базы. Предварительная рекомендация - **добавить в систему проверку заведомо ложных значений при добавлении объявления**, посколько характер ошибок позволяет предположить, что они сделаны по ошибке пользователем, а значит их можно обрабатывать на этапе ввода данных.\n",
    "\n",
    "\n",
    "Проведён анализ предложенной базы недвижимости для оценки зависимости стоимости квартиры от следующих параметров:\n",
    "- общая площадь\n",
    "- число комнат\n",
    "- расстояние до центра города\n",
    "- высота потолков\n",
    "- срок размещения объявления\n",
    "\n",
    "**Выявлено**\n",
    "Самое дорогое жилье (максимальная средняя стоимость квадратного метра) в трёх населённых пунктах: поселок Лисий Нос,\n",
    "Зеленогорск и Санкт-Петербург. Для них средняя стоимость квадратного метра ***более 110 тысяч рублей***. Масимальное влияние на цену квартиры очевидно оказывают общая площадь, число комнат и удалённость из центра. Причём условной \"границей\" центра можно считать радиус 7 км от географического центра города. Именно внутри радиуса в 7 км влияние расстояния на цену квартиры падает. А при выходе за этот радиус наблюдается обратная зависимость - чем дальше от центра, тем меньше цена.\n",
    "\n",
    "\n"
   ]
  },
  {
   "cell_type": "markdown",
   "metadata": {},
   "source": [
    "<div class=\"alert alert-info\"; style=\"border-left: 7px solid SteelBlue\">\n",
    "Переделал вывод\n",
    "</div>"
   ]
  },
  {
   "cell_type": "markdown",
   "metadata": {},
   "source": [
    "<div class=\"alert alert-danger\"; style=\"border-left: 7px solid FireBrick\">\n",
    "<h5> ❌ <font color=\"FireBrick\">Комментарий ревьюера (красный)</font></h5>\n",
    "\n",
    "В общем выводе хочется тезисно видеть все промежуточные выводы с цифрами. Это очень важно, поскольку топ-менеджеры, в большинстве своем, смотрят сразу сюда и только сюда...\n",
    "\n",
    "Тут важно обратиться к целям, которые были озвучены в самом начале и ответить на все вопросы. Важно оформить все тезисно и с цифрами. Можно добавить графиков, но без фанатизма, только самые, на твой взгляд, важные. Еще важно описать все промежуточные выводы, которых не прописано в целях.\n",
    "Вкратце структура такая:\n",
    "- как были предобработаны данные(тут важно написать про изменения, если заполнялись пропуски или преобразовывались строки)\n",
    "- пройдись по целям и ответь на вопросы\n",
    "- добавь промежуточные выводы, которые считаешь нужным отметить\n",
    "\n",
    "Еще очень важно помнить, для кого ты делаешь проект, в зависимости от этого нужно сделать определенные акценты. В данном случае проект учебный, поэтому нужно ориентироваться по описанию.\n",
    "\n",
    "Оформи, пожалуйста, красиво с помощью [Краткого руководства по Маркдауну](https://paulradzkov.com/2014/markdown_cheatsheet/).\n",
    "    \n",
    "\n",
    "</div>"
   ]
  },
  {
   "cell_type": "markdown",
   "metadata": {},
   "source": [
    "<div class=\"alert alert-warning\"; style=\"border-left: 7px solid Gold\">\n",
    "<h5> ⚠️ <font color=\"DarkGoldenRod\">v2 Комментарий ревьюера (желтый)</font></h5>\n",
    "\n",
    "✅ Верное исправление 👍\n",
    "    \n",
    "Актуализируй, пожалуйста, исправлений.\n",
    "\n",
    "</div>"
   ]
  },
  {
   "cell_type": "markdown",
   "metadata": {},
   "source": [
    "<div class=\"alert alert-info\"; style=\"border-left: 7px solid SteelBlue\">\n",
    "Вроде бы все замечания учёл)\n",
    "    \n",
    "В разделе 1.2 ещё при первом прочтении написал свои причины изучения аналитики данных. По этой части есть какие-то предложения?\n",
    "</div>"
   ]
  },
  {
   "cell_type": "markdown",
   "metadata": {},
   "source": [
    "<div class=\"alert alert-success\"; style=\"border-left: 7px solid green\">\n",
    "<h5> ✔️ <font color=\"green\">v3 Комментарий ревьюера (зеленый)</font></h5>\n",
    "\n",
    "✅ Верное исправление 👍\n",
    "  \n",
    "Я в «Комментарий ревьюера v2» ответил, по поводу устройства в Яндекс не подскажу, так как основная работа у меня не в Яндексе, я тут на фринлансе)\n",
    "    \n",
    "\n",
    "</div>"
   ]
  },
  {
   "cell_type": "markdown",
   "metadata": {},
   "source": [
    "## Чек-лист готовности проекта\n",
    "\n",
    "Поставьте 'x' в выполненных пунктах. Далее нажмите Shift+Enter."
   ]
  },
  {
   "cell_type": "markdown",
   "metadata": {},
   "source": [
    "- [x]  открыт файл\n",
    "- [x]  файлы изучены (выведены первые строки, метод `info()`)\n",
    "- [x]  определены пропущенные значения\n",
    "- [x]  заполнены пропущенные значения\n",
    "- [x]  есть пояснение, какие пропущенные значения обнаружены\n",
    "- [x]  изменены типы данных\n",
    "- [x]  есть пояснение, в каких столбцах изменены типы и почему\n",
    "- [x]  посчитано и добавлено в таблицу: цена квадратного метра\n",
    "- [x]  посчитано и добавлено в таблицу: день недели, месяц и год публикации объявления\n",
    "- [x]  посчитано и добавлено в таблицу: этаж квартиры; варианты — первый, последний, другой\n",
    "- [x]  посчитано и добавлено в таблицу: соотношение жилой и общей площади, а также отношение площади кухни к общей\n",
    "- [x]  изучены следующие параметры: площадь, цена, число комнат, высота потолков\n",
    "- [x]  построены гистограммы для каждого параметра\n",
    "- [x]  выполнено задание: «Изучите время продажи квартиры. Постройте гистограмму. Посчитайте среднее и медиану. Опишите, сколько обычно занимает продажа. Когда можно считать, что продажи прошли очень быстро, а когда необычно долго?»\n",
    "- [x]  выполнено задание: «Уберите редкие и выбивающиеся значения. Опишите, какие особенности обнаружили».\n",
    "- [x]  выполнено задание: «Какие факторы больше всего влияют на стоимость квартиры? Изучите, зависит ли цена от квадратного метра, числа комнат, этажа (первого или последнего), удалённости от центра. Также изучите зависимость от даты размещения: дня недели, месяца и года». \n",
    "- [x]  выполнено задание: «Выберите 10 населённых пунктов с наибольшим числом объявлений. Посчитайте среднюю цену квадратного метра в этих населённых пунктах. Выделите населённые пункты с самой высокой и низкой стоимостью жилья. Эти данные можно найти по имени в столбце `locality_name`».\n",
    "- [x]  выполнено задание: «Изучите предложения квартир: для каждой квартиры есть информация о расстоянии до центра. Выделите квартиры в Санкт-Петербурге (`locality_name`). Ваша задача — выяснить, какая область входит в центр. Создайте столбец с расстоянием до центра в километрах: округлите до целых значений. После этого посчитайте среднюю цену для каждого километра. Постройте график: он должен показывать, как цена зависит от удалённости от центра. Определите границу, где график сильно меняется — это и будет центральная зона».\n",
    "- [x]  выполнено задание: «Выделите сегмент квартир в центре. Проанализируйте эту территорию и изучите следующие параметры: площадь, цена, число комнат, высота потолков. Также выделите факторы, которые влияют на стоимость квартиры (число комнат, этаж, удалённость от центра, дата размещения объявления). Сделайте выводы. Отличаются ли они от общих выводов по всей базе?»\n",
    "- [x]  в каждом этапе есть выводы\n",
    "- [x]  есть общий вывод"
   ]
  },
  {
   "cell_type": "markdown",
   "metadata": {},
   "source": [
    "<div class=\"alert alert-success\"; style=\"border-left: 7px solid green\">\n",
    "<h5> ✔️ <font color=\"green\">Комментарий ревьюера (зеленый)</font></h5>\n",
    "\n",
    "Хорошо, что ты ведешь чек-лист, он помогает ничего не забыть!\n",
    "\n",
    "</div>"
   ]
  }
 ],
 "metadata": {
  "ExecuteTimeLog": [
   {
    "duration": 1850,
    "start_time": "2022-04-24T11:15:13.521Z"
   },
   {
    "duration": 105,
    "start_time": "2022-04-24T11:15:21.934Z"
   },
   {
    "duration": 159,
    "start_time": "2022-04-24T11:15:36.697Z"
   },
   {
    "duration": 12,
    "start_time": "2022-04-24T11:16:04.523Z"
   },
   {
    "duration": 43,
    "start_time": "2022-04-24T11:16:08.970Z"
   },
   {
    "duration": 61,
    "start_time": "2022-04-24T11:17:15.917Z"
   },
   {
    "duration": 100,
    "start_time": "2022-04-24T11:17:19.018Z"
   },
   {
    "duration": 99,
    "start_time": "2022-04-24T11:17:25.385Z"
   },
   {
    "duration": 21,
    "start_time": "2022-04-24T11:25:46.249Z"
   },
   {
    "duration": 32,
    "start_time": "2022-04-24T11:26:24.857Z"
   },
   {
    "duration": 6,
    "start_time": "2022-04-24T11:37:20.196Z"
   },
   {
    "duration": 93,
    "start_time": "2022-04-24T11:47:55.231Z"
   },
   {
    "duration": 52,
    "start_time": "2022-04-24T11:48:12.026Z"
   },
   {
    "duration": 13,
    "start_time": "2022-04-24T11:48:53.892Z"
   },
   {
    "duration": 23,
    "start_time": "2022-04-24T11:55:22.930Z"
   },
   {
    "duration": 18,
    "start_time": "2022-04-24T11:55:30.821Z"
   },
   {
    "duration": 12,
    "start_time": "2022-04-24T11:55:59.617Z"
   },
   {
    "duration": 11,
    "start_time": "2022-04-24T11:56:06.515Z"
   },
   {
    "duration": 5,
    "start_time": "2022-04-24T11:56:11.840Z"
   },
   {
    "duration": 12,
    "start_time": "2022-04-24T11:56:13.580Z"
   },
   {
    "duration": 5,
    "start_time": "2022-04-24T11:56:24.077Z"
   },
   {
    "duration": 10,
    "start_time": "2022-04-24T11:56:26.090Z"
   },
   {
    "duration": 1106,
    "start_time": "2022-04-24T11:56:45.661Z"
   },
   {
    "duration": 121,
    "start_time": "2022-04-24T11:56:49.931Z"
   },
   {
    "duration": 32,
    "start_time": "2022-04-24T11:56:52.369Z"
   },
   {
    "duration": 36,
    "start_time": "2022-04-24T11:56:55.200Z"
   },
   {
    "duration": 7,
    "start_time": "2022-04-24T11:56:57.372Z"
   },
   {
    "duration": 8,
    "start_time": "2022-04-24T11:57:00.247Z"
   },
   {
    "duration": 14,
    "start_time": "2022-04-24T11:57:02.784Z"
   },
   {
    "duration": 199,
    "start_time": "2022-04-24T12:01:47.725Z"
   },
   {
    "duration": 15,
    "start_time": "2022-04-24T12:02:19.624Z"
   },
   {
    "duration": 9,
    "start_time": "2022-04-24T12:02:58.437Z"
   },
   {
    "duration": 17,
    "start_time": "2022-04-24T12:03:01.240Z"
   },
   {
    "duration": 180,
    "start_time": "2022-04-24T12:03:09.582Z"
   },
   {
    "duration": 154,
    "start_time": "2022-04-24T12:03:11.858Z"
   },
   {
    "duration": 28,
    "start_time": "2022-04-24T12:03:14.172Z"
   },
   {
    "duration": 7,
    "start_time": "2022-04-24T12:03:23.346Z"
   },
   {
    "duration": 5,
    "start_time": "2022-04-24T12:03:25.313Z"
   },
   {
    "duration": 10,
    "start_time": "2022-04-24T12:03:40.691Z"
   },
   {
    "duration": 16,
    "start_time": "2022-04-24T12:03:43.091Z"
   },
   {
    "duration": 9,
    "start_time": "2022-04-24T12:04:05.127Z"
   },
   {
    "duration": 53,
    "start_time": "2022-04-24T12:04:30.590Z"
   },
   {
    "duration": 26,
    "start_time": "2022-04-24T12:04:36.390Z"
   },
   {
    "duration": 56,
    "start_time": "2022-04-24T12:07:25.228Z"
   },
   {
    "duration": 12,
    "start_time": "2022-04-24T12:08:05.198Z"
   },
   {
    "duration": 14,
    "start_time": "2022-04-24T12:08:11.949Z"
   },
   {
    "duration": 9,
    "start_time": "2022-04-24T12:10:36.732Z"
   },
   {
    "duration": 19,
    "start_time": "2022-04-24T12:11:18.196Z"
   },
   {
    "duration": 8,
    "start_time": "2022-04-24T12:11:22.918Z"
   },
   {
    "duration": 23,
    "start_time": "2022-04-24T12:11:29.796Z"
   },
   {
    "duration": 18,
    "start_time": "2022-04-24T12:12:38.372Z"
   },
   {
    "duration": 13,
    "start_time": "2022-04-24T12:12:47.800Z"
   },
   {
    "duration": 46,
    "start_time": "2022-04-24T12:13:06.296Z"
   },
   {
    "duration": 29,
    "start_time": "2022-04-24T12:13:19.509Z"
   },
   {
    "duration": 9,
    "start_time": "2022-04-24T12:14:02.955Z"
   },
   {
    "duration": 21,
    "start_time": "2022-04-24T12:14:05.201Z"
   },
   {
    "duration": 11,
    "start_time": "2022-04-24T12:17:39.284Z"
   },
   {
    "duration": 11,
    "start_time": "2022-04-24T12:17:45.486Z"
   },
   {
    "duration": 16,
    "start_time": "2022-04-24T12:18:24.123Z"
   },
   {
    "duration": 18,
    "start_time": "2022-04-24T12:18:38.290Z"
   },
   {
    "duration": 18,
    "start_time": "2022-04-24T12:18:41.281Z"
   },
   {
    "duration": 32,
    "start_time": "2022-04-24T12:18:56.303Z"
   },
   {
    "duration": 9,
    "start_time": "2022-04-24T12:23:50.645Z"
   },
   {
    "duration": 17,
    "start_time": "2022-04-24T12:26:06.011Z"
   },
   {
    "duration": 8,
    "start_time": "2022-04-24T12:27:58.232Z"
   },
   {
    "duration": 42,
    "start_time": "2022-04-24T12:28:12.349Z"
   },
   {
    "duration": 41,
    "start_time": "2022-04-24T12:29:38.734Z"
   },
   {
    "duration": 22,
    "start_time": "2022-04-24T12:29:47.425Z"
   },
   {
    "duration": 42,
    "start_time": "2022-04-24T12:29:53.768Z"
   },
   {
    "duration": 27,
    "start_time": "2022-04-24T12:34:06.459Z"
   },
   {
    "duration": 44,
    "start_time": "2022-04-24T12:34:11.298Z"
   },
   {
    "duration": 20,
    "start_time": "2022-04-24T12:37:08.297Z"
   },
   {
    "duration": 2331,
    "start_time": "2022-04-24T12:41:59.844Z"
   },
   {
    "duration": 7,
    "start_time": "2022-04-24T12:42:12.141Z"
   },
   {
    "duration": 6,
    "start_time": "2022-04-24T12:44:54.778Z"
   },
   {
    "duration": 9,
    "start_time": "2022-04-24T12:45:13.995Z"
   },
   {
    "duration": 11,
    "start_time": "2022-04-24T12:45:28.147Z"
   },
   {
    "duration": 6,
    "start_time": "2022-04-24T12:45:38.242Z"
   },
   {
    "duration": 7,
    "start_time": "2022-04-24T12:46:45.079Z"
   },
   {
    "duration": 1144,
    "start_time": "2022-04-24T12:48:24.237Z"
   },
   {
    "duration": 117,
    "start_time": "2022-04-24T12:48:27.877Z"
   },
   {
    "duration": 24,
    "start_time": "2022-04-24T12:48:30.320Z"
   },
   {
    "duration": 34,
    "start_time": "2022-04-24T12:48:32.483Z"
   },
   {
    "duration": 6,
    "start_time": "2022-04-24T12:48:34.531Z"
   },
   {
    "duration": 6,
    "start_time": "2022-04-24T12:48:36.400Z"
   },
   {
    "duration": 14,
    "start_time": "2022-04-24T12:48:38.301Z"
   },
   {
    "duration": 9,
    "start_time": "2022-04-24T12:48:41.320Z"
   },
   {
    "duration": 40,
    "start_time": "2022-04-24T12:48:44.277Z"
   },
   {
    "duration": 38,
    "start_time": "2022-04-24T12:48:46.869Z"
   },
   {
    "duration": 11,
    "start_time": "2022-04-24T12:48:49.648Z"
   },
   {
    "duration": 38,
    "start_time": "2022-04-24T12:48:51.249Z"
   },
   {
    "duration": 16,
    "start_time": "2022-04-24T12:48:52.870Z"
   },
   {
    "duration": 28,
    "start_time": "2022-04-24T12:48:55.951Z"
   },
   {
    "duration": 21,
    "start_time": "2022-04-24T12:48:58.390Z"
   },
   {
    "duration": 7,
    "start_time": "2022-04-24T12:49:01.033Z"
   },
   {
    "duration": 17,
    "start_time": "2022-04-24T12:49:03.004Z"
   },
   {
    "duration": 58,
    "start_time": "2022-04-24T12:49:05.629Z"
   },
   {
    "duration": 59,
    "start_time": "2022-04-24T12:49:07.955Z"
   },
   {
    "duration": 6,
    "start_time": "2022-04-24T12:49:10.408Z"
   },
   {
    "duration": 10,
    "start_time": "2022-04-24T12:49:13.006Z"
   },
   {
    "duration": 10,
    "start_time": "2022-04-24T12:54:04.593Z"
   },
   {
    "duration": 51,
    "start_time": "2022-04-24T12:54:18.146Z"
   },
   {
    "duration": 20,
    "start_time": "2022-04-24T12:54:49.725Z"
   },
   {
    "duration": 112,
    "start_time": "2022-04-24T13:05:21.929Z"
   },
   {
    "duration": 24,
    "start_time": "2022-04-24T13:05:47.328Z"
   },
   {
    "duration": 56,
    "start_time": "2022-04-24T13:07:31.801Z"
   },
   {
    "duration": 52,
    "start_time": "2022-04-24T13:07:56.735Z"
   },
   {
    "duration": 141,
    "start_time": "2022-04-24T13:09:26.586Z"
   },
   {
    "duration": 101,
    "start_time": "2022-04-24T13:09:34.943Z"
   },
   {
    "duration": 977,
    "start_time": "2022-04-24T13:10:43.637Z"
   },
   {
    "duration": 132,
    "start_time": "2022-04-24T13:10:46.252Z"
   },
   {
    "duration": 99,
    "start_time": "2022-04-24T13:10:47.770Z"
   },
   {
    "duration": 21,
    "start_time": "2022-04-24T13:10:49.377Z"
   },
   {
    "duration": 32,
    "start_time": "2022-04-24T13:10:54.016Z"
   },
   {
    "duration": 5,
    "start_time": "2022-04-24T13:10:57.187Z"
   },
   {
    "duration": 6,
    "start_time": "2022-04-24T13:10:57.802Z"
   },
   {
    "duration": 15,
    "start_time": "2022-04-24T13:10:58.515Z"
   },
   {
    "duration": 9,
    "start_time": "2022-04-24T13:10:59.192Z"
   },
   {
    "duration": 38,
    "start_time": "2022-04-24T13:10:59.433Z"
   },
   {
    "duration": 29,
    "start_time": "2022-04-24T13:10:59.937Z"
   },
   {
    "duration": 6,
    "start_time": "2022-04-24T13:11:00.157Z"
   },
   {
    "duration": 22,
    "start_time": "2022-04-24T13:11:00.616Z"
   },
   {
    "duration": 8,
    "start_time": "2022-04-24T13:11:00.864Z"
   },
   {
    "duration": 19,
    "start_time": "2022-04-24T13:11:01.377Z"
   },
   {
    "duration": 21,
    "start_time": "2022-04-24T13:11:01.668Z"
   },
   {
    "duration": 7,
    "start_time": "2022-04-24T13:11:01.958Z"
   },
   {
    "duration": 16,
    "start_time": "2022-04-24T13:11:02.502Z"
   },
   {
    "duration": 42,
    "start_time": "2022-04-24T13:11:03.121Z"
   },
   {
    "duration": 47,
    "start_time": "2022-04-24T13:11:03.731Z"
   },
   {
    "duration": 7,
    "start_time": "2022-04-24T13:11:04.816Z"
   },
   {
    "duration": 13,
    "start_time": "2022-04-24T13:11:05.994Z"
   },
   {
    "duration": 45,
    "start_time": "2022-04-24T13:11:08.219Z"
   },
   {
    "duration": 114,
    "start_time": "2022-04-24T13:11:10.147Z"
   },
   {
    "duration": 5,
    "start_time": "2022-04-24T13:15:41.466Z"
   },
   {
    "duration": 2172,
    "start_time": "2022-04-24T13:16:16.816Z"
   },
   {
    "duration": 6,
    "start_time": "2022-04-24T13:16:40.703Z"
   },
   {
    "duration": 588,
    "start_time": "2022-04-24T13:16:42.893Z"
   },
   {
    "duration": 554,
    "start_time": "2022-04-24T13:16:54.708Z"
   },
   {
    "duration": 42,
    "start_time": "2022-04-24T13:19:01.483Z"
   },
   {
    "duration": 130,
    "start_time": "2022-04-24T16:00:20.014Z"
   },
   {
    "duration": 1320,
    "start_time": "2022-04-24T16:00:27.133Z"
   },
   {
    "duration": 204,
    "start_time": "2022-04-24T16:00:30.750Z"
   },
   {
    "duration": 152,
    "start_time": "2022-04-24T16:00:30.957Z"
   },
   {
    "duration": 35,
    "start_time": "2022-04-24T16:00:31.121Z"
   },
   {
    "duration": 50,
    "start_time": "2022-04-24T16:00:31.356Z"
   },
   {
    "duration": 7,
    "start_time": "2022-04-24T16:00:32.189Z"
   },
   {
    "duration": 7,
    "start_time": "2022-04-24T16:00:32.374Z"
   },
   {
    "duration": 13,
    "start_time": "2022-04-24T16:00:32.749Z"
   },
   {
    "duration": 183,
    "start_time": "2022-04-24T16:00:33.320Z"
   },
   {
    "duration": 48,
    "start_time": "2022-04-24T16:00:33.509Z"
   },
   {
    "duration": 29,
    "start_time": "2022-04-24T16:00:33.909Z"
   },
   {
    "duration": 7,
    "start_time": "2022-04-24T16:00:34.115Z"
   },
   {
    "duration": 21,
    "start_time": "2022-04-24T16:00:35.951Z"
   },
   {
    "duration": 8,
    "start_time": "2022-04-24T16:00:36.155Z"
   },
   {
    "duration": 23,
    "start_time": "2022-04-24T16:01:34.185Z"
   },
   {
    "duration": 21,
    "start_time": "2022-04-24T16:01:38.594Z"
   },
   {
    "duration": 21,
    "start_time": "2022-04-24T16:01:40.548Z"
   },
   {
    "duration": 8,
    "start_time": "2022-04-24T16:01:42.240Z"
   },
   {
    "duration": 31,
    "start_time": "2022-04-24T16:01:51.459Z"
   },
   {
    "duration": 996,
    "start_time": "2022-04-24T16:03:58.031Z"
   },
   {
    "duration": 109,
    "start_time": "2022-04-24T16:03:59.029Z"
   },
   {
    "duration": 28,
    "start_time": "2022-04-24T16:03:59.140Z"
   },
   {
    "duration": 32,
    "start_time": "2022-04-24T16:03:59.171Z"
   },
   {
    "duration": 5,
    "start_time": "2022-04-24T16:04:03.323Z"
   },
   {
    "duration": 6,
    "start_time": "2022-04-24T16:04:04.232Z"
   },
   {
    "duration": 13,
    "start_time": "2022-04-24T16:04:05.757Z"
   },
   {
    "duration": 183,
    "start_time": "2022-04-24T16:04:07.395Z"
   },
   {
    "duration": 55,
    "start_time": "2022-04-24T16:04:07.717Z"
   },
   {
    "duration": 42,
    "start_time": "2022-04-24T16:04:08.359Z"
   },
   {
    "duration": 7,
    "start_time": "2022-04-24T16:04:08.705Z"
   },
   {
    "duration": 23,
    "start_time": "2022-04-24T16:04:09.388Z"
   },
   {
    "duration": 7,
    "start_time": "2022-04-24T16:04:09.714Z"
   },
   {
    "duration": 29,
    "start_time": "2022-04-24T16:04:10.414Z"
   },
   {
    "duration": 29,
    "start_time": "2022-04-24T16:04:10.794Z"
   },
   {
    "duration": 10,
    "start_time": "2022-04-24T16:04:11.254Z"
   },
   {
    "duration": 18,
    "start_time": "2022-04-24T16:04:12.376Z"
   },
   {
    "duration": 59,
    "start_time": "2022-04-24T16:04:13.537Z"
   },
   {
    "duration": 64,
    "start_time": "2022-04-24T16:04:14.961Z"
   },
   {
    "duration": 7,
    "start_time": "2022-04-24T16:04:16.168Z"
   },
   {
    "duration": 56,
    "start_time": "2022-04-24T16:04:57.712Z"
   },
   {
    "duration": 38,
    "start_time": "2022-04-24T16:05:11.725Z"
   },
   {
    "duration": 1267,
    "start_time": "2022-04-24T16:05:48.024Z"
   },
   {
    "duration": 139,
    "start_time": "2022-04-24T16:05:51.757Z"
   },
   {
    "duration": 22,
    "start_time": "2022-04-24T16:05:54.379Z"
   },
   {
    "duration": 35,
    "start_time": "2022-04-24T16:05:56.547Z"
   },
   {
    "duration": 6,
    "start_time": "2022-04-24T16:05:58.520Z"
   },
   {
    "duration": 7,
    "start_time": "2022-04-24T16:06:00.847Z"
   },
   {
    "duration": 14,
    "start_time": "2022-04-24T16:06:04.564Z"
   },
   {
    "duration": 118,
    "start_time": "2022-04-24T16:06:06.987Z"
   },
   {
    "duration": 961,
    "start_time": "2022-04-24T16:08:09.463Z"
   },
   {
    "duration": 97,
    "start_time": "2022-04-24T16:08:13.475Z"
   },
   {
    "duration": 23,
    "start_time": "2022-04-24T16:08:17.238Z"
   },
   {
    "duration": 51,
    "start_time": "2022-04-24T16:08:19.501Z"
   },
   {
    "duration": 6,
    "start_time": "2022-04-24T16:08:24.113Z"
   },
   {
    "duration": 6,
    "start_time": "2022-04-24T16:08:26.201Z"
   },
   {
    "duration": 12,
    "start_time": "2022-04-24T16:08:28.842Z"
   },
   {
    "duration": 10,
    "start_time": "2022-04-24T16:08:31.160Z"
   },
   {
    "duration": 37,
    "start_time": "2022-04-24T16:08:34.005Z"
   },
   {
    "duration": 29,
    "start_time": "2022-04-24T16:08:36.603Z"
   },
   {
    "duration": 7,
    "start_time": "2022-04-24T16:08:38.995Z"
   },
   {
    "duration": 21,
    "start_time": "2022-04-24T16:08:40.937Z"
   },
   {
    "duration": 8,
    "start_time": "2022-04-24T16:08:42.788Z"
   },
   {
    "duration": 21,
    "start_time": "2022-04-24T16:08:44.973Z"
   },
   {
    "duration": 21,
    "start_time": "2022-04-24T16:08:47.286Z"
   },
   {
    "duration": 8,
    "start_time": "2022-04-24T16:08:50.847Z"
   },
   {
    "duration": 16,
    "start_time": "2022-04-24T16:08:54.328Z"
   },
   {
    "duration": 39,
    "start_time": "2022-04-24T16:08:56.962Z"
   },
   {
    "duration": 43,
    "start_time": "2022-04-24T16:09:01.691Z"
   },
   {
    "duration": 7,
    "start_time": "2022-04-24T16:09:05.229Z"
   },
   {
    "duration": 9,
    "start_time": "2022-04-24T16:09:07.559Z"
   },
   {
    "duration": 45,
    "start_time": "2022-04-24T16:09:10.473Z"
   },
   {
    "duration": 2104,
    "start_time": "2022-04-24T16:09:13.039Z"
   },
   {
    "duration": 111,
    "start_time": "2022-04-24T16:09:30.804Z"
   },
   {
    "duration": 40,
    "start_time": "2022-04-24T16:10:25.717Z"
   },
   {
    "duration": 67,
    "start_time": "2022-04-24T16:11:22.899Z"
   },
   {
    "duration": 4,
    "start_time": "2022-04-24T16:12:30.096Z"
   },
   {
    "duration": 614,
    "start_time": "2022-04-24T16:12:32.797Z"
   },
   {
    "duration": 2022,
    "start_time": "2022-04-24T16:15:12.062Z"
   },
   {
    "duration": 42,
    "start_time": "2022-04-24T16:15:40.041Z"
   },
   {
    "duration": 14,
    "start_time": "2022-04-24T16:16:46.507Z"
   },
   {
    "duration": 35,
    "start_time": "2022-04-24T16:24:58.352Z"
   },
   {
    "duration": 41,
    "start_time": "2022-04-24T16:26:14.736Z"
   },
   {
    "duration": 120,
    "start_time": "2022-04-24T16:57:09.040Z"
   },
   {
    "duration": 6,
    "start_time": "2022-04-24T16:57:37.395Z"
   },
   {
    "duration": 6,
    "start_time": "2022-04-24T16:58:14.939Z"
   },
   {
    "duration": 199,
    "start_time": "2022-04-24T17:00:02.875Z"
   },
   {
    "duration": 264,
    "start_time": "2022-04-24T17:00:16.396Z"
   },
   {
    "duration": 282,
    "start_time": "2022-04-24T17:00:27.282Z"
   },
   {
    "duration": 358,
    "start_time": "2022-04-24T17:00:35.400Z"
   },
   {
    "duration": 463,
    "start_time": "2022-04-24T17:00:44.010Z"
   },
   {
    "duration": 499,
    "start_time": "2022-04-24T17:02:16.066Z"
   },
   {
    "duration": 214,
    "start_time": "2022-04-24T17:02:21.956Z"
   },
   {
    "duration": 289,
    "start_time": "2022-04-24T17:02:32.259Z"
   },
   {
    "duration": 293,
    "start_time": "2022-04-24T17:02:46.044Z"
   },
   {
    "duration": 1013,
    "start_time": "2022-04-24T17:06:32.421Z"
   },
   {
    "duration": 553,
    "start_time": "2022-04-24T17:06:40.498Z"
   },
   {
    "duration": 674,
    "start_time": "2022-04-24T17:07:02.200Z"
   },
   {
    "duration": 125,
    "start_time": "2022-04-24T17:07:35.724Z"
   },
   {
    "duration": 548,
    "start_time": "2022-04-24T17:07:40.891Z"
   },
   {
    "duration": 573,
    "start_time": "2022-04-24T17:07:51.741Z"
   },
   {
    "duration": 581,
    "start_time": "2022-04-24T17:08:07.873Z"
   },
   {
    "duration": 670,
    "start_time": "2022-04-24T17:08:18.950Z"
   },
   {
    "duration": 590,
    "start_time": "2022-04-24T17:08:27.980Z"
   },
   {
    "duration": 813,
    "start_time": "2022-04-24T17:08:40.519Z"
   },
   {
    "duration": 149,
    "start_time": "2022-04-24T17:13:29.523Z"
   },
   {
    "duration": 745,
    "start_time": "2022-04-24T17:13:34.119Z"
   },
   {
    "duration": 647,
    "start_time": "2022-04-24T17:13:52.362Z"
   },
   {
    "duration": 812,
    "start_time": "2022-04-24T17:15:35.473Z"
   },
   {
    "duration": 951,
    "start_time": "2022-04-24T17:16:08.248Z"
   },
   {
    "duration": 881,
    "start_time": "2022-04-24T17:16:14.633Z"
   },
   {
    "duration": 882,
    "start_time": "2022-04-24T17:16:19.176Z"
   },
   {
    "duration": 999,
    "start_time": "2022-04-24T17:16:27.168Z"
   },
   {
    "duration": 784,
    "start_time": "2022-04-24T17:16:33.909Z"
   },
   {
    "duration": 811,
    "start_time": "2022-04-24T17:16:41.611Z"
   },
   {
    "duration": 292,
    "start_time": "2022-04-24T17:17:05.081Z"
   },
   {
    "duration": 234,
    "start_time": "2022-04-24T17:17:19.920Z"
   },
   {
    "duration": 245,
    "start_time": "2022-04-24T17:18:08.557Z"
   },
   {
    "duration": 1056,
    "start_time": "2022-04-24T17:19:33.235Z"
   },
   {
    "duration": 108,
    "start_time": "2022-04-24T17:19:34.294Z"
   },
   {
    "duration": 20,
    "start_time": "2022-04-24T17:19:34.404Z"
   },
   {
    "duration": 53,
    "start_time": "2022-04-24T17:19:34.427Z"
   },
   {
    "duration": 6,
    "start_time": "2022-04-24T17:19:34.829Z"
   },
   {
    "duration": 6,
    "start_time": "2022-04-24T17:19:35.025Z"
   },
   {
    "duration": 14,
    "start_time": "2022-04-24T17:19:35.416Z"
   },
   {
    "duration": 11,
    "start_time": "2022-04-24T17:19:35.969Z"
   },
   {
    "duration": 37,
    "start_time": "2022-04-24T17:19:36.162Z"
   },
   {
    "duration": 28,
    "start_time": "2022-04-24T17:19:36.535Z"
   },
   {
    "duration": 7,
    "start_time": "2022-04-24T17:19:36.717Z"
   },
   {
    "duration": 21,
    "start_time": "2022-04-24T17:19:37.075Z"
   },
   {
    "duration": 7,
    "start_time": "2022-04-24T17:19:37.261Z"
   },
   {
    "duration": 21,
    "start_time": "2022-04-24T17:19:37.632Z"
   },
   {
    "duration": 21,
    "start_time": "2022-04-24T17:19:37.851Z"
   },
   {
    "duration": 8,
    "start_time": "2022-04-24T17:19:38.017Z"
   },
   {
    "duration": 16,
    "start_time": "2022-04-24T17:19:38.440Z"
   },
   {
    "duration": 44,
    "start_time": "2022-04-24T17:19:38.811Z"
   },
   {
    "duration": 27,
    "start_time": "2022-04-24T17:19:39.172Z"
   },
   {
    "duration": 6,
    "start_time": "2022-04-24T17:19:39.592Z"
   },
   {
    "duration": 10,
    "start_time": "2022-04-24T17:19:39.957Z"
   },
   {
    "duration": 45,
    "start_time": "2022-04-24T17:19:40.331Z"
   },
   {
    "duration": 125,
    "start_time": "2022-04-24T17:19:40.729Z"
   },
   {
    "duration": 40,
    "start_time": "2022-04-24T17:19:41.310Z"
   },
   {
    "duration": 63,
    "start_time": "2022-04-24T17:19:41.753Z"
   },
   {
    "duration": 4,
    "start_time": "2022-04-24T17:19:42.097Z"
   },
   {
    "duration": 581,
    "start_time": "2022-04-24T17:19:42.274Z"
   },
   {
    "duration": 37,
    "start_time": "2022-04-24T17:19:42.868Z"
   },
   {
    "duration": 5,
    "start_time": "2022-04-24T17:19:43.688Z"
   },
   {
    "duration": 617,
    "start_time": "2022-04-24T17:19:43.839Z"
   },
   {
    "duration": 1059,
    "start_time": "2022-04-24T18:44:45.832Z"
   },
   {
    "duration": 111,
    "start_time": "2022-04-24T18:44:46.893Z"
   },
   {
    "duration": 22,
    "start_time": "2022-04-24T18:44:47.006Z"
   },
   {
    "duration": 53,
    "start_time": "2022-04-24T18:44:47.031Z"
   },
   {
    "duration": 7,
    "start_time": "2022-04-24T18:44:47.087Z"
   },
   {
    "duration": 7,
    "start_time": "2022-04-24T18:44:47.097Z"
   },
   {
    "duration": 54,
    "start_time": "2022-04-24T18:44:47.106Z"
   },
   {
    "duration": 11,
    "start_time": "2022-04-24T18:44:47.162Z"
   },
   {
    "duration": 43,
    "start_time": "2022-04-24T18:44:47.175Z"
   },
   {
    "duration": 56,
    "start_time": "2022-04-24T18:44:47.222Z"
   },
   {
    "duration": 7,
    "start_time": "2022-04-24T18:44:47.281Z"
   },
   {
    "duration": 60,
    "start_time": "2022-04-24T18:44:47.291Z"
   },
   {
    "duration": 10,
    "start_time": "2022-04-24T18:44:47.355Z"
   },
   {
    "duration": 22,
    "start_time": "2022-04-24T18:44:47.368Z"
   },
   {
    "duration": 22,
    "start_time": "2022-04-24T18:44:47.392Z"
   },
   {
    "duration": 41,
    "start_time": "2022-04-24T18:44:47.416Z"
   },
   {
    "duration": 20,
    "start_time": "2022-04-24T18:44:47.459Z"
   },
   {
    "duration": 47,
    "start_time": "2022-04-24T18:44:47.482Z"
   },
   {
    "duration": 44,
    "start_time": "2022-04-24T18:44:47.531Z"
   },
   {
    "duration": 12,
    "start_time": "2022-04-24T18:44:47.578Z"
   },
   {
    "duration": 12,
    "start_time": "2022-04-24T18:44:47.592Z"
   },
   {
    "duration": 81,
    "start_time": "2022-04-24T18:44:47.606Z"
   },
   {
    "duration": 135,
    "start_time": "2022-04-24T18:44:47.690Z"
   },
   {
    "duration": 52,
    "start_time": "2022-04-24T18:44:47.828Z"
   },
   {
    "duration": 96,
    "start_time": "2022-04-24T18:44:47.882Z"
   },
   {
    "duration": 6,
    "start_time": "2022-04-24T18:44:47.981Z"
   },
   {
    "duration": 975,
    "start_time": "2022-04-24T18:44:47.990Z"
   },
   {
    "duration": 41,
    "start_time": "2022-04-24T18:44:48.970Z"
   },
   {
    "duration": 7,
    "start_time": "2022-04-24T18:44:49.013Z"
   },
   {
    "duration": 674,
    "start_time": "2022-04-24T18:44:49.022Z"
   },
   {
    "duration": 256,
    "start_time": "2022-04-24T18:44:49.698Z"
   },
   {
    "duration": 52,
    "start_time": "2022-04-24T18:44:49.957Z"
   },
   {
    "duration": 19204,
    "start_time": "2022-04-24T18:46:08.901Z"
   },
   {
    "duration": 2106,
    "start_time": "2022-04-24T18:46:45.988Z"
   },
   {
    "duration": 384,
    "start_time": "2022-04-24T18:46:58.149Z"
   },
   {
    "duration": 31,
    "start_time": "2022-04-24T18:48:25.518Z"
   },
   {
    "duration": 518,
    "start_time": "2022-04-24T18:48:27.467Z"
   },
   {
    "duration": 25,
    "start_time": "2022-04-24T18:48:38.492Z"
   },
   {
    "duration": 333,
    "start_time": "2022-04-24T18:48:40.294Z"
   },
   {
    "duration": 240,
    "start_time": "2022-04-24T18:48:48.443Z"
   },
   {
    "duration": 243,
    "start_time": "2022-04-24T18:49:06.958Z"
   },
   {
    "duration": 12,
    "start_time": "2022-04-24T18:49:43.865Z"
   },
   {
    "duration": 122,
    "start_time": "2022-04-24T18:50:12.681Z"
   },
   {
    "duration": 254,
    "start_time": "2022-04-24T18:50:16.063Z"
   },
   {
    "duration": 174,
    "start_time": "2022-04-24T18:52:46.789Z"
   },
   {
    "duration": 9,
    "start_time": "2022-04-24T18:52:53.477Z"
   },
   {
    "duration": 72,
    "start_time": "2022-04-24T18:53:25.026Z"
   },
   {
    "duration": 80,
    "start_time": "2022-04-24T18:53:33.326Z"
   },
   {
    "duration": 45,
    "start_time": "2022-04-24T18:54:06.666Z"
   },
   {
    "duration": 11,
    "start_time": "2022-04-24T18:54:44.125Z"
   },
   {
    "duration": 46,
    "start_time": "2022-04-24T18:54:57.795Z"
   },
   {
    "duration": 1987,
    "start_time": "2022-04-24T18:55:24.192Z"
   },
   {
    "duration": 1541,
    "start_time": "2022-04-24T18:55:47.224Z"
   },
   {
    "duration": 10,
    "start_time": "2022-04-24T18:55:52.594Z"
   },
   {
    "duration": 18,
    "start_time": "2022-04-24T18:56:03.065Z"
   },
   {
    "duration": 246,
    "start_time": "2022-04-24T18:56:36.377Z"
   },
   {
    "duration": 302,
    "start_time": "2022-04-24T18:59:27.417Z"
   },
   {
    "duration": 337,
    "start_time": "2022-04-24T18:59:42.120Z"
   },
   {
    "duration": 273,
    "start_time": "2022-04-24T18:59:59.094Z"
   },
   {
    "duration": 273,
    "start_time": "2022-04-24T19:00:30.859Z"
   },
   {
    "duration": 261,
    "start_time": "2022-04-24T19:00:40.969Z"
   },
   {
    "duration": 575,
    "start_time": "2022-04-24T19:01:56.600Z"
   },
   {
    "duration": 264,
    "start_time": "2022-04-24T19:05:51.567Z"
   },
   {
    "duration": 283,
    "start_time": "2022-04-24T19:05:59.208Z"
   },
   {
    "duration": 313,
    "start_time": "2022-04-24T19:06:07.966Z"
   },
   {
    "duration": 367,
    "start_time": "2022-04-24T19:06:42.011Z"
   },
   {
    "duration": 444,
    "start_time": "2022-04-24T19:07:31.098Z"
   },
   {
    "duration": 11,
    "start_time": "2022-04-24T19:09:01.166Z"
   },
   {
    "duration": 16,
    "start_time": "2022-04-24T19:11:06.515Z"
   },
   {
    "duration": 12,
    "start_time": "2022-04-24T19:11:11.171Z"
   },
   {
    "duration": 5,
    "start_time": "2022-04-24T19:21:30.919Z"
   },
   {
    "duration": 25,
    "start_time": "2022-04-24T19:25:06.280Z"
   },
   {
    "duration": 2471,
    "start_time": "2022-04-24T19:25:56.068Z"
   },
   {
    "duration": 29,
    "start_time": "2022-04-24T19:26:15.998Z"
   },
   {
    "duration": 25,
    "start_time": "2022-04-24T19:28:50.840Z"
   },
   {
    "duration": 275,
    "start_time": "2022-04-24T19:31:01.601Z"
   },
   {
    "duration": 289,
    "start_time": "2022-04-24T19:31:25.815Z"
   },
   {
    "duration": 266,
    "start_time": "2022-04-24T19:31:33.493Z"
   },
   {
    "duration": 251,
    "start_time": "2022-04-24T19:32:08.816Z"
   },
   {
    "duration": 313,
    "start_time": "2022-04-24T19:32:13.688Z"
   },
   {
    "duration": 308,
    "start_time": "2022-04-24T19:33:03.553Z"
   },
   {
    "duration": 300,
    "start_time": "2022-04-24T19:33:08.470Z"
   },
   {
    "duration": 444,
    "start_time": "2022-04-24T19:33:15.884Z"
   },
   {
    "duration": 485,
    "start_time": "2022-04-24T19:33:26.953Z"
   },
   {
    "duration": 505,
    "start_time": "2022-04-24T19:33:42.914Z"
   },
   {
    "duration": 253,
    "start_time": "2022-04-24T19:35:13.273Z"
   },
   {
    "duration": 257,
    "start_time": "2022-04-24T19:35:15.783Z"
   },
   {
    "duration": 449,
    "start_time": "2022-04-24T19:35:32.533Z"
   },
   {
    "duration": 249,
    "start_time": "2022-04-24T19:35:56.417Z"
   },
   {
    "duration": 468,
    "start_time": "2022-04-24T19:36:34.238Z"
   },
   {
    "duration": 614,
    "start_time": "2022-04-24T19:36:45.509Z"
   },
   {
    "duration": 460,
    "start_time": "2022-04-24T19:39:01.892Z"
   },
   {
    "duration": 422,
    "start_time": "2022-04-24T19:39:06.210Z"
   },
   {
    "duration": 11,
    "start_time": "2022-04-24T19:39:40.210Z"
   },
   {
    "duration": 433,
    "start_time": "2022-04-24T19:39:48.319Z"
   },
   {
    "duration": 455,
    "start_time": "2022-04-24T19:39:56.952Z"
   },
   {
    "duration": 52,
    "start_time": "2022-04-25T07:05:33.581Z"
   },
   {
    "duration": 974,
    "start_time": "2022-04-25T07:05:46.980Z"
   },
   {
    "duration": 73,
    "start_time": "2022-04-25T07:05:47.956Z"
   },
   {
    "duration": 14,
    "start_time": "2022-04-25T07:05:48.031Z"
   },
   {
    "duration": 36,
    "start_time": "2022-04-25T07:05:48.048Z"
   },
   {
    "duration": 4,
    "start_time": "2022-04-25T07:05:48.086Z"
   },
   {
    "duration": 9,
    "start_time": "2022-04-25T07:05:48.091Z"
   },
   {
    "duration": 14,
    "start_time": "2022-04-25T07:05:48.102Z"
   },
   {
    "duration": 9,
    "start_time": "2022-04-25T07:05:48.118Z"
   },
   {
    "duration": 53,
    "start_time": "2022-04-25T07:05:48.129Z"
   },
   {
    "duration": 22,
    "start_time": "2022-04-25T07:05:48.185Z"
   },
   {
    "duration": 6,
    "start_time": "2022-04-25T07:05:48.209Z"
   },
   {
    "duration": 18,
    "start_time": "2022-04-25T07:05:48.216Z"
   },
   {
    "duration": 9,
    "start_time": "2022-04-25T07:05:48.236Z"
   },
   {
    "duration": 18,
    "start_time": "2022-04-25T07:05:48.273Z"
   },
   {
    "duration": 18,
    "start_time": "2022-04-25T07:05:48.293Z"
   },
   {
    "duration": 6,
    "start_time": "2022-04-25T07:05:48.313Z"
   },
   {
    "duration": 22,
    "start_time": "2022-04-25T07:05:48.321Z"
   },
   {
    "duration": 65,
    "start_time": "2022-04-25T07:05:48.345Z"
   },
   {
    "duration": 18,
    "start_time": "2022-04-25T07:05:48.412Z"
   },
   {
    "duration": 9,
    "start_time": "2022-04-25T07:05:48.432Z"
   },
   {
    "duration": 40,
    "start_time": "2022-04-25T07:05:48.442Z"
   },
   {
    "duration": 32,
    "start_time": "2022-04-25T07:05:48.484Z"
   },
   {
    "duration": 113,
    "start_time": "2022-04-25T07:05:48.518Z"
   },
   {
    "duration": 28,
    "start_time": "2022-04-25T07:05:48.633Z"
   },
   {
    "duration": 55,
    "start_time": "2022-04-25T07:05:48.663Z"
   },
   {
    "duration": 4,
    "start_time": "2022-04-25T07:05:48.719Z"
   },
   {
    "duration": 387,
    "start_time": "2022-04-25T07:05:48.725Z"
   },
   {
    "duration": 37,
    "start_time": "2022-04-25T07:05:49.117Z"
   },
   {
    "duration": 18,
    "start_time": "2022-04-25T07:05:49.156Z"
   },
   {
    "duration": 458,
    "start_time": "2022-04-25T07:05:49.176Z"
   },
   {
    "duration": 22,
    "start_time": "2022-04-25T07:05:49.635Z"
   },
   {
    "duration": 351,
    "start_time": "2022-04-25T07:05:49.659Z"
   },
   {
    "duration": 314,
    "start_time": "2022-04-25T07:05:50.012Z"
   },
   {
    "duration": 194,
    "start_time": "2022-04-25T07:05:50.329Z"
   },
   {
    "duration": 337,
    "start_time": "2022-04-25T07:05:50.524Z"
   },
   {
    "duration": 419,
    "start_time": "2022-04-25T07:05:50.863Z"
   },
   {
    "duration": 11,
    "start_time": "2022-04-25T07:05:51.284Z"
   },
   {
    "duration": 10,
    "start_time": "2022-04-25T07:05:51.297Z"
   },
   {
    "duration": 13,
    "start_time": "2022-04-25T07:05:51.309Z"
   },
   {
    "duration": 8,
    "start_time": "2022-04-25T07:06:25.754Z"
   },
   {
    "duration": 782,
    "start_time": "2022-04-25T07:10:46.097Z"
   },
   {
    "duration": 69,
    "start_time": "2022-04-25T07:10:46.882Z"
   },
   {
    "duration": 28,
    "start_time": "2022-04-25T07:10:46.953Z"
   },
   {
    "duration": 24,
    "start_time": "2022-04-25T07:10:46.984Z"
   },
   {
    "duration": 5,
    "start_time": "2022-04-25T07:10:47.010Z"
   },
   {
    "duration": 12,
    "start_time": "2022-04-25T07:10:47.017Z"
   },
   {
    "duration": 27,
    "start_time": "2022-04-25T07:10:47.031Z"
   },
   {
    "duration": 18,
    "start_time": "2022-04-25T07:10:47.060Z"
   },
   {
    "duration": 44,
    "start_time": "2022-04-25T07:10:47.080Z"
   },
   {
    "duration": 29,
    "start_time": "2022-04-25T07:10:47.127Z"
   },
   {
    "duration": 6,
    "start_time": "2022-04-25T07:10:47.159Z"
   },
   {
    "duration": 27,
    "start_time": "2022-04-25T07:10:47.167Z"
   },
   {
    "duration": 19,
    "start_time": "2022-04-25T07:10:47.196Z"
   },
   {
    "duration": 28,
    "start_time": "2022-04-25T07:10:47.217Z"
   },
   {
    "duration": 17,
    "start_time": "2022-04-25T07:10:47.247Z"
   },
   {
    "duration": 13,
    "start_time": "2022-04-25T07:10:47.265Z"
   },
   {
    "duration": 26,
    "start_time": "2022-04-25T07:10:47.279Z"
   },
   {
    "duration": 36,
    "start_time": "2022-04-25T07:10:47.307Z"
   },
   {
    "duration": 18,
    "start_time": "2022-04-25T07:10:47.345Z"
   },
   {
    "duration": 9,
    "start_time": "2022-04-25T07:10:47.365Z"
   },
   {
    "duration": 17,
    "start_time": "2022-04-25T07:10:47.376Z"
   },
   {
    "duration": 39,
    "start_time": "2022-04-25T07:10:47.395Z"
   },
   {
    "duration": 87,
    "start_time": "2022-04-25T07:10:47.435Z"
   },
   {
    "duration": 26,
    "start_time": "2022-04-25T07:10:47.524Z"
   },
   {
    "duration": 54,
    "start_time": "2022-04-25T07:10:47.551Z"
   },
   {
    "duration": 3,
    "start_time": "2022-04-25T07:10:47.607Z"
   },
   {
    "duration": 341,
    "start_time": "2022-04-25T07:10:47.612Z"
   },
   {
    "duration": 34,
    "start_time": "2022-04-25T07:10:47.956Z"
   },
   {
    "duration": 4,
    "start_time": "2022-04-25T07:10:47.992Z"
   },
   {
    "duration": 424,
    "start_time": "2022-04-25T07:10:47.997Z"
   },
   {
    "duration": 20,
    "start_time": "2022-04-25T07:10:48.423Z"
   },
   {
    "duration": 309,
    "start_time": "2022-04-25T07:10:48.445Z"
   },
   {
    "duration": 291,
    "start_time": "2022-04-25T07:10:48.755Z"
   },
   {
    "duration": 175,
    "start_time": "2022-04-25T07:10:49.048Z"
   },
   {
    "duration": 283,
    "start_time": "2022-04-25T07:10:49.225Z"
   },
   {
    "duration": 308,
    "start_time": "2022-04-25T07:10:49.510Z"
   },
   {
    "duration": 11,
    "start_time": "2022-04-25T07:10:49.820Z"
   },
   {
    "duration": 11,
    "start_time": "2022-04-25T07:10:49.833Z"
   },
   {
    "duration": 34,
    "start_time": "2022-04-25T07:10:49.846Z"
   },
   {
    "duration": 79,
    "start_time": "2022-04-25T07:15:53.078Z"
   },
   {
    "duration": 23,
    "start_time": "2022-04-25T07:16:06.802Z"
   },
   {
    "duration": 42,
    "start_time": "2022-04-25T07:18:19.040Z"
   },
   {
    "duration": 5,
    "start_time": "2022-04-25T07:30:36.289Z"
   },
   {
    "duration": 4,
    "start_time": "2022-04-25T07:30:43.962Z"
   },
   {
    "duration": 81,
    "start_time": "2022-04-25T07:31:14.164Z"
   },
   {
    "duration": 5,
    "start_time": "2022-04-25T07:32:05.469Z"
   },
   {
    "duration": 5,
    "start_time": "2022-04-25T07:37:56.710Z"
   },
   {
    "duration": 7,
    "start_time": "2022-04-25T07:42:31.330Z"
   },
   {
    "duration": 5,
    "start_time": "2022-04-25T07:42:45.819Z"
   },
   {
    "duration": 5,
    "start_time": "2022-04-25T07:42:50.317Z"
   },
   {
    "duration": 91,
    "start_time": "2022-04-25T07:43:04.631Z"
   },
   {
    "duration": 5,
    "start_time": "2022-04-25T07:43:08.626Z"
   },
   {
    "duration": 10,
    "start_time": "2022-04-25T07:43:30.143Z"
   },
   {
    "duration": 720,
    "start_time": "2022-04-25T07:44:16.910Z"
   },
   {
    "duration": 74,
    "start_time": "2022-04-25T07:44:17.632Z"
   },
   {
    "duration": 17,
    "start_time": "2022-04-25T07:44:17.708Z"
   },
   {
    "duration": 27,
    "start_time": "2022-04-25T07:44:17.727Z"
   },
   {
    "duration": 22,
    "start_time": "2022-04-25T07:44:17.755Z"
   },
   {
    "duration": 11,
    "start_time": "2022-04-25T07:44:17.779Z"
   },
   {
    "duration": 15,
    "start_time": "2022-04-25T07:44:17.792Z"
   },
   {
    "duration": 8,
    "start_time": "2022-04-25T07:44:17.809Z"
   },
   {
    "duration": 28,
    "start_time": "2022-04-25T07:44:17.818Z"
   },
   {
    "duration": 41,
    "start_time": "2022-04-25T07:44:17.849Z"
   },
   {
    "duration": 5,
    "start_time": "2022-04-25T07:44:17.892Z"
   },
   {
    "duration": 16,
    "start_time": "2022-04-25T07:44:17.898Z"
   },
   {
    "duration": 5,
    "start_time": "2022-04-25T07:44:17.916Z"
   },
   {
    "duration": 14,
    "start_time": "2022-04-25T07:44:17.923Z"
   },
   {
    "duration": 43,
    "start_time": "2022-04-25T07:44:17.939Z"
   },
   {
    "duration": 6,
    "start_time": "2022-04-25T07:44:17.984Z"
   },
   {
    "duration": 15,
    "start_time": "2022-04-25T07:44:17.991Z"
   },
   {
    "duration": 31,
    "start_time": "2022-04-25T07:44:18.008Z"
   },
   {
    "duration": 42,
    "start_time": "2022-04-25T07:44:18.041Z"
   },
   {
    "duration": 4,
    "start_time": "2022-04-25T07:44:18.085Z"
   },
   {
    "duration": 11,
    "start_time": "2022-04-25T07:44:18.091Z"
   },
   {
    "duration": 34,
    "start_time": "2022-04-25T07:44:18.103Z"
   },
   {
    "duration": 101,
    "start_time": "2022-04-25T07:44:18.139Z"
   },
   {
    "duration": 4,
    "start_time": "2022-04-25T07:44:18.242Z"
   },
   {
    "duration": 10,
    "start_time": "2022-04-25T07:44:18.248Z"
   },
   {
    "duration": 26,
    "start_time": "2022-04-25T07:44:18.273Z"
   },
   {
    "duration": 40,
    "start_time": "2022-04-25T07:44:18.301Z"
   },
   {
    "duration": 3,
    "start_time": "2022-04-25T07:44:18.345Z"
   },
   {
    "duration": 352,
    "start_time": "2022-04-25T07:44:18.350Z"
   },
   {
    "duration": 26,
    "start_time": "2022-04-25T07:44:18.704Z"
   },
   {
    "duration": 5,
    "start_time": "2022-04-25T07:44:18.731Z"
   },
   {
    "duration": 448,
    "start_time": "2022-04-25T07:44:18.737Z"
   },
   {
    "duration": 21,
    "start_time": "2022-04-25T07:44:19.187Z"
   },
   {
    "duration": 303,
    "start_time": "2022-04-25T07:44:19.210Z"
   },
   {
    "duration": 288,
    "start_time": "2022-04-25T07:44:19.515Z"
   },
   {
    "duration": 168,
    "start_time": "2022-04-25T07:44:19.805Z"
   },
   {
    "duration": 298,
    "start_time": "2022-04-25T07:44:19.975Z"
   },
   {
    "duration": 283,
    "start_time": "2022-04-25T07:44:20.275Z"
   },
   {
    "duration": 21,
    "start_time": "2022-04-25T07:44:20.560Z"
   },
   {
    "duration": 9,
    "start_time": "2022-04-25T07:44:20.583Z"
   },
   {
    "duration": 22,
    "start_time": "2022-04-25T07:44:20.594Z"
   },
   {
    "duration": 97,
    "start_time": "2022-04-25T07:52:15.038Z"
   },
   {
    "duration": 6,
    "start_time": "2022-04-25T07:52:28.439Z"
   },
   {
    "duration": 6,
    "start_time": "2022-04-25T07:53:03.489Z"
   },
   {
    "duration": 90,
    "start_time": "2022-04-25T07:54:51.582Z"
   },
   {
    "duration": 27,
    "start_time": "2022-04-25T07:55:40.020Z"
   },
   {
    "duration": 715,
    "start_time": "2022-04-25T07:55:51.324Z"
   },
   {
    "duration": 85,
    "start_time": "2022-04-25T07:55:52.041Z"
   },
   {
    "duration": 14,
    "start_time": "2022-04-25T07:55:52.128Z"
   },
   {
    "duration": 40,
    "start_time": "2022-04-25T07:55:52.144Z"
   },
   {
    "duration": 3,
    "start_time": "2022-04-25T07:55:52.186Z"
   },
   {
    "duration": 7,
    "start_time": "2022-04-25T07:55:52.191Z"
   },
   {
    "duration": 16,
    "start_time": "2022-04-25T07:55:52.200Z"
   },
   {
    "duration": 8,
    "start_time": "2022-04-25T07:55:52.217Z"
   },
   {
    "duration": 47,
    "start_time": "2022-04-25T07:55:52.226Z"
   },
   {
    "duration": 20,
    "start_time": "2022-04-25T07:55:52.276Z"
   },
   {
    "duration": 4,
    "start_time": "2022-04-25T07:55:52.298Z"
   },
   {
    "duration": 17,
    "start_time": "2022-04-25T07:55:52.303Z"
   },
   {
    "duration": 7,
    "start_time": "2022-04-25T07:55:52.321Z"
   },
   {
    "duration": 16,
    "start_time": "2022-04-25T07:55:52.329Z"
   },
   {
    "duration": 16,
    "start_time": "2022-04-25T07:55:52.372Z"
   },
   {
    "duration": 5,
    "start_time": "2022-04-25T07:55:52.390Z"
   },
   {
    "duration": 14,
    "start_time": "2022-04-25T07:55:52.397Z"
   },
   {
    "duration": 30,
    "start_time": "2022-04-25T07:55:52.412Z"
   },
   {
    "duration": 41,
    "start_time": "2022-04-25T07:55:52.444Z"
   },
   {
    "duration": 5,
    "start_time": "2022-04-25T07:55:52.487Z"
   },
   {
    "duration": 12,
    "start_time": "2022-04-25T07:55:52.493Z"
   },
   {
    "duration": 32,
    "start_time": "2022-04-25T07:55:52.506Z"
   },
   {
    "duration": 110,
    "start_time": "2022-04-25T07:55:52.539Z"
   },
   {
    "duration": 5,
    "start_time": "2022-04-25T07:55:52.651Z"
   },
   {
    "duration": 19,
    "start_time": "2022-04-25T07:55:52.657Z"
   },
   {
    "duration": 6,
    "start_time": "2022-04-25T07:55:52.677Z"
   },
   {
    "duration": 9,
    "start_time": "2022-04-25T07:55:52.684Z"
   },
   {
    "duration": 26,
    "start_time": "2022-04-25T07:55:52.696Z"
   },
   {
    "duration": 70,
    "start_time": "2022-04-25T07:55:52.724Z"
   },
   {
    "duration": 3,
    "start_time": "2022-04-25T07:55:52.795Z"
   },
   {
    "duration": 333,
    "start_time": "2022-04-25T07:55:52.800Z"
   },
   {
    "duration": 26,
    "start_time": "2022-04-25T07:55:53.135Z"
   },
   {
    "duration": 5,
    "start_time": "2022-04-25T07:55:53.173Z"
   },
   {
    "duration": 426,
    "start_time": "2022-04-25T07:55:53.179Z"
   },
   {
    "duration": 20,
    "start_time": "2022-04-25T07:55:53.607Z"
   },
   {
    "duration": 298,
    "start_time": "2022-04-25T07:55:53.629Z"
   },
   {
    "duration": 279,
    "start_time": "2022-04-25T07:55:53.929Z"
   },
   {
    "duration": 171,
    "start_time": "2022-04-25T07:55:54.210Z"
   },
   {
    "duration": 281,
    "start_time": "2022-04-25T07:55:54.383Z"
   },
   {
    "duration": 285,
    "start_time": "2022-04-25T07:55:54.666Z"
   },
   {
    "duration": 9,
    "start_time": "2022-04-25T07:55:54.953Z"
   },
   {
    "duration": 10,
    "start_time": "2022-04-25T07:55:54.972Z"
   },
   {
    "duration": 25,
    "start_time": "2022-04-25T07:55:54.984Z"
   },
   {
    "duration": 86,
    "start_time": "2022-04-25T08:09:09.509Z"
   },
   {
    "duration": 81,
    "start_time": "2022-04-25T08:09:14.435Z"
   },
   {
    "duration": 64,
    "start_time": "2022-04-25T08:16:22.729Z"
   },
   {
    "duration": 6,
    "start_time": "2022-04-25T08:24:27.948Z"
   },
   {
    "duration": 22,
    "start_time": "2022-04-25T08:24:33.105Z"
   },
   {
    "duration": 108,
    "start_time": "2022-04-25T08:28:33.199Z"
   },
   {
    "duration": 24,
    "start_time": "2022-04-25T08:28:46.768Z"
   },
   {
    "duration": 18,
    "start_time": "2022-04-25T08:31:01.692Z"
   },
   {
    "duration": 737,
    "start_time": "2022-04-25T10:35:57.912Z"
   },
   {
    "duration": 74,
    "start_time": "2022-04-25T10:35:58.651Z"
   },
   {
    "duration": 14,
    "start_time": "2022-04-25T10:35:58.727Z"
   },
   {
    "duration": 39,
    "start_time": "2022-04-25T10:35:58.744Z"
   },
   {
    "duration": 5,
    "start_time": "2022-04-25T10:35:58.785Z"
   },
   {
    "duration": 11,
    "start_time": "2022-04-25T10:35:58.791Z"
   },
   {
    "duration": 11,
    "start_time": "2022-04-25T10:35:58.804Z"
   },
   {
    "duration": 7,
    "start_time": "2022-04-25T10:35:58.817Z"
   },
   {
    "duration": 53,
    "start_time": "2022-04-25T10:35:58.826Z"
   },
   {
    "duration": 26,
    "start_time": "2022-04-25T10:35:58.883Z"
   },
   {
    "duration": 6,
    "start_time": "2022-04-25T10:35:58.911Z"
   },
   {
    "duration": 24,
    "start_time": "2022-04-25T10:35:58.919Z"
   },
   {
    "duration": 28,
    "start_time": "2022-04-25T10:35:58.945Z"
   },
   {
    "duration": 13,
    "start_time": "2022-04-25T10:35:58.975Z"
   },
   {
    "duration": 14,
    "start_time": "2022-04-25T10:35:58.990Z"
   },
   {
    "duration": 5,
    "start_time": "2022-04-25T10:35:59.006Z"
   },
   {
    "duration": 15,
    "start_time": "2022-04-25T10:35:59.012Z"
   },
   {
    "duration": 62,
    "start_time": "2022-04-25T10:35:59.029Z"
   },
   {
    "duration": 19,
    "start_time": "2022-04-25T10:35:59.093Z"
   },
   {
    "duration": 5,
    "start_time": "2022-04-25T10:35:59.113Z"
   },
   {
    "duration": 9,
    "start_time": "2022-04-25T10:35:59.119Z"
   },
   {
    "duration": 60,
    "start_time": "2022-04-25T10:35:59.130Z"
   },
   {
    "duration": 100,
    "start_time": "2022-04-25T10:35:59.192Z"
   },
   {
    "duration": 5,
    "start_time": "2022-04-25T10:35:59.293Z"
   },
   {
    "duration": 7,
    "start_time": "2022-04-25T10:35:59.300Z"
   },
   {
    "duration": 7,
    "start_time": "2022-04-25T10:35:59.309Z"
   },
   {
    "duration": 5,
    "start_time": "2022-04-25T10:35:59.318Z"
   },
   {
    "duration": 61,
    "start_time": "2022-04-25T10:35:59.326Z"
   },
   {
    "duration": 42,
    "start_time": "2022-04-25T10:35:59.389Z"
   },
   {
    "duration": 3,
    "start_time": "2022-04-25T10:35:59.432Z"
   },
   {
    "duration": 350,
    "start_time": "2022-04-25T10:35:59.437Z"
   },
   {
    "duration": 28,
    "start_time": "2022-04-25T10:35:59.788Z"
   },
   {
    "duration": 6,
    "start_time": "2022-04-25T10:35:59.818Z"
   },
   {
    "duration": 445,
    "start_time": "2022-04-25T10:35:59.826Z"
   },
   {
    "duration": 21,
    "start_time": "2022-04-25T10:36:00.273Z"
   },
   {
    "duration": 311,
    "start_time": "2022-04-25T10:36:00.295Z"
   },
   {
    "duration": 295,
    "start_time": "2022-04-25T10:36:00.608Z"
   },
   {
    "duration": 179,
    "start_time": "2022-04-25T10:36:00.905Z"
   },
   {
    "duration": 292,
    "start_time": "2022-04-25T10:36:01.085Z"
   },
   {
    "duration": 296,
    "start_time": "2022-04-25T10:36:01.379Z"
   },
   {
    "duration": 11,
    "start_time": "2022-04-25T10:36:01.676Z"
   },
   {
    "duration": 9,
    "start_time": "2022-04-25T10:36:01.689Z"
   },
   {
    "duration": 36,
    "start_time": "2022-04-25T10:36:01.701Z"
   },
   {
    "duration": 108,
    "start_time": "2022-04-25T10:36:01.739Z"
   },
   {
    "duration": 72,
    "start_time": "2022-04-25T10:36:01.849Z"
   },
   {
    "duration": 298,
    "start_time": "2022-04-25T10:39:08.470Z"
   },
   {
    "duration": 479,
    "start_time": "2022-04-25T10:40:25.522Z"
   },
   {
    "duration": 466,
    "start_time": "2022-04-25T10:40:33.213Z"
   },
   {
    "duration": 594,
    "start_time": "2022-04-25T10:40:37.856Z"
   },
   {
    "duration": 481,
    "start_time": "2022-04-25T10:40:44.747Z"
   },
   {
    "duration": 523,
    "start_time": "2022-04-25T10:41:46.855Z"
   },
   {
    "duration": 679,
    "start_time": "2022-04-25T10:42:00.333Z"
   },
   {
    "duration": 5,
    "start_time": "2022-04-25T10:42:38.325Z"
   },
   {
    "duration": 80,
    "start_time": "2022-04-25T10:43:08.859Z"
   },
   {
    "duration": 183,
    "start_time": "2022-04-25T10:43:15.952Z"
   },
   {
    "duration": 173,
    "start_time": "2022-04-25T10:43:32.564Z"
   },
   {
    "duration": 172,
    "start_time": "2022-04-25T10:43:37.353Z"
   },
   {
    "duration": 230,
    "start_time": "2022-04-25T10:47:26.229Z"
   },
   {
    "duration": 275,
    "start_time": "2022-04-25T10:47:46.926Z"
   },
   {
    "duration": 209,
    "start_time": "2022-04-25T10:47:59.229Z"
   },
   {
    "duration": 1671,
    "start_time": "2022-04-25T10:58:35.320Z"
   },
   {
    "duration": 12,
    "start_time": "2022-04-25T11:00:24.740Z"
   },
   {
    "duration": 10,
    "start_time": "2022-04-25T11:00:33.310Z"
   },
   {
    "duration": 10,
    "start_time": "2022-04-25T11:01:50.107Z"
   },
   {
    "duration": 8,
    "start_time": "2022-04-25T11:04:11.529Z"
   },
   {
    "duration": 18,
    "start_time": "2022-04-25T11:11:24.473Z"
   },
   {
    "duration": 12,
    "start_time": "2022-04-25T11:11:35.437Z"
   },
   {
    "duration": 12,
    "start_time": "2022-04-25T11:11:53.429Z"
   },
   {
    "duration": 14,
    "start_time": "2022-04-25T11:12:07.403Z"
   },
   {
    "duration": 23,
    "start_time": "2022-04-25T11:12:20.641Z"
   },
   {
    "duration": 13,
    "start_time": "2022-04-25T11:12:32.618Z"
   },
   {
    "duration": 13,
    "start_time": "2022-04-25T11:13:32.389Z"
   },
   {
    "duration": 16,
    "start_time": "2022-04-25T11:13:37.665Z"
   },
   {
    "duration": 13,
    "start_time": "2022-04-25T11:13:43.846Z"
   },
   {
    "duration": 29,
    "start_time": "2022-04-25T11:35:08.668Z"
   },
   {
    "duration": 19,
    "start_time": "2022-04-25T11:35:25.521Z"
   },
   {
    "duration": 775,
    "start_time": "2022-04-25T11:38:09.931Z"
   },
   {
    "duration": 78,
    "start_time": "2022-04-25T11:38:10.707Z"
   },
   {
    "duration": 16,
    "start_time": "2022-04-25T11:38:10.787Z"
   },
   {
    "duration": 24,
    "start_time": "2022-04-25T11:38:10.805Z"
   },
   {
    "duration": 4,
    "start_time": "2022-04-25T11:38:10.830Z"
   },
   {
    "duration": 7,
    "start_time": "2022-04-25T11:38:10.836Z"
   },
   {
    "duration": 10,
    "start_time": "2022-04-25T11:38:10.874Z"
   },
   {
    "duration": 8,
    "start_time": "2022-04-25T11:38:10.885Z"
   },
   {
    "duration": 29,
    "start_time": "2022-04-25T11:38:10.894Z"
   },
   {
    "duration": 27,
    "start_time": "2022-04-25T11:38:10.926Z"
   },
   {
    "duration": 6,
    "start_time": "2022-04-25T11:38:10.972Z"
   },
   {
    "duration": 19,
    "start_time": "2022-04-25T11:38:10.979Z"
   },
   {
    "duration": 9,
    "start_time": "2022-04-25T11:38:11.000Z"
   },
   {
    "duration": 15,
    "start_time": "2022-04-25T11:38:11.011Z"
   },
   {
    "duration": 15,
    "start_time": "2022-04-25T11:38:11.028Z"
   },
   {
    "duration": 31,
    "start_time": "2022-04-25T11:38:11.045Z"
   },
   {
    "duration": 15,
    "start_time": "2022-04-25T11:38:11.077Z"
   },
   {
    "duration": 34,
    "start_time": "2022-04-25T11:38:11.094Z"
   },
   {
    "duration": 16,
    "start_time": "2022-04-25T11:38:11.130Z"
   },
   {
    "duration": 27,
    "start_time": "2022-04-25T11:38:11.148Z"
   },
   {
    "duration": 9,
    "start_time": "2022-04-25T11:38:11.177Z"
   },
   {
    "duration": 35,
    "start_time": "2022-04-25T11:38:11.188Z"
   },
   {
    "duration": 105,
    "start_time": "2022-04-25T11:38:11.224Z"
   },
   {
    "duration": 5,
    "start_time": "2022-04-25T11:38:11.331Z"
   },
   {
    "duration": 10,
    "start_time": "2022-04-25T11:38:11.337Z"
   },
   {
    "duration": 8,
    "start_time": "2022-04-25T11:38:11.349Z"
   },
   {
    "duration": 6,
    "start_time": "2022-04-25T11:38:11.374Z"
   },
   {
    "duration": 29,
    "start_time": "2022-04-25T11:38:11.384Z"
   },
   {
    "duration": 59,
    "start_time": "2022-04-25T11:38:11.415Z"
   },
   {
    "duration": 3,
    "start_time": "2022-04-25T11:38:11.476Z"
   },
   {
    "duration": 340,
    "start_time": "2022-04-25T11:38:11.481Z"
   },
   {
    "duration": 24,
    "start_time": "2022-04-25T11:38:11.823Z"
   },
   {
    "duration": 427,
    "start_time": "2022-04-25T11:38:11.849Z"
   },
   {
    "duration": 19,
    "start_time": "2022-04-25T11:38:12.278Z"
   },
   {
    "duration": 308,
    "start_time": "2022-04-25T11:38:12.299Z"
   },
   {
    "duration": 296,
    "start_time": "2022-04-25T11:38:12.609Z"
   },
   {
    "duration": 178,
    "start_time": "2022-04-25T11:38:12.907Z"
   },
   {
    "duration": 289,
    "start_time": "2022-04-25T11:38:13.086Z"
   },
   {
    "duration": 285,
    "start_time": "2022-04-25T11:38:13.377Z"
   },
   {
    "duration": 17,
    "start_time": "2022-04-25T11:38:13.663Z"
   },
   {
    "duration": 8,
    "start_time": "2022-04-25T11:38:13.682Z"
   },
   {
    "duration": 21,
    "start_time": "2022-04-25T11:38:13.692Z"
   },
   {
    "duration": 104,
    "start_time": "2022-04-25T11:38:13.715Z"
   },
   {
    "duration": 62,
    "start_time": "2022-04-25T11:38:13.821Z"
   },
   {
    "duration": 275,
    "start_time": "2022-04-25T11:38:13.885Z"
   },
   {
    "duration": 244,
    "start_time": "2022-04-25T11:38:14.162Z"
   },
   {
    "duration": 299,
    "start_time": "2022-04-25T11:38:14.408Z"
   },
   {
    "duration": 204,
    "start_time": "2022-04-25T11:38:14.709Z"
   },
   {
    "duration": 7,
    "start_time": "2022-04-25T11:38:14.915Z"
   },
   {
    "duration": 14,
    "start_time": "2022-04-25T11:38:14.924Z"
   },
   {
    "duration": 27,
    "start_time": "2022-04-25T11:48:07.352Z"
   },
   {
    "duration": 15,
    "start_time": "2022-04-25T11:48:13.886Z"
   },
   {
    "duration": 6,
    "start_time": "2022-04-25T11:48:42.441Z"
   },
   {
    "duration": 74,
    "start_time": "2022-04-25T11:52:34.094Z"
   },
   {
    "duration": 8,
    "start_time": "2022-04-25T11:52:38.316Z"
   },
   {
    "duration": 23,
    "start_time": "2022-04-25T11:52:51.503Z"
   },
   {
    "duration": 9,
    "start_time": "2022-04-25T11:54:33.616Z"
   },
   {
    "duration": 30,
    "start_time": "2022-04-25T13:16:41.652Z"
   },
   {
    "duration": 9,
    "start_time": "2022-04-25T13:16:56.448Z"
   },
   {
    "duration": 6,
    "start_time": "2022-04-25T13:17:02.653Z"
   },
   {
    "duration": 1401,
    "start_time": "2022-04-25T13:17:54.021Z"
   },
   {
    "duration": 8,
    "start_time": "2022-04-25T13:18:06.538Z"
   },
   {
    "duration": 10,
    "start_time": "2022-04-25T13:19:07.571Z"
   },
   {
    "duration": 80,
    "start_time": "2022-04-25T13:23:12.762Z"
   },
   {
    "duration": 194,
    "start_time": "2022-04-25T13:28:04.275Z"
   },
   {
    "duration": 201,
    "start_time": "2022-04-25T13:28:27.388Z"
   },
   {
    "duration": 187,
    "start_time": "2022-04-25T13:29:26.490Z"
   },
   {
    "duration": 184,
    "start_time": "2022-04-25T13:29:33.317Z"
   },
   {
    "duration": 197,
    "start_time": "2022-04-25T13:29:43.164Z"
   },
   {
    "duration": 263,
    "start_time": "2022-04-25T13:30:13.787Z"
   },
   {
    "duration": 316,
    "start_time": "2022-04-25T13:30:24.649Z"
   },
   {
    "duration": 153,
    "start_time": "2022-04-25T13:33:31.471Z"
   },
   {
    "duration": 203,
    "start_time": "2022-04-25T13:33:36.508Z"
   },
   {
    "duration": 181,
    "start_time": "2022-04-25T13:33:55.007Z"
   },
   {
    "duration": 196,
    "start_time": "2022-04-25T13:35:09.202Z"
   },
   {
    "duration": 183,
    "start_time": "2022-04-25T13:37:48.815Z"
   },
   {
    "duration": 30,
    "start_time": "2022-04-25T13:42:48.767Z"
   },
   {
    "duration": 43,
    "start_time": "2022-04-25T13:42:54.103Z"
   },
   {
    "duration": 100,
    "start_time": "2022-04-25T13:44:48.146Z"
   },
   {
    "duration": 84,
    "start_time": "2022-04-25T13:46:10.586Z"
   },
   {
    "duration": 19,
    "start_time": "2022-04-25T13:46:21.087Z"
   },
   {
    "duration": 18,
    "start_time": "2022-04-25T13:46:39.143Z"
   },
   {
    "duration": 23,
    "start_time": "2022-04-25T13:47:36.284Z"
   },
   {
    "duration": 24,
    "start_time": "2022-04-25T13:52:48.141Z"
   },
   {
    "duration": 17,
    "start_time": "2022-04-25T13:53:02.088Z"
   },
   {
    "duration": 25,
    "start_time": "2022-04-25T13:53:09.711Z"
   },
   {
    "duration": 31,
    "start_time": "2022-04-25T13:54:30.119Z"
   },
   {
    "duration": 22,
    "start_time": "2022-04-25T13:54:48.743Z"
   },
   {
    "duration": 43,
    "start_time": "2022-04-25T13:55:08.467Z"
   },
   {
    "duration": 26,
    "start_time": "2022-04-25T13:55:12.641Z"
   },
   {
    "duration": 10,
    "start_time": "2022-04-25T13:55:19.571Z"
   },
   {
    "duration": 218,
    "start_time": "2022-04-25T13:55:24.031Z"
   },
   {
    "duration": 834,
    "start_time": "2022-04-25T13:55:52.069Z"
   },
   {
    "duration": 93,
    "start_time": "2022-04-25T13:55:52.906Z"
   },
   {
    "duration": 19,
    "start_time": "2022-04-25T13:55:53.002Z"
   },
   {
    "duration": 27,
    "start_time": "2022-04-25T13:55:53.024Z"
   },
   {
    "duration": 4,
    "start_time": "2022-04-25T13:55:53.074Z"
   },
   {
    "duration": 18,
    "start_time": "2022-04-25T13:55:53.081Z"
   },
   {
    "duration": 25,
    "start_time": "2022-04-25T13:55:53.102Z"
   },
   {
    "duration": 13,
    "start_time": "2022-04-25T13:55:53.129Z"
   },
   {
    "duration": 53,
    "start_time": "2022-04-25T13:55:53.145Z"
   },
   {
    "duration": 30,
    "start_time": "2022-04-25T13:55:53.202Z"
   },
   {
    "duration": 7,
    "start_time": "2022-04-25T13:55:53.234Z"
   },
   {
    "duration": 36,
    "start_time": "2022-04-25T13:55:53.243Z"
   },
   {
    "duration": 12,
    "start_time": "2022-04-25T13:55:53.281Z"
   },
   {
    "duration": 15,
    "start_time": "2022-04-25T13:55:53.295Z"
   },
   {
    "duration": 20,
    "start_time": "2022-04-25T13:55:53.312Z"
   },
   {
    "duration": 38,
    "start_time": "2022-04-25T13:55:53.335Z"
   },
   {
    "duration": 18,
    "start_time": "2022-04-25T13:55:53.375Z"
   },
   {
    "duration": 32,
    "start_time": "2022-04-25T13:55:53.395Z"
   },
   {
    "duration": 46,
    "start_time": "2022-04-25T13:55:53.429Z"
   },
   {
    "duration": 7,
    "start_time": "2022-04-25T13:55:53.477Z"
   },
   {
    "duration": 12,
    "start_time": "2022-04-25T13:55:53.485Z"
   },
   {
    "duration": 36,
    "start_time": "2022-04-25T13:55:53.499Z"
   },
   {
    "duration": 137,
    "start_time": "2022-04-25T13:55:53.537Z"
   },
   {
    "duration": 6,
    "start_time": "2022-04-25T13:55:53.676Z"
   },
   {
    "duration": 13,
    "start_time": "2022-04-25T13:55:53.684Z"
   },
   {
    "duration": 6,
    "start_time": "2022-04-25T13:55:53.699Z"
   },
   {
    "duration": 10,
    "start_time": "2022-04-25T13:55:53.707Z"
   },
   {
    "duration": 55,
    "start_time": "2022-04-25T13:55:53.721Z"
   },
   {
    "duration": 48,
    "start_time": "2022-04-25T13:55:53.778Z"
   },
   {
    "duration": 4,
    "start_time": "2022-04-25T13:55:53.829Z"
   },
   {
    "duration": 372,
    "start_time": "2022-04-25T13:55:53.834Z"
   },
   {
    "duration": 29,
    "start_time": "2022-04-25T13:55:54.208Z"
   },
   {
    "duration": 480,
    "start_time": "2022-04-25T13:55:54.239Z"
   },
   {
    "duration": 23,
    "start_time": "2022-04-25T13:55:54.721Z"
   },
   {
    "duration": 342,
    "start_time": "2022-04-25T13:55:54.746Z"
   },
   {
    "duration": 318,
    "start_time": "2022-04-25T13:55:55.091Z"
   },
   {
    "duration": 211,
    "start_time": "2022-04-25T13:55:55.411Z"
   },
   {
    "duration": 313,
    "start_time": "2022-04-25T13:55:55.624Z"
   },
   {
    "duration": 338,
    "start_time": "2022-04-25T13:55:55.939Z"
   },
   {
    "duration": 11,
    "start_time": "2022-04-25T13:55:56.279Z"
   },
   {
    "duration": 11,
    "start_time": "2022-04-25T13:55:56.292Z"
   },
   {
    "duration": 27,
    "start_time": "2022-04-25T13:55:56.305Z"
   },
   {
    "duration": 114,
    "start_time": "2022-04-25T13:55:56.334Z"
   },
   {
    "duration": 86,
    "start_time": "2022-04-25T13:55:56.450Z"
   },
   {
    "duration": 297,
    "start_time": "2022-04-25T13:55:56.538Z"
   },
   {
    "duration": 265,
    "start_time": "2022-04-25T13:55:56.837Z"
   },
   {
    "duration": 316,
    "start_time": "2022-04-25T13:55:57.105Z"
   },
   {
    "duration": 219,
    "start_time": "2022-04-25T13:55:57.423Z"
   },
   {
    "duration": 9,
    "start_time": "2022-04-25T13:55:57.644Z"
   },
   {
    "duration": 27,
    "start_time": "2022-04-25T13:55:57.654Z"
   },
   {
    "duration": 16,
    "start_time": "2022-04-25T13:55:57.683Z"
   },
   {
    "duration": 29,
    "start_time": "2022-04-25T13:55:57.702Z"
   },
   {
    "duration": 8,
    "start_time": "2022-04-25T13:55:57.734Z"
   },
   {
    "duration": 231,
    "start_time": "2022-04-25T13:55:57.744Z"
   },
   {
    "duration": 35,
    "start_time": "2022-04-25T13:55:57.977Z"
   },
   {
    "duration": 58,
    "start_time": "2022-04-25T18:31:40.952Z"
   },
   {
    "duration": 1020,
    "start_time": "2022-04-25T18:31:46.862Z"
   },
   {
    "duration": 83,
    "start_time": "2022-04-25T18:31:47.885Z"
   },
   {
    "duration": 13,
    "start_time": "2022-04-25T18:31:47.976Z"
   },
   {
    "duration": 22,
    "start_time": "2022-04-25T18:31:47.991Z"
   },
   {
    "duration": 17,
    "start_time": "2022-04-25T18:31:48.014Z"
   },
   {
    "duration": 12,
    "start_time": "2022-04-25T18:31:48.033Z"
   },
   {
    "duration": 34,
    "start_time": "2022-04-25T18:31:48.047Z"
   },
   {
    "duration": 7,
    "start_time": "2022-04-25T18:31:48.083Z"
   },
   {
    "duration": 25,
    "start_time": "2022-04-25T18:31:48.091Z"
   },
   {
    "duration": 33,
    "start_time": "2022-04-25T18:31:48.119Z"
   },
   {
    "duration": 24,
    "start_time": "2022-04-25T18:31:48.154Z"
   },
   {
    "duration": 15,
    "start_time": "2022-04-25T18:31:48.180Z"
   },
   {
    "duration": 5,
    "start_time": "2022-04-25T18:31:48.197Z"
   },
   {
    "duration": 12,
    "start_time": "2022-04-25T18:31:48.204Z"
   },
   {
    "duration": 18,
    "start_time": "2022-04-25T18:31:48.218Z"
   },
   {
    "duration": 36,
    "start_time": "2022-04-25T18:31:48.238Z"
   },
   {
    "duration": 13,
    "start_time": "2022-04-25T18:31:48.275Z"
   },
   {
    "duration": 27,
    "start_time": "2022-04-25T18:31:48.290Z"
   },
   {
    "duration": 26,
    "start_time": "2022-04-25T18:31:48.319Z"
   },
   {
    "duration": 29,
    "start_time": "2022-04-25T18:31:48.347Z"
   },
   {
    "duration": 8,
    "start_time": "2022-04-25T18:31:48.378Z"
   },
   {
    "duration": 46,
    "start_time": "2022-04-25T18:31:48.388Z"
   },
   {
    "duration": 103,
    "start_time": "2022-04-25T18:31:48.438Z"
   },
   {
    "duration": 5,
    "start_time": "2022-04-25T18:31:48.543Z"
   },
   {
    "duration": 30,
    "start_time": "2022-04-25T18:31:48.550Z"
   },
   {
    "duration": 5,
    "start_time": "2022-04-25T18:31:48.582Z"
   },
   {
    "duration": 5,
    "start_time": "2022-04-25T18:31:48.589Z"
   },
   {
    "duration": 42,
    "start_time": "2022-04-25T18:31:48.597Z"
   },
   {
    "duration": 52,
    "start_time": "2022-04-25T18:31:48.643Z"
   },
   {
    "duration": 4,
    "start_time": "2022-04-25T18:31:48.696Z"
   },
   {
    "duration": 412,
    "start_time": "2022-04-25T18:31:48.702Z"
   },
   {
    "duration": 39,
    "start_time": "2022-04-25T18:31:49.116Z"
   },
   {
    "duration": 445,
    "start_time": "2022-04-25T18:31:49.158Z"
   },
   {
    "duration": 26,
    "start_time": "2022-04-25T18:31:49.605Z"
   },
   {
    "duration": 335,
    "start_time": "2022-04-25T18:31:49.633Z"
   },
   {
    "duration": 401,
    "start_time": "2022-04-25T18:31:49.971Z"
   },
   {
    "duration": 197,
    "start_time": "2022-04-25T18:31:50.374Z"
   },
   {
    "duration": 309,
    "start_time": "2022-04-25T18:31:50.574Z"
   },
   {
    "duration": 325,
    "start_time": "2022-04-25T18:31:50.884Z"
   },
   {
    "duration": 18,
    "start_time": "2022-04-25T18:31:51.211Z"
   },
   {
    "duration": 12,
    "start_time": "2022-04-25T18:31:51.230Z"
   },
   {
    "duration": 45,
    "start_time": "2022-04-25T18:31:51.248Z"
   },
   {
    "duration": 103,
    "start_time": "2022-04-25T18:31:51.295Z"
   },
   {
    "duration": 76,
    "start_time": "2022-04-25T18:31:51.400Z"
   },
   {
    "duration": 266,
    "start_time": "2022-04-25T18:31:51.479Z"
   },
   {
    "duration": 246,
    "start_time": "2022-04-25T18:31:51.753Z"
   },
   {
    "duration": 318,
    "start_time": "2022-04-25T18:31:52.001Z"
   },
   {
    "duration": 246,
    "start_time": "2022-04-25T18:31:52.325Z"
   },
   {
    "duration": 8,
    "start_time": "2022-04-25T18:31:52.573Z"
   },
   {
    "duration": 15,
    "start_time": "2022-04-25T18:31:52.583Z"
   },
   {
    "duration": 5,
    "start_time": "2022-04-25T18:31:52.600Z"
   },
   {
    "duration": 35,
    "start_time": "2022-04-25T18:31:52.628Z"
   },
   {
    "duration": 31,
    "start_time": "2022-04-25T18:31:52.665Z"
   },
   {
    "duration": 212,
    "start_time": "2022-04-25T18:31:52.698Z"
   },
   {
    "duration": 48,
    "start_time": "2022-04-25T18:31:52.912Z"
   },
   {
    "duration": 165,
    "start_time": "2022-04-25T18:33:26.784Z"
   },
   {
    "duration": 20,
    "start_time": "2022-04-25T18:36:10.696Z"
   },
   {
    "duration": 80,
    "start_time": "2022-04-25T18:39:25.208Z"
   },
   {
    "duration": 104,
    "start_time": "2022-04-25T18:39:39.960Z"
   },
   {
    "duration": 8,
    "start_time": "2022-04-25T18:39:56.961Z"
   },
   {
    "duration": 9,
    "start_time": "2022-04-25T18:40:02.978Z"
   },
   {
    "duration": 15,
    "start_time": "2022-04-25T18:40:16.139Z"
   },
   {
    "duration": 13,
    "start_time": "2022-04-25T18:40:22.531Z"
   },
   {
    "duration": 12,
    "start_time": "2022-04-25T18:42:38.708Z"
   },
   {
    "duration": 1889,
    "start_time": "2022-04-25T18:46:42.311Z"
   },
   {
    "duration": 2062,
    "start_time": "2022-04-25T18:47:42.407Z"
   },
   {
    "duration": 2048,
    "start_time": "2022-04-25T18:47:59.164Z"
   },
   {
    "duration": 2126,
    "start_time": "2022-04-25T18:49:28.110Z"
   },
   {
    "duration": 12,
    "start_time": "2022-04-25T18:50:22.361Z"
   },
   {
    "duration": 12,
    "start_time": "2022-04-25T18:50:38.804Z"
   },
   {
    "duration": 168,
    "start_time": "2022-04-25T18:50:47.585Z"
   },
   {
    "duration": 17,
    "start_time": "2022-04-25T18:58:46.703Z"
   },
   {
    "duration": 18,
    "start_time": "2022-04-25T18:59:09.074Z"
   },
   {
    "duration": 18,
    "start_time": "2022-04-25T19:03:10.586Z"
   },
   {
    "duration": 29,
    "start_time": "2022-04-25T19:03:42.621Z"
   },
   {
    "duration": 845,
    "start_time": "2022-04-25T19:55:09.664Z"
   },
   {
    "duration": 120,
    "start_time": "2022-04-25T19:55:10.512Z"
   },
   {
    "duration": 19,
    "start_time": "2022-04-25T19:55:10.633Z"
   },
   {
    "duration": 30,
    "start_time": "2022-04-25T19:55:10.654Z"
   },
   {
    "duration": 3,
    "start_time": "2022-04-25T19:55:10.686Z"
   },
   {
    "duration": 6,
    "start_time": "2022-04-25T19:55:10.691Z"
   },
   {
    "duration": 34,
    "start_time": "2022-04-25T19:55:10.699Z"
   },
   {
    "duration": 33,
    "start_time": "2022-04-25T19:55:10.735Z"
   },
   {
    "duration": 40,
    "start_time": "2022-04-25T19:55:10.771Z"
   },
   {
    "duration": 26,
    "start_time": "2022-04-25T19:55:10.814Z"
   },
   {
    "duration": 5,
    "start_time": "2022-04-25T19:55:10.842Z"
   },
   {
    "duration": 30,
    "start_time": "2022-04-25T19:55:10.849Z"
   },
   {
    "duration": 7,
    "start_time": "2022-04-25T19:55:10.881Z"
   },
   {
    "duration": 15,
    "start_time": "2022-04-25T19:55:10.890Z"
   },
   {
    "duration": 34,
    "start_time": "2022-04-25T19:55:10.906Z"
   },
   {
    "duration": 8,
    "start_time": "2022-04-25T19:55:10.943Z"
   },
   {
    "duration": 25,
    "start_time": "2022-04-25T19:55:10.952Z"
   },
   {
    "duration": 27,
    "start_time": "2022-04-25T19:55:10.979Z"
   },
   {
    "duration": 20,
    "start_time": "2022-04-25T19:55:11.007Z"
   },
   {
    "duration": 6,
    "start_time": "2022-04-25T19:55:11.029Z"
   },
   {
    "duration": 32,
    "start_time": "2022-04-25T19:55:11.040Z"
   },
   {
    "duration": 32,
    "start_time": "2022-04-25T19:55:11.074Z"
   },
   {
    "duration": 90,
    "start_time": "2022-04-25T19:55:11.107Z"
   },
   {
    "duration": 5,
    "start_time": "2022-04-25T19:55:11.198Z"
   },
   {
    "duration": 10,
    "start_time": "2022-04-25T19:55:11.205Z"
   },
   {
    "duration": 6,
    "start_time": "2022-04-25T19:55:11.227Z"
   },
   {
    "duration": 32,
    "start_time": "2022-04-25T19:55:11.235Z"
   },
   {
    "duration": 38,
    "start_time": "2022-04-25T19:55:11.273Z"
   },
   {
    "duration": 64,
    "start_time": "2022-04-25T19:55:11.313Z"
   },
   {
    "duration": 3,
    "start_time": "2022-04-25T19:55:11.379Z"
   },
   {
    "duration": 413,
    "start_time": "2022-04-25T19:55:11.384Z"
   },
   {
    "duration": 37,
    "start_time": "2022-04-25T19:55:11.799Z"
   },
   {
    "duration": 446,
    "start_time": "2022-04-25T19:55:11.838Z"
   },
   {
    "duration": 24,
    "start_time": "2022-04-25T19:55:12.286Z"
   },
   {
    "duration": 337,
    "start_time": "2022-04-25T19:55:12.312Z"
   },
   {
    "duration": 318,
    "start_time": "2022-04-25T19:55:12.654Z"
   },
   {
    "duration": 174,
    "start_time": "2022-04-25T19:55:12.974Z"
   },
   {
    "duration": 308,
    "start_time": "2022-04-25T19:55:13.150Z"
   },
   {
    "duration": 406,
    "start_time": "2022-04-25T19:55:13.459Z"
   },
   {
    "duration": 9,
    "start_time": "2022-04-25T19:55:13.867Z"
   },
   {
    "duration": 9,
    "start_time": "2022-04-25T19:55:13.877Z"
   },
   {
    "duration": 53,
    "start_time": "2022-04-25T19:55:13.888Z"
   },
   {
    "duration": 76,
    "start_time": "2022-04-25T19:55:13.943Z"
   },
   {
    "duration": 60,
    "start_time": "2022-04-25T19:55:14.021Z"
   },
   {
    "duration": 252,
    "start_time": "2022-04-25T19:55:14.083Z"
   },
   {
    "duration": 233,
    "start_time": "2022-04-25T19:55:14.337Z"
   },
   {
    "duration": 311,
    "start_time": "2022-04-25T19:55:14.572Z"
   },
   {
    "duration": 221,
    "start_time": "2022-04-25T19:55:14.885Z"
   },
   {
    "duration": 16,
    "start_time": "2022-04-25T19:55:15.108Z"
   },
   {
    "duration": 41,
    "start_time": "2022-04-25T19:55:15.126Z"
   },
   {
    "duration": 4,
    "start_time": "2022-04-25T19:55:15.169Z"
   },
   {
    "duration": 33,
    "start_time": "2022-04-25T19:55:15.175Z"
   },
   {
    "duration": 38,
    "start_time": "2022-04-25T19:55:15.209Z"
   },
   {
    "duration": 210,
    "start_time": "2022-04-25T19:55:15.248Z"
   },
   {
    "duration": 18,
    "start_time": "2022-04-25T19:55:15.460Z"
   },
   {
    "duration": 17,
    "start_time": "2022-04-25T19:55:15.480Z"
   },
   {
    "duration": 174,
    "start_time": "2022-04-25T19:55:15.499Z"
   },
   {
    "duration": 21,
    "start_time": "2022-04-25T19:55:15.675Z"
   },
   {
    "duration": 904,
    "start_time": "2022-05-01T11:52:00.560Z"
   },
   {
    "duration": 75,
    "start_time": "2022-05-01T11:52:01.467Z"
   },
   {
    "duration": 14,
    "start_time": "2022-05-01T11:52:01.544Z"
   },
   {
    "duration": 23,
    "start_time": "2022-05-01T11:52:01.561Z"
   },
   {
    "duration": 4,
    "start_time": "2022-05-01T11:52:01.586Z"
   },
   {
    "duration": 34,
    "start_time": "2022-05-01T11:52:01.592Z"
   },
   {
    "duration": 16,
    "start_time": "2022-05-01T11:52:01.628Z"
   },
   {
    "duration": 17,
    "start_time": "2022-05-01T11:52:01.646Z"
   },
   {
    "duration": 25,
    "start_time": "2022-05-01T11:52:01.665Z"
   },
   {
    "duration": 24,
    "start_time": "2022-05-01T11:52:01.693Z"
   },
   {
    "duration": 7,
    "start_time": "2022-05-01T11:52:01.718Z"
   },
   {
    "duration": 18,
    "start_time": "2022-05-01T11:52:01.727Z"
   },
   {
    "duration": 12,
    "start_time": "2022-05-01T11:52:01.746Z"
   },
   {
    "duration": 22,
    "start_time": "2022-05-01T11:52:01.760Z"
   },
   {
    "duration": 23,
    "start_time": "2022-05-01T11:52:01.784Z"
   },
   {
    "duration": 6,
    "start_time": "2022-05-01T11:52:01.809Z"
   },
   {
    "duration": 28,
    "start_time": "2022-05-01T11:52:01.823Z"
   },
   {
    "duration": 49,
    "start_time": "2022-05-01T11:52:01.853Z"
   },
   {
    "duration": 18,
    "start_time": "2022-05-01T11:52:01.904Z"
   },
   {
    "duration": 9,
    "start_time": "2022-05-01T11:52:01.924Z"
   },
   {
    "duration": 28,
    "start_time": "2022-05-01T11:52:01.935Z"
   },
   {
    "duration": 28,
    "start_time": "2022-05-01T11:52:01.965Z"
   },
   {
    "duration": 75,
    "start_time": "2022-05-01T11:52:01.995Z"
   },
   {
    "duration": 5,
    "start_time": "2022-05-01T11:52:02.072Z"
   },
   {
    "duration": 12,
    "start_time": "2022-05-01T11:52:02.079Z"
   },
   {
    "duration": 5,
    "start_time": "2022-05-01T11:52:02.093Z"
   },
   {
    "duration": 25,
    "start_time": "2022-05-01T11:52:02.099Z"
   },
   {
    "duration": 24,
    "start_time": "2022-05-01T11:52:02.128Z"
   },
   {
    "duration": 39,
    "start_time": "2022-05-01T11:52:02.153Z"
   },
   {
    "duration": 3,
    "start_time": "2022-05-01T11:52:02.194Z"
   },
   {
    "duration": 348,
    "start_time": "2022-05-01T11:52:02.199Z"
   },
   {
    "duration": 24,
    "start_time": "2022-05-01T11:52:02.548Z"
   },
   {
    "duration": 428,
    "start_time": "2022-05-01T11:52:02.573Z"
   },
   {
    "duration": 17,
    "start_time": "2022-05-01T11:52:03.003Z"
   },
   {
    "duration": 275,
    "start_time": "2022-05-01T11:52:03.023Z"
   },
   {
    "duration": 385,
    "start_time": "2022-05-01T11:52:03.300Z"
   },
   {
    "duration": 157,
    "start_time": "2022-05-01T11:52:03.724Z"
   },
   {
    "duration": 449,
    "start_time": "2022-05-01T11:52:03.883Z"
   },
   {
    "duration": 522,
    "start_time": "2022-05-01T11:52:04.334Z"
   },
   {
    "duration": 9,
    "start_time": "2022-05-01T11:52:04.858Z"
   },
   {
    "duration": 9,
    "start_time": "2022-05-01T11:52:04.924Z"
   },
   {
    "duration": 31,
    "start_time": "2022-05-01T11:52:04.935Z"
   },
   {
    "duration": 173,
    "start_time": "2022-05-01T11:52:04.968Z"
   },
   {
    "duration": 104,
    "start_time": "2022-05-01T11:52:05.142Z"
   },
   {
    "duration": 420,
    "start_time": "2022-05-01T11:52:05.248Z"
   },
   {
    "duration": 218,
    "start_time": "2022-05-01T11:52:05.670Z"
   },
   {
    "duration": 270,
    "start_time": "2022-05-01T11:52:05.890Z"
   },
   {
    "duration": 189,
    "start_time": "2022-05-01T11:52:06.162Z"
   },
   {
    "duration": 8,
    "start_time": "2022-05-01T11:52:06.352Z"
   },
   {
    "duration": 22,
    "start_time": "2022-05-01T11:52:06.361Z"
   },
   {
    "duration": 4,
    "start_time": "2022-05-01T11:52:06.384Z"
   },
   {
    "duration": 42,
    "start_time": "2022-05-01T11:52:06.389Z"
   },
   {
    "duration": 28,
    "start_time": "2022-05-01T11:52:06.432Z"
   },
   {
    "duration": 177,
    "start_time": "2022-05-01T11:52:06.461Z"
   },
   {
    "duration": 17,
    "start_time": "2022-05-01T11:52:06.639Z"
   },
   {
    "duration": 11,
    "start_time": "2022-05-01T11:52:06.658Z"
   },
   {
    "duration": 149,
    "start_time": "2022-05-01T11:52:06.670Z"
   },
   {
    "duration": 17,
    "start_time": "2022-05-01T11:52:06.823Z"
   },
   {
    "duration": 835,
    "start_time": "2022-05-01T11:59:30.439Z"
   },
   {
    "duration": 75,
    "start_time": "2022-05-01T11:59:31.276Z"
   },
   {
    "duration": 13,
    "start_time": "2022-05-01T11:59:31.353Z"
   },
   {
    "duration": 23,
    "start_time": "2022-05-01T11:59:31.369Z"
   },
   {
    "duration": 4,
    "start_time": "2022-05-01T11:59:31.394Z"
   },
   {
    "duration": 27,
    "start_time": "2022-05-01T11:59:31.399Z"
   },
   {
    "duration": 38,
    "start_time": "2022-05-01T11:59:31.428Z"
   },
   {
    "duration": 6,
    "start_time": "2022-05-01T11:59:31.468Z"
   },
   {
    "duration": 39,
    "start_time": "2022-05-01T11:59:31.476Z"
   },
   {
    "duration": 25,
    "start_time": "2022-05-01T11:59:31.517Z"
   },
   {
    "duration": 5,
    "start_time": "2022-05-01T11:59:31.543Z"
   },
   {
    "duration": 23,
    "start_time": "2022-05-01T11:59:31.549Z"
   },
   {
    "duration": 7,
    "start_time": "2022-05-01T11:59:31.574Z"
   },
   {
    "duration": 20,
    "start_time": "2022-05-01T11:59:31.582Z"
   },
   {
    "duration": 34,
    "start_time": "2022-05-01T11:59:31.603Z"
   },
   {
    "duration": 26,
    "start_time": "2022-05-01T11:59:31.639Z"
   },
   {
    "duration": 27,
    "start_time": "2022-05-01T11:59:31.667Z"
   },
   {
    "duration": 33,
    "start_time": "2022-05-01T11:59:31.695Z"
   },
   {
    "duration": 16,
    "start_time": "2022-05-01T11:59:31.730Z"
   },
   {
    "duration": 5,
    "start_time": "2022-05-01T11:59:31.747Z"
   },
   {
    "duration": 19,
    "start_time": "2022-05-01T11:59:31.753Z"
   },
   {
    "duration": 45,
    "start_time": "2022-05-01T11:59:31.774Z"
   },
   {
    "duration": 72,
    "start_time": "2022-05-01T11:59:31.821Z"
   },
   {
    "duration": 5,
    "start_time": "2022-05-01T11:59:31.894Z"
   },
   {
    "duration": 9,
    "start_time": "2022-05-01T11:59:31.900Z"
   },
   {
    "duration": 16,
    "start_time": "2022-05-01T11:59:31.910Z"
   },
   {
    "duration": 8,
    "start_time": "2022-05-01T11:59:31.927Z"
   },
   {
    "duration": 25,
    "start_time": "2022-05-01T11:59:31.938Z"
   },
   {
    "duration": 39,
    "start_time": "2022-05-01T11:59:31.965Z"
   },
   {
    "duration": 3,
    "start_time": "2022-05-01T11:59:32.024Z"
   },
   {
    "duration": 342,
    "start_time": "2022-05-01T11:59:32.028Z"
   },
   {
    "duration": 24,
    "start_time": "2022-05-01T11:59:32.372Z"
   },
   {
    "duration": 383,
    "start_time": "2022-05-01T11:59:32.397Z"
   },
   {
    "duration": 16,
    "start_time": "2022-05-01T11:59:32.782Z"
   },
   {
    "duration": 274,
    "start_time": "2022-05-01T11:59:32.799Z"
   },
   {
    "duration": 260,
    "start_time": "2022-05-01T11:59:33.075Z"
   },
   {
    "duration": 149,
    "start_time": "2022-05-01T11:59:33.337Z"
   },
   {
    "duration": 285,
    "start_time": "2022-05-01T11:59:33.488Z"
   },
   {
    "duration": 280,
    "start_time": "2022-05-01T11:59:33.774Z"
   },
   {
    "duration": 8,
    "start_time": "2022-05-01T11:59:34.056Z"
   },
   {
    "duration": 11,
    "start_time": "2022-05-01T11:59:34.066Z"
   },
   {
    "duration": 45,
    "start_time": "2022-05-01T11:59:34.079Z"
   },
   {
    "duration": 73,
    "start_time": "2022-05-01T11:59:34.126Z"
   },
   {
    "duration": 75,
    "start_time": "2022-05-01T11:59:34.201Z"
   },
   {
    "duration": 552,
    "start_time": "2022-05-01T11:59:34.279Z"
   },
   {
    "duration": 433,
    "start_time": "2022-05-01T11:59:34.832Z"
   },
   {
    "duration": 584,
    "start_time": "2022-05-01T11:59:35.267Z"
   },
   {
    "duration": 343,
    "start_time": "2022-05-01T11:59:35.852Z"
   },
   {
    "duration": 31,
    "start_time": "2022-05-01T11:59:36.197Z"
   },
   {
    "duration": 17,
    "start_time": "2022-05-01T11:59:36.230Z"
   },
   {
    "duration": 4,
    "start_time": "2022-05-01T11:59:36.249Z"
   },
   {
    "duration": 31,
    "start_time": "2022-05-01T11:59:36.255Z"
   },
   {
    "duration": 56,
    "start_time": "2022-05-01T11:59:36.288Z"
   },
   {
    "duration": 5,
    "start_time": "2022-05-01T11:59:36.346Z"
   },
   {
    "duration": 190,
    "start_time": "2022-05-01T11:59:36.353Z"
   },
   {
    "duration": 18,
    "start_time": "2022-05-01T11:59:36.545Z"
   },
   {
    "duration": 12,
    "start_time": "2022-05-01T11:59:36.565Z"
   },
   {
    "duration": 218,
    "start_time": "2022-05-01T11:59:36.579Z"
   },
   {
    "duration": 34,
    "start_time": "2022-05-01T11:59:36.799Z"
   },
   {
    "duration": 848,
    "start_time": "2022-05-01T16:24:43.684Z"
   },
   {
    "duration": 109,
    "start_time": "2022-05-01T16:24:45.957Z"
   },
   {
    "duration": 76,
    "start_time": "2022-05-01T16:25:24.521Z"
   },
   {
    "duration": 15,
    "start_time": "2022-05-01T16:25:27.291Z"
   },
   {
    "duration": 25,
    "start_time": "2022-05-01T16:25:42.176Z"
   },
   {
    "duration": 5,
    "start_time": "2022-05-01T16:25:50.375Z"
   },
   {
    "duration": 5,
    "start_time": "2022-05-01T16:25:53.915Z"
   },
   {
    "duration": 10,
    "start_time": "2022-05-01T16:25:56.444Z"
   },
   {
    "duration": 8,
    "start_time": "2022-05-01T16:26:00.186Z"
   },
   {
    "duration": 22,
    "start_time": "2022-05-01T16:26:02.577Z"
   },
   {
    "duration": 23,
    "start_time": "2022-05-01T16:26:06.210Z"
   },
   {
    "duration": 5,
    "start_time": "2022-05-01T16:26:10.320Z"
   },
   {
    "duration": 17,
    "start_time": "2022-05-01T16:26:11.959Z"
   },
   {
    "duration": 6,
    "start_time": "2022-05-01T16:26:14.342Z"
   },
   {
    "duration": 15,
    "start_time": "2022-05-01T16:26:22.941Z"
   },
   {
    "duration": 15,
    "start_time": "2022-05-01T16:26:25.388Z"
   },
   {
    "duration": 6,
    "start_time": "2022-05-01T16:26:27.965Z"
   },
   {
    "duration": 13,
    "start_time": "2022-05-01T16:26:29.758Z"
   },
   {
    "duration": 23,
    "start_time": "2022-05-01T16:26:31.848Z"
   },
   {
    "duration": 18,
    "start_time": "2022-05-01T16:26:34.606Z"
   },
   {
    "duration": 6,
    "start_time": "2022-05-01T16:26:37.919Z"
   },
   {
    "duration": 6,
    "start_time": "2022-05-01T16:26:41.341Z"
   },
   {
    "duration": 28,
    "start_time": "2022-05-01T16:26:44.103Z"
   },
   {
    "duration": 83,
    "start_time": "2022-05-01T16:26:46.506Z"
   },
   {
    "duration": 5,
    "start_time": "2022-05-01T16:27:24.055Z"
   },
   {
    "duration": 6,
    "start_time": "2022-05-01T16:28:49.585Z"
   },
   {
    "duration": 5,
    "start_time": "2022-05-01T16:28:57.918Z"
   },
   {
    "duration": 6,
    "start_time": "2022-05-01T16:29:11.865Z"
   },
   {
    "duration": 6,
    "start_time": "2022-05-01T16:29:51.481Z"
   },
   {
    "duration": 6,
    "start_time": "2022-05-01T16:29:53.730Z"
   },
   {
    "duration": 25,
    "start_time": "2022-05-01T16:29:59.902Z"
   },
   {
    "duration": 44,
    "start_time": "2022-05-01T16:30:02.556Z"
   },
   {
    "duration": 3,
    "start_time": "2022-05-01T16:30:04.872Z"
   },
   {
    "duration": 364,
    "start_time": "2022-05-01T16:30:09.590Z"
   },
   {
    "duration": 28,
    "start_time": "2022-05-01T16:30:12.145Z"
   },
   {
    "duration": 447,
    "start_time": "2022-05-01T16:30:20.109Z"
   },
   {
    "duration": 19,
    "start_time": "2022-05-01T16:30:25.116Z"
   },
   {
    "duration": 308,
    "start_time": "2022-05-01T16:30:27.062Z"
   },
   {
    "duration": 292,
    "start_time": "2022-05-01T16:30:30.051Z"
   },
   {
    "duration": 197,
    "start_time": "2022-05-01T16:30:33.133Z"
   },
   {
    "duration": 295,
    "start_time": "2022-05-01T16:30:35.383Z"
   },
   {
    "duration": 299,
    "start_time": "2022-05-01T16:30:37.737Z"
   },
   {
    "duration": 3,
    "start_time": "2022-05-01T16:32:52.669Z"
   },
   {
    "duration": 3,
    "start_time": "2022-05-01T16:35:30.873Z"
   },
   {
    "duration": 3,
    "start_time": "2022-05-01T16:35:32.764Z"
   },
   {
    "duration": 105,
    "start_time": "2022-05-01T16:35:35.093Z"
   },
   {
    "duration": 74,
    "start_time": "2022-05-01T16:35:43.336Z"
   },
   {
    "duration": 16,
    "start_time": "2022-05-01T16:35:45.560Z"
   },
   {
    "duration": 25,
    "start_time": "2022-05-01T16:35:47.569Z"
   },
   {
    "duration": 5,
    "start_time": "2022-05-01T16:35:52.838Z"
   },
   {
    "duration": 4,
    "start_time": "2022-05-01T16:35:54.241Z"
   },
   {
    "duration": 10,
    "start_time": "2022-05-01T16:35:56.809Z"
   },
   {
    "duration": 8,
    "start_time": "2022-05-01T16:35:59.357Z"
   },
   {
    "duration": 21,
    "start_time": "2022-05-01T16:36:00.836Z"
   },
   {
    "duration": 22,
    "start_time": "2022-05-01T16:36:03.445Z"
   },
   {
    "duration": 5,
    "start_time": "2022-05-01T16:36:07.039Z"
   },
   {
    "duration": 15,
    "start_time": "2022-05-01T16:36:09.472Z"
   },
   {
    "duration": 6,
    "start_time": "2022-05-01T16:36:11.779Z"
   },
   {
    "duration": 15,
    "start_time": "2022-05-01T16:36:13.485Z"
   },
   {
    "duration": 16,
    "start_time": "2022-05-01T16:36:14.765Z"
   },
   {
    "duration": 6,
    "start_time": "2022-05-01T16:36:16.008Z"
   },
   {
    "duration": 13,
    "start_time": "2022-05-01T16:36:18.013Z"
   },
   {
    "duration": 26,
    "start_time": "2022-05-01T16:36:19.912Z"
   },
   {
    "duration": 20,
    "start_time": "2022-05-01T16:36:21.969Z"
   },
   {
    "duration": 5,
    "start_time": "2022-05-01T16:36:23.929Z"
   },
   {
    "duration": 9,
    "start_time": "2022-05-01T16:36:25.889Z"
   },
   {
    "duration": 27,
    "start_time": "2022-05-01T16:36:27.929Z"
   },
   {
    "duration": 85,
    "start_time": "2022-05-01T16:36:29.803Z"
   },
   {
    "duration": 5,
    "start_time": "2022-05-01T16:36:32.216Z"
   },
   {
    "duration": 7,
    "start_time": "2022-05-01T16:36:34.712Z"
   },
   {
    "duration": 6,
    "start_time": "2022-05-01T16:36:40.538Z"
   },
   {
    "duration": 6,
    "start_time": "2022-05-01T16:36:41.704Z"
   },
   {
    "duration": 25,
    "start_time": "2022-05-01T16:36:49.151Z"
   },
   {
    "duration": 46,
    "start_time": "2022-05-01T16:36:52.045Z"
   },
   {
    "duration": 3,
    "start_time": "2022-05-01T16:36:53.956Z"
   },
   {
    "duration": 354,
    "start_time": "2022-05-01T16:36:55.384Z"
   },
   {
    "duration": 30,
    "start_time": "2022-05-01T16:36:58.148Z"
   },
   {
    "duration": 436,
    "start_time": "2022-05-01T16:37:03.767Z"
   },
   {
    "duration": 21,
    "start_time": "2022-05-01T16:37:07.164Z"
   },
   {
    "duration": 328,
    "start_time": "2022-05-01T16:37:09.379Z"
   },
   {
    "duration": 312,
    "start_time": "2022-05-01T16:37:13.312Z"
   },
   {
    "duration": 176,
    "start_time": "2022-05-01T16:37:18.414Z"
   },
   {
    "duration": 298,
    "start_time": "2022-05-01T16:37:21.658Z"
   },
   {
    "duration": 298,
    "start_time": "2022-05-01T16:37:25.075Z"
   },
   {
    "duration": 10,
    "start_time": "2022-05-01T16:37:30.663Z"
   },
   {
    "duration": 9,
    "start_time": "2022-05-01T16:37:32.707Z"
   },
   {
    "duration": 23,
    "start_time": "2022-05-01T16:37:42.659Z"
   },
   {
    "duration": 85,
    "start_time": "2022-05-01T16:37:45.684Z"
   },
   {
    "duration": 55,
    "start_time": "2022-05-01T16:37:51.896Z"
   },
   {
    "duration": 246,
    "start_time": "2022-05-01T16:39:48.958Z"
   },
   {
    "duration": 176,
    "start_time": "2022-05-01T16:43:53.685Z"
   },
   {
    "duration": 165,
    "start_time": "2022-05-01T16:44:29.036Z"
   },
   {
    "duration": 172,
    "start_time": "2022-05-01T16:44:45.784Z"
   },
   {
    "duration": 170,
    "start_time": "2022-05-01T16:44:56.408Z"
   },
   {
    "duration": 176,
    "start_time": "2022-05-01T16:45:17.264Z"
   },
   {
    "duration": 206,
    "start_time": "2022-05-01T16:47:23.105Z"
   },
   {
    "duration": 274,
    "start_time": "2022-05-01T16:47:25.528Z"
   },
   {
    "duration": 333,
    "start_time": "2022-05-01T16:47:28.350Z"
   },
   {
    "duration": 261,
    "start_time": "2022-05-01T16:47:31.305Z"
   },
   {
    "duration": 9,
    "start_time": "2022-05-01T16:47:36.103Z"
   },
   {
    "duration": 13,
    "start_time": "2022-05-01T16:47:38.871Z"
   },
   {
    "duration": 736,
    "start_time": "2022-05-01T16:54:47.380Z"
   },
   {
    "duration": 117,
    "start_time": "2022-05-01T16:54:48.119Z"
   },
   {
    "duration": 97,
    "start_time": "2022-05-01T16:54:48.238Z"
   },
   {
    "duration": 17,
    "start_time": "2022-05-01T16:54:48.337Z"
   },
   {
    "duration": 26,
    "start_time": "2022-05-01T16:54:48.356Z"
   },
   {
    "duration": 5,
    "start_time": "2022-05-01T16:54:48.407Z"
   },
   {
    "duration": 6,
    "start_time": "2022-05-01T16:54:48.414Z"
   },
   {
    "duration": 11,
    "start_time": "2022-05-01T16:54:48.422Z"
   },
   {
    "duration": 9,
    "start_time": "2022-05-01T16:54:48.435Z"
   },
   {
    "duration": 24,
    "start_time": "2022-05-01T16:54:48.447Z"
   },
   {
    "duration": 24,
    "start_time": "2022-05-01T16:54:48.507Z"
   },
   {
    "duration": 5,
    "start_time": "2022-05-01T16:54:48.533Z"
   },
   {
    "duration": 15,
    "start_time": "2022-05-01T16:54:48.540Z"
   },
   {
    "duration": 6,
    "start_time": "2022-05-01T16:54:48.556Z"
   },
   {
    "duration": 52,
    "start_time": "2022-05-01T16:54:48.564Z"
   },
   {
    "duration": 17,
    "start_time": "2022-05-01T16:54:48.617Z"
   },
   {
    "duration": 7,
    "start_time": "2022-05-01T16:54:48.636Z"
   },
   {
    "duration": 13,
    "start_time": "2022-05-01T16:54:48.645Z"
   },
   {
    "duration": 61,
    "start_time": "2022-05-01T16:54:48.659Z"
   },
   {
    "duration": 21,
    "start_time": "2022-05-01T16:54:48.722Z"
   },
   {
    "duration": 5,
    "start_time": "2022-05-01T16:54:48.745Z"
   },
   {
    "duration": 8,
    "start_time": "2022-05-01T16:54:48.751Z"
   },
   {
    "duration": 53,
    "start_time": "2022-05-01T16:54:48.761Z"
   },
   {
    "duration": 102,
    "start_time": "2022-05-01T16:54:48.817Z"
   },
   {
    "duration": 7,
    "start_time": "2022-05-01T16:54:48.921Z"
   },
   {
    "duration": 9,
    "start_time": "2022-05-01T16:54:48.930Z"
   },
   {
    "duration": 7,
    "start_time": "2022-05-01T16:54:48.941Z"
   },
   {
    "duration": 11,
    "start_time": "2022-05-01T16:54:48.953Z"
   },
   {
    "duration": 61,
    "start_time": "2022-05-01T16:54:48.966Z"
   },
   {
    "duration": 47,
    "start_time": "2022-05-01T16:54:49.030Z"
   },
   {
    "duration": 3,
    "start_time": "2022-05-01T16:54:49.079Z"
   },
   {
    "duration": 411,
    "start_time": "2022-05-01T16:54:49.083Z"
   },
   {
    "duration": 49,
    "start_time": "2022-05-01T16:54:49.496Z"
   },
   {
    "duration": 452,
    "start_time": "2022-05-01T16:54:49.547Z"
   },
   {
    "duration": 27,
    "start_time": "2022-05-01T16:54:50.000Z"
   },
   {
    "duration": 329,
    "start_time": "2022-05-01T16:54:50.029Z"
   },
   {
    "duration": 315,
    "start_time": "2022-05-01T16:54:50.360Z"
   },
   {
    "duration": 175,
    "start_time": "2022-05-01T16:54:50.676Z"
   },
   {
    "duration": 308,
    "start_time": "2022-05-01T16:54:50.853Z"
   },
   {
    "duration": 299,
    "start_time": "2022-05-01T16:54:51.163Z"
   },
   {
    "duration": 9,
    "start_time": "2022-05-01T16:54:51.464Z"
   },
   {
    "duration": 9,
    "start_time": "2022-05-01T16:54:51.474Z"
   },
   {
    "duration": 105,
    "start_time": "2022-05-01T16:54:51.484Z"
   },
   {
    "duration": 91,
    "start_time": "2022-05-01T16:54:51.591Z"
   },
   {
    "duration": 64,
    "start_time": "2022-05-01T16:54:51.684Z"
   },
   {
    "duration": 194,
    "start_time": "2022-05-01T16:54:51.750Z"
   },
   {
    "duration": 180,
    "start_time": "2022-05-01T16:54:51.945Z"
   },
   {
    "duration": 194,
    "start_time": "2022-05-01T16:54:52.127Z"
   },
   {
    "duration": 225,
    "start_time": "2022-05-01T16:54:52.323Z"
   },
   {
    "duration": 275,
    "start_time": "2022-05-01T16:54:52.549Z"
   },
   {
    "duration": 326,
    "start_time": "2022-05-01T16:54:52.826Z"
   },
   {
    "duration": 222,
    "start_time": "2022-05-01T16:54:53.153Z"
   },
   {
    "duration": 8,
    "start_time": "2022-05-01T16:54:53.377Z"
   },
   {
    "duration": 28,
    "start_time": "2022-05-01T16:54:53.386Z"
   },
   {
    "duration": 7,
    "start_time": "2022-05-01T16:54:53.417Z"
   },
   {
    "duration": 26,
    "start_time": "2022-05-01T16:54:53.427Z"
   },
   {
    "duration": 59,
    "start_time": "2022-05-01T16:54:53.455Z"
   },
   {
    "duration": 5,
    "start_time": "2022-05-01T16:54:53.516Z"
   },
   {
    "duration": 208,
    "start_time": "2022-05-01T16:54:53.523Z"
   },
   {
    "duration": 19,
    "start_time": "2022-05-01T16:54:53.733Z"
   },
   {
    "duration": 14,
    "start_time": "2022-05-01T16:54:53.753Z"
   },
   {
    "duration": 182,
    "start_time": "2022-05-01T16:54:53.768Z"
   },
   {
    "duration": 20,
    "start_time": "2022-05-01T16:54:53.952Z"
   },
   {
    "duration": 6148,
    "start_time": "2022-05-01T16:59:21.390Z"
   },
   {
    "duration": 5358,
    "start_time": "2022-05-01T16:59:50.860Z"
   },
   {
    "duration": 78,
    "start_time": "2022-05-01T17:00:28.406Z"
   },
   {
    "duration": 10,
    "start_time": "2022-05-01T17:00:51.342Z"
   },
   {
    "duration": 155,
    "start_time": "2022-05-01T17:01:16.739Z"
   },
   {
    "duration": 159,
    "start_time": "2022-05-01T17:01:36.394Z"
   },
   {
    "duration": 13,
    "start_time": "2022-05-01T17:01:48.876Z"
   },
   {
    "duration": 1750,
    "start_time": "2022-05-01T17:02:35.512Z"
   },
   {
    "duration": 1792,
    "start_time": "2022-05-01T17:03:06.456Z"
   },
   {
    "duration": 112,
    "start_time": "2022-05-01T17:03:50.360Z"
   },
   {
    "duration": 8,
    "start_time": "2022-05-01T17:04:44.361Z"
   },
   {
    "duration": 12,
    "start_time": "2022-05-01T17:04:51.189Z"
   },
   {
    "duration": 112,
    "start_time": "2022-05-01T17:05:07.797Z"
   },
   {
    "duration": 133,
    "start_time": "2022-05-01T17:05:20.886Z"
   },
   {
    "duration": 20,
    "start_time": "2022-05-01T17:05:36.964Z"
   },
   {
    "duration": 145,
    "start_time": "2022-05-01T17:06:36.303Z"
   },
   {
    "duration": 154,
    "start_time": "2022-05-01T17:07:02.879Z"
   },
   {
    "duration": 293,
    "start_time": "2022-05-01T17:07:06.840Z"
   },
   {
    "duration": 155,
    "start_time": "2022-05-01T17:07:11.071Z"
   },
   {
    "duration": 10,
    "start_time": "2022-05-01T17:08:24.180Z"
   },
   {
    "duration": 21,
    "start_time": "2022-05-01T17:08:32.607Z"
   },
   {
    "duration": 479,
    "start_time": "2022-05-01T17:08:41.865Z"
   },
   {
    "duration": 212,
    "start_time": "2022-05-01T17:09:58.906Z"
   },
   {
    "duration": 10,
    "start_time": "2022-05-01T17:10:22.618Z"
   },
   {
    "duration": 211,
    "start_time": "2022-05-01T17:10:28.723Z"
   },
   {
    "duration": 206,
    "start_time": "2022-05-01T17:10:47.987Z"
   },
   {
    "duration": 6,
    "start_time": "2022-05-01T17:14:24.454Z"
   },
   {
    "duration": 758,
    "start_time": "2022-05-01T17:15:01.005Z"
   },
   {
    "duration": 146,
    "start_time": "2022-05-01T17:15:01.765Z"
   },
   {
    "duration": 94,
    "start_time": "2022-05-01T17:15:01.913Z"
   },
   {
    "duration": 17,
    "start_time": "2022-05-01T17:15:02.009Z"
   },
   {
    "duration": 24,
    "start_time": "2022-05-01T17:15:02.027Z"
   },
   {
    "duration": 4,
    "start_time": "2022-05-01T17:15:02.052Z"
   },
   {
    "duration": 8,
    "start_time": "2022-05-01T17:15:02.058Z"
   },
   {
    "duration": 46,
    "start_time": "2022-05-01T17:15:02.068Z"
   },
   {
    "duration": 8,
    "start_time": "2022-05-01T17:15:02.115Z"
   },
   {
    "duration": 22,
    "start_time": "2022-05-01T17:15:02.125Z"
   },
   {
    "duration": 24,
    "start_time": "2022-05-01T17:15:02.149Z"
   },
   {
    "duration": 5,
    "start_time": "2022-05-01T17:15:02.174Z"
   },
   {
    "duration": 15,
    "start_time": "2022-05-01T17:15:02.207Z"
   },
   {
    "duration": 12,
    "start_time": "2022-05-01T17:15:02.224Z"
   },
   {
    "duration": 14,
    "start_time": "2022-05-01T17:15:02.238Z"
   },
   {
    "duration": 15,
    "start_time": "2022-05-01T17:15:02.254Z"
   },
   {
    "duration": 38,
    "start_time": "2022-05-01T17:15:02.271Z"
   },
   {
    "duration": 23,
    "start_time": "2022-05-01T17:15:02.310Z"
   },
   {
    "duration": 27,
    "start_time": "2022-05-01T17:15:02.335Z"
   },
   {
    "duration": 19,
    "start_time": "2022-05-01T17:15:02.364Z"
   },
   {
    "duration": 22,
    "start_time": "2022-05-01T17:15:02.385Z"
   },
   {
    "duration": 7,
    "start_time": "2022-05-01T17:15:02.409Z"
   },
   {
    "duration": 26,
    "start_time": "2022-05-01T17:15:02.418Z"
   },
   {
    "duration": 120,
    "start_time": "2022-05-01T17:15:02.446Z"
   },
   {
    "duration": 4,
    "start_time": "2022-05-01T17:15:02.568Z"
   },
   {
    "duration": 16,
    "start_time": "2022-05-01T17:15:02.573Z"
   },
   {
    "duration": 18,
    "start_time": "2022-05-01T17:15:02.591Z"
   },
   {
    "duration": 5,
    "start_time": "2022-05-01T17:15:02.613Z"
   },
   {
    "duration": 26,
    "start_time": "2022-05-01T17:15:02.620Z"
   },
   {
    "duration": 71,
    "start_time": "2022-05-01T17:15:02.648Z"
   },
   {
    "duration": 3,
    "start_time": "2022-05-01T17:15:02.721Z"
   },
   {
    "duration": 401,
    "start_time": "2022-05-01T17:15:02.726Z"
   },
   {
    "duration": 29,
    "start_time": "2022-05-01T17:15:03.129Z"
   },
   {
    "duration": 472,
    "start_time": "2022-05-01T17:15:03.160Z"
   },
   {
    "duration": 20,
    "start_time": "2022-05-01T17:15:03.635Z"
   },
   {
    "duration": 350,
    "start_time": "2022-05-01T17:15:03.657Z"
   },
   {
    "duration": 323,
    "start_time": "2022-05-01T17:15:04.009Z"
   },
   {
    "duration": 196,
    "start_time": "2022-05-01T17:15:04.334Z"
   },
   {
    "duration": 325,
    "start_time": "2022-05-01T17:15:04.532Z"
   },
   {
    "duration": 320,
    "start_time": "2022-05-01T17:15:04.859Z"
   },
   {
    "duration": 11,
    "start_time": "2022-05-01T17:15:05.180Z"
   },
   {
    "duration": 22,
    "start_time": "2022-05-01T17:15:05.193Z"
   },
   {
    "duration": 113,
    "start_time": "2022-05-01T17:15:05.217Z"
   },
   {
    "duration": 92,
    "start_time": "2022-05-01T17:15:05.332Z"
   },
   {
    "duration": 57,
    "start_time": "2022-05-01T17:15:05.426Z"
   },
   {
    "duration": 203,
    "start_time": "2022-05-01T17:15:05.485Z"
   },
   {
    "duration": 183,
    "start_time": "2022-05-01T17:15:05.690Z"
   },
   {
    "duration": 187,
    "start_time": "2022-05-01T17:15:05.875Z"
   },
   {
    "duration": 205,
    "start_time": "2022-05-01T17:15:06.064Z"
   },
   {
    "duration": 277,
    "start_time": "2022-05-01T17:15:06.271Z"
   },
   {
    "duration": 333,
    "start_time": "2022-05-01T17:15:06.550Z"
   },
   {
    "duration": 255,
    "start_time": "2022-05-01T17:15:06.885Z"
   },
   {
    "duration": 9,
    "start_time": "2022-05-01T17:15:07.142Z"
   },
   {
    "duration": 17,
    "start_time": "2022-05-01T17:15:07.153Z"
   },
   {
    "duration": 219,
    "start_time": "2022-05-01T17:15:07.172Z"
   },
   {
    "duration": 15,
    "start_time": "2022-05-01T17:15:07.393Z"
   },
   {
    "duration": 26,
    "start_time": "2022-05-01T17:15:07.410Z"
   },
   {
    "duration": 35,
    "start_time": "2022-05-01T17:15:07.439Z"
   },
   {
    "duration": 5,
    "start_time": "2022-05-01T17:15:07.476Z"
   },
   {
    "duration": 215,
    "start_time": "2022-05-01T17:15:07.507Z"
   },
   {
    "duration": 25,
    "start_time": "2022-05-01T17:15:07.723Z"
   },
   {
    "duration": 122,
    "start_time": "2022-05-01T17:15:07.750Z"
   },
   {
    "duration": 172,
    "start_time": "2022-05-01T17:15:07.874Z"
   },
   {
    "duration": 22,
    "start_time": "2022-05-01T17:15:08.048Z"
   },
   {
    "duration": 652,
    "start_time": "2022-05-01T19:33:05.558Z"
   },
   {
    "duration": 111,
    "start_time": "2022-05-01T19:33:06.212Z"
   },
   {
    "duration": 59,
    "start_time": "2022-05-01T19:33:06.325Z"
   },
   {
    "duration": 22,
    "start_time": "2022-05-01T19:33:06.387Z"
   },
   {
    "duration": 22,
    "start_time": "2022-05-01T19:33:06.411Z"
   },
   {
    "duration": 4,
    "start_time": "2022-05-01T19:33:06.435Z"
   },
   {
    "duration": 5,
    "start_time": "2022-05-01T19:33:06.441Z"
   },
   {
    "duration": 13,
    "start_time": "2022-05-01T19:33:06.447Z"
   },
   {
    "duration": 8,
    "start_time": "2022-05-01T19:33:06.461Z"
   },
   {
    "duration": 43,
    "start_time": "2022-05-01T19:33:06.472Z"
   },
   {
    "duration": 20,
    "start_time": "2022-05-01T19:33:06.517Z"
   },
   {
    "duration": 4,
    "start_time": "2022-05-01T19:33:06.538Z"
   },
   {
    "duration": 13,
    "start_time": "2022-05-01T19:33:06.544Z"
   },
   {
    "duration": 6,
    "start_time": "2022-05-01T19:33:06.558Z"
   },
   {
    "duration": 47,
    "start_time": "2022-05-01T19:33:06.565Z"
   },
   {
    "duration": 12,
    "start_time": "2022-05-01T19:33:06.613Z"
   },
   {
    "duration": 5,
    "start_time": "2022-05-01T19:33:06.627Z"
   },
   {
    "duration": 15,
    "start_time": "2022-05-01T19:33:06.633Z"
   },
   {
    "duration": 22,
    "start_time": "2022-05-01T19:33:06.649Z"
   },
   {
    "duration": 31,
    "start_time": "2022-05-01T19:33:06.672Z"
   },
   {
    "duration": 4,
    "start_time": "2022-05-01T19:33:06.705Z"
   },
   {
    "duration": 7,
    "start_time": "2022-05-01T19:33:06.711Z"
   },
   {
    "duration": 21,
    "start_time": "2022-05-01T19:33:06.719Z"
   },
   {
    "duration": 89,
    "start_time": "2022-05-01T19:33:06.741Z"
   },
   {
    "duration": 4,
    "start_time": "2022-05-01T19:33:06.831Z"
   },
   {
    "duration": 9,
    "start_time": "2022-05-01T19:33:06.836Z"
   },
   {
    "duration": 5,
    "start_time": "2022-05-01T19:33:06.846Z"
   },
   {
    "duration": 4,
    "start_time": "2022-05-01T19:33:06.854Z"
   },
   {
    "duration": 21,
    "start_time": "2022-05-01T19:33:06.859Z"
   },
   {
    "duration": 35,
    "start_time": "2022-05-01T19:33:06.900Z"
   },
   {
    "duration": 3,
    "start_time": "2022-05-01T19:33:06.936Z"
   },
   {
    "duration": 326,
    "start_time": "2022-05-01T19:33:06.940Z"
   },
   {
    "duration": 21,
    "start_time": "2022-05-01T19:33:07.267Z"
   },
   {
    "duration": 345,
    "start_time": "2022-05-01T19:33:07.300Z"
   },
   {
    "duration": 17,
    "start_time": "2022-05-01T19:33:07.646Z"
   },
   {
    "duration": 256,
    "start_time": "2022-05-01T19:33:07.665Z"
   },
   {
    "duration": 259,
    "start_time": "2022-05-01T19:33:07.922Z"
   },
   {
    "duration": 150,
    "start_time": "2022-05-01T19:33:08.182Z"
   },
   {
    "duration": 249,
    "start_time": "2022-05-01T19:33:08.334Z"
   },
   {
    "duration": 231,
    "start_time": "2022-05-01T19:33:08.584Z"
   },
   {
    "duration": 7,
    "start_time": "2022-05-01T19:33:08.817Z"
   },
   {
    "duration": 7,
    "start_time": "2022-05-01T19:33:08.826Z"
   },
   {
    "duration": 75,
    "start_time": "2022-05-01T19:33:08.834Z"
   },
   {
    "duration": 65,
    "start_time": "2022-05-01T19:33:08.911Z"
   },
   {
    "duration": 50,
    "start_time": "2022-05-01T19:33:08.977Z"
   },
   {
    "duration": 149,
    "start_time": "2022-05-01T19:33:09.028Z"
   },
   {
    "duration": 147,
    "start_time": "2022-05-01T19:33:09.179Z"
   },
   {
    "duration": 293,
    "start_time": "2022-05-01T19:33:09.327Z"
   },
   {
    "duration": 321,
    "start_time": "2022-05-01T19:33:09.621Z"
   },
   {
    "duration": 469,
    "start_time": "2022-05-01T19:33:09.944Z"
   },
   {
    "duration": 500,
    "start_time": "2022-05-01T19:33:10.415Z"
   },
   {
    "duration": 184,
    "start_time": "2022-05-01T19:33:10.916Z"
   },
   {
    "duration": 7,
    "start_time": "2022-05-01T19:33:11.102Z"
   },
   {
    "duration": 19,
    "start_time": "2022-05-01T19:33:11.110Z"
   },
   {
    "duration": 260,
    "start_time": "2022-05-01T19:33:11.131Z"
   },
   {
    "duration": 8,
    "start_time": "2022-05-01T19:33:11.393Z"
   },
   {
    "duration": 31,
    "start_time": "2022-05-01T19:33:11.403Z"
   },
   {
    "duration": 44,
    "start_time": "2022-05-01T19:33:11.436Z"
   },
   {
    "duration": 5,
    "start_time": "2022-05-01T19:33:11.501Z"
   },
   {
    "duration": 230,
    "start_time": "2022-05-01T19:33:11.508Z"
   },
   {
    "duration": 16,
    "start_time": "2022-05-01T19:33:11.740Z"
   },
   {
    "duration": 104,
    "start_time": "2022-05-01T19:33:11.758Z"
   },
   {
    "duration": 128,
    "start_time": "2022-05-01T19:33:11.863Z"
   },
   {
    "duration": 23,
    "start_time": "2022-05-01T19:33:11.992Z"
   },
   {
    "duration": 1171,
    "start_time": "2022-05-01T19:45:47.112Z"
   },
   {
    "duration": 153,
    "start_time": "2022-05-01T19:45:48.295Z"
   },
   {
    "duration": 110,
    "start_time": "2022-05-01T19:45:48.450Z"
   },
   {
    "duration": 38,
    "start_time": "2022-05-01T19:45:48.563Z"
   },
   {
    "duration": 33,
    "start_time": "2022-05-01T19:45:48.603Z"
   },
   {
    "duration": 6,
    "start_time": "2022-05-01T19:45:48.638Z"
   },
   {
    "duration": 16,
    "start_time": "2022-05-01T19:45:48.645Z"
   },
   {
    "duration": 37,
    "start_time": "2022-05-01T19:45:48.663Z"
   },
   {
    "duration": 13,
    "start_time": "2022-05-01T19:45:48.703Z"
   },
   {
    "duration": 59,
    "start_time": "2022-05-01T19:45:48.721Z"
   },
   {
    "duration": 45,
    "start_time": "2022-05-01T19:45:48.794Z"
   },
   {
    "duration": 9,
    "start_time": "2022-05-01T19:45:48.842Z"
   },
   {
    "duration": 61,
    "start_time": "2022-05-01T19:45:48.854Z"
   },
   {
    "duration": 9,
    "start_time": "2022-05-01T19:45:48.919Z"
   },
   {
    "duration": 27,
    "start_time": "2022-05-01T19:45:48.931Z"
   },
   {
    "duration": 51,
    "start_time": "2022-05-01T19:45:48.961Z"
   },
   {
    "duration": 9,
    "start_time": "2022-05-01T19:45:49.015Z"
   },
   {
    "duration": 16,
    "start_time": "2022-05-01T19:45:49.027Z"
   },
   {
    "duration": 66,
    "start_time": "2022-05-01T19:45:49.046Z"
   },
   {
    "duration": 27,
    "start_time": "2022-05-01T19:45:49.115Z"
   },
   {
    "duration": 9,
    "start_time": "2022-05-01T19:45:49.144Z"
   },
   {
    "duration": 39,
    "start_time": "2022-05-01T19:45:49.155Z"
   },
   {
    "duration": 40,
    "start_time": "2022-05-01T19:45:49.197Z"
   },
   {
    "duration": 144,
    "start_time": "2022-05-01T19:45:49.239Z"
   },
   {
    "duration": 5,
    "start_time": "2022-05-01T19:45:49.392Z"
   },
   {
    "duration": 12,
    "start_time": "2022-05-01T19:45:49.400Z"
   },
   {
    "duration": 8,
    "start_time": "2022-05-01T19:45:49.414Z"
   },
   {
    "duration": 8,
    "start_time": "2022-05-01T19:45:49.428Z"
   },
   {
    "duration": 78,
    "start_time": "2022-05-01T19:45:49.438Z"
   },
   {
    "duration": 84,
    "start_time": "2022-05-01T19:45:49.518Z"
   },
   {
    "duration": 4,
    "start_time": "2022-05-01T19:45:49.605Z"
   },
   {
    "duration": 583,
    "start_time": "2022-05-01T19:45:49.612Z"
   },
   {
    "duration": 41,
    "start_time": "2022-05-01T19:45:50.197Z"
   },
   {
    "duration": 694,
    "start_time": "2022-05-01T19:45:50.240Z"
   },
   {
    "duration": 25,
    "start_time": "2022-05-01T19:45:50.937Z"
   },
   {
    "duration": 502,
    "start_time": "2022-05-01T19:45:50.964Z"
   },
   {
    "duration": 485,
    "start_time": "2022-05-01T19:45:51.468Z"
   },
   {
    "duration": 278,
    "start_time": "2022-05-01T19:45:51.956Z"
   },
   {
    "duration": 478,
    "start_time": "2022-05-01T19:45:52.237Z"
   },
   {
    "duration": 469,
    "start_time": "2022-05-01T19:45:52.718Z"
   },
   {
    "duration": 13,
    "start_time": "2022-05-01T19:45:53.193Z"
   },
   {
    "duration": 13,
    "start_time": "2022-05-01T19:45:53.208Z"
   },
   {
    "duration": 147,
    "start_time": "2022-05-01T19:45:53.223Z"
   },
   {
    "duration": 120,
    "start_time": "2022-05-01T19:45:53.372Z"
   },
   {
    "duration": 103,
    "start_time": "2022-05-01T19:45:53.494Z"
   },
   {
    "duration": 275,
    "start_time": "2022-05-01T19:45:53.600Z"
   },
   {
    "duration": 260,
    "start_time": "2022-05-01T19:45:53.878Z"
   },
   {
    "duration": 277,
    "start_time": "2022-05-01T19:45:54.141Z"
   },
   {
    "duration": 327,
    "start_time": "2022-05-01T19:45:54.421Z"
   },
   {
    "duration": 408,
    "start_time": "2022-05-01T19:45:54.750Z"
   },
   {
    "duration": 492,
    "start_time": "2022-05-01T19:45:55.161Z"
   },
   {
    "duration": 352,
    "start_time": "2022-05-01T19:45:55.655Z"
   },
   {
    "duration": 11,
    "start_time": "2022-05-01T19:45:56.009Z"
   },
   {
    "duration": 21,
    "start_time": "2022-05-01T19:45:56.022Z"
   },
   {
    "duration": 321,
    "start_time": "2022-05-01T19:45:56.046Z"
   },
   {
    "duration": 7,
    "start_time": "2022-05-01T19:45:56.369Z"
   },
   {
    "duration": 38,
    "start_time": "2022-05-01T19:45:56.394Z"
   },
   {
    "duration": 65,
    "start_time": "2022-05-01T19:45:56.434Z"
   },
   {
    "duration": 6,
    "start_time": "2022-05-01T19:45:56.501Z"
   },
   {
    "duration": 333,
    "start_time": "2022-05-01T19:45:56.509Z"
   },
   {
    "duration": 27,
    "start_time": "2022-05-01T19:45:56.844Z"
   },
   {
    "duration": 150,
    "start_time": "2022-05-01T19:45:56.873Z"
   },
   {
    "duration": 253,
    "start_time": "2022-05-01T19:45:57.026Z"
   },
   {
    "duration": 37,
    "start_time": "2022-05-01T19:45:57.281Z"
   },
   {
    "duration": 298,
    "start_time": "2022-05-01T19:45:57.320Z"
   },
   {
    "duration": 375,
    "start_time": "2022-05-01T19:45:57.621Z"
   },
   {
    "duration": 469,
    "start_time": "2022-05-01T19:45:57.998Z"
   },
   {
    "duration": 374,
    "start_time": "2022-05-01T19:45:58.469Z"
   },
   {
    "duration": 274,
    "start_time": "2022-05-01T19:46:46.341Z"
   },
   {
    "duration": 271,
    "start_time": "2022-05-01T19:46:50.822Z"
   },
   {
    "duration": 273,
    "start_time": "2022-05-01T19:46:57.809Z"
   },
   {
    "duration": 354,
    "start_time": "2022-05-01T19:47:04.242Z"
   },
   {
    "duration": 575,
    "start_time": "2022-05-01T19:47:09.967Z"
   },
   {
    "duration": 386,
    "start_time": "2022-05-01T19:47:20.675Z"
   },
   {
    "duration": 344,
    "start_time": "2022-05-01T19:48:40.989Z"
   },
   {
    "duration": 830,
    "start_time": "2022-05-01T19:59:46.323Z"
   },
   {
    "duration": 142,
    "start_time": "2022-05-01T19:59:47.155Z"
   },
   {
    "duration": 112,
    "start_time": "2022-05-01T19:59:47.299Z"
   },
   {
    "duration": 20,
    "start_time": "2022-05-01T19:59:47.414Z"
   },
   {
    "duration": 58,
    "start_time": "2022-05-01T19:59:47.436Z"
   },
   {
    "duration": 5,
    "start_time": "2022-05-01T19:59:47.496Z"
   },
   {
    "duration": 9,
    "start_time": "2022-05-01T19:59:47.503Z"
   },
   {
    "duration": 14,
    "start_time": "2022-05-01T19:59:47.514Z"
   },
   {
    "duration": 10,
    "start_time": "2022-05-01T19:59:47.530Z"
   },
   {
    "duration": 68,
    "start_time": "2022-05-01T19:59:47.544Z"
   },
   {
    "duration": 30,
    "start_time": "2022-05-01T19:59:47.615Z"
   },
   {
    "duration": 6,
    "start_time": "2022-05-01T19:59:47.648Z"
   },
   {
    "duration": 54,
    "start_time": "2022-05-01T19:59:47.656Z"
   },
   {
    "duration": 12,
    "start_time": "2022-05-01T19:59:47.712Z"
   },
   {
    "duration": 20,
    "start_time": "2022-05-01T19:59:47.726Z"
   },
   {
    "duration": 48,
    "start_time": "2022-05-01T19:59:47.747Z"
   },
   {
    "duration": 7,
    "start_time": "2022-05-01T19:59:47.797Z"
   },
   {
    "duration": 18,
    "start_time": "2022-05-01T19:59:47.806Z"
   },
   {
    "duration": 36,
    "start_time": "2022-05-01T19:59:47.826Z"
   },
   {
    "duration": 51,
    "start_time": "2022-05-01T19:59:47.864Z"
   },
   {
    "duration": 8,
    "start_time": "2022-05-01T19:59:47.918Z"
   },
   {
    "duration": 12,
    "start_time": "2022-05-01T19:59:47.929Z"
   },
   {
    "duration": 77,
    "start_time": "2022-05-01T19:59:47.943Z"
   },
   {
    "duration": 129,
    "start_time": "2022-05-01T19:59:48.023Z"
   },
   {
    "duration": 6,
    "start_time": "2022-05-01T19:59:48.154Z"
   },
   {
    "duration": 13,
    "start_time": "2022-05-01T19:59:48.162Z"
   },
   {
    "duration": 8,
    "start_time": "2022-05-01T19:59:48.192Z"
   },
   {
    "duration": 8,
    "start_time": "2022-05-01T19:59:48.207Z"
   },
   {
    "duration": 33,
    "start_time": "2022-05-01T19:59:48.217Z"
   },
   {
    "duration": 97,
    "start_time": "2022-05-01T19:59:48.252Z"
   },
   {
    "duration": 5,
    "start_time": "2022-05-01T19:59:48.351Z"
   },
   {
    "duration": 657,
    "start_time": "2022-05-01T19:59:48.358Z"
   },
   {
    "duration": 38,
    "start_time": "2022-05-01T19:59:49.017Z"
   },
   {
    "duration": 603,
    "start_time": "2022-05-01T19:59:49.057Z"
   },
   {
    "duration": 42,
    "start_time": "2022-05-01T19:59:49.662Z"
   },
   {
    "duration": 498,
    "start_time": "2022-05-01T19:59:49.706Z"
   },
   {
    "duration": 437,
    "start_time": "2022-05-01T19:59:50.206Z"
   },
   {
    "duration": 257,
    "start_time": "2022-05-01T19:59:50.645Z"
   },
   {
    "duration": 442,
    "start_time": "2022-05-01T19:59:50.904Z"
   },
   {
    "duration": 436,
    "start_time": "2022-05-01T19:59:51.348Z"
   },
   {
    "duration": 16,
    "start_time": "2022-05-01T19:59:51.786Z"
   },
   {
    "duration": 15,
    "start_time": "2022-05-01T19:59:51.804Z"
   },
   {
    "duration": 131,
    "start_time": "2022-05-01T19:59:51.821Z"
   },
   {
    "duration": 116,
    "start_time": "2022-05-01T19:59:51.954Z"
   },
   {
    "duration": 86,
    "start_time": "2022-05-01T19:59:52.072Z"
   },
   {
    "duration": 253,
    "start_time": "2022-05-01T19:59:52.160Z"
   },
   {
    "duration": 245,
    "start_time": "2022-05-01T19:59:52.416Z"
   },
   {
    "duration": 253,
    "start_time": "2022-05-01T19:59:52.663Z"
   },
   {
    "duration": 312,
    "start_time": "2022-05-01T19:59:52.919Z"
   },
   {
    "duration": 384,
    "start_time": "2022-05-01T19:59:53.233Z"
   },
   {
    "duration": 461,
    "start_time": "2022-05-01T19:59:53.618Z"
   },
   {
    "duration": 349,
    "start_time": "2022-05-01T19:59:54.081Z"
   },
   {
    "duration": 11,
    "start_time": "2022-05-01T19:59:54.433Z"
   },
   {
    "duration": 48,
    "start_time": "2022-05-01T19:59:54.447Z"
   },
   {
    "duration": 282,
    "start_time": "2022-05-01T19:59:54.498Z"
   },
   {
    "duration": 15,
    "start_time": "2022-05-01T19:59:54.783Z"
   },
   {
    "duration": 36,
    "start_time": "2022-05-01T19:59:54.801Z"
   },
   {
    "duration": 174,
    "start_time": "2022-05-01T19:59:54.840Z"
   },
   {
    "duration": 6,
    "start_time": "2022-05-01T19:59:55.017Z"
   },
   {
    "duration": 288,
    "start_time": "2022-05-01T19:59:55.025Z"
   },
   {
    "duration": 26,
    "start_time": "2022-05-01T19:59:55.315Z"
   },
   {
    "duration": 19,
    "start_time": "2022-05-01T19:59:55.343Z"
   },
   {
    "duration": 250,
    "start_time": "2022-05-01T19:59:55.364Z"
   },
   {
    "duration": 28,
    "start_time": "2022-05-01T19:59:55.617Z"
   },
   {
    "duration": 280,
    "start_time": "2022-05-01T19:59:55.647Z"
   },
   {
    "duration": 348,
    "start_time": "2022-05-01T19:59:55.930Z"
   },
   {
    "duration": 423,
    "start_time": "2022-05-01T19:59:56.281Z"
   },
   {
    "duration": 326,
    "start_time": "2022-05-01T19:59:56.707Z"
   }
  ],
  "kernelspec": {
   "display_name": "Python 3 (ipykernel)",
   "language": "python",
   "name": "python3"
  },
  "language_info": {
   "codemirror_mode": {
    "name": "ipython",
    "version": 3
   },
   "file_extension": ".py",
   "mimetype": "text/x-python",
   "name": "python",
   "nbconvert_exporter": "python",
   "pygments_lexer": "ipython3",
   "version": "3.9.5"
  },
  "toc": {
   "base_numbering": 1,
   "nav_menu": {},
   "number_sections": true,
   "sideBar": true,
   "skip_h1_title": true,
   "title_cell": "Содержание",
   "title_sidebar": "Contents",
   "toc_cell": true,
   "toc_position": {
    "height": "calc(100% - 180px)",
    "left": "10px",
    "top": "150px",
    "width": "353px"
   },
   "toc_section_display": true,
   "toc_window_display": true
  }
 },
 "nbformat": 4,
 "nbformat_minor": 4
}
