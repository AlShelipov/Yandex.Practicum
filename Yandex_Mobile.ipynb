{
 "cells": [
  {
   "cell_type": "markdown",
   "metadata": {},
   "source": [
    "<div style=\"border:solid Chocolate 2px; padding: 40px\">\n",
    "\n",
    "<b>Привет!👋</b>\n",
    " \n",
    "Меня зовут Лев Беднягин, я буду ревьюером твоего проекта. Предлагаю общаться на \"ты\", но если это неудобно, обязательно скажи об этом!\n",
    "\n",
    "Ниже ты найдешь мои комментарии, обозначенные <font color='green'>зеленым</font>, <font color='gold'>желтым</font> и <font color='red'>красным</font> цветами. Пожалуйста, не удаляй их, они будут особенно полезны для нашей работы в случае повторной проверки проекта. Ты можешь реагировать на мои комментарии своими, выделяя их цветами и наиболее понравившимся тебе способом оформления, но явно  отличающимся от моих комментариев, чтобы мы не запутались. 😉\n",
    "\n",
    "Мои комментарии могут выглядить, например, вот так:\n",
    "    \n",
    "<br/>\n",
    "\n",
    "<div class=\"alert alert-success\">\n",
    "<h2> Комментарий ревьюера <a class=\"tocSkip\"> </h2>\n",
    "\n",
    "<b>Все отлично!👍:</b> В случае, если решение на отдельном шаге является полностью правильным.\n",
    "</div>\n",
    "\n",
    "<br/>\n",
    "\n",
    "<div class=\"alert alert-warning\">\n",
    "    <h2> Комментарий ревьюера <a class=\"tocSkip\"> </h2>\n",
    "    \n",
    "<b>Некоторые замечания и рекомендации💡:</b> В случае, когда решение на отдельном шаге станет еще лучше, если внести небольшие коррективы.\n",
    "</div>\n",
    "\n",
    "\n",
    "<br/>\n",
    "<div class=\"alert alert-block alert-danger\">\n",
    "<h2> Комментарий ревьюера <a class=\"tocSkip\"></h2>\n",
    "\n",
    "    \n",
    "<b>На доработку🤔:</b>\n",
    " В случае, когда решение на отдельном шаге требует существенной переработки и внесения правок. Напоминаю, что проект не может быть принят с первого раза, если ревью содержит комментарии, рекомендующие доработать шаги.\n",
    "</div>\n",
    "    \n",
    "Увидев у тебя неточность, в первый раз я лишь укажу на ее наличие и дам тебе возможность самому найти и исправить ее. На реальной работе твой руководитель будет поступать также, и я пытаюсь подготовить тебя именно к работе аналитиком. Но если ты пока не справишься с такой задачей - при следующей проверке я дам более точную подсказку!🤓\n"
   ]
  },
  {
   "cell_type": "markdown",
   "metadata": {},
   "source": [
    "# Проект \"Определение перспективного тарифа для телеком-компании\""
   ]
  },
  {
   "cell_type": "markdown",
   "metadata": {},
   "source": [
    "**Описание задачи**\n",
    "\n",
    "Оператор связи \"Мегалайн\" хочет проанализировать, какой тариф приносит больше денег компании. Это необходимо для корректировки рекламного бюджета и настройки тарифов для привлечения большего количества новых абонентов.\n",
    "Для решения данной задачи взята выборка из 500 абонентов, пользующихся двумя тарифами \"Смарт\" и \"Ультра\" со следующими данными по абонентам:\n",
    "- тариф\n",
    "- количество и продолжительность звонков\n",
    "- количество сообщений\n",
    "- объём интернет-трафика\n",
    "\n",
    "Описание тарифов\n",
    "Тариф «Смарт»\n",
    "\n",
    "    Ежемесячная плата: 550 рублей\n",
    "    Включено 500 минут разговора, 50 сообщений и 15 Гб интернет-трафика\n",
    "    Стоимость услуг сверх тарифного пакета:\n",
    "        минута разговора: 3 рубля\n",
    "        сообщение: 3 рубля\n",
    "        1 Гб интернет-трафика: 200 рублей\n",
    "\n",
    "Тариф «Ультра»\n",
    "\n",
    "    Ежемесячная плата: 1950 рублей\n",
    "    Включено 3000 минут разговора, 1000 сообщений и 30 Гб интернет-трафика\n",
    "    Стоимость услуг сверх тарифного пакета:\n",
    "        минута разговора: 1 рубль\n",
    "        сообщение: 1 рубль\n",
    "        1 Гб интернет-трафика: 150 рублей\n",
    "        \n"
   ]
  },
  {
   "cell_type": "markdown",
   "metadata": {},
   "source": [
    "**План реализации проекта**\n",
    "\n",
    "1. Открыть и изучить данные\n",
    "    - привести к нужным типам данных;\n",
    "    - исправить ошибки, если они есть.\n",
    "    \n",
    "    \n",
    "2. Подготовить данные для анализа\n",
    "\n",
    "    Посчитать для каждого пользователя:\n",
    "    - количество сделанных звонков и израсходованных минут разговора по месяцам;\n",
    "    - количество отправленных сообщений по месяцам;\n",
    "    - объем израсходованного интернет-трафика по месяцам;\n",
    "    - помесячную выручку с каждого пользователя (вычесть бесплатный лимит из суммарного количества звонков, сообщений и интернет-трафика; остаток умножить на значение из тарифного плана; прибавить абонентскую плату, соответствующую тарифному плану).\n",
    "\n",
    "\n",
    "3. Проанализировать данные\n",
    "    - Описать поведение клиентов оператора, исходя из выборки.\n",
    "    - Вычислить сколько минут разговора, сколько сообщений и какой объём интернет-трафика требуется пользователям каждого тарифа в месяц.\n",
    "    - Посчитать среднее количество, дисперсию и стандартное отклонение. Постройте гистограммы. Описать распределения.\n",
    "\n",
    "\n",
    "\n",
    "4. Проверить гипотезы\n",
    "    - средняя выручка пользователей тарифов «Ультра» и «Смарт» различаются;\n",
    "    - средняя выручка пользователей из Москвы отличается от выручки пользователей из других регионов.\n",
    "\n",
    "\n",
    "5. Сделать общий вывод по итогу работы"
   ]
  },
  {
   "cell_type": "markdown",
   "metadata": {},
   "source": [
    "**Описание данных**\n",
    "\n",
    "Таблица users (информация о пользователях):\n",
    "\n",
    "    user_id — уникальный идентификатор пользователя\n",
    "    first_name — имя пользователя\n",
    "    last_name — фамилия пользователя\n",
    "    age — возраст пользователя (годы)\n",
    "    reg_date — дата подключения тарифа (день, месяц, год)\n",
    "    churn_date — дата прекращения пользования тарифом (если значение пропущено, то тариф ещё действовал на момент выгрузки данных)\n",
    "    city — город проживания пользователя\n",
    "    tariff — название тарифного плана\n",
    "\n",
    "Таблица calls (информация о звонках):\n",
    "\n",
    "    id — уникальный номер звонка\n",
    "    call_date — дата звонка\n",
    "    duration — длительность звонка в минутах\n",
    "    user_id — идентификатор пользователя, сделавшего звонок\n",
    "\n",
    "Таблица messages (информация о сообщениях):\n",
    "\n",
    "    id — уникальный номер сообщения\n",
    "    message_date — дата сообщения\n",
    "    user_id — идентификатор пользователя, отправившего сообщение\n",
    "\n",
    "Таблица internet (информация об интернет-сессиях):\n",
    "\n",
    "    id — уникальный номер сессии\n",
    "    mb_used — объём потраченного за сессию интернет-трафика (в мегабайтах)\n",
    "    session_date — дата интернет-сессии\n",
    "    user_id — идентификатор пользователя\n",
    "\n",
    "Таблица tariffs (информация о тарифах):\n",
    "\n",
    "    tariff_name — название тарифа\n",
    "    rub_monthly_fee — ежемесячная абонентская плата в рублях\n",
    "    minutes_included — количество минут разговора в месяц, включённых в абонентскую плату\n",
    "    messages_included — количество сообщений в месяц, включённых в абонентскую плату\n",
    "    mb_per_month_included — объём интернет-трафика, включённого в абонентскую плату (в мегабайтах)\n",
    "    rub_per_minute — стоимость минуты разговора сверх тарифного пакета (например, если в тарифе 100 минут разговора в месяц, то со 101 минуты будет взиматься плата)\n",
    "    rub_per_message — стоимость отправки сообщения сверх тарифного пакета\n",
    "    rub_per_gb — стоимость дополнительного гигабайта интернет-трафика сверх тарифного пакета (1 гигабайт = 1024 мегабайта)"
   ]
  },
  {
   "cell_type": "markdown",
   "metadata": {},
   "source": [
    "<div class=\"alert alert-success\">\n",
    "<h2> Комментарий ревьюера <a class=\"tocSkip\"> </h2>\n",
    "\n",
    "<b>Все отлично!👍:</b> \n",
    "    \n",
    "Спасибо за оформленную вводную часть, это облегчает проверку! :)"
   ]
  },
  {
   "cell_type": "markdown",
   "metadata": {},
   "source": [
    "## Изучение данных"
   ]
  },
  {
   "cell_type": "code",
   "execution_count": 1,
   "metadata": {},
   "outputs": [],
   "source": [
    "import pandas as pd\n",
    "import numpy as np\n",
    "import matplotlib.pyplot as plt\n",
    "\n",
    "from datetime import datetime\n",
    "from scipy import stats as st"
   ]
  },
  {
   "cell_type": "markdown",
   "metadata": {},
   "source": [
    "Откроем файлы с данными.\n",
    "\n",
    "Сделаем сразу два варианта расположения файлов на случай, если проект будет открываться не только в среде Яндекс.Практикума, но и на локальной машине с файлами, лежащими в той же папке, что и файл проекта (ну дома я так делаю ибо удобно)"
   ]
  },
  {
   "cell_type": "code",
   "execution_count": 2,
   "metadata": {},
   "outputs": [],
   "source": [
    "try:\n",
    "    users = pd.read_csv('/datasets/users.csv')\n",
    "    calls = pd.read_csv('/datasets/calls.csv')\n",
    "    messages = pd.read_csv('/datasets/messages.csv')\n",
    "    internet = pd.read_csv('/datasets/internet.csv')\n",
    "    tariffs = pd.read_csv('/datasets/tariffs.csv')\n",
    "except:\n",
    "    users = pd.read_csv('users.csv')\n",
    "    calls = pd.read_csv('calls.csv')\n",
    "    messages = pd.read_csv('messages.csv')\n",
    "    internet = pd.read_csv('internet.csv')\n",
    "    tariffs = pd.read_csv('tariffs.csv')"
   ]
  },
  {
   "cell_type": "markdown",
   "metadata": {},
   "source": [
    "А теперь посмотрим на каждый файл в отдельности."
   ]
  },
  {
   "cell_type": "markdown",
   "metadata": {},
   "source": [
    "<div class=\"alert alert-success\">\n",
    "<h2> Комментарий ревьюера <a class=\"tocSkip\"> </h2>\n",
    "\n",
    "<b>Все отлично!👍:</b> \n",
    "\n",
    "Данные вчитаны верно."
   ]
  },
  {
   "cell_type": "markdown",
   "metadata": {},
   "source": [
    "### Абоненты"
   ]
  },
  {
   "cell_type": "code",
   "execution_count": 3,
   "metadata": {},
   "outputs": [
    {
     "data": {
      "text/html": [
       "<div>\n",
       "<style scoped>\n",
       "    .dataframe tbody tr th:only-of-type {\n",
       "        vertical-align: middle;\n",
       "    }\n",
       "\n",
       "    .dataframe tbody tr th {\n",
       "        vertical-align: top;\n",
       "    }\n",
       "\n",
       "    .dataframe thead th {\n",
       "        text-align: right;\n",
       "    }\n",
       "</style>\n",
       "<table border=\"1\" class=\"dataframe\">\n",
       "  <thead>\n",
       "    <tr style=\"text-align: right;\">\n",
       "      <th></th>\n",
       "      <th>user_id</th>\n",
       "      <th>age</th>\n",
       "      <th>churn_date</th>\n",
       "      <th>city</th>\n",
       "      <th>first_name</th>\n",
       "      <th>last_name</th>\n",
       "      <th>reg_date</th>\n",
       "      <th>tariff</th>\n",
       "    </tr>\n",
       "  </thead>\n",
       "  <tbody>\n",
       "    <tr>\n",
       "      <th>0</th>\n",
       "      <td>1000</td>\n",
       "      <td>52</td>\n",
       "      <td>NaN</td>\n",
       "      <td>Краснодар</td>\n",
       "      <td>Рафаил</td>\n",
       "      <td>Верещагин</td>\n",
       "      <td>2018-05-25</td>\n",
       "      <td>ultra</td>\n",
       "    </tr>\n",
       "    <tr>\n",
       "      <th>1</th>\n",
       "      <td>1001</td>\n",
       "      <td>41</td>\n",
       "      <td>NaN</td>\n",
       "      <td>Москва</td>\n",
       "      <td>Иван</td>\n",
       "      <td>Ежов</td>\n",
       "      <td>2018-11-01</td>\n",
       "      <td>smart</td>\n",
       "    </tr>\n",
       "    <tr>\n",
       "      <th>2</th>\n",
       "      <td>1002</td>\n",
       "      <td>59</td>\n",
       "      <td>NaN</td>\n",
       "      <td>Стерлитамак</td>\n",
       "      <td>Евгений</td>\n",
       "      <td>Абрамович</td>\n",
       "      <td>2018-06-17</td>\n",
       "      <td>smart</td>\n",
       "    </tr>\n",
       "    <tr>\n",
       "      <th>3</th>\n",
       "      <td>1003</td>\n",
       "      <td>23</td>\n",
       "      <td>NaN</td>\n",
       "      <td>Москва</td>\n",
       "      <td>Белла</td>\n",
       "      <td>Белякова</td>\n",
       "      <td>2018-08-17</td>\n",
       "      <td>ultra</td>\n",
       "    </tr>\n",
       "    <tr>\n",
       "      <th>4</th>\n",
       "      <td>1004</td>\n",
       "      <td>68</td>\n",
       "      <td>NaN</td>\n",
       "      <td>Новокузнецк</td>\n",
       "      <td>Татьяна</td>\n",
       "      <td>Авдеенко</td>\n",
       "      <td>2018-05-14</td>\n",
       "      <td>ultra</td>\n",
       "    </tr>\n",
       "  </tbody>\n",
       "</table>\n",
       "</div>"
      ],
      "text/plain": [
       "   user_id  age churn_date         city first_name  last_name    reg_date  \\\n",
       "0     1000   52        NaN    Краснодар     Рафаил  Верещагин  2018-05-25   \n",
       "1     1001   41        NaN       Москва       Иван       Ежов  2018-11-01   \n",
       "2     1002   59        NaN  Стерлитамак    Евгений  Абрамович  2018-06-17   \n",
       "3     1003   23        NaN       Москва      Белла   Белякова  2018-08-17   \n",
       "4     1004   68        NaN  Новокузнецк    Татьяна   Авдеенко  2018-05-14   \n",
       "\n",
       "  tariff  \n",
       "0  ultra  \n",
       "1  smart  \n",
       "2  smart  \n",
       "3  ultra  \n",
       "4  ultra  "
      ]
     },
     "execution_count": 3,
     "metadata": {},
     "output_type": "execute_result"
    }
   ],
   "source": [
    "users.head()"
   ]
  },
  {
   "cell_type": "code",
   "execution_count": 4,
   "metadata": {},
   "outputs": [
    {
     "data": {
      "text/html": [
       "<div>\n",
       "<style scoped>\n",
       "    .dataframe tbody tr th:only-of-type {\n",
       "        vertical-align: middle;\n",
       "    }\n",
       "\n",
       "    .dataframe tbody tr th {\n",
       "        vertical-align: top;\n",
       "    }\n",
       "\n",
       "    .dataframe thead th {\n",
       "        text-align: right;\n",
       "    }\n",
       "</style>\n",
       "<table border=\"1\" class=\"dataframe\">\n",
       "  <thead>\n",
       "    <tr style=\"text-align: right;\">\n",
       "      <th></th>\n",
       "      <th>user_id</th>\n",
       "      <th>age</th>\n",
       "    </tr>\n",
       "  </thead>\n",
       "  <tbody>\n",
       "    <tr>\n",
       "      <th>count</th>\n",
       "      <td>500.000000</td>\n",
       "      <td>500.00000</td>\n",
       "    </tr>\n",
       "    <tr>\n",
       "      <th>mean</th>\n",
       "      <td>1249.500000</td>\n",
       "      <td>46.58800</td>\n",
       "    </tr>\n",
       "    <tr>\n",
       "      <th>std</th>\n",
       "      <td>144.481833</td>\n",
       "      <td>16.66763</td>\n",
       "    </tr>\n",
       "    <tr>\n",
       "      <th>min</th>\n",
       "      <td>1000.000000</td>\n",
       "      <td>18.00000</td>\n",
       "    </tr>\n",
       "    <tr>\n",
       "      <th>25%</th>\n",
       "      <td>1124.750000</td>\n",
       "      <td>32.00000</td>\n",
       "    </tr>\n",
       "    <tr>\n",
       "      <th>50%</th>\n",
       "      <td>1249.500000</td>\n",
       "      <td>46.00000</td>\n",
       "    </tr>\n",
       "    <tr>\n",
       "      <th>75%</th>\n",
       "      <td>1374.250000</td>\n",
       "      <td>62.00000</td>\n",
       "    </tr>\n",
       "    <tr>\n",
       "      <th>max</th>\n",
       "      <td>1499.000000</td>\n",
       "      <td>75.00000</td>\n",
       "    </tr>\n",
       "  </tbody>\n",
       "</table>\n",
       "</div>"
      ],
      "text/plain": [
       "           user_id        age\n",
       "count   500.000000  500.00000\n",
       "mean   1249.500000   46.58800\n",
       "std     144.481833   16.66763\n",
       "min    1000.000000   18.00000\n",
       "25%    1124.750000   32.00000\n",
       "50%    1249.500000   46.00000\n",
       "75%    1374.250000   62.00000\n",
       "max    1499.000000   75.00000"
      ]
     },
     "execution_count": 4,
     "metadata": {},
     "output_type": "execute_result"
    }
   ],
   "source": [
    "users.describe()"
   ]
  },
  {
   "cell_type": "code",
   "execution_count": 5,
   "metadata": {},
   "outputs": [
    {
     "name": "stdout",
     "output_type": "stream",
     "text": [
      "<class 'pandas.core.frame.DataFrame'>\n",
      "RangeIndex: 500 entries, 0 to 499\n",
      "Data columns (total 8 columns):\n",
      " #   Column      Non-Null Count  Dtype \n",
      "---  ------      --------------  ----- \n",
      " 0   user_id     500 non-null    int64 \n",
      " 1   age         500 non-null    int64 \n",
      " 2   churn_date  38 non-null     object\n",
      " 3   city        500 non-null    object\n",
      " 4   first_name  500 non-null    object\n",
      " 5   last_name   500 non-null    object\n",
      " 6   reg_date    500 non-null    object\n",
      " 7   tariff      500 non-null    object\n",
      "dtypes: int64(2), object(6)\n",
      "memory usage: 31.4+ KB\n"
     ]
    }
   ],
   "source": [
    "users.info()"
   ]
  },
  {
   "cell_type": "markdown",
   "metadata": {},
   "source": [
    "38 абонентов прекратили пользоваться тарифом. Печально, но так бывает.\n",
    "\n",
    "Из проблем важных для решений задачи видим, что даты записаны в текстовом формате. Не кошерно. Приведём их к нужному типу:"
   ]
  },
  {
   "cell_type": "code",
   "execution_count": 6,
   "metadata": {},
   "outputs": [],
   "source": [
    "users['churn_date'] = pd.to_datetime(users['churn_date'], format=\"%Y-%m-%d\")\n",
    "users['reg_date'] = pd.to_datetime(users['reg_date'], format=\"%Y-%m-%d\")"
   ]
  },
  {
   "cell_type": "code",
   "execution_count": 7,
   "metadata": {},
   "outputs": [
    {
     "name": "stdout",
     "output_type": "stream",
     "text": [
      "<class 'pandas.core.frame.DataFrame'>\n",
      "RangeIndex: 500 entries, 0 to 499\n",
      "Data columns (total 8 columns):\n",
      " #   Column      Non-Null Count  Dtype         \n",
      "---  ------      --------------  -----         \n",
      " 0   user_id     500 non-null    int64         \n",
      " 1   age         500 non-null    int64         \n",
      " 2   churn_date  38 non-null     datetime64[ns]\n",
      " 3   city        500 non-null    object        \n",
      " 4   first_name  500 non-null    object        \n",
      " 5   last_name   500 non-null    object        \n",
      " 6   reg_date    500 non-null    datetime64[ns]\n",
      " 7   tariff      500 non-null    object        \n",
      "dtypes: datetime64[ns](2), int64(2), object(4)\n",
      "memory usage: 31.4+ KB\n"
     ]
    }
   ],
   "source": [
    "users.info()"
   ]
  },
  {
   "cell_type": "markdown",
   "metadata": {},
   "source": [
    "Красиво? Красиво!"
   ]
  },
  {
   "cell_type": "markdown",
   "metadata": {},
   "source": [
    "<div class=\"alert alert-success\">\n",
    "<h2> Комментарий ревьюера <a class=\"tocSkip\"> </h2>\n",
    "\n",
    "<b>Все отлично!👍:</b> \n",
    "\n",
    "Хорошее решение с использованием метода `info()`, приведение типов данных выполнена корректно."
   ]
  },
  {
   "cell_type": "markdown",
   "metadata": {},
   "source": [
    "### Звонки"
   ]
  },
  {
   "cell_type": "code",
   "execution_count": 8,
   "metadata": {},
   "outputs": [
    {
     "data": {
      "text/html": [
       "<div>\n",
       "<style scoped>\n",
       "    .dataframe tbody tr th:only-of-type {\n",
       "        vertical-align: middle;\n",
       "    }\n",
       "\n",
       "    .dataframe tbody tr th {\n",
       "        vertical-align: top;\n",
       "    }\n",
       "\n",
       "    .dataframe thead th {\n",
       "        text-align: right;\n",
       "    }\n",
       "</style>\n",
       "<table border=\"1\" class=\"dataframe\">\n",
       "  <thead>\n",
       "    <tr style=\"text-align: right;\">\n",
       "      <th></th>\n",
       "      <th>id</th>\n",
       "      <th>call_date</th>\n",
       "      <th>duration</th>\n",
       "      <th>user_id</th>\n",
       "    </tr>\n",
       "  </thead>\n",
       "  <tbody>\n",
       "    <tr>\n",
       "      <th>0</th>\n",
       "      <td>1000_0</td>\n",
       "      <td>2018-07-25</td>\n",
       "      <td>0.00</td>\n",
       "      <td>1000</td>\n",
       "    </tr>\n",
       "    <tr>\n",
       "      <th>1</th>\n",
       "      <td>1000_1</td>\n",
       "      <td>2018-08-17</td>\n",
       "      <td>0.00</td>\n",
       "      <td>1000</td>\n",
       "    </tr>\n",
       "    <tr>\n",
       "      <th>2</th>\n",
       "      <td>1000_2</td>\n",
       "      <td>2018-06-11</td>\n",
       "      <td>2.85</td>\n",
       "      <td>1000</td>\n",
       "    </tr>\n",
       "    <tr>\n",
       "      <th>3</th>\n",
       "      <td>1000_3</td>\n",
       "      <td>2018-09-21</td>\n",
       "      <td>13.80</td>\n",
       "      <td>1000</td>\n",
       "    </tr>\n",
       "    <tr>\n",
       "      <th>4</th>\n",
       "      <td>1000_4</td>\n",
       "      <td>2018-12-15</td>\n",
       "      <td>5.18</td>\n",
       "      <td>1000</td>\n",
       "    </tr>\n",
       "  </tbody>\n",
       "</table>\n",
       "</div>"
      ],
      "text/plain": [
       "       id   call_date  duration  user_id\n",
       "0  1000_0  2018-07-25      0.00     1000\n",
       "1  1000_1  2018-08-17      0.00     1000\n",
       "2  1000_2  2018-06-11      2.85     1000\n",
       "3  1000_3  2018-09-21     13.80     1000\n",
       "4  1000_4  2018-12-15      5.18     1000"
      ]
     },
     "execution_count": 8,
     "metadata": {},
     "output_type": "execute_result"
    }
   ],
   "source": [
    "calls.head()"
   ]
  },
  {
   "cell_type": "code",
   "execution_count": 9,
   "metadata": {},
   "outputs": [
    {
     "data": {
      "text/html": [
       "<div>\n",
       "<style scoped>\n",
       "    .dataframe tbody tr th:only-of-type {\n",
       "        vertical-align: middle;\n",
       "    }\n",
       "\n",
       "    .dataframe tbody tr th {\n",
       "        vertical-align: top;\n",
       "    }\n",
       "\n",
       "    .dataframe thead th {\n",
       "        text-align: right;\n",
       "    }\n",
       "</style>\n",
       "<table border=\"1\" class=\"dataframe\">\n",
       "  <thead>\n",
       "    <tr style=\"text-align: right;\">\n",
       "      <th></th>\n",
       "      <th>duration</th>\n",
       "      <th>user_id</th>\n",
       "    </tr>\n",
       "  </thead>\n",
       "  <tbody>\n",
       "    <tr>\n",
       "      <th>count</th>\n",
       "      <td>202607.000000</td>\n",
       "      <td>202607.000000</td>\n",
       "    </tr>\n",
       "    <tr>\n",
       "      <th>mean</th>\n",
       "      <td>6.755887</td>\n",
       "      <td>1253.940619</td>\n",
       "    </tr>\n",
       "    <tr>\n",
       "      <th>std</th>\n",
       "      <td>5.843365</td>\n",
       "      <td>144.722751</td>\n",
       "    </tr>\n",
       "    <tr>\n",
       "      <th>min</th>\n",
       "      <td>0.000000</td>\n",
       "      <td>1000.000000</td>\n",
       "    </tr>\n",
       "    <tr>\n",
       "      <th>25%</th>\n",
       "      <td>1.300000</td>\n",
       "      <td>1126.000000</td>\n",
       "    </tr>\n",
       "    <tr>\n",
       "      <th>50%</th>\n",
       "      <td>6.000000</td>\n",
       "      <td>1260.000000</td>\n",
       "    </tr>\n",
       "    <tr>\n",
       "      <th>75%</th>\n",
       "      <td>10.700000</td>\n",
       "      <td>1379.000000</td>\n",
       "    </tr>\n",
       "    <tr>\n",
       "      <th>max</th>\n",
       "      <td>38.000000</td>\n",
       "      <td>1499.000000</td>\n",
       "    </tr>\n",
       "  </tbody>\n",
       "</table>\n",
       "</div>"
      ],
      "text/plain": [
       "            duration        user_id\n",
       "count  202607.000000  202607.000000\n",
       "mean        6.755887    1253.940619\n",
       "std         5.843365     144.722751\n",
       "min         0.000000    1000.000000\n",
       "25%         1.300000    1126.000000\n",
       "50%         6.000000    1260.000000\n",
       "75%        10.700000    1379.000000\n",
       "max        38.000000    1499.000000"
      ]
     },
     "execution_count": 9,
     "metadata": {},
     "output_type": "execute_result"
    }
   ],
   "source": [
    "calls.describe()"
   ]
  },
  {
   "cell_type": "code",
   "execution_count": 10,
   "metadata": {},
   "outputs": [
    {
     "name": "stdout",
     "output_type": "stream",
     "text": [
      "<class 'pandas.core.frame.DataFrame'>\n",
      "RangeIndex: 202607 entries, 0 to 202606\n",
      "Data columns (total 4 columns):\n",
      " #   Column     Non-Null Count   Dtype  \n",
      "---  ------     --------------   -----  \n",
      " 0   id         202607 non-null  object \n",
      " 1   call_date  202607 non-null  object \n",
      " 2   duration   202607 non-null  float64\n",
      " 3   user_id    202607 non-null  int64  \n",
      "dtypes: float64(1), int64(1), object(2)\n",
      "memory usage: 6.2+ MB\n"
     ]
    }
   ],
   "source": [
    "calls.info()"
   ]
  },
  {
   "cell_type": "code",
   "execution_count": 11,
   "metadata": {},
   "outputs": [],
   "source": [
    "calls['call_date'] = pd.to_datetime(calls['call_date'], format=\"%Y-%m-%d\")"
   ]
  },
  {
   "cell_type": "code",
   "execution_count": 12,
   "metadata": {},
   "outputs": [
    {
     "name": "stdout",
     "output_type": "stream",
     "text": [
      "<class 'pandas.core.frame.DataFrame'>\n",
      "RangeIndex: 202607 entries, 0 to 202606\n",
      "Data columns (total 4 columns):\n",
      " #   Column     Non-Null Count   Dtype         \n",
      "---  ------     --------------   -----         \n",
      " 0   id         202607 non-null  object        \n",
      " 1   call_date  202607 non-null  datetime64[ns]\n",
      " 2   duration   202607 non-null  float64       \n",
      " 3   user_id    202607 non-null  int64         \n",
      "dtypes: datetime64[ns](1), float64(1), int64(1), object(1)\n",
      "memory usage: 6.2+ MB\n"
     ]
    }
   ],
   "source": [
    "calls.info()"
   ]
  },
  {
   "cell_type": "markdown",
   "metadata": {},
   "source": [
    "Есть смысл сразу округлять продолжительность звонков. Судя по результату вызова функции **calls.describe()** длительность звонков в базе исчисляется в минутах. Вряд ли в нашей выборке за целый год максимальная длительность звонка была всего 38 секунд (это не невозможно, но крайне маловероятно). Поэтому округлим значения столбца **duration** в большую сторону до целой продолжительности звонка."
   ]
  },
  {
   "cell_type": "code",
   "execution_count": 13,
   "metadata": {},
   "outputs": [],
   "source": [
    "calls['duration'] = calls['duration'].apply(np.ceil).astype('int')"
   ]
  },
  {
   "cell_type": "code",
   "execution_count": 14,
   "metadata": {
    "scrolled": true
   },
   "outputs": [
    {
     "data": {
      "text/html": [
       "<div>\n",
       "<style scoped>\n",
       "    .dataframe tbody tr th:only-of-type {\n",
       "        vertical-align: middle;\n",
       "    }\n",
       "\n",
       "    .dataframe tbody tr th {\n",
       "        vertical-align: top;\n",
       "    }\n",
       "\n",
       "    .dataframe thead th {\n",
       "        text-align: right;\n",
       "    }\n",
       "</style>\n",
       "<table border=\"1\" class=\"dataframe\">\n",
       "  <thead>\n",
       "    <tr style=\"text-align: right;\">\n",
       "      <th></th>\n",
       "      <th>id</th>\n",
       "      <th>call_date</th>\n",
       "      <th>duration</th>\n",
       "      <th>user_id</th>\n",
       "    </tr>\n",
       "  </thead>\n",
       "  <tbody>\n",
       "    <tr>\n",
       "      <th>0</th>\n",
       "      <td>1000_0</td>\n",
       "      <td>2018-07-25</td>\n",
       "      <td>0</td>\n",
       "      <td>1000</td>\n",
       "    </tr>\n",
       "    <tr>\n",
       "      <th>1</th>\n",
       "      <td>1000_1</td>\n",
       "      <td>2018-08-17</td>\n",
       "      <td>0</td>\n",
       "      <td>1000</td>\n",
       "    </tr>\n",
       "    <tr>\n",
       "      <th>2</th>\n",
       "      <td>1000_2</td>\n",
       "      <td>2018-06-11</td>\n",
       "      <td>3</td>\n",
       "      <td>1000</td>\n",
       "    </tr>\n",
       "    <tr>\n",
       "      <th>3</th>\n",
       "      <td>1000_3</td>\n",
       "      <td>2018-09-21</td>\n",
       "      <td>14</td>\n",
       "      <td>1000</td>\n",
       "    </tr>\n",
       "    <tr>\n",
       "      <th>4</th>\n",
       "      <td>1000_4</td>\n",
       "      <td>2018-12-15</td>\n",
       "      <td>6</td>\n",
       "      <td>1000</td>\n",
       "    </tr>\n",
       "  </tbody>\n",
       "</table>\n",
       "</div>"
      ],
      "text/plain": [
       "       id  call_date  duration  user_id\n",
       "0  1000_0 2018-07-25         0     1000\n",
       "1  1000_1 2018-08-17         0     1000\n",
       "2  1000_2 2018-06-11         3     1000\n",
       "3  1000_3 2018-09-21        14     1000\n",
       "4  1000_4 2018-12-15         6     1000"
      ]
     },
     "execution_count": 14,
     "metadata": {},
     "output_type": "execute_result"
    }
   ],
   "source": [
    "calls.head()"
   ]
  },
  {
   "cell_type": "markdown",
   "metadata": {},
   "source": [
    "<div class=\"alert alert-success\">\n",
    "<h2> Комментарий ревьюера <a class=\"tocSkip\"> </h2>\n",
    "\n",
    "<b>Все отлично!👍:</b> \n",
    "\n",
    "Округление длительности звонков выполнено верно."
   ]
  },
  {
   "cell_type": "markdown",
   "metadata": {},
   "source": [
    "Что интересно, остались нулевые значения продолжительности звонка. Но как тогда такие звонки вообще попали в базу, если они не завершены разговоров пусть даже в долю секунды. Значит скорее всего в системе оператора при записи звонки стоит некорректное округление в нижнюю сторону, а не в верхнуюю как указано в задании. Значит эти якобы нулевые звонки есть смысл заменить на звонки в 1 минуту."
   ]
  },
  {
   "cell_type": "markdown",
   "metadata": {},
   "source": [
    "<div class=\"alert alert-warning\">\n",
    "    <h2> Комментарий ревьюера <a class=\"tocSkip\"> </h2>\n",
    "    \n",
    "<b>Некоторые замечания и рекомендации💡:</b>\n",
    "        \n",
    "В описании задания отмечается, что \"В данных вы найдёте звонки с нулевой продолжительностью. Это не ошибка: нулями обозначены пропущенные звонки, поэтому их не нужно удалять\".\n",
    "\n",
    "Заменять их на единицу в данном случае не совсем верно, поскольку в таком случае они начнут участвовать в расчете выручки с каждого пользователя, в то время как эти пропущенные вызовы не должны тарифицироваться. \n",
    "        </div>\n",
    "    \n",
    "Убрал замену нулевых звонков на 1 минуту."
   ]
  },
  {
   "cell_type": "markdown",
   "metadata": {},
   "source": [
    "<div class=\"alert alert-success\">\n",
    "<h2> Комментарий ревьюера v2 <a class=\"tocSkip\"> </h2>\n",
    "\n",
    "<b>Все отлично!👍:</b> \n",
    "    \n",
    "Теперь верно."
   ]
  },
  {
   "cell_type": "code",
   "execution_count": 15,
   "metadata": {},
   "outputs": [
    {
     "data": {
      "text/html": [
       "<div>\n",
       "<style scoped>\n",
       "    .dataframe tbody tr th:only-of-type {\n",
       "        vertical-align: middle;\n",
       "    }\n",
       "\n",
       "    .dataframe tbody tr th {\n",
       "        vertical-align: top;\n",
       "    }\n",
       "\n",
       "    .dataframe thead th {\n",
       "        text-align: right;\n",
       "    }\n",
       "</style>\n",
       "<table border=\"1\" class=\"dataframe\">\n",
       "  <thead>\n",
       "    <tr style=\"text-align: right;\">\n",
       "      <th></th>\n",
       "      <th>duration</th>\n",
       "      <th>user_id</th>\n",
       "    </tr>\n",
       "  </thead>\n",
       "  <tbody>\n",
       "    <tr>\n",
       "      <th>count</th>\n",
       "      <td>202607.000000</td>\n",
       "      <td>202607.000000</td>\n",
       "    </tr>\n",
       "    <tr>\n",
       "      <th>mean</th>\n",
       "      <td>7.158198</td>\n",
       "      <td>1253.940619</td>\n",
       "    </tr>\n",
       "    <tr>\n",
       "      <th>std</th>\n",
       "      <td>5.959173</td>\n",
       "      <td>144.722751</td>\n",
       "    </tr>\n",
       "    <tr>\n",
       "      <th>min</th>\n",
       "      <td>0.000000</td>\n",
       "      <td>1000.000000</td>\n",
       "    </tr>\n",
       "    <tr>\n",
       "      <th>25%</th>\n",
       "      <td>2.000000</td>\n",
       "      <td>1126.000000</td>\n",
       "    </tr>\n",
       "    <tr>\n",
       "      <th>50%</th>\n",
       "      <td>6.000000</td>\n",
       "      <td>1260.000000</td>\n",
       "    </tr>\n",
       "    <tr>\n",
       "      <th>75%</th>\n",
       "      <td>11.000000</td>\n",
       "      <td>1379.000000</td>\n",
       "    </tr>\n",
       "    <tr>\n",
       "      <th>max</th>\n",
       "      <td>38.000000</td>\n",
       "      <td>1499.000000</td>\n",
       "    </tr>\n",
       "  </tbody>\n",
       "</table>\n",
       "</div>"
      ],
      "text/plain": [
       "            duration        user_id\n",
       "count  202607.000000  202607.000000\n",
       "mean        7.158198    1253.940619\n",
       "std         5.959173     144.722751\n",
       "min         0.000000    1000.000000\n",
       "25%         2.000000    1126.000000\n",
       "50%         6.000000    1260.000000\n",
       "75%        11.000000    1379.000000\n",
       "max        38.000000    1499.000000"
      ]
     },
     "execution_count": 15,
     "metadata": {},
     "output_type": "execute_result"
    }
   ],
   "source": [
    "calls.describe()"
   ]
  },
  {
   "cell_type": "code",
   "execution_count": 16,
   "metadata": {},
   "outputs": [
    {
     "name": "stdout",
     "output_type": "stream",
     "text": [
      "<class 'pandas.core.frame.DataFrame'>\n",
      "RangeIndex: 202607 entries, 0 to 202606\n",
      "Data columns (total 4 columns):\n",
      " #   Column     Non-Null Count   Dtype         \n",
      "---  ------     --------------   -----         \n",
      " 0   id         202607 non-null  object        \n",
      " 1   call_date  202607 non-null  datetime64[ns]\n",
      " 2   duration   202607 non-null  int64         \n",
      " 3   user_id    202607 non-null  int64         \n",
      "dtypes: datetime64[ns](1), int64(2), object(1)\n",
      "memory usage: 6.2+ MB\n"
     ]
    }
   ],
   "source": [
    "calls.info()"
   ]
  },
  {
   "cell_type": "markdown",
   "metadata": {},
   "source": [
    "###  Сообщения"
   ]
  },
  {
   "cell_type": "code",
   "execution_count": 17,
   "metadata": {},
   "outputs": [
    {
     "data": {
      "text/html": [
       "<div>\n",
       "<style scoped>\n",
       "    .dataframe tbody tr th:only-of-type {\n",
       "        vertical-align: middle;\n",
       "    }\n",
       "\n",
       "    .dataframe tbody tr th {\n",
       "        vertical-align: top;\n",
       "    }\n",
       "\n",
       "    .dataframe thead th {\n",
       "        text-align: right;\n",
       "    }\n",
       "</style>\n",
       "<table border=\"1\" class=\"dataframe\">\n",
       "  <thead>\n",
       "    <tr style=\"text-align: right;\">\n",
       "      <th></th>\n",
       "      <th>id</th>\n",
       "      <th>message_date</th>\n",
       "      <th>user_id</th>\n",
       "    </tr>\n",
       "  </thead>\n",
       "  <tbody>\n",
       "    <tr>\n",
       "      <th>0</th>\n",
       "      <td>1000_0</td>\n",
       "      <td>2018-06-27</td>\n",
       "      <td>1000</td>\n",
       "    </tr>\n",
       "    <tr>\n",
       "      <th>1</th>\n",
       "      <td>1000_1</td>\n",
       "      <td>2018-10-08</td>\n",
       "      <td>1000</td>\n",
       "    </tr>\n",
       "    <tr>\n",
       "      <th>2</th>\n",
       "      <td>1000_2</td>\n",
       "      <td>2018-08-04</td>\n",
       "      <td>1000</td>\n",
       "    </tr>\n",
       "    <tr>\n",
       "      <th>3</th>\n",
       "      <td>1000_3</td>\n",
       "      <td>2018-06-16</td>\n",
       "      <td>1000</td>\n",
       "    </tr>\n",
       "    <tr>\n",
       "      <th>4</th>\n",
       "      <td>1000_4</td>\n",
       "      <td>2018-12-05</td>\n",
       "      <td>1000</td>\n",
       "    </tr>\n",
       "  </tbody>\n",
       "</table>\n",
       "</div>"
      ],
      "text/plain": [
       "       id message_date  user_id\n",
       "0  1000_0   2018-06-27     1000\n",
       "1  1000_1   2018-10-08     1000\n",
       "2  1000_2   2018-08-04     1000\n",
       "3  1000_3   2018-06-16     1000\n",
       "4  1000_4   2018-12-05     1000"
      ]
     },
     "execution_count": 17,
     "metadata": {},
     "output_type": "execute_result"
    }
   ],
   "source": [
    "messages.head()"
   ]
  },
  {
   "cell_type": "code",
   "execution_count": 18,
   "metadata": {},
   "outputs": [
    {
     "name": "stdout",
     "output_type": "stream",
     "text": [
      "<class 'pandas.core.frame.DataFrame'>\n",
      "RangeIndex: 123036 entries, 0 to 123035\n",
      "Data columns (total 3 columns):\n",
      " #   Column        Non-Null Count   Dtype \n",
      "---  ------        --------------   ----- \n",
      " 0   id            123036 non-null  object\n",
      " 1   message_date  123036 non-null  object\n",
      " 2   user_id       123036 non-null  int64 \n",
      "dtypes: int64(1), object(2)\n",
      "memory usage: 2.8+ MB\n"
     ]
    }
   ],
   "source": [
    "messages.info()"
   ]
  },
  {
   "cell_type": "code",
   "execution_count": 19,
   "metadata": {},
   "outputs": [],
   "source": [
    "messages['id'] = messages['id'].astype('int')"
   ]
  },
  {
   "cell_type": "code",
   "execution_count": 20,
   "metadata": {},
   "outputs": [],
   "source": [
    "messages['message_date'] = pd.to_datetime(messages['message_date'], format=\"%Y-%m-%d\")"
   ]
  },
  {
   "cell_type": "code",
   "execution_count": 21,
   "metadata": {},
   "outputs": [
    {
     "name": "stdout",
     "output_type": "stream",
     "text": [
      "<class 'pandas.core.frame.DataFrame'>\n",
      "RangeIndex: 123036 entries, 0 to 123035\n",
      "Data columns (total 3 columns):\n",
      " #   Column        Non-Null Count   Dtype         \n",
      "---  ------        --------------   -----         \n",
      " 0   id            123036 non-null  int64         \n",
      " 1   message_date  123036 non-null  datetime64[ns]\n",
      " 2   user_id       123036 non-null  int64         \n",
      "dtypes: datetime64[ns](1), int64(2)\n",
      "memory usage: 2.8 MB\n"
     ]
    }
   ],
   "source": [
    "messages.info()"
   ]
  },
  {
   "cell_type": "markdown",
   "metadata": {},
   "source": [
    "<div class=\"alert alert-success\">\n",
    "<h2> Комментарий ревьюера <a class=\"tocSkip\"> </h2>\n",
    "\n",
    "<b>Все отлично!👍:</b> \n",
    "\n",
    "Преобработка данных в таблице `messages` выполнена верно."
   ]
  },
  {
   "cell_type": "markdown",
   "metadata": {},
   "source": [
    "### Интернет"
   ]
  },
  {
   "cell_type": "code",
   "execution_count": 22,
   "metadata": {},
   "outputs": [
    {
     "data": {
      "text/html": [
       "<div>\n",
       "<style scoped>\n",
       "    .dataframe tbody tr th:only-of-type {\n",
       "        vertical-align: middle;\n",
       "    }\n",
       "\n",
       "    .dataframe tbody tr th {\n",
       "        vertical-align: top;\n",
       "    }\n",
       "\n",
       "    .dataframe thead th {\n",
       "        text-align: right;\n",
       "    }\n",
       "</style>\n",
       "<table border=\"1\" class=\"dataframe\">\n",
       "  <thead>\n",
       "    <tr style=\"text-align: right;\">\n",
       "      <th></th>\n",
       "      <th>Unnamed: 0</th>\n",
       "      <th>id</th>\n",
       "      <th>mb_used</th>\n",
       "      <th>session_date</th>\n",
       "      <th>user_id</th>\n",
       "    </tr>\n",
       "  </thead>\n",
       "  <tbody>\n",
       "    <tr>\n",
       "      <th>0</th>\n",
       "      <td>0</td>\n",
       "      <td>1000_0</td>\n",
       "      <td>112.95</td>\n",
       "      <td>2018-11-25</td>\n",
       "      <td>1000</td>\n",
       "    </tr>\n",
       "    <tr>\n",
       "      <th>1</th>\n",
       "      <td>1</td>\n",
       "      <td>1000_1</td>\n",
       "      <td>1052.81</td>\n",
       "      <td>2018-09-07</td>\n",
       "      <td>1000</td>\n",
       "    </tr>\n",
       "    <tr>\n",
       "      <th>2</th>\n",
       "      <td>2</td>\n",
       "      <td>1000_2</td>\n",
       "      <td>1197.26</td>\n",
       "      <td>2018-06-25</td>\n",
       "      <td>1000</td>\n",
       "    </tr>\n",
       "    <tr>\n",
       "      <th>3</th>\n",
       "      <td>3</td>\n",
       "      <td>1000_3</td>\n",
       "      <td>550.27</td>\n",
       "      <td>2018-08-22</td>\n",
       "      <td>1000</td>\n",
       "    </tr>\n",
       "    <tr>\n",
       "      <th>4</th>\n",
       "      <td>4</td>\n",
       "      <td>1000_4</td>\n",
       "      <td>302.56</td>\n",
       "      <td>2018-09-24</td>\n",
       "      <td>1000</td>\n",
       "    </tr>\n",
       "  </tbody>\n",
       "</table>\n",
       "</div>"
      ],
      "text/plain": [
       "   Unnamed: 0      id  mb_used session_date  user_id\n",
       "0           0  1000_0   112.95   2018-11-25     1000\n",
       "1           1  1000_1  1052.81   2018-09-07     1000\n",
       "2           2  1000_2  1197.26   2018-06-25     1000\n",
       "3           3  1000_3   550.27   2018-08-22     1000\n",
       "4           4  1000_4   302.56   2018-09-24     1000"
      ]
     },
     "execution_count": 22,
     "metadata": {},
     "output_type": "execute_result"
    }
   ],
   "source": [
    "internet.head()"
   ]
  },
  {
   "cell_type": "code",
   "execution_count": 23,
   "metadata": {},
   "outputs": [
    {
     "data": {
      "text/html": [
       "<div>\n",
       "<style scoped>\n",
       "    .dataframe tbody tr th:only-of-type {\n",
       "        vertical-align: middle;\n",
       "    }\n",
       "\n",
       "    .dataframe tbody tr th {\n",
       "        vertical-align: top;\n",
       "    }\n",
       "\n",
       "    .dataframe thead th {\n",
       "        text-align: right;\n",
       "    }\n",
       "</style>\n",
       "<table border=\"1\" class=\"dataframe\">\n",
       "  <thead>\n",
       "    <tr style=\"text-align: right;\">\n",
       "      <th></th>\n",
       "      <th>Unnamed: 0</th>\n",
       "      <th>mb_used</th>\n",
       "      <th>user_id</th>\n",
       "    </tr>\n",
       "  </thead>\n",
       "  <tbody>\n",
       "    <tr>\n",
       "      <th>count</th>\n",
       "      <td>149396.000000</td>\n",
       "      <td>149396.000000</td>\n",
       "      <td>149396.000000</td>\n",
       "    </tr>\n",
       "    <tr>\n",
       "      <th>mean</th>\n",
       "      <td>74697.500000</td>\n",
       "      <td>370.192426</td>\n",
       "      <td>1252.099842</td>\n",
       "    </tr>\n",
       "    <tr>\n",
       "      <th>std</th>\n",
       "      <td>43127.054745</td>\n",
       "      <td>278.300951</td>\n",
       "      <td>144.050823</td>\n",
       "    </tr>\n",
       "    <tr>\n",
       "      <th>min</th>\n",
       "      <td>0.000000</td>\n",
       "      <td>0.000000</td>\n",
       "      <td>1000.000000</td>\n",
       "    </tr>\n",
       "    <tr>\n",
       "      <th>25%</th>\n",
       "      <td>37348.750000</td>\n",
       "      <td>138.187500</td>\n",
       "      <td>1130.000000</td>\n",
       "    </tr>\n",
       "    <tr>\n",
       "      <th>50%</th>\n",
       "      <td>74697.500000</td>\n",
       "      <td>348.015000</td>\n",
       "      <td>1251.000000</td>\n",
       "    </tr>\n",
       "    <tr>\n",
       "      <th>75%</th>\n",
       "      <td>112046.250000</td>\n",
       "      <td>559.552500</td>\n",
       "      <td>1380.000000</td>\n",
       "    </tr>\n",
       "    <tr>\n",
       "      <th>max</th>\n",
       "      <td>149395.000000</td>\n",
       "      <td>1724.830000</td>\n",
       "      <td>1499.000000</td>\n",
       "    </tr>\n",
       "  </tbody>\n",
       "</table>\n",
       "</div>"
      ],
      "text/plain": [
       "          Unnamed: 0        mb_used        user_id\n",
       "count  149396.000000  149396.000000  149396.000000\n",
       "mean    74697.500000     370.192426    1252.099842\n",
       "std     43127.054745     278.300951     144.050823\n",
       "min         0.000000       0.000000    1000.000000\n",
       "25%     37348.750000     138.187500    1130.000000\n",
       "50%     74697.500000     348.015000    1251.000000\n",
       "75%    112046.250000     559.552500    1380.000000\n",
       "max    149395.000000    1724.830000    1499.000000"
      ]
     },
     "execution_count": 23,
     "metadata": {},
     "output_type": "execute_result"
    }
   ],
   "source": [
    "internet.describe()"
   ]
  },
  {
   "cell_type": "code",
   "execution_count": 24,
   "metadata": {},
   "outputs": [
    {
     "name": "stdout",
     "output_type": "stream",
     "text": [
      "<class 'pandas.core.frame.DataFrame'>\n",
      "RangeIndex: 149396 entries, 0 to 149395\n",
      "Data columns (total 5 columns):\n",
      " #   Column        Non-Null Count   Dtype  \n",
      "---  ------        --------------   -----  \n",
      " 0   Unnamed: 0    149396 non-null  int64  \n",
      " 1   id            149396 non-null  object \n",
      " 2   mb_used       149396 non-null  float64\n",
      " 3   session_date  149396 non-null  object \n",
      " 4   user_id       149396 non-null  int64  \n",
      "dtypes: float64(1), int64(2), object(2)\n",
      "memory usage: 5.7+ MB\n"
     ]
    }
   ],
   "source": [
    "internet.info()"
   ]
  },
  {
   "cell_type": "code",
   "execution_count": 25,
   "metadata": {},
   "outputs": [],
   "source": [
    "internet['id'] = internet['id'].astype('int')"
   ]
  },
  {
   "cell_type": "code",
   "execution_count": 26,
   "metadata": {},
   "outputs": [],
   "source": [
    "internet['session_date'] = pd.to_datetime(internet['session_date'], format=\"%Y-%m-%d\")"
   ]
  },
  {
   "cell_type": "code",
   "execution_count": 27,
   "metadata": {},
   "outputs": [
    {
     "name": "stdout",
     "output_type": "stream",
     "text": [
      "<class 'pandas.core.frame.DataFrame'>\n",
      "RangeIndex: 149396 entries, 0 to 149395\n",
      "Data columns (total 5 columns):\n",
      " #   Column        Non-Null Count   Dtype         \n",
      "---  ------        --------------   -----         \n",
      " 0   Unnamed: 0    149396 non-null  int64         \n",
      " 1   id            149396 non-null  int64         \n",
      " 2   mb_used       149396 non-null  float64       \n",
      " 3   session_date  149396 non-null  datetime64[ns]\n",
      " 4   user_id       149396 non-null  int64         \n",
      "dtypes: datetime64[ns](1), float64(1), int64(3)\n",
      "memory usage: 5.7 MB\n"
     ]
    }
   ],
   "source": [
    "internet.info()"
   ]
  },
  {
   "cell_type": "markdown",
   "metadata": {},
   "source": [
    "<div class=\"alert alert-success\">\n",
    "<h2> Комментарий ревьюера <a class=\"tocSkip\"> </h2>\n",
    "\n",
    "<b>Все отлично!👍:</b> \n",
    "\n",
    "Столбец `'Unnamed: 0'` возникает, когда данные сохраняют с указанием индекса `pd.DataFrame().to_csv(..., index=column)`. Если при чтении указать этот столбец `pd.read_csv(..., index_col=0)` - данные сразу прочитаются корректно.    "
   ]
  },
  {
   "cell_type": "markdown",
   "metadata": {},
   "source": [
    "### Тарифы"
   ]
  },
  {
   "cell_type": "code",
   "execution_count": 28,
   "metadata": {},
   "outputs": [
    {
     "data": {
      "text/html": [
       "<div>\n",
       "<style scoped>\n",
       "    .dataframe tbody tr th:only-of-type {\n",
       "        vertical-align: middle;\n",
       "    }\n",
       "\n",
       "    .dataframe tbody tr th {\n",
       "        vertical-align: top;\n",
       "    }\n",
       "\n",
       "    .dataframe thead th {\n",
       "        text-align: right;\n",
       "    }\n",
       "</style>\n",
       "<table border=\"1\" class=\"dataframe\">\n",
       "  <thead>\n",
       "    <tr style=\"text-align: right;\">\n",
       "      <th></th>\n",
       "      <th>messages_included</th>\n",
       "      <th>mb_per_month_included</th>\n",
       "      <th>minutes_included</th>\n",
       "      <th>rub_monthly_fee</th>\n",
       "      <th>rub_per_gb</th>\n",
       "      <th>rub_per_message</th>\n",
       "      <th>rub_per_minute</th>\n",
       "      <th>tariff_name</th>\n",
       "    </tr>\n",
       "  </thead>\n",
       "  <tbody>\n",
       "    <tr>\n",
       "      <th>0</th>\n",
       "      <td>50</td>\n",
       "      <td>15360</td>\n",
       "      <td>500</td>\n",
       "      <td>550</td>\n",
       "      <td>200</td>\n",
       "      <td>3</td>\n",
       "      <td>3</td>\n",
       "      <td>smart</td>\n",
       "    </tr>\n",
       "    <tr>\n",
       "      <th>1</th>\n",
       "      <td>1000</td>\n",
       "      <td>30720</td>\n",
       "      <td>3000</td>\n",
       "      <td>1950</td>\n",
       "      <td>150</td>\n",
       "      <td>1</td>\n",
       "      <td>1</td>\n",
       "      <td>ultra</td>\n",
       "    </tr>\n",
       "  </tbody>\n",
       "</table>\n",
       "</div>"
      ],
      "text/plain": [
       "   messages_included  mb_per_month_included  minutes_included  \\\n",
       "0                 50                  15360               500   \n",
       "1               1000                  30720              3000   \n",
       "\n",
       "   rub_monthly_fee  rub_per_gb  rub_per_message  rub_per_minute tariff_name  \n",
       "0              550         200                3               3       smart  \n",
       "1             1950         150                1               1       ultra  "
      ]
     },
     "execution_count": 28,
     "metadata": {},
     "output_type": "execute_result"
    }
   ],
   "source": [
    "tariffs.head()"
   ]
  },
  {
   "cell_type": "code",
   "execution_count": 29,
   "metadata": {},
   "outputs": [],
   "source": [
    "tariffs = tariffs.rename(columns={'tariff_name':'tariff'})"
   ]
  },
  {
   "cell_type": "code",
   "execution_count": 30,
   "metadata": {},
   "outputs": [
    {
     "name": "stdout",
     "output_type": "stream",
     "text": [
      "<class 'pandas.core.frame.DataFrame'>\n",
      "RangeIndex: 2 entries, 0 to 1\n",
      "Data columns (total 8 columns):\n",
      " #   Column                 Non-Null Count  Dtype \n",
      "---  ------                 --------------  ----- \n",
      " 0   messages_included      2 non-null      int64 \n",
      " 1   mb_per_month_included  2 non-null      int64 \n",
      " 2   minutes_included       2 non-null      int64 \n",
      " 3   rub_monthly_fee        2 non-null      int64 \n",
      " 4   rub_per_gb             2 non-null      int64 \n",
      " 5   rub_per_message        2 non-null      int64 \n",
      " 6   rub_per_minute         2 non-null      int64 \n",
      " 7   tariff                 2 non-null      object\n",
      "dtypes: int64(7), object(1)\n",
      "memory usage: 256.0+ bytes\n"
     ]
    }
   ],
   "source": [
    "tariffs.info()"
   ]
  },
  {
   "cell_type": "markdown",
   "metadata": {},
   "source": [
    "Здесь всё в порядке"
   ]
  },
  {
   "cell_type": "markdown",
   "metadata": {},
   "source": [
    "<div class=\"alert alert-success\">\n",
    "<h2> Комментарий ревьюера <a class=\"tocSkip\"> </h2>\n",
    "\n",
    "<b>Все отлично!👍:</b> \n",
    "\n",
    "Тут всё правильно, молодец!"
   ]
  },
  {
   "cell_type": "markdown",
   "metadata": {},
   "source": [
    "## Подготовка данных для анализа"
   ]
  },
  {
   "cell_type": "markdown",
   "metadata": {},
   "source": [
    " Посчитаем для каждого пользователя:\n",
    "\n",
    "- количество сделанных звонков и израсходованных минут разговора по месяцам;\n",
    "- количество отправленных сообщений по месяцам;\n",
    "- объем израсходованного интернет-трафика по месяцам;\n",
    "- помесячную выручку с каждого пользователя (вычтем бесплатный лимит из суммарного количества звонков, сообщений и интернет-трафика; остаток умножим на значение из тарифного плана; прибавим абонентскую плату, соответствующую тарифному плану).\n"
   ]
  },
  {
   "cell_type": "markdown",
   "metadata": {},
   "source": [
    "### Количество сделанных звонков и израсходованных минут разговора по месяцам"
   ]
  },
  {
   "cell_type": "code",
   "execution_count": 31,
   "metadata": {},
   "outputs": [],
   "source": [
    "calls['month'] = calls['call_date'].dt.month"
   ]
  },
  {
   "cell_type": "code",
   "execution_count": 32,
   "metadata": {},
   "outputs": [
    {
     "data": {
      "text/html": [
       "<div>\n",
       "<style scoped>\n",
       "    .dataframe tbody tr th:only-of-type {\n",
       "        vertical-align: middle;\n",
       "    }\n",
       "\n",
       "    .dataframe tbody tr th {\n",
       "        vertical-align: top;\n",
       "    }\n",
       "\n",
       "    .dataframe thead th {\n",
       "        text-align: right;\n",
       "    }\n",
       "</style>\n",
       "<table border=\"1\" class=\"dataframe\">\n",
       "  <thead>\n",
       "    <tr style=\"text-align: right;\">\n",
       "      <th></th>\n",
       "      <th>id</th>\n",
       "      <th>call_date</th>\n",
       "      <th>duration</th>\n",
       "      <th>user_id</th>\n",
       "      <th>month</th>\n",
       "    </tr>\n",
       "  </thead>\n",
       "  <tbody>\n",
       "    <tr>\n",
       "      <th>0</th>\n",
       "      <td>1000_0</td>\n",
       "      <td>2018-07-25</td>\n",
       "      <td>0</td>\n",
       "      <td>1000</td>\n",
       "      <td>7</td>\n",
       "    </tr>\n",
       "    <tr>\n",
       "      <th>1</th>\n",
       "      <td>1000_1</td>\n",
       "      <td>2018-08-17</td>\n",
       "      <td>0</td>\n",
       "      <td>1000</td>\n",
       "      <td>8</td>\n",
       "    </tr>\n",
       "    <tr>\n",
       "      <th>2</th>\n",
       "      <td>1000_2</td>\n",
       "      <td>2018-06-11</td>\n",
       "      <td>3</td>\n",
       "      <td>1000</td>\n",
       "      <td>6</td>\n",
       "    </tr>\n",
       "    <tr>\n",
       "      <th>3</th>\n",
       "      <td>1000_3</td>\n",
       "      <td>2018-09-21</td>\n",
       "      <td>14</td>\n",
       "      <td>1000</td>\n",
       "      <td>9</td>\n",
       "    </tr>\n",
       "    <tr>\n",
       "      <th>4</th>\n",
       "      <td>1000_4</td>\n",
       "      <td>2018-12-15</td>\n",
       "      <td>6</td>\n",
       "      <td>1000</td>\n",
       "      <td>12</td>\n",
       "    </tr>\n",
       "  </tbody>\n",
       "</table>\n",
       "</div>"
      ],
      "text/plain": [
       "       id  call_date  duration  user_id  month\n",
       "0  1000_0 2018-07-25         0     1000      7\n",
       "1  1000_1 2018-08-17         0     1000      8\n",
       "2  1000_2 2018-06-11         3     1000      6\n",
       "3  1000_3 2018-09-21        14     1000      9\n",
       "4  1000_4 2018-12-15         6     1000     12"
      ]
     },
     "execution_count": 32,
     "metadata": {},
     "output_type": "execute_result"
    }
   ],
   "source": [
    "calls.head()"
   ]
  },
  {
   "cell_type": "code",
   "execution_count": 33,
   "metadata": {},
   "outputs": [],
   "source": [
    "user_calls = calls.groupby(['user_id', 'month'])\\\n",
    "                  .agg({'duration':'sum', 'id':'count'})\\\n",
    "                  .reset_index()\\\n",
    "                  .rename(columns={'duration':'month_calls_duration','id':'calls_total_in_month'})\n"
   ]
  },
  {
   "cell_type": "code",
   "execution_count": 34,
   "metadata": {},
   "outputs": [
    {
     "data": {
      "text/html": [
       "<div>\n",
       "<style scoped>\n",
       "    .dataframe tbody tr th:only-of-type {\n",
       "        vertical-align: middle;\n",
       "    }\n",
       "\n",
       "    .dataframe tbody tr th {\n",
       "        vertical-align: top;\n",
       "    }\n",
       "\n",
       "    .dataframe thead th {\n",
       "        text-align: right;\n",
       "    }\n",
       "</style>\n",
       "<table border=\"1\" class=\"dataframe\">\n",
       "  <thead>\n",
       "    <tr style=\"text-align: right;\">\n",
       "      <th></th>\n",
       "      <th>user_id</th>\n",
       "      <th>month</th>\n",
       "      <th>month_calls_duration</th>\n",
       "      <th>calls_total_in_month</th>\n",
       "    </tr>\n",
       "  </thead>\n",
       "  <tbody>\n",
       "    <tr>\n",
       "      <th>0</th>\n",
       "      <td>1000</td>\n",
       "      <td>5</td>\n",
       "      <td>159</td>\n",
       "      <td>22</td>\n",
       "    </tr>\n",
       "    <tr>\n",
       "      <th>1</th>\n",
       "      <td>1000</td>\n",
       "      <td>6</td>\n",
       "      <td>172</td>\n",
       "      <td>43</td>\n",
       "    </tr>\n",
       "    <tr>\n",
       "      <th>2</th>\n",
       "      <td>1000</td>\n",
       "      <td>7</td>\n",
       "      <td>340</td>\n",
       "      <td>47</td>\n",
       "    </tr>\n",
       "    <tr>\n",
       "      <th>3</th>\n",
       "      <td>1000</td>\n",
       "      <td>8</td>\n",
       "      <td>408</td>\n",
       "      <td>52</td>\n",
       "    </tr>\n",
       "    <tr>\n",
       "      <th>4</th>\n",
       "      <td>1000</td>\n",
       "      <td>9</td>\n",
       "      <td>466</td>\n",
       "      <td>58</td>\n",
       "    </tr>\n",
       "  </tbody>\n",
       "</table>\n",
       "</div>"
      ],
      "text/plain": [
       "   user_id  month  month_calls_duration  calls_total_in_month\n",
       "0     1000      5                   159                    22\n",
       "1     1000      6                   172                    43\n",
       "2     1000      7                   340                    47\n",
       "3     1000      8                   408                    52\n",
       "4     1000      9                   466                    58"
      ]
     },
     "execution_count": 34,
     "metadata": {},
     "output_type": "execute_result"
    }
   ],
   "source": [
    "user_calls.head()"
   ]
  },
  {
   "cell_type": "markdown",
   "metadata": {},
   "source": [
    "<div class=\"alert alert-success\">\n",
    "<h2> Комментарий ревьюера <a class=\"tocSkip\"> </h2>\n",
    "\n",
    "<b>Все отлично!👍:</b> \n",
    "    \n",
    "Алгоритмически длительность звонков в месяц и их количество рассчитаны верно, однако данные станут корректными после исправления по пропущенным звонкам, о котором писал выше."
   ]
  },
  {
   "cell_type": "markdown",
   "metadata": {},
   "source": [
    "### Количество отправленных сообщений по месяцам"
   ]
  },
  {
   "cell_type": "code",
   "execution_count": 35,
   "metadata": {},
   "outputs": [],
   "source": [
    "messages['month'] = messages['message_date'].dt.month"
   ]
  },
  {
   "cell_type": "code",
   "execution_count": 36,
   "metadata": {},
   "outputs": [
    {
     "data": {
      "text/html": [
       "<div>\n",
       "<style scoped>\n",
       "    .dataframe tbody tr th:only-of-type {\n",
       "        vertical-align: middle;\n",
       "    }\n",
       "\n",
       "    .dataframe tbody tr th {\n",
       "        vertical-align: top;\n",
       "    }\n",
       "\n",
       "    .dataframe thead th {\n",
       "        text-align: right;\n",
       "    }\n",
       "</style>\n",
       "<table border=\"1\" class=\"dataframe\">\n",
       "  <thead>\n",
       "    <tr style=\"text-align: right;\">\n",
       "      <th></th>\n",
       "      <th>id</th>\n",
       "      <th>message_date</th>\n",
       "      <th>user_id</th>\n",
       "      <th>month</th>\n",
       "    </tr>\n",
       "  </thead>\n",
       "  <tbody>\n",
       "    <tr>\n",
       "      <th>0</th>\n",
       "      <td>10000</td>\n",
       "      <td>2018-06-27</td>\n",
       "      <td>1000</td>\n",
       "      <td>6</td>\n",
       "    </tr>\n",
       "    <tr>\n",
       "      <th>1</th>\n",
       "      <td>10001</td>\n",
       "      <td>2018-10-08</td>\n",
       "      <td>1000</td>\n",
       "      <td>10</td>\n",
       "    </tr>\n",
       "    <tr>\n",
       "      <th>2</th>\n",
       "      <td>10002</td>\n",
       "      <td>2018-08-04</td>\n",
       "      <td>1000</td>\n",
       "      <td>8</td>\n",
       "    </tr>\n",
       "    <tr>\n",
       "      <th>3</th>\n",
       "      <td>10003</td>\n",
       "      <td>2018-06-16</td>\n",
       "      <td>1000</td>\n",
       "      <td>6</td>\n",
       "    </tr>\n",
       "    <tr>\n",
       "      <th>4</th>\n",
       "      <td>10004</td>\n",
       "      <td>2018-12-05</td>\n",
       "      <td>1000</td>\n",
       "      <td>12</td>\n",
       "    </tr>\n",
       "  </tbody>\n",
       "</table>\n",
       "</div>"
      ],
      "text/plain": [
       "      id message_date  user_id  month\n",
       "0  10000   2018-06-27     1000      6\n",
       "1  10001   2018-10-08     1000     10\n",
       "2  10002   2018-08-04     1000      8\n",
       "3  10003   2018-06-16     1000      6\n",
       "4  10004   2018-12-05     1000     12"
      ]
     },
     "execution_count": 36,
     "metadata": {},
     "output_type": "execute_result"
    }
   ],
   "source": [
    "messages.head()"
   ]
  },
  {
   "cell_type": "code",
   "execution_count": 37,
   "metadata": {},
   "outputs": [],
   "source": [
    "user_messages = messages.groupby(['user_id', 'month'])\\\n",
    "                        .agg({'id':'count'})\\\n",
    "                        .reset_index()\\\n",
    "                        .rename(columns={'id':'sms_total_in_month'})"
   ]
  },
  {
   "cell_type": "code",
   "execution_count": 38,
   "metadata": {},
   "outputs": [
    {
     "data": {
      "text/html": [
       "<div>\n",
       "<style scoped>\n",
       "    .dataframe tbody tr th:only-of-type {\n",
       "        vertical-align: middle;\n",
       "    }\n",
       "\n",
       "    .dataframe tbody tr th {\n",
       "        vertical-align: top;\n",
       "    }\n",
       "\n",
       "    .dataframe thead th {\n",
       "        text-align: right;\n",
       "    }\n",
       "</style>\n",
       "<table border=\"1\" class=\"dataframe\">\n",
       "  <thead>\n",
       "    <tr style=\"text-align: right;\">\n",
       "      <th></th>\n",
       "      <th>user_id</th>\n",
       "      <th>month</th>\n",
       "      <th>sms_total_in_month</th>\n",
       "    </tr>\n",
       "  </thead>\n",
       "  <tbody>\n",
       "    <tr>\n",
       "      <th>0</th>\n",
       "      <td>1000</td>\n",
       "      <td>5</td>\n",
       "      <td>22</td>\n",
       "    </tr>\n",
       "    <tr>\n",
       "      <th>1</th>\n",
       "      <td>1000</td>\n",
       "      <td>6</td>\n",
       "      <td>60</td>\n",
       "    </tr>\n",
       "    <tr>\n",
       "      <th>2</th>\n",
       "      <td>1000</td>\n",
       "      <td>7</td>\n",
       "      <td>75</td>\n",
       "    </tr>\n",
       "    <tr>\n",
       "      <th>3</th>\n",
       "      <td>1000</td>\n",
       "      <td>8</td>\n",
       "      <td>81</td>\n",
       "    </tr>\n",
       "    <tr>\n",
       "      <th>4</th>\n",
       "      <td>1000</td>\n",
       "      <td>9</td>\n",
       "      <td>57</td>\n",
       "    </tr>\n",
       "  </tbody>\n",
       "</table>\n",
       "</div>"
      ],
      "text/plain": [
       "   user_id  month  sms_total_in_month\n",
       "0     1000      5                  22\n",
       "1     1000      6                  60\n",
       "2     1000      7                  75\n",
       "3     1000      8                  81\n",
       "4     1000      9                  57"
      ]
     },
     "execution_count": 38,
     "metadata": {},
     "output_type": "execute_result"
    }
   ],
   "source": [
    "user_messages.head()"
   ]
  },
  {
   "cell_type": "markdown",
   "metadata": {},
   "source": [
    "<div class=\"alert alert-success\">\n",
    "<h2> Комментарий ревьюера <a class=\"tocSkip\"> </h2>\n",
    "\n",
    "<b>Все отлично!👍:</b> \n",
    "    \n",
    "Количество сообщений в месяц для каждого пользователя рассчитано верно."
   ]
  },
  {
   "cell_type": "markdown",
   "metadata": {},
   "source": [
    "### Объем израсходованного интернет-трафика по месяцам"
   ]
  },
  {
   "cell_type": "code",
   "execution_count": 39,
   "metadata": {},
   "outputs": [],
   "source": [
    "internet['month'] = internet['session_date'].dt.month"
   ]
  },
  {
   "cell_type": "code",
   "execution_count": 40,
   "metadata": {},
   "outputs": [
    {
     "data": {
      "text/html": [
       "<div>\n",
       "<style scoped>\n",
       "    .dataframe tbody tr th:only-of-type {\n",
       "        vertical-align: middle;\n",
       "    }\n",
       "\n",
       "    .dataframe tbody tr th {\n",
       "        vertical-align: top;\n",
       "    }\n",
       "\n",
       "    .dataframe thead th {\n",
       "        text-align: right;\n",
       "    }\n",
       "</style>\n",
       "<table border=\"1\" class=\"dataframe\">\n",
       "  <thead>\n",
       "    <tr style=\"text-align: right;\">\n",
       "      <th></th>\n",
       "      <th>Unnamed: 0</th>\n",
       "      <th>id</th>\n",
       "      <th>mb_used</th>\n",
       "      <th>session_date</th>\n",
       "      <th>user_id</th>\n",
       "      <th>month</th>\n",
       "    </tr>\n",
       "  </thead>\n",
       "  <tbody>\n",
       "    <tr>\n",
       "      <th>0</th>\n",
       "      <td>0</td>\n",
       "      <td>10000</td>\n",
       "      <td>112.95</td>\n",
       "      <td>2018-11-25</td>\n",
       "      <td>1000</td>\n",
       "      <td>11</td>\n",
       "    </tr>\n",
       "    <tr>\n",
       "      <th>1</th>\n",
       "      <td>1</td>\n",
       "      <td>10001</td>\n",
       "      <td>1052.81</td>\n",
       "      <td>2018-09-07</td>\n",
       "      <td>1000</td>\n",
       "      <td>9</td>\n",
       "    </tr>\n",
       "    <tr>\n",
       "      <th>2</th>\n",
       "      <td>2</td>\n",
       "      <td>10002</td>\n",
       "      <td>1197.26</td>\n",
       "      <td>2018-06-25</td>\n",
       "      <td>1000</td>\n",
       "      <td>6</td>\n",
       "    </tr>\n",
       "    <tr>\n",
       "      <th>3</th>\n",
       "      <td>3</td>\n",
       "      <td>10003</td>\n",
       "      <td>550.27</td>\n",
       "      <td>2018-08-22</td>\n",
       "      <td>1000</td>\n",
       "      <td>8</td>\n",
       "    </tr>\n",
       "    <tr>\n",
       "      <th>4</th>\n",
       "      <td>4</td>\n",
       "      <td>10004</td>\n",
       "      <td>302.56</td>\n",
       "      <td>2018-09-24</td>\n",
       "      <td>1000</td>\n",
       "      <td>9</td>\n",
       "    </tr>\n",
       "  </tbody>\n",
       "</table>\n",
       "</div>"
      ],
      "text/plain": [
       "   Unnamed: 0     id  mb_used session_date  user_id  month\n",
       "0           0  10000   112.95   2018-11-25     1000     11\n",
       "1           1  10001  1052.81   2018-09-07     1000      9\n",
       "2           2  10002  1197.26   2018-06-25     1000      6\n",
       "3           3  10003   550.27   2018-08-22     1000      8\n",
       "4           4  10004   302.56   2018-09-24     1000      9"
      ]
     },
     "execution_count": 40,
     "metadata": {},
     "output_type": "execute_result"
    }
   ],
   "source": [
    "internet.head()"
   ]
  },
  {
   "cell_type": "code",
   "execution_count": 41,
   "metadata": {},
   "outputs": [],
   "source": [
    "user_internet = internet.groupby(['user_id', 'month'])\\\n",
    "                        .agg({'mb_used':'sum'})\\\n",
    "                        .reset_index()\\\n",
    "                        .rename(columns={'mb_used':'mb_total_in_month'})"
   ]
  },
  {
   "cell_type": "code",
   "execution_count": 42,
   "metadata": {},
   "outputs": [
    {
     "data": {
      "text/html": [
       "<div>\n",
       "<style scoped>\n",
       "    .dataframe tbody tr th:only-of-type {\n",
       "        vertical-align: middle;\n",
       "    }\n",
       "\n",
       "    .dataframe tbody tr th {\n",
       "        vertical-align: top;\n",
       "    }\n",
       "\n",
       "    .dataframe thead th {\n",
       "        text-align: right;\n",
       "    }\n",
       "</style>\n",
       "<table border=\"1\" class=\"dataframe\">\n",
       "  <thead>\n",
       "    <tr style=\"text-align: right;\">\n",
       "      <th></th>\n",
       "      <th>user_id</th>\n",
       "      <th>month</th>\n",
       "      <th>mb_total_in_month</th>\n",
       "    </tr>\n",
       "  </thead>\n",
       "  <tbody>\n",
       "    <tr>\n",
       "      <th>0</th>\n",
       "      <td>1000</td>\n",
       "      <td>5</td>\n",
       "      <td>2253.49</td>\n",
       "    </tr>\n",
       "    <tr>\n",
       "      <th>1</th>\n",
       "      <td>1000</td>\n",
       "      <td>6</td>\n",
       "      <td>23233.77</td>\n",
       "    </tr>\n",
       "    <tr>\n",
       "      <th>2</th>\n",
       "      <td>1000</td>\n",
       "      <td>7</td>\n",
       "      <td>14003.64</td>\n",
       "    </tr>\n",
       "    <tr>\n",
       "      <th>3</th>\n",
       "      <td>1000</td>\n",
       "      <td>8</td>\n",
       "      <td>14055.93</td>\n",
       "    </tr>\n",
       "    <tr>\n",
       "      <th>4</th>\n",
       "      <td>1000</td>\n",
       "      <td>9</td>\n",
       "      <td>14568.91</td>\n",
       "    </tr>\n",
       "  </tbody>\n",
       "</table>\n",
       "</div>"
      ],
      "text/plain": [
       "   user_id  month  mb_total_in_month\n",
       "0     1000      5            2253.49\n",
       "1     1000      6           23233.77\n",
       "2     1000      7           14003.64\n",
       "3     1000      8           14055.93\n",
       "4     1000      9           14568.91"
      ]
     },
     "execution_count": 42,
     "metadata": {},
     "output_type": "execute_result"
    }
   ],
   "source": [
    "user_internet.head()"
   ]
  },
  {
   "cell_type": "markdown",
   "metadata": {},
   "source": [
    "<div class=\"alert alert-success\">\n",
    "<h2> Комментарий ревьюера <a class=\"tocSkip\"> </h2>\n",
    "\n",
    "<b>Все отлично!👍:</b> \n",
    "    \n",
    "Интернте-траффик в месяц для каждого пользователя рассчитано верно."
   ]
  },
  {
   "cell_type": "markdown",
   "metadata": {},
   "source": [
    "### Помесячную выручку с каждого пользователя"
   ]
  },
  {
   "cell_type": "markdown",
   "metadata": {},
   "source": [
    "Соберём данные в один датафрейм, чтобы было удобнее с ним работать."
   ]
  },
  {
   "cell_type": "code",
   "execution_count": 43,
   "metadata": {},
   "outputs": [],
   "source": [
    "data = user_calls.merge(user_messages, on=['user_id','month'], how='outer')"
   ]
  },
  {
   "cell_type": "code",
   "execution_count": 44,
   "metadata": {},
   "outputs": [
    {
     "data": {
      "text/html": [
       "<div>\n",
       "<style scoped>\n",
       "    .dataframe tbody tr th:only-of-type {\n",
       "        vertical-align: middle;\n",
       "    }\n",
       "\n",
       "    .dataframe tbody tr th {\n",
       "        vertical-align: top;\n",
       "    }\n",
       "\n",
       "    .dataframe thead th {\n",
       "        text-align: right;\n",
       "    }\n",
       "</style>\n",
       "<table border=\"1\" class=\"dataframe\">\n",
       "  <thead>\n",
       "    <tr style=\"text-align: right;\">\n",
       "      <th></th>\n",
       "      <th>user_id</th>\n",
       "      <th>month</th>\n",
       "      <th>month_calls_duration</th>\n",
       "      <th>calls_total_in_month</th>\n",
       "      <th>sms_total_in_month</th>\n",
       "    </tr>\n",
       "  </thead>\n",
       "  <tbody>\n",
       "    <tr>\n",
       "      <th>0</th>\n",
       "      <td>1000</td>\n",
       "      <td>5</td>\n",
       "      <td>159.0</td>\n",
       "      <td>22.0</td>\n",
       "      <td>22.0</td>\n",
       "    </tr>\n",
       "    <tr>\n",
       "      <th>1</th>\n",
       "      <td>1000</td>\n",
       "      <td>6</td>\n",
       "      <td>172.0</td>\n",
       "      <td>43.0</td>\n",
       "      <td>60.0</td>\n",
       "    </tr>\n",
       "    <tr>\n",
       "      <th>2</th>\n",
       "      <td>1000</td>\n",
       "      <td>7</td>\n",
       "      <td>340.0</td>\n",
       "      <td>47.0</td>\n",
       "      <td>75.0</td>\n",
       "    </tr>\n",
       "    <tr>\n",
       "      <th>3</th>\n",
       "      <td>1000</td>\n",
       "      <td>8</td>\n",
       "      <td>408.0</td>\n",
       "      <td>52.0</td>\n",
       "      <td>81.0</td>\n",
       "    </tr>\n",
       "    <tr>\n",
       "      <th>4</th>\n",
       "      <td>1000</td>\n",
       "      <td>9</td>\n",
       "      <td>466.0</td>\n",
       "      <td>58.0</td>\n",
       "      <td>57.0</td>\n",
       "    </tr>\n",
       "  </tbody>\n",
       "</table>\n",
       "</div>"
      ],
      "text/plain": [
       "   user_id  month  month_calls_duration  calls_total_in_month  \\\n",
       "0     1000      5                 159.0                  22.0   \n",
       "1     1000      6                 172.0                  43.0   \n",
       "2     1000      7                 340.0                  47.0   \n",
       "3     1000      8                 408.0                  52.0   \n",
       "4     1000      9                 466.0                  58.0   \n",
       "\n",
       "   sms_total_in_month  \n",
       "0                22.0  \n",
       "1                60.0  \n",
       "2                75.0  \n",
       "3                81.0  \n",
       "4                57.0  "
      ]
     },
     "execution_count": 44,
     "metadata": {},
     "output_type": "execute_result"
    }
   ],
   "source": [
    "data.head()"
   ]
  },
  {
   "cell_type": "code",
   "execution_count": 45,
   "metadata": {},
   "outputs": [],
   "source": [
    "data = data.merge(user_internet, on=['user_id','month'], how = 'outer')"
   ]
  },
  {
   "cell_type": "code",
   "execution_count": 46,
   "metadata": {},
   "outputs": [
    {
     "data": {
      "text/html": [
       "<div>\n",
       "<style scoped>\n",
       "    .dataframe tbody tr th:only-of-type {\n",
       "        vertical-align: middle;\n",
       "    }\n",
       "\n",
       "    .dataframe tbody tr th {\n",
       "        vertical-align: top;\n",
       "    }\n",
       "\n",
       "    .dataframe thead th {\n",
       "        text-align: right;\n",
       "    }\n",
       "</style>\n",
       "<table border=\"1\" class=\"dataframe\">\n",
       "  <thead>\n",
       "    <tr style=\"text-align: right;\">\n",
       "      <th></th>\n",
       "      <th>user_id</th>\n",
       "      <th>month</th>\n",
       "      <th>month_calls_duration</th>\n",
       "      <th>calls_total_in_month</th>\n",
       "      <th>sms_total_in_month</th>\n",
       "      <th>mb_total_in_month</th>\n",
       "    </tr>\n",
       "  </thead>\n",
       "  <tbody>\n",
       "    <tr>\n",
       "      <th>0</th>\n",
       "      <td>1000</td>\n",
       "      <td>5</td>\n",
       "      <td>159.0</td>\n",
       "      <td>22.0</td>\n",
       "      <td>22.0</td>\n",
       "      <td>2253.49</td>\n",
       "    </tr>\n",
       "    <tr>\n",
       "      <th>1</th>\n",
       "      <td>1000</td>\n",
       "      <td>6</td>\n",
       "      <td>172.0</td>\n",
       "      <td>43.0</td>\n",
       "      <td>60.0</td>\n",
       "      <td>23233.77</td>\n",
       "    </tr>\n",
       "    <tr>\n",
       "      <th>2</th>\n",
       "      <td>1000</td>\n",
       "      <td>7</td>\n",
       "      <td>340.0</td>\n",
       "      <td>47.0</td>\n",
       "      <td>75.0</td>\n",
       "      <td>14003.64</td>\n",
       "    </tr>\n",
       "    <tr>\n",
       "      <th>3</th>\n",
       "      <td>1000</td>\n",
       "      <td>8</td>\n",
       "      <td>408.0</td>\n",
       "      <td>52.0</td>\n",
       "      <td>81.0</td>\n",
       "      <td>14055.93</td>\n",
       "    </tr>\n",
       "    <tr>\n",
       "      <th>4</th>\n",
       "      <td>1000</td>\n",
       "      <td>9</td>\n",
       "      <td>466.0</td>\n",
       "      <td>58.0</td>\n",
       "      <td>57.0</td>\n",
       "      <td>14568.91</td>\n",
       "    </tr>\n",
       "  </tbody>\n",
       "</table>\n",
       "</div>"
      ],
      "text/plain": [
       "   user_id  month  month_calls_duration  calls_total_in_month  \\\n",
       "0     1000      5                 159.0                  22.0   \n",
       "1     1000      6                 172.0                  43.0   \n",
       "2     1000      7                 340.0                  47.0   \n",
       "3     1000      8                 408.0                  52.0   \n",
       "4     1000      9                 466.0                  58.0   \n",
       "\n",
       "   sms_total_in_month  mb_total_in_month  \n",
       "0                22.0            2253.49  \n",
       "1                60.0           23233.77  \n",
       "2                75.0           14003.64  \n",
       "3                81.0           14055.93  \n",
       "4                57.0           14568.91  "
      ]
     },
     "execution_count": 46,
     "metadata": {},
     "output_type": "execute_result"
    }
   ],
   "source": [
    "data.head()"
   ]
  },
  {
   "cell_type": "markdown",
   "metadata": {},
   "source": [
    "Уже похоже на полные данные, но не хватает данных по конкретному абоненту и его тарифу. Надо приклеить. Эта даныне есть в таблицах **users** и **tariffs**. Поэтапно присоединим их к нашему датафрейму."
   ]
  },
  {
   "cell_type": "code",
   "execution_count": 47,
   "metadata": {},
   "outputs": [
    {
     "data": {
      "text/html": [
       "<div>\n",
       "<style scoped>\n",
       "    .dataframe tbody tr th:only-of-type {\n",
       "        vertical-align: middle;\n",
       "    }\n",
       "\n",
       "    .dataframe tbody tr th {\n",
       "        vertical-align: top;\n",
       "    }\n",
       "\n",
       "    .dataframe thead th {\n",
       "        text-align: right;\n",
       "    }\n",
       "</style>\n",
       "<table border=\"1\" class=\"dataframe\">\n",
       "  <thead>\n",
       "    <tr style=\"text-align: right;\">\n",
       "      <th></th>\n",
       "      <th>user_id</th>\n",
       "      <th>month</th>\n",
       "      <th>month_calls_duration</th>\n",
       "      <th>calls_total_in_month</th>\n",
       "      <th>sms_total_in_month</th>\n",
       "      <th>mb_total_in_month</th>\n",
       "      <th>age</th>\n",
       "      <th>churn_date</th>\n",
       "      <th>city</th>\n",
       "      <th>first_name</th>\n",
       "      <th>last_name</th>\n",
       "      <th>reg_date</th>\n",
       "      <th>tariff</th>\n",
       "    </tr>\n",
       "  </thead>\n",
       "  <tbody>\n",
       "    <tr>\n",
       "      <th>0</th>\n",
       "      <td>1000</td>\n",
       "      <td>5</td>\n",
       "      <td>159.0</td>\n",
       "      <td>22.0</td>\n",
       "      <td>22.0</td>\n",
       "      <td>2253.49</td>\n",
       "      <td>52</td>\n",
       "      <td>NaT</td>\n",
       "      <td>Краснодар</td>\n",
       "      <td>Рафаил</td>\n",
       "      <td>Верещагин</td>\n",
       "      <td>2018-05-25</td>\n",
       "      <td>ultra</td>\n",
       "    </tr>\n",
       "    <tr>\n",
       "      <th>1</th>\n",
       "      <td>1000</td>\n",
       "      <td>6</td>\n",
       "      <td>172.0</td>\n",
       "      <td>43.0</td>\n",
       "      <td>60.0</td>\n",
       "      <td>23233.77</td>\n",
       "      <td>52</td>\n",
       "      <td>NaT</td>\n",
       "      <td>Краснодар</td>\n",
       "      <td>Рафаил</td>\n",
       "      <td>Верещагин</td>\n",
       "      <td>2018-05-25</td>\n",
       "      <td>ultra</td>\n",
       "    </tr>\n",
       "    <tr>\n",
       "      <th>2</th>\n",
       "      <td>1000</td>\n",
       "      <td>7</td>\n",
       "      <td>340.0</td>\n",
       "      <td>47.0</td>\n",
       "      <td>75.0</td>\n",
       "      <td>14003.64</td>\n",
       "      <td>52</td>\n",
       "      <td>NaT</td>\n",
       "      <td>Краснодар</td>\n",
       "      <td>Рафаил</td>\n",
       "      <td>Верещагин</td>\n",
       "      <td>2018-05-25</td>\n",
       "      <td>ultra</td>\n",
       "    </tr>\n",
       "    <tr>\n",
       "      <th>3</th>\n",
       "      <td>1000</td>\n",
       "      <td>8</td>\n",
       "      <td>408.0</td>\n",
       "      <td>52.0</td>\n",
       "      <td>81.0</td>\n",
       "      <td>14055.93</td>\n",
       "      <td>52</td>\n",
       "      <td>NaT</td>\n",
       "      <td>Краснодар</td>\n",
       "      <td>Рафаил</td>\n",
       "      <td>Верещагин</td>\n",
       "      <td>2018-05-25</td>\n",
       "      <td>ultra</td>\n",
       "    </tr>\n",
       "    <tr>\n",
       "      <th>4</th>\n",
       "      <td>1000</td>\n",
       "      <td>9</td>\n",
       "      <td>466.0</td>\n",
       "      <td>58.0</td>\n",
       "      <td>57.0</td>\n",
       "      <td>14568.91</td>\n",
       "      <td>52</td>\n",
       "      <td>NaT</td>\n",
       "      <td>Краснодар</td>\n",
       "      <td>Рафаил</td>\n",
       "      <td>Верещагин</td>\n",
       "      <td>2018-05-25</td>\n",
       "      <td>ultra</td>\n",
       "    </tr>\n",
       "  </tbody>\n",
       "</table>\n",
       "</div>"
      ],
      "text/plain": [
       "   user_id  month  month_calls_duration  calls_total_in_month  \\\n",
       "0     1000      5                 159.0                  22.0   \n",
       "1     1000      6                 172.0                  43.0   \n",
       "2     1000      7                 340.0                  47.0   \n",
       "3     1000      8                 408.0                  52.0   \n",
       "4     1000      9                 466.0                  58.0   \n",
       "\n",
       "   sms_total_in_month  mb_total_in_month  age churn_date       city  \\\n",
       "0                22.0            2253.49   52        NaT  Краснодар   \n",
       "1                60.0           23233.77   52        NaT  Краснодар   \n",
       "2                75.0           14003.64   52        NaT  Краснодар   \n",
       "3                81.0           14055.93   52        NaT  Краснодар   \n",
       "4                57.0           14568.91   52        NaT  Краснодар   \n",
       "\n",
       "  first_name  last_name   reg_date tariff  \n",
       "0     Рафаил  Верещагин 2018-05-25  ultra  \n",
       "1     Рафаил  Верещагин 2018-05-25  ultra  \n",
       "2     Рафаил  Верещагин 2018-05-25  ultra  \n",
       "3     Рафаил  Верещагин 2018-05-25  ultra  \n",
       "4     Рафаил  Верещагин 2018-05-25  ultra  "
      ]
     },
     "execution_count": 47,
     "metadata": {},
     "output_type": "execute_result"
    }
   ],
   "source": [
    "data = data.merge(users, on='user_id', how='left')\n",
    "data.head()"
   ]
  },
  {
   "cell_type": "code",
   "execution_count": 48,
   "metadata": {},
   "outputs": [
    {
     "data": {
      "text/html": [
       "<div>\n",
       "<style scoped>\n",
       "    .dataframe tbody tr th:only-of-type {\n",
       "        vertical-align: middle;\n",
       "    }\n",
       "\n",
       "    .dataframe tbody tr th {\n",
       "        vertical-align: top;\n",
       "    }\n",
       "\n",
       "    .dataframe thead th {\n",
       "        text-align: right;\n",
       "    }\n",
       "</style>\n",
       "<table border=\"1\" class=\"dataframe\">\n",
       "  <thead>\n",
       "    <tr style=\"text-align: right;\">\n",
       "      <th></th>\n",
       "      <th>user_id</th>\n",
       "      <th>month</th>\n",
       "      <th>month_calls_duration</th>\n",
       "      <th>calls_total_in_month</th>\n",
       "      <th>sms_total_in_month</th>\n",
       "      <th>mb_total_in_month</th>\n",
       "      <th>age</th>\n",
       "      <th>churn_date</th>\n",
       "      <th>city</th>\n",
       "      <th>first_name</th>\n",
       "      <th>last_name</th>\n",
       "      <th>reg_date</th>\n",
       "      <th>tariff</th>\n",
       "      <th>messages_included</th>\n",
       "      <th>mb_per_month_included</th>\n",
       "      <th>minutes_included</th>\n",
       "      <th>rub_monthly_fee</th>\n",
       "      <th>rub_per_gb</th>\n",
       "      <th>rub_per_message</th>\n",
       "      <th>rub_per_minute</th>\n",
       "    </tr>\n",
       "  </thead>\n",
       "  <tbody>\n",
       "    <tr>\n",
       "      <th>0</th>\n",
       "      <td>1000</td>\n",
       "      <td>5</td>\n",
       "      <td>159.0</td>\n",
       "      <td>22.0</td>\n",
       "      <td>22.0</td>\n",
       "      <td>2253.49</td>\n",
       "      <td>52</td>\n",
       "      <td>NaT</td>\n",
       "      <td>Краснодар</td>\n",
       "      <td>Рафаил</td>\n",
       "      <td>Верещагин</td>\n",
       "      <td>2018-05-25</td>\n",
       "      <td>ultra</td>\n",
       "      <td>1000</td>\n",
       "      <td>30720</td>\n",
       "      <td>3000</td>\n",
       "      <td>1950</td>\n",
       "      <td>150</td>\n",
       "      <td>1</td>\n",
       "      <td>1</td>\n",
       "    </tr>\n",
       "    <tr>\n",
       "      <th>1</th>\n",
       "      <td>1000</td>\n",
       "      <td>6</td>\n",
       "      <td>172.0</td>\n",
       "      <td>43.0</td>\n",
       "      <td>60.0</td>\n",
       "      <td>23233.77</td>\n",
       "      <td>52</td>\n",
       "      <td>NaT</td>\n",
       "      <td>Краснодар</td>\n",
       "      <td>Рафаил</td>\n",
       "      <td>Верещагин</td>\n",
       "      <td>2018-05-25</td>\n",
       "      <td>ultra</td>\n",
       "      <td>1000</td>\n",
       "      <td>30720</td>\n",
       "      <td>3000</td>\n",
       "      <td>1950</td>\n",
       "      <td>150</td>\n",
       "      <td>1</td>\n",
       "      <td>1</td>\n",
       "    </tr>\n",
       "    <tr>\n",
       "      <th>2</th>\n",
       "      <td>1000</td>\n",
       "      <td>7</td>\n",
       "      <td>340.0</td>\n",
       "      <td>47.0</td>\n",
       "      <td>75.0</td>\n",
       "      <td>14003.64</td>\n",
       "      <td>52</td>\n",
       "      <td>NaT</td>\n",
       "      <td>Краснодар</td>\n",
       "      <td>Рафаил</td>\n",
       "      <td>Верещагин</td>\n",
       "      <td>2018-05-25</td>\n",
       "      <td>ultra</td>\n",
       "      <td>1000</td>\n",
       "      <td>30720</td>\n",
       "      <td>3000</td>\n",
       "      <td>1950</td>\n",
       "      <td>150</td>\n",
       "      <td>1</td>\n",
       "      <td>1</td>\n",
       "    </tr>\n",
       "    <tr>\n",
       "      <th>3</th>\n",
       "      <td>1000</td>\n",
       "      <td>8</td>\n",
       "      <td>408.0</td>\n",
       "      <td>52.0</td>\n",
       "      <td>81.0</td>\n",
       "      <td>14055.93</td>\n",
       "      <td>52</td>\n",
       "      <td>NaT</td>\n",
       "      <td>Краснодар</td>\n",
       "      <td>Рафаил</td>\n",
       "      <td>Верещагин</td>\n",
       "      <td>2018-05-25</td>\n",
       "      <td>ultra</td>\n",
       "      <td>1000</td>\n",
       "      <td>30720</td>\n",
       "      <td>3000</td>\n",
       "      <td>1950</td>\n",
       "      <td>150</td>\n",
       "      <td>1</td>\n",
       "      <td>1</td>\n",
       "    </tr>\n",
       "    <tr>\n",
       "      <th>4</th>\n",
       "      <td>1000</td>\n",
       "      <td>9</td>\n",
       "      <td>466.0</td>\n",
       "      <td>58.0</td>\n",
       "      <td>57.0</td>\n",
       "      <td>14568.91</td>\n",
       "      <td>52</td>\n",
       "      <td>NaT</td>\n",
       "      <td>Краснодар</td>\n",
       "      <td>Рафаил</td>\n",
       "      <td>Верещагин</td>\n",
       "      <td>2018-05-25</td>\n",
       "      <td>ultra</td>\n",
       "      <td>1000</td>\n",
       "      <td>30720</td>\n",
       "      <td>3000</td>\n",
       "      <td>1950</td>\n",
       "      <td>150</td>\n",
       "      <td>1</td>\n",
       "      <td>1</td>\n",
       "    </tr>\n",
       "  </tbody>\n",
       "</table>\n",
       "</div>"
      ],
      "text/plain": [
       "   user_id  month  month_calls_duration  calls_total_in_month  \\\n",
       "0     1000      5                 159.0                  22.0   \n",
       "1     1000      6                 172.0                  43.0   \n",
       "2     1000      7                 340.0                  47.0   \n",
       "3     1000      8                 408.0                  52.0   \n",
       "4     1000      9                 466.0                  58.0   \n",
       "\n",
       "   sms_total_in_month  mb_total_in_month  age churn_date       city  \\\n",
       "0                22.0            2253.49   52        NaT  Краснодар   \n",
       "1                60.0           23233.77   52        NaT  Краснодар   \n",
       "2                75.0           14003.64   52        NaT  Краснодар   \n",
       "3                81.0           14055.93   52        NaT  Краснодар   \n",
       "4                57.0           14568.91   52        NaT  Краснодар   \n",
       "\n",
       "  first_name  last_name   reg_date tariff  messages_included  \\\n",
       "0     Рафаил  Верещагин 2018-05-25  ultra               1000   \n",
       "1     Рафаил  Верещагин 2018-05-25  ultra               1000   \n",
       "2     Рафаил  Верещагин 2018-05-25  ultra               1000   \n",
       "3     Рафаил  Верещагин 2018-05-25  ultra               1000   \n",
       "4     Рафаил  Верещагин 2018-05-25  ultra               1000   \n",
       "\n",
       "   mb_per_month_included  minutes_included  rub_monthly_fee  rub_per_gb  \\\n",
       "0                  30720              3000             1950         150   \n",
       "1                  30720              3000             1950         150   \n",
       "2                  30720              3000             1950         150   \n",
       "3                  30720              3000             1950         150   \n",
       "4                  30720              3000             1950         150   \n",
       "\n",
       "   rub_per_message  rub_per_minute  \n",
       "0                1               1  \n",
       "1                1               1  \n",
       "2                1               1  \n",
       "3                1               1  \n",
       "4                1               1  "
      ]
     },
     "execution_count": 48,
     "metadata": {},
     "output_type": "execute_result"
    }
   ],
   "source": [
    "data = data.merge(tariffs, on='tariff', how='left')\n",
    "data.head()"
   ]
  },
  {
   "cell_type": "markdown",
   "metadata": {},
   "source": [
    "<div class=\"alert alert-success\">\n",
    "<h2> Комментарий ревьюера <a class=\"tocSkip\"> </h2>\n",
    "\n",
    "<b>Все отлично!👍:</b> \n",
    "    \n",
    "Объединение данных выполнено верно."
   ]
  },
  {
   "cell_type": "markdown",
   "metadata": {},
   "source": [
    "Громоздко, но тут есть все данные для анализа. Можем приступить анализы этого датафрейма как основного объекта для нашей задачи.\n",
    "\n",
    "Для начала посмотрим на нулевые значения."
   ]
  },
  {
   "cell_type": "code",
   "execution_count": 49,
   "metadata": {},
   "outputs": [
    {
     "data": {
      "text/plain": [
       "user_id                     0\n",
       "month                       0\n",
       "month_calls_duration       40\n",
       "calls_total_in_month       40\n",
       "sms_total_in_month        497\n",
       "mb_total_in_month          11\n",
       "age                         0\n",
       "churn_date               3027\n",
       "city                        0\n",
       "first_name                  0\n",
       "last_name                   0\n",
       "reg_date                    0\n",
       "tariff                      0\n",
       "messages_included           0\n",
       "mb_per_month_included       0\n",
       "minutes_included            0\n",
       "rub_monthly_fee             0\n",
       "rub_per_gb                  0\n",
       "rub_per_message             0\n",
       "rub_per_minute              0\n",
       "dtype: int64"
      ]
     },
     "execution_count": 49,
     "metadata": {},
     "output_type": "execute_result"
    }
   ],
   "source": [
    "data.isna().sum()"
   ]
  },
  {
   "cell_type": "markdown",
   "metadata": {},
   "source": [
    "Если есть пустые значения в столбцах с продолжительностью и количеством звонков, количеством смс и объёмом трафика, значит люди не пользовались этой услугой и эти значения можно заменить на нули."
   ]
  },
  {
   "cell_type": "code",
   "execution_count": 50,
   "metadata": {},
   "outputs": [],
   "source": [
    "data['month_calls_duration'] = data['month_calls_duration'].fillna(0)\n",
    "data['calls_total_in_month'] = data['calls_total_in_month'].fillna(0)\n",
    "data['sms_total_in_month'] = data['sms_total_in_month'].fillna(0)\n",
    "data['mb_total_in_month'] = data['mb_total_in_month'].fillna(0)"
   ]
  },
  {
   "cell_type": "code",
   "execution_count": 51,
   "metadata": {},
   "outputs": [
    {
     "data": {
      "text/plain": [
       "user_id                     0\n",
       "month                       0\n",
       "month_calls_duration        0\n",
       "calls_total_in_month        0\n",
       "sms_total_in_month          0\n",
       "mb_total_in_month           0\n",
       "age                         0\n",
       "churn_date               3027\n",
       "city                        0\n",
       "first_name                  0\n",
       "last_name                   0\n",
       "reg_date                    0\n",
       "tariff                      0\n",
       "messages_included           0\n",
       "mb_per_month_included       0\n",
       "minutes_included            0\n",
       "rub_monthly_fee             0\n",
       "rub_per_gb                  0\n",
       "rub_per_message             0\n",
       "rub_per_minute              0\n",
       "dtype: int64"
      ]
     },
     "execution_count": 51,
     "metadata": {},
     "output_type": "execute_result"
    }
   ],
   "source": [
    "data.isna().sum()"
   ]
  },
  {
   "cell_type": "markdown",
   "metadata": {},
   "source": [
    "А есть ли тут дубликаты?"
   ]
  },
  {
   "cell_type": "code",
   "execution_count": 52,
   "metadata": {},
   "outputs": [
    {
     "data": {
      "text/plain": [
       "0"
      ]
     },
     "execution_count": 52,
     "metadata": {},
     "output_type": "execute_result"
    }
   ],
   "source": [
    "data.duplicated().sum()"
   ]
  },
  {
   "cell_type": "markdown",
   "metadata": {},
   "source": [
    "Никогда такого не было и вот опять! Дублей нет. Ну и отлично)\n",
    "\n",
    "Теперь надо посчитать выручку с каждого пользователя. Есть смысл это вынести в отдельную функцию (может пригодиться в дальнейшем)."
   ]
  },
  {
   "cell_type": "code",
   "execution_count": 53,
   "metadata": {},
   "outputs": [],
   "source": [
    "def over_the_tariff(row):\n",
    "    # плата за смс сверх тарифа\n",
    "    sms = (row['sms_total_in_month'] - row['messages_included']) * row['rub_per_message']\n",
    "    # плата за минуты сверх тарифа\n",
    "    minutes = (row['month_calls_duration'] - row['minutes_included']) * row['rub_per_minute']\n",
    "    # плата за интернет сверх тарифа\n",
    "    mbs = np.ceil((row['mb_total_in_month'] - row['mb_per_month_included']) * row['rub_per_gb'] / 1024)\n",
    "    total = 0\n",
    "    for i in [sms, minutes, mbs]:\n",
    "        # Если какое-то из полученных выше значений меньше нуля, значит абонент\n",
    "        # уложился в заложенные в пакете услуги и не платил сверх пакета.\n",
    "        if i > 0:\n",
    "            total += i\n",
    "    return total"
   ]
  },
  {
   "cell_type": "markdown",
   "metadata": {},
   "source": [
    "<div class=\"alert alert-block alert-danger\">\n",
    "<h2> Комментарий ревьюера <a class=\"tocSkip\"></h2>\n",
    "\n",
    "    \n",
    "<b>На доработку🤔:</b>\n",
    "По условию задания, \"Для веб-трафика отдельные сессии не считаются. Вместо этого общая сумма за месяц округляется в бо́льшую сторону. Если абонент использует 1025 мегабайт в этом месяце, с него возьмут плату за 2 гигабайта.\" \n",
    "    \n",
    "Ты используешь `np.floor` для округления, однако он работает не совсем так, как нужно, поскольку по условию нам нужно округление в большую сторону. Какой метод лучше выбрать?\n",
    "    \n",
    "</div>\n",
    "    \n",
    "    \n",
    "Исправил на метод **np.ceil**"
   ]
  },
  {
   "cell_type": "markdown",
   "metadata": {},
   "source": [
    "<div class=\"alert alert-success\">\n",
    "<h2> Комментарий ревьюера v2 <a class=\"tocSkip\"> </h2>\n",
    "\n",
    "👍"
   ]
  },
  {
   "cell_type": "code",
   "execution_count": 54,
   "metadata": {},
   "outputs": [
    {
     "data": {
      "text/html": [
       "<div>\n",
       "<style scoped>\n",
       "    .dataframe tbody tr th:only-of-type {\n",
       "        vertical-align: middle;\n",
       "    }\n",
       "\n",
       "    .dataframe tbody tr th {\n",
       "        vertical-align: top;\n",
       "    }\n",
       "\n",
       "    .dataframe thead th {\n",
       "        text-align: right;\n",
       "    }\n",
       "</style>\n",
       "<table border=\"1\" class=\"dataframe\">\n",
       "  <thead>\n",
       "    <tr style=\"text-align: right;\">\n",
       "      <th></th>\n",
       "      <th>user_id</th>\n",
       "      <th>month</th>\n",
       "      <th>month_calls_duration</th>\n",
       "      <th>calls_total_in_month</th>\n",
       "      <th>sms_total_in_month</th>\n",
       "      <th>mb_total_in_month</th>\n",
       "      <th>age</th>\n",
       "      <th>churn_date</th>\n",
       "      <th>city</th>\n",
       "      <th>first_name</th>\n",
       "      <th>last_name</th>\n",
       "      <th>reg_date</th>\n",
       "      <th>tariff</th>\n",
       "      <th>messages_included</th>\n",
       "      <th>mb_per_month_included</th>\n",
       "      <th>minutes_included</th>\n",
       "      <th>rub_monthly_fee</th>\n",
       "      <th>rub_per_gb</th>\n",
       "      <th>rub_per_message</th>\n",
       "      <th>rub_per_minute</th>\n",
       "    </tr>\n",
       "  </thead>\n",
       "  <tbody>\n",
       "    <tr>\n",
       "      <th>0</th>\n",
       "      <td>1000</td>\n",
       "      <td>5</td>\n",
       "      <td>159.0</td>\n",
       "      <td>22.0</td>\n",
       "      <td>22.0</td>\n",
       "      <td>2253.49</td>\n",
       "      <td>52</td>\n",
       "      <td>NaT</td>\n",
       "      <td>Краснодар</td>\n",
       "      <td>Рафаил</td>\n",
       "      <td>Верещагин</td>\n",
       "      <td>2018-05-25</td>\n",
       "      <td>ultra</td>\n",
       "      <td>1000</td>\n",
       "      <td>30720</td>\n",
       "      <td>3000</td>\n",
       "      <td>1950</td>\n",
       "      <td>150</td>\n",
       "      <td>1</td>\n",
       "      <td>1</td>\n",
       "    </tr>\n",
       "    <tr>\n",
       "      <th>1</th>\n",
       "      <td>1000</td>\n",
       "      <td>6</td>\n",
       "      <td>172.0</td>\n",
       "      <td>43.0</td>\n",
       "      <td>60.0</td>\n",
       "      <td>23233.77</td>\n",
       "      <td>52</td>\n",
       "      <td>NaT</td>\n",
       "      <td>Краснодар</td>\n",
       "      <td>Рафаил</td>\n",
       "      <td>Верещагин</td>\n",
       "      <td>2018-05-25</td>\n",
       "      <td>ultra</td>\n",
       "      <td>1000</td>\n",
       "      <td>30720</td>\n",
       "      <td>3000</td>\n",
       "      <td>1950</td>\n",
       "      <td>150</td>\n",
       "      <td>1</td>\n",
       "      <td>1</td>\n",
       "    </tr>\n",
       "    <tr>\n",
       "      <th>2</th>\n",
       "      <td>1000</td>\n",
       "      <td>7</td>\n",
       "      <td>340.0</td>\n",
       "      <td>47.0</td>\n",
       "      <td>75.0</td>\n",
       "      <td>14003.64</td>\n",
       "      <td>52</td>\n",
       "      <td>NaT</td>\n",
       "      <td>Краснодар</td>\n",
       "      <td>Рафаил</td>\n",
       "      <td>Верещагин</td>\n",
       "      <td>2018-05-25</td>\n",
       "      <td>ultra</td>\n",
       "      <td>1000</td>\n",
       "      <td>30720</td>\n",
       "      <td>3000</td>\n",
       "      <td>1950</td>\n",
       "      <td>150</td>\n",
       "      <td>1</td>\n",
       "      <td>1</td>\n",
       "    </tr>\n",
       "    <tr>\n",
       "      <th>3</th>\n",
       "      <td>1000</td>\n",
       "      <td>8</td>\n",
       "      <td>408.0</td>\n",
       "      <td>52.0</td>\n",
       "      <td>81.0</td>\n",
       "      <td>14055.93</td>\n",
       "      <td>52</td>\n",
       "      <td>NaT</td>\n",
       "      <td>Краснодар</td>\n",
       "      <td>Рафаил</td>\n",
       "      <td>Верещагин</td>\n",
       "      <td>2018-05-25</td>\n",
       "      <td>ultra</td>\n",
       "      <td>1000</td>\n",
       "      <td>30720</td>\n",
       "      <td>3000</td>\n",
       "      <td>1950</td>\n",
       "      <td>150</td>\n",
       "      <td>1</td>\n",
       "      <td>1</td>\n",
       "    </tr>\n",
       "    <tr>\n",
       "      <th>4</th>\n",
       "      <td>1000</td>\n",
       "      <td>9</td>\n",
       "      <td>466.0</td>\n",
       "      <td>58.0</td>\n",
       "      <td>57.0</td>\n",
       "      <td>14568.91</td>\n",
       "      <td>52</td>\n",
       "      <td>NaT</td>\n",
       "      <td>Краснодар</td>\n",
       "      <td>Рафаил</td>\n",
       "      <td>Верещагин</td>\n",
       "      <td>2018-05-25</td>\n",
       "      <td>ultra</td>\n",
       "      <td>1000</td>\n",
       "      <td>30720</td>\n",
       "      <td>3000</td>\n",
       "      <td>1950</td>\n",
       "      <td>150</td>\n",
       "      <td>1</td>\n",
       "      <td>1</td>\n",
       "    </tr>\n",
       "  </tbody>\n",
       "</table>\n",
       "</div>"
      ],
      "text/plain": [
       "   user_id  month  month_calls_duration  calls_total_in_month  \\\n",
       "0     1000      5                 159.0                  22.0   \n",
       "1     1000      6                 172.0                  43.0   \n",
       "2     1000      7                 340.0                  47.0   \n",
       "3     1000      8                 408.0                  52.0   \n",
       "4     1000      9                 466.0                  58.0   \n",
       "\n",
       "   sms_total_in_month  mb_total_in_month  age churn_date       city  \\\n",
       "0                22.0            2253.49   52        NaT  Краснодар   \n",
       "1                60.0           23233.77   52        NaT  Краснодар   \n",
       "2                75.0           14003.64   52        NaT  Краснодар   \n",
       "3                81.0           14055.93   52        NaT  Краснодар   \n",
       "4                57.0           14568.91   52        NaT  Краснодар   \n",
       "\n",
       "  first_name  last_name   reg_date tariff  messages_included  \\\n",
       "0     Рафаил  Верещагин 2018-05-25  ultra               1000   \n",
       "1     Рафаил  Верещагин 2018-05-25  ultra               1000   \n",
       "2     Рафаил  Верещагин 2018-05-25  ultra               1000   \n",
       "3     Рафаил  Верещагин 2018-05-25  ultra               1000   \n",
       "4     Рафаил  Верещагин 2018-05-25  ultra               1000   \n",
       "\n",
       "   mb_per_month_included  minutes_included  rub_monthly_fee  rub_per_gb  \\\n",
       "0                  30720              3000             1950         150   \n",
       "1                  30720              3000             1950         150   \n",
       "2                  30720              3000             1950         150   \n",
       "3                  30720              3000             1950         150   \n",
       "4                  30720              3000             1950         150   \n",
       "\n",
       "   rub_per_message  rub_per_minute  \n",
       "0                1               1  \n",
       "1                1               1  \n",
       "2                1               1  \n",
       "3                1               1  \n",
       "4                1               1  "
      ]
     },
     "execution_count": 54,
     "metadata": {},
     "output_type": "execute_result"
    }
   ],
   "source": [
    "data.head()"
   ]
  },
  {
   "cell_type": "markdown",
   "metadata": {},
   "source": [
    "Добавим столбец с переплатой по тарифу."
   ]
  },
  {
   "cell_type": "code",
   "execution_count": 55,
   "metadata": {},
   "outputs": [],
   "source": [
    "data['over_the_tariff'] = data.apply(lambda x: over_the_tariff(x), axis=1)"
   ]
  },
  {
   "cell_type": "code",
   "execution_count": 56,
   "metadata": {},
   "outputs": [
    {
     "data": {
      "text/html": [
       "<div>\n",
       "<style scoped>\n",
       "    .dataframe tbody tr th:only-of-type {\n",
       "        vertical-align: middle;\n",
       "    }\n",
       "\n",
       "    .dataframe tbody tr th {\n",
       "        vertical-align: top;\n",
       "    }\n",
       "\n",
       "    .dataframe thead th {\n",
       "        text-align: right;\n",
       "    }\n",
       "</style>\n",
       "<table border=\"1\" class=\"dataframe\">\n",
       "  <thead>\n",
       "    <tr style=\"text-align: right;\">\n",
       "      <th></th>\n",
       "      <th>user_id</th>\n",
       "      <th>month</th>\n",
       "      <th>month_calls_duration</th>\n",
       "      <th>calls_total_in_month</th>\n",
       "      <th>sms_total_in_month</th>\n",
       "      <th>mb_total_in_month</th>\n",
       "      <th>age</th>\n",
       "      <th>churn_date</th>\n",
       "      <th>city</th>\n",
       "      <th>first_name</th>\n",
       "      <th>...</th>\n",
       "      <th>reg_date</th>\n",
       "      <th>tariff</th>\n",
       "      <th>messages_included</th>\n",
       "      <th>mb_per_month_included</th>\n",
       "      <th>minutes_included</th>\n",
       "      <th>rub_monthly_fee</th>\n",
       "      <th>rub_per_gb</th>\n",
       "      <th>rub_per_message</th>\n",
       "      <th>rub_per_minute</th>\n",
       "      <th>over_the_tariff</th>\n",
       "    </tr>\n",
       "  </thead>\n",
       "  <tbody>\n",
       "    <tr>\n",
       "      <th>3209</th>\n",
       "      <td>1489</td>\n",
       "      <td>9</td>\n",
       "      <td>0.0</td>\n",
       "      <td>0.0</td>\n",
       "      <td>32.0</td>\n",
       "      <td>17206.30</td>\n",
       "      <td>35</td>\n",
       "      <td>NaT</td>\n",
       "      <td>Санкт-Петербург</td>\n",
       "      <td>Павел</td>\n",
       "      <td>...</td>\n",
       "      <td>2018-08-15</td>\n",
       "      <td>smart</td>\n",
       "      <td>50</td>\n",
       "      <td>15360</td>\n",
       "      <td>500</td>\n",
       "      <td>550</td>\n",
       "      <td>200</td>\n",
       "      <td>3</td>\n",
       "      <td>3</td>\n",
       "      <td>361.0</td>\n",
       "    </tr>\n",
       "    <tr>\n",
       "      <th>3210</th>\n",
       "      <td>1489</td>\n",
       "      <td>10</td>\n",
       "      <td>0.0</td>\n",
       "      <td>0.0</td>\n",
       "      <td>21.0</td>\n",
       "      <td>19559.44</td>\n",
       "      <td>35</td>\n",
       "      <td>NaT</td>\n",
       "      <td>Санкт-Петербург</td>\n",
       "      <td>Павел</td>\n",
       "      <td>...</td>\n",
       "      <td>2018-08-15</td>\n",
       "      <td>smart</td>\n",
       "      <td>50</td>\n",
       "      <td>15360</td>\n",
       "      <td>500</td>\n",
       "      <td>550</td>\n",
       "      <td>200</td>\n",
       "      <td>3</td>\n",
       "      <td>3</td>\n",
       "      <td>821.0</td>\n",
       "    </tr>\n",
       "    <tr>\n",
       "      <th>3211</th>\n",
       "      <td>1489</td>\n",
       "      <td>11</td>\n",
       "      <td>0.0</td>\n",
       "      <td>0.0</td>\n",
       "      <td>20.0</td>\n",
       "      <td>17491.56</td>\n",
       "      <td>35</td>\n",
       "      <td>NaT</td>\n",
       "      <td>Санкт-Петербург</td>\n",
       "      <td>Павел</td>\n",
       "      <td>...</td>\n",
       "      <td>2018-08-15</td>\n",
       "      <td>smart</td>\n",
       "      <td>50</td>\n",
       "      <td>15360</td>\n",
       "      <td>500</td>\n",
       "      <td>550</td>\n",
       "      <td>200</td>\n",
       "      <td>3</td>\n",
       "      <td>3</td>\n",
       "      <td>417.0</td>\n",
       "    </tr>\n",
       "    <tr>\n",
       "      <th>3212</th>\n",
       "      <td>1489</td>\n",
       "      <td>12</td>\n",
       "      <td>0.0</td>\n",
       "      <td>0.0</td>\n",
       "      <td>35.0</td>\n",
       "      <td>17322.51</td>\n",
       "      <td>35</td>\n",
       "      <td>NaT</td>\n",
       "      <td>Санкт-Петербург</td>\n",
       "      <td>Павел</td>\n",
       "      <td>...</td>\n",
       "      <td>2018-08-15</td>\n",
       "      <td>smart</td>\n",
       "      <td>50</td>\n",
       "      <td>15360</td>\n",
       "      <td>500</td>\n",
       "      <td>550</td>\n",
       "      <td>200</td>\n",
       "      <td>3</td>\n",
       "      <td>3</td>\n",
       "      <td>384.0</td>\n",
       "    </tr>\n",
       "    <tr>\n",
       "      <th>3213</th>\n",
       "      <td>1476</td>\n",
       "      <td>4</td>\n",
       "      <td>0.0</td>\n",
       "      <td>0.0</td>\n",
       "      <td>0.0</td>\n",
       "      <td>530.78</td>\n",
       "      <td>50</td>\n",
       "      <td>NaT</td>\n",
       "      <td>Москва</td>\n",
       "      <td>Валентина</td>\n",
       "      <td>...</td>\n",
       "      <td>2018-04-30</td>\n",
       "      <td>ultra</td>\n",
       "      <td>1000</td>\n",
       "      <td>30720</td>\n",
       "      <td>3000</td>\n",
       "      <td>1950</td>\n",
       "      <td>150</td>\n",
       "      <td>1</td>\n",
       "      <td>1</td>\n",
       "      <td>0.0</td>\n",
       "    </tr>\n",
       "  </tbody>\n",
       "</table>\n",
       "<p>5 rows × 21 columns</p>\n",
       "</div>"
      ],
      "text/plain": [
       "      user_id  month  month_calls_duration  calls_total_in_month  \\\n",
       "3209     1489      9                   0.0                   0.0   \n",
       "3210     1489     10                   0.0                   0.0   \n",
       "3211     1489     11                   0.0                   0.0   \n",
       "3212     1489     12                   0.0                   0.0   \n",
       "3213     1476      4                   0.0                   0.0   \n",
       "\n",
       "      sms_total_in_month  mb_total_in_month  age churn_date             city  \\\n",
       "3209                32.0           17206.30   35        NaT  Санкт-Петербург   \n",
       "3210                21.0           19559.44   35        NaT  Санкт-Петербург   \n",
       "3211                20.0           17491.56   35        NaT  Санкт-Петербург   \n",
       "3212                35.0           17322.51   35        NaT  Санкт-Петербург   \n",
       "3213                 0.0             530.78   50        NaT           Москва   \n",
       "\n",
       "     first_name  ...   reg_date tariff messages_included  \\\n",
       "3209      Павел  ... 2018-08-15  smart                50   \n",
       "3210      Павел  ... 2018-08-15  smart                50   \n",
       "3211      Павел  ... 2018-08-15  smart                50   \n",
       "3212      Павел  ... 2018-08-15  smart                50   \n",
       "3213  Валентина  ... 2018-04-30  ultra              1000   \n",
       "\n",
       "      mb_per_month_included  minutes_included  rub_monthly_fee  rub_per_gb  \\\n",
       "3209                  15360               500              550         200   \n",
       "3210                  15360               500              550         200   \n",
       "3211                  15360               500              550         200   \n",
       "3212                  15360               500              550         200   \n",
       "3213                  30720              3000             1950         150   \n",
       "\n",
       "      rub_per_message  rub_per_minute  over_the_tariff  \n",
       "3209                3               3            361.0  \n",
       "3210                3               3            821.0  \n",
       "3211                3               3            417.0  \n",
       "3212                3               3            384.0  \n",
       "3213                1               1              0.0  \n",
       "\n",
       "[5 rows x 21 columns]"
      ]
     },
     "execution_count": 56,
     "metadata": {},
     "output_type": "execute_result"
    }
   ],
   "source": [
    "data.tail()"
   ]
  },
  {
   "cell_type": "markdown",
   "metadata": {},
   "source": [
    "А теперь посчитаем общие затраты в месяц"
   ]
  },
  {
   "cell_type": "code",
   "execution_count": 57,
   "metadata": {},
   "outputs": [],
   "source": [
    "data['total_paid'] = data['rub_monthly_fee'] + data['over_the_tariff']"
   ]
  },
  {
   "cell_type": "code",
   "execution_count": 58,
   "metadata": {},
   "outputs": [
    {
     "data": {
      "text/html": [
       "<div>\n",
       "<style scoped>\n",
       "    .dataframe tbody tr th:only-of-type {\n",
       "        vertical-align: middle;\n",
       "    }\n",
       "\n",
       "    .dataframe tbody tr th {\n",
       "        vertical-align: top;\n",
       "    }\n",
       "\n",
       "    .dataframe thead th {\n",
       "        text-align: right;\n",
       "    }\n",
       "</style>\n",
       "<table border=\"1\" class=\"dataframe\">\n",
       "  <thead>\n",
       "    <tr style=\"text-align: right;\">\n",
       "      <th></th>\n",
       "      <th>user_id</th>\n",
       "      <th>month</th>\n",
       "      <th>month_calls_duration</th>\n",
       "      <th>calls_total_in_month</th>\n",
       "      <th>sms_total_in_month</th>\n",
       "      <th>mb_total_in_month</th>\n",
       "      <th>age</th>\n",
       "      <th>churn_date</th>\n",
       "      <th>city</th>\n",
       "      <th>first_name</th>\n",
       "      <th>...</th>\n",
       "      <th>tariff</th>\n",
       "      <th>messages_included</th>\n",
       "      <th>mb_per_month_included</th>\n",
       "      <th>minutes_included</th>\n",
       "      <th>rub_monthly_fee</th>\n",
       "      <th>rub_per_gb</th>\n",
       "      <th>rub_per_message</th>\n",
       "      <th>rub_per_minute</th>\n",
       "      <th>over_the_tariff</th>\n",
       "      <th>total_paid</th>\n",
       "    </tr>\n",
       "  </thead>\n",
       "  <tbody>\n",
       "    <tr>\n",
       "      <th>3209</th>\n",
       "      <td>1489</td>\n",
       "      <td>9</td>\n",
       "      <td>0.0</td>\n",
       "      <td>0.0</td>\n",
       "      <td>32.0</td>\n",
       "      <td>17206.30</td>\n",
       "      <td>35</td>\n",
       "      <td>NaT</td>\n",
       "      <td>Санкт-Петербург</td>\n",
       "      <td>Павел</td>\n",
       "      <td>...</td>\n",
       "      <td>smart</td>\n",
       "      <td>50</td>\n",
       "      <td>15360</td>\n",
       "      <td>500</td>\n",
       "      <td>550</td>\n",
       "      <td>200</td>\n",
       "      <td>3</td>\n",
       "      <td>3</td>\n",
       "      <td>361.0</td>\n",
       "      <td>911.0</td>\n",
       "    </tr>\n",
       "    <tr>\n",
       "      <th>3210</th>\n",
       "      <td>1489</td>\n",
       "      <td>10</td>\n",
       "      <td>0.0</td>\n",
       "      <td>0.0</td>\n",
       "      <td>21.0</td>\n",
       "      <td>19559.44</td>\n",
       "      <td>35</td>\n",
       "      <td>NaT</td>\n",
       "      <td>Санкт-Петербург</td>\n",
       "      <td>Павел</td>\n",
       "      <td>...</td>\n",
       "      <td>smart</td>\n",
       "      <td>50</td>\n",
       "      <td>15360</td>\n",
       "      <td>500</td>\n",
       "      <td>550</td>\n",
       "      <td>200</td>\n",
       "      <td>3</td>\n",
       "      <td>3</td>\n",
       "      <td>821.0</td>\n",
       "      <td>1371.0</td>\n",
       "    </tr>\n",
       "    <tr>\n",
       "      <th>3211</th>\n",
       "      <td>1489</td>\n",
       "      <td>11</td>\n",
       "      <td>0.0</td>\n",
       "      <td>0.0</td>\n",
       "      <td>20.0</td>\n",
       "      <td>17491.56</td>\n",
       "      <td>35</td>\n",
       "      <td>NaT</td>\n",
       "      <td>Санкт-Петербург</td>\n",
       "      <td>Павел</td>\n",
       "      <td>...</td>\n",
       "      <td>smart</td>\n",
       "      <td>50</td>\n",
       "      <td>15360</td>\n",
       "      <td>500</td>\n",
       "      <td>550</td>\n",
       "      <td>200</td>\n",
       "      <td>3</td>\n",
       "      <td>3</td>\n",
       "      <td>417.0</td>\n",
       "      <td>967.0</td>\n",
       "    </tr>\n",
       "    <tr>\n",
       "      <th>3212</th>\n",
       "      <td>1489</td>\n",
       "      <td>12</td>\n",
       "      <td>0.0</td>\n",
       "      <td>0.0</td>\n",
       "      <td>35.0</td>\n",
       "      <td>17322.51</td>\n",
       "      <td>35</td>\n",
       "      <td>NaT</td>\n",
       "      <td>Санкт-Петербург</td>\n",
       "      <td>Павел</td>\n",
       "      <td>...</td>\n",
       "      <td>smart</td>\n",
       "      <td>50</td>\n",
       "      <td>15360</td>\n",
       "      <td>500</td>\n",
       "      <td>550</td>\n",
       "      <td>200</td>\n",
       "      <td>3</td>\n",
       "      <td>3</td>\n",
       "      <td>384.0</td>\n",
       "      <td>934.0</td>\n",
       "    </tr>\n",
       "    <tr>\n",
       "      <th>3213</th>\n",
       "      <td>1476</td>\n",
       "      <td>4</td>\n",
       "      <td>0.0</td>\n",
       "      <td>0.0</td>\n",
       "      <td>0.0</td>\n",
       "      <td>530.78</td>\n",
       "      <td>50</td>\n",
       "      <td>NaT</td>\n",
       "      <td>Москва</td>\n",
       "      <td>Валентина</td>\n",
       "      <td>...</td>\n",
       "      <td>ultra</td>\n",
       "      <td>1000</td>\n",
       "      <td>30720</td>\n",
       "      <td>3000</td>\n",
       "      <td>1950</td>\n",
       "      <td>150</td>\n",
       "      <td>1</td>\n",
       "      <td>1</td>\n",
       "      <td>0.0</td>\n",
       "      <td>1950.0</td>\n",
       "    </tr>\n",
       "  </tbody>\n",
       "</table>\n",
       "<p>5 rows × 22 columns</p>\n",
       "</div>"
      ],
      "text/plain": [
       "      user_id  month  month_calls_duration  calls_total_in_month  \\\n",
       "3209     1489      9                   0.0                   0.0   \n",
       "3210     1489     10                   0.0                   0.0   \n",
       "3211     1489     11                   0.0                   0.0   \n",
       "3212     1489     12                   0.0                   0.0   \n",
       "3213     1476      4                   0.0                   0.0   \n",
       "\n",
       "      sms_total_in_month  mb_total_in_month  age churn_date             city  \\\n",
       "3209                32.0           17206.30   35        NaT  Санкт-Петербург   \n",
       "3210                21.0           19559.44   35        NaT  Санкт-Петербург   \n",
       "3211                20.0           17491.56   35        NaT  Санкт-Петербург   \n",
       "3212                35.0           17322.51   35        NaT  Санкт-Петербург   \n",
       "3213                 0.0             530.78   50        NaT           Москва   \n",
       "\n",
       "     first_name  ... tariff messages_included mb_per_month_included  \\\n",
       "3209      Павел  ...  smart                50                 15360   \n",
       "3210      Павел  ...  smart                50                 15360   \n",
       "3211      Павел  ...  smart                50                 15360   \n",
       "3212      Павел  ...  smart                50                 15360   \n",
       "3213  Валентина  ...  ultra              1000                 30720   \n",
       "\n",
       "      minutes_included  rub_monthly_fee  rub_per_gb  rub_per_message  \\\n",
       "3209               500              550         200                3   \n",
       "3210               500              550         200                3   \n",
       "3211               500              550         200                3   \n",
       "3212               500              550         200                3   \n",
       "3213              3000             1950         150                1   \n",
       "\n",
       "      rub_per_minute  over_the_tariff  total_paid  \n",
       "3209               3            361.0       911.0  \n",
       "3210               3            821.0      1371.0  \n",
       "3211               3            417.0       967.0  \n",
       "3212               3            384.0       934.0  \n",
       "3213               1              0.0      1950.0  \n",
       "\n",
       "[5 rows x 22 columns]"
      ]
     },
     "execution_count": 58,
     "metadata": {},
     "output_type": "execute_result"
    }
   ],
   "source": [
    "data.tail()"
   ]
  },
  {
   "cell_type": "markdown",
   "metadata": {},
   "source": [
    "А теперь начинается самое интересное!"
   ]
  },
  {
   "cell_type": "markdown",
   "metadata": {},
   "source": [
    "<div class=\"alert alert-success\">\n",
    "<h2> Комментарий ревьюера <a class=\"tocSkip\"> </h2>\n",
    "\n",
    "<b>Все отлично!👍:</b> \n",
    "    \n",
    "Алгоритмически расчет выручки с каждого пользователя выполнен верно! Численные значения станут корректными после исправлений, которые я упоминал выше."
   ]
  },
  {
   "cell_type": "markdown",
   "metadata": {},
   "source": [
    "## Анализ данных"
   ]
  },
  {
   "cell_type": "markdown",
   "metadata": {},
   "source": [
    "- Описать поведение клиентов оператора, исходя из выборки.\n",
    "- Вычислить сколько минут разговора, сколько сообщений и какой объём интернет-трафика требуется пользователям каждого тарифа в месяц.\n",
    "- Посчитать среднее количество, дисперсию и стандартное отклонение. Постройте гистограммы. Описать распределения.\n"
   ]
  },
  {
   "cell_type": "markdown",
   "metadata": {},
   "source": [
    "### Поведение клиентов"
   ]
  },
  {
   "cell_type": "code",
   "execution_count": 59,
   "metadata": {},
   "outputs": [
    {
     "data": {
      "text/html": [
       "<div>\n",
       "<style scoped>\n",
       "    .dataframe tbody tr th:only-of-type {\n",
       "        vertical-align: middle;\n",
       "    }\n",
       "\n",
       "    .dataframe tbody tr th {\n",
       "        vertical-align: top;\n",
       "    }\n",
       "\n",
       "    .dataframe thead th {\n",
       "        text-align: right;\n",
       "    }\n",
       "</style>\n",
       "<table border=\"1\" class=\"dataframe\">\n",
       "  <thead>\n",
       "    <tr style=\"text-align: right;\">\n",
       "      <th></th>\n",
       "      <th>over_the_tariff</th>\n",
       "      <th>total_paid</th>\n",
       "    </tr>\n",
       "  </thead>\n",
       "  <tbody>\n",
       "    <tr>\n",
       "      <th>count</th>\n",
       "      <td>3214.000000</td>\n",
       "      <td>3214.000000</td>\n",
       "    </tr>\n",
       "    <tr>\n",
       "      <th>mean</th>\n",
       "      <td>505.805538</td>\n",
       "      <td>1484.865899</td>\n",
       "    </tr>\n",
       "    <tr>\n",
       "      <th>std</th>\n",
       "      <td>732.212483</td>\n",
       "      <td>782.973144</td>\n",
       "    </tr>\n",
       "    <tr>\n",
       "      <th>min</th>\n",
       "      <td>0.000000</td>\n",
       "      <td>550.000000</td>\n",
       "    </tr>\n",
       "    <tr>\n",
       "      <th>25%</th>\n",
       "      <td>0.000000</td>\n",
       "      <td>692.250000</td>\n",
       "    </tr>\n",
       "    <tr>\n",
       "      <th>50%</th>\n",
       "      <td>105.000000</td>\n",
       "      <td>1558.500000</td>\n",
       "    </tr>\n",
       "    <tr>\n",
       "      <th>75%</th>\n",
       "      <td>836.000000</td>\n",
       "      <td>1950.000000</td>\n",
       "    </tr>\n",
       "    <tr>\n",
       "      <th>max</th>\n",
       "      <td>6150.000000</td>\n",
       "      <td>6700.000000</td>\n",
       "    </tr>\n",
       "  </tbody>\n",
       "</table>\n",
       "</div>"
      ],
      "text/plain": [
       "       over_the_tariff   total_paid\n",
       "count      3214.000000  3214.000000\n",
       "mean        505.805538  1484.865899\n",
       "std         732.212483   782.973144\n",
       "min           0.000000   550.000000\n",
       "25%           0.000000   692.250000\n",
       "50%         105.000000  1558.500000\n",
       "75%         836.000000  1950.000000\n",
       "max        6150.000000  6700.000000"
      ]
     },
     "execution_count": 59,
     "metadata": {},
     "output_type": "execute_result"
    }
   ],
   "source": [
    "data[['over_the_tariff', 'total_paid']].describe()"
   ]
  },
  {
   "cell_type": "markdown",
   "metadata": {},
   "source": [
    "Видим значительное количество (не меньше 25%) абонентов, итоговые расходы которых не превышают стоимости тарифа. Посмотрим распределение по тарифам."
   ]
  },
  {
   "cell_type": "code",
   "execution_count": 60,
   "metadata": {},
   "outputs": [
    {
     "data": {
      "text/plain": [
       "smart    2229\n",
       "ultra     985\n",
       "Name: tariff, dtype: int64"
      ]
     },
     "execution_count": 60,
     "metadata": {},
     "output_type": "execute_result"
    }
   ],
   "source": [
    "data['tariff'].value_counts()"
   ]
  },
  {
   "cell_type": "code",
   "execution_count": 61,
   "metadata": {},
   "outputs": [
    {
     "data": {
      "text/plain": [
       "(0.0, 7000.0)"
      ]
     },
     "execution_count": 61,
     "metadata": {},
     "output_type": "execute_result"
    },
    {
     "data": {
      "image/png": "[encoded data removed]",
      "text/plain": [
       "<Figure size 720x720 with 1 Axes>"
      ]
     },
     "metadata": {
      "needs_background": "light"
     },
     "output_type": "display_data"
    }
   ],
   "source": [
    "data.boxplot('total_paid', by='tariff', figsize=(10,10)).set_ylim(0,7000)"
   ]
  },
  {
   "cell_type": "markdown",
   "metadata": {},
   "source": [
    "По тарифу Smart вроде бы понятно, что большая часть итоговых трат примерно в районе 1000 рублей. А вот с трактовкой данных по тарифу Ultra сложнее. Имеет смысл построить гистограммы."
   ]
  },
  {
   "cell_type": "code",
   "execution_count": 62,
   "metadata": {},
   "outputs": [
    {
     "data": {
      "text/plain": [
       "<AxesSubplot:ylabel='Frequency'>"
      ]
     },
     "execution_count": 62,
     "metadata": {},
     "output_type": "execute_result"
    },
    {
     "data": {
      "image/png": "[encoded data removed]",
      "text/plain": [
       "<Figure size 432x288 with 1 Axes>"
      ]
     },
     "metadata": {
      "needs_background": "light"
     },
     "output_type": "display_data"
    }
   ],
   "source": [
    "data[data['tariff'] == 'ultra']['total_paid'].plot(kind = 'hist', bins = 20)"
   ]
  },
  {
   "cell_type": "code",
   "execution_count": 63,
   "metadata": {},
   "outputs": [
    {
     "data": {
      "text/plain": [
       "<AxesSubplot:ylabel='Frequency'>"
      ]
     },
     "execution_count": 63,
     "metadata": {},
     "output_type": "execute_result"
    },
    {
     "data": {
      "image/png": "[encoded data removed]",
      "text/plain": [
       "<Figure size 432x288 with 1 Axes>"
      ]
     },
     "metadata": {
      "needs_background": "light"
     },
     "output_type": "display_data"
    }
   ],
   "source": [
    "data[data['tariff'] == 'smart']['total_paid'].plot(kind = 'hist', bins = 20)"
   ]
  },
  {
   "cell_type": "markdown",
   "metadata": {},
   "source": [
    "Посчитаем среднее, медиану, дисперсию и стандартное отклонение в месячной плате для каждого тарифа."
   ]
  },
  {
   "cell_type": "code",
   "execution_count": 64,
   "metadata": {},
   "outputs": [
    {
     "data": {
      "text/html": [
       "<div>\n",
       "<style scoped>\n",
       "    .dataframe tbody tr th:only-of-type {\n",
       "        vertical-align: middle;\n",
       "    }\n",
       "\n",
       "    .dataframe tbody tr th {\n",
       "        vertical-align: top;\n",
       "    }\n",
       "\n",
       "    .dataframe thead tr th {\n",
       "        text-align: left;\n",
       "    }\n",
       "\n",
       "    .dataframe thead tr:last-of-type th {\n",
       "        text-align: right;\n",
       "    }\n",
       "</style>\n",
       "<table border=\"1\" class=\"dataframe\">\n",
       "  <thead>\n",
       "    <tr>\n",
       "      <th></th>\n",
       "      <th colspan=\"4\" halign=\"left\">total_paid</th>\n",
       "    </tr>\n",
       "    <tr>\n",
       "      <th></th>\n",
       "      <th>median</th>\n",
       "      <th>mean</th>\n",
       "      <th>var</th>\n",
       "      <th>std</th>\n",
       "    </tr>\n",
       "    <tr>\n",
       "      <th>tariff</th>\n",
       "      <th></th>\n",
       "      <th></th>\n",
       "      <th></th>\n",
       "      <th></th>\n",
       "    </tr>\n",
       "  </thead>\n",
       "  <tbody>\n",
       "    <tr>\n",
       "      <th>smart</th>\n",
       "      <td>958.0</td>\n",
       "      <td>1230.741140</td>\n",
       "      <td>617598.996247</td>\n",
       "      <td>785.874670</td>\n",
       "    </tr>\n",
       "    <tr>\n",
       "      <th>ultra</th>\n",
       "      <td>1950.0</td>\n",
       "      <td>2059.936041</td>\n",
       "      <td>126033.248954</td>\n",
       "      <td>355.011618</td>\n",
       "    </tr>\n",
       "  </tbody>\n",
       "</table>\n",
       "</div>"
      ],
      "text/plain": [
       "       total_paid                                        \n",
       "           median         mean            var         std\n",
       "tariff                                                   \n",
       "smart       958.0  1230.741140  617598.996247  785.874670\n",
       "ultra      1950.0  2059.936041  126033.248954  355.011618"
      ]
     },
     "execution_count": 64,
     "metadata": {},
     "output_type": "execute_result"
    }
   ],
   "source": [
    "data.groupby('tariff').agg({'total_paid':['median','mean','var','std']})"
   ]
  },
  {
   "cell_type": "markdown",
   "metadata": {},
   "source": [
    "Гистограммы и таблица со статистическими данными говорят нам, что Ultra-абоненты платят в основном только абонентскую плату и лишь небольшая часть абонетов выходит за пределы включенных пакетов.\n",
    "\n",
    "А вот в тарифе Smart частенько выходят за пределы пакетов. Это логично, ведь в этом пакете размер включенных пакетов значительно меньше."
   ]
  },
  {
   "cell_type": "markdown",
   "metadata": {},
   "source": [
    "### Анализ времени разговоров, сообщений, объёма трафика помесячно."
   ]
  },
  {
   "cell_type": "markdown",
   "metadata": {},
   "source": [
    "Проведем аналогичный анализ для количества минут, сообщений и интернет-трафика."
   ]
  },
  {
   "cell_type": "code",
   "execution_count": 65,
   "metadata": {},
   "outputs": [
    {
     "data": {
      "text/html": [
       "<div>\n",
       "<style scoped>\n",
       "    .dataframe tbody tr th:only-of-type {\n",
       "        vertical-align: middle;\n",
       "    }\n",
       "\n",
       "    .dataframe tbody tr th {\n",
       "        vertical-align: top;\n",
       "    }\n",
       "\n",
       "    .dataframe thead tr th {\n",
       "        text-align: left;\n",
       "    }\n",
       "\n",
       "    .dataframe thead tr:last-of-type th {\n",
       "        text-align: right;\n",
       "    }\n",
       "</style>\n",
       "<table border=\"1\" class=\"dataframe\">\n",
       "  <thead>\n",
       "    <tr>\n",
       "      <th></th>\n",
       "      <th colspan=\"4\" halign=\"left\">month_calls_duration</th>\n",
       "    </tr>\n",
       "    <tr>\n",
       "      <th></th>\n",
       "      <th>median</th>\n",
       "      <th>mean</th>\n",
       "      <th>var</th>\n",
       "      <th>std</th>\n",
       "    </tr>\n",
       "    <tr>\n",
       "      <th>tariff</th>\n",
       "      <th></th>\n",
       "      <th></th>\n",
       "      <th></th>\n",
       "      <th></th>\n",
       "    </tr>\n",
       "  </thead>\n",
       "  <tbody>\n",
       "    <tr>\n",
       "      <th>smart</th>\n",
       "      <td>422.0</td>\n",
       "      <td>417.934948</td>\n",
       "      <td>36219.315784</td>\n",
       "      <td>190.313730</td>\n",
       "    </tr>\n",
       "    <tr>\n",
       "      <th>ultra</th>\n",
       "      <td>518.0</td>\n",
       "      <td>526.623350</td>\n",
       "      <td>100873.633397</td>\n",
       "      <td>317.606098</td>\n",
       "    </tr>\n",
       "  </tbody>\n",
       "</table>\n",
       "</div>"
      ],
      "text/plain": [
       "       month_calls_duration                                       \n",
       "                     median        mean            var         std\n",
       "tariff                                                            \n",
       "smart                 422.0  417.934948   36219.315784  190.313730\n",
       "ultra                 518.0  526.623350  100873.633397  317.606098"
      ]
     },
     "execution_count": 65,
     "metadata": {},
     "output_type": "execute_result"
    }
   ],
   "source": [
    "data.groupby('tariff').agg({'month_calls_duration':['median','mean','var','std']})"
   ]
  },
  {
   "cell_type": "code",
   "execution_count": 66,
   "metadata": {},
   "outputs": [
    {
     "data": {
      "image/png": "[encoded data removed]",
      "text/plain": [
       "<Figure size 432x288 with 1 Axes>"
      ]
     },
     "metadata": {
      "needs_background": "light"
     },
     "output_type": "display_data"
    }
   ],
   "source": [
    "plt.hist(data[data['tariff'] == 'smart']['month_calls_duration'],\\\n",
    "         bins = 20, alpha = 0.5, label = 'Минуты в тарифе Smart')\n",
    "plt.hist(data[data['tariff'] == 'ultra']['month_calls_duration'],\\\n",
    "         bins = 20, alpha = 0.5, label = 'Минуты в тарифе Ultra')\n",
    "plt.legend(loc='upper right')\n",
    "plt.show()\n"
   ]
  },
  {
   "cell_type": "markdown",
   "metadata": {},
   "source": [
    "На тарифе Smart пиковое значение в районе 600 минут, что превышает предоплаченные в тарифе 500 минут.\n",
    "\n",
    "При этом в тарифе Ultra люди не доходят до края своего пакет в 3000 минут."
   ]
  },
  {
   "cell_type": "code",
   "execution_count": 67,
   "metadata": {},
   "outputs": [
    {
     "data": {
      "image/png": "[encoded data removed]",
      "text/plain": [
       "<Figure size 432x288 with 1 Axes>"
      ]
     },
     "metadata": {
      "needs_background": "light"
     },
     "output_type": "display_data"
    }
   ],
   "source": [
    "plt.hist(data[data['tariff'] == 'smart']['sms_total_in_month'],\\\n",
    "         bins = 20, alpha = 0.5, label = 'Сообщения в тарифе Smart')\n",
    "plt.hist(data[data['tariff'] == 'ultra']['sms_total_in_month'],\\\n",
    "         bins = 20, alpha = 0.5, label = 'Сообщения в тарифе Ultra')\n",
    "plt.legend(loc='upper right')\n",
    "plt.show()"
   ]
  },
  {
   "cell_type": "markdown",
   "metadata": {},
   "source": [
    "В тарифе Smart опять существенно выходят за оплаченные 50 сообщений, а пользователи тарифа Ultra и близко не подбираются к предоплаченному порогу в 1000 сообщений."
   ]
  },
  {
   "cell_type": "code",
   "execution_count": 68,
   "metadata": {},
   "outputs": [
    {
     "data": {
      "image/png": "[encoded data removed]",
      "text/plain": [
       "<Figure size 432x288 with 1 Axes>"
      ]
     },
     "metadata": {
      "needs_background": "light"
     },
     "output_type": "display_data"
    }
   ],
   "source": [
    "plt.hist(data[data['tariff'] == 'smart']['mb_total_in_month'],\\\n",
    "         bins = 20, alpha = 0.5, label = 'Объём трафика в тарифе Smart')\n",
    "plt.hist(data[data['tariff'] == 'ultra']['mb_total_in_month'],\\\n",
    "         bins = 20, alpha = 0.5, label = 'Объём трафика в тарифе Ultra')\n",
    "plt.legend(loc='upper right')\n",
    "plt.show()"
   ]
  },
  {
   "cell_type": "markdown",
   "metadata": {},
   "source": [
    "С интернетом картина немного другая. В тарифе Smart пик гистограмы расположен примерно на 16-17 Гб/месяц. Т.е. большинство абонентов выходят за рамки пакета и им приходится докупать трафик сверх пакета.\n",
    "\n",
    "А вот в Ultra большинство абонентов укладываются в свой пакет в 30 Гб/месяц, но тем не менее здесь ощутимый процент абонентов, которым не хватает и этого. Это отличается от ситуации с минутами и сообщениями."
   ]
  },
  {
   "cell_type": "markdown",
   "metadata": {},
   "source": [
    "<div class=\"alert alert-success\">\n",
    "<h2> Комментарий ревьюера <a class=\"tocSkip\"></a> </h2>\n",
    "\n",
    "<b>Все отлично!👍:</b> \n",
    "    \n",
    "        \n",
    "Очень хорошая работа по визуализации!\n",
    "        \n",
    "Лайфхак: убрать надпись \"<AxesSubplot:>\" можно, добавив \";\" в конце исполняемого кода. \n",
    "\n",
    "Идея на будущее: удобнее сравнивать пользователей, если построить их гистограммы рядом, либо на одном графике, окрасив в разные цвета.\n",
    "Как поместить два графика рядом - https://pyprog.pro/mpl/mpl_main_components.html\n",
    "Как сделать один график с 2 гистограммами - https://stackoverflow.com/questions/6871201/plot-two-histograms-on-single-chart-with-matplotlib "
   ]
  },
  {
   "cell_type": "markdown",
   "metadata": {},
   "source": [
    "Сделано"
   ]
  },
  {
   "cell_type": "markdown",
   "metadata": {},
   "source": [
    "<div class=\"alert alert-success\">\n",
    "<h2> Комментарий ревьюера v2 <a class=\"tocSkip\"> </h2>\n",
    "\n",
    "<b>Все отлично!👍:</b> \n",
    "    \n",
    "Супер, молодец!"
   ]
  },
  {
   "cell_type": "markdown",
   "metadata": {},
   "source": [
    "## Проверка гипотез"
   ]
  },
  {
   "cell_type": "markdown",
   "metadata": {},
   "source": [
    "### Различия тарифов"
   ]
  },
  {
   "cell_type": "markdown",
   "metadata": {},
   "source": [
    "Две выборки (тарифы Smart и Ultra) независимы между собой, поэтому мы можем использовать t-критерий Стьюдента для сравнения средних значений.\n",
    "\n",
    "Сформулируем гипотезы, исходя из нашей задачи:\n",
    "\n",
    "\n",
    "- **H0**: выручка пользователей тарифов «Ультра» и «Смарт» не различается\n",
    "- **H1**: выручка пользователей тарифов «Ультра» и «Смарт» различается\n",
    "\n",
    "Стоит отметить очень важный момент. В выборках могут быть выбросы. Например несколько человек в каждой группе могли очень много говорить или сидеть в интернете, из-за этого они будут существенно влиять на среднее значение в выборке, при этом по факту не оказывая реального влияния для конечного решения задачи. Значит есть смысл почистить данные от выбросов."
   ]
  },
  {
   "cell_type": "code",
   "execution_count": 69,
   "metadata": {},
   "outputs": [],
   "source": [
    "def data_clean(df, column):\n",
    "    x = df[column].mean() # медиана распределения               \n",
    "    sigma = df[column].std() # отклонение\n",
    "    result = (df[column] >= (x - 1.5 * sigma)) & (df[column] <= (x + 1.5 * sigma)) # правило \"трёх сигм\"\n",
    "    return df.loc[result]"
   ]
  },
  {
   "cell_type": "markdown",
   "metadata": {},
   "source": [
    "Разделим данные по тарифам в отдельные таблицы"
   ]
  },
  {
   "cell_type": "code",
   "execution_count": 70,
   "metadata": {},
   "outputs": [],
   "source": [
    "ultra = data[data['tariff'] == 'ultra']\n",
    "smart = data[data['tariff'] == 'smart']"
   ]
  },
  {
   "cell_type": "code",
   "execution_count": 71,
   "metadata": {},
   "outputs": [
    {
     "name": "stdout",
     "output_type": "stream",
     "text": [
      "<class 'pandas.core.frame.DataFrame'>\n",
      "Int64Index: 985 entries, 0 to 3213\n",
      "Data columns (total 22 columns):\n",
      " #   Column                 Non-Null Count  Dtype         \n",
      "---  ------                 --------------  -----         \n",
      " 0   user_id                985 non-null    int64         \n",
      " 1   month                  985 non-null    int64         \n",
      " 2   month_calls_duration   985 non-null    float64       \n",
      " 3   calls_total_in_month   985 non-null    float64       \n",
      " 4   sms_total_in_month     985 non-null    float64       \n",
      " 5   mb_total_in_month      985 non-null    float64       \n",
      " 6   age                    985 non-null    int64         \n",
      " 7   churn_date             76 non-null     datetime64[ns]\n",
      " 8   city                   985 non-null    object        \n",
      " 9   first_name             985 non-null    object        \n",
      " 10  last_name              985 non-null    object        \n",
      " 11  reg_date               985 non-null    datetime64[ns]\n",
      " 12  tariff                 985 non-null    object        \n",
      " 13  messages_included      985 non-null    int64         \n",
      " 14  mb_per_month_included  985 non-null    int64         \n",
      " 15  minutes_included       985 non-null    int64         \n",
      " 16  rub_monthly_fee        985 non-null    int64         \n",
      " 17  rub_per_gb             985 non-null    int64         \n",
      " 18  rub_per_message        985 non-null    int64         \n",
      " 19  rub_per_minute         985 non-null    int64         \n",
      " 20  over_the_tariff        985 non-null    float64       \n",
      " 21  total_paid             985 non-null    float64       \n",
      "dtypes: datetime64[ns](2), float64(6), int64(10), object(4)\n",
      "memory usage: 177.0+ KB\n"
     ]
    }
   ],
   "source": [
    "ultra.info()"
   ]
  },
  {
   "cell_type": "code",
   "execution_count": 72,
   "metadata": {},
   "outputs": [
    {
     "name": "stdout",
     "output_type": "stream",
     "text": [
      "<class 'pandas.core.frame.DataFrame'>\n",
      "Int64Index: 2229 entries, 8 to 3212\n",
      "Data columns (total 22 columns):\n",
      " #   Column                 Non-Null Count  Dtype         \n",
      "---  ------                 --------------  -----         \n",
      " 0   user_id                2229 non-null   int64         \n",
      " 1   month                  2229 non-null   int64         \n",
      " 2   month_calls_duration   2229 non-null   float64       \n",
      " 3   calls_total_in_month   2229 non-null   float64       \n",
      " 4   sms_total_in_month     2229 non-null   float64       \n",
      " 5   mb_total_in_month      2229 non-null   float64       \n",
      " 6   age                    2229 non-null   int64         \n",
      " 7   churn_date             111 non-null    datetime64[ns]\n",
      " 8   city                   2229 non-null   object        \n",
      " 9   first_name             2229 non-null   object        \n",
      " 10  last_name              2229 non-null   object        \n",
      " 11  reg_date               2229 non-null   datetime64[ns]\n",
      " 12  tariff                 2229 non-null   object        \n",
      " 13  messages_included      2229 non-null   int64         \n",
      " 14  mb_per_month_included  2229 non-null   int64         \n",
      " 15  minutes_included       2229 non-null   int64         \n",
      " 16  rub_monthly_fee        2229 non-null   int64         \n",
      " 17  rub_per_gb             2229 non-null   int64         \n",
      " 18  rub_per_message        2229 non-null   int64         \n",
      " 19  rub_per_minute         2229 non-null   int64         \n",
      " 20  over_the_tariff        2229 non-null   float64       \n",
      " 21  total_paid             2229 non-null   float64       \n",
      "dtypes: datetime64[ns](2), float64(6), int64(10), object(4)\n",
      "memory usage: 400.5+ KB\n"
     ]
    }
   ],
   "source": [
    "smart.info()"
   ]
  },
  {
   "cell_type": "code",
   "execution_count": 73,
   "metadata": {},
   "outputs": [],
   "source": [
    "ultra = data_clean(ultra, 'total_paid')"
   ]
  },
  {
   "cell_type": "code",
   "execution_count": 74,
   "metadata": {},
   "outputs": [
    {
     "name": "stdout",
     "output_type": "stream",
     "text": [
      "<class 'pandas.core.frame.DataFrame'>\n",
      "Int64Index: 917 entries, 0 to 3213\n",
      "Data columns (total 22 columns):\n",
      " #   Column                 Non-Null Count  Dtype         \n",
      "---  ------                 --------------  -----         \n",
      " 0   user_id                917 non-null    int64         \n",
      " 1   month                  917 non-null    int64         \n",
      " 2   month_calls_duration   917 non-null    float64       \n",
      " 3   calls_total_in_month   917 non-null    float64       \n",
      " 4   sms_total_in_month     917 non-null    float64       \n",
      " 5   mb_total_in_month      917 non-null    float64       \n",
      " 6   age                    917 non-null    int64         \n",
      " 7   churn_date             67 non-null     datetime64[ns]\n",
      " 8   city                   917 non-null    object        \n",
      " 9   first_name             917 non-null    object        \n",
      " 10  last_name              917 non-null    object        \n",
      " 11  reg_date               917 non-null    datetime64[ns]\n",
      " 12  tariff                 917 non-null    object        \n",
      " 13  messages_included      917 non-null    int64         \n",
      " 14  mb_per_month_included  917 non-null    int64         \n",
      " 15  minutes_included       917 non-null    int64         \n",
      " 16  rub_monthly_fee        917 non-null    int64         \n",
      " 17  rub_per_gb             917 non-null    int64         \n",
      " 18  rub_per_message        917 non-null    int64         \n",
      " 19  rub_per_minute         917 non-null    int64         \n",
      " 20  over_the_tariff        917 non-null    float64       \n",
      " 21  total_paid             917 non-null    float64       \n",
      "dtypes: datetime64[ns](2), float64(6), int64(10), object(4)\n",
      "memory usage: 164.8+ KB\n"
     ]
    }
   ],
   "source": [
    "ultra.info()"
   ]
  },
  {
   "cell_type": "code",
   "execution_count": 75,
   "metadata": {},
   "outputs": [],
   "source": [
    "smart = data_clean(smart, 'total_paid')"
   ]
  },
  {
   "cell_type": "code",
   "execution_count": 76,
   "metadata": {},
   "outputs": [
    {
     "name": "stdout",
     "output_type": "stream",
     "text": [
      "<class 'pandas.core.frame.DataFrame'>\n",
      "Int64Index: 2029 entries, 8 to 3212\n",
      "Data columns (total 22 columns):\n",
      " #   Column                 Non-Null Count  Dtype         \n",
      "---  ------                 --------------  -----         \n",
      " 0   user_id                2029 non-null   int64         \n",
      " 1   month                  2029 non-null   int64         \n",
      " 2   month_calls_duration   2029 non-null   float64       \n",
      " 3   calls_total_in_month   2029 non-null   float64       \n",
      " 4   sms_total_in_month     2029 non-null   float64       \n",
      " 5   mb_total_in_month      2029 non-null   float64       \n",
      " 6   age                    2029 non-null   int64         \n",
      " 7   churn_date             105 non-null    datetime64[ns]\n",
      " 8   city                   2029 non-null   object        \n",
      " 9   first_name             2029 non-null   object        \n",
      " 10  last_name              2029 non-null   object        \n",
      " 11  reg_date               2029 non-null   datetime64[ns]\n",
      " 12  tariff                 2029 non-null   object        \n",
      " 13  messages_included      2029 non-null   int64         \n",
      " 14  mb_per_month_included  2029 non-null   int64         \n",
      " 15  minutes_included       2029 non-null   int64         \n",
      " 16  rub_monthly_fee        2029 non-null   int64         \n",
      " 17  rub_per_gb             2029 non-null   int64         \n",
      " 18  rub_per_message        2029 non-null   int64         \n",
      " 19  rub_per_minute         2029 non-null   int64         \n",
      " 20  over_the_tariff        2029 non-null   float64       \n",
      " 21  total_paid             2029 non-null   float64       \n",
      "dtypes: datetime64[ns](2), float64(6), int64(10), object(4)\n",
      "memory usage: 364.6+ KB\n"
     ]
    }
   ],
   "source": [
    "smart.info()"
   ]
  },
  {
   "cell_type": "markdown",
   "metadata": {},
   "source": [
    "Видим, что число записей после чистки стало меньше:\n",
    "- 917 вместо 985 для тарифа Ultra\n",
    "- 2030 вместо 2229 для тарифа Smart\n",
    "\n",
    "Теперь можно сравнивать выборки.\n",
    "\n",
    "Зададим уровень значимости."
   ]
  },
  {
   "cell_type": "code",
   "execution_count": 77,
   "metadata": {},
   "outputs": [],
   "source": [
    "alpha = 0.05"
   ]
  },
  {
   "cell_type": "code",
   "execution_count": 78,
   "metadata": {},
   "outputs": [],
   "source": [
    "ultra = ultra['total_paid']\n",
    "smart = smart['total_paid']"
   ]
  },
  {
   "cell_type": "code",
   "execution_count": 79,
   "metadata": {},
   "outputs": [],
   "source": [
    "results = st.ttest_ind(ultra, smart)"
   ]
  },
  {
   "cell_type": "code",
   "execution_count": 80,
   "metadata": {
    "scrolled": true
   },
   "outputs": [
    {
     "name": "stdout",
     "output_type": "stream",
     "text": [
      "p-значение: 0.0\n",
      "Отвергаем нулевую гипотезу\n"
     ]
    }
   ],
   "source": [
    "print('p-значение:', results.pvalue)\n",
    "\n",
    "if (results.pvalue < alpha):\n",
    "    print(\"Отвергаем нулевую гипотезу\")\n",
    "else:\n",
    "    print(\"Не получилось отвергнуть нулевую гипотезу\")"
   ]
  },
  {
   "cell_type": "markdown",
   "metadata": {},
   "source": [
    "Отличия существенны."
   ]
  },
  {
   "cell_type": "markdown",
   "metadata": {},
   "source": [
    "### Различия Москвы и других городов"
   ]
  },
  {
   "cell_type": "markdown",
   "metadata": {},
   "source": [
    "**Сформулируем гипотезы:**\n",
    "\n",
    "- **H0**: средняя выручка пользователей из Москвы не отличается от выручки пользователей из других регионов\n",
    "- **H1**: средняя выручка пользователей из Москвы отличается от выручки пользователей из других регионов\n"
   ]
  },
  {
   "cell_type": "code",
   "execution_count": 81,
   "metadata": {},
   "outputs": [
    {
     "data": {
      "text/plain": [
       "array(['Краснодар', 'Москва', 'Стерлитамак', 'Новокузнецк',\n",
       "       'Набережные Челны', 'Ульяновск', 'Челябинск', 'Пермь', 'Тюмень',\n",
       "       'Самара', 'Санкт-Петербург', 'Иваново', 'Чебоксары', 'Омск', 'Уфа',\n",
       "       'Томск', 'Чита', 'Мурманск', 'Петрозаводск', 'Тверь',\n",
       "       'Екатеринбург', 'Махачкала', 'Вологда', 'Череповец', 'Ярославль',\n",
       "       'Сочи', 'Хабаровск', 'Ставрополь', 'Рязань', 'Улан-Удэ', 'Тула',\n",
       "       'Саратов', 'Ростов-на-Дону', 'Казань', 'Иркутск', 'Курск',\n",
       "       'Калуга', 'Якутск', 'Астрахань', 'Химки', 'Владикавказ',\n",
       "       'Волгоград', 'Саранск', 'Ижевск', 'Новосибирск', 'Брянск',\n",
       "       'Тольятти', 'Нижний Тагил', 'Орёл', 'Белгород', 'Воронеж',\n",
       "       'Курган', 'Барнаул', 'Красноярск', 'Архангельск', 'Липецк',\n",
       "       'Кемерово', 'Киров', 'Сургут', 'Пенза', 'Волжский', 'Магнитогорск',\n",
       "       'Нижний Новгород', 'Кострома', 'Владивосток', 'Тамбов', 'Балашиха',\n",
       "       'Севастополь', 'Калининград', 'Оренбург', 'Смоленск',\n",
       "       'Нижневартовск', 'Владимир', 'Новороссийск', 'Грозный', 'Подольск'],\n",
       "      dtype=object)"
      ]
     },
     "execution_count": 81,
     "metadata": {},
     "output_type": "execute_result"
    }
   ],
   "source": [
    "data['city'].unique()"
   ]
  },
  {
   "cell_type": "markdown",
   "metadata": {},
   "source": [
    "Для анализа добавим столбец с разделением Москва/Регионы"
   ]
  },
  {
   "cell_type": "code",
   "execution_count": 82,
   "metadata": {},
   "outputs": [],
   "source": [
    "data['region'] = np.where(data['city'] == 'Москва', 'Москва', 'Регионы')"
   ]
  },
  {
   "cell_type": "code",
   "execution_count": 83,
   "metadata": {},
   "outputs": [
    {
     "data": {
      "text/html": [
       "<div>\n",
       "<style scoped>\n",
       "    .dataframe tbody tr th:only-of-type {\n",
       "        vertical-align: middle;\n",
       "    }\n",
       "\n",
       "    .dataframe tbody tr th {\n",
       "        vertical-align: top;\n",
       "    }\n",
       "\n",
       "    .dataframe thead th {\n",
       "        text-align: right;\n",
       "    }\n",
       "</style>\n",
       "<table border=\"1\" class=\"dataframe\">\n",
       "  <thead>\n",
       "    <tr style=\"text-align: right;\">\n",
       "      <th></th>\n",
       "      <th>user_id</th>\n",
       "      <th>month</th>\n",
       "      <th>month_calls_duration</th>\n",
       "      <th>calls_total_in_month</th>\n",
       "      <th>sms_total_in_month</th>\n",
       "      <th>mb_total_in_month</th>\n",
       "      <th>age</th>\n",
       "      <th>churn_date</th>\n",
       "      <th>city</th>\n",
       "      <th>first_name</th>\n",
       "      <th>...</th>\n",
       "      <th>messages_included</th>\n",
       "      <th>mb_per_month_included</th>\n",
       "      <th>minutes_included</th>\n",
       "      <th>rub_monthly_fee</th>\n",
       "      <th>rub_per_gb</th>\n",
       "      <th>rub_per_message</th>\n",
       "      <th>rub_per_minute</th>\n",
       "      <th>over_the_tariff</th>\n",
       "      <th>total_paid</th>\n",
       "      <th>region</th>\n",
       "    </tr>\n",
       "  </thead>\n",
       "  <tbody>\n",
       "    <tr>\n",
       "      <th>0</th>\n",
       "      <td>1000</td>\n",
       "      <td>5</td>\n",
       "      <td>159.0</td>\n",
       "      <td>22.0</td>\n",
       "      <td>22.0</td>\n",
       "      <td>2253.49</td>\n",
       "      <td>52</td>\n",
       "      <td>NaT</td>\n",
       "      <td>Краснодар</td>\n",
       "      <td>Рафаил</td>\n",
       "      <td>...</td>\n",
       "      <td>1000</td>\n",
       "      <td>30720</td>\n",
       "      <td>3000</td>\n",
       "      <td>1950</td>\n",
       "      <td>150</td>\n",
       "      <td>1</td>\n",
       "      <td>1</td>\n",
       "      <td>0.0</td>\n",
       "      <td>1950.0</td>\n",
       "      <td>Регионы</td>\n",
       "    </tr>\n",
       "    <tr>\n",
       "      <th>1</th>\n",
       "      <td>1000</td>\n",
       "      <td>6</td>\n",
       "      <td>172.0</td>\n",
       "      <td>43.0</td>\n",
       "      <td>60.0</td>\n",
       "      <td>23233.77</td>\n",
       "      <td>52</td>\n",
       "      <td>NaT</td>\n",
       "      <td>Краснодар</td>\n",
       "      <td>Рафаил</td>\n",
       "      <td>...</td>\n",
       "      <td>1000</td>\n",
       "      <td>30720</td>\n",
       "      <td>3000</td>\n",
       "      <td>1950</td>\n",
       "      <td>150</td>\n",
       "      <td>1</td>\n",
       "      <td>1</td>\n",
       "      <td>0.0</td>\n",
       "      <td>1950.0</td>\n",
       "      <td>Регионы</td>\n",
       "    </tr>\n",
       "    <tr>\n",
       "      <th>2</th>\n",
       "      <td>1000</td>\n",
       "      <td>7</td>\n",
       "      <td>340.0</td>\n",
       "      <td>47.0</td>\n",
       "      <td>75.0</td>\n",
       "      <td>14003.64</td>\n",
       "      <td>52</td>\n",
       "      <td>NaT</td>\n",
       "      <td>Краснодар</td>\n",
       "      <td>Рафаил</td>\n",
       "      <td>...</td>\n",
       "      <td>1000</td>\n",
       "      <td>30720</td>\n",
       "      <td>3000</td>\n",
       "      <td>1950</td>\n",
       "      <td>150</td>\n",
       "      <td>1</td>\n",
       "      <td>1</td>\n",
       "      <td>0.0</td>\n",
       "      <td>1950.0</td>\n",
       "      <td>Регионы</td>\n",
       "    </tr>\n",
       "    <tr>\n",
       "      <th>3</th>\n",
       "      <td>1000</td>\n",
       "      <td>8</td>\n",
       "      <td>408.0</td>\n",
       "      <td>52.0</td>\n",
       "      <td>81.0</td>\n",
       "      <td>14055.93</td>\n",
       "      <td>52</td>\n",
       "      <td>NaT</td>\n",
       "      <td>Краснодар</td>\n",
       "      <td>Рафаил</td>\n",
       "      <td>...</td>\n",
       "      <td>1000</td>\n",
       "      <td>30720</td>\n",
       "      <td>3000</td>\n",
       "      <td>1950</td>\n",
       "      <td>150</td>\n",
       "      <td>1</td>\n",
       "      <td>1</td>\n",
       "      <td>0.0</td>\n",
       "      <td>1950.0</td>\n",
       "      <td>Регионы</td>\n",
       "    </tr>\n",
       "    <tr>\n",
       "      <th>4</th>\n",
       "      <td>1000</td>\n",
       "      <td>9</td>\n",
       "      <td>466.0</td>\n",
       "      <td>58.0</td>\n",
       "      <td>57.0</td>\n",
       "      <td>14568.91</td>\n",
       "      <td>52</td>\n",
       "      <td>NaT</td>\n",
       "      <td>Краснодар</td>\n",
       "      <td>Рафаил</td>\n",
       "      <td>...</td>\n",
       "      <td>1000</td>\n",
       "      <td>30720</td>\n",
       "      <td>3000</td>\n",
       "      <td>1950</td>\n",
       "      <td>150</td>\n",
       "      <td>1</td>\n",
       "      <td>1</td>\n",
       "      <td>0.0</td>\n",
       "      <td>1950.0</td>\n",
       "      <td>Регионы</td>\n",
       "    </tr>\n",
       "    <tr>\n",
       "      <th>5</th>\n",
       "      <td>1000</td>\n",
       "      <td>10</td>\n",
       "      <td>350.0</td>\n",
       "      <td>57.0</td>\n",
       "      <td>73.0</td>\n",
       "      <td>14702.49</td>\n",
       "      <td>52</td>\n",
       "      <td>NaT</td>\n",
       "      <td>Краснодар</td>\n",
       "      <td>Рафаил</td>\n",
       "      <td>...</td>\n",
       "      <td>1000</td>\n",
       "      <td>30720</td>\n",
       "      <td>3000</td>\n",
       "      <td>1950</td>\n",
       "      <td>150</td>\n",
       "      <td>1</td>\n",
       "      <td>1</td>\n",
       "      <td>0.0</td>\n",
       "      <td>1950.0</td>\n",
       "      <td>Регионы</td>\n",
       "    </tr>\n",
       "    <tr>\n",
       "      <th>6</th>\n",
       "      <td>1000</td>\n",
       "      <td>11</td>\n",
       "      <td>338.0</td>\n",
       "      <td>43.0</td>\n",
       "      <td>58.0</td>\n",
       "      <td>14756.47</td>\n",
       "      <td>52</td>\n",
       "      <td>NaT</td>\n",
       "      <td>Краснодар</td>\n",
       "      <td>Рафаил</td>\n",
       "      <td>...</td>\n",
       "      <td>1000</td>\n",
       "      <td>30720</td>\n",
       "      <td>3000</td>\n",
       "      <td>1950</td>\n",
       "      <td>150</td>\n",
       "      <td>1</td>\n",
       "      <td>1</td>\n",
       "      <td>0.0</td>\n",
       "      <td>1950.0</td>\n",
       "      <td>Регионы</td>\n",
       "    </tr>\n",
       "    <tr>\n",
       "      <th>7</th>\n",
       "      <td>1000</td>\n",
       "      <td>12</td>\n",
       "      <td>333.0</td>\n",
       "      <td>46.0</td>\n",
       "      <td>70.0</td>\n",
       "      <td>9817.61</td>\n",
       "      <td>52</td>\n",
       "      <td>NaT</td>\n",
       "      <td>Краснодар</td>\n",
       "      <td>Рафаил</td>\n",
       "      <td>...</td>\n",
       "      <td>1000</td>\n",
       "      <td>30720</td>\n",
       "      <td>3000</td>\n",
       "      <td>1950</td>\n",
       "      <td>150</td>\n",
       "      <td>1</td>\n",
       "      <td>1</td>\n",
       "      <td>0.0</td>\n",
       "      <td>1950.0</td>\n",
       "      <td>Регионы</td>\n",
       "    </tr>\n",
       "    <tr>\n",
       "      <th>8</th>\n",
       "      <td>1001</td>\n",
       "      <td>11</td>\n",
       "      <td>430.0</td>\n",
       "      <td>59.0</td>\n",
       "      <td>0.0</td>\n",
       "      <td>18429.34</td>\n",
       "      <td>41</td>\n",
       "      <td>NaT</td>\n",
       "      <td>Москва</td>\n",
       "      <td>Иван</td>\n",
       "      <td>...</td>\n",
       "      <td>50</td>\n",
       "      <td>15360</td>\n",
       "      <td>500</td>\n",
       "      <td>550</td>\n",
       "      <td>200</td>\n",
       "      <td>3</td>\n",
       "      <td>3</td>\n",
       "      <td>600.0</td>\n",
       "      <td>1150.0</td>\n",
       "      <td>Москва</td>\n",
       "    </tr>\n",
       "    <tr>\n",
       "      <th>9</th>\n",
       "      <td>1001</td>\n",
       "      <td>12</td>\n",
       "      <td>414.0</td>\n",
       "      <td>63.0</td>\n",
       "      <td>0.0</td>\n",
       "      <td>14036.66</td>\n",
       "      <td>41</td>\n",
       "      <td>NaT</td>\n",
       "      <td>Москва</td>\n",
       "      <td>Иван</td>\n",
       "      <td>...</td>\n",
       "      <td>50</td>\n",
       "      <td>15360</td>\n",
       "      <td>500</td>\n",
       "      <td>550</td>\n",
       "      <td>200</td>\n",
       "      <td>3</td>\n",
       "      <td>3</td>\n",
       "      <td>0.0</td>\n",
       "      <td>550.0</td>\n",
       "      <td>Москва</td>\n",
       "    </tr>\n",
       "    <tr>\n",
       "      <th>10</th>\n",
       "      <td>1002</td>\n",
       "      <td>6</td>\n",
       "      <td>117.0</td>\n",
       "      <td>15.0</td>\n",
       "      <td>4.0</td>\n",
       "      <td>10856.82</td>\n",
       "      <td>59</td>\n",
       "      <td>NaT</td>\n",
       "      <td>Стерлитамак</td>\n",
       "      <td>Евгений</td>\n",
       "      <td>...</td>\n",
       "      <td>50</td>\n",
       "      <td>15360</td>\n",
       "      <td>500</td>\n",
       "      <td>550</td>\n",
       "      <td>200</td>\n",
       "      <td>3</td>\n",
       "      <td>3</td>\n",
       "      <td>0.0</td>\n",
       "      <td>550.0</td>\n",
       "      <td>Регионы</td>\n",
       "    </tr>\n",
       "    <tr>\n",
       "      <th>11</th>\n",
       "      <td>1002</td>\n",
       "      <td>7</td>\n",
       "      <td>214.0</td>\n",
       "      <td>26.0</td>\n",
       "      <td>11.0</td>\n",
       "      <td>17580.10</td>\n",
       "      <td>59</td>\n",
       "      <td>NaT</td>\n",
       "      <td>Стерлитамак</td>\n",
       "      <td>Евгений</td>\n",
       "      <td>...</td>\n",
       "      <td>50</td>\n",
       "      <td>15360</td>\n",
       "      <td>500</td>\n",
       "      <td>550</td>\n",
       "      <td>200</td>\n",
       "      <td>3</td>\n",
       "      <td>3</td>\n",
       "      <td>434.0</td>\n",
       "      <td>984.0</td>\n",
       "      <td>Регионы</td>\n",
       "    </tr>\n",
       "    <tr>\n",
       "      <th>12</th>\n",
       "      <td>1002</td>\n",
       "      <td>8</td>\n",
       "      <td>289.0</td>\n",
       "      <td>42.0</td>\n",
       "      <td>13.0</td>\n",
       "      <td>20319.26</td>\n",
       "      <td>59</td>\n",
       "      <td>NaT</td>\n",
       "      <td>Стерлитамак</td>\n",
       "      <td>Евгений</td>\n",
       "      <td>...</td>\n",
       "      <td>50</td>\n",
       "      <td>15360</td>\n",
       "      <td>500</td>\n",
       "      <td>550</td>\n",
       "      <td>200</td>\n",
       "      <td>3</td>\n",
       "      <td>3</td>\n",
       "      <td>969.0</td>\n",
       "      <td>1519.0</td>\n",
       "      <td>Регионы</td>\n",
       "    </tr>\n",
       "    <tr>\n",
       "      <th>13</th>\n",
       "      <td>1002</td>\n",
       "      <td>9</td>\n",
       "      <td>206.0</td>\n",
       "      <td>36.0</td>\n",
       "      <td>4.0</td>\n",
       "      <td>16691.08</td>\n",
       "      <td>59</td>\n",
       "      <td>NaT</td>\n",
       "      <td>Стерлитамак</td>\n",
       "      <td>Евгений</td>\n",
       "      <td>...</td>\n",
       "      <td>50</td>\n",
       "      <td>15360</td>\n",
       "      <td>500</td>\n",
       "      <td>550</td>\n",
       "      <td>200</td>\n",
       "      <td>3</td>\n",
       "      <td>3</td>\n",
       "      <td>260.0</td>\n",
       "      <td>810.0</td>\n",
       "      <td>Регионы</td>\n",
       "    </tr>\n",
       "    <tr>\n",
       "      <th>14</th>\n",
       "      <td>1002</td>\n",
       "      <td>10</td>\n",
       "      <td>212.0</td>\n",
       "      <td>33.0</td>\n",
       "      <td>10.0</td>\n",
       "      <td>13888.25</td>\n",
       "      <td>59</td>\n",
       "      <td>NaT</td>\n",
       "      <td>Стерлитамак</td>\n",
       "      <td>Евгений</td>\n",
       "      <td>...</td>\n",
       "      <td>50</td>\n",
       "      <td>15360</td>\n",
       "      <td>500</td>\n",
       "      <td>550</td>\n",
       "      <td>200</td>\n",
       "      <td>3</td>\n",
       "      <td>3</td>\n",
       "      <td>0.0</td>\n",
       "      <td>550.0</td>\n",
       "      <td>Регионы</td>\n",
       "    </tr>\n",
       "    <tr>\n",
       "      <th>15</th>\n",
       "      <td>1002</td>\n",
       "      <td>11</td>\n",
       "      <td>243.0</td>\n",
       "      <td>32.0</td>\n",
       "      <td>16.0</td>\n",
       "      <td>18587.28</td>\n",
       "      <td>59</td>\n",
       "      <td>NaT</td>\n",
       "      <td>Стерлитамак</td>\n",
       "      <td>Евгений</td>\n",
       "      <td>...</td>\n",
       "      <td>50</td>\n",
       "      <td>15360</td>\n",
       "      <td>500</td>\n",
       "      <td>550</td>\n",
       "      <td>200</td>\n",
       "      <td>3</td>\n",
       "      <td>3</td>\n",
       "      <td>631.0</td>\n",
       "      <td>1181.0</td>\n",
       "      <td>Регионы</td>\n",
       "    </tr>\n",
       "    <tr>\n",
       "      <th>16</th>\n",
       "      <td>1002</td>\n",
       "      <td>12</td>\n",
       "      <td>236.0</td>\n",
       "      <td>33.0</td>\n",
       "      <td>12.0</td>\n",
       "      <td>18113.73</td>\n",
       "      <td>59</td>\n",
       "      <td>NaT</td>\n",
       "      <td>Стерлитамак</td>\n",
       "      <td>Евгений</td>\n",
       "      <td>...</td>\n",
       "      <td>50</td>\n",
       "      <td>15360</td>\n",
       "      <td>500</td>\n",
       "      <td>550</td>\n",
       "      <td>200</td>\n",
       "      <td>3</td>\n",
       "      <td>3</td>\n",
       "      <td>538.0</td>\n",
       "      <td>1088.0</td>\n",
       "      <td>Регионы</td>\n",
       "    </tr>\n",
       "    <tr>\n",
       "      <th>17</th>\n",
       "      <td>1003</td>\n",
       "      <td>8</td>\n",
       "      <td>380.0</td>\n",
       "      <td>55.0</td>\n",
       "      <td>37.0</td>\n",
       "      <td>8565.21</td>\n",
       "      <td>23</td>\n",
       "      <td>NaT</td>\n",
       "      <td>Москва</td>\n",
       "      <td>Белла</td>\n",
       "      <td>...</td>\n",
       "      <td>1000</td>\n",
       "      <td>30720</td>\n",
       "      <td>3000</td>\n",
       "      <td>1950</td>\n",
       "      <td>150</td>\n",
       "      <td>1</td>\n",
       "      <td>1</td>\n",
       "      <td>0.0</td>\n",
       "      <td>1950.0</td>\n",
       "      <td>Москва</td>\n",
       "    </tr>\n",
       "    <tr>\n",
       "      <th>18</th>\n",
       "      <td>1003</td>\n",
       "      <td>9</td>\n",
       "      <td>961.0</td>\n",
       "      <td>134.0</td>\n",
       "      <td>91.0</td>\n",
       "      <td>12468.87</td>\n",
       "      <td>23</td>\n",
       "      <td>NaT</td>\n",
       "      <td>Москва</td>\n",
       "      <td>Белла</td>\n",
       "      <td>...</td>\n",
       "      <td>1000</td>\n",
       "      <td>30720</td>\n",
       "      <td>3000</td>\n",
       "      <td>1950</td>\n",
       "      <td>150</td>\n",
       "      <td>1</td>\n",
       "      <td>1</td>\n",
       "      <td>0.0</td>\n",
       "      <td>1950.0</td>\n",
       "      <td>Москва</td>\n",
       "    </tr>\n",
       "    <tr>\n",
       "      <th>19</th>\n",
       "      <td>1003</td>\n",
       "      <td>10</td>\n",
       "      <td>855.0</td>\n",
       "      <td>108.0</td>\n",
       "      <td>83.0</td>\n",
       "      <td>14768.14</td>\n",
       "      <td>23</td>\n",
       "      <td>NaT</td>\n",
       "      <td>Москва</td>\n",
       "      <td>Белла</td>\n",
       "      <td>...</td>\n",
       "      <td>1000</td>\n",
       "      <td>30720</td>\n",
       "      <td>3000</td>\n",
       "      <td>1950</td>\n",
       "      <td>150</td>\n",
       "      <td>1</td>\n",
       "      <td>1</td>\n",
       "      <td>0.0</td>\n",
       "      <td>1950.0</td>\n",
       "      <td>Москва</td>\n",
       "    </tr>\n",
       "  </tbody>\n",
       "</table>\n",
       "<p>20 rows × 23 columns</p>\n",
       "</div>"
      ],
      "text/plain": [
       "    user_id  month  month_calls_duration  calls_total_in_month  \\\n",
       "0      1000      5                 159.0                  22.0   \n",
       "1      1000      6                 172.0                  43.0   \n",
       "2      1000      7                 340.0                  47.0   \n",
       "3      1000      8                 408.0                  52.0   \n",
       "4      1000      9                 466.0                  58.0   \n",
       "5      1000     10                 350.0                  57.0   \n",
       "6      1000     11                 338.0                  43.0   \n",
       "7      1000     12                 333.0                  46.0   \n",
       "8      1001     11                 430.0                  59.0   \n",
       "9      1001     12                 414.0                  63.0   \n",
       "10     1002      6                 117.0                  15.0   \n",
       "11     1002      7                 214.0                  26.0   \n",
       "12     1002      8                 289.0                  42.0   \n",
       "13     1002      9                 206.0                  36.0   \n",
       "14     1002     10                 212.0                  33.0   \n",
       "15     1002     11                 243.0                  32.0   \n",
       "16     1002     12                 236.0                  33.0   \n",
       "17     1003      8                 380.0                  55.0   \n",
       "18     1003      9                 961.0                 134.0   \n",
       "19     1003     10                 855.0                 108.0   \n",
       "\n",
       "    sms_total_in_month  mb_total_in_month  age churn_date         city  \\\n",
       "0                 22.0            2253.49   52        NaT    Краснодар   \n",
       "1                 60.0           23233.77   52        NaT    Краснодар   \n",
       "2                 75.0           14003.64   52        NaT    Краснодар   \n",
       "3                 81.0           14055.93   52        NaT    Краснодар   \n",
       "4                 57.0           14568.91   52        NaT    Краснодар   \n",
       "5                 73.0           14702.49   52        NaT    Краснодар   \n",
       "6                 58.0           14756.47   52        NaT    Краснодар   \n",
       "7                 70.0            9817.61   52        NaT    Краснодар   \n",
       "8                  0.0           18429.34   41        NaT       Москва   \n",
       "9                  0.0           14036.66   41        NaT       Москва   \n",
       "10                 4.0           10856.82   59        NaT  Стерлитамак   \n",
       "11                11.0           17580.10   59        NaT  Стерлитамак   \n",
       "12                13.0           20319.26   59        NaT  Стерлитамак   \n",
       "13                 4.0           16691.08   59        NaT  Стерлитамак   \n",
       "14                10.0           13888.25   59        NaT  Стерлитамак   \n",
       "15                16.0           18587.28   59        NaT  Стерлитамак   \n",
       "16                12.0           18113.73   59        NaT  Стерлитамак   \n",
       "17                37.0            8565.21   23        NaT       Москва   \n",
       "18                91.0           12468.87   23        NaT       Москва   \n",
       "19                83.0           14768.14   23        NaT       Москва   \n",
       "\n",
       "   first_name  ... messages_included mb_per_month_included minutes_included  \\\n",
       "0      Рафаил  ...              1000                 30720             3000   \n",
       "1      Рафаил  ...              1000                 30720             3000   \n",
       "2      Рафаил  ...              1000                 30720             3000   \n",
       "3      Рафаил  ...              1000                 30720             3000   \n",
       "4      Рафаил  ...              1000                 30720             3000   \n",
       "5      Рафаил  ...              1000                 30720             3000   \n",
       "6      Рафаил  ...              1000                 30720             3000   \n",
       "7      Рафаил  ...              1000                 30720             3000   \n",
       "8        Иван  ...                50                 15360              500   \n",
       "9        Иван  ...                50                 15360              500   \n",
       "10    Евгений  ...                50                 15360              500   \n",
       "11    Евгений  ...                50                 15360              500   \n",
       "12    Евгений  ...                50                 15360              500   \n",
       "13    Евгений  ...                50                 15360              500   \n",
       "14    Евгений  ...                50                 15360              500   \n",
       "15    Евгений  ...                50                 15360              500   \n",
       "16    Евгений  ...                50                 15360              500   \n",
       "17      Белла  ...              1000                 30720             3000   \n",
       "18      Белла  ...              1000                 30720             3000   \n",
       "19      Белла  ...              1000                 30720             3000   \n",
       "\n",
       "    rub_monthly_fee  rub_per_gb  rub_per_message  rub_per_minute  \\\n",
       "0              1950         150                1               1   \n",
       "1              1950         150                1               1   \n",
       "2              1950         150                1               1   \n",
       "3              1950         150                1               1   \n",
       "4              1950         150                1               1   \n",
       "5              1950         150                1               1   \n",
       "6              1950         150                1               1   \n",
       "7              1950         150                1               1   \n",
       "8               550         200                3               3   \n",
       "9               550         200                3               3   \n",
       "10              550         200                3               3   \n",
       "11              550         200                3               3   \n",
       "12              550         200                3               3   \n",
       "13              550         200                3               3   \n",
       "14              550         200                3               3   \n",
       "15              550         200                3               3   \n",
       "16              550         200                3               3   \n",
       "17             1950         150                1               1   \n",
       "18             1950         150                1               1   \n",
       "19             1950         150                1               1   \n",
       "\n",
       "    over_the_tariff  total_paid   region  \n",
       "0               0.0      1950.0  Регионы  \n",
       "1               0.0      1950.0  Регионы  \n",
       "2               0.0      1950.0  Регионы  \n",
       "3               0.0      1950.0  Регионы  \n",
       "4               0.0      1950.0  Регионы  \n",
       "5               0.0      1950.0  Регионы  \n",
       "6               0.0      1950.0  Регионы  \n",
       "7               0.0      1950.0  Регионы  \n",
       "8             600.0      1150.0   Москва  \n",
       "9               0.0       550.0   Москва  \n",
       "10              0.0       550.0  Регионы  \n",
       "11            434.0       984.0  Регионы  \n",
       "12            969.0      1519.0  Регионы  \n",
       "13            260.0       810.0  Регионы  \n",
       "14              0.0       550.0  Регионы  \n",
       "15            631.0      1181.0  Регионы  \n",
       "16            538.0      1088.0  Регионы  \n",
       "17              0.0      1950.0   Москва  \n",
       "18              0.0      1950.0   Москва  \n",
       "19              0.0      1950.0   Москва  \n",
       "\n",
       "[20 rows x 23 columns]"
      ]
     },
     "execution_count": 83,
     "metadata": {},
     "output_type": "execute_result"
    }
   ],
   "source": [
    "data.head(20)"
   ]
  },
  {
   "cell_type": "code",
   "execution_count": 84,
   "metadata": {},
   "outputs": [],
   "source": [
    "moscow = data[data['region'] == 'Москва']\n",
    "regions = data[data['region'] == 'Регионы']"
   ]
  },
  {
   "cell_type": "code",
   "execution_count": 85,
   "metadata": {},
   "outputs": [],
   "source": [
    "moscow = data_clean(moscow, 'total_paid')\n",
    "moscow = moscow['total_paid']"
   ]
  },
  {
   "cell_type": "code",
   "execution_count": 86,
   "metadata": {},
   "outputs": [],
   "source": [
    "regions = data_clean(regions, 'total_paid')\n",
    "regions = regions['total_paid']"
   ]
  },
  {
   "cell_type": "code",
   "execution_count": 87,
   "metadata": {},
   "outputs": [],
   "source": [
    "results = st.ttest_ind(moscow, regions)"
   ]
  },
  {
   "cell_type": "code",
   "execution_count": 88,
   "metadata": {},
   "outputs": [
    {
     "name": "stdout",
     "output_type": "stream",
     "text": [
      "p-значение: 0.15704138112549798\n",
      "Не получилось отвергнуть нулевую гипотезу\n"
     ]
    }
   ],
   "source": [
    "print('p-значение:', results.pvalue)\n",
    "\n",
    "if (results.pvalue < alpha):\n",
    "    print(\"Отвергаем нулевую гипотезу\")\n",
    "else:\n",
    "    print(\"Не получилось отвергнуть нулевую гипотезу\")"
   ]
  },
  {
   "cell_type": "markdown",
   "metadata": {},
   "source": [
    "С вероятность 18% такой результат мог быть получен случайно. Значит существенных различий в наших выборках нет."
   ]
  },
  {
   "cell_type": "markdown",
   "metadata": {},
   "source": [
    "<div class=\"alert alert-success\">\n",
    "<h2> Комментарий ревьюера <a class=\"tocSkip\"> </h2>\n",
    "\n",
    "<b>Все отлично!👍:</b> \n",
    "    \n",
    "Нулевая и альтернативная гипотезы сфорулированы верно, статистические тесты проведены корректно, выводы правильные!"
   ]
  },
  {
   "cell_type": "markdown",
   "metadata": {},
   "source": [
    "## Общий вывод"
   ]
  },
  {
   "cell_type": "markdown",
   "metadata": {},
   "source": [
    "Очевидно, что люди на разных тарифах имеют разный стиль использования своего телефона. Но на тарифе Smart многие пользователи платят существенно больше заявленной абонентской платы, поскольку им не хватает пакетов услуг, входящих в тариф. Это может существенно отражаться на отношении абонента к оператору и в результате привести к потере клиента.\n",
    "\n",
    "- SMS не пользуются каким-либо значительным спросом ни на одном из тарифов, это может объясняться переходом людей на обмен сообщеними в мессенджерах с помощью интернета.\n",
    "- А вот как раз интернетом пользуются все и много. На тарифе Smart больше половины абонентов выходит за пределы оплаченного пакета и вынуждено тратить допольнительные деньги, чтобы оставаться на связи. Имеет смысл подумать об увеличении объёма трафика в этом тарифе. Это поможет привлечь новых пользователей. Даже если цена на тариф немнго поднимется. Для абонентов это будет дешевле, чем покупать дополнительный трафик. Оператор же компенсирует потенциальные потери за счёт привлечения новых клиентов.\n",
    "- Звонки в Ultra  не выходят за пределы пакета, тогда как в Smart пиковое значение в гистограмме совпадает со значением предоплаченного порога.\n",
    "- Существенного различия трат между жителями Москвы и регионов нет.\n",
    "\n",
    "\n",
    "**Рекомендации**\n",
    "\n",
    "Доработать тариф смарт. Клиентам действительно не хватает предоплаченных пакетов услуг и приходится существенно платить сверх пакета. С одной стороны это выгодно компании, но в долгосрочной перспективе приводит к отказу клиентов от пользования нашими тарифами. В предложенной выборке уже были клиенты, расторгнувшие договор оказания услуг с \"Мегалайн\".\n",
    "\n",
    "Для более детального анализа можно запросить выборку по клиентам, отказавшимся от наших услуг и посмотреть их траты и характер пользоваия услугами. Если существенная доля таких клиентов переплачивала, то это очень важный негативный фактор с точки зрения клиентов и его нужно минимизировать, чтобы сохранять существующую клиентскую базу, а также привлекать новых абонентов."
   ]
  },
  {
   "cell_type": "markdown",
   "metadata": {},
   "source": [
    "<div class=\"alert alert-warning\">\n",
    "    <h2> Комментарий ревьюера <a class=\"tocSkip\"> </h2>\n",
    "    \n",
    "<b>Некоторые замечания и рекомендации💡:</b>\n",
    "\n",
    "Какую рекомендацию можно дать компании \"Мегалайн\" по развитию бизнеса, какой из тарифов выгоденее для компании?\n",
    "        \n"
   ]
  },
  {
   "cell_type": "markdown",
   "metadata": {},
   "source": [
    "<div class=\"alert alert-success\">\n",
    "<h2> Комментарий ревьюера v2 <a class=\"tocSkip\"> </h2>\n",
    "\n",
    "👍"
   ]
  },
  {
   "cell_type": "markdown",
   "metadata": {},
   "source": [
    "<div style=\"border:solid Chocolate 2px; padding: 40px\">\n",
    "\n",
    "**Общий вывод по проекту**\n",
    "\n",
    "Александр, спасибо за твой проект! Тобой приложено много усилий, чтобы довести его до конца, проделана огромная работа, и это видно невооруженным глазом, ты большой молодец! Есть несколько важных моментов, которые я отметил и которые можно было бы улучшить, подсказки ты найдешь в моих комментариях. \n",
    "\n",
    "**Отмечу отдельные положительные моменты проекта🙂**:\n",
    "* На разных шагах проекта ты предлагал очень интересные решения и методы для их реализации. Хорошая работа!\n",
    "* Ты использовал самые разные методы для работы с данными, все получилось!\n",
    "* Ты активно использовал визуализацию, хорошо, что ты не избегаешь этого инструмента анализа, за оформление отдельный плюс.\n",
    "\n",
    "**На что стоит обратить внимание🤓**:\n",
    "* Обработка звонков с нулевой продолжительностью   -  <b>сделано</b>\n",
    "* Работа с округлением интернет-траффика (выбор метода для округления)  -  <b>сделано</b>\n",
    "* Выбор методов вузализации для наглядного сравнения тарифов  -   <b>сделано</b>\n",
    "* Финальная рекомендация компании \"Мегалайн\"   -  <b>сделано</b>\n",
    "\n",
    "**Желаю удачи и жду твой проект на повторное ревью! Буду рад ответить на любые вопросы.**😉"
   ]
  },
  {
   "cell_type": "markdown",
   "metadata": {},
   "source": [
    "<div style=\"border:solid Chocolate 2px; padding: 40px\">\n",
    "    \n",
    "Александр, большое спасибо за оперативные правки и за твою работу! Удачи в изучении следующих тем и в новых проектах! 😉"
   ]
  }
 ],
 "metadata": {
  "ExecuteTimeLog": [
   {
    "duration": 1363,
    "start_time": "2022-05-07T09:47:48.401Z"
   },
   {
    "duration": 388,
    "start_time": "2022-05-07T09:48:32.484Z"
   },
   {
    "duration": 126,
    "start_time": "2022-05-07T09:49:48.088Z"
   },
   {
    "duration": 391,
    "start_time": "2022-05-07T09:49:54.968Z"
   },
   {
    "duration": 401,
    "start_time": "2022-05-07T09:50:03.944Z"
   },
   {
    "duration": 14,
    "start_time": "2022-05-07T09:52:50.446Z"
   },
   {
    "duration": 16,
    "start_time": "2022-05-07T09:52:59.781Z"
   },
   {
    "duration": 12,
    "start_time": "2022-05-07T09:53:12.611Z"
   },
   {
    "duration": 7,
    "start_time": "2022-05-07T09:56:32.234Z"
   },
   {
    "duration": 11,
    "start_time": "2022-05-07T09:56:46.712Z"
   },
   {
    "duration": 9,
    "start_time": "2022-05-07T09:58:16.041Z"
   },
   {
    "duration": 27,
    "start_time": "2022-05-07T09:58:24.616Z"
   },
   {
    "duration": 27,
    "start_time": "2022-05-07T09:58:35.066Z"
   },
   {
    "duration": 33,
    "start_time": "2022-05-07T09:59:01.126Z"
   },
   {
    "duration": 21,
    "start_time": "2022-05-07T09:59:07.765Z"
   },
   {
    "duration": 36,
    "start_time": "2022-05-07T10:03:09.215Z"
   },
   {
    "duration": 5,
    "start_time": "2022-05-07T10:05:37.889Z"
   },
   {
    "duration": 8,
    "start_time": "2022-05-07T10:05:48.847Z"
   },
   {
    "duration": 20,
    "start_time": "2022-05-07T10:15:28.326Z"
   },
   {
    "duration": 6,
    "start_time": "2022-05-07T10:20:04.503Z"
   },
   {
    "duration": 35,
    "start_time": "2022-05-07T10:20:15.636Z"
   },
   {
    "duration": 44,
    "start_time": "2022-05-07T10:20:27.415Z"
   },
   {
    "duration": 8,
    "start_time": "2022-05-07T10:21:17.392Z"
   },
   {
    "duration": 22,
    "start_time": "2022-05-07T10:21:25.900Z"
   },
   {
    "duration": 16,
    "start_time": "2022-05-07T10:21:36.605Z"
   },
   {
    "duration": 20,
    "start_time": "2022-05-07T10:21:46.938Z"
   },
   {
    "duration": 10,
    "start_time": "2022-05-07T10:21:58.930Z"
   },
   {
    "duration": 9,
    "start_time": "2022-05-07T10:22:37.341Z"
   },
   {
    "duration": 32,
    "start_time": "2022-05-07T10:22:45.502Z"
   },
   {
    "duration": 22,
    "start_time": "2022-05-07T10:22:53.522Z"
   },
   {
    "duration": 18,
    "start_time": "2022-05-07T10:23:12.530Z"
   },
   {
    "duration": 22,
    "start_time": "2022-05-07T10:23:25.757Z"
   },
   {
    "duration": 17,
    "start_time": "2022-05-07T10:23:41.024Z"
   },
   {
    "duration": 12,
    "start_time": "2022-05-07T10:23:47.563Z"
   },
   {
    "duration": 9,
    "start_time": "2022-05-07T10:24:26.162Z"
   },
   {
    "duration": 5,
    "start_time": "2022-05-07T10:24:41.492Z"
   },
   {
    "duration": 16,
    "start_time": "2022-05-07T10:24:48.701Z"
   },
   {
    "duration": 48,
    "start_time": "2022-05-07T18:46:39.622Z"
   },
   {
    "duration": 1254,
    "start_time": "2022-05-07T18:47:06.319Z"
   },
   {
    "duration": 398,
    "start_time": "2022-05-07T18:47:07.575Z"
   },
   {
    "duration": 15,
    "start_time": "2022-05-07T18:47:07.975Z"
   },
   {
    "duration": 16,
    "start_time": "2022-05-07T18:47:07.992Z"
   },
   {
    "duration": 13,
    "start_time": "2022-05-07T18:47:08.010Z"
   },
   {
    "duration": 8,
    "start_time": "2022-05-07T18:47:08.025Z"
   },
   {
    "duration": 39,
    "start_time": "2022-05-07T18:47:08.035Z"
   },
   {
    "duration": 12,
    "start_time": "2022-05-07T18:47:08.076Z"
   },
   {
    "duration": 32,
    "start_time": "2022-05-07T18:47:08.089Z"
   },
   {
    "duration": 27,
    "start_time": "2022-05-07T18:47:08.124Z"
   },
   {
    "duration": 50,
    "start_time": "2022-05-07T18:47:08.153Z"
   },
   {
    "duration": 21,
    "start_time": "2022-05-07T18:47:08.205Z"
   },
   {
    "duration": 7,
    "start_time": "2022-05-07T18:47:08.228Z"
   },
   {
    "duration": 43,
    "start_time": "2022-05-07T18:47:08.238Z"
   },
   {
    "duration": 8,
    "start_time": "2022-05-07T18:47:08.283Z"
   },
   {
    "duration": 59,
    "start_time": "2022-05-07T18:47:08.294Z"
   },
   {
    "duration": 18,
    "start_time": "2022-05-07T18:47:08.355Z"
   },
   {
    "duration": 19,
    "start_time": "2022-05-07T18:47:08.375Z"
   },
   {
    "duration": 26,
    "start_time": "2022-05-07T18:47:08.396Z"
   },
   {
    "duration": 22,
    "start_time": "2022-05-07T18:47:08.424Z"
   },
   {
    "duration": 27,
    "start_time": "2022-05-07T18:47:08.448Z"
   },
   {
    "duration": 10,
    "start_time": "2022-05-07T18:47:08.477Z"
   },
   {
    "duration": 11,
    "start_time": "2022-05-07T18:47:08.489Z"
   },
   {
    "duration": 39,
    "start_time": "2022-05-07T18:47:08.502Z"
   },
   {
    "duration": 36,
    "start_time": "2022-05-07T18:47:08.543Z"
   },
   {
    "duration": 19,
    "start_time": "2022-05-07T18:47:08.580Z"
   },
   {
    "duration": 27,
    "start_time": "2022-05-07T18:47:08.602Z"
   },
   {
    "duration": 12,
    "start_time": "2022-05-07T18:47:08.632Z"
   },
   {
    "duration": 34,
    "start_time": "2022-05-07T18:47:08.645Z"
   },
   {
    "duration": 9,
    "start_time": "2022-05-07T18:47:08.681Z"
   },
   {
    "duration": 21,
    "start_time": "2022-05-07T18:47:08.692Z"
   },
   {
    "duration": 75,
    "start_time": "2022-05-07T18:47:08.715Z"
   },
   {
    "duration": 9,
    "start_time": "2022-05-07T18:47:19.520Z"
   },
   {
    "duration": 50,
    "start_time": "2022-05-07T18:47:46.285Z"
   },
   {
    "duration": 8,
    "start_time": "2022-05-07T18:47:56.682Z"
   },
   {
    "duration": 8,
    "start_time": "2022-05-07T18:49:31.366Z"
   },
   {
    "duration": 13,
    "start_time": "2022-05-07T18:49:51.771Z"
   },
   {
    "duration": 8,
    "start_time": "2022-05-07T18:49:59.035Z"
   },
   {
    "duration": 39,
    "start_time": "2022-05-07T18:50:50.339Z"
   },
   {
    "duration": 9,
    "start_time": "2022-05-07T18:50:57.212Z"
   },
   {
    "duration": 25,
    "start_time": "2022-05-07T18:51:11.007Z"
   },
   {
    "duration": 7,
    "start_time": "2022-05-07T18:51:22.884Z"
   },
   {
    "duration": 49,
    "start_time": "2022-05-07T18:52:21.784Z"
   },
   {
    "duration": 10,
    "start_time": "2022-05-07T18:52:31.982Z"
   },
   {
    "duration": 31,
    "start_time": "2022-05-07T18:52:53.394Z"
   },
   {
    "duration": 8,
    "start_time": "2022-05-07T18:53:02.577Z"
   },
   {
    "duration": 107,
    "start_time": "2022-05-07T18:58:10.516Z"
   },
   {
    "duration": 22,
    "start_time": "2022-05-07T18:58:24.774Z"
   },
   {
    "duration": 8,
    "start_time": "2022-05-07T18:58:29.001Z"
   },
   {
    "duration": 15,
    "start_time": "2022-05-07T18:58:46.996Z"
   },
   {
    "duration": 8,
    "start_time": "2022-05-07T18:58:50.471Z"
   },
   {
    "duration": 20,
    "start_time": "2022-05-07T18:59:02.075Z"
   },
   {
    "duration": 10,
    "start_time": "2022-05-07T18:59:03.869Z"
   },
   {
    "duration": 14,
    "start_time": "2022-05-07T19:00:06.066Z"
   },
   {
    "duration": 10,
    "start_time": "2022-05-07T19:00:12.904Z"
   },
   {
    "duration": 10,
    "start_time": "2022-05-07T19:02:51.715Z"
   },
   {
    "duration": 12,
    "start_time": "2022-05-07T19:03:00.932Z"
   },
   {
    "duration": 19,
    "start_time": "2022-05-07T19:07:35.380Z"
   },
   {
    "duration": 21,
    "start_time": "2022-05-07T19:07:55.044Z"
   },
   {
    "duration": 9,
    "start_time": "2022-05-07T19:10:05.597Z"
   },
   {
    "duration": 10,
    "start_time": "2022-05-07T19:10:11.854Z"
   },
   {
    "duration": 7,
    "start_time": "2022-05-07T19:12:49.393Z"
   },
   {
    "duration": 9,
    "start_time": "2022-05-07T19:12:57.547Z"
   },
   {
    "duration": 8,
    "start_time": "2022-05-07T19:13:00.698Z"
   },
   {
    "duration": 8,
    "start_time": "2022-05-07T19:13:51.754Z"
   },
   {
    "duration": 12,
    "start_time": "2022-05-07T19:13:55.755Z"
   },
   {
    "duration": 4,
    "start_time": "2022-05-07T19:20:13.287Z"
   },
   {
    "duration": 22,
    "start_time": "2022-05-07T19:20:33.565Z"
   },
   {
    "duration": 1481,
    "start_time": "2022-05-07T19:20:56.114Z"
   },
   {
    "duration": 33,
    "start_time": "2022-05-07T19:21:33.000Z"
   },
   {
    "duration": 30,
    "start_time": "2022-05-07T19:22:13.237Z"
   },
   {
    "duration": 6,
    "start_time": "2022-05-07T19:22:41.330Z"
   },
   {
    "duration": 1374,
    "start_time": "2022-05-07T19:22:44.477Z"
   },
   {
    "duration": 1178,
    "start_time": "2022-05-07T19:22:53.655Z"
   },
   {
    "duration": 415,
    "start_time": "2022-05-07T19:22:54.835Z"
   },
   {
    "duration": 15,
    "start_time": "2022-05-07T19:22:55.251Z"
   },
   {
    "duration": 19,
    "start_time": "2022-05-07T19:22:55.268Z"
   },
   {
    "duration": 15,
    "start_time": "2022-05-07T19:22:55.289Z"
   },
   {
    "duration": 15,
    "start_time": "2022-05-07T19:22:55.307Z"
   },
   {
    "duration": 16,
    "start_time": "2022-05-07T19:22:55.325Z"
   },
   {
    "duration": 13,
    "start_time": "2022-05-07T19:22:55.343Z"
   },
   {
    "duration": 30,
    "start_time": "2022-05-07T19:22:55.374Z"
   },
   {
    "duration": 28,
    "start_time": "2022-05-07T19:22:55.407Z"
   },
   {
    "duration": 61,
    "start_time": "2022-05-07T19:22:55.437Z"
   },
   {
    "duration": 19,
    "start_time": "2022-05-07T19:22:55.500Z"
   },
   {
    "duration": 6,
    "start_time": "2022-05-07T19:22:55.521Z"
   },
   {
    "duration": 11,
    "start_time": "2022-05-07T19:22:55.529Z"
   },
   {
    "duration": 36,
    "start_time": "2022-05-07T19:22:55.542Z"
   },
   {
    "duration": 30,
    "start_time": "2022-05-07T19:22:55.580Z"
   },
   {
    "duration": 19,
    "start_time": "2022-05-07T19:22:55.612Z"
   },
   {
    "duration": 40,
    "start_time": "2022-05-07T19:22:55.633Z"
   },
   {
    "duration": 29,
    "start_time": "2022-05-07T19:22:55.675Z"
   },
   {
    "duration": 17,
    "start_time": "2022-05-07T19:22:55.706Z"
   },
   {
    "duration": 50,
    "start_time": "2022-05-07T19:22:55.725Z"
   },
   {
    "duration": 15,
    "start_time": "2022-05-07T19:22:55.778Z"
   },
   {
    "duration": 11,
    "start_time": "2022-05-07T19:22:55.796Z"
   },
   {
    "duration": 38,
    "start_time": "2022-05-07T19:22:55.809Z"
   },
   {
    "duration": 45,
    "start_time": "2022-05-07T19:22:55.849Z"
   },
   {
    "duration": 28,
    "start_time": "2022-05-07T19:22:55.896Z"
   },
   {
    "duration": 65,
    "start_time": "2022-05-07T19:22:55.927Z"
   },
   {
    "duration": 17,
    "start_time": "2022-05-07T19:22:55.999Z"
   },
   {
    "duration": 9,
    "start_time": "2022-05-07T19:22:56.017Z"
   },
   {
    "duration": 13,
    "start_time": "2022-05-07T19:22:56.029Z"
   },
   {
    "duration": 35,
    "start_time": "2022-05-07T19:22:56.045Z"
   },
   {
    "duration": 34,
    "start_time": "2022-05-07T19:22:56.082Z"
   },
   {
    "duration": 11,
    "start_time": "2022-05-07T19:22:56.119Z"
   },
   {
    "duration": 48,
    "start_time": "2022-05-07T19:22:56.132Z"
   },
   {
    "duration": 8,
    "start_time": "2022-05-07T19:22:56.182Z"
   },
   {
    "duration": 20,
    "start_time": "2022-05-07T19:22:56.192Z"
   },
   {
    "duration": 8,
    "start_time": "2022-05-07T19:22:56.213Z"
   },
   {
    "duration": 20,
    "start_time": "2022-05-07T19:22:56.222Z"
   },
   {
    "duration": 30,
    "start_time": "2022-05-07T19:22:56.244Z"
   },
   {
    "duration": 19,
    "start_time": "2022-05-07T19:22:56.276Z"
   },
   {
    "duration": 9,
    "start_time": "2022-05-07T19:22:56.297Z"
   },
   {
    "duration": 29,
    "start_time": "2022-05-07T19:22:56.308Z"
   },
   {
    "duration": 8,
    "start_time": "2022-05-07T19:22:56.338Z"
   },
   {
    "duration": 32,
    "start_time": "2022-05-07T19:22:56.347Z"
   },
   {
    "duration": 10,
    "start_time": "2022-05-07T19:22:56.381Z"
   },
   {
    "duration": 9,
    "start_time": "2022-05-07T19:22:56.393Z"
   },
   {
    "duration": 11,
    "start_time": "2022-05-07T19:22:56.403Z"
   },
   {
    "duration": 22,
    "start_time": "2022-05-07T19:22:56.416Z"
   },
   {
    "duration": 51,
    "start_time": "2022-05-07T19:22:56.439Z"
   },
   {
    "duration": 8,
    "start_time": "2022-05-07T19:22:56.492Z"
   },
   {
    "duration": 11,
    "start_time": "2022-05-07T19:22:56.501Z"
   },
   {
    "duration": 9,
    "start_time": "2022-05-07T19:22:56.514Z"
   },
   {
    "duration": 9,
    "start_time": "2022-05-07T19:22:56.525Z"
   },
   {
    "duration": 4,
    "start_time": "2022-05-07T19:22:56.536Z"
   },
   {
    "duration": 45,
    "start_time": "2022-05-07T19:22:56.541Z"
   },
   {
    "duration": 1412,
    "start_time": "2022-05-07T19:22:56.588Z"
   },
   {
    "duration": 1215,
    "start_time": "2022-05-07T19:24:18.885Z"
   },
   {
    "duration": 4,
    "start_time": "2022-05-07T19:24:46.288Z"
   },
   {
    "duration": 117,
    "start_time": "2022-05-07T19:24:48.291Z"
   },
   {
    "duration": 20,
    "start_time": "2022-05-07T19:24:58.143Z"
   },
   {
    "duration": 28,
    "start_time": "2022-05-07T19:25:31.254Z"
   },
   {
    "duration": 21,
    "start_time": "2022-05-07T19:25:46.312Z"
   },
   {
    "duration": 1278,
    "start_time": "2022-05-07T19:26:15.275Z"
   },
   {
    "duration": 6,
    "start_time": "2022-05-07T19:26:23.877Z"
   },
   {
    "duration": 22,
    "start_time": "2022-05-07T19:26:35.199Z"
   },
   {
    "duration": 30,
    "start_time": "2022-05-07T19:26:47.493Z"
   },
   {
    "duration": 28,
    "start_time": "2022-05-07T19:27:12.651Z"
   },
   {
    "duration": 21,
    "start_time": "2022-05-07T19:27:20.798Z"
   },
   {
    "duration": 55,
    "start_time": "2022-05-08T16:49:23.551Z"
   },
   {
    "duration": 1407,
    "start_time": "2022-05-08T16:49:29.964Z"
   },
   {
    "duration": 433,
    "start_time": "2022-05-08T16:49:31.374Z"
   },
   {
    "duration": 15,
    "start_time": "2022-05-08T16:49:31.809Z"
   },
   {
    "duration": 15,
    "start_time": "2022-05-08T16:49:31.826Z"
   },
   {
    "duration": 25,
    "start_time": "2022-05-08T16:49:31.843Z"
   },
   {
    "duration": 12,
    "start_time": "2022-05-08T16:49:31.870Z"
   },
   {
    "duration": 33,
    "start_time": "2022-05-08T16:49:31.884Z"
   },
   {
    "duration": 14,
    "start_time": "2022-05-08T16:49:31.920Z"
   },
   {
    "duration": 39,
    "start_time": "2022-05-08T16:49:31.936Z"
   },
   {
    "duration": 43,
    "start_time": "2022-05-08T16:49:31.978Z"
   },
   {
    "duration": 68,
    "start_time": "2022-05-08T16:49:32.023Z"
   },
   {
    "duration": 32,
    "start_time": "2022-05-08T16:49:32.092Z"
   },
   {
    "duration": 6,
    "start_time": "2022-05-08T16:49:32.126Z"
   },
   {
    "duration": 9,
    "start_time": "2022-05-08T16:49:32.134Z"
   },
   {
    "duration": 9,
    "start_time": "2022-05-08T16:49:32.145Z"
   },
   {
    "duration": 59,
    "start_time": "2022-05-08T16:49:32.156Z"
   },
   {
    "duration": 22,
    "start_time": "2022-05-08T16:49:32.217Z"
   },
   {
    "duration": 7,
    "start_time": "2022-05-08T16:49:32.241Z"
   },
   {
    "duration": 49,
    "start_time": "2022-05-08T16:49:32.250Z"
   },
   {
    "duration": 25,
    "start_time": "2022-05-08T16:49:32.302Z"
   },
   {
    "duration": 35,
    "start_time": "2022-05-08T16:49:32.329Z"
   },
   {
    "duration": 27,
    "start_time": "2022-05-08T16:49:32.366Z"
   },
   {
    "duration": 42,
    "start_time": "2022-05-08T16:49:32.394Z"
   },
   {
    "duration": 68,
    "start_time": "2022-05-08T16:49:32.438Z"
   },
   {
    "duration": 22,
    "start_time": "2022-05-08T16:49:32.509Z"
   },
   {
    "duration": 19,
    "start_time": "2022-05-08T16:49:32.533Z"
   },
   {
    "duration": 27,
    "start_time": "2022-05-08T16:49:32.554Z"
   },
   {
    "duration": 14,
    "start_time": "2022-05-08T16:49:32.592Z"
   },
   {
    "duration": 18,
    "start_time": "2022-05-08T16:49:32.609Z"
   },
   {
    "duration": 5,
    "start_time": "2022-05-08T16:49:32.629Z"
   },
   {
    "duration": 14,
    "start_time": "2022-05-08T16:49:32.636Z"
   },
   {
    "duration": 55,
    "start_time": "2022-05-08T16:49:32.652Z"
   },
   {
    "duration": 13,
    "start_time": "2022-05-08T16:49:32.710Z"
   },
   {
    "duration": 39,
    "start_time": "2022-05-08T16:49:32.725Z"
   },
   {
    "duration": 28,
    "start_time": "2022-05-08T16:49:32.766Z"
   },
   {
    "duration": 24,
    "start_time": "2022-05-08T16:49:32.800Z"
   },
   {
    "duration": 8,
    "start_time": "2022-05-08T16:49:32.825Z"
   },
   {
    "duration": 16,
    "start_time": "2022-05-08T16:49:32.835Z"
   },
   {
    "duration": 7,
    "start_time": "2022-05-08T16:49:32.853Z"
   },
   {
    "duration": 46,
    "start_time": "2022-05-08T16:49:32.861Z"
   },
   {
    "duration": 10,
    "start_time": "2022-05-08T16:49:32.912Z"
   },
   {
    "duration": 21,
    "start_time": "2022-05-08T16:49:32.925Z"
   },
   {
    "duration": 8,
    "start_time": "2022-05-08T16:49:32.948Z"
   },
   {
    "duration": 40,
    "start_time": "2022-05-08T16:49:32.958Z"
   },
   {
    "duration": 10,
    "start_time": "2022-05-08T16:49:33.007Z"
   },
   {
    "duration": 10,
    "start_time": "2022-05-08T16:49:33.019Z"
   },
   {
    "duration": 11,
    "start_time": "2022-05-08T16:49:33.030Z"
   },
   {
    "duration": 20,
    "start_time": "2022-05-08T16:49:33.043Z"
   },
   {
    "duration": 36,
    "start_time": "2022-05-08T16:49:33.064Z"
   },
   {
    "duration": 9,
    "start_time": "2022-05-08T16:49:33.102Z"
   },
   {
    "duration": 7,
    "start_time": "2022-05-08T16:49:33.113Z"
   },
   {
    "duration": 8,
    "start_time": "2022-05-08T16:49:33.122Z"
   },
   {
    "duration": 12,
    "start_time": "2022-05-08T16:49:33.131Z"
   },
   {
    "duration": 4,
    "start_time": "2022-05-08T16:49:33.144Z"
   },
   {
    "duration": 53,
    "start_time": "2022-05-08T16:49:33.149Z"
   },
   {
    "duration": 123,
    "start_time": "2022-05-08T16:49:33.204Z"
   },
   {
    "duration": 20,
    "start_time": "2022-05-08T16:49:33.329Z"
   },
   {
    "duration": 10,
    "start_time": "2022-05-08T16:49:33.350Z"
   },
   {
    "duration": 24,
    "start_time": "2022-05-08T16:49:33.362Z"
   },
   {
    "duration": 106,
    "start_time": "2022-05-08T16:49:33.392Z"
   },
   {
    "duration": 16,
    "start_time": "2022-05-08T16:50:18.222Z"
   },
   {
    "duration": 6,
    "start_time": "2022-05-08T16:52:35.013Z"
   },
   {
    "duration": 173,
    "start_time": "2022-05-08T16:53:31.900Z"
   },
   {
    "duration": 184,
    "start_time": "2022-05-08T16:57:01.580Z"
   },
   {
    "duration": 208,
    "start_time": "2022-05-08T16:57:47.371Z"
   },
   {
    "duration": 15,
    "start_time": "2022-05-08T17:01:39.517Z"
   },
   {
    "duration": 140,
    "start_time": "2022-05-08T17:04:49.533Z"
   },
   {
    "duration": 196,
    "start_time": "2022-05-08T17:04:55.750Z"
   },
   {
    "duration": 15,
    "start_time": "2022-05-08T17:09:37.605Z"
   },
   {
    "duration": 153,
    "start_time": "2022-05-08T17:10:51.585Z"
   },
   {
    "duration": 151,
    "start_time": "2022-05-08T17:11:19.908Z"
   },
   {
    "duration": 152,
    "start_time": "2022-05-08T17:11:31.769Z"
   },
   {
    "duration": 152,
    "start_time": "2022-05-08T17:15:30.028Z"
   },
   {
    "duration": 216,
    "start_time": "2022-05-08T17:15:51.420Z"
   },
   {
    "duration": 142,
    "start_time": "2022-05-08T17:16:23.855Z"
   },
   {
    "duration": 161,
    "start_time": "2022-05-08T17:17:37.738Z"
   },
   {
    "duration": 140,
    "start_time": "2022-05-08T17:18:10.125Z"
   },
   {
    "duration": 148,
    "start_time": "2022-05-08T17:18:34.069Z"
   },
   {
    "duration": 130,
    "start_time": "2022-05-08T17:18:36.837Z"
   },
   {
    "duration": 162,
    "start_time": "2022-05-08T17:21:42.428Z"
   },
   {
    "duration": 220,
    "start_time": "2022-05-08T17:22:06.102Z"
   },
   {
    "duration": 159,
    "start_time": "2022-05-08T17:23:52.436Z"
   },
   {
    "duration": 189,
    "start_time": "2022-05-08T17:23:59.506Z"
   },
   {
    "duration": 172,
    "start_time": "2022-05-08T17:24:04.536Z"
   },
   {
    "duration": 8,
    "start_time": "2022-05-08T17:51:06.791Z"
   },
   {
    "duration": 4,
    "start_time": "2022-05-08T17:51:18.051Z"
   },
   {
    "duration": 5,
    "start_time": "2022-05-08T17:52:33.685Z"
   },
   {
    "duration": 13,
    "start_time": "2022-05-08T17:52:41.757Z"
   },
   {
    "duration": 115,
    "start_time": "2022-05-08T17:52:50.118Z"
   },
   {
    "duration": 6,
    "start_time": "2022-05-08T17:53:18.834Z"
   },
   {
    "duration": 13,
    "start_time": "2022-05-08T17:53:31.652Z"
   },
   {
    "duration": 1821,
    "start_time": "2022-05-08T17:53:46.206Z"
   },
   {
    "duration": 1173,
    "start_time": "2022-05-08T17:54:00.184Z"
   },
   {
    "duration": 409,
    "start_time": "2022-05-08T17:54:01.359Z"
   },
   {
    "duration": 15,
    "start_time": "2022-05-08T17:54:01.770Z"
   },
   {
    "duration": 42,
    "start_time": "2022-05-08T17:54:01.792Z"
   },
   {
    "duration": 27,
    "start_time": "2022-05-08T17:54:01.836Z"
   },
   {
    "duration": 20,
    "start_time": "2022-05-08T17:54:01.864Z"
   },
   {
    "duration": 41,
    "start_time": "2022-05-08T17:54:01.886Z"
   },
   {
    "duration": 10,
    "start_time": "2022-05-08T17:54:01.929Z"
   },
   {
    "duration": 33,
    "start_time": "2022-05-08T17:54:01.941Z"
   },
   {
    "duration": 35,
    "start_time": "2022-05-08T17:54:01.977Z"
   },
   {
    "duration": 55,
    "start_time": "2022-05-08T17:54:02.016Z"
   },
   {
    "duration": 24,
    "start_time": "2022-05-08T17:54:02.073Z"
   },
   {
    "duration": 24,
    "start_time": "2022-05-08T17:54:02.103Z"
   },
   {
    "duration": 10,
    "start_time": "2022-05-08T17:54:02.129Z"
   },
   {
    "duration": 27,
    "start_time": "2022-05-08T17:54:02.140Z"
   },
   {
    "duration": 40,
    "start_time": "2022-05-08T17:54:02.169Z"
   },
   {
    "duration": 27,
    "start_time": "2022-05-08T17:54:02.210Z"
   },
   {
    "duration": 7,
    "start_time": "2022-05-08T17:54:02.239Z"
   },
   {
    "duration": 28,
    "start_time": "2022-05-08T17:54:02.248Z"
   },
   {
    "duration": 35,
    "start_time": "2022-05-08T17:54:02.278Z"
   },
   {
    "duration": 30,
    "start_time": "2022-05-08T17:54:02.315Z"
   },
   {
    "duration": 11,
    "start_time": "2022-05-08T17:54:02.347Z"
   },
   {
    "duration": 9,
    "start_time": "2022-05-08T17:54:02.359Z"
   },
   {
    "duration": 39,
    "start_time": "2022-05-08T17:54:02.369Z"
   },
   {
    "duration": 26,
    "start_time": "2022-05-08T17:54:02.410Z"
   },
   {
    "duration": 19,
    "start_time": "2022-05-08T17:54:02.437Z"
   },
   {
    "duration": 55,
    "start_time": "2022-05-08T17:54:02.458Z"
   },
   {
    "duration": 12,
    "start_time": "2022-05-08T17:54:02.522Z"
   },
   {
    "duration": 7,
    "start_time": "2022-05-08T17:54:02.535Z"
   },
   {
    "duration": 7,
    "start_time": "2022-05-08T17:54:02.544Z"
   },
   {
    "duration": 12,
    "start_time": "2022-05-08T17:54:02.553Z"
   },
   {
    "duration": 43,
    "start_time": "2022-05-08T17:54:02.566Z"
   },
   {
    "duration": 9,
    "start_time": "2022-05-08T17:54:02.611Z"
   },
   {
    "duration": 33,
    "start_time": "2022-05-08T17:54:02.622Z"
   },
   {
    "duration": 8,
    "start_time": "2022-05-08T17:54:02.656Z"
   },
   {
    "duration": 40,
    "start_time": "2022-05-08T17:54:02.666Z"
   },
   {
    "duration": 11,
    "start_time": "2022-05-08T17:54:02.711Z"
   },
   {
    "duration": 209,
    "start_time": "2022-05-08T17:54:02.724Z"
   },
   {
    "duration": 7,
    "start_time": "2022-05-08T17:54:02.935Z"
   },
   {
    "duration": 22,
    "start_time": "2022-05-08T17:54:02.945Z"
   },
   {
    "duration": 10,
    "start_time": "2022-05-08T17:54:02.969Z"
   },
   {
    "duration": 28,
    "start_time": "2022-05-08T17:54:02.981Z"
   },
   {
    "duration": 18,
    "start_time": "2022-05-08T17:54:03.011Z"
   },
   {
    "duration": 9,
    "start_time": "2022-05-08T17:54:03.031Z"
   },
   {
    "duration": 12,
    "start_time": "2022-05-08T17:54:03.042Z"
   },
   {
    "duration": 11,
    "start_time": "2022-05-08T17:54:03.055Z"
   },
   {
    "duration": 11,
    "start_time": "2022-05-08T17:54:03.068Z"
   },
   {
    "duration": 29,
    "start_time": "2022-05-08T17:54:03.081Z"
   },
   {
    "duration": 28,
    "start_time": "2022-05-08T17:54:03.112Z"
   },
   {
    "duration": 8,
    "start_time": "2022-05-08T17:54:03.142Z"
   },
   {
    "duration": 6,
    "start_time": "2022-05-08T17:54:03.151Z"
   },
   {
    "duration": 12,
    "start_time": "2022-05-08T17:54:03.158Z"
   },
   {
    "duration": 12,
    "start_time": "2022-05-08T17:54:03.172Z"
   },
   {
    "duration": 17,
    "start_time": "2022-05-08T17:54:03.194Z"
   },
   {
    "duration": 26,
    "start_time": "2022-05-08T17:54:03.213Z"
   },
   {
    "duration": 129,
    "start_time": "2022-05-08T17:54:03.241Z"
   },
   {
    "duration": 24,
    "start_time": "2022-05-08T17:54:03.371Z"
   },
   {
    "duration": 8,
    "start_time": "2022-05-08T17:54:03.397Z"
   },
   {
    "duration": 32,
    "start_time": "2022-05-08T17:54:03.408Z"
   },
   {
    "duration": 17,
    "start_time": "2022-05-08T17:54:03.442Z"
   },
   {
    "duration": 11,
    "start_time": "2022-05-08T17:54:03.461Z"
   },
   {
    "duration": 180,
    "start_time": "2022-05-08T17:54:03.474Z"
   },
   {
    "duration": 148,
    "start_time": "2022-05-08T17:54:03.655Z"
   },
   {
    "duration": 140,
    "start_time": "2022-05-08T17:54:03.805Z"
   },
   {
    "duration": 13,
    "start_time": "2022-05-08T17:54:03.947Z"
   },
   {
    "duration": 13,
    "start_time": "2022-05-08T17:54:03.962Z"
   },
   {
    "duration": 161,
    "start_time": "2022-05-08T17:54:03.992Z"
   },
   {
    "duration": 166,
    "start_time": "2022-05-08T17:54:04.155Z"
   },
   {
    "duration": 141,
    "start_time": "2022-05-08T17:54:04.323Z"
   },
   {
    "duration": 158,
    "start_time": "2022-05-08T17:54:04.466Z"
   },
   {
    "duration": 177,
    "start_time": "2022-05-08T17:54:04.626Z"
   },
   {
    "duration": 138,
    "start_time": "2022-05-08T17:54:04.804Z"
   },
   {
    "duration": 3,
    "start_time": "2022-05-08T17:54:04.944Z"
   },
   {
    "duration": 18,
    "start_time": "2022-05-08T17:54:04.949Z"
   },
   {
    "duration": 30,
    "start_time": "2022-05-08T17:54:04.969Z"
   },
   {
    "duration": 106,
    "start_time": "2022-05-08T17:54:05.003Z"
   },
   {
    "duration": 6,
    "start_time": "2022-05-08T17:54:05.111Z"
   },
   {
    "duration": 42,
    "start_time": "2022-05-08T17:54:05.123Z"
   },
   {
    "duration": 6,
    "start_time": "2022-05-08T17:54:47.976Z"
   },
   {
    "duration": 13,
    "start_time": "2022-05-08T17:54:54.620Z"
   },
   {
    "duration": 3,
    "start_time": "2022-05-08T17:59:21.524Z"
   },
   {
    "duration": 4,
    "start_time": "2022-05-08T18:00:17.957Z"
   },
   {
    "duration": 4,
    "start_time": "2022-05-08T18:00:30.048Z"
   },
   {
    "duration": 2,
    "start_time": "2022-05-08T18:02:08.033Z"
   },
   {
    "duration": 4,
    "start_time": "2022-05-08T18:02:09.891Z"
   },
   {
    "duration": 4,
    "start_time": "2022-05-08T18:02:11.947Z"
   },
   {
    "duration": 1226,
    "start_time": "2022-05-08T18:02:17.952Z"
   },
   {
    "duration": 464,
    "start_time": "2022-05-08T18:02:19.180Z"
   },
   {
    "duration": 14,
    "start_time": "2022-05-08T18:02:19.645Z"
   },
   {
    "duration": 14,
    "start_time": "2022-05-08T18:02:19.661Z"
   },
   {
    "duration": 30,
    "start_time": "2022-05-08T18:02:19.677Z"
   },
   {
    "duration": 21,
    "start_time": "2022-05-08T18:02:19.713Z"
   },
   {
    "duration": 12,
    "start_time": "2022-05-08T18:02:19.736Z"
   },
   {
    "duration": 10,
    "start_time": "2022-05-08T18:02:19.750Z"
   },
   {
    "duration": 34,
    "start_time": "2022-05-08T18:02:19.762Z"
   },
   {
    "duration": 38,
    "start_time": "2022-05-08T18:02:19.802Z"
   },
   {
    "duration": 36,
    "start_time": "2022-05-08T18:02:19.842Z"
   },
   {
    "duration": 35,
    "start_time": "2022-05-08T18:02:19.880Z"
   },
   {
    "duration": 16,
    "start_time": "2022-05-08T18:02:19.919Z"
   },
   {
    "duration": 8,
    "start_time": "2022-05-08T18:02:19.937Z"
   },
   {
    "duration": 7,
    "start_time": "2022-05-08T18:02:19.946Z"
   },
   {
    "duration": 57,
    "start_time": "2022-05-08T18:02:19.954Z"
   },
   {
    "duration": 22,
    "start_time": "2022-05-08T18:02:20.017Z"
   },
   {
    "duration": 7,
    "start_time": "2022-05-08T18:02:20.041Z"
   },
   {
    "duration": 21,
    "start_time": "2022-05-08T18:02:20.049Z"
   },
   {
    "duration": 45,
    "start_time": "2022-05-08T18:02:20.073Z"
   },
   {
    "duration": 28,
    "start_time": "2022-05-08T18:02:20.122Z"
   },
   {
    "duration": 11,
    "start_time": "2022-05-08T18:02:20.152Z"
   },
   {
    "duration": 20,
    "start_time": "2022-05-08T18:02:20.165Z"
   },
   {
    "duration": 39,
    "start_time": "2022-05-08T18:02:20.187Z"
   },
   {
    "duration": 27,
    "start_time": "2022-05-08T18:02:20.228Z"
   },
   {
    "duration": 19,
    "start_time": "2022-05-08T18:02:20.257Z"
   },
   {
    "duration": 36,
    "start_time": "2022-05-08T18:02:20.299Z"
   },
   {
    "duration": 12,
    "start_time": "2022-05-08T18:02:20.340Z"
   },
   {
    "duration": 8,
    "start_time": "2022-05-08T18:02:20.353Z"
   },
   {
    "duration": 11,
    "start_time": "2022-05-08T18:02:20.362Z"
   },
   {
    "duration": 26,
    "start_time": "2022-05-08T18:02:20.374Z"
   },
   {
    "duration": 52,
    "start_time": "2022-05-08T18:02:20.402Z"
   },
   {
    "duration": 9,
    "start_time": "2022-05-08T18:02:20.455Z"
   },
   {
    "duration": 90,
    "start_time": "2022-05-08T18:02:20.466Z"
   },
   {
    "duration": 7,
    "start_time": "2022-05-08T18:02:20.557Z"
   },
   {
    "duration": 19,
    "start_time": "2022-05-08T18:02:20.566Z"
   },
   {
    "duration": 11,
    "start_time": "2022-05-08T18:02:20.586Z"
   },
   {
    "duration": 38,
    "start_time": "2022-05-08T18:02:20.606Z"
   },
   {
    "duration": 7,
    "start_time": "2022-05-08T18:02:20.645Z"
   },
   {
    "duration": 20,
    "start_time": "2022-05-08T18:02:20.654Z"
   },
   {
    "duration": 9,
    "start_time": "2022-05-08T18:02:20.676Z"
   },
   {
    "duration": 24,
    "start_time": "2022-05-08T18:02:20.686Z"
   },
   {
    "duration": 18,
    "start_time": "2022-05-08T18:02:20.716Z"
   },
   {
    "duration": 10,
    "start_time": "2022-05-08T18:02:20.736Z"
   },
   {
    "duration": 9,
    "start_time": "2022-05-08T18:02:20.748Z"
   },
   {
    "duration": 11,
    "start_time": "2022-05-08T18:02:20.758Z"
   },
   {
    "duration": 13,
    "start_time": "2022-05-08T18:02:20.771Z"
   },
   {
    "duration": 39,
    "start_time": "2022-05-08T18:02:20.802Z"
   },
   {
    "duration": 21,
    "start_time": "2022-05-08T18:02:20.843Z"
   },
   {
    "duration": 9,
    "start_time": "2022-05-08T18:02:20.866Z"
   },
   {
    "duration": 7,
    "start_time": "2022-05-08T18:02:20.876Z"
   },
   {
    "duration": 32,
    "start_time": "2022-05-08T18:02:20.885Z"
   },
   {
    "duration": 16,
    "start_time": "2022-05-08T18:02:20.918Z"
   },
   {
    "duration": 5,
    "start_time": "2022-05-08T18:02:20.936Z"
   },
   {
    "duration": 29,
    "start_time": "2022-05-08T18:02:20.943Z"
   },
   {
    "duration": 126,
    "start_time": "2022-05-08T18:02:20.973Z"
   },
   {
    "duration": 23,
    "start_time": "2022-05-08T18:02:21.103Z"
   },
   {
    "duration": 12,
    "start_time": "2022-05-08T18:02:21.127Z"
   },
   {
    "duration": 19,
    "start_time": "2022-05-08T18:02:21.141Z"
   },
   {
    "duration": 14,
    "start_time": "2022-05-08T18:02:21.162Z"
   },
   {
    "duration": 22,
    "start_time": "2022-05-08T18:02:21.178Z"
   },
   {
    "duration": 184,
    "start_time": "2022-05-08T18:02:21.203Z"
   },
   {
    "duration": 147,
    "start_time": "2022-05-08T18:02:21.389Z"
   },
   {
    "duration": 172,
    "start_time": "2022-05-08T18:02:21.539Z"
   },
   {
    "duration": 14,
    "start_time": "2022-05-08T18:02:21.716Z"
   },
   {
    "duration": 14,
    "start_time": "2022-05-08T18:02:21.732Z"
   },
   {
    "duration": 171,
    "start_time": "2022-05-08T18:02:21.747Z"
   },
   {
    "duration": 146,
    "start_time": "2022-05-08T18:02:21.920Z"
   },
   {
    "duration": 164,
    "start_time": "2022-05-08T18:02:22.069Z"
   },
   {
    "duration": 144,
    "start_time": "2022-05-08T18:02:22.235Z"
   },
   {
    "duration": 169,
    "start_time": "2022-05-08T18:02:22.381Z"
   },
   {
    "duration": 154,
    "start_time": "2022-05-08T18:02:22.552Z"
   },
   {
    "duration": 6,
    "start_time": "2022-05-08T18:02:22.708Z"
   },
   {
    "duration": 13,
    "start_time": "2022-05-08T18:02:22.716Z"
   },
   {
    "duration": 11,
    "start_time": "2022-05-08T18:02:22.731Z"
   },
   {
    "duration": 88,
    "start_time": "2022-05-08T18:02:22.744Z"
   },
   {
    "duration": 4,
    "start_time": "2022-05-08T18:02:22.834Z"
   },
   {
    "duration": 14,
    "start_time": "2022-05-08T18:02:22.840Z"
   },
   {
    "duration": 4,
    "start_time": "2022-05-08T18:02:22.856Z"
   },
   {
    "duration": 10,
    "start_time": "2022-05-08T18:02:22.862Z"
   },
   {
    "duration": 6,
    "start_time": "2022-05-08T18:02:22.898Z"
   },
   {
    "duration": 12,
    "start_time": "2022-05-08T18:02:22.911Z"
   },
   {
    "duration": 7,
    "start_time": "2022-05-08T18:02:22.925Z"
   },
   {
    "duration": 9,
    "start_time": "2022-05-08T18:02:22.934Z"
   },
   {
    "duration": 6,
    "start_time": "2022-05-08T18:05:28.201Z"
   },
   {
    "duration": 4,
    "start_time": "2022-05-08T18:10:42.369Z"
   },
   {
    "duration": 4,
    "start_time": "2022-05-08T18:10:57.884Z"
   },
   {
    "duration": 21,
    "start_time": "2022-05-08T18:11:06.733Z"
   },
   {
    "duration": 26,
    "start_time": "2022-05-08T18:11:17.034Z"
   },
   {
    "duration": 109,
    "start_time": "2022-05-08T18:12:01.477Z"
   },
   {
    "duration": 6,
    "start_time": "2022-05-08T18:12:08.285Z"
   },
   {
    "duration": 6,
    "start_time": "2022-05-08T18:12:58.066Z"
   },
   {
    "duration": 6,
    "start_time": "2022-05-08T18:12:59.953Z"
   },
   {
    "duration": 3,
    "start_time": "2022-05-08T18:13:15.344Z"
   },
   {
    "duration": 4,
    "start_time": "2022-05-08T18:13:29.778Z"
   },
   {
    "duration": 1113,
    "start_time": "2022-05-08T18:24:21.947Z"
   },
   {
    "duration": 405,
    "start_time": "2022-05-08T18:24:23.062Z"
   },
   {
    "duration": 13,
    "start_time": "2022-05-08T18:24:23.469Z"
   },
   {
    "duration": 23,
    "start_time": "2022-05-08T18:24:23.493Z"
   },
   {
    "duration": 13,
    "start_time": "2022-05-08T18:24:23.517Z"
   },
   {
    "duration": 6,
    "start_time": "2022-05-08T18:24:23.532Z"
   },
   {
    "duration": 11,
    "start_time": "2022-05-08T18:24:23.539Z"
   },
   {
    "duration": 9,
    "start_time": "2022-05-08T18:24:23.552Z"
   },
   {
    "duration": 58,
    "start_time": "2022-05-08T18:24:23.563Z"
   },
   {
    "duration": 27,
    "start_time": "2022-05-08T18:24:23.623Z"
   },
   {
    "duration": 45,
    "start_time": "2022-05-08T18:24:23.651Z"
   },
   {
    "duration": 35,
    "start_time": "2022-05-08T18:24:23.698Z"
   },
   {
    "duration": 6,
    "start_time": "2022-05-08T18:24:23.735Z"
   },
   {
    "duration": 18,
    "start_time": "2022-05-08T18:24:23.742Z"
   },
   {
    "duration": 14,
    "start_time": "2022-05-08T18:24:23.761Z"
   },
   {
    "duration": 40,
    "start_time": "2022-05-08T18:24:23.777Z"
   },
   {
    "duration": 19,
    "start_time": "2022-05-08T18:24:23.819Z"
   },
   {
    "duration": 7,
    "start_time": "2022-05-08T18:24:23.839Z"
   },
   {
    "duration": 20,
    "start_time": "2022-05-08T18:24:23.848Z"
   },
   {
    "duration": 28,
    "start_time": "2022-05-08T18:24:23.870Z"
   },
   {
    "duration": 25,
    "start_time": "2022-05-08T18:24:23.899Z"
   },
   {
    "duration": 11,
    "start_time": "2022-05-08T18:24:23.926Z"
   },
   {
    "duration": 9,
    "start_time": "2022-05-08T18:24:23.938Z"
   },
   {
    "duration": 51,
    "start_time": "2022-05-08T18:24:23.948Z"
   },
   {
    "duration": 23,
    "start_time": "2022-05-08T18:24:24.002Z"
   },
   {
    "duration": 18,
    "start_time": "2022-05-08T18:24:24.026Z"
   },
   {
    "duration": 23,
    "start_time": "2022-05-08T18:24:24.046Z"
   },
   {
    "duration": 16,
    "start_time": "2022-05-08T18:24:24.095Z"
   },
   {
    "duration": 8,
    "start_time": "2022-05-08T18:24:24.113Z"
   },
   {
    "duration": 5,
    "start_time": "2022-05-08T18:24:24.123Z"
   },
   {
    "duration": 14,
    "start_time": "2022-05-08T18:24:24.129Z"
   },
   {
    "duration": 28,
    "start_time": "2022-05-08T18:24:24.145Z"
   },
   {
    "duration": 15,
    "start_time": "2022-05-08T18:24:24.192Z"
   },
   {
    "duration": 36,
    "start_time": "2022-05-08T18:24:24.208Z"
   },
   {
    "duration": 7,
    "start_time": "2022-05-08T18:24:24.246Z"
   },
   {
    "duration": 18,
    "start_time": "2022-05-08T18:24:24.255Z"
   },
   {
    "duration": 30,
    "start_time": "2022-05-08T18:24:24.275Z"
   },
   {
    "duration": 18,
    "start_time": "2022-05-08T18:24:24.307Z"
   },
   {
    "duration": 7,
    "start_time": "2022-05-08T18:24:24.326Z"
   },
   {
    "duration": 24,
    "start_time": "2022-05-08T18:24:24.334Z"
   },
   {
    "duration": 9,
    "start_time": "2022-05-08T18:24:24.360Z"
   },
   {
    "duration": 48,
    "start_time": "2022-05-08T18:24:24.371Z"
   },
   {
    "duration": 7,
    "start_time": "2022-05-08T18:24:24.421Z"
   },
   {
    "duration": 10,
    "start_time": "2022-05-08T18:24:24.429Z"
   },
   {
    "duration": 9,
    "start_time": "2022-05-08T18:24:24.440Z"
   },
   {
    "duration": 12,
    "start_time": "2022-05-08T18:24:24.451Z"
   },
   {
    "duration": 10,
    "start_time": "2022-05-08T18:24:24.465Z"
   },
   {
    "duration": 23,
    "start_time": "2022-05-08T18:24:24.495Z"
   },
   {
    "duration": 19,
    "start_time": "2022-05-08T18:24:24.519Z"
   },
   {
    "duration": 7,
    "start_time": "2022-05-08T18:24:24.540Z"
   },
   {
    "duration": 7,
    "start_time": "2022-05-08T18:24:24.548Z"
   },
   {
    "duration": 10,
    "start_time": "2022-05-08T18:24:24.556Z"
   },
   {
    "duration": 34,
    "start_time": "2022-05-08T18:24:24.568Z"
   },
   {
    "duration": 6,
    "start_time": "2022-05-08T18:24:24.604Z"
   },
   {
    "duration": 23,
    "start_time": "2022-05-08T18:24:24.611Z"
   },
   {
    "duration": 144,
    "start_time": "2022-05-08T18:24:24.636Z"
   },
   {
    "duration": 23,
    "start_time": "2022-05-08T18:24:24.782Z"
   },
   {
    "duration": 8,
    "start_time": "2022-05-08T18:24:24.807Z"
   },
   {
    "duration": 20,
    "start_time": "2022-05-08T18:24:24.816Z"
   },
   {
    "duration": 14,
    "start_time": "2022-05-08T18:24:24.837Z"
   },
   {
    "duration": 6,
    "start_time": "2022-05-08T18:24:24.852Z"
   },
   {
    "duration": 198,
    "start_time": "2022-05-08T18:24:24.859Z"
   },
   {
    "duration": 128,
    "start_time": "2022-05-08T18:24:25.058Z"
   },
   {
    "duration": 142,
    "start_time": "2022-05-08T18:24:25.192Z"
   },
   {
    "duration": 14,
    "start_time": "2022-05-08T18:24:25.335Z"
   },
   {
    "duration": 13,
    "start_time": "2022-05-08T18:24:25.350Z"
   },
   {
    "duration": 160,
    "start_time": "2022-05-08T18:24:25.364Z"
   },
   {
    "duration": 148,
    "start_time": "2022-05-08T18:24:25.526Z"
   },
   {
    "duration": 148,
    "start_time": "2022-05-08T18:24:25.676Z"
   },
   {
    "duration": 140,
    "start_time": "2022-05-08T18:24:25.826Z"
   },
   {
    "duration": 170,
    "start_time": "2022-05-08T18:24:25.968Z"
   },
   {
    "duration": 148,
    "start_time": "2022-05-08T18:24:26.139Z"
   },
   {
    "duration": 4,
    "start_time": "2022-05-08T18:24:26.289Z"
   },
   {
    "duration": 26,
    "start_time": "2022-05-08T18:24:26.295Z"
   },
   {
    "duration": 16,
    "start_time": "2022-05-08T18:24:26.322Z"
   },
   {
    "duration": 92,
    "start_time": "2022-05-08T18:24:26.340Z"
   },
   {
    "duration": 6,
    "start_time": "2022-05-08T18:24:26.434Z"
   },
   {
    "duration": 14,
    "start_time": "2022-05-08T18:24:26.442Z"
   },
   {
    "duration": 7,
    "start_time": "2022-05-08T18:24:26.458Z"
   },
   {
    "duration": 36,
    "start_time": "2022-05-08T18:24:26.467Z"
   },
   {
    "duration": 4,
    "start_time": "2022-05-08T18:24:26.505Z"
   },
   {
    "duration": 3,
    "start_time": "2022-05-08T18:24:26.515Z"
   },
   {
    "duration": 4,
    "start_time": "2022-05-08T18:24:26.520Z"
   },
   {
    "duration": 5,
    "start_time": "2022-05-08T18:24:26.526Z"
   },
   {
    "duration": 9,
    "start_time": "2022-05-08T18:24:26.533Z"
   },
   {
    "duration": 11,
    "start_time": "2022-05-08T18:24:26.543Z"
   },
   {
    "duration": 58,
    "start_time": "2022-05-08T18:24:26.556Z"
   },
   {
    "duration": 7,
    "start_time": "2022-05-08T18:24:26.616Z"
   },
   {
    "duration": 6,
    "start_time": "2022-05-08T18:24:26.625Z"
   },
   {
    "duration": 6,
    "start_time": "2022-05-08T18:24:26.633Z"
   },
   {
    "duration": 6,
    "start_time": "2022-05-08T18:24:26.641Z"
   },
   {
    "duration": 9,
    "start_time": "2022-05-08T18:24:26.649Z"
   },
   {
    "duration": 1117,
    "start_time": "2022-05-09T16:46:41.963Z"
   },
   {
    "duration": 438,
    "start_time": "2022-05-09T16:46:43.082Z"
   },
   {
    "duration": 14,
    "start_time": "2022-05-09T16:46:43.522Z"
   },
   {
    "duration": 15,
    "start_time": "2022-05-09T16:46:43.537Z"
   },
   {
    "duration": 11,
    "start_time": "2022-05-09T16:46:43.555Z"
   },
   {
    "duration": 6,
    "start_time": "2022-05-09T16:46:43.567Z"
   },
   {
    "duration": 13,
    "start_time": "2022-05-09T16:46:43.575Z"
   },
   {
    "duration": 9,
    "start_time": "2022-05-09T16:46:43.623Z"
   },
   {
    "duration": 34,
    "start_time": "2022-05-09T16:46:43.634Z"
   },
   {
    "duration": 57,
    "start_time": "2022-05-09T16:46:43.671Z"
   },
   {
    "duration": 48,
    "start_time": "2022-05-09T16:46:43.730Z"
   },
   {
    "duration": 23,
    "start_time": "2022-05-09T16:46:43.780Z"
   },
   {
    "duration": 5,
    "start_time": "2022-05-09T16:46:43.824Z"
   },
   {
    "duration": 8,
    "start_time": "2022-05-09T16:46:43.834Z"
   },
   {
    "duration": 7,
    "start_time": "2022-05-09T16:46:43.844Z"
   },
   {
    "duration": 27,
    "start_time": "2022-05-09T16:46:43.852Z"
   },
   {
    "duration": 51,
    "start_time": "2022-05-09T16:46:43.881Z"
   },
   {
    "duration": 7,
    "start_time": "2022-05-09T16:46:43.934Z"
   },
   {
    "duration": 19,
    "start_time": "2022-05-09T16:46:43.943Z"
   },
   {
    "duration": 16,
    "start_time": "2022-05-09T16:46:43.964Z"
   },
   {
    "duration": 53,
    "start_time": "2022-05-09T16:46:43.982Z"
   },
   {
    "duration": 11,
    "start_time": "2022-05-09T16:46:44.037Z"
   },
   {
    "duration": 10,
    "start_time": "2022-05-09T16:46:44.049Z"
   },
   {
    "duration": 31,
    "start_time": "2022-05-09T16:46:44.060Z"
   },
   {
    "duration": 47,
    "start_time": "2022-05-09T16:46:44.093Z"
   },
   {
    "duration": 19,
    "start_time": "2022-05-09T16:46:44.141Z"
   },
   {
    "duration": 32,
    "start_time": "2022-05-09T16:46:44.162Z"
   },
   {
    "duration": 30,
    "start_time": "2022-05-09T16:46:44.195Z"
   },
   {
    "duration": 9,
    "start_time": "2022-05-09T16:46:44.226Z"
   },
   {
    "duration": 6,
    "start_time": "2022-05-09T16:46:44.237Z"
   },
   {
    "duration": 14,
    "start_time": "2022-05-09T16:46:44.245Z"
   },
   {
    "duration": 30,
    "start_time": "2022-05-09T16:46:44.261Z"
   },
   {
    "duration": 32,
    "start_time": "2022-05-09T16:46:44.293Z"
   },
   {
    "duration": 32,
    "start_time": "2022-05-09T16:46:44.326Z"
   },
   {
    "duration": 7,
    "start_time": "2022-05-09T16:46:44.360Z"
   },
   {
    "duration": 18,
    "start_time": "2022-05-09T16:46:44.369Z"
   },
   {
    "duration": 37,
    "start_time": "2022-05-09T16:46:44.389Z"
   },
   {
    "duration": 16,
    "start_time": "2022-05-09T16:46:44.428Z"
   },
   {
    "duration": 7,
    "start_time": "2022-05-09T16:46:44.445Z"
   },
   {
    "duration": 26,
    "start_time": "2022-05-09T16:46:44.454Z"
   },
   {
    "duration": 10,
    "start_time": "2022-05-09T16:46:44.485Z"
   },
   {
    "duration": 41,
    "start_time": "2022-05-09T16:46:44.496Z"
   },
   {
    "duration": 7,
    "start_time": "2022-05-09T16:46:44.538Z"
   },
   {
    "duration": 12,
    "start_time": "2022-05-09T16:46:44.547Z"
   },
   {
    "duration": 12,
    "start_time": "2022-05-09T16:46:44.561Z"
   },
   {
    "duration": 9,
    "start_time": "2022-05-09T16:46:44.575Z"
   },
   {
    "duration": 39,
    "start_time": "2022-05-09T16:46:44.586Z"
   },
   {
    "duration": 26,
    "start_time": "2022-05-09T16:46:44.628Z"
   },
   {
    "duration": 29,
    "start_time": "2022-05-09T16:46:44.656Z"
   },
   {
    "duration": 39,
    "start_time": "2022-05-09T16:46:44.687Z"
   },
   {
    "duration": 7,
    "start_time": "2022-05-09T16:46:44.728Z"
   },
   {
    "duration": 10,
    "start_time": "2022-05-09T16:46:44.738Z"
   },
   {
    "duration": 14,
    "start_time": "2022-05-09T16:46:44.750Z"
   },
   {
    "duration": 5,
    "start_time": "2022-05-09T16:46:44.766Z"
   },
   {
    "duration": 51,
    "start_time": "2022-05-09T16:46:44.773Z"
   },
   {
    "duration": 184,
    "start_time": "2022-05-09T16:46:44.826Z"
   },
   {
    "duration": 37,
    "start_time": "2022-05-09T16:46:45.013Z"
   },
   {
    "duration": 9,
    "start_time": "2022-05-09T16:46:45.052Z"
   },
   {
    "duration": 30,
    "start_time": "2022-05-09T16:46:45.063Z"
   },
   {
    "duration": 39,
    "start_time": "2022-05-09T16:46:45.095Z"
   },
   {
    "duration": 6,
    "start_time": "2022-05-09T16:46:45.136Z"
   },
   {
    "duration": 190,
    "start_time": "2022-05-09T16:46:45.143Z"
   },
   {
    "duration": 146,
    "start_time": "2022-05-09T16:46:45.334Z"
   },
   {
    "duration": 144,
    "start_time": "2022-05-09T16:46:45.482Z"
   },
   {
    "duration": 15,
    "start_time": "2022-05-09T16:46:45.628Z"
   },
   {
    "duration": 13,
    "start_time": "2022-05-09T16:46:45.645Z"
   },
   {
    "duration": 178,
    "start_time": "2022-05-09T16:46:45.660Z"
   },
   {
    "duration": 154,
    "start_time": "2022-05-09T16:46:45.839Z"
   },
   {
    "duration": 155,
    "start_time": "2022-05-09T16:46:45.995Z"
   },
   {
    "duration": 148,
    "start_time": "2022-05-09T16:46:46.152Z"
   },
   {
    "duration": 169,
    "start_time": "2022-05-09T16:46:46.302Z"
   },
   {
    "duration": 157,
    "start_time": "2022-05-09T16:46:46.473Z"
   },
   {
    "duration": 4,
    "start_time": "2022-05-09T16:46:46.632Z"
   },
   {
    "duration": 15,
    "start_time": "2022-05-09T16:46:46.637Z"
   },
   {
    "duration": 16,
    "start_time": "2022-05-09T16:46:46.654Z"
   },
   {
    "duration": 105,
    "start_time": "2022-05-09T16:46:46.671Z"
   },
   {
    "duration": 5,
    "start_time": "2022-05-09T16:46:46.778Z"
   },
   {
    "duration": 24,
    "start_time": "2022-05-09T16:46:46.785Z"
   },
   {
    "duration": 6,
    "start_time": "2022-05-09T16:46:46.822Z"
   },
   {
    "duration": 15,
    "start_time": "2022-05-09T16:46:46.830Z"
   },
   {
    "duration": 3,
    "start_time": "2022-05-09T16:46:46.846Z"
   },
   {
    "duration": 4,
    "start_time": "2022-05-09T16:46:46.851Z"
   },
   {
    "duration": 5,
    "start_time": "2022-05-09T16:46:46.857Z"
   },
   {
    "duration": 5,
    "start_time": "2022-05-09T16:46:46.863Z"
   },
   {
    "duration": 10,
    "start_time": "2022-05-09T16:46:46.870Z"
   },
   {
    "duration": 10,
    "start_time": "2022-05-09T16:46:46.881Z"
   },
   {
    "duration": 28,
    "start_time": "2022-05-09T16:46:46.923Z"
   },
   {
    "duration": 6,
    "start_time": "2022-05-09T16:46:46.953Z"
   },
   {
    "duration": 6,
    "start_time": "2022-05-09T16:46:46.960Z"
   },
   {
    "duration": 12,
    "start_time": "2022-05-09T16:46:46.968Z"
   },
   {
    "duration": 8,
    "start_time": "2022-05-09T16:46:46.981Z"
   },
   {
    "duration": 4,
    "start_time": "2022-05-09T16:46:47.023Z"
   },
   {
    "duration": 203,
    "start_time": "2022-05-09T16:53:18.164Z"
   },
   {
    "duration": 4,
    "start_time": "2022-05-09T17:01:15.605Z"
   },
   {
    "duration": 29,
    "start_time": "2022-05-09T17:01:35.024Z"
   },
   {
    "duration": 21,
    "start_time": "2022-05-09T17:02:40.364Z"
   },
   {
    "duration": 1431,
    "start_time": "2022-05-09T18:46:51.100Z"
   },
   {
    "duration": 468,
    "start_time": "2022-05-09T18:46:52.534Z"
   },
   {
    "duration": 14,
    "start_time": "2022-05-09T18:46:53.004Z"
   },
   {
    "duration": 15,
    "start_time": "2022-05-09T18:46:53.021Z"
   },
   {
    "duration": 13,
    "start_time": "2022-05-09T18:46:53.037Z"
   },
   {
    "duration": 7,
    "start_time": "2022-05-09T18:46:53.052Z"
   },
   {
    "duration": 12,
    "start_time": "2022-05-09T18:46:53.061Z"
   },
   {
    "duration": 10,
    "start_time": "2022-05-09T18:46:53.075Z"
   },
   {
    "duration": 56,
    "start_time": "2022-05-09T18:46:53.087Z"
   },
   {
    "duration": 28,
    "start_time": "2022-05-09T18:46:53.147Z"
   },
   {
    "duration": 63,
    "start_time": "2022-05-09T18:46:53.177Z"
   },
   {
    "duration": 20,
    "start_time": "2022-05-09T18:46:53.242Z"
   },
   {
    "duration": 6,
    "start_time": "2022-05-09T18:46:53.264Z"
   },
   {
    "duration": 9,
    "start_time": "2022-05-09T18:46:53.272Z"
   },
   {
    "duration": 41,
    "start_time": "2022-05-09T18:46:53.283Z"
   },
   {
    "duration": 39,
    "start_time": "2022-05-09T18:46:53.326Z"
   },
   {
    "duration": 29,
    "start_time": "2022-05-09T18:46:53.368Z"
   },
   {
    "duration": 26,
    "start_time": "2022-05-09T18:46:53.399Z"
   },
   {
    "duration": 30,
    "start_time": "2022-05-09T18:46:53.427Z"
   },
   {
    "duration": 24,
    "start_time": "2022-05-09T18:46:53.459Z"
   },
   {
    "duration": 55,
    "start_time": "2022-05-09T18:46:53.485Z"
   },
   {
    "duration": 15,
    "start_time": "2022-05-09T18:46:53.542Z"
   },
   {
    "duration": 12,
    "start_time": "2022-05-09T18:46:53.560Z"
   },
   {
    "duration": 53,
    "start_time": "2022-05-09T18:46:53.574Z"
   },
   {
    "duration": 23,
    "start_time": "2022-05-09T18:46:53.629Z"
   },
   {
    "duration": 20,
    "start_time": "2022-05-09T18:46:53.654Z"
   },
   {
    "duration": 46,
    "start_time": "2022-05-09T18:46:53.677Z"
   },
   {
    "duration": 13,
    "start_time": "2022-05-09T18:46:53.728Z"
   },
   {
    "duration": 15,
    "start_time": "2022-05-09T18:46:53.744Z"
   },
   {
    "duration": 23,
    "start_time": "2022-05-09T18:46:53.760Z"
   },
   {
    "duration": 25,
    "start_time": "2022-05-09T18:46:53.785Z"
   },
   {
    "duration": 27,
    "start_time": "2022-05-09T18:46:53.812Z"
   },
   {
    "duration": 9,
    "start_time": "2022-05-09T18:46:53.840Z"
   },
   {
    "duration": 38,
    "start_time": "2022-05-09T18:46:53.852Z"
   },
   {
    "duration": 9,
    "start_time": "2022-05-09T18:46:53.892Z"
   },
   {
    "duration": 33,
    "start_time": "2022-05-09T18:46:53.902Z"
   },
   {
    "duration": 9,
    "start_time": "2022-05-09T18:46:53.937Z"
   },
   {
    "duration": 21,
    "start_time": "2022-05-09T18:46:53.947Z"
   },
   {
    "duration": 7,
    "start_time": "2022-05-09T18:46:53.970Z"
   },
   {
    "duration": 46,
    "start_time": "2022-05-09T18:46:53.978Z"
   },
   {
    "duration": 9,
    "start_time": "2022-05-09T18:46:54.026Z"
   },
   {
    "duration": 30,
    "start_time": "2022-05-09T18:46:54.037Z"
   },
   {
    "duration": 7,
    "start_time": "2022-05-09T18:46:54.068Z"
   },
   {
    "duration": 10,
    "start_time": "2022-05-09T18:46:54.077Z"
   },
   {
    "duration": 20,
    "start_time": "2022-05-09T18:46:54.089Z"
   },
   {
    "duration": 18,
    "start_time": "2022-05-09T18:46:54.111Z"
   },
   {
    "duration": 17,
    "start_time": "2022-05-09T18:46:54.131Z"
   },
   {
    "duration": 34,
    "start_time": "2022-05-09T18:46:54.150Z"
   },
   {
    "duration": 21,
    "start_time": "2022-05-09T18:46:54.186Z"
   },
   {
    "duration": 15,
    "start_time": "2022-05-09T18:46:54.209Z"
   },
   {
    "duration": 11,
    "start_time": "2022-05-09T18:46:54.225Z"
   },
   {
    "duration": 24,
    "start_time": "2022-05-09T18:46:54.237Z"
   },
   {
    "duration": 24,
    "start_time": "2022-05-09T18:46:54.263Z"
   },
   {
    "duration": 7,
    "start_time": "2022-05-09T18:46:54.289Z"
   },
   {
    "duration": 38,
    "start_time": "2022-05-09T18:46:54.298Z"
   },
   {
    "duration": 136,
    "start_time": "2022-05-09T18:46:54.337Z"
   },
   {
    "duration": 22,
    "start_time": "2022-05-09T18:46:54.475Z"
   },
   {
    "duration": 15,
    "start_time": "2022-05-09T18:46:54.499Z"
   },
   {
    "duration": 23,
    "start_time": "2022-05-09T18:46:54.516Z"
   },
   {
    "duration": 25,
    "start_time": "2022-05-09T18:46:54.541Z"
   },
   {
    "duration": 11,
    "start_time": "2022-05-09T18:46:54.568Z"
   },
   {
    "duration": 193,
    "start_time": "2022-05-09T18:46:54.581Z"
   },
   {
    "duration": 149,
    "start_time": "2022-05-09T18:46:54.776Z"
   },
   {
    "duration": 162,
    "start_time": "2022-05-09T18:46:54.927Z"
   },
   {
    "duration": 14,
    "start_time": "2022-05-09T18:46:55.091Z"
   },
   {
    "duration": 25,
    "start_time": "2022-05-09T18:46:55.107Z"
   },
   {
    "duration": 159,
    "start_time": "2022-05-09T18:46:55.134Z"
   },
   {
    "duration": 154,
    "start_time": "2022-05-09T18:46:55.296Z"
   },
   {
    "duration": 150,
    "start_time": "2022-05-09T18:46:55.451Z"
   },
   {
    "duration": 210,
    "start_time": "2022-05-09T18:46:55.603Z"
   },
   {
    "duration": 261,
    "start_time": "2022-05-09T18:46:55.815Z"
   },
   {
    "duration": 223,
    "start_time": "2022-05-09T18:46:56.078Z"
   },
   {
    "duration": 5,
    "start_time": "2022-05-09T18:46:56.303Z"
   },
   {
    "duration": 17,
    "start_time": "2022-05-09T18:46:56.310Z"
   },
   {
    "duration": 43,
    "start_time": "2022-05-09T18:46:56.330Z"
   },
   {
    "duration": 90,
    "start_time": "2022-05-09T18:46:56.375Z"
   },
   {
    "duration": 5,
    "start_time": "2022-05-09T18:46:56.467Z"
   },
   {
    "duration": 26,
    "start_time": "2022-05-09T18:46:56.474Z"
   },
   {
    "duration": 7,
    "start_time": "2022-05-09T18:46:56.502Z"
   },
   {
    "duration": 34,
    "start_time": "2022-05-09T18:46:56.511Z"
   },
   {
    "duration": 6,
    "start_time": "2022-05-09T18:46:56.547Z"
   },
   {
    "duration": 14,
    "start_time": "2022-05-09T18:46:56.559Z"
   },
   {
    "duration": 17,
    "start_time": "2022-05-09T18:46:56.575Z"
   },
   {
    "duration": 11,
    "start_time": "2022-05-09T18:46:56.594Z"
   },
   {
    "duration": 29,
    "start_time": "2022-05-09T18:46:56.607Z"
   },
   {
    "duration": 5,
    "start_time": "2022-05-09T18:46:56.638Z"
   },
   {
    "duration": 48,
    "start_time": "2022-05-09T18:46:56.644Z"
   },
   {
    "duration": 8,
    "start_time": "2022-05-09T18:46:56.693Z"
   },
   {
    "duration": 24,
    "start_time": "2022-05-09T18:46:56.703Z"
   },
   {
    "duration": 12,
    "start_time": "2022-05-09T18:46:56.729Z"
   },
   {
    "duration": 5,
    "start_time": "2022-05-09T18:46:56.743Z"
   },
   {
    "duration": 12,
    "start_time": "2022-05-09T18:46:56.749Z"
   },
   {
    "duration": 1288,
    "start_time": "2022-05-09T18:51:21.217Z"
   },
   {
    "duration": 487,
    "start_time": "2022-05-09T18:51:22.507Z"
   },
   {
    "duration": 16,
    "start_time": "2022-05-09T18:51:22.996Z"
   },
   {
    "duration": 16,
    "start_time": "2022-05-09T18:51:23.014Z"
   },
   {
    "duration": 13,
    "start_time": "2022-05-09T18:51:23.032Z"
   },
   {
    "duration": 23,
    "start_time": "2022-05-09T18:51:23.047Z"
   },
   {
    "duration": 13,
    "start_time": "2022-05-09T18:51:23.072Z"
   },
   {
    "duration": 23,
    "start_time": "2022-05-09T18:51:23.087Z"
   },
   {
    "duration": 33,
    "start_time": "2022-05-09T18:51:23.112Z"
   },
   {
    "duration": 28,
    "start_time": "2022-05-09T18:51:23.148Z"
   },
   {
    "duration": 45,
    "start_time": "2022-05-09T18:51:23.178Z"
   },
   {
    "duration": 19,
    "start_time": "2022-05-09T18:51:23.225Z"
   },
   {
    "duration": 11,
    "start_time": "2022-05-09T18:51:23.246Z"
   },
   {
    "duration": 21,
    "start_time": "2022-05-09T18:51:23.258Z"
   },
   {
    "duration": 10,
    "start_time": "2022-05-09T18:51:23.280Z"
   },
   {
    "duration": 35,
    "start_time": "2022-05-09T18:51:23.292Z"
   },
   {
    "duration": 20,
    "start_time": "2022-05-09T18:51:23.328Z"
   },
   {
    "duration": 8,
    "start_time": "2022-05-09T18:51:23.349Z"
   },
   {
    "duration": 23,
    "start_time": "2022-05-09T18:51:23.358Z"
   },
   {
    "duration": 18,
    "start_time": "2022-05-09T18:51:23.382Z"
   },
   {
    "duration": 30,
    "start_time": "2022-05-09T18:51:23.401Z"
   },
   {
    "duration": 16,
    "start_time": "2022-05-09T18:51:23.434Z"
   },
   {
    "duration": 12,
    "start_time": "2022-05-09T18:51:23.452Z"
   },
   {
    "duration": 41,
    "start_time": "2022-05-09T18:51:23.467Z"
   },
   {
    "duration": 44,
    "start_time": "2022-05-09T18:51:23.510Z"
   },
   {
    "duration": 26,
    "start_time": "2022-05-09T18:51:23.557Z"
   },
   {
    "duration": 45,
    "start_time": "2022-05-09T18:51:23.585Z"
   },
   {
    "duration": 17,
    "start_time": "2022-05-09T18:51:23.637Z"
   },
   {
    "duration": 12,
    "start_time": "2022-05-09T18:51:23.656Z"
   },
   {
    "duration": 5,
    "start_time": "2022-05-09T18:51:23.670Z"
   },
   {
    "duration": 19,
    "start_time": "2022-05-09T18:51:23.677Z"
   },
   {
    "duration": 43,
    "start_time": "2022-05-09T18:51:23.698Z"
   },
   {
    "duration": 11,
    "start_time": "2022-05-09T18:51:23.744Z"
   },
   {
    "duration": 95,
    "start_time": "2022-05-09T18:51:23.757Z"
   },
   {
    "duration": 8,
    "start_time": "2022-05-09T18:51:23.854Z"
   },
   {
    "duration": 20,
    "start_time": "2022-05-09T18:51:23.863Z"
   },
   {
    "duration": 8,
    "start_time": "2022-05-09T18:51:23.884Z"
   },
   {
    "duration": 42,
    "start_time": "2022-05-09T18:51:23.894Z"
   },
   {
    "duration": 7,
    "start_time": "2022-05-09T18:51:23.938Z"
   },
   {
    "duration": 22,
    "start_time": "2022-05-09T18:51:23.947Z"
   },
   {
    "duration": 9,
    "start_time": "2022-05-09T18:51:23.970Z"
   },
   {
    "duration": 51,
    "start_time": "2022-05-09T18:51:23.981Z"
   },
   {
    "duration": 8,
    "start_time": "2022-05-09T18:51:24.033Z"
   },
   {
    "duration": 9,
    "start_time": "2022-05-09T18:51:24.043Z"
   },
   {
    "duration": 9,
    "start_time": "2022-05-09T18:51:24.054Z"
   },
   {
    "duration": 62,
    "start_time": "2022-05-09T18:51:24.064Z"
   },
   {
    "duration": 11,
    "start_time": "2022-05-09T18:51:24.128Z"
   },
   {
    "duration": 23,
    "start_time": "2022-05-09T18:51:24.140Z"
   },
   {
    "duration": 77,
    "start_time": "2022-05-09T18:51:24.164Z"
   },
   {
    "duration": 8,
    "start_time": "2022-05-09T18:51:24.243Z"
   },
   {
    "duration": 6,
    "start_time": "2022-05-09T18:51:24.253Z"
   },
   {
    "duration": 64,
    "start_time": "2022-05-09T18:51:24.260Z"
   },
   {
    "duration": 15,
    "start_time": "2022-05-09T18:51:24.326Z"
   },
   {
    "duration": 6,
    "start_time": "2022-05-09T18:51:24.343Z"
   },
   {
    "duration": 29,
    "start_time": "2022-05-09T18:51:24.350Z"
   },
   {
    "duration": 189,
    "start_time": "2022-05-09T18:51:24.422Z"
   },
   {
    "duration": 35,
    "start_time": "2022-05-09T18:51:24.613Z"
   },
   {
    "duration": 6,
    "start_time": "2022-05-09T18:51:24.650Z"
   },
   {
    "duration": 23,
    "start_time": "2022-05-09T18:51:24.658Z"
   },
   {
    "duration": 46,
    "start_time": "2022-05-09T18:51:24.683Z"
   },
   {
    "duration": 7,
    "start_time": "2022-05-09T18:51:24.731Z"
   },
   {
    "duration": 272,
    "start_time": "2022-05-09T18:51:24.741Z"
   },
   {
    "duration": 204,
    "start_time": "2022-05-09T18:51:25.016Z"
   },
   {
    "duration": 220,
    "start_time": "2022-05-09T18:51:25.223Z"
   },
   {
    "duration": 19,
    "start_time": "2022-05-09T18:51:25.446Z"
   },
   {
    "duration": 18,
    "start_time": "2022-05-09T18:51:25.467Z"
   },
   {
    "duration": 253,
    "start_time": "2022-05-09T18:51:25.487Z"
   },
   {
    "duration": 232,
    "start_time": "2022-05-09T18:51:25.742Z"
   },
   {
    "duration": 234,
    "start_time": "2022-05-09T18:51:25.976Z"
   },
   {
    "duration": 221,
    "start_time": "2022-05-09T18:51:26.212Z"
   },
   {
    "duration": 169,
    "start_time": "2022-05-09T18:51:26.435Z"
   },
   {
    "duration": 153,
    "start_time": "2022-05-09T18:51:26.606Z"
   },
   {
    "duration": 4,
    "start_time": "2022-05-09T18:51:26.761Z"
   },
   {
    "duration": 6,
    "start_time": "2022-05-09T18:51:26.768Z"
   },
   {
    "duration": 13,
    "start_time": "2022-05-09T18:51:26.776Z"
   },
   {
    "duration": 115,
    "start_time": "2022-05-09T18:51:26.791Z"
   },
   {
    "duration": 14,
    "start_time": "2022-05-09T18:51:26.909Z"
   },
   {
    "duration": 14,
    "start_time": "2022-05-09T18:51:26.925Z"
   },
   {
    "duration": 7,
    "start_time": "2022-05-09T18:51:26.940Z"
   },
   {
    "duration": 13,
    "start_time": "2022-05-09T18:51:26.949Z"
   },
   {
    "duration": 3,
    "start_time": "2022-05-09T18:51:26.964Z"
   },
   {
    "duration": 3,
    "start_time": "2022-05-09T18:51:26.974Z"
   },
   {
    "duration": 4,
    "start_time": "2022-05-09T18:51:26.979Z"
   },
   {
    "duration": 4,
    "start_time": "2022-05-09T18:51:27.024Z"
   },
   {
    "duration": 7,
    "start_time": "2022-05-09T18:51:27.030Z"
   },
   {
    "duration": 5,
    "start_time": "2022-05-09T18:51:27.039Z"
   },
   {
    "duration": 35,
    "start_time": "2022-05-09T18:51:27.046Z"
   },
   {
    "duration": 6,
    "start_time": "2022-05-09T18:51:27.083Z"
   },
   {
    "duration": 33,
    "start_time": "2022-05-09T18:51:27.091Z"
   },
   {
    "duration": 6,
    "start_time": "2022-05-09T18:51:27.126Z"
   },
   {
    "duration": 8,
    "start_time": "2022-05-09T18:51:27.134Z"
   },
   {
    "duration": 14,
    "start_time": "2022-05-09T18:51:27.144Z"
   },
   {
    "duration": 245,
    "start_time": "2022-05-09T18:58:57.808Z"
   },
   {
    "duration": 184,
    "start_time": "2022-05-09T18:59:14.425Z"
   },
   {
    "duration": 161,
    "start_time": "2022-05-09T18:59:35.728Z"
   },
   {
    "duration": 164,
    "start_time": "2022-05-09T19:00:30.761Z"
   },
   {
    "duration": 219,
    "start_time": "2022-05-09T19:01:14.822Z"
   },
   {
    "duration": 175,
    "start_time": "2022-05-09T19:03:25.817Z"
   },
   {
    "duration": 177,
    "start_time": "2022-05-09T19:04:29.133Z"
   },
   {
    "duration": 1738,
    "start_time": "2022-05-09T19:15:05.124Z"
   },
   {
    "duration": 566,
    "start_time": "2022-05-09T19:15:06.864Z"
   },
   {
    "duration": 15,
    "start_time": "2022-05-09T19:15:07.436Z"
   },
   {
    "duration": 15,
    "start_time": "2022-05-09T19:15:07.454Z"
   },
   {
    "duration": 13,
    "start_time": "2022-05-09T19:15:07.470Z"
   },
   {
    "duration": 9,
    "start_time": "2022-05-09T19:15:07.485Z"
   },
   {
    "duration": 34,
    "start_time": "2022-05-09T19:15:07.496Z"
   },
   {
    "duration": 10,
    "start_time": "2022-05-09T19:15:07.531Z"
   },
   {
    "duration": 41,
    "start_time": "2022-05-09T19:15:07.545Z"
   },
   {
    "duration": 52,
    "start_time": "2022-05-09T19:15:07.589Z"
   },
   {
    "duration": 55,
    "start_time": "2022-05-09T19:15:07.645Z"
   },
   {
    "duration": 47,
    "start_time": "2022-05-09T19:15:07.703Z"
   },
   {
    "duration": 6,
    "start_time": "2022-05-09T19:15:07.752Z"
   },
   {
    "duration": 10,
    "start_time": "2022-05-09T19:15:07.761Z"
   },
   {
    "duration": 67,
    "start_time": "2022-05-09T19:15:07.773Z"
   },
   {
    "duration": 25,
    "start_time": "2022-05-09T19:15:07.842Z"
   },
   {
    "duration": 9,
    "start_time": "2022-05-09T19:15:07.870Z"
   },
   {
    "duration": 51,
    "start_time": "2022-05-09T19:15:07.881Z"
   },
   {
    "duration": 22,
    "start_time": "2022-05-09T19:15:07.933Z"
   },
   {
    "duration": 24,
    "start_time": "2022-05-09T19:15:07.956Z"
   },
   {
    "duration": 15,
    "start_time": "2022-05-09T19:15:07.981Z"
   },
   {
    "duration": 34,
    "start_time": "2022-05-09T19:15:07.998Z"
   },
   {
    "duration": 50,
    "start_time": "2022-05-09T19:15:08.034Z"
   },
   {
    "duration": 51,
    "start_time": "2022-05-09T19:15:08.086Z"
   },
   {
    "duration": 27,
    "start_time": "2022-05-09T19:15:08.140Z"
   },
   {
    "duration": 28,
    "start_time": "2022-05-09T19:15:08.170Z"
   },
   {
    "duration": 38,
    "start_time": "2022-05-09T19:15:08.200Z"
   },
   {
    "duration": 10,
    "start_time": "2022-05-09T19:15:08.243Z"
   },
   {
    "duration": 3,
    "start_time": "2022-05-09T19:15:08.255Z"
   },
   {
    "duration": 18,
    "start_time": "2022-05-09T19:15:08.260Z"
   },
   {
    "duration": 64,
    "start_time": "2022-05-09T19:15:08.281Z"
   },
   {
    "duration": 14,
    "start_time": "2022-05-09T19:15:08.347Z"
   },
   {
    "duration": 62,
    "start_time": "2022-05-09T19:15:08.363Z"
   },
   {
    "duration": 9,
    "start_time": "2022-05-09T19:15:08.427Z"
   },
   {
    "duration": 19,
    "start_time": "2022-05-09T19:15:08.438Z"
   },
   {
    "duration": 13,
    "start_time": "2022-05-09T19:15:08.459Z"
   },
   {
    "duration": 61,
    "start_time": "2022-05-09T19:15:08.474Z"
   },
   {
    "duration": 10,
    "start_time": "2022-05-09T19:15:08.538Z"
   },
   {
    "duration": 23,
    "start_time": "2022-05-09T19:15:08.553Z"
   },
   {
    "duration": 13,
    "start_time": "2022-05-09T19:15:08.579Z"
   },
   {
    "duration": 43,
    "start_time": "2022-05-09T19:15:08.594Z"
   },
   {
    "duration": 9,
    "start_time": "2022-05-09T19:15:08.639Z"
   },
   {
    "duration": 10,
    "start_time": "2022-05-09T19:15:08.650Z"
   },
   {
    "duration": 9,
    "start_time": "2022-05-09T19:15:08.663Z"
   },
   {
    "duration": 11,
    "start_time": "2022-05-09T19:15:08.674Z"
   },
   {
    "duration": 37,
    "start_time": "2022-05-09T19:15:08.686Z"
   },
   {
    "duration": 24,
    "start_time": "2022-05-09T19:15:08.733Z"
   },
   {
    "duration": 30,
    "start_time": "2022-05-09T19:15:08.760Z"
   },
   {
    "duration": 35,
    "start_time": "2022-05-09T19:15:08.792Z"
   },
   {
    "duration": 13,
    "start_time": "2022-05-09T19:15:08.829Z"
   },
   {
    "duration": 24,
    "start_time": "2022-05-09T19:15:08.845Z"
   },
   {
    "duration": 32,
    "start_time": "2022-05-09T19:15:08.871Z"
   },
   {
    "duration": 7,
    "start_time": "2022-05-09T19:15:08.905Z"
   },
   {
    "duration": 40,
    "start_time": "2022-05-09T19:15:08.914Z"
   },
   {
    "duration": 209,
    "start_time": "2022-05-09T19:15:08.956Z"
   },
   {
    "duration": 23,
    "start_time": "2022-05-09T19:15:09.167Z"
   },
   {
    "duration": 19,
    "start_time": "2022-05-09T19:15:09.192Z"
   },
   {
    "duration": 38,
    "start_time": "2022-05-09T19:15:09.213Z"
   },
   {
    "duration": 21,
    "start_time": "2022-05-09T19:15:09.254Z"
   },
   {
    "duration": 8,
    "start_time": "2022-05-09T19:15:09.277Z"
   },
   {
    "duration": 208,
    "start_time": "2022-05-09T19:15:09.287Z"
   },
   {
    "duration": 176,
    "start_time": "2022-05-09T19:15:09.497Z"
   },
   {
    "duration": 164,
    "start_time": "2022-05-09T19:15:09.675Z"
   },
   {
    "duration": 17,
    "start_time": "2022-05-09T19:15:09.841Z"
   },
   {
    "duration": 16,
    "start_time": "2022-05-09T19:15:09.860Z"
   },
   {
    "duration": 235,
    "start_time": "2022-05-09T19:15:09.879Z"
   },
   {
    "duration": 202,
    "start_time": "2022-05-09T19:15:10.116Z"
   },
   {
    "duration": 314,
    "start_time": "2022-05-09T19:15:10.322Z"
   },
   {
    "duration": 4,
    "start_time": "2022-05-09T19:15:10.641Z"
   },
   {
    "duration": 13,
    "start_time": "2022-05-09T19:15:10.648Z"
   },
   {
    "duration": 39,
    "start_time": "2022-05-09T19:15:10.664Z"
   },
   {
    "duration": 29,
    "start_time": "2022-05-09T19:15:10.705Z"
   },
   {
    "duration": 25,
    "start_time": "2022-05-09T19:15:10.736Z"
   },
   {
    "duration": 21,
    "start_time": "2022-05-09T19:15:10.763Z"
   },
   {
    "duration": 7,
    "start_time": "2022-05-09T19:15:10.787Z"
   },
   {
    "duration": 20,
    "start_time": "2022-05-09T19:15:10.796Z"
   },
   {
    "duration": 16,
    "start_time": "2022-05-09T19:15:10.818Z"
   },
   {
    "duration": 6,
    "start_time": "2022-05-09T19:15:10.836Z"
   },
   {
    "duration": 19,
    "start_time": "2022-05-09T19:15:10.844Z"
   },
   {
    "duration": 20,
    "start_time": "2022-05-09T19:15:10.865Z"
   },
   {
    "duration": 19,
    "start_time": "2022-05-09T19:15:10.887Z"
   },
   {
    "duration": 14,
    "start_time": "2022-05-09T19:15:10.912Z"
   },
   {
    "duration": 38,
    "start_time": "2022-05-09T19:15:10.931Z"
   },
   {
    "duration": 7,
    "start_time": "2022-05-09T19:15:10.971Z"
   },
   {
    "duration": 22,
    "start_time": "2022-05-09T19:15:10.980Z"
   },
   {
    "duration": 16,
    "start_time": "2022-05-09T19:15:11.003Z"
   },
   {
    "duration": 16,
    "start_time": "2022-05-09T19:15:11.020Z"
   },
   {
    "duration": 20,
    "start_time": "2022-05-09T19:15:11.038Z"
   },
   {
    "duration": 1282,
    "start_time": "2022-05-10T08:56:09.443Z"
   },
   {
    "duration": 362,
    "start_time": "2022-05-10T08:56:10.727Z"
   },
   {
    "duration": 14,
    "start_time": "2022-05-10T08:56:11.091Z"
   },
   {
    "duration": 14,
    "start_time": "2022-05-10T08:56:11.107Z"
   },
   {
    "duration": 12,
    "start_time": "2022-05-10T08:56:11.122Z"
   },
   {
    "duration": 7,
    "start_time": "2022-05-10T08:56:11.136Z"
   },
   {
    "duration": 33,
    "start_time": "2022-05-10T08:56:11.144Z"
   },
   {
    "duration": 8,
    "start_time": "2022-05-10T08:56:11.179Z"
   },
   {
    "duration": 30,
    "start_time": "2022-05-10T08:56:11.189Z"
   },
   {
    "duration": 52,
    "start_time": "2022-05-10T08:56:11.223Z"
   },
   {
    "duration": 42,
    "start_time": "2022-05-10T08:56:11.277Z"
   },
   {
    "duration": 19,
    "start_time": "2022-05-10T08:56:11.321Z"
   },
   {
    "duration": 32,
    "start_time": "2022-05-10T08:56:11.341Z"
   },
   {
    "duration": 8,
    "start_time": "2022-05-10T08:56:11.375Z"
   },
   {
    "duration": 35,
    "start_time": "2022-05-10T08:56:11.385Z"
   },
   {
    "duration": 26,
    "start_time": "2022-05-10T08:56:11.422Z"
   },
   {
    "duration": 29,
    "start_time": "2022-05-10T08:56:11.450Z"
   },
   {
    "duration": 32,
    "start_time": "2022-05-10T08:56:11.481Z"
   },
   {
    "duration": 19,
    "start_time": "2022-05-10T08:56:11.515Z"
   },
   {
    "duration": 38,
    "start_time": "2022-05-10T08:56:11.535Z"
   },
   {
    "duration": 11,
    "start_time": "2022-05-10T08:56:11.575Z"
   },
   {
    "duration": 9,
    "start_time": "2022-05-10T08:56:11.587Z"
   },
   {
    "duration": 34,
    "start_time": "2022-05-10T08:56:11.597Z"
   },
   {
    "duration": 43,
    "start_time": "2022-05-10T08:56:11.633Z"
   },
   {
    "duration": 16,
    "start_time": "2022-05-10T08:56:11.678Z"
   },
   {
    "duration": 26,
    "start_time": "2022-05-10T08:56:11.696Z"
   },
   {
    "duration": 12,
    "start_time": "2022-05-10T08:56:11.724Z"
   },
   {
    "duration": 7,
    "start_time": "2022-05-10T08:56:11.741Z"
   },
   {
    "duration": 4,
    "start_time": "2022-05-10T08:56:11.773Z"
   },
   {
    "duration": 13,
    "start_time": "2022-05-10T08:56:11.779Z"
   },
   {
    "duration": 26,
    "start_time": "2022-05-10T08:56:11.794Z"
   },
   {
    "duration": 8,
    "start_time": "2022-05-10T08:56:11.822Z"
   },
   {
    "duration": 71,
    "start_time": "2022-05-10T08:56:11.831Z"
   },
   {
    "duration": 8,
    "start_time": "2022-05-10T08:56:11.904Z"
   },
   {
    "duration": 21,
    "start_time": "2022-05-10T08:56:11.914Z"
   },
   {
    "duration": 9,
    "start_time": "2022-05-10T08:56:11.937Z"
   },
   {
    "duration": 32,
    "start_time": "2022-05-10T08:56:11.948Z"
   },
   {
    "duration": 6,
    "start_time": "2022-05-10T08:56:11.982Z"
   },
   {
    "duration": 19,
    "start_time": "2022-05-10T08:56:11.990Z"
   },
   {
    "duration": 9,
    "start_time": "2022-05-10T08:56:12.011Z"
   },
   {
    "duration": 17,
    "start_time": "2022-05-10T08:56:12.021Z"
   },
   {
    "duration": 36,
    "start_time": "2022-05-10T08:56:12.040Z"
   },
   {
    "duration": 11,
    "start_time": "2022-05-10T08:56:12.078Z"
   },
   {
    "duration": 11,
    "start_time": "2022-05-10T08:56:12.091Z"
   },
   {
    "duration": 9,
    "start_time": "2022-05-10T08:56:12.104Z"
   },
   {
    "duration": 10,
    "start_time": "2022-05-10T08:56:12.115Z"
   },
   {
    "duration": 50,
    "start_time": "2022-05-10T08:56:12.126Z"
   },
   {
    "duration": 21,
    "start_time": "2022-05-10T08:56:12.178Z"
   },
   {
    "duration": 9,
    "start_time": "2022-05-10T08:56:12.201Z"
   },
   {
    "duration": 10,
    "start_time": "2022-05-10T08:56:12.211Z"
   },
   {
    "duration": 11,
    "start_time": "2022-05-10T08:56:12.222Z"
   },
   {
    "duration": 39,
    "start_time": "2022-05-10T08:56:12.234Z"
   },
   {
    "duration": 5,
    "start_time": "2022-05-10T08:56:12.275Z"
   },
   {
    "duration": 24,
    "start_time": "2022-05-10T08:56:12.281Z"
   },
   {
    "duration": 124,
    "start_time": "2022-05-10T08:56:12.308Z"
   },
   {
    "duration": 23,
    "start_time": "2022-05-10T08:56:12.433Z"
   },
   {
    "duration": 18,
    "start_time": "2022-05-10T08:56:12.458Z"
   },
   {
    "duration": 25,
    "start_time": "2022-05-10T08:56:12.478Z"
   },
   {
    "duration": 17,
    "start_time": "2022-05-10T08:56:12.505Z"
   },
   {
    "duration": 6,
    "start_time": "2022-05-10T08:56:12.524Z"
   },
   {
    "duration": 199,
    "start_time": "2022-05-10T08:56:12.532Z"
   },
   {
    "duration": 141,
    "start_time": "2022-05-10T08:56:12.733Z"
   },
   {
    "duration": 148,
    "start_time": "2022-05-10T08:56:12.875Z"
   },
   {
    "duration": 14,
    "start_time": "2022-05-10T08:56:13.025Z"
   },
   {
    "duration": 15,
    "start_time": "2022-05-10T08:56:13.041Z"
   },
   {
    "duration": 193,
    "start_time": "2022-05-10T08:56:13.074Z"
   },
   {
    "duration": 170,
    "start_time": "2022-05-10T08:56:13.269Z"
   },
   {
    "duration": 202,
    "start_time": "2022-05-10T08:56:13.441Z"
   },
   {
    "duration": 6,
    "start_time": "2022-05-10T08:56:13.645Z"
   },
   {
    "duration": 8,
    "start_time": "2022-05-10T08:56:13.652Z"
   },
   {
    "duration": 19,
    "start_time": "2022-05-10T08:56:13.662Z"
   },
   {
    "duration": 13,
    "start_time": "2022-05-10T08:56:13.683Z"
   },
   {
    "duration": 11,
    "start_time": "2022-05-10T08:56:13.698Z"
   },
   {
    "duration": 24,
    "start_time": "2022-05-10T08:56:13.710Z"
   },
   {
    "duration": 11,
    "start_time": "2022-05-10T08:56:13.736Z"
   },
   {
    "duration": 31,
    "start_time": "2022-05-10T08:56:13.749Z"
   },
   {
    "duration": 3,
    "start_time": "2022-05-10T08:56:13.782Z"
   },
   {
    "duration": 11,
    "start_time": "2022-05-10T08:56:13.786Z"
   },
   {
    "duration": 16,
    "start_time": "2022-05-10T08:56:13.798Z"
   },
   {
    "duration": 10,
    "start_time": "2022-05-10T08:56:13.816Z"
   },
   {
    "duration": 11,
    "start_time": "2022-05-10T08:56:13.828Z"
   },
   {
    "duration": 11,
    "start_time": "2022-05-10T08:56:13.844Z"
   },
   {
    "duration": 35,
    "start_time": "2022-05-10T08:56:13.857Z"
   },
   {
    "duration": 14,
    "start_time": "2022-05-10T08:56:13.894Z"
   },
   {
    "duration": 8,
    "start_time": "2022-05-10T08:56:13.910Z"
   },
   {
    "duration": 7,
    "start_time": "2022-05-10T08:56:13.920Z"
   },
   {
    "duration": 5,
    "start_time": "2022-05-10T08:56:13.928Z"
   },
   {
    "duration": 10,
    "start_time": "2022-05-10T08:56:13.934Z"
   },
   {
    "duration": 26,
    "start_time": "2022-05-10T08:57:40.781Z"
   }
  ],
  "kernelspec": {
   "display_name": "Python 3",
   "language": "python",
   "name": "python3"
  },
  "language_info": {
   "codemirror_mode": {
    "name": "ipython",
    "version": 3
   },
   "file_extension": ".py",
   "mimetype": "text/x-python",
   "name": "python",
   "nbconvert_exporter": "python",
   "pygments_lexer": "ipython3",
   "version": "3.7.3"
  },
  "toc": {
   "base_numbering": 1,
   "nav_menu": {},
   "number_sections": true,
   "sideBar": true,
   "skip_h1_title": true,
   "title_cell": "Table of Contents",
   "title_sidebar": "Contents",
   "toc_cell": false,
   "toc_position": {},
   "toc_section_display": true,
   "toc_window_display": true
  }
 },
 "nbformat": 4,
 "nbformat_minor": 2
}
