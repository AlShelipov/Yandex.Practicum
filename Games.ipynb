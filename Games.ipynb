{
 "cells": [
  {
   "cell_type": "markdown",
   "metadata": {},
   "source": [
    "<div class=\"alert alert-success\">\n",
    "<b> Комментарий от ревьюера 2 ✔️</b>\n",
    "\n",
    "Привет еще раз. Оформление комментариев по работе сохраняется. Только обозначим, что это вторая итерация. \n",
    "\n",
    "</div>"
   ]
  },
  {
   "cell_type": "markdown",
   "metadata": {},
   "source": [
    "<b>Комментарий от ревьюера</b>\n",
    "\n",
    "Привет! Меня зовут Ярослав Кальманов, я буду делать ревью твоего проекта. Давай будем общаться на «ты».\n",
    "\n",
    "Мои комментарии будут в ячейках \"Комментарий от ревьюера\".\n",
    "\n",
    "<div class=\"alert alert-danger\"> \n",
    "\n",
    "<b> Комментарий от ревьюера ❗</b>\n",
    "\n",
    "Красным цветом обозначены комментарии, на которые тебе нужно обратить внимание в первую очередь, чтобы я принял проект. \n",
    "</div>\n",
    "<div class=\"alert alert-warning\">\n",
    "\n",
    "<b> Комментарий от ревьюера ⚠️</b>\n",
    "\n",
    "Желтым цветом отмечено то, что ты можешь сделать немного по-другому. Ты можешь учесть эти комментарии при выполнении следующих проектов.\n",
    "</div>\n",
    "<div class=\"alert alert-success\">\n",
    "\n",
    "<b> Комментарий от ревьюера ✔️</b>\n",
    "\n",
    "Зелёным цветом обозначены твои удачные решения, которые ты без сомнения можешь применять в будущих проектах.  \n",
    "</div>\n",
    "\n",
    "Если ты вносишь изменения в проект по моим рекомендациям, указывай, пожалуйста, это в своих комментариях. Будет удобно, если обозначишь свои комментарии заметным цветом или поместишь \n",
    "\n",
    "<div class=\"alert alert-info\">\n",
    "    \n",
    "в такую ячейку\n",
    "</div>\n",
    "\n",
    "Давай при работе с проектом мы будем общаться с тобой в диалоге, поэтому не удаляй и не перемещай мои комментарии, это поможет мне сделать повторную  проверку проекта быстрее.\n",
    "___"
   ]
  },
  {
   "cell_type": "markdown",
   "metadata": {},
   "source": [
    "# Сборный проект "
   ]
  },
  {
   "cell_type": "markdown",
   "metadata": {},
   "source": [
    "**Описание проекта**\n",
    "\n",
    "\n",
    "В имеющейся базе интернет-магазина «Стримчик» из открытых источников доступны исторические данные о продажах игр, оценки пользователей и экспертов, жанры и платформы (например, Xbox или PlayStation). Нужно выявить определяющие успешность игры закономерности. Это позволит сделать ставку на потенциально популярный продукт и спланировать рекламные кампании.\n",
    "Перед вами данные до 2016 года. Представим, что сейчас декабрь 2016 г., и вы планируете кампанию на 2017-й. Нужно отработать принцип работы с данными. Неважно, прогнозируете ли вы продажи на 2017 год по данным 2016-го или же 2027-й — по данным 2026 года.\n",
    "В наборе данных попадается аббревиатура ESRB (Entertainment Software Rating Board) — это ассоциация, определяющая возрастной рейтинг компьютерных игр. ESRB оценивает игровой контент и присваивает ему подходящую возрастную категорию, например, «Для взрослых», «Для детей младшего возраста» или «Для подростков».\n"
   ]
  },
  {
   "cell_type": "markdown",
   "metadata": {},
   "source": [
    "**План проекта**\n",
    "\n",
    "1. Открыть файл с данными и изучить общую информацию\n",
    "2. Подготовить данные\n",
    "    - Заменить названия столбцов (приведите к нижнему регистру);\n",
    "    - Преобразовать данные в нужные типы. Описать, в каких столбцах заменён тип данных и почему;\n",
    "    - Обработать пропуски при необходимости:\n",
    "        - Объяснить, почему пропуски заполнены определённым образом или почему это не сделано;\n",
    "        - Описать причины, которые могли привести к пропускам;\n",
    "        - Отдельно разобрать значение 'tbd' и описать, как его обработать;\n",
    "    - Посчитайте суммарные продажи во всех регионах и запишите их в отдельный столбец.\n",
    "\n",
    "3. Провести исследовательский анализ данных\n",
    "    - Посмотреть, сколько игр выпускалось в разные годы. Важны ли данные за все периоды?\n",
    "    - Посмотреть, как менялись продажи по платформам. Выбрать платформы с наибольшими суммарными продажами и построить распределение по годам. За какой характерный срок появляются новые и исчезают старые платформы?\n",
    "    - Взять данные за соответствующий **актуальный период**. Актуальный период определить самостоятельно в результате исследования предыдущих вопросов. Основной фактор — эти данные помогут построить прогноз на 2017 год.\n",
    "    - Не учитывать в работе данные за **предыдущие годы**.\n",
    "    - Какие платформы лидируют по продажам, растут или падают? Выбрать несколько потенциально прибыльных платформ.\n",
    "    - Построить график «ящик с усами» по глобальным продажам игр в разбивке по платформам. Описать результат.\n",
    "    - Посмотреть, как влияют на продажи внутри одной популярной платформы отзывы пользователей и критиков. Построить диаграмму рассеяния и посчитать корреляцию между отзывами и продажами. Сформулировать выводы.\n",
    "    - Соотнести выводы с продажами игр на других платформах.\n",
    "    - Посмотреть на общее распределение игр по жанрам. Что можно сказать о самых прибыльных жанрах? Выделяются ли жанры с высокими и низкими продажами?\n",
    "\n",
    "4. Составьте портрет пользователя каждого региона. Определить для пользователя каждого региона (NA, EU, JP):\n",
    "    - Самые популярные платформы (топ-5). Опишите различия в долях продаж.\n",
    "    - Самые популярные жанры (топ-5). Поясните разницу.\n",
    "    - Влияет ли рейтинг ESRB на продажи в отдельном регионе?\n",
    "\n",
    "5. Проверьте гипотезы\n",
    "\n",
    "    - Средние пользовательские рейтинги платформ Xbox One и PC одинаковые;\n",
    "    - Средние пользовательские рейтинги жанров Action (англ. «действие», экшен-игры) и Sports (англ. «спортивные соревнования») разные.\n",
    "\n",
    "    Задать самостоятельно пороговое значение alpha.\n",
    "    Пояснить:\n",
    "    - Как сформулированы нулевую и альтернативную гипотезы;\n",
    "    - Какой критерий применён для проверки гипотез и почему.\n",
    "\n",
    "6. Общий вывод\n"
   ]
  },
  {
   "cell_type": "markdown",
   "metadata": {},
   "source": [
    "## Чтение данных"
   ]
  },
  {
   "cell_type": "markdown",
   "metadata": {},
   "source": [
    "Проводим стандартный обзор данных, чтобы посмотреть на их представление, корректность наименования и заполнения столбцов, общу статистику по числовым данным."
   ]
  },
  {
   "cell_type": "code",
   "execution_count": 1,
   "metadata": {},
   "outputs": [],
   "source": [
    "import pandas as pd\n",
    "import numpy as np\n",
    "import matplotlib.pyplot as plt\n",
    "import seaborn as sns\n",
    "\n",
    "from datetime import datetime\n",
    "from scipy import stats as st"
   ]
  },
  {
   "cell_type": "code",
   "execution_count": 2,
   "metadata": {},
   "outputs": [
    {
     "data": {
      "text/html": [
       "<div>\n",
       "<style scoped>\n",
       "    .dataframe tbody tr th:only-of-type {\n",
       "        vertical-align: middle;\n",
       "    }\n",
       "\n",
       "    .dataframe tbody tr th {\n",
       "        vertical-align: top;\n",
       "    }\n",
       "\n",
       "    .dataframe thead th {\n",
       "        text-align: right;\n",
       "    }\n",
       "</style>\n",
       "<table border=\"1\" class=\"dataframe\">\n",
       "  <thead>\n",
       "    <tr style=\"text-align: right;\">\n",
       "      <th></th>\n",
       "      <th>Name</th>\n",
       "      <th>Platform</th>\n",
       "      <th>Year_of_Release</th>\n",
       "      <th>Genre</th>\n",
       "      <th>NA_sales</th>\n",
       "      <th>EU_sales</th>\n",
       "      <th>JP_sales</th>\n",
       "      <th>Other_sales</th>\n",
       "      <th>Critic_Score</th>\n",
       "      <th>User_Score</th>\n",
       "      <th>Rating</th>\n",
       "    </tr>\n",
       "  </thead>\n",
       "  <tbody>\n",
       "    <tr>\n",
       "      <th>0</th>\n",
       "      <td>Wii Sports</td>\n",
       "      <td>Wii</td>\n",
       "      <td>2006.0</td>\n",
       "      <td>Sports</td>\n",
       "      <td>41.36</td>\n",
       "      <td>28.96</td>\n",
       "      <td>3.77</td>\n",
       "      <td>8.45</td>\n",
       "      <td>76.0</td>\n",
       "      <td>8</td>\n",
       "      <td>E</td>\n",
       "    </tr>\n",
       "    <tr>\n",
       "      <th>1</th>\n",
       "      <td>Super Mario Bros.</td>\n",
       "      <td>NES</td>\n",
       "      <td>1985.0</td>\n",
       "      <td>Platform</td>\n",
       "      <td>29.08</td>\n",
       "      <td>3.58</td>\n",
       "      <td>6.81</td>\n",
       "      <td>0.77</td>\n",
       "      <td>NaN</td>\n",
       "      <td>NaN</td>\n",
       "      <td>NaN</td>\n",
       "    </tr>\n",
       "    <tr>\n",
       "      <th>2</th>\n",
       "      <td>Mario Kart Wii</td>\n",
       "      <td>Wii</td>\n",
       "      <td>2008.0</td>\n",
       "      <td>Racing</td>\n",
       "      <td>15.68</td>\n",
       "      <td>12.76</td>\n",
       "      <td>3.79</td>\n",
       "      <td>3.29</td>\n",
       "      <td>82.0</td>\n",
       "      <td>8.3</td>\n",
       "      <td>E</td>\n",
       "    </tr>\n",
       "    <tr>\n",
       "      <th>3</th>\n",
       "      <td>Wii Sports Resort</td>\n",
       "      <td>Wii</td>\n",
       "      <td>2009.0</td>\n",
       "      <td>Sports</td>\n",
       "      <td>15.61</td>\n",
       "      <td>10.93</td>\n",
       "      <td>3.28</td>\n",
       "      <td>2.95</td>\n",
       "      <td>80.0</td>\n",
       "      <td>8</td>\n",
       "      <td>E</td>\n",
       "    </tr>\n",
       "    <tr>\n",
       "      <th>4</th>\n",
       "      <td>Pokemon Red/Pokemon Blue</td>\n",
       "      <td>GB</td>\n",
       "      <td>1996.0</td>\n",
       "      <td>Role-Playing</td>\n",
       "      <td>11.27</td>\n",
       "      <td>8.89</td>\n",
       "      <td>10.22</td>\n",
       "      <td>1.00</td>\n",
       "      <td>NaN</td>\n",
       "      <td>NaN</td>\n",
       "      <td>NaN</td>\n",
       "    </tr>\n",
       "  </tbody>\n",
       "</table>\n",
       "</div>"
      ],
      "text/plain": [
       "                       Name Platform  Year_of_Release         Genre  NA_sales  \\\n",
       "0                Wii Sports      Wii           2006.0        Sports     41.36   \n",
       "1         Super Mario Bros.      NES           1985.0      Platform     29.08   \n",
       "2            Mario Kart Wii      Wii           2008.0        Racing     15.68   \n",
       "3         Wii Sports Resort      Wii           2009.0        Sports     15.61   \n",
       "4  Pokemon Red/Pokemon Blue       GB           1996.0  Role-Playing     11.27   \n",
       "\n",
       "   EU_sales  JP_sales  Other_sales  Critic_Score User_Score Rating  \n",
       "0     28.96      3.77         8.45          76.0          8      E  \n",
       "1      3.58      6.81         0.77           NaN        NaN    NaN  \n",
       "2     12.76      3.79         3.29          82.0        8.3      E  \n",
       "3     10.93      3.28         2.95          80.0          8      E  \n",
       "4      8.89     10.22         1.00           NaN        NaN    NaN  "
      ]
     },
     "execution_count": 2,
     "metadata": {},
     "output_type": "execute_result"
    }
   ],
   "source": [
    "games = pd.read_csv('/datasets/games.csv')\n",
    "games.head()"
   ]
  },
  {
   "cell_type": "code",
   "execution_count": 3,
   "metadata": {},
   "outputs": [
    {
     "data": {
      "text/html": [
       "<div>\n",
       "<style scoped>\n",
       "    .dataframe tbody tr th:only-of-type {\n",
       "        vertical-align: middle;\n",
       "    }\n",
       "\n",
       "    .dataframe tbody tr th {\n",
       "        vertical-align: top;\n",
       "    }\n",
       "\n",
       "    .dataframe thead th {\n",
       "        text-align: right;\n",
       "    }\n",
       "</style>\n",
       "<table border=\"1\" class=\"dataframe\">\n",
       "  <thead>\n",
       "    <tr style=\"text-align: right;\">\n",
       "      <th></th>\n",
       "      <th>Year_of_Release</th>\n",
       "      <th>NA_sales</th>\n",
       "      <th>EU_sales</th>\n",
       "      <th>JP_sales</th>\n",
       "      <th>Other_sales</th>\n",
       "      <th>Critic_Score</th>\n",
       "    </tr>\n",
       "  </thead>\n",
       "  <tbody>\n",
       "    <tr>\n",
       "      <th>count</th>\n",
       "      <td>16446.000000</td>\n",
       "      <td>16715.000000</td>\n",
       "      <td>16715.000000</td>\n",
       "      <td>16715.000000</td>\n",
       "      <td>16715.000000</td>\n",
       "      <td>8137.000000</td>\n",
       "    </tr>\n",
       "    <tr>\n",
       "      <th>mean</th>\n",
       "      <td>2006.484616</td>\n",
       "      <td>0.263377</td>\n",
       "      <td>0.145060</td>\n",
       "      <td>0.077617</td>\n",
       "      <td>0.047342</td>\n",
       "      <td>68.967679</td>\n",
       "    </tr>\n",
       "    <tr>\n",
       "      <th>std</th>\n",
       "      <td>5.877050</td>\n",
       "      <td>0.813604</td>\n",
       "      <td>0.503339</td>\n",
       "      <td>0.308853</td>\n",
       "      <td>0.186731</td>\n",
       "      <td>13.938165</td>\n",
       "    </tr>\n",
       "    <tr>\n",
       "      <th>min</th>\n",
       "      <td>1980.000000</td>\n",
       "      <td>0.000000</td>\n",
       "      <td>0.000000</td>\n",
       "      <td>0.000000</td>\n",
       "      <td>0.000000</td>\n",
       "      <td>13.000000</td>\n",
       "    </tr>\n",
       "    <tr>\n",
       "      <th>25%</th>\n",
       "      <td>2003.000000</td>\n",
       "      <td>0.000000</td>\n",
       "      <td>0.000000</td>\n",
       "      <td>0.000000</td>\n",
       "      <td>0.000000</td>\n",
       "      <td>60.000000</td>\n",
       "    </tr>\n",
       "    <tr>\n",
       "      <th>50%</th>\n",
       "      <td>2007.000000</td>\n",
       "      <td>0.080000</td>\n",
       "      <td>0.020000</td>\n",
       "      <td>0.000000</td>\n",
       "      <td>0.010000</td>\n",
       "      <td>71.000000</td>\n",
       "    </tr>\n",
       "    <tr>\n",
       "      <th>75%</th>\n",
       "      <td>2010.000000</td>\n",
       "      <td>0.240000</td>\n",
       "      <td>0.110000</td>\n",
       "      <td>0.040000</td>\n",
       "      <td>0.030000</td>\n",
       "      <td>79.000000</td>\n",
       "    </tr>\n",
       "    <tr>\n",
       "      <th>max</th>\n",
       "      <td>2016.000000</td>\n",
       "      <td>41.360000</td>\n",
       "      <td>28.960000</td>\n",
       "      <td>10.220000</td>\n",
       "      <td>10.570000</td>\n",
       "      <td>98.000000</td>\n",
       "    </tr>\n",
       "  </tbody>\n",
       "</table>\n",
       "</div>"
      ],
      "text/plain": [
       "       Year_of_Release      NA_sales      EU_sales      JP_sales  \\\n",
       "count     16446.000000  16715.000000  16715.000000  16715.000000   \n",
       "mean       2006.484616      0.263377      0.145060      0.077617   \n",
       "std           5.877050      0.813604      0.503339      0.308853   \n",
       "min        1980.000000      0.000000      0.000000      0.000000   \n",
       "25%        2003.000000      0.000000      0.000000      0.000000   \n",
       "50%        2007.000000      0.080000      0.020000      0.000000   \n",
       "75%        2010.000000      0.240000      0.110000      0.040000   \n",
       "max        2016.000000     41.360000     28.960000     10.220000   \n",
       "\n",
       "        Other_sales  Critic_Score  \n",
       "count  16715.000000   8137.000000  \n",
       "mean       0.047342     68.967679  \n",
       "std        0.186731     13.938165  \n",
       "min        0.000000     13.000000  \n",
       "25%        0.000000     60.000000  \n",
       "50%        0.010000     71.000000  \n",
       "75%        0.030000     79.000000  \n",
       "max       10.570000     98.000000  "
      ]
     },
     "execution_count": 3,
     "metadata": {},
     "output_type": "execute_result"
    }
   ],
   "source": [
    "games.describe()"
   ]
  },
  {
   "cell_type": "code",
   "execution_count": 4,
   "metadata": {},
   "outputs": [
    {
     "name": "stdout",
     "output_type": "stream",
     "text": [
      "<class 'pandas.core.frame.DataFrame'>\n",
      "RangeIndex: 16715 entries, 0 to 16714\n",
      "Data columns (total 11 columns):\n",
      " #   Column           Non-Null Count  Dtype  \n",
      "---  ------           --------------  -----  \n",
      " 0   Name             16713 non-null  object \n",
      " 1   Platform         16715 non-null  object \n",
      " 2   Year_of_Release  16446 non-null  float64\n",
      " 3   Genre            16713 non-null  object \n",
      " 4   NA_sales         16715 non-null  float64\n",
      " 5   EU_sales         16715 non-null  float64\n",
      " 6   JP_sales         16715 non-null  float64\n",
      " 7   Other_sales      16715 non-null  float64\n",
      " 8   Critic_Score     8137 non-null   float64\n",
      " 9   User_Score       10014 non-null  object \n",
      " 10  Rating           9949 non-null   object \n",
      "dtypes: float64(6), object(5)\n",
      "memory usage: 1.4+ MB\n"
     ]
    }
   ],
   "source": [
    "games.info()"
   ]
  },
  {
   "cell_type": "markdown",
   "metadata": {},
   "source": [
    "Данные читаются и выглядят в целом"
   ]
  },
  {
   "cell_type": "markdown",
   "metadata": {},
   "source": [
    "<div class=\"alert alert-success\">\n",
    "    \n",
    "<b> Комментарий от ревьюера ✔️</b>\n",
    "    \n",
    "Здорово, что рассмотрел загруженные данные\n",
    "\n",
    "</div>"
   ]
  },
  {
   "cell_type": "markdown",
   "metadata": {},
   "source": [
    "## Предобратботка"
   ]
  },
  {
   "cell_type": "markdown",
   "metadata": {},
   "source": [
    "Необходимо:\n",
    "- заменить названия столбцов\n",
    "- посчитать общий объём продаж\n",
    "- привести данные к корректным типам\n",
    "- обработать пропуски"
   ]
  },
  {
   "cell_type": "code",
   "execution_count": 5,
   "metadata": {},
   "outputs": [
    {
     "name": "stdout",
     "output_type": "stream",
     "text": [
      "<class 'pandas.core.frame.DataFrame'>\n",
      "RangeIndex: 16715 entries, 0 to 16714\n",
      "Data columns (total 11 columns):\n",
      " #   Column           Non-Null Count  Dtype  \n",
      "---  ------           --------------  -----  \n",
      " 0   name             16713 non-null  object \n",
      " 1   platform         16715 non-null  object \n",
      " 2   year_of_release  16446 non-null  float64\n",
      " 3   genre            16713 non-null  object \n",
      " 4   na_sales         16715 non-null  float64\n",
      " 5   eu_sales         16715 non-null  float64\n",
      " 6   jp_sales         16715 non-null  float64\n",
      " 7   other_sales      16715 non-null  float64\n",
      " 8   critic_score     8137 non-null   float64\n",
      " 9   user_score       10014 non-null  object \n",
      " 10  rating           9949 non-null   object \n",
      "dtypes: float64(6), object(5)\n",
      "memory usage: 1.4+ MB\n"
     ]
    }
   ],
   "source": [
    "games.columns = games.columns.str.lower()\n",
    "games.info()"
   ]
  },
  {
   "cell_type": "markdown",
   "metadata": {},
   "source": [
    "<div class=\"alert alert-success\">\n",
    "    \n",
    "<b> Комментарий от ревьюера ✔️</b>\n",
    "    \n",
    "Хорошее решение\n",
    "\n",
    "</div>"
   ]
  },
  {
   "cell_type": "code",
   "execution_count": 6,
   "metadata": {},
   "outputs": [
    {
     "data": {
      "text/html": [
       "<div>\n",
       "<style scoped>\n",
       "    .dataframe tbody tr th:only-of-type {\n",
       "        vertical-align: middle;\n",
       "    }\n",
       "\n",
       "    .dataframe tbody tr th {\n",
       "        vertical-align: top;\n",
       "    }\n",
       "\n",
       "    .dataframe thead th {\n",
       "        text-align: right;\n",
       "    }\n",
       "</style>\n",
       "<table border=\"1\" class=\"dataframe\">\n",
       "  <thead>\n",
       "    <tr style=\"text-align: right;\">\n",
       "      <th></th>\n",
       "      <th>name</th>\n",
       "      <th>platform</th>\n",
       "      <th>year_of_release</th>\n",
       "      <th>genre</th>\n",
       "      <th>na_sales</th>\n",
       "      <th>eu_sales</th>\n",
       "      <th>jp_sales</th>\n",
       "      <th>other_sales</th>\n",
       "      <th>critic_score</th>\n",
       "      <th>user_score</th>\n",
       "      <th>rating</th>\n",
       "      <th>total_sales</th>\n",
       "    </tr>\n",
       "  </thead>\n",
       "  <tbody>\n",
       "    <tr>\n",
       "      <th>0</th>\n",
       "      <td>Wii Sports</td>\n",
       "      <td>Wii</td>\n",
       "      <td>2006.0</td>\n",
       "      <td>Sports</td>\n",
       "      <td>41.36</td>\n",
       "      <td>28.96</td>\n",
       "      <td>3.77</td>\n",
       "      <td>8.45</td>\n",
       "      <td>76.0</td>\n",
       "      <td>8</td>\n",
       "      <td>E</td>\n",
       "      <td>82.54</td>\n",
       "    </tr>\n",
       "    <tr>\n",
       "      <th>1</th>\n",
       "      <td>Super Mario Bros.</td>\n",
       "      <td>NES</td>\n",
       "      <td>1985.0</td>\n",
       "      <td>Platform</td>\n",
       "      <td>29.08</td>\n",
       "      <td>3.58</td>\n",
       "      <td>6.81</td>\n",
       "      <td>0.77</td>\n",
       "      <td>NaN</td>\n",
       "      <td>NaN</td>\n",
       "      <td>NaN</td>\n",
       "      <td>40.24</td>\n",
       "    </tr>\n",
       "    <tr>\n",
       "      <th>2</th>\n",
       "      <td>Mario Kart Wii</td>\n",
       "      <td>Wii</td>\n",
       "      <td>2008.0</td>\n",
       "      <td>Racing</td>\n",
       "      <td>15.68</td>\n",
       "      <td>12.76</td>\n",
       "      <td>3.79</td>\n",
       "      <td>3.29</td>\n",
       "      <td>82.0</td>\n",
       "      <td>8.3</td>\n",
       "      <td>E</td>\n",
       "      <td>35.52</td>\n",
       "    </tr>\n",
       "    <tr>\n",
       "      <th>3</th>\n",
       "      <td>Wii Sports Resort</td>\n",
       "      <td>Wii</td>\n",
       "      <td>2009.0</td>\n",
       "      <td>Sports</td>\n",
       "      <td>15.61</td>\n",
       "      <td>10.93</td>\n",
       "      <td>3.28</td>\n",
       "      <td>2.95</td>\n",
       "      <td>80.0</td>\n",
       "      <td>8</td>\n",
       "      <td>E</td>\n",
       "      <td>32.77</td>\n",
       "    </tr>\n",
       "    <tr>\n",
       "      <th>4</th>\n",
       "      <td>Pokemon Red/Pokemon Blue</td>\n",
       "      <td>GB</td>\n",
       "      <td>1996.0</td>\n",
       "      <td>Role-Playing</td>\n",
       "      <td>11.27</td>\n",
       "      <td>8.89</td>\n",
       "      <td>10.22</td>\n",
       "      <td>1.00</td>\n",
       "      <td>NaN</td>\n",
       "      <td>NaN</td>\n",
       "      <td>NaN</td>\n",
       "      <td>31.38</td>\n",
       "    </tr>\n",
       "  </tbody>\n",
       "</table>\n",
       "</div>"
      ],
      "text/plain": [
       "                       name platform  year_of_release         genre  na_sales  \\\n",
       "0                Wii Sports      Wii           2006.0        Sports     41.36   \n",
       "1         Super Mario Bros.      NES           1985.0      Platform     29.08   \n",
       "2            Mario Kart Wii      Wii           2008.0        Racing     15.68   \n",
       "3         Wii Sports Resort      Wii           2009.0        Sports     15.61   \n",
       "4  Pokemon Red/Pokemon Blue       GB           1996.0  Role-Playing     11.27   \n",
       "\n",
       "   eu_sales  jp_sales  other_sales  critic_score user_score rating  \\\n",
       "0     28.96      3.77         8.45          76.0          8      E   \n",
       "1      3.58      6.81         0.77           NaN        NaN    NaN   \n",
       "2     12.76      3.79         3.29          82.0        8.3      E   \n",
       "3     10.93      3.28         2.95          80.0          8      E   \n",
       "4      8.89     10.22         1.00           NaN        NaN    NaN   \n",
       "\n",
       "   total_sales  \n",
       "0        82.54  \n",
       "1        40.24  \n",
       "2        35.52  \n",
       "3        32.77  \n",
       "4        31.38  "
      ]
     },
     "execution_count": 6,
     "metadata": {},
     "output_type": "execute_result"
    }
   ],
   "source": [
    "games['total_sales'] = games['na_sales'] + games['eu_sales'] + games['jp_sales'] + games['other_sales']\n",
    "games.head()"
   ]
  },
  {
   "cell_type": "markdown",
   "metadata": {},
   "source": [
    "С приведением наименований столбцов в корректную форму (нижний регистр) и расчётом суммарных продаж проблем не возникло.\n",
    "\n",
    "Теперь займёмся тиами данных. Вспомним, что там было не так:"
   ]
  },
  {
   "cell_type": "code",
   "execution_count": 7,
   "metadata": {},
   "outputs": [
    {
     "name": "stdout",
     "output_type": "stream",
     "text": [
      "<class 'pandas.core.frame.DataFrame'>\n",
      "RangeIndex: 16715 entries, 0 to 16714\n",
      "Data columns (total 12 columns):\n",
      " #   Column           Non-Null Count  Dtype  \n",
      "---  ------           --------------  -----  \n",
      " 0   name             16713 non-null  object \n",
      " 1   platform         16715 non-null  object \n",
      " 2   year_of_release  16446 non-null  float64\n",
      " 3   genre            16713 non-null  object \n",
      " 4   na_sales         16715 non-null  float64\n",
      " 5   eu_sales         16715 non-null  float64\n",
      " 6   jp_sales         16715 non-null  float64\n",
      " 7   other_sales      16715 non-null  float64\n",
      " 8   critic_score     8137 non-null   float64\n",
      " 9   user_score       10014 non-null  object \n",
      " 10  rating           9949 non-null   object \n",
      " 11  total_sales      16715 non-null  float64\n",
      "dtypes: float64(7), object(5)\n",
      "memory usage: 1.5+ MB\n"
     ]
    }
   ],
   "source": [
    "games.info()"
   ]
  },
  {
   "cell_type": "code",
   "execution_count": 8,
   "metadata": {},
   "outputs": [
    {
     "data": {
      "text/html": [
       "<div>\n",
       "<style scoped>\n",
       "    .dataframe tbody tr th:only-of-type {\n",
       "        vertical-align: middle;\n",
       "    }\n",
       "\n",
       "    .dataframe tbody tr th {\n",
       "        vertical-align: top;\n",
       "    }\n",
       "\n",
       "    .dataframe thead th {\n",
       "        text-align: right;\n",
       "    }\n",
       "</style>\n",
       "<table border=\"1\" class=\"dataframe\">\n",
       "  <thead>\n",
       "    <tr style=\"text-align: right;\">\n",
       "      <th></th>\n",
       "      <th>name</th>\n",
       "      <th>platform</th>\n",
       "      <th>year_of_release</th>\n",
       "      <th>genre</th>\n",
       "      <th>na_sales</th>\n",
       "      <th>eu_sales</th>\n",
       "      <th>jp_sales</th>\n",
       "      <th>other_sales</th>\n",
       "      <th>critic_score</th>\n",
       "      <th>user_score</th>\n",
       "      <th>rating</th>\n",
       "      <th>total_sales</th>\n",
       "    </tr>\n",
       "  </thead>\n",
       "  <tbody>\n",
       "    <tr>\n",
       "      <th>0</th>\n",
       "      <td>Wii Sports</td>\n",
       "      <td>Wii</td>\n",
       "      <td>2006.0</td>\n",
       "      <td>Sports</td>\n",
       "      <td>41.36</td>\n",
       "      <td>28.96</td>\n",
       "      <td>3.77</td>\n",
       "      <td>8.45</td>\n",
       "      <td>76.0</td>\n",
       "      <td>8</td>\n",
       "      <td>E</td>\n",
       "      <td>82.54</td>\n",
       "    </tr>\n",
       "    <tr>\n",
       "      <th>1</th>\n",
       "      <td>Super Mario Bros.</td>\n",
       "      <td>NES</td>\n",
       "      <td>1985.0</td>\n",
       "      <td>Platform</td>\n",
       "      <td>29.08</td>\n",
       "      <td>3.58</td>\n",
       "      <td>6.81</td>\n",
       "      <td>0.77</td>\n",
       "      <td>NaN</td>\n",
       "      <td>NaN</td>\n",
       "      <td>NaN</td>\n",
       "      <td>40.24</td>\n",
       "    </tr>\n",
       "    <tr>\n",
       "      <th>2</th>\n",
       "      <td>Mario Kart Wii</td>\n",
       "      <td>Wii</td>\n",
       "      <td>2008.0</td>\n",
       "      <td>Racing</td>\n",
       "      <td>15.68</td>\n",
       "      <td>12.76</td>\n",
       "      <td>3.79</td>\n",
       "      <td>3.29</td>\n",
       "      <td>82.0</td>\n",
       "      <td>8.3</td>\n",
       "      <td>E</td>\n",
       "      <td>35.52</td>\n",
       "    </tr>\n",
       "    <tr>\n",
       "      <th>3</th>\n",
       "      <td>Wii Sports Resort</td>\n",
       "      <td>Wii</td>\n",
       "      <td>2009.0</td>\n",
       "      <td>Sports</td>\n",
       "      <td>15.61</td>\n",
       "      <td>10.93</td>\n",
       "      <td>3.28</td>\n",
       "      <td>2.95</td>\n",
       "      <td>80.0</td>\n",
       "      <td>8</td>\n",
       "      <td>E</td>\n",
       "      <td>32.77</td>\n",
       "    </tr>\n",
       "    <tr>\n",
       "      <th>4</th>\n",
       "      <td>Pokemon Red/Pokemon Blue</td>\n",
       "      <td>GB</td>\n",
       "      <td>1996.0</td>\n",
       "      <td>Role-Playing</td>\n",
       "      <td>11.27</td>\n",
       "      <td>8.89</td>\n",
       "      <td>10.22</td>\n",
       "      <td>1.00</td>\n",
       "      <td>NaN</td>\n",
       "      <td>NaN</td>\n",
       "      <td>NaN</td>\n",
       "      <td>31.38</td>\n",
       "    </tr>\n",
       "  </tbody>\n",
       "</table>\n",
       "</div>"
      ],
      "text/plain": [
       "                       name platform  year_of_release         genre  na_sales  \\\n",
       "0                Wii Sports      Wii           2006.0        Sports     41.36   \n",
       "1         Super Mario Bros.      NES           1985.0      Platform     29.08   \n",
       "2            Mario Kart Wii      Wii           2008.0        Racing     15.68   \n",
       "3         Wii Sports Resort      Wii           2009.0        Sports     15.61   \n",
       "4  Pokemon Red/Pokemon Blue       GB           1996.0  Role-Playing     11.27   \n",
       "\n",
       "   eu_sales  jp_sales  other_sales  critic_score user_score rating  \\\n",
       "0     28.96      3.77         8.45          76.0          8      E   \n",
       "1      3.58      6.81         0.77           NaN        NaN    NaN   \n",
       "2     12.76      3.79         3.29          82.0        8.3      E   \n",
       "3     10.93      3.28         2.95          80.0          8      E   \n",
       "4      8.89     10.22         1.00           NaN        NaN    NaN   \n",
       "\n",
       "   total_sales  \n",
       "0        82.54  \n",
       "1        40.24  \n",
       "2        35.52  \n",
       "3        32.77  \n",
       "4        31.38  "
      ]
     },
     "execution_count": 8,
     "metadata": {},
     "output_type": "execute_result"
    }
   ],
   "source": [
    "games.head()"
   ]
  },
  {
   "cell_type": "markdown",
   "metadata": {},
   "source": [
    "Явные проблемы с годом релиза игры, его можно выразить целым числом. А вот пользовательский рейтинг наоборот нужно перевести от текста к числу с плавающей точкой."
   ]
  },
  {
   "cell_type": "markdown",
   "metadata": {},
   "source": [
    "Но с годом у нас есть важный нюанс. При 16715 строк в таблице у нас лишь 16446 ненулевых значений года. Заполнить это значение медианным или средним не позволяет совесть (да она у меня есть), потому что это может сильно отличаться от фактического значения и может значительно подпортить нам исследование. Можно заменить пустые значения на что-то заведомо ложное, чтобы использовать это как метку. Пусть это будет 1900. Хороший повод вспомнить год спуска на воду крейсера Аврора."
   ]
  },
  {
   "cell_type": "code",
   "execution_count": 9,
   "metadata": {},
   "outputs": [
    {
     "name": "stdout",
     "output_type": "stream",
     "text": [
      "<class 'pandas.core.frame.DataFrame'>\n",
      "RangeIndex: 16715 entries, 0 to 16714\n",
      "Data columns (total 12 columns):\n",
      " #   Column           Non-Null Count  Dtype  \n",
      "---  ------           --------------  -----  \n",
      " 0   name             16713 non-null  object \n",
      " 1   platform         16715 non-null  object \n",
      " 2   year_of_release  16715 non-null  int64  \n",
      " 3   genre            16713 non-null  object \n",
      " 4   na_sales         16715 non-null  float64\n",
      " 5   eu_sales         16715 non-null  float64\n",
      " 6   jp_sales         16715 non-null  float64\n",
      " 7   other_sales      16715 non-null  float64\n",
      " 8   critic_score     8137 non-null   float64\n",
      " 9   user_score       10014 non-null  object \n",
      " 10  rating           9949 non-null   object \n",
      " 11  total_sales      16715 non-null  float64\n",
      "dtypes: float64(6), int64(1), object(5)\n",
      "memory usage: 1.5+ MB\n"
     ]
    }
   ],
   "source": [
    "games['year_of_release'] = games['year_of_release'].fillna(1900)\n",
    "games['year_of_release'] = games['year_of_release'].astype('int')\n",
    "games.info()"
   ]
  },
  {
   "cell_type": "code",
   "execution_count": 10,
   "metadata": {},
   "outputs": [],
   "source": [
    "games['year_of_release'] = games['year_of_release'].astype('str')"
   ]
  },
  {
   "cell_type": "markdown",
   "metadata": {},
   "source": [
    "Для полного формата даты не хватает собственно даты - дня и месяца. Поскольку это для нас не принципиально, везде укажем 1 января каждого года."
   ]
  },
  {
   "cell_type": "code",
   "execution_count": 11,
   "metadata": {},
   "outputs": [],
   "source": [
    "games['year_of_release'] = games['year_of_release'] + '-01-01'"
   ]
  },
  {
   "cell_type": "code",
   "execution_count": 12,
   "metadata": {},
   "outputs": [
    {
     "data": {
      "text/html": [
       "<div>\n",
       "<style scoped>\n",
       "    .dataframe tbody tr th:only-of-type {\n",
       "        vertical-align: middle;\n",
       "    }\n",
       "\n",
       "    .dataframe tbody tr th {\n",
       "        vertical-align: top;\n",
       "    }\n",
       "\n",
       "    .dataframe thead th {\n",
       "        text-align: right;\n",
       "    }\n",
       "</style>\n",
       "<table border=\"1\" class=\"dataframe\">\n",
       "  <thead>\n",
       "    <tr style=\"text-align: right;\">\n",
       "      <th></th>\n",
       "      <th>name</th>\n",
       "      <th>platform</th>\n",
       "      <th>year_of_release</th>\n",
       "      <th>genre</th>\n",
       "      <th>na_sales</th>\n",
       "      <th>eu_sales</th>\n",
       "      <th>jp_sales</th>\n",
       "      <th>other_sales</th>\n",
       "      <th>critic_score</th>\n",
       "      <th>user_score</th>\n",
       "      <th>rating</th>\n",
       "      <th>total_sales</th>\n",
       "    </tr>\n",
       "  </thead>\n",
       "  <tbody>\n",
       "    <tr>\n",
       "      <th>0</th>\n",
       "      <td>Wii Sports</td>\n",
       "      <td>Wii</td>\n",
       "      <td>2006-01-01</td>\n",
       "      <td>Sports</td>\n",
       "      <td>41.36</td>\n",
       "      <td>28.96</td>\n",
       "      <td>3.77</td>\n",
       "      <td>8.45</td>\n",
       "      <td>76.0</td>\n",
       "      <td>8</td>\n",
       "      <td>E</td>\n",
       "      <td>82.54</td>\n",
       "    </tr>\n",
       "    <tr>\n",
       "      <th>1</th>\n",
       "      <td>Super Mario Bros.</td>\n",
       "      <td>NES</td>\n",
       "      <td>1985-01-01</td>\n",
       "      <td>Platform</td>\n",
       "      <td>29.08</td>\n",
       "      <td>3.58</td>\n",
       "      <td>6.81</td>\n",
       "      <td>0.77</td>\n",
       "      <td>NaN</td>\n",
       "      <td>NaN</td>\n",
       "      <td>NaN</td>\n",
       "      <td>40.24</td>\n",
       "    </tr>\n",
       "    <tr>\n",
       "      <th>2</th>\n",
       "      <td>Mario Kart Wii</td>\n",
       "      <td>Wii</td>\n",
       "      <td>2008-01-01</td>\n",
       "      <td>Racing</td>\n",
       "      <td>15.68</td>\n",
       "      <td>12.76</td>\n",
       "      <td>3.79</td>\n",
       "      <td>3.29</td>\n",
       "      <td>82.0</td>\n",
       "      <td>8.3</td>\n",
       "      <td>E</td>\n",
       "      <td>35.52</td>\n",
       "    </tr>\n",
       "    <tr>\n",
       "      <th>3</th>\n",
       "      <td>Wii Sports Resort</td>\n",
       "      <td>Wii</td>\n",
       "      <td>2009-01-01</td>\n",
       "      <td>Sports</td>\n",
       "      <td>15.61</td>\n",
       "      <td>10.93</td>\n",
       "      <td>3.28</td>\n",
       "      <td>2.95</td>\n",
       "      <td>80.0</td>\n",
       "      <td>8</td>\n",
       "      <td>E</td>\n",
       "      <td>32.77</td>\n",
       "    </tr>\n",
       "    <tr>\n",
       "      <th>4</th>\n",
       "      <td>Pokemon Red/Pokemon Blue</td>\n",
       "      <td>GB</td>\n",
       "      <td>1996-01-01</td>\n",
       "      <td>Role-Playing</td>\n",
       "      <td>11.27</td>\n",
       "      <td>8.89</td>\n",
       "      <td>10.22</td>\n",
       "      <td>1.00</td>\n",
       "      <td>NaN</td>\n",
       "      <td>NaN</td>\n",
       "      <td>NaN</td>\n",
       "      <td>31.38</td>\n",
       "    </tr>\n",
       "  </tbody>\n",
       "</table>\n",
       "</div>"
      ],
      "text/plain": [
       "                       name platform year_of_release         genre  na_sales  \\\n",
       "0                Wii Sports      Wii      2006-01-01        Sports     41.36   \n",
       "1         Super Mario Bros.      NES      1985-01-01      Platform     29.08   \n",
       "2            Mario Kart Wii      Wii      2008-01-01        Racing     15.68   \n",
       "3         Wii Sports Resort      Wii      2009-01-01        Sports     15.61   \n",
       "4  Pokemon Red/Pokemon Blue       GB      1996-01-01  Role-Playing     11.27   \n",
       "\n",
       "   eu_sales  jp_sales  other_sales  critic_score user_score rating  \\\n",
       "0     28.96      3.77         8.45          76.0          8      E   \n",
       "1      3.58      6.81         0.77           NaN        NaN    NaN   \n",
       "2     12.76      3.79         3.29          82.0        8.3      E   \n",
       "3     10.93      3.28         2.95          80.0          8      E   \n",
       "4      8.89     10.22         1.00           NaN        NaN    NaN   \n",
       "\n",
       "   total_sales  \n",
       "0        82.54  \n",
       "1        40.24  \n",
       "2        35.52  \n",
       "3        32.77  \n",
       "4        31.38  "
      ]
     },
     "execution_count": 12,
     "metadata": {},
     "output_type": "execute_result"
    }
   ],
   "source": [
    "games.head()"
   ]
  },
  {
   "cell_type": "code",
   "execution_count": 13,
   "metadata": {},
   "outputs": [
    {
     "data": {
      "text/html": [
       "<div>\n",
       "<style scoped>\n",
       "    .dataframe tbody tr th:only-of-type {\n",
       "        vertical-align: middle;\n",
       "    }\n",
       "\n",
       "    .dataframe tbody tr th {\n",
       "        vertical-align: top;\n",
       "    }\n",
       "\n",
       "    .dataframe thead th {\n",
       "        text-align: right;\n",
       "    }\n",
       "</style>\n",
       "<table border=\"1\" class=\"dataframe\">\n",
       "  <thead>\n",
       "    <tr style=\"text-align: right;\">\n",
       "      <th></th>\n",
       "      <th>name</th>\n",
       "      <th>platform</th>\n",
       "      <th>year_of_release</th>\n",
       "      <th>genre</th>\n",
       "      <th>na_sales</th>\n",
       "      <th>eu_sales</th>\n",
       "      <th>jp_sales</th>\n",
       "      <th>other_sales</th>\n",
       "      <th>critic_score</th>\n",
       "      <th>user_score</th>\n",
       "      <th>rating</th>\n",
       "      <th>total_sales</th>\n",
       "    </tr>\n",
       "  </thead>\n",
       "  <tbody>\n",
       "    <tr>\n",
       "      <th>0</th>\n",
       "      <td>Wii Sports</td>\n",
       "      <td>Wii</td>\n",
       "      <td>2006</td>\n",
       "      <td>Sports</td>\n",
       "      <td>41.36</td>\n",
       "      <td>28.96</td>\n",
       "      <td>3.77</td>\n",
       "      <td>8.45</td>\n",
       "      <td>76.0</td>\n",
       "      <td>8</td>\n",
       "      <td>E</td>\n",
       "      <td>82.54</td>\n",
       "    </tr>\n",
       "    <tr>\n",
       "      <th>1</th>\n",
       "      <td>Super Mario Bros.</td>\n",
       "      <td>NES</td>\n",
       "      <td>1985</td>\n",
       "      <td>Platform</td>\n",
       "      <td>29.08</td>\n",
       "      <td>3.58</td>\n",
       "      <td>6.81</td>\n",
       "      <td>0.77</td>\n",
       "      <td>NaN</td>\n",
       "      <td>NaN</td>\n",
       "      <td>NaN</td>\n",
       "      <td>40.24</td>\n",
       "    </tr>\n",
       "    <tr>\n",
       "      <th>2</th>\n",
       "      <td>Mario Kart Wii</td>\n",
       "      <td>Wii</td>\n",
       "      <td>2008</td>\n",
       "      <td>Racing</td>\n",
       "      <td>15.68</td>\n",
       "      <td>12.76</td>\n",
       "      <td>3.79</td>\n",
       "      <td>3.29</td>\n",
       "      <td>82.0</td>\n",
       "      <td>8.3</td>\n",
       "      <td>E</td>\n",
       "      <td>35.52</td>\n",
       "    </tr>\n",
       "    <tr>\n",
       "      <th>3</th>\n",
       "      <td>Wii Sports Resort</td>\n",
       "      <td>Wii</td>\n",
       "      <td>2009</td>\n",
       "      <td>Sports</td>\n",
       "      <td>15.61</td>\n",
       "      <td>10.93</td>\n",
       "      <td>3.28</td>\n",
       "      <td>2.95</td>\n",
       "      <td>80.0</td>\n",
       "      <td>8</td>\n",
       "      <td>E</td>\n",
       "      <td>32.77</td>\n",
       "    </tr>\n",
       "    <tr>\n",
       "      <th>4</th>\n",
       "      <td>Pokemon Red/Pokemon Blue</td>\n",
       "      <td>GB</td>\n",
       "      <td>1996</td>\n",
       "      <td>Role-Playing</td>\n",
       "      <td>11.27</td>\n",
       "      <td>8.89</td>\n",
       "      <td>10.22</td>\n",
       "      <td>1.00</td>\n",
       "      <td>NaN</td>\n",
       "      <td>NaN</td>\n",
       "      <td>NaN</td>\n",
       "      <td>31.38</td>\n",
       "    </tr>\n",
       "  </tbody>\n",
       "</table>\n",
       "</div>"
      ],
      "text/plain": [
       "                       name platform  year_of_release         genre  na_sales  \\\n",
       "0                Wii Sports      Wii             2006        Sports     41.36   \n",
       "1         Super Mario Bros.      NES             1985      Platform     29.08   \n",
       "2            Mario Kart Wii      Wii             2008        Racing     15.68   \n",
       "3         Wii Sports Resort      Wii             2009        Sports     15.61   \n",
       "4  Pokemon Red/Pokemon Blue       GB             1996  Role-Playing     11.27   \n",
       "\n",
       "   eu_sales  jp_sales  other_sales  critic_score user_score rating  \\\n",
       "0     28.96      3.77         8.45          76.0          8      E   \n",
       "1      3.58      6.81         0.77           NaN        NaN    NaN   \n",
       "2     12.76      3.79         3.29          82.0        8.3      E   \n",
       "3     10.93      3.28         2.95          80.0          8      E   \n",
       "4      8.89     10.22         1.00           NaN        NaN    NaN   \n",
       "\n",
       "   total_sales  \n",
       "0        82.54  \n",
       "1        40.24  \n",
       "2        35.52  \n",
       "3        32.77  \n",
       "4        31.38  "
      ]
     },
     "execution_count": 13,
     "metadata": {},
     "output_type": "execute_result"
    }
   ],
   "source": [
    "games['year_of_release'] = pd.to_datetime(games['year_of_release'], format='%Y-%m-%d').dt.year\n",
    "games.head()"
   ]
  },
  {
   "cell_type": "markdown",
   "metadata": {},
   "source": [
    "<div class=\"alert alert-success\">\n",
    "    \n",
    "<b> Комментарий от ревьюера ✔️</b>\n",
    "    \n",
    "А мы можем в параметре format указать только год и не добавлять '-01-01' к значениям признака year_of_release? Думаю, так код будет проще.\n",
    "\n",
    "</div>"
   ]
  },
  {
   "cell_type": "markdown",
   "metadata": {},
   "source": [
    "Посмотрим на значения пользовательского рейтинга"
   ]
  },
  {
   "cell_type": "code",
   "execution_count": 14,
   "metadata": {},
   "outputs": [
    {
     "data": {
      "text/plain": [
       "array(['8', nan, '8.3', '8.5', '6.6', '8.4', '8.6', '7.7', '6.3', '7.4',\n",
       "       '8.2', '9', '7.9', '8.1', '8.7', '7.1', '3.4', '5.3', '4.8', '3.2',\n",
       "       '8.9', '6.4', '7.8', '7.5', '2.6', '7.2', '9.2', '7', '7.3', '4.3',\n",
       "       '7.6', '5.7', '5', '9.1', '6.5', 'tbd', '8.8', '6.9', '9.4', '6.8',\n",
       "       '6.1', '6.7', '5.4', '4', '4.9', '4.5', '9.3', '6.2', '4.2', '6',\n",
       "       '3.7', '4.1', '5.8', '5.6', '5.5', '4.4', '4.6', '5.9', '3.9',\n",
       "       '3.1', '2.9', '5.2', '3.3', '4.7', '5.1', '3.5', '2.5', '1.9', '3',\n",
       "       '2.7', '2.2', '2', '9.5', '2.1', '3.6', '2.8', '1.8', '3.8', '0',\n",
       "       '1.6', '9.6', '2.4', '1.7', '1.1', '0.3', '1.5', '0.7', '1.2',\n",
       "       '2.3', '0.5', '1.3', '0.2', '0.6', '1.4', '0.9', '1', '9.7'],\n",
       "      dtype=object)"
      ]
     },
     "execution_count": 14,
     "metadata": {},
     "output_type": "execute_result"
    }
   ],
   "source": [
    "games['user_score'].unique()"
   ]
  },
  {
   "cell_type": "code",
   "execution_count": 15,
   "metadata": {},
   "outputs": [
    {
     "data": {
      "text/plain": [
       "2424"
      ]
     },
     "execution_count": 15,
     "metadata": {},
     "output_type": "execute_result"
    }
   ],
   "source": [
    "games.loc[games['user_score'] == 'tbd']['user_score'].count()"
   ]
  },
  {
   "cell_type": "code",
   "execution_count": 16,
   "metadata": {},
   "outputs": [
    {
     "data": {
      "text/html": [
       "<div>\n",
       "<style scoped>\n",
       "    .dataframe tbody tr th:only-of-type {\n",
       "        vertical-align: middle;\n",
       "    }\n",
       "\n",
       "    .dataframe tbody tr th {\n",
       "        vertical-align: top;\n",
       "    }\n",
       "\n",
       "    .dataframe thead th {\n",
       "        text-align: right;\n",
       "    }\n",
       "</style>\n",
       "<table border=\"1\" class=\"dataframe\">\n",
       "  <thead>\n",
       "    <tr style=\"text-align: right;\">\n",
       "      <th></th>\n",
       "      <th>name</th>\n",
       "      <th>platform</th>\n",
       "      <th>year_of_release</th>\n",
       "      <th>genre</th>\n",
       "      <th>na_sales</th>\n",
       "      <th>eu_sales</th>\n",
       "      <th>jp_sales</th>\n",
       "      <th>other_sales</th>\n",
       "      <th>critic_score</th>\n",
       "      <th>user_score</th>\n",
       "      <th>rating</th>\n",
       "      <th>total_sales</th>\n",
       "    </tr>\n",
       "  </thead>\n",
       "  <tbody>\n",
       "    <tr>\n",
       "      <th>119</th>\n",
       "      <td>Zumba Fitness</td>\n",
       "      <td>Wii</td>\n",
       "      <td>2010</td>\n",
       "      <td>Sports</td>\n",
       "      <td>3.45</td>\n",
       "      <td>2.59</td>\n",
       "      <td>0.0</td>\n",
       "      <td>0.66</td>\n",
       "      <td>NaN</td>\n",
       "      <td>tbd</td>\n",
       "      <td>E</td>\n",
       "      <td>6.70</td>\n",
       "    </tr>\n",
       "    <tr>\n",
       "      <th>301</th>\n",
       "      <td>Namco Museum: 50th Anniversary</td>\n",
       "      <td>PS2</td>\n",
       "      <td>2005</td>\n",
       "      <td>Misc</td>\n",
       "      <td>2.08</td>\n",
       "      <td>1.35</td>\n",
       "      <td>0.0</td>\n",
       "      <td>0.54</td>\n",
       "      <td>61.0</td>\n",
       "      <td>tbd</td>\n",
       "      <td>E10+</td>\n",
       "      <td>3.97</td>\n",
       "    </tr>\n",
       "    <tr>\n",
       "      <th>520</th>\n",
       "      <td>Zumba Fitness 2</td>\n",
       "      <td>Wii</td>\n",
       "      <td>2011</td>\n",
       "      <td>Sports</td>\n",
       "      <td>1.51</td>\n",
       "      <td>1.03</td>\n",
       "      <td>0.0</td>\n",
       "      <td>0.27</td>\n",
       "      <td>NaN</td>\n",
       "      <td>tbd</td>\n",
       "      <td>T</td>\n",
       "      <td>2.81</td>\n",
       "    </tr>\n",
       "    <tr>\n",
       "      <th>645</th>\n",
       "      <td>uDraw Studio</td>\n",
       "      <td>Wii</td>\n",
       "      <td>2010</td>\n",
       "      <td>Misc</td>\n",
       "      <td>1.65</td>\n",
       "      <td>0.57</td>\n",
       "      <td>0.0</td>\n",
       "      <td>0.20</td>\n",
       "      <td>71.0</td>\n",
       "      <td>tbd</td>\n",
       "      <td>E</td>\n",
       "      <td>2.42</td>\n",
       "    </tr>\n",
       "    <tr>\n",
       "      <th>657</th>\n",
       "      <td>Frogger's Adventures: Temple of the Frog</td>\n",
       "      <td>GBA</td>\n",
       "      <td>1900</td>\n",
       "      <td>Adventure</td>\n",
       "      <td>2.15</td>\n",
       "      <td>0.18</td>\n",
       "      <td>0.0</td>\n",
       "      <td>0.07</td>\n",
       "      <td>73.0</td>\n",
       "      <td>tbd</td>\n",
       "      <td>E</td>\n",
       "      <td>2.40</td>\n",
       "    </tr>\n",
       "    <tr>\n",
       "      <th>...</th>\n",
       "      <td>...</td>\n",
       "      <td>...</td>\n",
       "      <td>...</td>\n",
       "      <td>...</td>\n",
       "      <td>...</td>\n",
       "      <td>...</td>\n",
       "      <td>...</td>\n",
       "      <td>...</td>\n",
       "      <td>...</td>\n",
       "      <td>...</td>\n",
       "      <td>...</td>\n",
       "      <td>...</td>\n",
       "    </tr>\n",
       "    <tr>\n",
       "      <th>16695</th>\n",
       "      <td>Planet Monsters</td>\n",
       "      <td>GBA</td>\n",
       "      <td>2001</td>\n",
       "      <td>Action</td>\n",
       "      <td>0.01</td>\n",
       "      <td>0.00</td>\n",
       "      <td>0.0</td>\n",
       "      <td>0.00</td>\n",
       "      <td>67.0</td>\n",
       "      <td>tbd</td>\n",
       "      <td>E</td>\n",
       "      <td>0.01</td>\n",
       "    </tr>\n",
       "    <tr>\n",
       "      <th>16697</th>\n",
       "      <td>Bust-A-Move 3000</td>\n",
       "      <td>GC</td>\n",
       "      <td>2003</td>\n",
       "      <td>Puzzle</td>\n",
       "      <td>0.01</td>\n",
       "      <td>0.00</td>\n",
       "      <td>0.0</td>\n",
       "      <td>0.00</td>\n",
       "      <td>53.0</td>\n",
       "      <td>tbd</td>\n",
       "      <td>E</td>\n",
       "      <td>0.01</td>\n",
       "    </tr>\n",
       "    <tr>\n",
       "      <th>16698</th>\n",
       "      <td>Mega Brain Boost</td>\n",
       "      <td>DS</td>\n",
       "      <td>2008</td>\n",
       "      <td>Puzzle</td>\n",
       "      <td>0.01</td>\n",
       "      <td>0.00</td>\n",
       "      <td>0.0</td>\n",
       "      <td>0.00</td>\n",
       "      <td>48.0</td>\n",
       "      <td>tbd</td>\n",
       "      <td>E</td>\n",
       "      <td>0.01</td>\n",
       "    </tr>\n",
       "    <tr>\n",
       "      <th>16704</th>\n",
       "      <td>Plushees</td>\n",
       "      <td>DS</td>\n",
       "      <td>2008</td>\n",
       "      <td>Simulation</td>\n",
       "      <td>0.01</td>\n",
       "      <td>0.00</td>\n",
       "      <td>0.0</td>\n",
       "      <td>0.00</td>\n",
       "      <td>NaN</td>\n",
       "      <td>tbd</td>\n",
       "      <td>E</td>\n",
       "      <td>0.01</td>\n",
       "    </tr>\n",
       "    <tr>\n",
       "      <th>16706</th>\n",
       "      <td>Men in Black II: Alien Escape</td>\n",
       "      <td>GC</td>\n",
       "      <td>2003</td>\n",
       "      <td>Shooter</td>\n",
       "      <td>0.01</td>\n",
       "      <td>0.00</td>\n",
       "      <td>0.0</td>\n",
       "      <td>0.00</td>\n",
       "      <td>NaN</td>\n",
       "      <td>tbd</td>\n",
       "      <td>T</td>\n",
       "      <td>0.01</td>\n",
       "    </tr>\n",
       "  </tbody>\n",
       "</table>\n",
       "<p>2424 rows × 12 columns</p>\n",
       "</div>"
      ],
      "text/plain": [
       "                                           name platform  year_of_release  \\\n",
       "119                               Zumba Fitness      Wii             2010   \n",
       "301              Namco Museum: 50th Anniversary      PS2             2005   \n",
       "520                             Zumba Fitness 2      Wii             2011   \n",
       "645                                uDraw Studio      Wii             2010   \n",
       "657    Frogger's Adventures: Temple of the Frog      GBA             1900   \n",
       "...                                         ...      ...              ...   \n",
       "16695                           Planet Monsters      GBA             2001   \n",
       "16697                          Bust-A-Move 3000       GC             2003   \n",
       "16698                          Mega Brain Boost       DS             2008   \n",
       "16704                                  Plushees       DS             2008   \n",
       "16706             Men in Black II: Alien Escape       GC             2003   \n",
       "\n",
       "            genre  na_sales  eu_sales  jp_sales  other_sales  critic_score  \\\n",
       "119        Sports      3.45      2.59       0.0         0.66           NaN   \n",
       "301          Misc      2.08      1.35       0.0         0.54          61.0   \n",
       "520        Sports      1.51      1.03       0.0         0.27           NaN   \n",
       "645          Misc      1.65      0.57       0.0         0.20          71.0   \n",
       "657     Adventure      2.15      0.18       0.0         0.07          73.0   \n",
       "...           ...       ...       ...       ...          ...           ...   \n",
       "16695      Action      0.01      0.00       0.0         0.00          67.0   \n",
       "16697      Puzzle      0.01      0.00       0.0         0.00          53.0   \n",
       "16698      Puzzle      0.01      0.00       0.0         0.00          48.0   \n",
       "16704  Simulation      0.01      0.00       0.0         0.00           NaN   \n",
       "16706     Shooter      0.01      0.00       0.0         0.00           NaN   \n",
       "\n",
       "      user_score rating  total_sales  \n",
       "119          tbd      E         6.70  \n",
       "301          tbd   E10+         3.97  \n",
       "520          tbd      T         2.81  \n",
       "645          tbd      E         2.42  \n",
       "657          tbd      E         2.40  \n",
       "...          ...    ...          ...  \n",
       "16695        tbd      E         0.01  \n",
       "16697        tbd      E         0.01  \n",
       "16698        tbd      E         0.01  \n",
       "16704        tbd      E         0.01  \n",
       "16706        tbd      T         0.01  \n",
       "\n",
       "[2424 rows x 12 columns]"
      ]
     },
     "execution_count": 16,
     "metadata": {},
     "output_type": "execute_result"
    }
   ],
   "source": [
    "games.loc[games['user_score'] == 'tbd']"
   ]
  },
  {
   "cell_type": "code",
   "execution_count": 17,
   "metadata": {
    "scrolled": true
   },
   "outputs": [
    {
     "data": {
      "text/plain": [
       "count    2424.000000\n",
       "mean        0.188160\n",
       "std         0.293709\n",
       "min         0.010000\n",
       "25%         0.050000\n",
       "50%         0.110000\n",
       "75%         0.220000\n",
       "max         6.700000\n",
       "Name: total_sales, dtype: float64"
      ]
     },
     "execution_count": 17,
     "metadata": {},
     "output_type": "execute_result"
    }
   ],
   "source": [
    "games.loc[games['user_score'] == 'tbd']['total_sales'].describe()"
   ]
  },
  {
   "cell_type": "markdown",
   "metadata": {},
   "source": [
    "Нельзя так сразу сказать, что это за значение и к чем оно привязано. По показанной части таблицы видно, что это  игры разных жанров за разные годы. Для чистоты анализа заменим это значение пустым."
   ]
  },
  {
   "cell_type": "code",
   "execution_count": 18,
   "metadata": {},
   "outputs": [],
   "source": [
    "games.loc[games['user_score'] == 'tbd','user_score'] = np.nan"
   ]
  },
  {
   "cell_type": "code",
   "execution_count": 19,
   "metadata": {},
   "outputs": [
    {
     "name": "stdout",
     "output_type": "stream",
     "text": [
      "<class 'pandas.core.frame.DataFrame'>\n",
      "RangeIndex: 16715 entries, 0 to 16714\n",
      "Data columns (total 12 columns):\n",
      " #   Column           Non-Null Count  Dtype  \n",
      "---  ------           --------------  -----  \n",
      " 0   name             16713 non-null  object \n",
      " 1   platform         16715 non-null  object \n",
      " 2   year_of_release  16715 non-null  int64  \n",
      " 3   genre            16713 non-null  object \n",
      " 4   na_sales         16715 non-null  float64\n",
      " 5   eu_sales         16715 non-null  float64\n",
      " 6   jp_sales         16715 non-null  float64\n",
      " 7   other_sales      16715 non-null  float64\n",
      " 8   critic_score     8137 non-null   float64\n",
      " 9   user_score       7590 non-null   float64\n",
      " 10  rating           9949 non-null   object \n",
      " 11  total_sales      16715 non-null  float64\n",
      "dtypes: float64(7), int64(1), object(4)\n",
      "memory usage: 1.5+ MB\n"
     ]
    }
   ],
   "source": [
    "games['user_score'] = games['user_score'].astype('float')\n",
    "games.info()"
   ]
  },
  {
   "cell_type": "markdown",
   "metadata": {},
   "source": [
    "<div class=\"alert alert-success\">\n",
    "    \n",
    "<b> Комментарий от ревьюера ✔️</b>\n",
    "    \n",
    "Кстати, можно использовать метод to_numeric с параметром errors='coerce'. Тогда все нечисловые значения сразу заменятся на nan и не придется отдельно обрабатывать tbd, [документация](https://pandas.pydata.org/docs/reference/api/pandas.to_numeric.html)\n",
    "</div>"
   ]
  },
  {
   "cell_type": "markdown",
   "metadata": {},
   "source": [
    "Чтобы было вообще красиво и единообразно переведём названия игр в нижний регистр"
   ]
  },
  {
   "cell_type": "code",
   "execution_count": 20,
   "metadata": {},
   "outputs": [],
   "source": [
    "games['name'] = games['name'].str.lower()\n",
    "games['platform'] = games['platform'].str.lower()\n",
    "games['genre'] = games['genre'].str.lower()\n",
    "games['rating'] = games['rating'].str.lower()"
   ]
  },
  {
   "cell_type": "markdown",
   "metadata": {},
   "source": [
    "Проверим на дубликаты"
   ]
  },
  {
   "cell_type": "code",
   "execution_count": 21,
   "metadata": {},
   "outputs": [
    {
     "data": {
      "text/plain": [
       "0"
      ]
     },
     "execution_count": 21,
     "metadata": {},
     "output_type": "execute_result"
    }
   ],
   "source": [
    "games.duplicated().sum()"
   ]
  },
  {
   "cell_type": "markdown",
   "metadata": {},
   "source": [
    "<div class=\"alert alert-warning\">\n",
    "    \n",
    "<b> Комментарий от ревьюера ⚠️</b>\n",
    "    \n",
    "Полных дубликатов нет, но давай попробуем найти дубли по названию игры и платформе. Может быть у дубликатов указаны разные объемы продаж или вроде того.\n",
    "</div>\n"
   ]
  },
  {
   "cell_type": "markdown",
   "metadata": {},
   "source": [
    "Посмотрим сколько нулевых значений."
   ]
  },
  {
   "cell_type": "code",
   "execution_count": 22,
   "metadata": {},
   "outputs": [
    {
     "data": {
      "text/plain": [
       "user_score         9125\n",
       "critic_score       8578\n",
       "rating             6766\n",
       "name                  2\n",
       "genre                 2\n",
       "platform              0\n",
       "year_of_release       0\n",
       "na_sales              0\n",
       "eu_sales              0\n",
       "jp_sales              0\n",
       "other_sales           0\n",
       "total_sales           0\n",
       "dtype: int64"
      ]
     },
     "execution_count": 22,
     "metadata": {},
     "output_type": "execute_result"
    }
   ],
   "source": [
    "games.isnull().sum().sort_values(ascending = False)"
   ]
  },
  {
   "cell_type": "markdown",
   "metadata": {},
   "source": [
    "Много нулевых значений. Причины неизвестны. Вполне возможна ситуация, когда игра имеет высокий рейтинг на одной платформе, но при этом криво работает на другой и там будет минимальный рейтинг. Поэтому среднее и медианное значение мы использовать не можем. Как метку отсутствия рейтинга укажем значение \"-1\". Отсутствующие значения имени игры и жанра заполним значениями \"no name\" и \"no genre\"."
   ]
  },
  {
   "cell_type": "code",
   "execution_count": 23,
   "metadata": {},
   "outputs": [],
   "source": [
    "games['user_score'] = games['user_score'].fillna(-1)\n",
    "games['critic_score'] = games['critic_score'].fillna(-1)\n",
    "games['rating'] = games['rating'].fillna('out of rating')\n",
    "games['genre'] = games['genre'].fillna('no genre')\n",
    "games['name'] = games['name'].fillna('no name')"
   ]
  },
  {
   "cell_type": "code",
   "execution_count": 24,
   "metadata": {},
   "outputs": [
    {
     "data": {
      "text/html": [
       "<div>\n",
       "<style scoped>\n",
       "    .dataframe tbody tr th:only-of-type {\n",
       "        vertical-align: middle;\n",
       "    }\n",
       "\n",
       "    .dataframe tbody tr th {\n",
       "        vertical-align: top;\n",
       "    }\n",
       "\n",
       "    .dataframe thead th {\n",
       "        text-align: right;\n",
       "    }\n",
       "</style>\n",
       "<table border=\"1\" class=\"dataframe\">\n",
       "  <thead>\n",
       "    <tr style=\"text-align: right;\">\n",
       "      <th></th>\n",
       "      <th>name</th>\n",
       "      <th>platform</th>\n",
       "      <th>year_of_release</th>\n",
       "      <th>genre</th>\n",
       "      <th>na_sales</th>\n",
       "      <th>eu_sales</th>\n",
       "      <th>jp_sales</th>\n",
       "      <th>other_sales</th>\n",
       "      <th>critic_score</th>\n",
       "      <th>user_score</th>\n",
       "      <th>rating</th>\n",
       "      <th>total_sales</th>\n",
       "    </tr>\n",
       "  </thead>\n",
       "  <tbody>\n",
       "    <tr>\n",
       "      <th>0</th>\n",
       "      <td>wii sports</td>\n",
       "      <td>wii</td>\n",
       "      <td>2006</td>\n",
       "      <td>sports</td>\n",
       "      <td>41.36</td>\n",
       "      <td>28.96</td>\n",
       "      <td>3.77</td>\n",
       "      <td>8.45</td>\n",
       "      <td>76.0</td>\n",
       "      <td>8.0</td>\n",
       "      <td>e</td>\n",
       "      <td>82.54</td>\n",
       "    </tr>\n",
       "    <tr>\n",
       "      <th>1</th>\n",
       "      <td>super mario bros.</td>\n",
       "      <td>nes</td>\n",
       "      <td>1985</td>\n",
       "      <td>platform</td>\n",
       "      <td>29.08</td>\n",
       "      <td>3.58</td>\n",
       "      <td>6.81</td>\n",
       "      <td>0.77</td>\n",
       "      <td>-1.0</td>\n",
       "      <td>-1.0</td>\n",
       "      <td>out of rating</td>\n",
       "      <td>40.24</td>\n",
       "    </tr>\n",
       "    <tr>\n",
       "      <th>2</th>\n",
       "      <td>mario kart wii</td>\n",
       "      <td>wii</td>\n",
       "      <td>2008</td>\n",
       "      <td>racing</td>\n",
       "      <td>15.68</td>\n",
       "      <td>12.76</td>\n",
       "      <td>3.79</td>\n",
       "      <td>3.29</td>\n",
       "      <td>82.0</td>\n",
       "      <td>8.3</td>\n",
       "      <td>e</td>\n",
       "      <td>35.52</td>\n",
       "    </tr>\n",
       "    <tr>\n",
       "      <th>3</th>\n",
       "      <td>wii sports resort</td>\n",
       "      <td>wii</td>\n",
       "      <td>2009</td>\n",
       "      <td>sports</td>\n",
       "      <td>15.61</td>\n",
       "      <td>10.93</td>\n",
       "      <td>3.28</td>\n",
       "      <td>2.95</td>\n",
       "      <td>80.0</td>\n",
       "      <td>8.0</td>\n",
       "      <td>e</td>\n",
       "      <td>32.77</td>\n",
       "    </tr>\n",
       "    <tr>\n",
       "      <th>4</th>\n",
       "      <td>pokemon red/pokemon blue</td>\n",
       "      <td>gb</td>\n",
       "      <td>1996</td>\n",
       "      <td>role-playing</td>\n",
       "      <td>11.27</td>\n",
       "      <td>8.89</td>\n",
       "      <td>10.22</td>\n",
       "      <td>1.00</td>\n",
       "      <td>-1.0</td>\n",
       "      <td>-1.0</td>\n",
       "      <td>out of rating</td>\n",
       "      <td>31.38</td>\n",
       "    </tr>\n",
       "  </tbody>\n",
       "</table>\n",
       "</div>"
      ],
      "text/plain": [
       "                       name platform  year_of_release         genre  na_sales  \\\n",
       "0                wii sports      wii             2006        sports     41.36   \n",
       "1         super mario bros.      nes             1985      platform     29.08   \n",
       "2            mario kart wii      wii             2008        racing     15.68   \n",
       "3         wii sports resort      wii             2009        sports     15.61   \n",
       "4  pokemon red/pokemon blue       gb             1996  role-playing     11.27   \n",
       "\n",
       "   eu_sales  jp_sales  other_sales  critic_score  user_score         rating  \\\n",
       "0     28.96      3.77         8.45          76.0         8.0              e   \n",
       "1      3.58      6.81         0.77          -1.0        -1.0  out of rating   \n",
       "2     12.76      3.79         3.29          82.0         8.3              e   \n",
       "3     10.93      3.28         2.95          80.0         8.0              e   \n",
       "4      8.89     10.22         1.00          -1.0        -1.0  out of rating   \n",
       "\n",
       "   total_sales  \n",
       "0        82.54  \n",
       "1        40.24  \n",
       "2        35.52  \n",
       "3        32.77  \n",
       "4        31.38  "
      ]
     },
     "execution_count": 24,
     "metadata": {},
     "output_type": "execute_result"
    }
   ],
   "source": [
    "games.head()"
   ]
  },
  {
   "cell_type": "markdown",
   "metadata": {},
   "source": [
    "<div class=\"alert alert-success\">\n",
    "    \n",
    "<b> Комментарий от ревьюера ✔️</b>\n",
    "    \n",
    "Ты хорошо справился с обработкой пропусков и заменой типов данных\n",
    "</div>\n"
   ]
  },
  {
   "cell_type": "markdown",
   "metadata": {},
   "source": [
    "## Исследовательский аналаз данных"
   ]
  },
  {
   "cell_type": "markdown",
   "metadata": {},
   "source": [
    "- Посмотреть, сколько игр выпускалось в разные годы. Важны ли данные за все периоды?\n",
    "- Посмотреть, как менялись продажи по платформам. Выбрать платформы с наибольшими суммарными продажами и построить распределение по годам. За какой характерный срок появляются новые и исчезают старые платформы?\n",
    "- Взять данные за соответствующий **актуальный период**. Актуальный период определить самостоятельно в результате исследования предыдущих вопросов. Основной фактор — эти данные помогут построить прогноз на 2017 год.- Не учитывать в работе данные за **предыдущие годы**.\n",
    "- Какие платформы лидируют по продажам, растут или падают? Выбрать несколько потенциально прибыльных платформ.\n",
    "- Построить график «ящик с усами» по глобальным продажам игр в разбивке по платформам. Описать результат.\n",
    "- Посмотреть, как влияют на продажи внутри одной популярной платформы отзывы пользователей и критиков. Построить диаграмму рассеяния и посчитать корреляцию между отзывами и продажами. Сформулировать выводы.\n",
    "- Соотнести выводы с продажами игр на других платформах.\n",
    "- Посмотреть на общее распределение игр по жанрам. Что можно сказать о самых прибыльных жанрах? Выделяются ли жанры с высокими и низкими продажами?\n"
   ]
  },
  {
   "cell_type": "markdown",
   "metadata": {},
   "source": [
    "### Распределение игр по годам выпуска"
   ]
  },
  {
   "cell_type": "markdown",
   "metadata": {},
   "source": [
    "Для начала посмотрим общее распределение."
   ]
  },
  {
   "cell_type": "code",
   "execution_count": 25,
   "metadata": {},
   "outputs": [
    {
     "data": {
      "text/plain": [
       "Text(0.5, 1.0, 'Распределение по годам релиза')"
      ]
     },
     "execution_count": 25,
     "metadata": {},
     "output_type": "execute_result"
    },
    {
     "data": {
      "image/png": "[encoded data removed]",
      "text/plain": [
       "<Figure size 432x288 with 1 Axes>"
      ]
     },
     "metadata": {
      "needs_background": "light"
     },
     "output_type": "display_data"
    }
   ],
   "source": [
    "games[games['year_of_release'] != 1900]['year_of_release'].plot(kind='hist', bins=100).legend()\n",
    "plt.title('Распределение по годам релиза')"
   ]
  },
  {
   "cell_type": "markdown",
   "metadata": {},
   "source": [
    "Логично. С 1980 по 1990 год индустрия игр была в зародышном состоянии, игр было совсем немного, но большинство из них запали в сердце как первая любовь. А вот потом начался серьёзный рост до пика в 2008-2009 годах. "
   ]
  },
  {
   "cell_type": "markdown",
   "metadata": {},
   "source": [
    "<div class=\"alert alert-danger\">\n",
    "    \n",
    "<b> Комментарий от ревьюера ❗</b>\n",
    "    \n",
    ">  Есть два провала в 1997 и 2007 года. Возможно это какая-то ошибка при заполнении базы. \n",
    "    \n",
    "Обрати, пожалуйста, внимание, что \"провалы\" возникли из-за особенности графика, а не данных (можешь убедиться, что данные у нас есть `games.query('year_of_release == 1997')`). Измени параметр bins или используй другой тип графика (столбчатую диаграмму, линейный график) вместо гистограммы\n",
    "</div>"
   ]
  },
  {
   "cell_type": "markdown",
   "metadata": {},
   "source": [
    "<div class=\"alert alert-info\">\n",
    "    И правда. Спасибо!\n",
    "</div>"
   ]
  },
  {
   "cell_type": "markdown",
   "metadata": {},
   "source": [
    "<div class=\"alert alert-success\">\n",
    "    \n",
    "<b> Комментарий от ревьюера 2 ✔️</b>\n",
    "\n",
    "👍\n",
    "\n",
    "</div>"
   ]
  },
  {
   "cell_type": "markdown",
   "metadata": {},
   "source": [
    "### Распеделение по платформам"
   ]
  },
  {
   "cell_type": "markdown",
   "metadata": {},
   "source": [
    "Сначала посмотрим общее распределение по платформам."
   ]
  },
  {
   "cell_type": "code",
   "execution_count": 26,
   "metadata": {},
   "outputs": [
    {
     "data": {
      "text/html": [
       "<div>\n",
       "<style scoped>\n",
       "    .dataframe tbody tr th:only-of-type {\n",
       "        vertical-align: middle;\n",
       "    }\n",
       "\n",
       "    .dataframe tbody tr th {\n",
       "        vertical-align: top;\n",
       "    }\n",
       "\n",
       "    .dataframe thead th {\n",
       "        text-align: right;\n",
       "    }\n",
       "</style>\n",
       "<table border=\"1\" class=\"dataframe\">\n",
       "  <thead>\n",
       "    <tr style=\"text-align: right;\">\n",
       "      <th></th>\n",
       "      <th>total_sales</th>\n",
       "    </tr>\n",
       "    <tr>\n",
       "      <th>platform</th>\n",
       "      <th></th>\n",
       "    </tr>\n",
       "  </thead>\n",
       "  <tbody>\n",
       "    <tr>\n",
       "      <th>ps2</th>\n",
       "      <td>1233.56</td>\n",
       "    </tr>\n",
       "    <tr>\n",
       "      <th>x360</th>\n",
       "      <td>961.24</td>\n",
       "    </tr>\n",
       "    <tr>\n",
       "      <th>ps3</th>\n",
       "      <td>931.34</td>\n",
       "    </tr>\n",
       "    <tr>\n",
       "      <th>wii</th>\n",
       "      <td>891.18</td>\n",
       "    </tr>\n",
       "    <tr>\n",
       "      <th>ds</th>\n",
       "      <td>802.78</td>\n",
       "    </tr>\n",
       "    <tr>\n",
       "      <th>ps</th>\n",
       "      <td>727.58</td>\n",
       "    </tr>\n",
       "    <tr>\n",
       "      <th>ps4</th>\n",
       "      <td>314.14</td>\n",
       "    </tr>\n",
       "    <tr>\n",
       "      <th>gba</th>\n",
       "      <td>312.88</td>\n",
       "    </tr>\n",
       "    <tr>\n",
       "      <th>psp</th>\n",
       "      <td>289.53</td>\n",
       "    </tr>\n",
       "    <tr>\n",
       "      <th>3ds</th>\n",
       "      <td>257.81</td>\n",
       "    </tr>\n",
       "    <tr>\n",
       "      <th>pc</th>\n",
       "      <td>255.76</td>\n",
       "    </tr>\n",
       "    <tr>\n",
       "      <th>gb</th>\n",
       "      <td>254.43</td>\n",
       "    </tr>\n",
       "    <tr>\n",
       "      <th>xb</th>\n",
       "      <td>251.57</td>\n",
       "    </tr>\n",
       "    <tr>\n",
       "      <th>nes</th>\n",
       "      <td>251.05</td>\n",
       "    </tr>\n",
       "    <tr>\n",
       "      <th>n64</th>\n",
       "      <td>218.01</td>\n",
       "    </tr>\n",
       "    <tr>\n",
       "      <th>snes</th>\n",
       "      <td>200.04</td>\n",
       "    </tr>\n",
       "    <tr>\n",
       "      <th>gc</th>\n",
       "      <td>196.73</td>\n",
       "    </tr>\n",
       "    <tr>\n",
       "      <th>xone</th>\n",
       "      <td>159.32</td>\n",
       "    </tr>\n",
       "    <tr>\n",
       "      <th>2600</th>\n",
       "      <td>86.48</td>\n",
       "    </tr>\n",
       "    <tr>\n",
       "      <th>wiiu</th>\n",
       "      <td>82.19</td>\n",
       "    </tr>\n",
       "    <tr>\n",
       "      <th>psv</th>\n",
       "      <td>53.81</td>\n",
       "    </tr>\n",
       "    <tr>\n",
       "      <th>sat</th>\n",
       "      <td>33.59</td>\n",
       "    </tr>\n",
       "    <tr>\n",
       "      <th>gen</th>\n",
       "      <td>30.77</td>\n",
       "    </tr>\n",
       "    <tr>\n",
       "      <th>dc</th>\n",
       "      <td>15.95</td>\n",
       "    </tr>\n",
       "    <tr>\n",
       "      <th>scd</th>\n",
       "      <td>1.86</td>\n",
       "    </tr>\n",
       "    <tr>\n",
       "      <th>ng</th>\n",
       "      <td>1.44</td>\n",
       "    </tr>\n",
       "    <tr>\n",
       "      <th>ws</th>\n",
       "      <td>1.42</td>\n",
       "    </tr>\n",
       "    <tr>\n",
       "      <th>tg16</th>\n",
       "      <td>0.16</td>\n",
       "    </tr>\n",
       "    <tr>\n",
       "      <th>3do</th>\n",
       "      <td>0.10</td>\n",
       "    </tr>\n",
       "    <tr>\n",
       "      <th>gg</th>\n",
       "      <td>0.04</td>\n",
       "    </tr>\n",
       "    <tr>\n",
       "      <th>pcfx</th>\n",
       "      <td>0.03</td>\n",
       "    </tr>\n",
       "  </tbody>\n",
       "</table>\n",
       "</div>"
      ],
      "text/plain": [
       "          total_sales\n",
       "platform             \n",
       "ps2           1233.56\n",
       "x360           961.24\n",
       "ps3            931.34\n",
       "wii            891.18\n",
       "ds             802.78\n",
       "ps             727.58\n",
       "ps4            314.14\n",
       "gba            312.88\n",
       "psp            289.53\n",
       "3ds            257.81\n",
       "pc             255.76\n",
       "gb             254.43\n",
       "xb             251.57\n",
       "nes            251.05\n",
       "n64            218.01\n",
       "snes           200.04\n",
       "gc             196.73\n",
       "xone           159.32\n",
       "2600            86.48\n",
       "wiiu            82.19\n",
       "psv             53.81\n",
       "sat             33.59\n",
       "gen             30.77\n",
       "dc              15.95\n",
       "scd              1.86\n",
       "ng               1.44\n",
       "ws               1.42\n",
       "tg16             0.16\n",
       "3do              0.10\n",
       "gg               0.04\n",
       "pcfx             0.03"
      ]
     },
     "execution_count": 26,
     "metadata": {},
     "output_type": "execute_result"
    }
   ],
   "source": [
    "games[games['year_of_release'] != 1900].groupby('platform').agg({'total_sales':'sum'})\\\n",
    "    .sort_values(by = 'total_sales', ascending=False)"
   ]
  },
  {
   "cell_type": "markdown",
   "metadata": {},
   "source": [
    "<div class=\"alert alert-warning\">\n",
    "    \n",
    "<b> Комментарий от ревьюера ⚠️</b>\n",
    "    \n",
    "> games[games['year_of_release'] != 2077]\n",
    "    \n",
    "Почему мы убираем 2077 год?\n",
    "</div>\n"
   ]
  },
  {
   "cell_type": "markdown",
   "metadata": {},
   "source": [
    "<div class=\"alert alert-info\">\n",
    "    Думал о киберпанке и автоматом написал 2077)))\n",
    "    Метка 1900 всё верно)\n",
    "</div>"
   ]
  },
  {
   "cell_type": "markdown",
   "metadata": {},
   "source": [
    "Изучим первые 6 платформ, для остальных суммарные продажи значительно ниже."
   ]
  },
  {
   "cell_type": "markdown",
   "metadata": {},
   "source": [
    "<div class=\"alert alert-danger\">\n",
    "    \n",
    "<b> Комментарий от ревьюера ❗</b>\n",
    "    \n",
    "> games[(games['platform'] == 'ps2') & (games['year_of_release'] != 1900)]['**year_of_release**']\\\n",
    "    \n",
    "Подскажи, пожалуйста, почему мы используем признак year_of_release для создания графика по продажам?\n",
    "</div>"
   ]
  },
  {
   "cell_type": "markdown",
   "metadata": {},
   "source": [
    "<div class=\"alert alert-info\">\n",
    "    А, да. Считал по годам, вот этот параметр и вставил. Делал поздно ночером после работы, увидел похожий на правду график и решил, что всё норм)\n",
    "    Спасибо за новый способ!\n",
    "</div>"
   ]
  },
  {
   "cell_type": "markdown",
   "metadata": {},
   "source": [
    "<div class=\"alert alert-success\">\n",
    "    \n",
    "<b> Комментарий от ревьюера 2 ✔️</b>\n",
    "\n",
    "Здорово, что поправил код. Надеюсь, ты в нем разобрался, а не только скопировал)\n",
    "\n",
    "</div>"
   ]
  },
  {
   "cell_type": "code",
   "execution_count": 27,
   "metadata": {},
   "outputs": [
    {
     "data": {
      "text/plain": [
       "<AxesSubplot:xlabel='year_of_release'>"
      ]
     },
     "execution_count": 27,
     "metadata": {},
     "output_type": "execute_result"
    },
    {
     "data": {
      "image/png": "[encoded data removed]",
      "text/plain": [
       "<Figure size 432x288 with 1 Axes>"
      ]
     },
     "metadata": {
      "needs_background": "light"
     },
     "output_type": "display_data"
    }
   ],
   "source": [
    "top_platforms = games[games['year_of_release'] != 1900].groupby('platform').agg({'total_sales':'sum'})\\\n",
    "    .sort_values(by = 'total_sales', ascending=False).head(6).index\n",
    "\n",
    "(\n",
    "    games\n",
    "    .query('platform.isin(@top_platforms) and year_of_release!=1900')\n",
    "    .pivot_table(index='year_of_release',columns='platform',values='total_sales',aggfunc='sum')\n",
    "    .plot()\n",
    ")"
   ]
  },
  {
   "cell_type": "markdown",
   "metadata": {},
   "source": [
    "<div class=\"alert alert-warning\">\n",
    "    \n",
    "<b> Комментарий от ревьюера ⚠️</b>\n",
    "    \n",
    "Лучше автоматизировать код, чтобы не перечислять все платформы по отдельности. Можешь сделать это циклом или с помощью сводной таблицы\n",
    "    \n",
    "    top_platforms = games[games['year_of_release'] != 1900].groupby('platform').agg({'total_sales':'sum'})\\\n",
    "        .sort_values(by = 'total_sales', ascending=False).head(6).index\n",
    "\n",
    "    (\n",
    "        games\n",
    "        .query('platform.isin(@top_platforms) and year_of_release!=1900')\n",
    "        .pivot_table(index='year_of_release',columns='platform',values='total_sales',aggfunc='sum')\n",
    "        .plot()\n",
    "    )\n",
    "</div>\n"
   ]
  },
  {
   "cell_type": "markdown",
   "metadata": {},
   "source": [
    "Получается средний срок актуальности платформ 6-8 лет. Но вот, например, Nintendo DS без обновлений (в отличии от PlayStaion) прожила даже больше. Олды долго держались."
   ]
  },
  {
   "cell_type": "markdown",
   "metadata": {},
   "source": [
    "### Анализ данных за актуальный период"
   ]
  },
  {
   "cell_type": "markdown",
   "metadata": {},
   "source": [
    "В качестве актуального возьмём последние 5 лет с 2012 по 2016 год включительно. Посмотрим общее распределение по годам в этот период и посмотрим распределение по платформам."
   ]
  },
  {
   "cell_type": "markdown",
   "metadata": {},
   "source": [
    "<div class=\"alert alert-success\">\n",
    "    \n",
    "<b> Комментарий от ревьюера ✔️</b>\n",
    "    \n",
    "Ты прав, данных с 2012 года будет достаточно\n",
    "\n",
    "</div>\n"
   ]
  },
  {
   "cell_type": "code",
   "execution_count": 28,
   "metadata": {},
   "outputs": [],
   "source": [
    "games_actual = games[(games['year_of_release'] >= 2012) & (games['year_of_release'] <= 2016)]"
   ]
  },
  {
   "cell_type": "code",
   "execution_count": 29,
   "metadata": {},
   "outputs": [
    {
     "data": {
      "text/plain": [
       "Text(0.5, 1.0, 'Распределение по годам релиза')"
      ]
     },
     "execution_count": 29,
     "metadata": {},
     "output_type": "execute_result"
    },
    {
     "data": {
      "image/png": "[encoded data removed]",
      "text/plain": [
       "<Figure size 432x288 with 1 Axes>"
      ]
     },
     "metadata": {
      "needs_background": "light"
     },
     "output_type": "display_data"
    }
   ],
   "source": [
    "games_actual['year_of_release'].plot(kind='hist', bins=40).legend()\n",
    "plt.title('Распределение по годам релиза')"
   ]
  },
  {
   "cell_type": "code",
   "execution_count": 30,
   "metadata": {},
   "outputs": [
    {
     "data": {
      "text/html": [
       "<div>\n",
       "<style scoped>\n",
       "    .dataframe tbody tr th:only-of-type {\n",
       "        vertical-align: middle;\n",
       "    }\n",
       "\n",
       "    .dataframe tbody tr th {\n",
       "        vertical-align: top;\n",
       "    }\n",
       "\n",
       "    .dataframe thead th {\n",
       "        text-align: right;\n",
       "    }\n",
       "</style>\n",
       "<table border=\"1\" class=\"dataframe\">\n",
       "  <thead>\n",
       "    <tr style=\"text-align: right;\">\n",
       "      <th></th>\n",
       "      <th>total_sales</th>\n",
       "    </tr>\n",
       "    <tr>\n",
       "      <th>platform</th>\n",
       "      <th></th>\n",
       "    </tr>\n",
       "  </thead>\n",
       "  <tbody>\n",
       "    <tr>\n",
       "      <th>ps4</th>\n",
       "      <td>314.14</td>\n",
       "    </tr>\n",
       "    <tr>\n",
       "      <th>ps3</th>\n",
       "      <td>288.79</td>\n",
       "    </tr>\n",
       "    <tr>\n",
       "      <th>x360</th>\n",
       "      <td>236.54</td>\n",
       "    </tr>\n",
       "    <tr>\n",
       "      <th>3ds</th>\n",
       "      <td>194.61</td>\n",
       "    </tr>\n",
       "    <tr>\n",
       "      <th>xone</th>\n",
       "      <td>159.32</td>\n",
       "    </tr>\n",
       "    <tr>\n",
       "      <th>wiiu</th>\n",
       "      <td>82.19</td>\n",
       "    </tr>\n",
       "    <tr>\n",
       "      <th>pc</th>\n",
       "      <td>62.65</td>\n",
       "    </tr>\n",
       "    <tr>\n",
       "      <th>psv</th>\n",
       "      <td>49.18</td>\n",
       "    </tr>\n",
       "    <tr>\n",
       "      <th>wii</th>\n",
       "      <td>35.37</td>\n",
       "    </tr>\n",
       "    <tr>\n",
       "      <th>ds</th>\n",
       "      <td>12.55</td>\n",
       "    </tr>\n",
       "    <tr>\n",
       "      <th>psp</th>\n",
       "      <td>11.19</td>\n",
       "    </tr>\n",
       "  </tbody>\n",
       "</table>\n",
       "</div>"
      ],
      "text/plain": [
       "          total_sales\n",
       "platform             \n",
       "ps4            314.14\n",
       "ps3            288.79\n",
       "x360           236.54\n",
       "3ds            194.61\n",
       "xone           159.32\n",
       "wiiu            82.19\n",
       "pc              62.65\n",
       "psv             49.18\n",
       "wii             35.37\n",
       "ds              12.55\n",
       "psp             11.19"
      ]
     },
     "execution_count": 30,
     "metadata": {},
     "output_type": "execute_result"
    }
   ],
   "source": [
    "games_actual.groupby('platform').agg({'total_sales':'sum'}).sort_values(by = 'total_sales', ascending=False)\n"
   ]
  },
  {
   "cell_type": "markdown",
   "metadata": {},
   "source": [
    "Видим, что есть группа из 5 платформ с самым больим числом проданных игр на них: ps4, ps3, x360, 3ds, xone. Построим для них график продаж. Масштаб выставим одинаковый, чтобы корректно сравнивать данные."
   ]
  },
  {
   "cell_type": "code",
   "execution_count": 31,
   "metadata": {},
   "outputs": [
    {
     "data": {
      "text/plain": [
       "Text(0.5, 1.0, 'Продажи игр для PS4')"
      ]
     },
     "execution_count": 31,
     "metadata": {},
     "output_type": "execute_result"
    },
    {
     "data": {
      "image/png": "[encoded data removed]",
      "text/plain": [
       "<Figure size 432x288 with 1 Axes>"
      ]
     },
     "metadata": {
      "needs_background": "light"
     },
     "output_type": "display_data"
    }
   ],
   "source": [
    "games_actual[games_actual['platform'] == 'ps4']['year_of_release']\\\n",
    "    .plot(kind='hist', bins=40, label = 'ps4', ylim = (0, 170)).legend()\n",
    "\n",
    "plt.title('Продажи игр для PS4')"
   ]
  },
  {
   "cell_type": "code",
   "execution_count": 32,
   "metadata": {},
   "outputs": [
    {
     "data": {
      "text/plain": [
       "Text(0.5, 1.0, 'Продажи игр для PS3')"
      ]
     },
     "execution_count": 32,
     "metadata": {},
     "output_type": "execute_result"
    },
    {
     "data": {
      "image/png": "[encoded data removed]",
      "text/plain": [
       "<Figure size 432x288 with 1 Axes>"
      ]
     },
     "metadata": {
      "needs_background": "light"
     },
     "output_type": "display_data"
    }
   ],
   "source": [
    "games_actual[games_actual['platform'] == 'ps3']['year_of_release']\\\n",
    "    .plot(kind='hist', bins=40, label = 'ps3', ylim = (0, 170)).legend()\n",
    "\n",
    "plt.title('Продажи игр для PS3')"
   ]
  },
  {
   "cell_type": "code",
   "execution_count": 33,
   "metadata": {},
   "outputs": [
    {
     "data": {
      "text/plain": [
       "Text(0.5, 1.0, 'Продажи игр для X360')"
      ]
     },
     "execution_count": 33,
     "metadata": {},
     "output_type": "execute_result"
    },
    {
     "data": {
      "image/png": "[encoded data removed]",
      "text/plain": [
       "<Figure size 432x288 with 1 Axes>"
      ]
     },
     "metadata": {
      "needs_background": "light"
     },
     "output_type": "display_data"
    }
   ],
   "source": [
    "games_actual[games_actual['platform'] == 'x360']['year_of_release']\\\n",
    "    .plot(kind='hist', bins=40, label = 'x360', ylim = (0, 170)).legend()\n",
    "\n",
    "plt.title('Продажи игр для X360')"
   ]
  },
  {
   "cell_type": "code",
   "execution_count": 34,
   "metadata": {},
   "outputs": [
    {
     "data": {
      "text/plain": [
       "Text(0.5, 1.0, 'Продажи игр для 3DS')"
      ]
     },
     "execution_count": 34,
     "metadata": {},
     "output_type": "execute_result"
    },
    {
     "data": {
      "image/png": "[encoded data removed]",
      "text/plain": [
       "<Figure size 432x288 with 1 Axes>"
      ]
     },
     "metadata": {
      "needs_background": "light"
     },
     "output_type": "display_data"
    }
   ],
   "source": [
    "games_actual[games_actual['platform'] == '3ds']['year_of_release']\\\n",
    "    .plot(kind='hist', bins=40, label = '3ds', ylim = (0, 170)).legend()\n",
    "\n",
    "plt.title('Продажи игр для 3DS')"
   ]
  },
  {
   "cell_type": "code",
   "execution_count": 35,
   "metadata": {
    "scrolled": true
   },
   "outputs": [
    {
     "data": {
      "text/plain": [
       "Text(0.5, 1.0, 'Продажи игр для XONE')"
      ]
     },
     "execution_count": 35,
     "metadata": {},
     "output_type": "execute_result"
    },
    {
     "data": {
      "image/png": "[encoded data removed]",
      "text/plain": [
       "<Figure size 432x288 with 1 Axes>"
      ]
     },
     "metadata": {
      "needs_background": "light"
     },
     "output_type": "display_data"
    }
   ],
   "source": [
    "games_actual[games_actual['platform'] == 'xone']['year_of_release']\\\n",
    "    .plot(kind='hist', bins=40, label = 'xone', ylim = (0, 170)).legend()\n",
    "\n",
    "plt.title('Продажи игр для XONE')"
   ]
  },
  {
   "cell_type": "markdown",
   "metadata": {},
   "source": [
    "Откровенно скатываются к нулю PS3 и X360. Смысла тратить деньги на рекламу игр для этих платформ нет, они постепенно выходят из обращения. И заменяют их постепенно PS4 и XONE. А вот 3DS снижается, но пока не так сильно, возможно ещё год-другой ещё будут заметные продажи и, в принципе, хорошая реклама может этому помочь."
   ]
  },
  {
   "cell_type": "markdown",
   "metadata": {},
   "source": [
    "<div class=\"alert alert-success\">\n",
    "    \n",
    "<b> Комментарий от ревьюера ✔️</b>\n",
    "    \n",
    "Ты правильно опредилил потенциально прибыльные платформы. Кстати, что можно сказать про PC?\n",
    "\n",
    "</div>\n"
   ]
  },
  {
   "cell_type": "markdown",
   "metadata": {},
   "source": [
    "### \"Ящик с усами\" по глобальным продажи с разбивкой по платформам"
   ]
  },
  {
   "cell_type": "markdown",
   "metadata": {},
   "source": [
    "Для начала посмотрим общий разброс глобальных продаж и статистику по ним"
   ]
  },
  {
   "cell_type": "code",
   "execution_count": 36,
   "metadata": {
    "scrolled": true
   },
   "outputs": [
    {
     "data": {
      "text/html": [
       "<div>\n",
       "<style scoped>\n",
       "    .dataframe tbody tr th:only-of-type {\n",
       "        vertical-align: middle;\n",
       "    }\n",
       "\n",
       "    .dataframe tbody tr th {\n",
       "        vertical-align: top;\n",
       "    }\n",
       "\n",
       "    .dataframe thead th {\n",
       "        text-align: right;\n",
       "    }\n",
       "</style>\n",
       "<table border=\"1\" class=\"dataframe\">\n",
       "  <thead>\n",
       "    <tr style=\"text-align: right;\">\n",
       "      <th></th>\n",
       "      <th>year_of_release</th>\n",
       "      <th>na_sales</th>\n",
       "      <th>eu_sales</th>\n",
       "      <th>jp_sales</th>\n",
       "      <th>other_sales</th>\n",
       "      <th>critic_score</th>\n",
       "      <th>user_score</th>\n",
       "      <th>total_sales</th>\n",
       "    </tr>\n",
       "  </thead>\n",
       "  <tbody>\n",
       "    <tr>\n",
       "      <th>count</th>\n",
       "      <td>2886.000000</td>\n",
       "      <td>2886.000000</td>\n",
       "      <td>2886.000000</td>\n",
       "      <td>2886.000000</td>\n",
       "      <td>2886.000000</td>\n",
       "      <td>2886.000000</td>\n",
       "      <td>2886.000000</td>\n",
       "      <td>2886.000000</td>\n",
       "    </tr>\n",
       "    <tr>\n",
       "      <th>mean</th>\n",
       "      <td>2013.916840</td>\n",
       "      <td>0.204771</td>\n",
       "      <td>0.175613</td>\n",
       "      <td>0.066729</td>\n",
       "      <td>0.054109</td>\n",
       "      <td>32.303881</td>\n",
       "      <td>3.050901</td>\n",
       "      <td>0.501223</td>\n",
       "    </tr>\n",
       "    <tr>\n",
       "      <th>std</th>\n",
       "      <td>1.411766</td>\n",
       "      <td>0.566696</td>\n",
       "      <td>0.505346</td>\n",
       "      <td>0.241575</td>\n",
       "      <td>0.164639</td>\n",
       "      <td>37.473265</td>\n",
       "      <td>3.979196</td>\n",
       "      <td>1.249157</td>\n",
       "    </tr>\n",
       "    <tr>\n",
       "      <th>min</th>\n",
       "      <td>2012.000000</td>\n",
       "      <td>0.000000</td>\n",
       "      <td>0.000000</td>\n",
       "      <td>0.000000</td>\n",
       "      <td>0.000000</td>\n",
       "      <td>-1.000000</td>\n",
       "      <td>-1.000000</td>\n",
       "      <td>0.010000</td>\n",
       "    </tr>\n",
       "    <tr>\n",
       "      <th>25%</th>\n",
       "      <td>2013.000000</td>\n",
       "      <td>0.000000</td>\n",
       "      <td>0.000000</td>\n",
       "      <td>0.000000</td>\n",
       "      <td>0.000000</td>\n",
       "      <td>-1.000000</td>\n",
       "      <td>-1.000000</td>\n",
       "      <td>0.040000</td>\n",
       "    </tr>\n",
       "    <tr>\n",
       "      <th>50%</th>\n",
       "      <td>2014.000000</td>\n",
       "      <td>0.030000</td>\n",
       "      <td>0.030000</td>\n",
       "      <td>0.010000</td>\n",
       "      <td>0.010000</td>\n",
       "      <td>-1.000000</td>\n",
       "      <td>3.500000</td>\n",
       "      <td>0.120000</td>\n",
       "    </tr>\n",
       "    <tr>\n",
       "      <th>75%</th>\n",
       "      <td>2015.000000</td>\n",
       "      <td>0.170000</td>\n",
       "      <td>0.140000</td>\n",
       "      <td>0.050000</td>\n",
       "      <td>0.040000</td>\n",
       "      <td>73.000000</td>\n",
       "      <td>7.100000</td>\n",
       "      <td>0.430000</td>\n",
       "    </tr>\n",
       "    <tr>\n",
       "      <th>max</th>\n",
       "      <td>2016.000000</td>\n",
       "      <td>9.660000</td>\n",
       "      <td>9.090000</td>\n",
       "      <td>4.390000</td>\n",
       "      <td>3.960000</td>\n",
       "      <td>97.000000</td>\n",
       "      <td>9.300000</td>\n",
       "      <td>21.050000</td>\n",
       "    </tr>\n",
       "  </tbody>\n",
       "</table>\n",
       "</div>"
      ],
      "text/plain": [
       "       year_of_release     na_sales     eu_sales     jp_sales  other_sales  \\\n",
       "count      2886.000000  2886.000000  2886.000000  2886.000000  2886.000000   \n",
       "mean       2013.916840     0.204771     0.175613     0.066729     0.054109   \n",
       "std           1.411766     0.566696     0.505346     0.241575     0.164639   \n",
       "min        2012.000000     0.000000     0.000000     0.000000     0.000000   \n",
       "25%        2013.000000     0.000000     0.000000     0.000000     0.000000   \n",
       "50%        2014.000000     0.030000     0.030000     0.010000     0.010000   \n",
       "75%        2015.000000     0.170000     0.140000     0.050000     0.040000   \n",
       "max        2016.000000     9.660000     9.090000     4.390000     3.960000   \n",
       "\n",
       "       critic_score   user_score  total_sales  \n",
       "count   2886.000000  2886.000000  2886.000000  \n",
       "mean      32.303881     3.050901     0.501223  \n",
       "std       37.473265     3.979196     1.249157  \n",
       "min       -1.000000    -1.000000     0.010000  \n",
       "25%       -1.000000    -1.000000     0.040000  \n",
       "50%       -1.000000     3.500000     0.120000  \n",
       "75%       73.000000     7.100000     0.430000  \n",
       "max       97.000000     9.300000    21.050000  "
      ]
     },
     "execution_count": 36,
     "metadata": {},
     "output_type": "execute_result"
    }
   ],
   "source": [
    "games_actual.describe()"
   ]
  },
  {
   "cell_type": "code",
   "execution_count": 37,
   "metadata": {},
   "outputs": [
    {
     "data": {
      "text/plain": [
       "array(['ps3', 'x360', 'ps4', '3ds', 'ds', 'xone', 'wiiu', 'wii', 'pc',\n",
       "       'psv', 'psp'], dtype=object)"
      ]
     },
     "execution_count": 37,
     "metadata": {},
     "output_type": "execute_result"
    }
   ],
   "source": [
    "games_actual['platform'].unique()"
   ]
  },
  {
   "cell_type": "code",
   "execution_count": 38,
   "metadata": {
    "scrolled": false
   },
   "outputs": [
    {
     "data": {
      "image/png": "[encoded data removed]",
      "text/plain": [
       "<Figure size 576x576 with 1 Axes>"
      ]
     },
     "metadata": {
      "needs_background": "light"
     },
     "output_type": "display_data"
    }
   ],
   "source": [
    "plot = games_actual.boxplot('total_sales', figsize=(8, 8)).set_ylim(0, 5)"
   ]
  },
  {
   "cell_type": "markdown",
   "metadata": {},
   "source": [
    "<div class=\"alert alert-warning\">\n",
    "    \n",
    "<b> Комментарий от ревьюера ⚠️</b>\n",
    "    \n",
    "Добавь, пожалуйста, на все графики названия, подписи осей и легенду ((если рассматриваешь несколько наборов данных). Можешь посмотреть [тут](https://matplotlib.org/stable/tutorials/introductory/usage.html#the-object-oriented-interface-and-the-pyplot-interface), как их добавлять\n",
    "</div>"
   ]
  },
  {
   "cell_type": "markdown",
   "metadata": {},
   "source": [
    "Попробуем построить график сразу по платформам c максимальным числом продаж за последние годы. Выделим их для удобства в отдельный датафрейм."
   ]
  },
  {
   "cell_type": "code",
   "execution_count": 39,
   "metadata": {},
   "outputs": [],
   "source": [
    "games_global = games_actual[(games_actual['platform'] == 'ps4')  | \\\n",
    "                     (games_actual['platform'] == 'ps3') | \\\n",
    "                     (games_actual['platform'] == 'x360') | \\\n",
    "                     (games_actual['platform'] == '3ds') | \\\n",
    "                     (games_actual['platform'] == 'xone')]"
   ]
  },
  {
   "cell_type": "code",
   "execution_count": 40,
   "metadata": {},
   "outputs": [
    {
     "data": {
      "text/html": [
       "<div>\n",
       "<style scoped>\n",
       "    .dataframe tbody tr th:only-of-type {\n",
       "        vertical-align: middle;\n",
       "    }\n",
       "\n",
       "    .dataframe tbody tr th {\n",
       "        vertical-align: top;\n",
       "    }\n",
       "\n",
       "    .dataframe thead th {\n",
       "        text-align: right;\n",
       "    }\n",
       "</style>\n",
       "<table border=\"1\" class=\"dataframe\">\n",
       "  <thead>\n",
       "    <tr style=\"text-align: right;\">\n",
       "      <th></th>\n",
       "      <th>name</th>\n",
       "      <th>platform</th>\n",
       "      <th>year_of_release</th>\n",
       "      <th>genre</th>\n",
       "      <th>na_sales</th>\n",
       "      <th>eu_sales</th>\n",
       "      <th>jp_sales</th>\n",
       "      <th>other_sales</th>\n",
       "      <th>critic_score</th>\n",
       "      <th>user_score</th>\n",
       "      <th>rating</th>\n",
       "      <th>total_sales</th>\n",
       "    </tr>\n",
       "  </thead>\n",
       "  <tbody>\n",
       "    <tr>\n",
       "      <th>16</th>\n",
       "      <td>grand theft auto v</td>\n",
       "      <td>ps3</td>\n",
       "      <td>2013</td>\n",
       "      <td>action</td>\n",
       "      <td>7.02</td>\n",
       "      <td>9.09</td>\n",
       "      <td>0.98</td>\n",
       "      <td>3.96</td>\n",
       "      <td>97.0</td>\n",
       "      <td>8.2</td>\n",
       "      <td>m</td>\n",
       "      <td>21.05</td>\n",
       "    </tr>\n",
       "    <tr>\n",
       "      <th>23</th>\n",
       "      <td>grand theft auto v</td>\n",
       "      <td>x360</td>\n",
       "      <td>2013</td>\n",
       "      <td>action</td>\n",
       "      <td>9.66</td>\n",
       "      <td>5.14</td>\n",
       "      <td>0.06</td>\n",
       "      <td>1.41</td>\n",
       "      <td>97.0</td>\n",
       "      <td>8.1</td>\n",
       "      <td>m</td>\n",
       "      <td>16.27</td>\n",
       "    </tr>\n",
       "    <tr>\n",
       "      <th>31</th>\n",
       "      <td>call of duty: black ops 3</td>\n",
       "      <td>ps4</td>\n",
       "      <td>2015</td>\n",
       "      <td>shooter</td>\n",
       "      <td>6.03</td>\n",
       "      <td>5.86</td>\n",
       "      <td>0.36</td>\n",
       "      <td>2.38</td>\n",
       "      <td>-1.0</td>\n",
       "      <td>-1.0</td>\n",
       "      <td>out of rating</td>\n",
       "      <td>14.63</td>\n",
       "    </tr>\n",
       "    <tr>\n",
       "      <th>33</th>\n",
       "      <td>pokemon x/pokemon y</td>\n",
       "      <td>3ds</td>\n",
       "      <td>2013</td>\n",
       "      <td>role-playing</td>\n",
       "      <td>5.28</td>\n",
       "      <td>4.19</td>\n",
       "      <td>4.35</td>\n",
       "      <td>0.78</td>\n",
       "      <td>-1.0</td>\n",
       "      <td>-1.0</td>\n",
       "      <td>out of rating</td>\n",
       "      <td>14.60</td>\n",
       "    </tr>\n",
       "    <tr>\n",
       "      <th>34</th>\n",
       "      <td>call of duty: black ops ii</td>\n",
       "      <td>ps3</td>\n",
       "      <td>2012</td>\n",
       "      <td>shooter</td>\n",
       "      <td>4.99</td>\n",
       "      <td>5.73</td>\n",
       "      <td>0.65</td>\n",
       "      <td>2.42</td>\n",
       "      <td>83.0</td>\n",
       "      <td>5.3</td>\n",
       "      <td>m</td>\n",
       "      <td>13.79</td>\n",
       "    </tr>\n",
       "    <tr>\n",
       "      <th>...</th>\n",
       "      <td>...</td>\n",
       "      <td>...</td>\n",
       "      <td>...</td>\n",
       "      <td>...</td>\n",
       "      <td>...</td>\n",
       "      <td>...</td>\n",
       "      <td>...</td>\n",
       "      <td>...</td>\n",
       "      <td>...</td>\n",
       "      <td>...</td>\n",
       "      <td>...</td>\n",
       "      <td>...</td>\n",
       "    </tr>\n",
       "    <tr>\n",
       "      <th>16672</th>\n",
       "      <td>metal gear solid v: the definitive experience</td>\n",
       "      <td>xone</td>\n",
       "      <td>2016</td>\n",
       "      <td>action</td>\n",
       "      <td>0.01</td>\n",
       "      <td>0.00</td>\n",
       "      <td>0.00</td>\n",
       "      <td>0.00</td>\n",
       "      <td>-1.0</td>\n",
       "      <td>-1.0</td>\n",
       "      <td>m</td>\n",
       "      <td>0.01</td>\n",
       "    </tr>\n",
       "    <tr>\n",
       "      <th>16674</th>\n",
       "      <td>tsukigime ranko's longest day</td>\n",
       "      <td>ps3</td>\n",
       "      <td>2014</td>\n",
       "      <td>action</td>\n",
       "      <td>0.00</td>\n",
       "      <td>0.01</td>\n",
       "      <td>0.00</td>\n",
       "      <td>0.00</td>\n",
       "      <td>-1.0</td>\n",
       "      <td>-1.0</td>\n",
       "      <td>out of rating</td>\n",
       "      <td>0.01</td>\n",
       "    </tr>\n",
       "    <tr>\n",
       "      <th>16677</th>\n",
       "      <td>aikatsu stars! my special appeal</td>\n",
       "      <td>3ds</td>\n",
       "      <td>2016</td>\n",
       "      <td>action</td>\n",
       "      <td>0.00</td>\n",
       "      <td>0.00</td>\n",
       "      <td>0.01</td>\n",
       "      <td>0.00</td>\n",
       "      <td>-1.0</td>\n",
       "      <td>-1.0</td>\n",
       "      <td>out of rating</td>\n",
       "      <td>0.01</td>\n",
       "    </tr>\n",
       "    <tr>\n",
       "      <th>16691</th>\n",
       "      <td>dynasty warriors: eiketsuden</td>\n",
       "      <td>ps3</td>\n",
       "      <td>2016</td>\n",
       "      <td>action</td>\n",
       "      <td>0.00</td>\n",
       "      <td>0.00</td>\n",
       "      <td>0.01</td>\n",
       "      <td>0.00</td>\n",
       "      <td>-1.0</td>\n",
       "      <td>-1.0</td>\n",
       "      <td>out of rating</td>\n",
       "      <td>0.01</td>\n",
       "    </tr>\n",
       "    <tr>\n",
       "      <th>16710</th>\n",
       "      <td>samurai warriors: sanada maru</td>\n",
       "      <td>ps3</td>\n",
       "      <td>2016</td>\n",
       "      <td>action</td>\n",
       "      <td>0.00</td>\n",
       "      <td>0.00</td>\n",
       "      <td>0.01</td>\n",
       "      <td>0.00</td>\n",
       "      <td>-1.0</td>\n",
       "      <td>-1.0</td>\n",
       "      <td>out of rating</td>\n",
       "      <td>0.01</td>\n",
       "    </tr>\n",
       "  </tbody>\n",
       "</table>\n",
       "<p>1820 rows × 12 columns</p>\n",
       "</div>"
      ],
      "text/plain": [
       "                                                name platform  \\\n",
       "16                                grand theft auto v      ps3   \n",
       "23                                grand theft auto v     x360   \n",
       "31                         call of duty: black ops 3      ps4   \n",
       "33                               pokemon x/pokemon y      3ds   \n",
       "34                        call of duty: black ops ii      ps3   \n",
       "...                                              ...      ...   \n",
       "16672  metal gear solid v: the definitive experience     xone   \n",
       "16674                  tsukigime ranko's longest day      ps3   \n",
       "16677               aikatsu stars! my special appeal      3ds   \n",
       "16691                   dynasty warriors: eiketsuden      ps3   \n",
       "16710                  samurai warriors: sanada maru      ps3   \n",
       "\n",
       "       year_of_release         genre  na_sales  eu_sales  jp_sales  \\\n",
       "16                2013        action      7.02      9.09      0.98   \n",
       "23                2013        action      9.66      5.14      0.06   \n",
       "31                2015       shooter      6.03      5.86      0.36   \n",
       "33                2013  role-playing      5.28      4.19      4.35   \n",
       "34                2012       shooter      4.99      5.73      0.65   \n",
       "...                ...           ...       ...       ...       ...   \n",
       "16672             2016        action      0.01      0.00      0.00   \n",
       "16674             2014        action      0.00      0.01      0.00   \n",
       "16677             2016        action      0.00      0.00      0.01   \n",
       "16691             2016        action      0.00      0.00      0.01   \n",
       "16710             2016        action      0.00      0.00      0.01   \n",
       "\n",
       "       other_sales  critic_score  user_score         rating  total_sales  \n",
       "16            3.96          97.0         8.2              m        21.05  \n",
       "23            1.41          97.0         8.1              m        16.27  \n",
       "31            2.38          -1.0        -1.0  out of rating        14.63  \n",
       "33            0.78          -1.0        -1.0  out of rating        14.60  \n",
       "34            2.42          83.0         5.3              m        13.79  \n",
       "...            ...           ...         ...            ...          ...  \n",
       "16672         0.00          -1.0        -1.0              m         0.01  \n",
       "16674         0.00          -1.0        -1.0  out of rating         0.01  \n",
       "16677         0.00          -1.0        -1.0  out of rating         0.01  \n",
       "16691         0.00          -1.0        -1.0  out of rating         0.01  \n",
       "16710         0.00          -1.0        -1.0  out of rating         0.01  \n",
       "\n",
       "[1820 rows x 12 columns]"
      ]
     },
     "execution_count": 40,
     "metadata": {},
     "output_type": "execute_result"
    }
   ],
   "source": [
    "games_global"
   ]
  },
  {
   "cell_type": "code",
   "execution_count": 41,
   "metadata": {},
   "outputs": [
    {
     "data": {
      "text/plain": [
       "<AxesSubplot:xlabel='platform', ylabel='total_sales'>"
      ]
     },
     "execution_count": 41,
     "metadata": {},
     "output_type": "execute_result"
    },
    {
     "data": {
      "image/png": "[encoded data removed]",
      "text/plain": [
       "<Figure size 432x288 with 1 Axes>"
      ]
     },
     "metadata": {
      "needs_background": "light"
     },
     "output_type": "display_data"
    }
   ],
   "source": [
    "sns.boxplot(data = games_global, x = 'platform', y = 'total_sales')\n"
   ]
  },
  {
   "cell_type": "markdown",
   "metadata": {},
   "source": [
    "Видим, что большая часть продаж игр на самых популярных платформах колеблется в районе нуля (вывод функции describe() намекал нам то же самое, но кто мы такие чтобы верить сразу же?). \n",
    "\n",
    "Отметим также, чо есть заметные выбросы выше третьего квартиля по каждой из платформ. Это явно самые популярные среди пользователей игры."
   ]
  },
  {
   "cell_type": "markdown",
   "metadata": {},
   "source": [
    "<div class=\"alert alert-warning\">\n",
    "    \n",
    "<b> Комментарий от ревьюера ⚠️</b>\n",
    "    \n",
    ">  Есть ощущение, что единицы измерения объёма продаж каждой из игр это 1000 штук. ...\n",
    "    \n",
    "Продажи указаны в миллионах копий, это указано в задании.\n",
    "    \n",
    "*Из задания*  \n",
    "*NA_sales — продажи в Северной Америке (миллионы проданных копий)*\n",
    "</div>"
   ]
  },
  {
   "cell_type": "markdown",
   "metadata": {},
   "source": [
    "<div class=\"alert alert-danger\">\n",
    "    \n",
    "<b> Комментарий от ревьюера ❗</b>\n",
    "    \n",
    "Здорово, что обратил внимание на выбросы. Давай теперь построим второй такой же график, но добавим plt.ylim(...), чтобы ограничить значения по оси Y и рассмотрим усы и квартили распределений.\n",
    "</div>"
   ]
  },
  {
   "cell_type": "markdown",
   "metadata": {},
   "source": [
    "Посмотрим на график ближе, укоротив ось У"
   ]
  },
  {
   "cell_type": "code",
   "execution_count": 42,
   "metadata": {},
   "outputs": [
    {
     "data": {
      "text/plain": [
       "(0.0, 2.5)"
      ]
     },
     "execution_count": 42,
     "metadata": {},
     "output_type": "execute_result"
    },
    {
     "data": {
      "image/png": "[encoded data removed]",
      "text/plain": [
       "<Figure size 432x288 with 1 Axes>"
      ]
     },
     "metadata": {
      "needs_background": "light"
     },
     "output_type": "display_data"
    }
   ],
   "source": [
    "sns.boxplot(data = games_global, x = 'platform', y = 'total_sales').set_ylim(0, 2.5)"
   ]
  },
  {
   "cell_type": "markdown",
   "metadata": {},
   "source": [
    "Видим, что нижний \"ус\" по всем платформам очень маленький. Да и медиана тоже где-то внизу \"ящика\". Это говорит о том, что большая часть значений объёма продаж находится в нижней части графика. Это объяснимо. Всё-таки не все игры завоёвывают массовую любовь пользователей. Небольшой процент из них показывают действительно большие продажи. Это те самые выбросы в верхней части первого графика. Они являются лидерами продаж, поскольку пришлись по душе большому числу игроков по всему миру."
   ]
  },
  {
   "cell_type": "markdown",
   "metadata": {},
   "source": [
    "<div class=\"alert alert-success\">\n",
    "    \n",
    "<b> Комментарий от ревьюера 2 ✔️</b>\n",
    "\n",
    "Здорово, что дополнил исследование!\n",
    "\n",
    "</div>"
   ]
  },
  {
   "cell_type": "markdown",
   "metadata": {},
   "source": [
    "### Зависимость продаж от отзывов"
   ]
  },
  {
   "cell_type": "markdown",
   "metadata": {},
   "source": [
    "Возьмём для примера одну популярную платформу. Пусть это будет X360.\n",
    "\n",
    "P.S. Нет у меня её нет, но это же не повод её не рассматривать.\n",
    "\n",
    "Построим диаграмму рассеивания для сравнения продаж и оценок критиков."
   ]
  },
  {
   "cell_type": "code",
   "execution_count": 43,
   "metadata": {},
   "outputs": [
    {
     "data": {
      "image/png": "[encoded data removed]",
      "text/plain": [
       "<Figure size 432x288 with 1 Axes>"
      ]
     },
     "metadata": {
      "needs_background": "light"
     },
     "output_type": "display_data"
    }
   ],
   "source": [
    "sns.scatterplot(data=games_actual[games_actual['platform'] == 'x360'], y=\"total_sales\", x=\"critic_score\");\n"
   ]
  },
  {
   "cell_type": "markdown",
   "metadata": {},
   "source": [
    "Видно, что оценки критиков благоприятно влияют на продажи. Чем выше оценки, тем выше концентрация объёма продаж на графике."
   ]
  },
  {
   "cell_type": "code",
   "execution_count": 44,
   "metadata": {},
   "outputs": [
    {
     "data": {
      "image/png": "[encoded data removed]",
      "text/plain": [
       "<Figure size 432x288 with 1 Axes>"
      ]
     },
     "metadata": {
      "needs_background": "light"
     },
     "output_type": "display_data"
    }
   ],
   "source": [
    "sns.scatterplot(data=games_actual[games_actual['platform'] == 'x360'], y=\"total_sales\", x=\"user_score\");"
   ]
  },
  {
   "cell_type": "markdown",
   "metadata": {},
   "source": [
    "А вот отзывы других игроков хоть и влияют на продажи, но не так сильно как отзывы критиков.\n",
    "\n",
    "Посмотрим на распределение и по другим платформах."
   ]
  },
  {
   "cell_type": "code",
   "execution_count": 45,
   "metadata": {},
   "outputs": [
    {
     "data": {
      "text/plain": [
       "<function matplotlib.pyplot.show(close=None, block=None)>"
      ]
     },
     "execution_count": 45,
     "metadata": {},
     "output_type": "execute_result"
    },
    {
     "data": {
      "image/png": "[encoded data removed]",
      "text/plain": [
       "<Figure size 432x288 with 1 Axes>"
      ]
     },
     "metadata": {
      "needs_background": "light"
     },
     "output_type": "display_data"
    }
   ],
   "source": [
    "sns.scatterplot(data=games_actual[games_actual['platform'] == 'x360'], y=\"total_sales\", x=\"critic_score\");\n",
    "sns.scatterplot(data=games_actual[games_actual['platform'] == 'ps3'], y=\"total_sales\", x=\"critic_score\");\n",
    "sns.scatterplot(data=games_actual[games_actual['platform'] == 'ps4'], y=\"total_sales\", x=\"critic_score\");\n",
    "sns.scatterplot(data=games_actual[games_actual['platform'] == '3ds'], y=\"total_sales\", x=\"critic_score\");\n",
    "sns.scatterplot(data=games_actual[games_actual['platform'] == 'xone'], y=\"total_sales\", x=\"critic_score\");\n",
    "plt.show"
   ]
  },
  {
   "cell_type": "code",
   "execution_count": 46,
   "metadata": {},
   "outputs": [
    {
     "data": {
      "text/plain": [
       "<function matplotlib.pyplot.show(close=None, block=None)>"
      ]
     },
     "execution_count": 46,
     "metadata": {},
     "output_type": "execute_result"
    },
    {
     "data": {
      "image/png": "[encoded data removed]",
      "text/plain": [
       "<Figure size 432x288 with 1 Axes>"
      ]
     },
     "metadata": {
      "needs_background": "light"
     },
     "output_type": "display_data"
    }
   ],
   "source": [
    "sns.scatterplot(data=games_actual[games_actual['platform'] == 'x360'], y=\"total_sales\", x=\"user_score\");\n",
    "sns.scatterplot(data=games_actual[games_actual['platform'] == 'ps3'], y=\"total_sales\", x=\"user_score\");\n",
    "sns.scatterplot(data=games_actual[games_actual['platform'] == 'ps4'], y=\"total_sales\", x=\"user_score\");\n",
    "sns.scatterplot(data=games_actual[games_actual['platform'] == '3ds'], y=\"total_sales\", x=\"user_score\");\n",
    "sns.scatterplot(data=games_actual[games_actual['platform'] == 'xone'], y=\"total_sales\", x=\"user_score\");\n",
    "plt.show"
   ]
  },
  {
   "cell_type": "markdown",
   "metadata": {},
   "source": [
    "И по другим платформам ситуация в целом схожая. Посчитаем корреляцию. Выделим ждя этого оценки критиков, отзывы пользователей и продажи в отдельный датафрейм. Но без учёта пропусков, которые мы заменили на -1."
   ]
  },
  {
   "cell_type": "code",
   "execution_count": 47,
   "metadata": {},
   "outputs": [
    {
     "data": {
      "text/html": [
       "<div>\n",
       "<style scoped>\n",
       "    .dataframe tbody tr th:only-of-type {\n",
       "        vertical-align: middle;\n",
       "    }\n",
       "\n",
       "    .dataframe tbody tr th {\n",
       "        vertical-align: top;\n",
       "    }\n",
       "\n",
       "    .dataframe thead th {\n",
       "        text-align: right;\n",
       "    }\n",
       "</style>\n",
       "<table border=\"1\" class=\"dataframe\">\n",
       "  <thead>\n",
       "    <tr style=\"text-align: right;\">\n",
       "      <th></th>\n",
       "      <th>critic_score</th>\n",
       "      <th>user_score</th>\n",
       "      <th>total_sales</th>\n",
       "    </tr>\n",
       "  </thead>\n",
       "  <tbody>\n",
       "    <tr>\n",
       "      <th>16</th>\n",
       "      <td>97.0</td>\n",
       "      <td>8.2</td>\n",
       "      <td>21.05</td>\n",
       "    </tr>\n",
       "    <tr>\n",
       "      <th>23</th>\n",
       "      <td>97.0</td>\n",
       "      <td>8.1</td>\n",
       "      <td>16.27</td>\n",
       "    </tr>\n",
       "    <tr>\n",
       "      <th>34</th>\n",
       "      <td>83.0</td>\n",
       "      <td>5.3</td>\n",
       "      <td>13.79</td>\n",
       "    </tr>\n",
       "    <tr>\n",
       "      <th>35</th>\n",
       "      <td>83.0</td>\n",
       "      <td>4.8</td>\n",
       "      <td>13.68</td>\n",
       "    </tr>\n",
       "    <tr>\n",
       "      <th>42</th>\n",
       "      <td>97.0</td>\n",
       "      <td>8.3</td>\n",
       "      <td>12.62</td>\n",
       "    </tr>\n",
       "    <tr>\n",
       "      <th>...</th>\n",
       "      <td>...</td>\n",
       "      <td>...</td>\n",
       "      <td>...</td>\n",
       "    </tr>\n",
       "    <tr>\n",
       "      <th>16613</th>\n",
       "      <td>49.0</td>\n",
       "      <td>2.1</td>\n",
       "      <td>0.01</td>\n",
       "    </tr>\n",
       "    <tr>\n",
       "      <th>16630</th>\n",
       "      <td>63.0</td>\n",
       "      <td>8.2</td>\n",
       "      <td>0.01</td>\n",
       "    </tr>\n",
       "    <tr>\n",
       "      <th>16652</th>\n",
       "      <td>81.0</td>\n",
       "      <td>8.5</td>\n",
       "      <td>0.01</td>\n",
       "    </tr>\n",
       "    <tr>\n",
       "      <th>16660</th>\n",
       "      <td>74.0</td>\n",
       "      <td>6.7</td>\n",
       "      <td>0.01</td>\n",
       "    </tr>\n",
       "    <tr>\n",
       "      <th>16692</th>\n",
       "      <td>80.0</td>\n",
       "      <td>7.6</td>\n",
       "      <td>0.01</td>\n",
       "    </tr>\n",
       "  </tbody>\n",
       "</table>\n",
       "<p>1297 rows × 3 columns</p>\n",
       "</div>"
      ],
      "text/plain": [
       "       critic_score  user_score  total_sales\n",
       "16             97.0         8.2        21.05\n",
       "23             97.0         8.1        16.27\n",
       "34             83.0         5.3        13.79\n",
       "35             83.0         4.8        13.68\n",
       "42             97.0         8.3        12.62\n",
       "...             ...         ...          ...\n",
       "16613          49.0         2.1         0.01\n",
       "16630          63.0         8.2         0.01\n",
       "16652          81.0         8.5         0.01\n",
       "16660          74.0         6.7         0.01\n",
       "16692          80.0         7.6         0.01\n",
       "\n",
       "[1297 rows x 3 columns]"
      ]
     },
     "execution_count": 47,
     "metadata": {},
     "output_type": "execute_result"
    }
   ],
   "source": [
    "corr_df = pd.DataFrame()\n",
    "corr_df['critic_score'] = games_actual[(games_actual['critic_score']!= -1) &\\\n",
    "                                       (games_actual['user_score']!=-1)]['critic_score']\n",
    "corr_df['user_score'] = games_actual[(games_actual['critic_score']!=- 1) &\\\n",
    "                                     (games_actual['user_score']!=-1)]['user_score']\n",
    "corr_df['total_sales'] = games_actual[(games_actual['critic_score']!=-1) &\\\n",
    "                               (games_actual['user_score']!=-1)]['total_sales']\n",
    "corr_df"
   ]
  },
  {
   "cell_type": "code",
   "execution_count": 48,
   "metadata": {},
   "outputs": [
    {
     "data": {
      "text/plain": [
       "<AxesSubplot:>"
      ]
     },
     "execution_count": 48,
     "metadata": {},
     "output_type": "execute_result"
    },
    {
     "data": {
      "image/png": "[encoded data removed]",
      "text/plain": [
       "<Figure size 432x288 with 2 Axes>"
      ]
     },
     "metadata": {
      "needs_background": "light"
     },
     "output_type": "display_data"
    }
   ],
   "source": [
    "sns.heatmap(corr_df.corr(),\n",
    "            xticklabels=corr_df.corr().columns,\n",
    "            yticklabels=corr_df.corr().columns,\n",
    "            cmap='RdYlGn',\n",
    "            center=0,\n",
    "            annot=True)"
   ]
  },
  {
   "cell_type": "markdown",
   "metadata": {},
   "source": [
    "Итак. Как мы и писали ранее, зависимость продаж от оценок критиков в несколько раз больше, чем от отзывов игроков.\n",
    "При этом отзывы игроков и оценки критиков между собой зависят гораздо сильнее, что логично, всё-таки критики тоже игроки и оценки с отзывами во многом совпадают."
   ]
  },
  {
   "cell_type": "markdown",
   "metadata": {},
   "source": [
    "<div class=\"alert alert-danger\">\n",
    "    \n",
    "<b> Комментарий от ревьюера ❗</b>\n",
    "    \n",
    "В целом ты правильно определил зависимость продаж от оценок пользователей и критиков, но используй, пожалуйста, данные за актуальный период, как нас просят в задании\n",
    "</div>"
   ]
  },
  {
   "cell_type": "markdown",
   "metadata": {},
   "source": [
    "<div class=\"alert alert-info\">\n",
    "    Сделано\n",
    "</div>"
   ]
  },
  {
   "cell_type": "markdown",
   "metadata": {},
   "source": [
    "<div class=\"alert alert-success\">\n",
    "    \n",
    "<b> Комментарий от ревьюера 2 ✔️</b>\n",
    "\n",
    "👍\n",
    "</div>\n",
    "\n"
   ]
  },
  {
   "cell_type": "markdown",
   "metadata": {},
   "source": [
    "### Жанры"
   ]
  },
  {
   "cell_type": "code",
   "execution_count": 49,
   "metadata": {},
   "outputs": [
    {
     "data": {
      "text/html": [
       "<div>\n",
       "<style scoped>\n",
       "    .dataframe tbody tr th:only-of-type {\n",
       "        vertical-align: middle;\n",
       "    }\n",
       "\n",
       "    .dataframe tbody tr th {\n",
       "        vertical-align: top;\n",
       "    }\n",
       "\n",
       "    .dataframe thead th {\n",
       "        text-align: right;\n",
       "    }\n",
       "</style>\n",
       "<table border=\"1\" class=\"dataframe\">\n",
       "  <thead>\n",
       "    <tr style=\"text-align: right;\">\n",
       "      <th></th>\n",
       "      <th>genre</th>\n",
       "      <th>name</th>\n",
       "    </tr>\n",
       "  </thead>\n",
       "  <tbody>\n",
       "    <tr>\n",
       "      <th>0</th>\n",
       "      <td>action</td>\n",
       "      <td>1031</td>\n",
       "    </tr>\n",
       "    <tr>\n",
       "      <th>7</th>\n",
       "      <td>role-playing</td>\n",
       "      <td>370</td>\n",
       "    </tr>\n",
       "    <tr>\n",
       "      <th>1</th>\n",
       "      <td>adventure</td>\n",
       "      <td>302</td>\n",
       "    </tr>\n",
       "    <tr>\n",
       "      <th>10</th>\n",
       "      <td>sports</td>\n",
       "      <td>268</td>\n",
       "    </tr>\n",
       "    <tr>\n",
       "      <th>8</th>\n",
       "      <td>shooter</td>\n",
       "      <td>235</td>\n",
       "    </tr>\n",
       "    <tr>\n",
       "      <th>3</th>\n",
       "      <td>misc</td>\n",
       "      <td>192</td>\n",
       "    </tr>\n",
       "    <tr>\n",
       "      <th>6</th>\n",
       "      <td>racing</td>\n",
       "      <td>115</td>\n",
       "    </tr>\n",
       "    <tr>\n",
       "      <th>2</th>\n",
       "      <td>fighting</td>\n",
       "      <td>109</td>\n",
       "    </tr>\n",
       "    <tr>\n",
       "      <th>4</th>\n",
       "      <td>platform</td>\n",
       "      <td>85</td>\n",
       "    </tr>\n",
       "    <tr>\n",
       "      <th>9</th>\n",
       "      <td>simulation</td>\n",
       "      <td>80</td>\n",
       "    </tr>\n",
       "    <tr>\n",
       "      <th>11</th>\n",
       "      <td>strategy</td>\n",
       "      <td>71</td>\n",
       "    </tr>\n",
       "    <tr>\n",
       "      <th>5</th>\n",
       "      <td>puzzle</td>\n",
       "      <td>28</td>\n",
       "    </tr>\n",
       "  </tbody>\n",
       "</table>\n",
       "</div>"
      ],
      "text/plain": [
       "           genre  name\n",
       "0         action  1031\n",
       "7   role-playing   370\n",
       "1      adventure   302\n",
       "10        sports   268\n",
       "8        shooter   235\n",
       "3           misc   192\n",
       "6         racing   115\n",
       "2       fighting   109\n",
       "4       platform    85\n",
       "9     simulation    80\n",
       "11      strategy    71\n",
       "5         puzzle    28"
      ]
     },
     "execution_count": 49,
     "metadata": {},
     "output_type": "execute_result"
    }
   ],
   "source": [
    "most_popular_genre = games_actual.groupby('genre').agg({'name':'count'}).reset_index()\n",
    "most_popular_genre.sort_values(by='name', ascending=False)"
   ]
  },
  {
   "cell_type": "markdown",
   "metadata": {},
   "source": [
    "По количеству игр есть явный фаворит среди жанров - Action. Много людей любят погонять чертей в стрелялках-бродилках. А что с прибыльностью? "
   ]
  },
  {
   "cell_type": "code",
   "execution_count": 50,
   "metadata": {},
   "outputs": [
    {
     "data": {
      "text/html": [
       "<div>\n",
       "<style scoped>\n",
       "    .dataframe tbody tr th:only-of-type {\n",
       "        vertical-align: middle;\n",
       "    }\n",
       "\n",
       "    .dataframe tbody tr th {\n",
       "        vertical-align: top;\n",
       "    }\n",
       "\n",
       "    .dataframe thead th {\n",
       "        text-align: right;\n",
       "    }\n",
       "</style>\n",
       "<table border=\"1\" class=\"dataframe\">\n",
       "  <thead>\n",
       "    <tr style=\"text-align: right;\">\n",
       "      <th></th>\n",
       "      <th>genre</th>\n",
       "      <th>total_sales</th>\n",
       "    </tr>\n",
       "  </thead>\n",
       "  <tbody>\n",
       "    <tr>\n",
       "      <th>0</th>\n",
       "      <td>action</td>\n",
       "      <td>441.12</td>\n",
       "    </tr>\n",
       "    <tr>\n",
       "      <th>8</th>\n",
       "      <td>shooter</td>\n",
       "      <td>304.73</td>\n",
       "    </tr>\n",
       "    <tr>\n",
       "      <th>7</th>\n",
       "      <td>role-playing</td>\n",
       "      <td>192.80</td>\n",
       "    </tr>\n",
       "    <tr>\n",
       "      <th>10</th>\n",
       "      <td>sports</td>\n",
       "      <td>181.07</td>\n",
       "    </tr>\n",
       "    <tr>\n",
       "      <th>3</th>\n",
       "      <td>misc</td>\n",
       "      <td>85.04</td>\n",
       "    </tr>\n",
       "    <tr>\n",
       "      <th>4</th>\n",
       "      <td>platform</td>\n",
       "      <td>61.00</td>\n",
       "    </tr>\n",
       "    <tr>\n",
       "      <th>6</th>\n",
       "      <td>racing</td>\n",
       "      <td>53.50</td>\n",
       "    </tr>\n",
       "    <tr>\n",
       "      <th>2</th>\n",
       "      <td>fighting</td>\n",
       "      <td>44.49</td>\n",
       "    </tr>\n",
       "    <tr>\n",
       "      <th>9</th>\n",
       "      <td>simulation</td>\n",
       "      <td>35.12</td>\n",
       "    </tr>\n",
       "    <tr>\n",
       "      <th>1</th>\n",
       "      <td>adventure</td>\n",
       "      <td>29.43</td>\n",
       "    </tr>\n",
       "    <tr>\n",
       "      <th>11</th>\n",
       "      <td>strategy</td>\n",
       "      <td>13.34</td>\n",
       "    </tr>\n",
       "    <tr>\n",
       "      <th>5</th>\n",
       "      <td>puzzle</td>\n",
       "      <td>4.89</td>\n",
       "    </tr>\n",
       "  </tbody>\n",
       "</table>\n",
       "</div>"
      ],
      "text/plain": [
       "           genre  total_sales\n",
       "0         action       441.12\n",
       "8        shooter       304.73\n",
       "7   role-playing       192.80\n",
       "10        sports       181.07\n",
       "3           misc        85.04\n",
       "4       platform        61.00\n",
       "6         racing        53.50\n",
       "2       fighting        44.49\n",
       "9     simulation        35.12\n",
       "1      adventure        29.43\n",
       "11      strategy        13.34\n",
       "5         puzzle         4.89"
      ]
     },
     "execution_count": 50,
     "metadata": {},
     "output_type": "execute_result"
    }
   ],
   "source": [
    "most_profit_genre = games_actual.groupby('genre').agg({'total_sales':'sum'}).reset_index()\n",
    "most_profit_genre.sort_values(by='total_sales', ascending=False)"
   ]
  },
  {
   "cell_type": "markdown",
   "metadata": {},
   "source": [
    "И тут action впереди планеты всей. А вот третье место в рейтинге самый продаваемых игр занимают шутеры, хотя по общему числу игр этого жанра они только на 5 месте.\n",
    "\n",
    "Хуже всех продаются стратегии, приключения и паззлы. И это при том, что приключенческих игр сделано довольно много. Видимо они не вызывают энтузиазма игроков."
   ]
  },
  {
   "cell_type": "code",
   "execution_count": 51,
   "metadata": {},
   "outputs": [
    {
     "data": {
      "text/plain": [
       "genre\n",
       "shooter         1.296723\n",
       "platform        0.717647\n",
       "sports          0.675634\n",
       "role-playing    0.521081\n",
       "racing          0.465217\n",
       "misc            0.442917\n",
       "simulation      0.439000\n",
       "action          0.427856\n",
       "fighting        0.408165\n",
       "strategy        0.187887\n",
       "puzzle          0.174643\n",
       "adventure       0.097450\n",
       "Name: total_sales, dtype: float64"
      ]
     },
     "execution_count": 51,
     "metadata": {},
     "output_type": "execute_result"
    }
   ],
   "source": [
    "games_actual.groupby('genre')['total_sales'].mean().sort_values(ascending=False)"
   ]
  },
  {
   "cell_type": "markdown",
   "metadata": {},
   "source": [
    "А вот по медианному значению продаж экшены ниже середины рейтинга. Самым продаваемым жанром в среднем оказались шутеры."
   ]
  },
  {
   "cell_type": "markdown",
   "metadata": {},
   "source": [
    "<div class=\"alert alert-success\">\n",
    "    \n",
    "<b> Комментарий от ревьюера ✔️</b>\n",
    "    \n",
    "Молодец, что рассмотрел количество игр и суммарные продажи игр по жанрам.\n",
    "</div>\n"
   ]
  },
  {
   "cell_type": "markdown",
   "metadata": {},
   "source": [
    "<div class=\"alert alert-danger\">\n",
    "    \n",
    "<b> Комментарий от ревьюера ❗</b>\n",
    "    \n",
    "1. Используй, пожалуйста, данные за актуальный период.    \n",
    "    \n",
    "1. Мы видим, что количество игр для жанров сильно различается. Давай посчитаем медианные продажи игр по жанрам, чтобы определить жанры с высокими и низкими продажами\n",
    "</div>\n"
   ]
  },
  {
   "cell_type": "markdown",
   "metadata": {},
   "source": [
    "<div class=\"alert alert-info\">\n",
    "   Сделано \n",
    "</div>"
   ]
  },
  {
   "cell_type": "markdown",
   "metadata": {},
   "source": [
    "<div class=\"alert alert-success\">\n",
    "    \n",
    "<b> Комментарий от ревьюера 2 ✔️</b>\n",
    "\n",
    "Все верно\n",
    "\n",
    "</div>"
   ]
  },
  {
   "cell_type": "markdown",
   "metadata": {},
   "source": [
    "## Портрет пользователя каждого региона"
   ]
  },
  {
   "cell_type": "markdown",
   "metadata": {},
   "source": [
    "Определим для пользователя каждого региона (NA, EU, JP):\n",
    "\n",
    "- Самые популярные платформы (топ-5). Опишем различия в долях продаж.\n",
    "- Самые популярные жанры (топ-5). Поясним разницу.\n",
    "- Определим, влияет ли рейтинг ESRB на продажи в отдельном регионе?"
   ]
  },
  {
   "cell_type": "markdown",
   "metadata": {},
   "source": [
    "Для начала топ-5 платформ по регионам. Группируем по платформам и суммируем число купленных игр в этом регионе."
   ]
  },
  {
   "cell_type": "code",
   "execution_count": 52,
   "metadata": {},
   "outputs": [
    {
     "data": {
      "text/plain": [
       "<AxesSubplot:xlabel='platform'>"
      ]
     },
     "execution_count": 52,
     "metadata": {},
     "output_type": "execute_result"
    },
    {
     "data": {
      "image/png": "[encoded data removed]",
      "text/plain": [
       "<Figure size 432x288 with 1 Axes>"
      ]
     },
     "metadata": {
      "needs_background": "light"
     },
     "output_type": "display_data"
    },
    {
     "data": {
      "image/png": "[encoded data removed]",
      "text/plain": [
       "<Figure size 432x288 with 1 Axes>"
      ]
     },
     "metadata": {
      "needs_background": "light"
     },
     "output_type": "display_data"
    },
    {
     "data": {
      "image/png": "[encoded data removed]",
      "text/plain": [
       "<Figure size 432x288 with 1 Axes>"
      ]
     },
     "metadata": {
      "needs_background": "light"
     },
     "output_type": "display_data"
    }
   ],
   "source": [
    "games_actual.groupby(by='platform').agg({'eu_sales':'sum'})\\\n",
    "    .sort_values(by='eu_sales', ascending=False).head().plot(kind='bar')\n",
    "games_actual.groupby(by='platform').agg({'na_sales':'sum'})\\\n",
    "    .sort_values(by='na_sales', ascending=False).head().plot(kind='bar')\n",
    "games_actual.groupby(by='platform').agg({'jp_sales':'sum'})\\\n",
    "    .sort_values(by='jp_sales', ascending=False).head().plot(kind='bar')"
   ]
  },
  {
   "cell_type": "markdown",
   "metadata": {},
   "source": [
    "Европа души не чает в \"плойках\" 2 и 3, Северная Америка обожает X360 и PS2, в вот Япония больше всего играет в родную DS, а второе и третье места заняли с небольшим разрывом первая и вторая PS.\n",
    "\n",
    "Теперь посмотрим на жанры."
   ]
  },
  {
   "cell_type": "code",
   "execution_count": 53,
   "metadata": {},
   "outputs": [
    {
     "data": {
      "text/plain": [
       "<AxesSubplot:xlabel='genre'>"
      ]
     },
     "execution_count": 53,
     "metadata": {},
     "output_type": "execute_result"
    },
    {
     "data": {
      "image/png": "[encoded data removed]",
      "text/plain": [
       "<Figure size 432x288 with 1 Axes>"
      ]
     },
     "metadata": {
      "needs_background": "light"
     },
     "output_type": "display_data"
    },
    {
     "data": {
      "image/png": "[encoded data removed]",
      "text/plain": [
       "<Figure size 432x288 with 1 Axes>"
      ]
     },
     "metadata": {
      "needs_background": "light"
     },
     "output_type": "display_data"
    },
    {
     "data": {
      "image/png": "[encoded data removed]",
      "text/plain": [
       "<Figure size 432x288 with 1 Axes>"
      ]
     },
     "metadata": {
      "needs_background": "light"
     },
     "output_type": "display_data"
    }
   ],
   "source": [
    "games_actual.groupby(by='genre').agg({'eu_sales':'sum'})\\\n",
    "    .sort_values(by='eu_sales', ascending=False).head().plot(kind='bar')\n",
    "games_actual.groupby(by='genre').agg({'na_sales':'sum'})\\\n",
    "    .sort_values(by='na_sales', ascending=False).head().plot(kind='bar')\n",
    "games_actual.groupby(by='genre').agg({'jp_sales':'sum'})\\\n",
    "    .sort_values(by='jp_sales', ascending=False).head().plot(kind='bar')"
   ]
  },
  {
   "cell_type": "markdown",
   "metadata": {},
   "source": [
    "Европа и Америка любят экшен, спортивные игры и шутеры. А вот озорники-японцы жить не могут без ролевых игр, этот жанр в два раза обходит лидеров Европы и Америки."
   ]
  },
  {
   "cell_type": "markdown",
   "metadata": {},
   "source": [
    "Займёмся рейтингом ESRB."
   ]
  },
  {
   "cell_type": "code",
   "execution_count": 54,
   "metadata": {},
   "outputs": [
    {
     "data": {
      "text/plain": [
       "array(['e', 'out of rating', 'm', 't', 'e10+', 'k-a', 'ao', 'ec', 'rp'],\n",
       "      dtype=object)"
      ]
     },
     "execution_count": 54,
     "metadata": {},
     "output_type": "execute_result"
    }
   ],
   "source": [
    "games['rating'].unique()"
   ]
  },
  {
   "cell_type": "markdown",
   "metadata": {},
   "source": [
    "*Ничего* не понятно. Но очень интересно. Открытые источники говорят нам следующее:\n",
    "- E10+ \tДля всех старше 10 лет\n",
    "- T     Подростки от 13 лет\n",
    "- M     Для взрослых\n",
    "- K-A \tДля всех(до 1998 года)\n",
    "- AO \tТолько для взрослых\n",
    "- EC \tДля детей младшего возраста\n",
    "- E     Для всех\n",
    "- RP\tРейтинг ожидается\n",
    "\n",
    "\"out of rating\" - это пропуски в нашей базе. Как их заполнять непонятно."
   ]
  },
  {
   "cell_type": "code",
   "execution_count": 55,
   "metadata": {},
   "outputs": [
    {
     "data": {
      "text/plain": [
       "<AxesSubplot:xlabel='rating'>"
      ]
     },
     "execution_count": 55,
     "metadata": {},
     "output_type": "execute_result"
    },
    {
     "data": {
      "image/png": "[encoded data removed]",
      "text/plain": [
       "<Figure size 432x288 with 1 Axes>"
      ]
     },
     "metadata": {
      "needs_background": "light"
     },
     "output_type": "display_data"
    },
    {
     "data": {
      "image/png": "[encoded data removed]",
      "text/plain": [
       "<Figure size 432x288 with 1 Axes>"
      ]
     },
     "metadata": {
      "needs_background": "light"
     },
     "output_type": "display_data"
    },
    {
     "data": {
      "image/png": "[encoded data removed]",
      "text/plain": [
       "<Figure size 432x288 with 1 Axes>"
      ]
     },
     "metadata": {
      "needs_background": "light"
     },
     "output_type": "display_data"
    }
   ],
   "source": [
    "games_actual.groupby(by='rating').agg({'eu_sales':'sum'})\\\n",
    "    .sort_values(by='eu_sales', ascending=False).head().plot(kind='bar')\n",
    "games_actual.groupby(by='rating').agg({'na_sales':'sum'})\\\n",
    "    .sort_values(by='na_sales', ascending=False).head().plot(kind='bar')\n",
    "games_actual.groupby(by='rating').agg({'jp_sales':'sum'})\\\n",
    "    .sort_values(by='jp_sales', ascending=False).head().plot(kind='bar')"
   ]
  },
  {
   "cell_type": "markdown",
   "metadata": {},
   "source": [
    "Снова Европа и Северная Америка показывают схожие результаты.\n",
    "\n",
    "Больше всего покупают игры \"для взрослых\" (ох уж этот загнивающий запад). На втором месте игры для всех. Далее следуют игры без рейтинга, игры категорий 10+ и 13+.\n",
    "\n",
    "В Японии тот же самый набор рейтингов в топе, но другое распределение. Здесь на первом месте с огромным отрывом игры без рейтинга. Потом по убыванию следуют игры для всех, 13+, для взрослых и 10+."
   ]
  },
  {
   "cell_type": "markdown",
   "metadata": {},
   "source": [
    "<div class=\"alert alert-danger\">\n",
    "    \n",
    "<b> Комментарий от ревьюера ❗</b>\n",
    "    \n",
    "1. Используй, пожалуйста, данные за актульный период. Нам нужный актуальные портреты пользователей, чтобы выбрать подходящую маркетинговую стратегию на следующий год. Информация о том, что, например, PS2 когда-то была популярна в Европе нам ничего не даст\n",
    "1. О чем может говорить популярность игр без возрастного рейтинга в Японии?\n",
    "</div>"
   ]
  },
  {
   "cell_type": "markdown",
   "metadata": {},
   "source": [
    "<div class=\"alert alert-info\">\n",
    "  Ага, поправил.  \n",
    "</div>"
   ]
  },
  {
   "cell_type": "markdown",
   "metadata": {},
   "source": [
    "<div class=\"alert alert-success\">\n",
    "    \n",
    "<b> Комментарий от ревьюера 2 ✔️</b>\n",
    "\n",
    "Похоже, рейтинг ESRB плохо подходит для анализа рынка Японии. Гугл подсказывает, что он ориентирован на Америку, а мы уже поняли, что между этими регионами большая разница в плане игровых предпочтений. Можно посоветовать коллегам найти локальный возрастной рейтинг и дополнить исследование.\n",
    "\n",
    "</div>"
   ]
  },
  {
   "cell_type": "markdown",
   "metadata": {},
   "source": [
    "## Проверка гипотез"
   ]
  },
  {
   "cell_type": "markdown",
   "metadata": {},
   "source": [
    "Нам нужно проверить две гипотезы:\n",
    "\n",
    "- Средние пользовательские рейтинги платформ Xbox One и PC одинаковые;\n",
    "- Средние пользовательские рейтинги жанров Action (англ. «действие», экшен-игры) и Sports (англ. «спортивные соревнования») разные."
   ]
  },
  {
   "cell_type": "markdown",
   "metadata": {},
   "source": [
    "### Гипотеза\n",
    "\n",
    "\n",
    "- H0: средний пользовательский рейтинг Xbox One и PC одинаковый\n",
    "- H1: средний пользовательский рейтинг Xbox One и PC различается\n"
   ]
  },
  {
   "cell_type": "code",
   "execution_count": 56,
   "metadata": {},
   "outputs": [],
   "source": [
    "alpha = 0.05"
   ]
  },
  {
   "cell_type": "code",
   "execution_count": 57,
   "metadata": {},
   "outputs": [],
   "source": [
    "xone = games_actual[(games_actual['platform'] == 'xone') & (games_actual['user_score'] > 0)]['user_score']\n",
    "pc = games_actual[(games_actual['platform'] == 'pc') & (games_actual['user_score'] > 0)]['user_score']"
   ]
  },
  {
   "cell_type": "code",
   "execution_count": 58,
   "metadata": {},
   "outputs": [],
   "source": [
    "results = st.ttest_ind(xone, pc)"
   ]
  },
  {
   "cell_type": "code",
   "execution_count": 59,
   "metadata": {},
   "outputs": [
    {
     "name": "stdout",
     "output_type": "stream",
     "text": [
      "p-значение: 0.5535080500643661\n",
      "Не получилось отвергнуть нулевую гипотезу\n"
     ]
    }
   ],
   "source": [
    "print('p-значение:', results.pvalue)\n",
    "\n",
    "if (results.pvalue < alpha):\n",
    "    print(\"Отвергаем нулевую гипотезу\")\n",
    "else:\n",
    "    print(\"Не получилось отвергнуть нулевую гипотезу\")"
   ]
  },
  {
   "cell_type": "markdown",
   "metadata": {},
   "source": [
    "### Гипотеза\n",
    "\n",
    "\n",
    "- H0: средний пользовательский рейтинг жанров Action и Sports одинаковый\n",
    "- H1: средний пользовательский рейтинг жанров Action и Sports различается\n"
   ]
  },
  {
   "cell_type": "code",
   "execution_count": 60,
   "metadata": {},
   "outputs": [],
   "source": [
    "action = games_actual[(games_actual['genre'] == 'action') & (games_actual['user_score'] > 0)]['user_score']\n",
    "sports = games_actual[(games_actual['genre'] == 'sports') & (games_actual['user_score'] > 0)]['user_score']"
   ]
  },
  {
   "cell_type": "code",
   "execution_count": 61,
   "metadata": {},
   "outputs": [],
   "source": [
    "results = st.ttest_ind(action, sports)"
   ]
  },
  {
   "cell_type": "code",
   "execution_count": 62,
   "metadata": {},
   "outputs": [
    {
     "name": "stdout",
     "output_type": "stream",
     "text": [
      "p-значение: 3.7163089460934874e-26\n",
      "Отвергаем нулевую гипотезу\n"
     ]
    }
   ],
   "source": [
    "print('p-значение:', results.pvalue)\n",
    "\n",
    "if (results.pvalue < alpha):\n",
    "    print(\"Отвергаем нулевую гипотезу\")\n",
    "else:\n",
    "    print(\"Не получилось отвергнуть нулевую гипотезу\")"
   ]
  },
  {
   "cell_type": "markdown",
   "metadata": {},
   "source": [
    "**Вывод**\n",
    "\n",
    "По платформам есть отличие между консолью Xbox One и персональных компьютеров. Логично и ожидаемо.\n",
    "\n",
    "А вот по рейтингам между экшенами и спортивными играми наоборот есть сходство. Возможно это связано со схожим психотипом игроков этих жанров. И там, и там активные люди, которые любят игры, требующие внимания, реакции и быстрых пальцев. Такие игры и эмоции вызывают примерно одинаковые у игроков. Отсюда и сходные отзывы."
   ]
  },
  {
   "cell_type": "markdown",
   "metadata": {},
   "source": [
    "<div class=\"alert alert-success\">\n",
    "    \n",
    "<b> Комментарий от ревьюера ✔️</b>\n",
    "    \n",
    "Ты правильно сформулировал гипотезы и выбрал подходящий способ проверки\n",
    "</div>\n"
   ]
  },
  {
   "cell_type": "markdown",
   "metadata": {},
   "source": [
    "<div class=\"alert alert-danger\">\n",
    "    \n",
    "<b> Комментарий от ревьюера ❗</b>\n",
    "    \n",
    "Используй, пожалуйста, данные за актуальный период, чтобы старые тренды не влияли на результаты исследования\n",
    "</div>"
   ]
  },
  {
   "cell_type": "markdown",
   "metadata": {},
   "source": [
    "<div class=\"alert alert-info\">\n",
    "    Сделано\n",
    "</div>"
   ]
  },
  {
   "cell_type": "markdown",
   "metadata": {},
   "source": [
    "<div class=\"alert alert-success\">\n",
    "    \n",
    "<b> Комментарий от ревьюера 2 ✔️</b>\n",
    "\n",
    "👍\n",
    "\n",
    "</div>\n"
   ]
  },
  {
   "cell_type": "markdown",
   "metadata": {},
   "source": [
    "## Общий вывод"
   ]
  },
  {
   "cell_type": "markdown",
   "metadata": {},
   "source": [
    "Средний срок жизни новых игровых платформ в среднем 6-8 лет. Этого хватает, чтобы выпустить под каждую из версий платформ достаточно хороших игр, которые понравятся игрокам.\n",
    "\n",
    "Больше всего игр покупает Северная Америка, на втором месте Европа, на третьем Япония.\n",
    "\n",
    "Америка с Европой покупают игры примерно для одних и тех платформ и сходны по распределению жанров игр. Западный менталитет схож по обе стороны Атлантики. А вот Япония отличилась по выбору платформ - здесь в топе Nintendo DS (любят они отечественное). И японцы очень любят игры без рейтинга. Видимо это игры для тех самых Nintendo.\n",
    "\n",
    "\n",
    "<div class=\"alert alert-info\">\n",
    "Для повышения продаж есть смысл планировать различные рекламные компании для разных регионов. Это связано с тем, что люди в Европе, Северной Америке и Японии предпочитают разные жанры игр, разные платформы и игры разных возрастных рейтингов. Предпочтения стоит отдавать новым платформам, появившимся 1-2 гоа назад. Скорее всего именно они будут показывать максимальный рост в ближайшие 2-3 года прежде чем выйдут новые версии этих платформ.\n",
    "\n",
    "</div>"
   ]
  },
  {
   "cell_type": "markdown",
   "metadata": {},
   "source": [
    "<div class=\"alert alert-warning\">\n",
    "    \n",
    "<b> Комментарий от ревьюера ⚠️</b>\n",
    "    \n",
    "Здорово, что кратко описал результат работы, но в выводе было бы неплохо ответить на основной вопрос исследования (*Вы работаете в интернет-магазине «Стримчик», ... Вам нужно выявить определяющие успешность игры закономерности. Это позволит сделать ставку на потенциально популярный продукт и спланировать рекламные кампании.*) \n",
    "    \n",
    "Сейчас я не вижу ответ на этот вопрос в общем выводе. Вообще, не похоже, что вывод адресован руководству интернет-магазина\n",
    "</div>"
   ]
  },
  {
   "cell_type": "markdown",
   "metadata": {},
   "source": [
    "\n",
    "<div class=\"alert alert-success\">\n",
    "    \n",
    "<b> Комментарий от ревьюера 2 ✔️</b>\n",
    "\n",
    "Хороший вывод\n",
    "\n",
    "</div>"
   ]
  },
  {
   "cell_type": "markdown",
   "metadata": {},
   "source": [
    "<div class=\"alert alert-success\">\n",
    "    \n",
    "<b> Комментарий от ревьюера ✔️</b>\n",
    "    \n",
    "Спасибо за твою работу! Ты хорошо справился с подготовкой и анализом данных. \n",
    "\n",
    "Осталось немного дополнить проект:\n",
    "    \n",
    "- прокомментировать график в разделе \"Распеделение по платформам\"\n",
    "- дополнить раздел \"\"Ящик с усами\" по глобальным продажи с разбивкой по платформам\"\n",
    "- использовать данные за актуальный период для анализа и проверки гипотез\n",
    "- посчитать медианные продажи игр по жанрам\n",
    "- проверить все комментарии и выводы после изменения данных для анализа\n",
    "    \n",
    "Задавай вопросы к моим комментариям, если есть. Жду твои исправления :)\n",
    "</div>"
   ]
  },
  {
   "cell_type": "markdown",
   "metadata": {},
   "source": [
    "<div class=\"alert alert-success\">\n",
    "<b> Комментарий от ревьюера 2 ✔️</b>\n",
    "\n",
    "Спасибо, что учел мои комментарии. Надеюсь, эта работа была полезна для тебя. Я принимаю проект и желаю удачи в прохождении курса!\n",
    "\n",
    "</div>\n"
   ]
  }
 ],
 "metadata": {
  "ExecuteTimeLog": [
   {
    "duration": 1278,
    "start_time": "2022-05-18T07:50:45.196Z"
   },
   {
    "duration": 84,
    "start_time": "2022-05-18T07:51:16.207Z"
   },
   {
    "duration": 27,
    "start_time": "2022-05-18T07:51:32.684Z"
   },
   {
    "duration": 13,
    "start_time": "2022-05-18T07:51:44.188Z"
   },
   {
    "duration": 254,
    "start_time": "2022-05-18T08:06:07.881Z"
   },
   {
    "duration": 4,
    "start_time": "2022-05-18T08:06:36.165Z"
   },
   {
    "duration": 14,
    "start_time": "2022-05-18T08:06:49.202Z"
   },
   {
    "duration": 212,
    "start_time": "2022-05-18T08:11:09.788Z"
   },
   {
    "duration": 17,
    "start_time": "2022-05-18T08:11:28.510Z"
   },
   {
    "duration": 15,
    "start_time": "2022-05-18T08:20:46.120Z"
   },
   {
    "duration": 20,
    "start_time": "2022-05-18T08:21:26.584Z"
   },
   {
    "duration": 15,
    "start_time": "2022-05-18T08:51:35.142Z"
   },
   {
    "duration": 1055,
    "start_time": "2022-05-18T08:51:55.894Z"
   },
   {
    "duration": 54,
    "start_time": "2022-05-18T08:51:56.951Z"
   },
   {
    "duration": 41,
    "start_time": "2022-05-18T08:51:57.008Z"
   },
   {
    "duration": 17,
    "start_time": "2022-05-18T08:51:57.051Z"
   },
   {
    "duration": 32,
    "start_time": "2022-05-18T08:51:57.070Z"
   },
   {
    "duration": 23,
    "start_time": "2022-05-18T08:51:57.104Z"
   },
   {
    "duration": 13,
    "start_time": "2022-05-18T08:51:57.134Z"
   },
   {
    "duration": 18,
    "start_time": "2022-05-18T08:51:57.149Z"
   },
   {
    "duration": 34,
    "start_time": "2022-05-18T08:51:57.169Z"
   },
   {
    "duration": 24,
    "start_time": "2022-05-18T09:15:22.811Z"
   },
   {
    "duration": 17,
    "start_time": "2022-05-18T09:17:40.016Z"
   },
   {
    "duration": 6,
    "start_time": "2022-05-18T09:18:02.471Z"
   },
   {
    "duration": 8,
    "start_time": "2022-05-18T09:19:15.564Z"
   },
   {
    "duration": 30,
    "start_time": "2022-05-18T09:19:29.182Z"
   },
   {
    "duration": 35,
    "start_time": "2022-05-18T09:19:45.787Z"
   },
   {
    "duration": 5,
    "start_time": "2022-05-18T09:34:04.987Z"
   },
   {
    "duration": 31,
    "start_time": "2022-05-18T09:36:54.479Z"
   },
   {
    "duration": 11,
    "start_time": "2022-05-18T09:37:09.263Z"
   },
   {
    "duration": 8,
    "start_time": "2022-05-18T09:37:19.744Z"
   },
   {
    "duration": 22,
    "start_time": "2022-05-18T09:37:47.742Z"
   },
   {
    "duration": 11,
    "start_time": "2022-05-18T09:40:16.586Z"
   },
   {
    "duration": 20,
    "start_time": "2022-05-18T09:41:33.213Z"
   },
   {
    "duration": 9,
    "start_time": "2022-05-18T09:41:41.064Z"
   },
   {
    "duration": 6,
    "start_time": "2022-05-18T09:42:56.513Z"
   },
   {
    "duration": 25,
    "start_time": "2022-05-18T09:47:48.967Z"
   },
   {
    "duration": 579,
    "start_time": "2022-05-18T09:48:42.677Z"
   },
   {
    "duration": 24,
    "start_time": "2022-05-18T09:49:10.910Z"
   },
   {
    "duration": 24,
    "start_time": "2022-05-18T09:49:39.108Z"
   },
   {
    "duration": 38,
    "start_time": "2022-05-18T09:50:47.348Z"
   },
   {
    "duration": 13,
    "start_time": "2022-05-18T09:51:08.880Z"
   },
   {
    "duration": 13,
    "start_time": "2022-05-18T09:56:02.052Z"
   },
   {
    "duration": 20,
    "start_time": "2022-05-18T09:57:49.984Z"
   },
   {
    "duration": 78,
    "start_time": "2022-05-20T08:27:19.789Z"
   },
   {
    "duration": 1388,
    "start_time": "2022-05-20T08:27:30.555Z"
   },
   {
    "duration": 226,
    "start_time": "2022-05-20T08:27:31.946Z"
   },
   {
    "duration": 41,
    "start_time": "2022-05-20T08:27:32.173Z"
   },
   {
    "duration": 17,
    "start_time": "2022-05-20T08:27:32.217Z"
   },
   {
    "duration": 14,
    "start_time": "2022-05-20T08:27:32.237Z"
   },
   {
    "duration": 44,
    "start_time": "2022-05-20T08:27:32.253Z"
   },
   {
    "duration": 16,
    "start_time": "2022-05-20T08:27:32.299Z"
   },
   {
    "duration": 16,
    "start_time": "2022-05-20T08:27:32.317Z"
   },
   {
    "duration": 20,
    "start_time": "2022-05-20T08:27:32.335Z"
   },
   {
    "duration": 38,
    "start_time": "2022-05-20T08:27:32.358Z"
   },
   {
    "duration": 7,
    "start_time": "2022-05-20T08:27:32.399Z"
   },
   {
    "duration": 18,
    "start_time": "2022-05-20T08:27:32.408Z"
   },
   {
    "duration": 24,
    "start_time": "2022-05-20T08:27:32.428Z"
   },
   {
    "duration": 6,
    "start_time": "2022-05-20T08:27:32.454Z"
   },
   {
    "duration": 35,
    "start_time": "2022-05-20T08:27:32.462Z"
   },
   {
    "duration": 24,
    "start_time": "2022-05-20T08:27:32.499Z"
   },
   {
    "duration": 29,
    "start_time": "2022-05-20T08:27:32.524Z"
   },
   {
    "duration": 11,
    "start_time": "2022-05-20T08:27:32.555Z"
   },
   {
    "duration": 29,
    "start_time": "2022-05-20T08:27:32.567Z"
   },
   {
    "duration": 24,
    "start_time": "2022-05-20T08:27:32.597Z"
   },
   {
    "duration": 24,
    "start_time": "2022-05-20T08:27:32.623Z"
   },
   {
    "duration": 10,
    "start_time": "2022-05-20T08:27:32.649Z"
   },
   {
    "duration": 16,
    "start_time": "2022-05-20T08:27:32.661Z"
   },
   {
    "duration": 23,
    "start_time": "2022-05-20T08:27:32.694Z"
   },
   {
    "duration": 336,
    "start_time": "2022-05-20T08:27:32.720Z"
   },
   {
    "duration": 231,
    "start_time": "2022-05-20T08:28:07.901Z"
   },
   {
    "duration": 39,
    "start_time": "2022-05-20T08:41:44.683Z"
   },
   {
    "duration": 360,
    "start_time": "2022-05-20T08:42:04.313Z"
   },
   {
    "duration": 306,
    "start_time": "2022-05-20T08:42:11.982Z"
   },
   {
    "duration": 330,
    "start_time": "2022-05-20T08:42:25.347Z"
   },
   {
    "duration": 18,
    "start_time": "2022-05-20T08:44:11.306Z"
   },
   {
    "duration": 24,
    "start_time": "2022-05-20T08:44:29.012Z"
   },
   {
    "duration": 14,
    "start_time": "2022-05-20T08:44:35.333Z"
   },
   {
    "duration": 19,
    "start_time": "2022-05-20T08:44:51.346Z"
   },
   {
    "duration": 40,
    "start_time": "2022-05-20T08:44:57.078Z"
   },
   {
    "duration": 16,
    "start_time": "2022-05-20T08:45:01.145Z"
   },
   {
    "duration": 18,
    "start_time": "2022-05-20T08:45:14.856Z"
   },
   {
    "duration": 21,
    "start_time": "2022-05-20T08:45:20.337Z"
   },
   {
    "duration": 231,
    "start_time": "2022-05-20T08:51:43.061Z"
   },
   {
    "duration": 220,
    "start_time": "2022-05-20T08:54:06.597Z"
   },
   {
    "duration": 314,
    "start_time": "2022-05-20T08:55:05.882Z"
   },
   {
    "duration": 415,
    "start_time": "2022-05-20T08:55:20.237Z"
   },
   {
    "duration": 322,
    "start_time": "2022-05-20T08:55:24.655Z"
   },
   {
    "duration": 657,
    "start_time": "2022-05-20T08:56:06.210Z"
   },
   {
    "duration": 130,
    "start_time": "2022-05-20T08:56:50.323Z"
   },
   {
    "duration": 349,
    "start_time": "2022-05-20T08:57:19.079Z"
   },
   {
    "duration": 809,
    "start_time": "2022-05-20T08:58:43.422Z"
   },
   {
    "duration": 722,
    "start_time": "2022-05-20T08:59:13.056Z"
   },
   {
    "duration": 1018,
    "start_time": "2022-05-20T09:00:27.211Z"
   },
   {
    "duration": 343,
    "start_time": "2022-05-20T09:02:02.816Z"
   },
   {
    "duration": 323,
    "start_time": "2022-05-20T09:02:10.877Z"
   },
   {
    "duration": 477,
    "start_time": "2022-05-20T09:02:28.549Z"
   },
   {
    "duration": 325,
    "start_time": "2022-05-20T09:04:25.822Z"
   },
   {
    "duration": 40,
    "start_time": "2022-05-20T09:05:08.683Z"
   },
   {
    "duration": 703,
    "start_time": "2022-05-20T09:05:25.109Z"
   },
   {
    "duration": 705,
    "start_time": "2022-05-20T09:05:48.536Z"
   },
   {
    "duration": 957,
    "start_time": "2022-05-20T09:09:05.568Z"
   },
   {
    "duration": 561,
    "start_time": "2022-05-20T09:09:29.029Z"
   },
   {
    "duration": 650,
    "start_time": "2022-05-20T09:10:52.647Z"
   },
   {
    "duration": 883,
    "start_time": "2022-05-20T09:12:44.657Z"
   },
   {
    "duration": 669,
    "start_time": "2022-05-20T09:12:58.073Z"
   },
   {
    "duration": 778,
    "start_time": "2022-05-20T09:13:16.928Z"
   },
   {
    "duration": 855,
    "start_time": "2022-05-20T09:14:23.292Z"
   },
   {
    "duration": 56,
    "start_time": "2022-05-20T09:15:30.053Z"
   },
   {
    "duration": 649,
    "start_time": "2022-05-20T09:15:37.571Z"
   },
   {
    "duration": 527,
    "start_time": "2022-05-20T09:16:37.448Z"
   },
   {
    "duration": 632,
    "start_time": "2022-05-20T09:17:03.473Z"
   },
   {
    "duration": 656,
    "start_time": "2022-05-20T09:17:37.803Z"
   },
   {
    "duration": 1174,
    "start_time": "2022-05-20T09:18:16.735Z"
   },
   {
    "duration": 245,
    "start_time": "2022-05-20T10:07:58.809Z"
   },
   {
    "duration": 6,
    "start_time": "2022-05-20T10:09:20.171Z"
   },
   {
    "duration": 822,
    "start_time": "2022-05-20T10:09:45.789Z"
   },
   {
    "duration": 236,
    "start_time": "2022-05-20T10:10:19.207Z"
   },
   {
    "duration": 11,
    "start_time": "2022-05-20T10:11:59.708Z"
   },
   {
    "duration": 15,
    "start_time": "2022-05-20T10:12:06.544Z"
   },
   {
    "duration": 13,
    "start_time": "2022-05-20T10:16:49.466Z"
   },
   {
    "duration": 386,
    "start_time": "2022-05-20T10:17:03.943Z"
   },
   {
    "duration": 24,
    "start_time": "2022-05-20T10:17:16.119Z"
   },
   {
    "duration": 27059,
    "start_time": "2022-05-20T10:17:30.456Z"
   },
   {
    "duration": 26147,
    "start_time": "2022-05-20T10:19:56.175Z"
   },
   {
    "duration": 16,
    "start_time": "2022-05-20T10:20:56.075Z"
   },
   {
    "duration": 11,
    "start_time": "2022-05-20T10:21:04.383Z"
   },
   {
    "duration": 12,
    "start_time": "2022-05-20T10:21:09.551Z"
   },
   {
    "duration": 21,
    "start_time": "2022-05-20T10:21:11.446Z"
   },
   {
    "duration": 11,
    "start_time": "2022-05-20T10:21:44.749Z"
   },
   {
    "duration": 6,
    "start_time": "2022-05-20T10:21:53.215Z"
   },
   {
    "duration": 27671,
    "start_time": "2022-05-20T10:21:55.468Z"
   },
   {
    "duration": 443,
    "start_time": "2022-05-20T10:23:41.413Z"
   },
   {
    "duration": 26545,
    "start_time": "2022-05-20T10:23:52.605Z"
   },
   {
    "duration": 237,
    "start_time": "2022-05-20T10:27:00.956Z"
   },
   {
    "duration": 272,
    "start_time": "2022-05-20T10:27:18.991Z"
   },
   {
    "duration": 350,
    "start_time": "2022-05-20T10:28:23.063Z"
   },
   {
    "duration": 356,
    "start_time": "2022-05-20T10:28:47.622Z"
   },
   {
    "duration": 718,
    "start_time": "2022-05-20T10:29:03.127Z"
   },
   {
    "duration": 601,
    "start_time": "2022-05-20T10:29:37.899Z"
   },
   {
    "duration": 332,
    "start_time": "2022-05-20T10:30:17.202Z"
   },
   {
    "duration": 254,
    "start_time": "2022-05-20T10:30:27.888Z"
   },
   {
    "duration": 258,
    "start_time": "2022-05-20T10:30:32.704Z"
   },
   {
    "duration": 270,
    "start_time": "2022-05-20T10:30:44.988Z"
   },
   {
    "duration": 272,
    "start_time": "2022-05-20T10:30:49.322Z"
   },
   {
    "duration": 263,
    "start_time": "2022-05-20T10:31:06.081Z"
   },
   {
    "duration": 240,
    "start_time": "2022-05-20T10:31:13.820Z"
   },
   {
    "duration": 247,
    "start_time": "2022-05-20T10:31:21.061Z"
   },
   {
    "duration": 227,
    "start_time": "2022-05-20T10:32:34.011Z"
   },
   {
    "duration": 244,
    "start_time": "2022-05-20T10:32:36.681Z"
   },
   {
    "duration": 237,
    "start_time": "2022-05-20T10:32:40.374Z"
   },
   {
    "duration": 246,
    "start_time": "2022-05-20T10:32:42.972Z"
   },
   {
    "duration": 267,
    "start_time": "2022-05-20T11:40:50.143Z"
   },
   {
    "duration": 306,
    "start_time": "2022-05-20T11:41:07.201Z"
   },
   {
    "duration": 252,
    "start_time": "2022-05-20T11:41:13.060Z"
   },
   {
    "duration": 272,
    "start_time": "2022-05-20T11:41:23.681Z"
   },
   {
    "duration": 273,
    "start_time": "2022-05-20T11:41:30.144Z"
   },
   {
    "duration": 252,
    "start_time": "2022-05-20T11:41:35.831Z"
   },
   {
    "duration": 241,
    "start_time": "2022-05-20T11:41:41.733Z"
   },
   {
    "duration": 12,
    "start_time": "2022-05-20T11:45:35.272Z"
   },
   {
    "duration": 1178,
    "start_time": "2022-05-20T11:45:57.254Z"
   },
   {
    "duration": 75,
    "start_time": "2022-05-20T11:45:58.434Z"
   },
   {
    "duration": 30,
    "start_time": "2022-05-20T11:45:58.511Z"
   },
   {
    "duration": 14,
    "start_time": "2022-05-20T11:45:58.542Z"
   },
   {
    "duration": 14,
    "start_time": "2022-05-20T11:45:58.557Z"
   },
   {
    "duration": 40,
    "start_time": "2022-05-20T11:45:58.573Z"
   },
   {
    "duration": 23,
    "start_time": "2022-05-20T11:45:58.614Z"
   },
   {
    "duration": 16,
    "start_time": "2022-05-20T11:45:58.639Z"
   },
   {
    "duration": 16,
    "start_time": "2022-05-20T11:45:58.657Z"
   },
   {
    "duration": 21,
    "start_time": "2022-05-20T11:45:58.698Z"
   },
   {
    "duration": 9,
    "start_time": "2022-05-20T11:45:58.720Z"
   },
   {
    "duration": 16,
    "start_time": "2022-05-20T11:45:58.731Z"
   },
   {
    "duration": 24,
    "start_time": "2022-05-20T11:45:58.748Z"
   },
   {
    "duration": 5,
    "start_time": "2022-05-20T11:45:58.774Z"
   },
   {
    "duration": 9,
    "start_time": "2022-05-20T11:45:58.800Z"
   },
   {
    "duration": 23,
    "start_time": "2022-05-20T11:45:58.811Z"
   },
   {
    "duration": 10,
    "start_time": "2022-05-20T11:45:58.836Z"
   },
   {
    "duration": 6,
    "start_time": "2022-05-20T11:45:58.847Z"
   },
   {
    "duration": 41,
    "start_time": "2022-05-20T11:45:58.854Z"
   },
   {
    "duration": 24,
    "start_time": "2022-05-20T11:45:58.897Z"
   },
   {
    "duration": 20,
    "start_time": "2022-05-20T11:45:58.923Z"
   },
   {
    "duration": 9,
    "start_time": "2022-05-20T11:45:58.954Z"
   },
   {
    "duration": 9,
    "start_time": "2022-05-20T11:45:58.965Z"
   },
   {
    "duration": 36,
    "start_time": "2022-05-20T11:45:58.976Z"
   },
   {
    "duration": 312,
    "start_time": "2022-05-20T11:45:59.014Z"
   },
   {
    "duration": 16,
    "start_time": "2022-05-20T11:45:59.328Z"
   },
   {
    "duration": 632,
    "start_time": "2022-05-20T11:45:59.345Z"
   },
   {
    "duration": 19,
    "start_time": "2022-05-20T11:45:59.980Z"
   },
   {
    "duration": 217,
    "start_time": "2022-05-20T11:46:00.007Z"
   },
   {
    "duration": 13,
    "start_time": "2022-05-20T11:46:00.225Z"
   },
   {
    "duration": 25975,
    "start_time": "2022-05-20T11:46:00.240Z"
   },
   {
    "duration": 260,
    "start_time": "2022-05-20T11:46:26.220Z"
   },
   {
    "duration": 264,
    "start_time": "2022-05-20T11:46:26.482Z"
   },
   {
    "duration": 268,
    "start_time": "2022-05-20T11:46:26.747Z"
   },
   {
    "duration": 332,
    "start_time": "2022-05-20T11:46:27.017Z"
   },
   {
    "duration": 321,
    "start_time": "2022-05-20T11:46:27.352Z"
   },
   {
    "duration": 131,
    "start_time": "2022-05-20T11:46:27.676Z"
   },
   {
    "duration": 501,
    "start_time": "2022-05-20T11:47:16.316Z"
   },
   {
    "duration": 45,
    "start_time": "2022-05-20T11:48:01.022Z"
   },
   {
    "duration": 533,
    "start_time": "2022-05-20T11:48:12.428Z"
   },
   {
    "duration": 450,
    "start_time": "2022-05-20T11:49:01.473Z"
   },
   {
    "duration": 302,
    "start_time": "2022-05-20T11:50:55.660Z"
   },
   {
    "duration": 554,
    "start_time": "2022-05-20T11:52:10.135Z"
   },
   {
    "duration": 330,
    "start_time": "2022-05-20T11:52:57.390Z"
   },
   {
    "duration": 146,
    "start_time": "2022-05-20T11:54:29.360Z"
   },
   {
    "duration": 306,
    "start_time": "2022-05-20T11:54:38.744Z"
   },
   {
    "duration": 171,
    "start_time": "2022-05-20T11:55:24.518Z"
   },
   {
    "duration": 320,
    "start_time": "2022-05-20T11:55:34.569Z"
   },
   {
    "duration": 317,
    "start_time": "2022-05-20T11:57:56.737Z"
   },
   {
    "duration": 370,
    "start_time": "2022-05-20T11:59:21.545Z"
   },
   {
    "duration": 285,
    "start_time": "2022-05-20T11:59:40.239Z"
   },
   {
    "duration": 310,
    "start_time": "2022-05-20T12:01:05.809Z"
   },
   {
    "duration": 316,
    "start_time": "2022-05-20T12:01:12.650Z"
   },
   {
    "duration": 15,
    "start_time": "2022-05-20T12:01:36.826Z"
   },
   {
    "duration": 17,
    "start_time": "2022-05-20T12:01:53.290Z"
   },
   {
    "duration": 1759,
    "start_time": "2022-05-21T07:57:40.900Z"
   },
   {
    "duration": 193,
    "start_time": "2022-05-21T07:57:42.664Z"
   },
   {
    "duration": 48,
    "start_time": "2022-05-21T07:57:42.859Z"
   },
   {
    "duration": 32,
    "start_time": "2022-05-21T07:57:42.909Z"
   },
   {
    "duration": 70,
    "start_time": "2022-05-21T07:57:42.944Z"
   },
   {
    "duration": 72,
    "start_time": "2022-05-21T07:57:43.016Z"
   },
   {
    "duration": 36,
    "start_time": "2022-05-21T07:57:43.090Z"
   },
   {
    "duration": 54,
    "start_time": "2022-05-21T07:57:43.128Z"
   },
   {
    "duration": 40,
    "start_time": "2022-05-21T07:57:43.184Z"
   },
   {
    "duration": 92,
    "start_time": "2022-05-21T07:57:43.226Z"
   },
   {
    "duration": 105,
    "start_time": "2022-05-21T07:57:43.320Z"
   },
   {
    "duration": 88,
    "start_time": "2022-05-21T07:57:43.446Z"
   },
   {
    "duration": 106,
    "start_time": "2022-05-21T07:57:43.543Z"
   },
   {
    "duration": 83,
    "start_time": "2022-05-21T07:57:43.654Z"
   },
   {
    "duration": 67,
    "start_time": "2022-05-21T07:57:43.746Z"
   },
   {
    "duration": 105,
    "start_time": "2022-05-21T07:57:43.815Z"
   },
   {
    "duration": 89,
    "start_time": "2022-05-21T07:57:43.924Z"
   },
   {
    "duration": 87,
    "start_time": "2022-05-21T07:57:44.015Z"
   },
   {
    "duration": 58,
    "start_time": "2022-05-21T07:57:44.103Z"
   },
   {
    "duration": 85,
    "start_time": "2022-05-21T07:57:44.174Z"
   },
   {
    "duration": 47,
    "start_time": "2022-05-21T07:57:44.276Z"
   },
   {
    "duration": 86,
    "start_time": "2022-05-21T07:57:44.325Z"
   },
   {
    "duration": 12,
    "start_time": "2022-05-21T07:57:44.413Z"
   },
   {
    "duration": 87,
    "start_time": "2022-05-21T07:57:44.427Z"
   },
   {
    "duration": 586,
    "start_time": "2022-05-21T07:57:44.516Z"
   },
   {
    "duration": 17,
    "start_time": "2022-05-21T07:57:45.106Z"
   },
   {
    "duration": 981,
    "start_time": "2022-05-21T07:57:45.126Z"
   },
   {
    "duration": 6,
    "start_time": "2022-05-21T07:57:46.109Z"
   },
   {
    "duration": 302,
    "start_time": "2022-05-21T07:57:46.117Z"
   },
   {
    "duration": 13,
    "start_time": "2022-05-21T07:57:46.422Z"
   },
   {
    "duration": 403,
    "start_time": "2022-05-21T07:57:46.437Z"
   },
   {
    "duration": 304,
    "start_time": "2022-05-21T07:57:46.843Z"
   },
   {
    "duration": 298,
    "start_time": "2022-05-21T07:57:47.153Z"
   },
   {
    "duration": 289,
    "start_time": "2022-05-21T07:57:47.455Z"
   },
   {
    "duration": 329,
    "start_time": "2022-05-21T07:57:47.754Z"
   },
   {
    "duration": 55,
    "start_time": "2022-05-21T08:02:15.018Z"
   },
   {
    "duration": 311,
    "start_time": "2022-05-21T08:02:23.188Z"
   },
   {
    "duration": 8082,
    "start_time": "2022-05-21T08:03:06.906Z"
   },
   {
    "duration": 8073,
    "start_time": "2022-05-21T08:03:28.796Z"
   },
   {
    "duration": 8350,
    "start_time": "2022-05-21T08:04:00.233Z"
   },
   {
    "duration": 7641,
    "start_time": "2022-05-21T08:04:31.758Z"
   },
   {
    "duration": 184,
    "start_time": "2022-05-21T08:05:29.396Z"
   },
   {
    "duration": 0,
    "start_time": "2022-05-21T08:06:09.962Z"
   },
   {
    "duration": 8531,
    "start_time": "2022-05-21T08:06:31.118Z"
   },
   {
    "duration": 46,
    "start_time": "2022-05-21T08:09:38.971Z"
   },
   {
    "duration": 12,
    "start_time": "2022-05-21T08:12:14.125Z"
   },
   {
    "duration": 10,
    "start_time": "2022-05-21T08:12:29.896Z"
   },
   {
    "duration": 13,
    "start_time": "2022-05-21T08:12:33.779Z"
   },
   {
    "duration": 5,
    "start_time": "2022-05-21T08:12:38.606Z"
   },
   {
    "duration": 219,
    "start_time": "2022-05-21T08:14:24.085Z"
   },
   {
    "duration": 304,
    "start_time": "2022-05-21T08:14:33.891Z"
   },
   {
    "duration": 7553,
    "start_time": "2022-05-21T08:14:44.872Z"
   },
   {
    "duration": 3392,
    "start_time": "2022-05-21T08:15:21.599Z"
   },
   {
    "duration": 2104,
    "start_time": "2022-05-21T08:15:46.791Z"
   },
   {
    "duration": 409,
    "start_time": "2022-05-21T08:15:56.056Z"
   },
   {
    "duration": 14,
    "start_time": "2022-05-21T08:16:24.985Z"
   },
   {
    "duration": 7181,
    "start_time": "2022-05-21T08:16:30.015Z"
   },
   {
    "duration": 227,
    "start_time": "2022-05-21T08:17:35.552Z"
   },
   {
    "duration": 247,
    "start_time": "2022-05-21T08:17:45.956Z"
   },
   {
    "duration": 13,
    "start_time": "2022-05-21T08:18:24.071Z"
   },
   {
    "duration": 132,
    "start_time": "2022-05-21T08:18:33.051Z"
   },
   {
    "duration": 9,
    "start_time": "2022-05-21T08:19:16.056Z"
   },
   {
    "duration": 7154,
    "start_time": "2022-05-21T08:20:14.422Z"
   },
   {
    "duration": 7469,
    "start_time": "2022-05-21T08:20:52.676Z"
   },
   {
    "duration": 7482,
    "start_time": "2022-05-21T08:21:11.289Z"
   },
   {
    "duration": 7230,
    "start_time": "2022-05-21T08:21:20.578Z"
   },
   {
    "duration": 31,
    "start_time": "2022-05-21T08:23:36.874Z"
   },
   {
    "duration": 10,
    "start_time": "2022-05-21T08:23:41.506Z"
   },
   {
    "duration": 18,
    "start_time": "2022-05-21T08:23:46.674Z"
   },
   {
    "duration": 29,
    "start_time": "2022-05-21T08:23:54.272Z"
   },
   {
    "duration": 10,
    "start_time": "2022-05-21T08:24:00.781Z"
   },
   {
    "duration": 11,
    "start_time": "2022-05-21T08:27:28.695Z"
   },
   {
    "duration": 12,
    "start_time": "2022-05-21T08:27:43.671Z"
   },
   {
    "duration": 10,
    "start_time": "2022-05-21T08:28:05.656Z"
   },
   {
    "duration": 607,
    "start_time": "2022-05-21T08:32:29.715Z"
   },
   {
    "duration": 41,
    "start_time": "2022-05-21T08:34:06.798Z"
   },
   {
    "duration": 16,
    "start_time": "2022-05-21T08:34:30.780Z"
   },
   {
    "duration": 10,
    "start_time": "2022-05-21T08:36:08.853Z"
   },
   {
    "duration": 8,
    "start_time": "2022-05-21T08:37:48.362Z"
   },
   {
    "duration": 8185,
    "start_time": "2022-05-21T08:38:10.704Z"
   },
   {
    "duration": 256,
    "start_time": "2022-05-21T08:39:26.524Z"
   },
   {
    "duration": 295,
    "start_time": "2022-05-21T08:39:36.409Z"
   },
   {
    "duration": 218,
    "start_time": "2022-05-21T08:39:50.657Z"
   },
   {
    "duration": 231,
    "start_time": "2022-05-21T08:39:59.205Z"
   },
   {
    "duration": 229,
    "start_time": "2022-05-21T08:40:06.877Z"
   },
   {
    "duration": 309,
    "start_time": "2022-05-21T08:40:53.519Z"
   },
   {
    "duration": 286,
    "start_time": "2022-05-21T08:41:06.361Z"
   },
   {
    "duration": 7351,
    "start_time": "2022-05-21T08:41:31.796Z"
   },
   {
    "duration": 29,
    "start_time": "2022-05-21T08:45:16.319Z"
   },
   {
    "duration": 19,
    "start_time": "2022-05-21T08:45:29.958Z"
   },
   {
    "duration": 334,
    "start_time": "2022-05-21T08:45:36.983Z"
   },
   {
    "duration": 646,
    "start_time": "2022-05-21T08:55:14.354Z"
   },
   {
    "duration": 647,
    "start_time": "2022-05-21T08:58:44.665Z"
   },
   {
    "duration": 638,
    "start_time": "2022-05-21T08:59:04.166Z"
   },
   {
    "duration": 142,
    "start_time": "2022-05-21T08:59:28.001Z"
   },
   {
    "duration": 1140,
    "start_time": "2022-05-21T08:59:33.655Z"
   },
   {
    "duration": 630,
    "start_time": "2022-05-21T09:00:24.559Z"
   },
   {
    "duration": 730,
    "start_time": "2022-05-21T09:00:44.378Z"
   },
   {
    "duration": 554,
    "start_time": "2022-05-21T09:00:50.170Z"
   },
   {
    "duration": 805,
    "start_time": "2022-05-21T09:02:20.280Z"
   },
   {
    "duration": 685,
    "start_time": "2022-05-21T09:02:32.311Z"
   },
   {
    "duration": 678,
    "start_time": "2022-05-21T09:02:38.697Z"
   },
   {
    "duration": 949,
    "start_time": "2022-05-21T09:02:44.604Z"
   },
   {
    "duration": 630,
    "start_time": "2022-05-21T09:02:55.656Z"
   },
   {
    "duration": 1460,
    "start_time": "2022-05-21T13:29:42.587Z"
   },
   {
    "duration": 93,
    "start_time": "2022-05-21T13:29:44.050Z"
   },
   {
    "duration": 32,
    "start_time": "2022-05-21T13:29:44.145Z"
   },
   {
    "duration": 15,
    "start_time": "2022-05-21T13:29:44.178Z"
   },
   {
    "duration": 35,
    "start_time": "2022-05-21T13:29:44.195Z"
   },
   {
    "duration": 28,
    "start_time": "2022-05-21T13:29:44.235Z"
   },
   {
    "duration": 13,
    "start_time": "2022-05-21T13:29:44.265Z"
   },
   {
    "duration": 15,
    "start_time": "2022-05-21T13:29:44.280Z"
   },
   {
    "duration": 40,
    "start_time": "2022-05-21T13:29:44.297Z"
   },
   {
    "duration": 17,
    "start_time": "2022-05-21T13:29:44.338Z"
   },
   {
    "duration": 9,
    "start_time": "2022-05-21T13:29:44.357Z"
   },
   {
    "duration": 15,
    "start_time": "2022-05-21T13:29:44.368Z"
   },
   {
    "duration": 50,
    "start_time": "2022-05-21T13:29:44.385Z"
   },
   {
    "duration": 5,
    "start_time": "2022-05-21T13:29:44.442Z"
   },
   {
    "duration": 10,
    "start_time": "2022-05-21T13:29:44.449Z"
   },
   {
    "duration": 23,
    "start_time": "2022-05-21T13:29:44.461Z"
   },
   {
    "duration": 13,
    "start_time": "2022-05-21T13:29:44.486Z"
   },
   {
    "duration": 42,
    "start_time": "2022-05-21T13:29:44.501Z"
   },
   {
    "duration": 18,
    "start_time": "2022-05-21T13:29:44.545Z"
   },
   {
    "duration": 22,
    "start_time": "2022-05-21T13:29:44.565Z"
   },
   {
    "duration": 20,
    "start_time": "2022-05-21T13:29:44.589Z"
   },
   {
    "duration": 27,
    "start_time": "2022-05-21T13:29:44.611Z"
   },
   {
    "duration": 11,
    "start_time": "2022-05-21T13:29:44.640Z"
   },
   {
    "duration": 16,
    "start_time": "2022-05-21T13:29:44.652Z"
   },
   {
    "duration": 332,
    "start_time": "2022-05-21T13:29:44.670Z"
   },
   {
    "duration": 35,
    "start_time": "2022-05-21T13:29:45.004Z"
   },
   {
    "duration": 665,
    "start_time": "2022-05-21T13:29:45.040Z"
   },
   {
    "duration": 5,
    "start_time": "2022-05-21T13:29:45.707Z"
   },
   {
    "duration": 264,
    "start_time": "2022-05-21T13:29:45.714Z"
   },
   {
    "duration": 15,
    "start_time": "2022-05-21T13:29:45.979Z"
   },
   {
    "duration": 252,
    "start_time": "2022-05-21T13:29:45.996Z"
   },
   {
    "duration": 260,
    "start_time": "2022-05-21T13:29:46.250Z"
   },
   {
    "duration": 249,
    "start_time": "2022-05-21T13:29:46.511Z"
   },
   {
    "duration": 244,
    "start_time": "2022-05-21T13:29:46.762Z"
   },
   {
    "duration": 246,
    "start_time": "2022-05-21T13:29:47.009Z"
   },
   {
    "duration": 36,
    "start_time": "2022-05-21T13:29:47.257Z"
   },
   {
    "duration": 4,
    "start_time": "2022-05-21T13:29:47.295Z"
   },
   {
    "duration": 276,
    "start_time": "2022-05-21T13:29:47.301Z"
   },
   {
    "duration": 26,
    "start_time": "2022-05-21T13:29:47.581Z"
   },
   {
    "duration": 6971,
    "start_time": "2022-05-21T13:29:47.608Z"
   },
   {
    "duration": 505,
    "start_time": "2022-05-21T13:29:54.583Z"
   },
   {
    "duration": 296,
    "start_time": "2022-05-21T13:29:55.090Z"
   },
   {
    "duration": 31,
    "start_time": "2022-05-21T14:06:55.360Z"
   },
   {
    "duration": 5,
    "start_time": "2022-05-21T14:07:04.965Z"
   },
   {
    "duration": 115,
    "start_time": "2022-05-21T14:07:10.536Z"
   },
   {
    "duration": 29,
    "start_time": "2022-05-21T14:07:27.820Z"
   },
   {
    "duration": 248,
    "start_time": "2022-05-21T14:07:39.345Z"
   },
   {
    "duration": 382,
    "start_time": "2022-05-21T14:07:58.718Z"
   },
   {
    "duration": 233,
    "start_time": "2022-05-21T14:09:56.367Z"
   },
   {
    "duration": 19,
    "start_time": "2022-05-21T14:10:35.680Z"
   },
   {
    "duration": 252,
    "start_time": "2022-05-21T14:10:56.832Z"
   },
   {
    "duration": 133,
    "start_time": "2022-05-21T14:13:07.899Z"
   },
   {
    "duration": 553,
    "start_time": "2022-05-21T14:13:27.968Z"
   },
   {
    "duration": 235,
    "start_time": "2022-05-21T14:13:33.778Z"
   },
   {
    "duration": 222,
    "start_time": "2022-05-21T14:13:39.802Z"
   },
   {
    "duration": 248,
    "start_time": "2022-05-21T14:13:45.988Z"
   },
   {
    "duration": 264,
    "start_time": "2022-05-21T14:13:56.176Z"
   },
   {
    "duration": 285,
    "start_time": "2022-05-21T14:14:51.592Z"
   },
   {
    "duration": 123,
    "start_time": "2022-05-21T14:15:57.596Z"
   },
   {
    "duration": 167,
    "start_time": "2022-05-21T14:16:05.192Z"
   },
   {
    "duration": 178,
    "start_time": "2022-05-21T14:16:12.707Z"
   },
   {
    "duration": 139,
    "start_time": "2022-05-21T14:16:24.462Z"
   },
   {
    "duration": 378,
    "start_time": "2022-05-21T14:16:34.872Z"
   },
   {
    "duration": 513,
    "start_time": "2022-05-21T14:19:58.759Z"
   },
   {
    "duration": 22,
    "start_time": "2022-05-21T14:20:16.412Z"
   },
   {
    "duration": 16,
    "start_time": "2022-05-21T14:20:44.652Z"
   },
   {
    "duration": 20,
    "start_time": "2022-05-21T14:21:02.672Z"
   },
   {
    "duration": 37,
    "start_time": "2022-05-21T14:21:52.961Z"
   },
   {
    "duration": 130,
    "start_time": "2022-05-21T14:22:17.374Z"
   },
   {
    "duration": 147,
    "start_time": "2022-05-21T14:22:39.719Z"
   },
   {
    "duration": 14,
    "start_time": "2022-05-21T14:23:09.320Z"
   },
   {
    "duration": 194,
    "start_time": "2022-05-21T14:23:25.219Z"
   },
   {
    "duration": 236,
    "start_time": "2022-05-21T14:23:33.859Z"
   },
   {
    "duration": 153,
    "start_time": "2022-05-21T14:24:21.997Z"
   },
   {
    "duration": 7,
    "start_time": "2022-05-21T14:24:45.866Z"
   },
   {
    "duration": 7,
    "start_time": "2022-05-21T14:25:13.309Z"
   },
   {
    "duration": 23,
    "start_time": "2022-05-21T14:25:21.741Z"
   },
   {
    "duration": 170,
    "start_time": "2022-05-21T14:25:29.809Z"
   },
   {
    "duration": 4,
    "start_time": "2022-05-21T14:30:06.361Z"
   },
   {
    "duration": 170,
    "start_time": "2022-05-21T14:30:14.716Z"
   },
   {
    "duration": 17,
    "start_time": "2022-05-21T14:37:57.863Z"
   },
   {
    "duration": 19,
    "start_time": "2022-05-21T14:38:30.920Z"
   },
   {
    "duration": 20,
    "start_time": "2022-05-21T14:39:00.999Z"
   },
   {
    "duration": 149,
    "start_time": "2022-05-21T14:39:14.969Z"
   },
   {
    "duration": 175,
    "start_time": "2022-05-21T14:39:28.859Z"
   },
   {
    "duration": 155,
    "start_time": "2022-05-21T14:39:46.103Z"
   },
   {
    "duration": 144,
    "start_time": "2022-05-21T14:40:00.084Z"
   },
   {
    "duration": 158,
    "start_time": "2022-05-21T14:40:16.664Z"
   },
   {
    "duration": 177,
    "start_time": "2022-05-21T14:42:37.871Z"
   },
   {
    "duration": 436,
    "start_time": "2022-05-21T14:42:51.725Z"
   },
   {
    "duration": 174,
    "start_time": "2022-05-21T14:43:09.187Z"
   },
   {
    "duration": 146,
    "start_time": "2022-05-21T14:43:19.309Z"
   },
   {
    "duration": 152,
    "start_time": "2022-05-21T14:43:27.959Z"
   },
   {
    "duration": 174,
    "start_time": "2022-05-21T14:47:33.498Z"
   },
   {
    "duration": 148,
    "start_time": "2022-05-21T14:47:41.160Z"
   },
   {
    "duration": 324,
    "start_time": "2022-05-21T14:48:05.376Z"
   },
   {
    "duration": 212,
    "start_time": "2022-05-21T14:51:53.187Z"
   },
   {
    "duration": 394,
    "start_time": "2022-05-21T14:52:20.962Z"
   },
   {
    "duration": 242,
    "start_time": "2022-05-21T14:52:34.737Z"
   },
   {
    "duration": 248,
    "start_time": "2022-05-21T14:54:00.275Z"
   },
   {
    "duration": 286,
    "start_time": "2022-05-21T16:45:52.798Z"
   },
   {
    "duration": 290,
    "start_time": "2022-05-21T16:46:00.592Z"
   },
   {
    "duration": 261,
    "start_time": "2022-05-21T16:46:05.954Z"
   },
   {
    "duration": 258,
    "start_time": "2022-05-21T16:46:10.331Z"
   },
   {
    "duration": 19,
    "start_time": "2022-05-21T17:16:59.617Z"
   },
   {
    "duration": 376,
    "start_time": "2022-05-21T17:20:43.071Z"
   },
   {
    "duration": 24,
    "start_time": "2022-05-21T17:21:11.108Z"
   },
   {
    "duration": 23,
    "start_time": "2022-05-21T17:21:35.598Z"
   },
   {
    "duration": 5,
    "start_time": "2022-05-21T17:21:46.236Z"
   },
   {
    "duration": 10,
    "start_time": "2022-05-21T17:22:19.649Z"
   },
   {
    "duration": 10,
    "start_time": "2022-05-21T17:23:15.645Z"
   },
   {
    "duration": 11,
    "start_time": "2022-05-21T17:23:26.391Z"
   },
   {
    "duration": 180,
    "start_time": "2022-05-21T17:23:36.237Z"
   },
   {
    "duration": 16,
    "start_time": "2022-05-21T17:42:47.174Z"
   },
   {
    "duration": 12,
    "start_time": "2022-05-21T17:42:57.242Z"
   },
   {
    "duration": 13,
    "start_time": "2022-05-21T17:43:32.813Z"
   },
   {
    "duration": 18,
    "start_time": "2022-05-21T17:46:32.581Z"
   },
   {
    "duration": 13,
    "start_time": "2022-05-21T17:46:41.764Z"
   },
   {
    "duration": 39,
    "start_time": "2022-05-21T17:53:14.092Z"
   },
   {
    "duration": 29,
    "start_time": "2022-05-21T17:53:22.876Z"
   },
   {
    "duration": 14,
    "start_time": "2022-05-21T17:53:30.886Z"
   },
   {
    "duration": 18,
    "start_time": "2022-05-21T17:53:54.975Z"
   },
   {
    "duration": 393,
    "start_time": "2022-05-21T17:54:04.795Z"
   },
   {
    "duration": 366,
    "start_time": "2022-05-21T17:54:18.646Z"
   },
   {
    "duration": 418,
    "start_time": "2022-05-21T17:55:01.870Z"
   },
   {
    "duration": 385,
    "start_time": "2022-05-21T17:55:25.610Z"
   },
   {
    "duration": 696,
    "start_time": "2022-05-21T17:56:04.628Z"
   },
   {
    "duration": 358,
    "start_time": "2022-05-21T17:56:18.670Z"
   },
   {
    "duration": 374,
    "start_time": "2022-05-21T17:57:55.532Z"
   },
   {
    "duration": 362,
    "start_time": "2022-05-21T17:58:00.566Z"
   },
   {
    "duration": 120,
    "start_time": "2022-05-21T17:58:53.846Z"
   },
   {
    "duration": 265,
    "start_time": "2022-05-21T17:58:55.963Z"
   },
   {
    "duration": 333,
    "start_time": "2022-05-21T17:59:21.492Z"
   },
   {
    "duration": 388,
    "start_time": "2022-05-21T18:03:09.017Z"
   },
   {
    "duration": 405,
    "start_time": "2022-05-21T18:07:53.528Z"
   },
   {
    "duration": 583,
    "start_time": "2022-05-21T18:08:18.204Z"
   },
   {
    "duration": 23,
    "start_time": "2022-05-21T18:13:27.182Z"
   },
   {
    "duration": 7,
    "start_time": "2022-05-21T18:14:28.676Z"
   },
   {
    "duration": 15,
    "start_time": "2022-05-21T18:22:52.285Z"
   },
   {
    "duration": 277,
    "start_time": "2022-05-21T18:23:07.082Z"
   },
   {
    "duration": 446,
    "start_time": "2022-05-21T18:23:15.903Z"
   },
   {
    "duration": 139,
    "start_time": "2022-05-21T18:23:43.130Z"
   },
   {
    "duration": 435,
    "start_time": "2022-05-21T18:23:56.082Z"
   },
   {
    "duration": 1293,
    "start_time": "2022-05-22T14:22:20.381Z"
   },
   {
    "duration": 89,
    "start_time": "2022-05-22T14:22:21.676Z"
   },
   {
    "duration": 28,
    "start_time": "2022-05-22T14:22:21.767Z"
   },
   {
    "duration": 12,
    "start_time": "2022-05-22T14:22:21.797Z"
   },
   {
    "duration": 32,
    "start_time": "2022-05-22T14:22:21.810Z"
   },
   {
    "duration": 18,
    "start_time": "2022-05-22T14:22:21.844Z"
   },
   {
    "duration": 12,
    "start_time": "2022-05-22T14:22:21.863Z"
   },
   {
    "duration": 13,
    "start_time": "2022-05-22T14:22:21.877Z"
   },
   {
    "duration": 17,
    "start_time": "2022-05-22T14:22:21.891Z"
   },
   {
    "duration": 15,
    "start_time": "2022-05-22T14:22:21.936Z"
   },
   {
    "duration": 5,
    "start_time": "2022-05-22T14:22:21.952Z"
   },
   {
    "duration": 17,
    "start_time": "2022-05-22T14:22:21.959Z"
   },
   {
    "duration": 23,
    "start_time": "2022-05-22T14:22:21.978Z"
   },
   {
    "duration": 6,
    "start_time": "2022-05-22T14:22:22.002Z"
   },
   {
    "duration": 34,
    "start_time": "2022-05-22T14:22:22.009Z"
   },
   {
    "duration": 27,
    "start_time": "2022-05-22T14:22:22.045Z"
   },
   {
    "duration": 9,
    "start_time": "2022-05-22T14:22:22.074Z"
   },
   {
    "duration": 6,
    "start_time": "2022-05-22T14:22:22.084Z"
   },
   {
    "duration": 17,
    "start_time": "2022-05-22T14:22:22.091Z"
   },
   {
    "duration": 39,
    "start_time": "2022-05-22T14:22:22.109Z"
   },
   {
    "duration": 19,
    "start_time": "2022-05-22T14:22:22.150Z"
   },
   {
    "duration": 9,
    "start_time": "2022-05-22T14:22:22.171Z"
   },
   {
    "duration": 10,
    "start_time": "2022-05-22T14:22:22.182Z"
   },
   {
    "duration": 47,
    "start_time": "2022-05-22T14:22:22.194Z"
   },
   {
    "duration": 304,
    "start_time": "2022-05-22T14:22:22.244Z"
   },
   {
    "duration": 16,
    "start_time": "2022-05-22T14:22:22.551Z"
   },
   {
    "duration": 608,
    "start_time": "2022-05-22T14:22:22.569Z"
   },
   {
    "duration": 5,
    "start_time": "2022-05-22T14:22:23.180Z"
   },
   {
    "duration": 226,
    "start_time": "2022-05-22T14:22:23.186Z"
   },
   {
    "duration": 23,
    "start_time": "2022-05-22T14:22:23.414Z"
   },
   {
    "duration": 226,
    "start_time": "2022-05-22T14:22:23.440Z"
   },
   {
    "duration": 222,
    "start_time": "2022-05-22T14:22:23.668Z"
   },
   {
    "duration": 226,
    "start_time": "2022-05-22T14:22:23.892Z"
   },
   {
    "duration": 224,
    "start_time": "2022-05-22T14:22:24.120Z"
   },
   {
    "duration": 207,
    "start_time": "2022-05-22T14:22:24.346Z"
   },
   {
    "duration": 31,
    "start_time": "2022-05-22T14:22:24.554Z"
   },
   {
    "duration": 4,
    "start_time": "2022-05-22T14:22:24.587Z"
   },
   {
    "duration": 217,
    "start_time": "2022-05-22T14:22:24.592Z"
   },
   {
    "duration": 8,
    "start_time": "2022-05-22T14:22:24.811Z"
   },
   {
    "duration": 23,
    "start_time": "2022-05-22T14:22:24.838Z"
   },
   {
    "duration": 151,
    "start_time": "2022-05-22T14:22:24.863Z"
   },
   {
    "duration": 153,
    "start_time": "2022-05-22T14:22:25.018Z"
   },
   {
    "duration": 167,
    "start_time": "2022-05-22T14:22:25.173Z"
   },
   {
    "duration": 205,
    "start_time": "2022-05-22T14:22:25.343Z"
   },
   {
    "duration": 207,
    "start_time": "2022-05-22T14:22:25.550Z"
   },
   {
    "duration": 21,
    "start_time": "2022-05-22T14:22:25.758Z"
   },
   {
    "duration": 182,
    "start_time": "2022-05-22T14:22:25.781Z"
   },
   {
    "duration": 14,
    "start_time": "2022-05-22T14:22:25.964Z"
   },
   {
    "duration": 12,
    "start_time": "2022-05-22T14:22:25.980Z"
   },
   {
    "duration": 478,
    "start_time": "2022-05-22T14:22:25.994Z"
   },
   {
    "duration": 403,
    "start_time": "2022-05-22T14:22:26.474Z"
   },
   {
    "duration": 5,
    "start_time": "2022-05-22T14:22:26.878Z"
   },
   {
    "duration": 417,
    "start_time": "2022-05-22T14:22:26.885Z"
   },
   {
    "duration": 5,
    "start_time": "2022-05-22T15:03:02.622Z"
   },
   {
    "duration": 3,
    "start_time": "2022-05-22T15:04:36.138Z"
   },
   {
    "duration": 9,
    "start_time": "2022-05-22T15:05:40.412Z"
   },
   {
    "duration": 4,
    "start_time": "2022-05-22T15:06:07.946Z"
   },
   {
    "duration": 4,
    "start_time": "2022-05-22T15:06:18.776Z"
   },
   {
    "duration": 11,
    "start_time": "2022-05-22T15:10:07.421Z"
   },
   {
    "duration": 3,
    "start_time": "2022-05-22T15:10:15.894Z"
   },
   {
    "duration": 3,
    "start_time": "2022-05-22T15:10:20.373Z"
   },
   {
    "duration": 5,
    "start_time": "2022-05-22T15:10:35.357Z"
   },
   {
    "duration": 1304,
    "start_time": "2022-05-22T18:50:05.081Z"
   },
   {
    "duration": 90,
    "start_time": "2022-05-22T18:50:06.387Z"
   },
   {
    "duration": 30,
    "start_time": "2022-05-22T18:50:06.478Z"
   },
   {
    "duration": 14,
    "start_time": "2022-05-22T18:50:06.510Z"
   },
   {
    "duration": 12,
    "start_time": "2022-05-22T18:50:06.526Z"
   },
   {
    "duration": 17,
    "start_time": "2022-05-22T18:50:06.540Z"
   },
   {
    "duration": 14,
    "start_time": "2022-05-22T18:50:06.559Z"
   },
   {
    "duration": 15,
    "start_time": "2022-05-22T18:50:06.575Z"
   },
   {
    "duration": 43,
    "start_time": "2022-05-22T18:50:06.592Z"
   },
   {
    "duration": 13,
    "start_time": "2022-05-22T18:50:06.638Z"
   },
   {
    "duration": 15,
    "start_time": "2022-05-22T18:50:06.653Z"
   },
   {
    "duration": 22,
    "start_time": "2022-05-22T18:50:06.670Z"
   },
   {
    "duration": 38,
    "start_time": "2022-05-22T18:50:06.694Z"
   },
   {
    "duration": 5,
    "start_time": "2022-05-22T18:50:06.734Z"
   },
   {
    "duration": 12,
    "start_time": "2022-05-22T18:50:06.741Z"
   },
   {
    "duration": 24,
    "start_time": "2022-05-22T18:50:06.755Z"
   },
   {
    "duration": 11,
    "start_time": "2022-05-22T18:50:06.781Z"
   },
   {
    "duration": 35,
    "start_time": "2022-05-22T18:50:06.794Z"
   },
   {
    "duration": 21,
    "start_time": "2022-05-22T18:50:06.831Z"
   },
   {
    "duration": 22,
    "start_time": "2022-05-22T18:50:06.854Z"
   },
   {
    "duration": 18,
    "start_time": "2022-05-22T18:50:06.878Z"
   },
   {
    "duration": 32,
    "start_time": "2022-05-22T18:50:06.898Z"
   },
   {
    "duration": 9,
    "start_time": "2022-05-22T18:50:06.931Z"
   },
   {
    "duration": 14,
    "start_time": "2022-05-22T18:50:06.941Z"
   },
   {
    "duration": 336,
    "start_time": "2022-05-22T18:50:06.957Z"
   },
   {
    "duration": 32,
    "start_time": "2022-05-22T18:50:07.294Z"
   },
   {
    "duration": 592,
    "start_time": "2022-05-22T18:50:07.328Z"
   },
   {
    "duration": 5,
    "start_time": "2022-05-22T18:50:07.925Z"
   },
   {
    "duration": 210,
    "start_time": "2022-05-22T18:50:07.931Z"
   },
   {
    "duration": 12,
    "start_time": "2022-05-22T18:50:08.142Z"
   },
   {
    "duration": 235,
    "start_time": "2022-05-22T18:50:08.156Z"
   },
   {
    "duration": 229,
    "start_time": "2022-05-22T18:50:08.393Z"
   },
   {
    "duration": 232,
    "start_time": "2022-05-22T18:50:08.623Z"
   },
   {
    "duration": 221,
    "start_time": "2022-05-22T18:50:08.857Z"
   },
   {
    "duration": 224,
    "start_time": "2022-05-22T18:50:09.080Z"
   },
   {
    "duration": 43,
    "start_time": "2022-05-22T18:50:09.306Z"
   },
   {
    "duration": 5,
    "start_time": "2022-05-22T18:50:09.350Z"
   },
   {
    "duration": 236,
    "start_time": "2022-05-22T18:50:09.356Z"
   },
   {
    "duration": 7,
    "start_time": "2022-05-22T18:50:09.593Z"
   },
   {
    "duration": 35,
    "start_time": "2022-05-22T18:50:09.602Z"
   },
   {
    "duration": 166,
    "start_time": "2022-05-22T18:50:09.639Z"
   },
   {
    "duration": 139,
    "start_time": "2022-05-22T18:50:09.807Z"
   },
   {
    "duration": 137,
    "start_time": "2022-05-22T18:50:09.947Z"
   },
   {
    "duration": 209,
    "start_time": "2022-05-22T18:50:10.086Z"
   },
   {
    "duration": 207,
    "start_time": "2022-05-22T18:50:10.297Z"
   },
   {
    "duration": 27,
    "start_time": "2022-05-22T18:50:10.506Z"
   },
   {
    "duration": 171,
    "start_time": "2022-05-22T18:50:10.535Z"
   },
   {
    "duration": 19,
    "start_time": "2022-05-22T18:50:10.707Z"
   },
   {
    "duration": 12,
    "start_time": "2022-05-22T18:50:10.728Z"
   },
   {
    "duration": 392,
    "start_time": "2022-05-22T18:50:10.742Z"
   },
   {
    "duration": 372,
    "start_time": "2022-05-22T18:50:11.136Z"
   },
   {
    "duration": 16,
    "start_time": "2022-05-22T18:50:11.510Z"
   },
   {
    "duration": 390,
    "start_time": "2022-05-22T18:50:11.527Z"
   },
   {
    "duration": 7,
    "start_time": "2022-05-22T18:50:11.919Z"
   },
   {
    "duration": 31,
    "start_time": "2022-05-22T18:50:11.927Z"
   },
   {
    "duration": 11,
    "start_time": "2022-05-22T18:50:11.959Z"
   },
   {
    "duration": 8,
    "start_time": "2022-05-22T18:50:11.971Z"
   },
   {
    "duration": 20,
    "start_time": "2022-05-22T18:50:11.980Z"
   },
   {
    "duration": 5,
    "start_time": "2022-05-22T18:50:12.001Z"
   },
   {
    "duration": 19,
    "start_time": "2022-05-22T18:50:12.007Z"
   },
   {
    "duration": 52,
    "start_time": "2022-05-22T19:08:32.249Z"
   },
   {
    "duration": 8,
    "start_time": "2022-05-22T19:09:09.993Z"
   },
   {
    "duration": 24,
    "start_time": "2022-05-22T19:15:36.532Z"
   },
   {
    "duration": 0,
    "start_time": "2022-05-22T19:18:14.955Z"
   },
   {
    "duration": 9,
    "start_time": "2022-05-22T19:18:18.254Z"
   },
   {
    "duration": 217,
    "start_time": "2022-05-22T19:18:22.599Z"
   },
   {
    "duration": 0,
    "start_time": "2022-05-22T19:19:18.950Z"
   },
   {
    "duration": 32,
    "start_time": "2022-05-22T19:19:20.344Z"
   },
   {
    "duration": 16,
    "start_time": "2022-05-22T19:19:34.211Z"
   },
   {
    "duration": 10,
    "start_time": "2022-05-22T19:19:46.676Z"
   },
   {
    "duration": 282,
    "start_time": "2022-05-22T19:19:53.307Z"
   },
   {
    "duration": 0,
    "start_time": "2022-05-22T19:20:49.640Z"
   },
   {
    "duration": 38,
    "start_time": "2022-05-22T19:24:51.596Z"
   },
   {
    "duration": 192,
    "start_time": "2022-05-22T19:25:02.946Z"
   },
   {
    "duration": 196,
    "start_time": "2022-05-22T19:25:43.939Z"
   },
   {
    "duration": 196,
    "start_time": "2022-05-22T19:25:51.845Z"
   },
   {
    "duration": 26,
    "start_time": "2022-05-22T19:39:55.073Z"
   },
   {
    "duration": 52,
    "start_time": "2022-05-23T14:56:53.753Z"
   },
   {
    "duration": 1289,
    "start_time": "2022-05-23T14:57:00.315Z"
   },
   {
    "duration": 205,
    "start_time": "2022-05-23T14:57:01.606Z"
   },
   {
    "duration": 31,
    "start_time": "2022-05-23T14:57:01.812Z"
   },
   {
    "duration": 16,
    "start_time": "2022-05-23T14:57:01.844Z"
   },
   {
    "duration": 27,
    "start_time": "2022-05-23T14:57:01.861Z"
   },
   {
    "duration": 19,
    "start_time": "2022-05-23T14:57:01.890Z"
   },
   {
    "duration": 14,
    "start_time": "2022-05-23T14:57:01.911Z"
   },
   {
    "duration": 19,
    "start_time": "2022-05-23T14:57:01.927Z"
   },
   {
    "duration": 32,
    "start_time": "2022-05-23T14:57:01.975Z"
   },
   {
    "duration": 32,
    "start_time": "2022-05-23T14:57:02.011Z"
   },
   {
    "duration": 14,
    "start_time": "2022-05-23T14:57:02.045Z"
   },
   {
    "duration": 33,
    "start_time": "2022-05-23T14:57:02.061Z"
   },
   {
    "duration": 20,
    "start_time": "2022-05-23T14:57:02.096Z"
   },
   {
    "duration": 24,
    "start_time": "2022-05-23T14:57:02.117Z"
   },
   {
    "duration": 25,
    "start_time": "2022-05-23T14:57:02.143Z"
   },
   {
    "duration": 29,
    "start_time": "2022-05-23T14:57:02.170Z"
   },
   {
    "duration": 9,
    "start_time": "2022-05-23T14:57:02.201Z"
   },
   {
    "duration": 21,
    "start_time": "2022-05-23T14:57:02.212Z"
   },
   {
    "duration": 41,
    "start_time": "2022-05-23T14:57:02.235Z"
   },
   {
    "duration": 22,
    "start_time": "2022-05-23T14:57:02.278Z"
   },
   {
    "duration": 24,
    "start_time": "2022-05-23T14:57:02.301Z"
   },
   {
    "duration": 18,
    "start_time": "2022-05-23T14:57:02.326Z"
   },
   {
    "duration": 10,
    "start_time": "2022-05-23T14:57:02.346Z"
   },
   {
    "duration": 22,
    "start_time": "2022-05-23T14:57:02.374Z"
   },
   {
    "duration": 485,
    "start_time": "2022-05-23T14:57:02.398Z"
   },
   {
    "duration": 21,
    "start_time": "2022-05-23T14:57:02.885Z"
   },
   {
    "duration": 674,
    "start_time": "2022-05-23T14:57:02.908Z"
   },
   {
    "duration": 6,
    "start_time": "2022-05-23T14:57:03.585Z"
   },
   {
    "duration": 241,
    "start_time": "2022-05-23T14:57:03.593Z"
   },
   {
    "duration": 12,
    "start_time": "2022-05-23T14:57:03.836Z"
   },
   {
    "duration": 221,
    "start_time": "2022-05-23T14:57:03.849Z"
   },
   {
    "duration": 234,
    "start_time": "2022-05-23T14:57:04.074Z"
   },
   {
    "duration": 215,
    "start_time": "2022-05-23T14:57:04.310Z"
   },
   {
    "duration": 250,
    "start_time": "2022-05-23T14:57:04.526Z"
   },
   {
    "duration": 198,
    "start_time": "2022-05-23T14:57:04.778Z"
   },
   {
    "duration": 27,
    "start_time": "2022-05-23T14:57:04.978Z"
   },
   {
    "duration": 4,
    "start_time": "2022-05-23T14:57:05.006Z"
   },
   {
    "duration": 202,
    "start_time": "2022-05-23T14:57:05.011Z"
   },
   {
    "duration": 6,
    "start_time": "2022-05-23T14:57:05.215Z"
   },
   {
    "duration": 23,
    "start_time": "2022-05-23T14:57:05.222Z"
   },
   {
    "duration": 159,
    "start_time": "2022-05-23T14:57:05.246Z"
   },
   {
    "duration": 138,
    "start_time": "2022-05-23T14:57:05.407Z"
   },
   {
    "duration": 132,
    "start_time": "2022-05-23T14:57:05.546Z"
   },
   {
    "duration": 211,
    "start_time": "2022-05-23T14:57:05.679Z"
   },
   {
    "duration": 198,
    "start_time": "2022-05-23T14:57:05.892Z"
   },
   {
    "duration": 20,
    "start_time": "2022-05-23T14:57:06.092Z"
   },
   {
    "duration": 178,
    "start_time": "2022-05-23T14:57:06.114Z"
   },
   {
    "duration": 13,
    "start_time": "2022-05-23T14:57:06.294Z"
   },
   {
    "duration": 12,
    "start_time": "2022-05-23T14:57:06.309Z"
   },
   {
    "duration": 385,
    "start_time": "2022-05-23T14:57:06.322Z"
   },
   {
    "duration": 370,
    "start_time": "2022-05-23T14:57:06.709Z"
   },
   {
    "duration": 5,
    "start_time": "2022-05-23T14:57:07.080Z"
   },
   {
    "duration": 378,
    "start_time": "2022-05-23T14:57:07.086Z"
   },
   {
    "duration": 10,
    "start_time": "2022-05-23T14:57:07.465Z"
   },
   {
    "duration": 10,
    "start_time": "2022-05-23T14:57:07.477Z"
   },
   {
    "duration": 4,
    "start_time": "2022-05-23T14:57:07.488Z"
   },
   {
    "duration": 8,
    "start_time": "2022-05-23T14:57:07.494Z"
   },
   {
    "duration": 12,
    "start_time": "2022-05-23T14:57:07.503Z"
   },
   {
    "duration": 4,
    "start_time": "2022-05-23T14:57:07.516Z"
   },
   {
    "duration": 7,
    "start_time": "2022-05-23T14:57:07.521Z"
   },
   {
    "duration": 175,
    "start_time": "2022-05-23T14:57:28.965Z"
   },
   {
    "duration": 423,
    "start_time": "2022-05-23T14:57:37.436Z"
   },
   {
    "duration": 1208,
    "start_time": "2022-05-23T15:00:01.509Z"
   },
   {
    "duration": 79,
    "start_time": "2022-05-23T15:00:02.718Z"
   },
   {
    "duration": 37,
    "start_time": "2022-05-23T15:00:02.799Z"
   },
   {
    "duration": 17,
    "start_time": "2022-05-23T15:00:02.838Z"
   },
   {
    "duration": 35,
    "start_time": "2022-05-23T15:00:02.857Z"
   },
   {
    "duration": 26,
    "start_time": "2022-05-23T15:00:02.894Z"
   },
   {
    "duration": 15,
    "start_time": "2022-05-23T15:00:02.922Z"
   },
   {
    "duration": 37,
    "start_time": "2022-05-23T15:00:02.939Z"
   },
   {
    "duration": 19,
    "start_time": "2022-05-23T15:00:02.977Z"
   },
   {
    "duration": 13,
    "start_time": "2022-05-23T15:00:02.997Z"
   },
   {
    "duration": 11,
    "start_time": "2022-05-23T15:00:03.011Z"
   },
   {
    "duration": 23,
    "start_time": "2022-05-23T15:00:03.023Z"
   },
   {
    "duration": 30,
    "start_time": "2022-05-23T15:00:03.048Z"
   },
   {
    "duration": 5,
    "start_time": "2022-05-23T15:00:03.081Z"
   },
   {
    "duration": 12,
    "start_time": "2022-05-23T15:00:03.087Z"
   },
   {
    "duration": 22,
    "start_time": "2022-05-23T15:00:03.101Z"
   },
   {
    "duration": 11,
    "start_time": "2022-05-23T15:00:03.124Z"
   },
   {
    "duration": 5,
    "start_time": "2022-05-23T15:00:03.136Z"
   },
   {
    "duration": 45,
    "start_time": "2022-05-23T15:00:03.143Z"
   },
   {
    "duration": 25,
    "start_time": "2022-05-23T15:00:03.190Z"
   },
   {
    "duration": 18,
    "start_time": "2022-05-23T15:00:03.216Z"
   },
   {
    "duration": 8,
    "start_time": "2022-05-23T15:00:03.236Z"
   },
   {
    "duration": 31,
    "start_time": "2022-05-23T15:00:03.245Z"
   },
   {
    "duration": 13,
    "start_time": "2022-05-23T15:00:03.278Z"
   },
   {
    "duration": 402,
    "start_time": "2022-05-23T15:00:03.293Z"
   },
   {
    "duration": 16,
    "start_time": "2022-05-23T15:00:03.697Z"
   },
   {
    "duration": 631,
    "start_time": "2022-05-23T15:00:03.715Z"
   },
   {
    "duration": 5,
    "start_time": "2022-05-23T15:00:04.347Z"
   },
   {
    "duration": 222,
    "start_time": "2022-05-23T15:00:04.353Z"
   },
   {
    "duration": 11,
    "start_time": "2022-05-23T15:00:04.577Z"
   },
   {
    "duration": 259,
    "start_time": "2022-05-23T15:00:04.589Z"
   },
   {
    "duration": 232,
    "start_time": "2022-05-23T15:00:04.850Z"
   },
   {
    "duration": 231,
    "start_time": "2022-05-23T15:00:05.084Z"
   },
   {
    "duration": 210,
    "start_time": "2022-05-23T15:00:05.317Z"
   },
   {
    "duration": 223,
    "start_time": "2022-05-23T15:00:05.529Z"
   },
   {
    "duration": 47,
    "start_time": "2022-05-23T15:00:05.754Z"
   },
   {
    "duration": 4,
    "start_time": "2022-05-23T15:00:05.803Z"
   },
   {
    "duration": 222,
    "start_time": "2022-05-23T15:00:05.808Z"
   },
   {
    "duration": 8,
    "start_time": "2022-05-23T15:00:06.032Z"
   },
   {
    "duration": 34,
    "start_time": "2022-05-23T15:00:06.041Z"
   },
   {
    "duration": 159,
    "start_time": "2022-05-23T15:00:06.079Z"
   },
   {
    "duration": 146,
    "start_time": "2022-05-23T15:00:06.240Z"
   },
   {
    "duration": 146,
    "start_time": "2022-05-23T15:00:06.388Z"
   },
   {
    "duration": 224,
    "start_time": "2022-05-23T15:00:06.536Z"
   },
   {
    "duration": 205,
    "start_time": "2022-05-23T15:00:06.762Z"
   },
   {
    "duration": 23,
    "start_time": "2022-05-23T15:00:06.968Z"
   },
   {
    "duration": 167,
    "start_time": "2022-05-23T15:00:06.992Z"
   },
   {
    "duration": 22,
    "start_time": "2022-05-23T15:00:07.161Z"
   },
   {
    "duration": 12,
    "start_time": "2022-05-23T15:00:07.184Z"
   },
   {
    "duration": 382,
    "start_time": "2022-05-23T15:00:07.198Z"
   },
   {
    "duration": 355,
    "start_time": "2022-05-23T15:00:07.581Z"
   },
   {
    "duration": 4,
    "start_time": "2022-05-23T15:00:07.938Z"
   },
   {
    "duration": 392,
    "start_time": "2022-05-23T15:00:07.944Z"
   },
   {
    "duration": 3,
    "start_time": "2022-05-23T15:00:08.338Z"
   },
   {
    "duration": 10,
    "start_time": "2022-05-23T15:00:08.342Z"
   },
   {
    "duration": 4,
    "start_time": "2022-05-23T15:00:08.353Z"
   },
   {
    "duration": 4,
    "start_time": "2022-05-23T15:00:08.374Z"
   },
   {
    "duration": 9,
    "start_time": "2022-05-23T15:00:08.379Z"
   },
   {
    "duration": 3,
    "start_time": "2022-05-23T15:00:08.390Z"
   },
   {
    "duration": 5,
    "start_time": "2022-05-23T15:00:08.394Z"
   },
   {
    "duration": 189,
    "start_time": "2022-05-23T15:05:13.833Z"
   },
   {
    "duration": 669,
    "start_time": "2022-05-23T15:05:31.037Z"
   },
   {
    "duration": 548,
    "start_time": "2022-05-23T15:05:48.540Z"
   },
   {
    "duration": 254,
    "start_time": "2022-05-23T15:34:16.006Z"
   },
   {
    "duration": 153,
    "start_time": "2022-05-23T15:34:21.149Z"
   },
   {
    "duration": 137,
    "start_time": "2022-05-23T15:35:52.506Z"
   },
   {
    "duration": 295,
    "start_time": "2022-05-23T15:36:01.336Z"
   },
   {
    "duration": 150,
    "start_time": "2022-05-23T15:37:02.177Z"
   },
   {
    "duration": 164,
    "start_time": "2022-05-23T15:37:07.302Z"
   },
   {
    "duration": 139,
    "start_time": "2022-05-23T15:37:17.098Z"
   },
   {
    "duration": 56,
    "start_time": "2022-05-23T15:43:39.041Z"
   },
   {
    "duration": 56,
    "start_time": "2022-05-23T15:46:16.037Z"
   },
   {
    "duration": 1144,
    "start_time": "2022-05-23T15:46:21.737Z"
   },
   {
    "duration": 101,
    "start_time": "2022-05-23T15:46:22.883Z"
   },
   {
    "duration": 27,
    "start_time": "2022-05-23T15:46:22.986Z"
   },
   {
    "duration": 13,
    "start_time": "2022-05-23T15:46:23.015Z"
   },
   {
    "duration": 13,
    "start_time": "2022-05-23T15:46:23.029Z"
   },
   {
    "duration": 32,
    "start_time": "2022-05-23T15:46:23.043Z"
   },
   {
    "duration": 16,
    "start_time": "2022-05-23T15:46:23.077Z"
   },
   {
    "duration": 21,
    "start_time": "2022-05-23T15:46:23.095Z"
   },
   {
    "duration": 18,
    "start_time": "2022-05-23T15:46:23.118Z"
   },
   {
    "duration": 13,
    "start_time": "2022-05-23T15:46:23.138Z"
   },
   {
    "duration": 5,
    "start_time": "2022-05-23T15:46:23.174Z"
   },
   {
    "duration": 17,
    "start_time": "2022-05-23T15:46:23.181Z"
   },
   {
    "duration": 21,
    "start_time": "2022-05-23T15:46:23.200Z"
   },
   {
    "duration": 5,
    "start_time": "2022-05-23T15:46:23.222Z"
   },
   {
    "duration": 11,
    "start_time": "2022-05-23T15:46:23.229Z"
   },
   {
    "duration": 55,
    "start_time": "2022-05-23T15:46:23.242Z"
   },
   {
    "duration": 11,
    "start_time": "2022-05-23T15:46:23.299Z"
   },
   {
    "duration": 8,
    "start_time": "2022-05-23T15:46:23.311Z"
   },
   {
    "duration": 15,
    "start_time": "2022-05-23T15:46:23.321Z"
   },
   {
    "duration": 37,
    "start_time": "2022-05-23T15:46:23.338Z"
   },
   {
    "duration": 19,
    "start_time": "2022-05-23T15:46:23.377Z"
   },
   {
    "duration": 9,
    "start_time": "2022-05-23T15:46:23.398Z"
   },
   {
    "duration": 10,
    "start_time": "2022-05-23T15:46:23.408Z"
   },
   {
    "duration": 14,
    "start_time": "2022-05-23T15:46:23.419Z"
   },
   {
    "duration": 392,
    "start_time": "2022-05-23T15:46:23.435Z"
   },
   {
    "duration": 15,
    "start_time": "2022-05-23T15:46:23.829Z"
   },
   {
    "duration": 198,
    "start_time": "2022-05-23T15:46:23.845Z"
   },
   {
    "duration": 7,
    "start_time": "2022-05-23T15:46:24.048Z"
   },
   {
    "duration": 229,
    "start_time": "2022-05-23T15:46:24.057Z"
   },
   {
    "duration": 11,
    "start_time": "2022-05-23T15:46:24.287Z"
   },
   {
    "duration": 210,
    "start_time": "2022-05-23T15:46:24.299Z"
   },
   {
    "duration": 238,
    "start_time": "2022-05-23T15:46:24.511Z"
   },
   {
    "duration": 226,
    "start_time": "2022-05-23T15:46:24.751Z"
   },
   {
    "duration": 207,
    "start_time": "2022-05-23T15:46:24.979Z"
   },
   {
    "duration": 208,
    "start_time": "2022-05-23T15:46:25.188Z"
   },
   {
    "duration": 30,
    "start_time": "2022-05-23T15:46:25.398Z"
   },
   {
    "duration": 4,
    "start_time": "2022-05-23T15:46:25.430Z"
   },
   {
    "duration": 122,
    "start_time": "2022-05-23T15:46:25.436Z"
   },
   {
    "duration": 7,
    "start_time": "2022-05-23T15:46:25.560Z"
   },
   {
    "duration": 24,
    "start_time": "2022-05-23T15:46:25.568Z"
   },
   {
    "duration": 153,
    "start_time": "2022-05-23T15:46:25.593Z"
   },
   {
    "duration": 148,
    "start_time": "2022-05-23T15:46:25.748Z"
   },
   {
    "duration": 233,
    "start_time": "2022-05-23T15:46:25.898Z"
   },
   {
    "duration": 143,
    "start_time": "2022-05-23T15:46:26.132Z"
   },
   {
    "duration": 206,
    "start_time": "2022-05-23T15:46:26.276Z"
   },
   {
    "duration": 202,
    "start_time": "2022-05-23T15:46:26.484Z"
   },
   {
    "duration": 132,
    "start_time": "2022-05-23T15:46:26.687Z"
   },
   {
    "duration": 0,
    "start_time": "2022-05-23T15:46:26.821Z"
   },
   {
    "duration": 0,
    "start_time": "2022-05-23T15:46:26.822Z"
   },
   {
    "duration": 0,
    "start_time": "2022-05-23T15:46:26.823Z"
   },
   {
    "duration": 0,
    "start_time": "2022-05-23T15:46:26.824Z"
   },
   {
    "duration": 0,
    "start_time": "2022-05-23T15:46:26.825Z"
   },
   {
    "duration": 0,
    "start_time": "2022-05-23T15:46:26.826Z"
   },
   {
    "duration": 0,
    "start_time": "2022-05-23T15:46:26.827Z"
   },
   {
    "duration": 0,
    "start_time": "2022-05-23T15:46:26.828Z"
   },
   {
    "duration": 0,
    "start_time": "2022-05-23T15:46:26.829Z"
   },
   {
    "duration": 0,
    "start_time": "2022-05-23T15:46:26.830Z"
   },
   {
    "duration": 0,
    "start_time": "2022-05-23T15:46:26.831Z"
   },
   {
    "duration": 0,
    "start_time": "2022-05-23T15:46:26.832Z"
   },
   {
    "duration": 0,
    "start_time": "2022-05-23T15:46:26.833Z"
   },
   {
    "duration": 0,
    "start_time": "2022-05-23T15:46:26.833Z"
   },
   {
    "duration": 28,
    "start_time": "2022-05-23T15:47:55.684Z"
   },
   {
    "duration": 214,
    "start_time": "2022-05-23T15:48:01.012Z"
   },
   {
    "duration": 14,
    "start_time": "2022-05-23T15:49:02.954Z"
   },
   {
    "duration": 12,
    "start_time": "2022-05-23T15:49:07.949Z"
   },
   {
    "duration": 11,
    "start_time": "2022-05-23T15:49:31.013Z"
   },
   {
    "duration": 12,
    "start_time": "2022-05-23T15:49:38.784Z"
   },
   {
    "duration": 7,
    "start_time": "2022-05-23T15:50:21.439Z"
   },
   {
    "duration": 21,
    "start_time": "2022-05-23T15:50:50.012Z"
   },
   {
    "duration": 40,
    "start_time": "2022-05-23T15:50:57.371Z"
   },
   {
    "duration": 213,
    "start_time": "2022-05-23T15:52:14.407Z"
   },
   {
    "duration": 4,
    "start_time": "2022-05-23T15:52:19.978Z"
   },
   {
    "duration": 6,
    "start_time": "2022-05-23T15:52:35.520Z"
   },
   {
    "duration": 7,
    "start_time": "2022-05-23T15:52:49.925Z"
   },
   {
    "duration": 9,
    "start_time": "2022-05-23T15:53:14.206Z"
   },
   {
    "duration": 7,
    "start_time": "2022-05-23T15:53:18.814Z"
   },
   {
    "duration": 352,
    "start_time": "2022-05-23T15:55:38.233Z"
   },
   {
    "duration": 418,
    "start_time": "2022-05-23T15:56:02.464Z"
   },
   {
    "duration": 370,
    "start_time": "2022-05-23T15:56:22.147Z"
   },
   {
    "duration": 3,
    "start_time": "2022-05-23T15:59:06.419Z"
   },
   {
    "duration": 7,
    "start_time": "2022-05-23T15:59:16.221Z"
   },
   {
    "duration": 3,
    "start_time": "2022-05-23T15:59:18.551Z"
   },
   {
    "duration": 3,
    "start_time": "2022-05-23T15:59:20.303Z"
   },
   {
    "duration": 6,
    "start_time": "2022-05-23T15:59:34.397Z"
   },
   {
    "duration": 3,
    "start_time": "2022-05-23T15:59:36.474Z"
   },
   {
    "duration": 4,
    "start_time": "2022-05-23T15:59:37.893Z"
   },
   {
    "duration": 1111,
    "start_time": "2022-05-23T16:04:33.095Z"
   },
   {
    "duration": 78,
    "start_time": "2022-05-23T16:04:34.208Z"
   },
   {
    "duration": 27,
    "start_time": "2022-05-23T16:04:34.288Z"
   },
   {
    "duration": 12,
    "start_time": "2022-05-23T16:04:34.317Z"
   },
   {
    "duration": 12,
    "start_time": "2022-05-23T16:04:34.330Z"
   },
   {
    "duration": 37,
    "start_time": "2022-05-23T16:04:34.344Z"
   },
   {
    "duration": 12,
    "start_time": "2022-05-23T16:04:34.383Z"
   },
   {
    "duration": 13,
    "start_time": "2022-05-23T16:04:34.396Z"
   },
   {
    "duration": 16,
    "start_time": "2022-05-23T16:04:34.410Z"
   },
   {
    "duration": 11,
    "start_time": "2022-05-23T16:04:34.429Z"
   },
   {
    "duration": 34,
    "start_time": "2022-05-23T16:04:34.442Z"
   },
   {
    "duration": 13,
    "start_time": "2022-05-23T16:04:34.477Z"
   },
   {
    "duration": 24,
    "start_time": "2022-05-23T16:04:34.492Z"
   },
   {
    "duration": 4,
    "start_time": "2022-05-23T16:04:34.517Z"
   },
   {
    "duration": 9,
    "start_time": "2022-05-23T16:04:34.522Z"
   },
   {
    "duration": 19,
    "start_time": "2022-05-23T16:04:34.533Z"
   },
   {
    "duration": 25,
    "start_time": "2022-05-23T16:04:34.556Z"
   },
   {
    "duration": 4,
    "start_time": "2022-05-23T16:04:34.582Z"
   },
   {
    "duration": 19,
    "start_time": "2022-05-23T16:04:34.588Z"
   },
   {
    "duration": 20,
    "start_time": "2022-05-23T16:04:34.609Z"
   },
   {
    "duration": 17,
    "start_time": "2022-05-23T16:04:34.630Z"
   },
   {
    "duration": 30,
    "start_time": "2022-05-23T16:04:34.649Z"
   },
   {
    "duration": 9,
    "start_time": "2022-05-23T16:04:34.681Z"
   },
   {
    "duration": 13,
    "start_time": "2022-05-23T16:04:34.691Z"
   },
   {
    "duration": 362,
    "start_time": "2022-05-23T16:04:34.706Z"
   },
   {
    "duration": 18,
    "start_time": "2022-05-23T16:04:35.069Z"
   },
   {
    "duration": 191,
    "start_time": "2022-05-23T16:04:35.089Z"
   },
   {
    "duration": 5,
    "start_time": "2022-05-23T16:04:35.283Z"
   },
   {
    "duration": 197,
    "start_time": "2022-05-23T16:04:35.289Z"
   },
   {
    "duration": 11,
    "start_time": "2022-05-23T16:04:35.487Z"
   },
   {
    "duration": 218,
    "start_time": "2022-05-23T16:04:35.500Z"
   },
   {
    "duration": 217,
    "start_time": "2022-05-23T16:04:35.720Z"
   },
   {
    "duration": 214,
    "start_time": "2022-05-23T16:04:35.939Z"
   },
   {
    "duration": 224,
    "start_time": "2022-05-23T16:04:36.154Z"
   },
   {
    "duration": 217,
    "start_time": "2022-05-23T16:04:36.380Z"
   },
   {
    "duration": 32,
    "start_time": "2022-05-23T16:04:36.598Z"
   },
   {
    "duration": 5,
    "start_time": "2022-05-23T16:04:36.631Z"
   },
   {
    "duration": 132,
    "start_time": "2022-05-23T16:04:36.637Z"
   },
   {
    "duration": 6,
    "start_time": "2022-05-23T16:04:36.774Z"
   },
   {
    "duration": 29,
    "start_time": "2022-05-23T16:04:36.782Z"
   },
   {
    "duration": 153,
    "start_time": "2022-05-23T16:04:36.813Z"
   },
   {
    "duration": 145,
    "start_time": "2022-05-23T16:04:36.974Z"
   },
   {
    "duration": 231,
    "start_time": "2022-05-23T16:04:37.121Z"
   },
   {
    "duration": 139,
    "start_time": "2022-05-23T16:04:37.354Z"
   },
   {
    "duration": 197,
    "start_time": "2022-05-23T16:04:37.494Z"
   },
   {
    "duration": 209,
    "start_time": "2022-05-23T16:04:37.693Z"
   },
   {
    "duration": 19,
    "start_time": "2022-05-23T16:04:37.903Z"
   },
   {
    "duration": 169,
    "start_time": "2022-05-23T16:04:37.923Z"
   },
   {
    "duration": 11,
    "start_time": "2022-05-23T16:04:38.093Z"
   },
   {
    "duration": 14,
    "start_time": "2022-05-23T16:04:38.105Z"
   },
   {
    "duration": 6,
    "start_time": "2022-05-23T16:04:38.120Z"
   },
   {
    "duration": 374,
    "start_time": "2022-05-23T16:04:38.127Z"
   },
   {
    "duration": 376,
    "start_time": "2022-05-23T16:04:38.502Z"
   },
   {
    "duration": 5,
    "start_time": "2022-05-23T16:04:38.879Z"
   },
   {
    "duration": 353,
    "start_time": "2022-05-23T16:04:38.885Z"
   },
   {
    "duration": 3,
    "start_time": "2022-05-23T16:04:39.239Z"
   },
   {
    "duration": 8,
    "start_time": "2022-05-23T16:04:39.243Z"
   },
   {
    "duration": 6,
    "start_time": "2022-05-23T16:04:39.252Z"
   },
   {
    "duration": 16,
    "start_time": "2022-05-23T16:04:39.259Z"
   },
   {
    "duration": 8,
    "start_time": "2022-05-23T16:04:39.277Z"
   },
   {
    "duration": 4,
    "start_time": "2022-05-23T16:04:39.286Z"
   },
   {
    "duration": 5,
    "start_time": "2022-05-23T16:04:39.291Z"
   },
   {
    "duration": 1088,
    "start_time": "2022-05-23T19:07:37.406Z"
   },
   {
    "duration": 62,
    "start_time": "2022-05-23T19:07:38.495Z"
   },
   {
    "duration": 34,
    "start_time": "2022-05-23T19:07:38.559Z"
   },
   {
    "duration": 12,
    "start_time": "2022-05-23T19:07:38.595Z"
   },
   {
    "duration": 13,
    "start_time": "2022-05-23T19:07:38.608Z"
   },
   {
    "duration": 17,
    "start_time": "2022-05-23T19:07:38.622Z"
   },
   {
    "duration": 13,
    "start_time": "2022-05-23T19:07:38.641Z"
   },
   {
    "duration": 24,
    "start_time": "2022-05-23T19:07:38.676Z"
   },
   {
    "duration": 15,
    "start_time": "2022-05-23T19:07:38.701Z"
   },
   {
    "duration": 12,
    "start_time": "2022-05-23T19:07:38.718Z"
   },
   {
    "duration": 7,
    "start_time": "2022-05-23T19:07:38.731Z"
   },
   {
    "duration": 14,
    "start_time": "2022-05-23T19:07:38.739Z"
   },
   {
    "duration": 33,
    "start_time": "2022-05-23T19:07:38.755Z"
   },
   {
    "duration": 5,
    "start_time": "2022-05-23T19:07:38.789Z"
   },
   {
    "duration": 9,
    "start_time": "2022-05-23T19:07:38.796Z"
   },
   {
    "duration": 19,
    "start_time": "2022-05-23T19:07:38.806Z"
   },
   {
    "duration": 10,
    "start_time": "2022-05-23T19:07:38.827Z"
   },
   {
    "duration": 6,
    "start_time": "2022-05-23T19:07:38.838Z"
   },
   {
    "duration": 43,
    "start_time": "2022-05-23T19:07:38.845Z"
   },
   {
    "duration": 20,
    "start_time": "2022-05-23T19:07:38.890Z"
   },
   {
    "duration": 14,
    "start_time": "2022-05-23T19:07:38.912Z"
   },
   {
    "duration": 9,
    "start_time": "2022-05-23T19:07:38.928Z"
   },
   {
    "duration": 37,
    "start_time": "2022-05-23T19:07:38.938Z"
   },
   {
    "duration": 22,
    "start_time": "2022-05-23T19:07:38.977Z"
   },
   {
    "duration": 355,
    "start_time": "2022-05-23T19:07:39.001Z"
   },
   {
    "duration": 24,
    "start_time": "2022-05-23T19:07:39.357Z"
   },
   {
    "duration": 198,
    "start_time": "2022-05-23T19:07:39.382Z"
   },
   {
    "duration": 6,
    "start_time": "2022-05-23T19:07:39.585Z"
   },
   {
    "duration": 228,
    "start_time": "2022-05-23T19:07:39.593Z"
   },
   {
    "duration": 10,
    "start_time": "2022-05-23T19:07:39.822Z"
   },
   {
    "duration": 246,
    "start_time": "2022-05-23T19:07:39.834Z"
   },
   {
    "duration": 219,
    "start_time": "2022-05-23T19:07:40.082Z"
   },
   {
    "duration": 213,
    "start_time": "2022-05-23T19:07:40.303Z"
   },
   {
    "duration": 216,
    "start_time": "2022-05-23T19:07:40.518Z"
   },
   {
    "duration": 223,
    "start_time": "2022-05-23T19:07:40.737Z"
   },
   {
    "duration": 43,
    "start_time": "2022-05-23T19:07:40.962Z"
   },
   {
    "duration": 4,
    "start_time": "2022-05-23T19:07:41.006Z"
   },
   {
    "duration": 125,
    "start_time": "2022-05-23T19:07:41.011Z"
   },
   {
    "duration": 6,
    "start_time": "2022-05-23T19:07:41.137Z"
   },
   {
    "duration": 31,
    "start_time": "2022-05-23T19:07:41.144Z"
   },
   {
    "duration": 148,
    "start_time": "2022-05-23T19:07:41.176Z"
   },
   {
    "duration": 155,
    "start_time": "2022-05-23T19:07:41.325Z"
   },
   {
    "duration": 220,
    "start_time": "2022-05-23T19:07:41.481Z"
   },
   {
    "duration": 130,
    "start_time": "2022-05-23T19:07:41.702Z"
   },
   {
    "duration": 210,
    "start_time": "2022-05-23T19:07:41.833Z"
   },
   {
    "duration": 218,
    "start_time": "2022-05-23T19:07:42.045Z"
   },
   {
    "duration": 32,
    "start_time": "2022-05-23T19:07:42.264Z"
   },
   {
    "duration": 198,
    "start_time": "2022-05-23T19:07:42.298Z"
   },
   {
    "duration": 11,
    "start_time": "2022-05-23T19:07:42.498Z"
   },
   {
    "duration": 11,
    "start_time": "2022-05-23T19:07:42.510Z"
   },
   {
    "duration": 11,
    "start_time": "2022-05-23T19:07:42.522Z"
   },
   {
    "duration": 474,
    "start_time": "2022-05-23T19:07:42.535Z"
   },
   {
    "duration": 458,
    "start_time": "2022-05-23T19:07:43.011Z"
   },
   {
    "duration": 12,
    "start_time": "2022-05-23T19:07:43.471Z"
   },
   {
    "duration": 477,
    "start_time": "2022-05-23T19:07:43.485Z"
   },
   {
    "duration": 3,
    "start_time": "2022-05-23T19:07:43.963Z"
   },
   {
    "duration": 8,
    "start_time": "2022-05-23T19:07:43.974Z"
   },
   {
    "duration": 18,
    "start_time": "2022-05-23T19:07:43.985Z"
   },
   {
    "duration": 9,
    "start_time": "2022-05-23T19:07:44.004Z"
   },
   {
    "duration": 9,
    "start_time": "2022-05-23T19:07:44.014Z"
   },
   {
    "duration": 9,
    "start_time": "2022-05-23T19:07:44.025Z"
   },
   {
    "duration": 8,
    "start_time": "2022-05-23T19:07:44.035Z"
   }
  ],
  "kernelspec": {
   "display_name": "Python 3 (ipykernel)",
   "language": "python",
   "name": "python3"
  },
  "language_info": {
   "codemirror_mode": {
    "name": "ipython",
    "version": 3
   },
   "file_extension": ".py",
   "mimetype": "text/x-python",
   "name": "python",
   "nbconvert_exporter": "python",
   "pygments_lexer": "ipython3",
   "version": "3.9.5"
  },
  "toc": {
   "base_numbering": 1,
   "nav_menu": {},
   "number_sections": true,
   "sideBar": true,
   "skip_h1_title": true,
   "title_cell": "Table of Contents",
   "title_sidebar": "Contents",
   "toc_cell": false,
   "toc_position": {
    "height": "calc(100% - 180px)",
    "left": "10px",
    "top": "150px",
    "width": "353px"
   },
   "toc_section_display": true,
   "toc_window_display": false
  }
 },
 "nbformat": 4,
 "nbformat_minor": 2
}
